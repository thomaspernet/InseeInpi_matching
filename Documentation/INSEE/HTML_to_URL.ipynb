{
 "cells": [
  {
   "cell_type": "code",
   "execution_count": 1,
   "metadata": {},
   "outputs": [],
   "source": [
    "import pandas as pd"
   ]
  },
  {
   "cell_type": "code",
   "execution_count": 2,
   "metadata": {},
   "outputs": [],
   "source": [
    "(pd.read_html(\"dessinstocketablissement.html\")[0]\n",
    " .iloc[:, 1:]\n",
    " .assign(url = lambda x:\n",
    "        'https://www.sirene.fr/sirene/public/variable/' + x['Nom'])\n",
    " .reindex(columns = ['Nom', 'Libellé',\n",
    "                    'url', 'Longueur', 'Type', 'Ordre'])\n",
    " .to_csv('etabs.csv', index = False)\n",
    ")"
   ]
  },
  {
   "cell_type": "code",
   "execution_count": 3,
   "metadata": {},
   "outputs": [],
   "source": [
    "temp = (pd.read_html(\"dessinstockunitelegale.html\")[0]\n",
    " .iloc[1:, :]\n",
    ")\n",
    "temp.columns =['Nom', 'Libellé','Longueur', 'Type', 'Ordre']\n",
    "(temp\n",
    " .assign(url = lambda x:\n",
    "        'https://www.sirene.fr/sirene/public/variable/' + x['Nom'])\n",
    " .reindex(columns = ['Nom', 'Libellé',\n",
    "                    'url', 'Longueur', 'Type', 'Ordre'])\n",
    " .to_csv('ul.csv', index = False)\n",
    ")"
   ]
  }
 ],
 "metadata": {
  "kernelspec": {
   "display_name": "Python 3",
   "language": "python",
   "name": "python3"
  },
  "language_info": {
   "codemirror_mode": {
    "name": "ipython",
    "version": 3
   },
   "file_extension": ".py",
   "mimetype": "text/x-python",
   "name": "python",
   "nbconvert_exporter": "python",
   "pygments_lexer": "ipython3",
   "version": "3.7.6"
  },
  "toc": {
   "base_numbering": 1,
   "nav_menu": {},
   "number_sections": true,
   "sideBar": true,
   "skip_h1_title": false,
   "title_cell": "Table of Contents",
   "title_sidebar": "Contents",
   "toc_cell": false,
   "toc_position": {},
   "toc_section_display": true,
   "toc_window_display": false
  }
 },
 "nbformat": 4,
 "nbformat_minor": 2
}
