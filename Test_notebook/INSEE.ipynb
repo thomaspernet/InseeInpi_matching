{
 "cells": [
  {
   "cell_type": "markdown",
   "metadata": {},
   "source": [
    "# Donnée INSEE"
   ]
  },
  {
   "cell_type": "code",
   "execution_count": null,
   "metadata": {},
   "outputs": [],
   "source": [
    "import pandas \n",
    "import os\n",
    "import zipfile \n",
    "import shutil\n",
    "import re\n",
    "import pandas as pd\n",
    "#from tqdm import tqdm_notebook as tqdm\n",
    "import boto3\n",
    "from sagemaker import get_execution_role\n",
    "import dask.dataframe as dd"
   ]
  },
  {
   "cell_type": "code",
   "execution_count": null,
   "metadata": {},
   "outputs": [],
   "source": [
    "role = get_execution_role()\n",
    "ul = 'StockUniteLegale_utf8.csv'\n",
    "ets = 'StockEtablissement_utf8.csv'\n",
    "data_ul = 'https://calfdata.s3.eu-west-3.amazonaws.com/INSEE/Stock/UL/{}'.format(ul)\n",
    "data_ets = 'https://calfdata.s3.eu-west-3.amazonaws.com/INSEE/Stock/ETS/{}'.format(ets)\n",
    "#calfdata/INSEE/Stock/UL\n",
    "#'https://finditcalf.s3.eu-west-3.amazonaws.com/test/0101_1_20170512_112544_1_PM.csv'"
   ]
  },
  {
   "cell_type": "code",
   "execution_count": null,
   "metadata": {},
   "outputs": [],
   "source": [
    "df_ul_= dd.read_csv(data_ul, \n",
    "                    usecols = ['siren']\n",
    "    #             dtype={'denominationUsuelle2UniteLegale': 'object',\n",
    "    #   'denominationUsuelle3UniteLegale': 'object',\n",
    "    #   'identifiantAssociationUniteLegale': 'object',\n",
    "    #   'pseudonymeUniteLegale': 'object'}\n",
    "                   )\n",
    "data_ets_= dd.read_csv(data_ets, \n",
    "                       usecols = ['siren', 'siret'],\n",
    "                       dtype={'siren':'object','siret':'object',\n",
    "                           #'codeCommune2Etablissement': 'object',\n",
    "       #'codeCommuneEtablissement': 'object',\n",
    "       #'codePostalEtablissement': 'float64',\n",
    "       #'complementAdresse2Etablissement': 'object',\n",
    "       #'enseigne2Etablissement': 'object',\n",
    "       #'enseigne3Etablissement': 'object',\n",
    "       #'indiceRepetition2Etablissement': 'object',\n",
    "       #'libelleCommuneEtrangerEtablissement': 'object',\n",
    "       #'libellePaysEtrangerEtablissement': 'object',\n",
    "       #'numeroVoieEtablissement': 'object'\n",
    "                             }\n",
    "                      )"
   ]
  },
  {
   "cell_type": "code",
   "execution_count": null,
   "metadata": {},
   "outputs": [],
   "source": [
    "df_ul_.head()"
   ]
  },
  {
   "cell_type": "code",
   "execution_count": null,
   "metadata": {},
   "outputs": [],
   "source": [
    "data_ets_.head()"
   ]
  },
  {
   "cell_type": "code",
   "execution_count": null,
   "metadata": {},
   "outputs": [],
   "source": [
    "data_ets_.apply(\n",
    "    lambda x: \n",
    "    len(x['siren']\n",
    "                   ), axis=1\n",
    "               ).compute().median()  "
   ]
  },
  {
   "cell_type": "code",
   "execution_count": null,
   "metadata": {},
   "outputs": [],
   "source": [
    "df_ul_.head()"
   ]
  },
  {
   "cell_type": "code",
   "execution_count": null,
   "metadata": {},
   "outputs": [],
   "source": [
    "5 ** 5"
   ]
  },
  {
   "cell_type": "markdown",
   "metadata": {},
   "source": [
    "## Test \n",
    "\n",
    "Distribution du nombre d'etablissement par siren "
   ]
  },
  {
   "cell_type": "code",
   "execution_count": null,
   "metadata": {},
   "outputs": [],
   "source": [
    "df_ul_.describe().compute()  "
   ]
  },
  {
   "cell_type": "code",
   "execution_count": null,
   "metadata": {},
   "outputs": [],
   "source": [
    "data_ets_.describe().compute()  "
   ]
  },
  {
   "cell_type": "code",
   "execution_count": null,
   "metadata": {},
   "outputs": [],
   "source": [
    "import seaborn as sns"
   ]
  },
  {
   "cell_type": "code",
   "execution_count": null,
   "metadata": {},
   "outputs": [],
   "source": [
    "%%time\n",
    "test = (data_ets_\n",
    "        .groupby('siren')['siren']\n",
    "        .count()\n",
    "        .rename('count')\n",
    "        .reset_index()\n",
    "        .groupby('count')\n",
    "        .count()\n",
    "        .compute()\n",
    "        .assign(pct = lambda x:x/x.sum())\n",
    "       )"
   ]
  },
  {
   "cell_type": "code",
   "execution_count": null,
   "metadata": {},
   "outputs": [],
   "source": [
    "test.head().style.format('{:,.2%}', subset =  ['pct'])"
   ]
  },
  {
   "cell_type": "code",
   "execution_count": null,
   "metadata": {},
   "outputs": [],
   "source": [
    "test['siren'].describe()"
   ]
  }
 ],
 "metadata": {
  "kernelspec": {
   "display_name": "conda_python3",
   "language": "python",
   "name": "conda_python3"
  },
  "language_info": {
   "codemirror_mode": {
    "name": "ipython",
    "version": 3
   },
   "file_extension": ".py",
   "mimetype": "text/x-python",
   "name": "python",
   "nbconvert_exporter": "python",
   "pygments_lexer": "ipython3",
   "version": "3.6.5"
  },
  "toc": {
   "base_numbering": 1,
   "nav_menu": {},
   "number_sections": true,
   "sideBar": true,
   "skip_h1_title": false,
   "title_cell": "Table of Contents",
   "title_sidebar": "Contents",
   "toc_cell": false,
   "toc_position": {},
   "toc_section_display": true,
   "toc_window_display": false
  }
 },
 "nbformat": 4,
 "nbformat_minor": 4
}
