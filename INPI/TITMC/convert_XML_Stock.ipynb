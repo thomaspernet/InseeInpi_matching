{
 "cells": [
  {
   "cell_type": "code",
   "execution_count": null,
   "metadata": {
    "Collapsed": "false"
   },
   "outputs": [],
   "source": [
    "import extractTITMC as titmc\n",
    "from tqdm.notebook import tqdm\n",
    "import zipfile\n",
    "import glob\n",
    "import os\n",
    "import pprint\n",
    "pp = pprint.PrettyPrinter(indent=4, depth=6)\n",
    "os.getcwd()"
   ]
  },
  {
   "cell_type": "code",
   "execution_count": null,
   "metadata": {
    "Collapsed": "false"
   },
   "outputs": [],
   "source": [
    "%load_ext autoreload\n",
    "%autoreload 2"
   ]
  },
  {
   "cell_type": "markdown",
   "metadata": {
    "Collapsed": "false"
   },
   "source": [
    "# Unzip XML and run code\n",
    "\n",
    "Double checker avec le moteur de recherche INPI: https://data.inpi.fr/\n",
    "\n",
    "Le path des data:\n",
    "\n",
    "`C:\\Users\\PERNETTH\\Documents\\Projects\\Data\\INPI\\Subsample\\TITMC\\Raw\\Stock\\05`"
   ]
  },
  {
   "cell_type": "markdown",
   "metadata": {},
   "source": [
    "### Toutes les valeurs"
   ]
  },
  {
   "cell_type": "code",
   "execution_count": null,
   "metadata": {},
   "outputs": [],
   "source": [
    "batch_ = []\n",
    "path = r\"C:\\Users\\PERNETTH\\Documents\\Projects\\GitLab\\CreationDataBase\\RawData\\titmc\\stock\\2018\\05\\05\"\n",
    "\n",
    "for file in tqdm(glob.glob('{}\\*.zip'.format(path))):\n",
    "    zipfilePath = (file)\n",
    "    zip = zipfile.ZipFile(zipfilePath)\n",
    "    zip.extractall(\".\")\n",
    "    zip.close()\n",
    "    filename = os.path.basename(file).split('.')[0]\n",
    "    filename_xml = \"{}.xml\".format(filename)\n",
    "    data = titmc.getTITMCData(filename_xml)\n",
    "    batch_.extend(data)\n",
    "    os.remove(filename_xml)"
   ]
  },
  {
   "cell_type": "code",
   "execution_count": null,
   "metadata": {},
   "outputs": [],
   "source": [
    "len(batch_)"
   ]
  },
  {
   "cell_type": "markdown",
   "metadata": {},
   "source": [
    "### Save to json\n",
    "\n",
    "L'ensemble des stocks font 550mo"
   ]
  },
  {
   "cell_type": "code",
   "execution_count": null,
   "metadata": {},
   "outputs": [],
   "source": [
    "with open('TITMC_stock.json', 'w') as fp:\n",
    "    json.dump(batch_, fp)"
   ]
  }
 ],
 "metadata": {
  "kernelspec": {
   "display_name": "Python 3",
   "language": "python",
   "name": "python3"
  },
  "language_info": {
   "codemirror_mode": {
    "name": "ipython",
    "version": 3
   },
   "file_extension": ".py",
   "mimetype": "text/x-python",
   "name": "python",
   "nbconvert_exporter": "python",
   "pygments_lexer": "ipython3",
   "version": "3.7.6"
  },
  "toc": {
   "base_numbering": 1,
   "nav_menu": {},
   "number_sections": true,
   "sideBar": true,
   "skip_h1_title": false,
   "title_cell": "Table of Contents",
   "title_sidebar": "Contents",
   "toc_cell": false,
   "toc_position": {
    "height": "calc(100% - 180px)",
    "left": "10px",
    "top": "150px",
    "width": "234px"
   },
   "toc_section_display": true,
   "toc_window_display": true
  }
 },
 "nbformat": 4,
 "nbformat_minor": 4
}
