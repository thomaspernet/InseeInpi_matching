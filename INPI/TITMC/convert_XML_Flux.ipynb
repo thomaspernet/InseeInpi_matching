{
 "cells": [
  {
   "cell_type": "code",
   "execution_count": null,
   "metadata": {
    "Collapsed": "false"
   },
   "outputs": [],
   "source": [
    "import extractTITMC as titmc\n",
    "from tqdm.notebook import tqdm\n",
    "import zipfile\n",
    "import glob\n",
    "import os\n",
    "import pprint\n",
    "pp = pprint.PrettyPrinter(indent=4, depth=6)\n",
    "os.getcwd()"
   ]
  },
  {
   "cell_type": "code",
   "execution_count": null,
   "metadata": {
    "Collapsed": "false"
   },
   "outputs": [],
   "source": [
    "%load_ext autoreload\n",
    "%autoreload 2"
   ]
  },
  {
   "cell_type": "markdown",
   "metadata": {
    "Collapsed": "false"
   },
   "source": [
    "# Unzip XML and run code\n",
    "\n",
    "Double checker avec le moteur de recherche INPI: https://data.inpi.fr/\n",
    "\n",
    "Le path des data:\n",
    "\n",
    "`C:\\Users\\PERNETTH\\Documents\\Projects\\Data\\INPI\\All\\TITMC\\Raw\\Flux`\n",
    "\n",
    "Les flux sont composés d'années, de mois et de jours.\n",
    "\n",
    "Il faut iterer sur plusieurs sous dossier.\n",
    "\n",
    "Steps:\n",
    "\n",
    "- Créer une liste avec l'ensemble des paths contenants les XLM\n",
    "\n",
    "## Attention \n",
    "\n",
    "Les fichiers de flux en provenance des greffes sont transmis à une fréquence quotidienne, en fonction de l’actualité des greffes.\n",
    "Il est possible que certains jours, certains greffes n’envoient pas de données, ou bien que certains greffes envoient plusieurs flux de données par jour.\n",
    "Les fichiers de flux sont répartis dans 2 sous répertoires en fonction de leur provenance :\n",
    "\n",
    "- Tribunaux d’instance et mixtes de commerce : répertoire public > IMR_Données_Saisies > titmc > flux\n",
    "\n",
    "A l’intérieur de ces répertoires, les fichiers sont organisés par date de transmission, puis par greffe, puis par numéro de transmission. Ils sont accompagnés de fichiers md5.\n",
    "\n",
    "Exemple:\n",
    "\n",
    "* 20180531220508TITMCFLUX ->20180531 2205 08\n",
    "  *  date de transmission: 20180531\n",
    "  * greffe:\n",
    "  * numéro de transmission:"
   ]
  },
  {
   "cell_type": "code",
   "execution_count": null,
   "metadata": {},
   "outputs": [],
   "source": [
    "import re"
   ]
  },
  {
   "cell_type": "code",
   "execution_count": null,
   "metadata": {},
   "outputs": [],
   "source": [
    "path = r\"C:\\Users\\PERNETTH\\Documents\\Projects\\GitLab\\CreationDataBase\\RawData\\titmc\\flux\"\n",
    "list_zip = []\n",
    "\n",
    "reg2017 = '|2019'.join(['201701', '02',\n",
    "                        '03', '04',\n",
    "                        '05', '06', '07',\n",
    "                        '08', '09', '10',\n",
    "                        '11', '12'])\n",
    "regex2018 = '|2018'.join(['201806', '07', '08', '09', '10', '11', '12'])\n",
    "regex = '{}|{}'.format(reg2017, regex2018)\n",
    "\n",
    "for root, dirs, files in os.walk(path):\n",
    "    # Test-> on veut pas avant mai 2018\n",
    "    for name in files:\n",
    "        if name.endswith((\".zip\")):\n",
    "            matches = re.search(regex, name)\n",
    "            if matches:\n",
    "                path_xml = \"{}\\{}\".format(\n",
    "                    root,\n",
    "                    name)\n",
    "                list_zip.append(path_xml)\n",
    "            else:\n",
    "                pass"
   ]
  },
  {
   "cell_type": "code",
   "execution_count": null,
   "metadata": {},
   "outputs": [],
   "source": [
    "len(list_zip)"
   ]
  },
  {
   "cell_type": "code",
   "execution_count": null,
   "metadata": {},
   "outputs": [],
   "source": [
    "list_zip[3]"
   ]
  },
  {
   "cell_type": "markdown",
   "metadata": {
    "heading_collapsed": true
   },
   "source": [
    "### Toutes les valeurs"
   ]
  },
  {
   "cell_type": "code",
   "execution_count": null,
   "metadata": {
    "hidden": true
   },
   "outputs": [],
   "source": [
    "batch_ = []\n",
    "#path = r\"C:\\Users\\PERNETTH\\Documents\\Projects\\Data\\INPI\\All\\TITMC\\Raw\\Stock\\05\"\n",
    "\n",
    "for file in tqdm(list_zip):\n",
    "    zipfilePath = (file)\n",
    "    zip = zipfile.ZipFile(zipfilePath)\n",
    "    zip.extractall(\".\")\n",
    "    zip.close()\n",
    "    filename = os.path.basename(file).split('.')[0]\n",
    "    filename_xml = \"{}.xml\".format(filename)\n",
    "    data = titmc.getTITMCData(filename_xml)\n",
    "    batch_.extend(data)\n",
    "    os.remove(filename_xml)"
   ]
  },
  {
   "cell_type": "code",
   "execution_count": null,
   "metadata": {
    "hidden": true
   },
   "outputs": [],
   "source": [
    "len(batch_)"
   ]
  },
  {
   "cell_type": "code",
   "execution_count": null,
   "metadata": {
    "hidden": true
   },
   "outputs": [],
   "source": [
    "for i, value in enumerate(data):\n",
    "    if value[\"SIREN\"] == '852372861':\n",
    "        pp.pprint(data[i])"
   ]
  },
  {
   "cell_type": "markdown",
   "metadata": {
    "heading_collapsed": true
   },
   "source": [
    "### Save to json\n",
    "\n",
    "L'ensemble des stocks font 550mo"
   ]
  },
  {
   "cell_type": "code",
   "execution_count": null,
   "metadata": {
    "hidden": true
   },
   "outputs": [],
   "source": [
    "with open('TITMC_flux.json', 'w') as fp:\n",
    "    json.dump(batch_, fp)"
   ]
  }
 ],
 "metadata": {
  "kernelspec": {
   "display_name": "Python 3",
   "language": "python",
   "name": "python3"
  },
  "language_info": {
   "codemirror_mode": {
    "name": "ipython",
    "version": 3
   },
   "file_extension": ".py",
   "mimetype": "text/x-python",
   "name": "python",
   "nbconvert_exporter": "python",
   "pygments_lexer": "ipython3",
   "version": "3.7.6"
  },
  "toc": {
   "base_numbering": 1,
   "nav_menu": {},
   "number_sections": true,
   "sideBar": true,
   "skip_h1_title": false,
   "title_cell": "Table of Contents",
   "title_sidebar": "Contents",
   "toc_cell": false,
   "toc_position": {
    "height": "calc(100% - 180px)",
    "left": "10px",
    "top": "150px",
    "width": "234px"
   },
   "toc_section_display": true,
   "toc_window_display": true
  }
 },
 "nbformat": 4,
 "nbformat_minor": 4
}
