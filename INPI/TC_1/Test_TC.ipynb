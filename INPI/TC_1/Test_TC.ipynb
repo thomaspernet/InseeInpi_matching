{
 "cells": [
  {
   "cell_type": "code",
   "execution_count": 2,
   "metadata": {},
   "outputs": [],
   "source": [
    "import zipfile \n",
    "import os\n",
    "import glob\n",
    "import re\n",
    "import shutil\n",
    "import csv\n",
    "import gzip\n",
    "from tqdm.notebook import tqdm"
   ]
  },
  {
   "cell_type": "markdown",
   "metadata": {},
   "source": [
    "# TC \n",
    "\n",
    "- Stock\n",
    "\n",
    "path : `G:\\Projets\\PP2019\\2019_PROGRAMME BATICA\\DATA\\INPI\\sources\\IMR_Donnees_Saisies\\tc\\stock`\n",
    "\n",
    "On classe les csv selon leur balise:\n",
    "\n",
    "- PM\n",
    "- PP\n",
    "- REP\n",
    "- ETS\n",
    "- OBS\n",
    "- ACTES\n",
    "- CA\n",
    "\n",
    "Faire un log pour etre sur que chaque csv a les mêmes colonnes"
   ]
  },
  {
   "cell_type": "code",
   "execution_count": null,
   "metadata": {},
   "outputs": [],
   "source": [
    "def moveCSVStock(pathcsv,pathsave):\n",
    "    \"\"\"\n",
    "    \"\"\"\n",
    "    log_columns = []\n",
    "    for file in glob.glob(\"{}\\*.csv\".format(pathcsv)):\n",
    "        for i in [\"PM\", \"PP\", \"rep\", \"ets\", \"actes\", \"comptes_annuels\", \"obs\"]:\n",
    "            #\n",
    "            matches = re.search(i, file)\n",
    "            if matches:\n",
    "                dic_files_col = {}\n",
    "                filename = os.path.basename(file)\n",
    "                new_des = \"{}\\{}\\{}\".format(pathsave, i.upper(), filename)\n",
    "                with open(filename, \"r\", encoding=\"utf-8\") as f:\n",
    "                    reader = csv.reader(f)\n",
    "\n",
    "                    col = next(reader)\n",
    "                    dic_files_col[\"filename\"] = filename\n",
    "                    dic_files_col[\"origin\"] = i\n",
    "                    dic_files_col[\"columns\"] = col\n",
    "                    row_count = sum(1 for line in f)\n",
    "                    dic_files_col[\"rows_count\"] = row_count\n",
    "                log_columns.append(dic_files_col)\n",
    "                ### save as gzip\n",
    "                shutil.move(file, new_des)\n",
    "\n",
    "    return log_columns"
   ]
  },
  {
   "cell_type": "markdown",
   "metadata": {},
   "source": [
    "## Stock\n",
    "\n",
    "Il y a deux types de stocks: \n",
    "\n",
    "- Le stock initial constitué à la date du 4 mai 2017\n",
    "- Le stock partiel\n",
    "    * Des stocks partiels constitués des dossiers complets relivrés à la demande de l’INPI après détection d’anomalies ?\n",
    "    *  Les fichiers des données contenues dans les nouvelles inscriptions (immatriculations, modifications et radiations) du Registre national du commerce et des sociétés ainsi que les informations relatives aux dépôts des actes et comptes annuels, telles que transmises par les greffes à compter du 5 mai 2017 (données de flux)."
   ]
  },
  {
   "cell_type": "markdown",
   "metadata": {},
   "source": [
    "### Stock initial"
   ]
  },
  {
   "cell_type": "code",
   "execution_count": null,
   "metadata": {},
   "outputs": [],
   "source": [
    "path = r\"G:\\Projets\\PP2019\\2019_PROGRAMME BATICA\\DATA\\INPI\\sources\\IMR_Donnees_Saisies\\tc\\stock\\2017\\05\\04\"\n",
    "list_zip = []\n",
    "for root, dirs, files in os.walk(path):\n",
    "    # Test-> on veut pas avant mai 2018\n",
    "    for name in files:\n",
    "        if name.endswith((\".zip\")):\n",
    "            path_xml = \"{}\\{}\".format(\n",
    "                    root,\n",
    "                    name)\n",
    "            list_zip.append(path_xml)"
   ]
  },
  {
   "cell_type": "code",
   "execution_count": null,
   "metadata": {},
   "outputs": [],
   "source": [
    "len(list_zip)"
   ]
  },
  {
   "cell_type": "code",
   "execution_count": null,
   "metadata": {},
   "outputs": [],
   "source": [
    "pathsave = r\"C:\\Users\\PERNETTH\\Documents\\Projects\\GitLab\\CreationDataBase\\INPI\\TC_1\\Stock\\Stock_initial\"\n",
    "pathcsv = os.getcwd()\n",
    "list_columns_csv = []\n",
    "for file in tqdm(list_zip):\n",
    "    zipfilePath = (file)\n",
    "    zip = zipfile.ZipFile(zipfilePath)\n",
    "    zip.extractall(\".\")\n",
    "    zip.close()\n",
    "    col = moveCSVStock(pathcsv, pathsave)\n",
    "    list_columns_csv.append(col)"
   ]
  },
  {
   "cell_type": "code",
   "execution_count": null,
   "metadata": {},
   "outputs": [],
   "source": [
    "len(list_columns_csv)"
   ]
  },
  {
   "cell_type": "code",
   "execution_count": null,
   "metadata": {},
   "outputs": [],
   "source": [
    "with open('conformiter_stock_initial.json', 'w') as outfile:\n",
    "    json.dump(list_columns_csv, outfile)"
   ]
  },
  {
   "cell_type": "markdown",
   "metadata": {},
   "source": [
    "### Stock partiel\n",
    "\n",
    "Les données de 2019 ne sont pas disponibles entièrement"
   ]
  },
  {
   "cell_type": "code",
   "execution_count": null,
   "metadata": {},
   "outputs": [],
   "source": [
    "for year in [2018, 2019]:\n",
    "    path = r\"G:\\Projets\\PP2019\\2019_PROGRAMME BATICA\\DATA\\INPI\\sources\\IMR_Donnees_Saisies\\tc\\stock\\{}\".format(year)\n",
    "    list_zip = []\n",
    "    for root, dirs, files in os.walk(path):\n",
    "        # Test-> on veut pas avant mai 2018\n",
    "        for name in files:\n",
    "            if name.endswith((\".zip\")):\n",
    "                path_xml = \"{}\\{}\".format(\n",
    "                    root,\n",
    "                    name)\n",
    "                list_zip.append(path_xml)"
   ]
  },
  {
   "cell_type": "code",
   "execution_count": null,
   "metadata": {},
   "outputs": [],
   "source": [
    "len(list_zip)"
   ]
  },
  {
   "cell_type": "code",
   "execution_count": null,
   "metadata": {},
   "outputs": [],
   "source": [
    "pathsave = r\"C:\\Users\\PERNETTH\\Documents\\Projects\\GitLab\\CreationDataBase\\INPI\\TC_1\\Stock\\Stock_partiel\"\n",
    "pathcsv = os.getcwd()\n",
    "list_columns_csv = []\n",
    "for file in tqdm(list_zip):\n",
    "    zipfilePath = (file)\n",
    "    zip = zipfile.ZipFile(zipfilePath)\n",
    "    zip.extractall(\".\")\n",
    "    zip.close()\n",
    "    col = moveCSVStock(pathcsv, pathsave)\n",
    "    list_columns_csv.append(col)"
   ]
  },
  {
   "cell_type": "markdown",
   "metadata": {},
   "source": [
    "## Flux\n",
    "\n",
    "Données de 2018 et 2019 incomplètent.\n",
    "\n",
    "- Les données de 2018 ne proviennent pas de l'INPI mais de http://data.cquest.org/inpi_rncs/imr/\n",
    "- Données 2019 manquantes après mai\n",
    "\n",
    "Pour la conformité, ouvrir `Conformite.ipynb`"
   ]
  },
  {
   "cell_type": "code",
   "execution_count": null,
   "metadata": {},
   "outputs": [],
   "source": [
    "path = r\"G:\\Projets\\PP2019\\2019_PROGRAMME BATICA\\DATA\\INPI\\sources\\IMR_Donnees_Saisies\\tc\\Flux\\2017\\05\"\n",
    "list_zip = []\n",
    "for root, dirs, files in os.walk(path):\n",
    "    # Test-> on veut pas avant mai 2018\n",
    "    for name in files:\n",
    "        if name.endswith((\".csv\")):\n",
    "            path_xml = \"{}\\{}\".format(\n",
    "                    root,\n",
    "                    name)\n",
    "            list_zip.append(path_xml)"
   ]
  },
  {
   "cell_type": "code",
   "execution_count": null,
   "metadata": {},
   "outputs": [],
   "source": [
    "len(list_zip)"
   ]
  },
  {
   "cell_type": "code",
   "execution_count": null,
   "metadata": {},
   "outputs": [],
   "source": [
    "#with open('listtomove.json', 'w') as outfile:\n",
    "#    json.dump(list_zip, outfile)"
   ]
  },
  {
   "cell_type": "code",
   "execution_count": 4,
   "metadata": {},
   "outputs": [],
   "source": [
    "#from shutil import copyfile\n",
    "def moveCSVFlux(file,pathsave):\n",
    "    \"\"\"\n",
    "    \"\"\"\n",
    "    log_columns = []\n",
    "    #for file in glob.glob(\"{}\\*.csv\".format(pathcsv)):\n",
    "    for i in [\"PM\", \"PP\", \"rep\", \"ets\", \"actes\", \"comptes_annuels\", \"obs\"]:\n",
    "        filename = os.path.basename(file)\n",
    "        matches = re.search(i, filename)\n",
    "        if matches:\n",
    "            ### Check if EVT, if EVT, move to EVT folder\n",
    "            matches_evt = re.search(\"EVT\", filename)\n",
    "            if matches_evt:\n",
    "                new_des = \"{}\\{}\\EVT\\{}\".format(pathsave, i.upper(), filename)\n",
    "            else:\n",
    "                new_des = \"{}\\{}\\{}\\{}\".format(pathsave, i.upper(),'NEW', filename)\n",
    "                \n",
    "            dic_files_col = {}\n",
    "            \n",
    "            #print(new_des)\n",
    "            with open(file, \"r\", encoding=\"utf-8\") as f:\n",
    "                reader = csv.reader(f)\n",
    "\n",
    "                col = next(reader)\n",
    "                dic_files_col[\"filename\"] = filename\n",
    "                dic_files_col[\"origin\"] = i\n",
    "                dic_files_col[\"columns\"] = col\n",
    "                row_count = sum(1 for line in f)\n",
    "                dic_files_col[\"rows_count\"] = row_count\n",
    "            log_columns.append(dic_files_col)\n",
    "                ### save as gzip\n",
    "            shutil.copyfile(file, new_des)\n",
    "\n",
    "    return log_columns"
   ]
  },
  {
   "cell_type": "code",
   "execution_count": null,
   "metadata": {},
   "outputs": [],
   "source": [
    "list_zip[:1]"
   ]
  },
  {
   "cell_type": "code",
   "execution_count": null,
   "metadata": {},
   "outputs": [],
   "source": [
    "pathsave = r\"C:\\Users\\PERNETTH\\Documents\\Projects\\GitLab\\CreationDataBase\\INPI\\TC_1\\Flux\\2017\"\n",
    "pathcsv = os.getcwd()\n",
    "list_columns_csv = []\n",
    "list_failed = []\n",
    "for file in tqdm(list_zip):\n",
    "    try:\n",
    "        col = moveCSVFlux(file, pathsave)\n",
    "    except:\n",
    "        list_failed.append(file)\n",
    "    list_columns_csv.append(col)"
   ]
  },
  {
   "cell_type": "markdown",
   "metadata": {},
   "source": [
    "Problème avec les deux fichiers suivants:\n",
    "\n",
    "- ['G:\\\\Projets\\\\PP2019\\\\2019_PROGRAMME BATICA\\\\DATA\\\\INPI\\\\sources\\\\IMR_Donnees_Saisies\\\\tc\\\\Flux\\\\2017\\\\05\\\\24\\\\5601\\\\5\\\\5601_5_20170512_213441_11_obs.csv',\n",
    "- 'G:\\\\Projets\\\\PP2019\\\\2019_PROGRAMME BATICA\\\\DATA\\\\INPI\\\\sources\\\\IMR_Donnees_Saisies\\\\tc\\\\Flux\\\\2017\\\\05\\\\24\\\\8401\\\\5\\\\8401_5_20170512_212823_11_obs.csv'"
   ]
  },
  {
   "cell_type": "code",
   "execution_count": null,
   "metadata": {},
   "outputs": [],
   "source": [
    "list_failed"
   ]
  },
  {
   "cell_type": "code",
   "execution_count": null,
   "metadata": {},
   "outputs": [],
   "source": [
    "G:\\Projets\\PP2019\\2019_PROGRAMME BATICA\\DATA\\INPI\\sources\\IMR_Donnees_Saisies\\tc\\Flux\\2017\\05\\24\\5601\\5\n",
    "    \n",
    "G:\\Projets\\PP2019\\2019_PROGRAMME BATICA\\DATA\\INPI\\sources\\IMR_Donnees_Saisies\\tc\\Flux\\2017\\05\\24\\8401\\5"
   ]
  },
  {
   "cell_type": "markdown",
   "metadata": {},
   "source": [
    "### Batch\n",
    "\n",
    "On doit faire de 05 à 12"
   ]
  },
  {
   "cell_type": "code",
   "execution_count": null,
   "metadata": {},
   "outputs": [
    {
     "data": {
      "application/vnd.jupyter.widget-view+json": {
       "model_id": "3dd9d2a8e5794151a9d95b04eabff02d",
       "version_major": 2,
       "version_minor": 0
      },
      "text/plain": [
       "HBox(children=(FloatProgress(value=0.0, max=8.0), HTML(value='')))"
      ]
     },
     "metadata": {},
     "output_type": "display_data"
    },
    {
     "data": {
      "application/vnd.jupyter.widget-view+json": {
       "model_id": "0473652d526a4343a00e117ac7102ecc",
       "version_major": 2,
       "version_minor": 0
      },
      "text/plain": [
       "HBox(children=(FloatProgress(value=0.0, max=35633.0), HTML(value='')))"
      ]
     },
     "metadata": {},
     "output_type": "display_data"
    },
    {
     "name": "stdout",
     "output_type": "stream",
     "text": [
      "\n"
     ]
    },
    {
     "data": {
      "application/vnd.jupyter.widget-view+json": {
       "model_id": "8f2eacb5c540470487256c2426fc0121",
       "version_major": 2,
       "version_minor": 0
      },
      "text/plain": [
       "HBox(children=(FloatProgress(value=0.0, max=40833.0), HTML(value='')))"
      ]
     },
     "metadata": {},
     "output_type": "display_data"
    },
    {
     "name": "stdout",
     "output_type": "stream",
     "text": [
      "\n"
     ]
    },
    {
     "data": {
      "application/vnd.jupyter.widget-view+json": {
       "model_id": "7b7d2abd25174bdeb34f5a4e5d87b3ea",
       "version_major": 2,
       "version_minor": 0
      },
      "text/plain": [
       "HBox(children=(FloatProgress(value=0.0, max=35750.0), HTML(value='')))"
      ]
     },
     "metadata": {},
     "output_type": "display_data"
    }
   ],
   "source": [
    "%%time\n",
    "list_failed = []\n",
    "for mois in tqdm([\"05\",\"06\", \"07\", \"08\", \"09\", \"10\", \"11\", \"12\"]):\n",
    "    list_zip = []\n",
    "    path = r\"G:\\Projets\\PP2019\\2019_PROGRAMME BATICA\\DATA\\INPI\\sources\\IMR_Donnees_Saisies\\tc\\Flux\\2017\\{}\".format(mois)\n",
    "    pathsave = r\"C:\\Users\\PERNETTH\\Documents\\Projects\\GitLab\\CreationDataBase\\INPI\\TC_1\\Flux\\2017\\{}\".format(mois)\n",
    "    for root, dirs, files in os.walk(path):\n",
    "    # Test-> on veut pas avant mai 2018\n",
    "        for name in files:\n",
    "            if name.endswith((\".csv\")):\n",
    "                path_xml = \"{}\\{}\".format(\n",
    "                    root,\n",
    "                    name)\n",
    "                list_zip.append(path_xml)\n",
    "                \n",
    "    pathcsv = os.getcwd()\n",
    "    list_columns_csv = []\n",
    "    \n",
    "    for file in tqdm(list_zip):\n",
    "        try:\n",
    "            col = moveCSVFlux(file, pathsave)\n",
    "        except:\n",
    "            list_failed.append(file)\n",
    "        list_columns_csv.append(col)"
   ]
  },
  {
   "cell_type": "code",
   "execution_count": 21,
   "metadata": {},
   "outputs": [
    {
     "name": "stdout",
     "output_type": "stream",
     "text": [
      "Wall time: 0 ns\n"
     ]
    },
    {
     "data": {
      "text/plain": [
       "286870"
      ]
     },
     "execution_count": 21,
     "metadata": {},
     "output_type": "execute_result"
    }
   ],
   "source": [
    "len(list_failed)"
   ]
  },
  {
   "cell_type": "code",
   "execution_count": 17,
   "metadata": {},
   "outputs": [
    {
     "data": {
      "text/plain": [
       "'G:\\\\Projets\\\\PP2019\\\\2019_PROGRAMME BATICA\\\\DATA\\\\INPI\\\\sources\\\\IMR_Donnees_Saisies\\\\tc\\\\Flux\\\\2017\\\\12\\\\01\\\\0101\\\\142\\\\0101_142_20171201_095449_10_ets_supprime_EVT.csv'"
      ]
     },
     "execution_count": 17,
     "metadata": {},
     "output_type": "execute_result"
    }
   ],
   "source": [
    "list_zip[0]"
   ]
  },
  {
   "cell_type": "code",
   "execution_count": 16,
   "metadata": {},
   "outputs": [
    {
     "data": {
      "text/plain": [
       "'C:\\\\Users\\\\PERNETTH\\\\Documents\\\\Projects\\\\GitLab\\\\CreationDataBase\\\\INPI\\\\TC_1\\\\Flux\\\\2017\\\\12'"
      ]
     },
     "execution_count": 16,
     "metadata": {},
     "output_type": "execute_result"
    }
   ],
   "source": [
    "pathsave"
   ]
  },
  {
   "cell_type": "code",
   "execution_count": 19,
   "metadata": {},
   "outputs": [
    {
     "data": {
      "text/plain": [
       "[{'filename': '0101_142_20171201_095449_10_ets_supprime_EVT.csv',\n",
       "  'origin': 'ets',\n",
       "  'columns': ['\\ufeffCode Greffe;Nom_Greffe;Numero_Gestion;Siren;Type;Siège_PM;RCS_Registre;Adresse_Ligne1;Adresse_Ligne2;Adresse_Ligne3;Code_Postal;Ville;Code_Commune;Pays;Domiciliataire_Nom;Domiciliataire_Siren;Domiciliataire_Greffe;Domiciliataire_Complément;Siege_Domicile_Représentant;Nom_Commercial;Enseigne;Activité_Ambulante;Activité_Saisonnière;Activité_Non_Sédentaire;Date_Début_Activité;Activité;Origine_Fonds;Origine_Fonds_Info;Type_Exploitation;ID_Etablissement;Date_Greffe;Libelle_Evt'],\n",
       "  'rows_count': 1}]"
      ]
     },
     "execution_count": 19,
     "metadata": {},
     "output_type": "execute_result"
    }
   ],
   "source": [
    "moveCSVFlux(list_zip[0], pathsave)"
   ]
  },
  {
   "cell_type": "code",
   "execution_count": 22,
   "metadata": {},
   "outputs": [
    {
     "data": {
      "application/vnd.jupyter.widget-view+json": {
       "model_id": "91cbb50794d74dd08915e5973cac844f",
       "version_major": 2,
       "version_minor": 0
      },
      "text/plain": [
       "HBox(children=(FloatProgress(value=0.0, max=8.0), HTML(value='')))"
      ]
     },
     "metadata": {},
     "output_type": "display_data"
    },
    {
     "name": "stdout",
     "output_type": "stream",
     "text": [
      "G:\\Projets\\PP2019\\2019_PROGRAMME BATICA\\DATA\\INPI\\sources\\IMR_Donnees_Saisies\\tc\\Flux\\2017\\05\n",
      "C:\\Users\\PERNETTH\\Documents\\Projects\\GitLab\\CreationDataBase\\INPI\\TC_1\\Flux\\2017\\05\n",
      "G:\\Projets\\PP2019\\2019_PROGRAMME BATICA\\DATA\\INPI\\sources\\IMR_Donnees_Saisies\\tc\\Flux\\2017\\06\n",
      "C:\\Users\\PERNETTH\\Documents\\Projects\\GitLab\\CreationDataBase\\INPI\\TC_1\\Flux\\2017\\06\n",
      "G:\\Projets\\PP2019\\2019_PROGRAMME BATICA\\DATA\\INPI\\sources\\IMR_Donnees_Saisies\\tc\\Flux\\2017\\07\n",
      "C:\\Users\\PERNETTH\\Documents\\Projects\\GitLab\\CreationDataBase\\INPI\\TC_1\\Flux\\2017\\07\n",
      "G:\\Projets\\PP2019\\2019_PROGRAMME BATICA\\DATA\\INPI\\sources\\IMR_Donnees_Saisies\\tc\\Flux\\2017\\08\n",
      "C:\\Users\\PERNETTH\\Documents\\Projects\\GitLab\\CreationDataBase\\INPI\\TC_1\\Flux\\2017\\08\n",
      "G:\\Projets\\PP2019\\2019_PROGRAMME BATICA\\DATA\\INPI\\sources\\IMR_Donnees_Saisies\\tc\\Flux\\2017\\09\n",
      "C:\\Users\\PERNETTH\\Documents\\Projects\\GitLab\\CreationDataBase\\INPI\\TC_1\\Flux\\2017\\09\n",
      "G:\\Projets\\PP2019\\2019_PROGRAMME BATICA\\DATA\\INPI\\sources\\IMR_Donnees_Saisies\\tc\\Flux\\2017\\10\n",
      "C:\\Users\\PERNETTH\\Documents\\Projects\\GitLab\\CreationDataBase\\INPI\\TC_1\\Flux\\2017\\10\n",
      "G:\\Projets\\PP2019\\2019_PROGRAMME BATICA\\DATA\\INPI\\sources\\IMR_Donnees_Saisies\\tc\\Flux\\2017\\11\n",
      "C:\\Users\\PERNETTH\\Documents\\Projects\\GitLab\\CreationDataBase\\INPI\\TC_1\\Flux\\2017\\11\n",
      "G:\\Projets\\PP2019\\2019_PROGRAMME BATICA\\DATA\\INPI\\sources\\IMR_Donnees_Saisies\\tc\\Flux\\2017\\12\n",
      "C:\\Users\\PERNETTH\\Documents\\Projects\\GitLab\\CreationDataBase\\INPI\\TC_1\\Flux\\2017\\12\n",
      "\n",
      "Wall time: 33.1 ms\n"
     ]
    }
   ],
   "source": [
    "%%time\n",
    "for mois in tqdm([\"05\",\"06\", \"07\", \"08\", \"09\", \"10\", \"11\", \"12\"]):\n",
    "    #list_zip = []\n",
    "    path = r\"G:\\Projets\\PP2019\\2019_PROGRAMME BATICA\\DATA\\INPI\\sources\\IMR_Donnees_Saisies\\tc\\Flux\\2017\\{}\".format(mois)\n",
    "    pathsave = r\"C:\\Users\\PERNETTH\\Documents\\Projects\\GitLab\\CreationDataBase\\INPI\\TC_1\\Flux\\2017\\{}\".format(mois)\n",
    "    print(path)\n",
    "    print(pathsave)"
   ]
  },
  {
   "cell_type": "code",
   "execution_count": null,
   "metadata": {},
   "outputs": [],
   "source": [
    "with open('conformiteflux.json', 'w') as outfile:\n",
    "    json.dump(list_columns_csv, outfile)"
   ]
  },
  {
   "cell_type": "markdown",
   "metadata": {},
   "source": [
    "## Remove all CSV"
   ]
  },
  {
   "cell_type": "code",
   "execution_count": 9,
   "metadata": {},
   "outputs": [],
   "source": [
    "path = os.getcwd()\n",
    "pathsave = r\"C:\\Users\\PERNETTH\\Documents\\Projects\\GitLab\\CreationDataBase\\INPI\\TC_1\\Flux\"\n",
    "for root, dirs, files in os.walk(pathsave):\n",
    "    # Test-> on veut pas avant mai 2018\n",
    "    for name in files:\n",
    "        if name.endswith((\".csv\")):\n",
    "            toremove = \"{}\\{}\".format(root, name)\n",
    "            os.remove(toremove)"
   ]
  }
 ],
 "metadata": {
  "kernelspec": {
   "display_name": "Python 3",
   "language": "python",
   "name": "python3"
  },
  "language_info": {
   "codemirror_mode": {
    "name": "ipython",
    "version": 3
   },
   "file_extension": ".py",
   "mimetype": "text/x-python",
   "name": "python",
   "nbconvert_exporter": "python",
   "pygments_lexer": "ipython3",
   "version": "3.7.6"
  },
  "toc": {
   "base_numbering": 1,
   "nav_menu": {},
   "number_sections": true,
   "sideBar": true,
   "skip_h1_title": false,
   "title_cell": "Table of Contents",
   "title_sidebar": "Contents",
   "toc_cell": false,
   "toc_position": {},
   "toc_section_display": true,
   "toc_window_display": false
  }
 },
 "nbformat": 4,
 "nbformat_minor": 2
}
