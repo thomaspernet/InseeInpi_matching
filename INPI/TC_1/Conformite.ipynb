{
 "cells": [
  {
   "cell_type": "markdown",
   "metadata": {},
   "source": [
    "# Conformité fichiers\n",
    "\n",
    "## Fichier acte\n",
    "\n",
    "Variables disponibles dans les actes\n",
    "\n",
    "```\n",
    "['\\ufeffCode Greffe;\n",
    "Nom_Greffe;\n",
    "Numero_Gestion;\n",
    "Siren;\n",
    "Date_Dépôt;\n",
    "Numéro_Dépôt;\n",
    "Date_Acte;\n",
    "Type_Acte;\n",
    "Décision;Etat']\n",
    "```\n",
    "\n",
    "Note sur fichier \n",
    "\n",
    "- https://medium.com/@cq94/le-rncs-en-quasi-opendata-57446c6fc8dd\n",
    "- https://github.com/etalab/rncs_worker_api_entreprise"
   ]
  },
  {
   "cell_type": "code",
   "execution_count": null,
   "metadata": {},
   "outputs": [],
   "source": [
    "import json\n",
    "\n",
    "with open('conformite.json') as json_file:\n",
    "    data = json.load(json_file)\n",
    "data[0]"
   ]
  },
  {
   "cell_type": "code",
   "execution_count": null,
   "metadata": {},
   "outputs": [],
   "source": [
    "actes = [\n",
    "    ['actes'],\n",
    "    [\"\\ufeffCode Greffe;Nom_Greffe;Numero_Gestion;Siren;Date_Dépôt;Numéro_Dépôt;Date_Acte;Type_Acte;Décision;Etat\"]\n",
    "]\n",
    "obs = [\n",
    "    ['obs'],\n",
    "    ['\\ufeffCode Greffe;Nom_Greffe;Numero_Gestion;Siren;ID_Observation;Numéro_Observation;Date_Ajout;Date_Suppression;Texte;Date_Greffe;Etat']\n",
    "]\n",
    "\n",
    "comptes_annuels =[\n",
    "    ['comptes_annuels'],\n",
    "    ['\\ufeffCode Greffe;Nom_Greffe;Numero_Gestion;Siren;Date_Dépôt;Numéro_Dépôt;Date_Clôture;Durée_Exercice;Type_Remise;Confidentialité;Confidentialité_Compte_résultat;Etat']\n",
    "]\n",
    "\n",
    "PM= [\n",
    "    ['PM'],\n",
    "    ['\\ufeffCode Greffe;Nom_Greffe;Numero_Gestion;Siren;Type_Inscription;Date_Immatriculation;Date_1re_Immatriculation;Date_Radiation;Date_Transfert;Sans_Activité;Date_Debut_Activité;Date_Début_1re_Activité;Date_Cessation_Activité;Denomination;Sigle;Forme_Juridique;Associé_Unique;Activité_Principale;Type_Capital;Capital;Capital_Actuel;Devise;Date_Clôture;Date_Clôture_Except.;Economie_Sociale_Solidaire;Durée_PM;Date_Greffe;Libelle_Evt']\n",
    "]\n",
    "\n",
    "PP=[\n",
    "    ['PP'],\n",
    "    ['\\ufeffCode Greffe;Nom_Greffe;Numero_Gestion;Siren;Type_Inscription;Date_Immatriculation;Date_1re_Immatriculation;Date_Radiation;Date_Transfert;Sans_Activité;Date_Debut_Activité;Date_Début_1re_Activité;Date_Cessation_Activité;Nom_Patronymique;Nom_Usage;Pseudonyme;Prénoms;Date_Naissance;Ville_Naissance;Pays_Naissance;Nationalité;Adresse_Ligne1;Adresse_Ligne2;Adresse_Ligne3;Code_Postal;Ville;Code_Commune;Pays;Activité_Forain;EIRL;Auto-entrepreneur;DAP;DAP_Dénomination;DAP_Objet;DAP_Date_Clôture;DAP_Adresse_Ligne1;DAP_Adresse_Ligne2;DAP_Adresse_Ligne3;DAP_Code_Postal;DAP_Ville;DAP_Code_Commune;DAP_Pays;Conjoint_Collab_Nom_Patronym;Conjoint_Collab_Nom_Usage;Conjoint_Collab_Pseudo;Conjoint_Collab_Prénoms;Conjoint_Collab_Date_Fin;Date_Greffe;Libelle_Evt']\n",
    "]\n",
    "\n",
    "rep= [\n",
    "    ['rep'],\n",
    "    ['\\ufeffCode Greffe;Nom_Greffe;Numero_Gestion;Siren;Type;Nom_Patronymique;Nom_Usage;Pseudonyme;Prénoms;Dénomination;Siren;Forme_Juridique;Adresse_Ligne1;Adresse_Ligne2;Adresse_Ligne3;Code_Postal;Ville;Code_Commune;Pays;Date_Naissance;Ville_Naissance;Pays_Naissance;Nationalité;Qualité;Rep_Perm_Nom;Rep_Perm_Nom_Usage;Rep_Perm_Pseudo;Rep_Perm_Prénoms;Rep_Perm_Date_Naissance;Rep_Perm_Ville_Naissance;Rep_Perm_Pays_Naissance;Rep_Perm_Nationalité;Rep_Perm_Adr_Ligne1;Rep_Perm_Adr_Ligne2;Rep_Perm_Adr_Ligne3;Rep_Perm_Code_Postal;Rep_Perm_Ville;Rep_Perm_Code_Commune;Rep_Perm_Pays;Conjoint_Collab_Nom_Patronym;Conjoint_Collab_Nom_Usage;Conjoint_Collab_Pseudo;Conjoint_Collab_Prénoms;Conjoint_Collab_Date_Fin;ID_Représentant;date_greffe;Libelle_Evt']\n",
    "]\n",
    "\n",
    "ets=[\n",
    "    ['ets'],\n",
    "    ['\\ufeffCode Greffe;Nom_Greffe;Numero_Gestion;Siren;Type;Siège_PM;RCS_Registre;Adresse_Ligne1;Adresse_Ligne2;Adresse_Ligne3;Code_Postal;Ville;Code_Commune;Pays;Domiciliataire_Nom;Domiciliataire_Siren;Domiciliataire_Greffe;Domiciliataire_Complément;Siege_Domicile_Représentant;Nom_Commercial;Enseigne;Activité_Ambulante;Activité_Saisonnière;Activité_Non_Sédentaire;Date_Début_Activité;Activité;Origine_Fonds;Origine_Fonds_Info;Type_Exploitation;ID_Etablissement;Date_Greffe;Libelle_Evt']\n",
    "]"
   ]
  },
  {
   "cell_type": "code",
   "execution_count": null,
   "metadata": {},
   "outputs": [],
   "source": [
    "actes[1][0]"
   ]
  },
  {
   "cell_type": "code",
   "execution_count": null,
   "metadata": {},
   "outputs": [],
   "source": [
    "\n",
    "listissues_acts = []\n",
    "for d in data:\n",
    "    #\n",
    "    for j in range(0, len(d)):\n",
    "        for origin in [actes, obs, comptes_annuels, PM, PP, rep, ets]:\n",
    "            if d[j][\"origin\"] == origin[0][0]: \n",
    "                if d[j][\"columns\"] != origin[1]:\n",
    "                    issues_acts = {}\n",
    "                    issues_acts['origin'] = origin[0][0]\n",
    "                    issues_acts['filename'] = d[j][\"filename\"]\n",
    "                    issues_acts['columns'] = d[j][\"columns\"]\n",
    "                    listissues_acts.append(issues_acts)\n"
   ]
  },
  {
   "cell_type": "code",
   "execution_count": null,
   "metadata": {},
   "outputs": [],
   "source": [
    "len(listissues_acts)"
   ]
  },
  {
   "cell_type": "markdown",
   "metadata": {},
   "source": [
    "## Probleme par origine"
   ]
  },
  {
   "cell_type": "code",
   "execution_count": null,
   "metadata": {},
   "outputs": [],
   "source": [
    "listissues_acts[470]"
   ]
  },
  {
   "cell_type": "code",
   "execution_count": null,
   "metadata": {},
   "outputs": [],
   "source": [
    "def list_isues(origin = 'obs'):\n",
    "    \"\"\"\n",
    "    \"\"\"\n",
    "    test_obs = []\n",
    "    for i in range(0, len(listissues_acts)):\n",
    "        if listissues_acts[i]['origin'] == origin:\n",
    "            test_obs.append(listissues_acts[i]['columns'][0])\n",
    "    return list(dict.fromkeys(test_obs))"
   ]
  },
  {
   "cell_type": "markdown",
   "metadata": {},
   "source": [
    "### Observation"
   ]
  },
  {
   "cell_type": "code",
   "execution_count": null,
   "metadata": {},
   "outputs": [],
   "source": [
    "list_isues(origin = 'obs')"
   ]
  },
  {
   "cell_type": "markdown",
   "metadata": {},
   "source": [
    "### comptes_annuels"
   ]
  },
  {
   "cell_type": "code",
   "execution_count": null,
   "metadata": {},
   "outputs": [],
   "source": [
    "list_isues(origin = 'comptes_annuels') "
   ]
  },
  {
   "cell_type": "markdown",
   "metadata": {},
   "source": [
    "### PM"
   ]
  },
  {
   "cell_type": "code",
   "execution_count": null,
   "metadata": {},
   "outputs": [],
   "source": [
    "list_isues(origin = 'PM')"
   ]
  },
  {
   "cell_type": "markdown",
   "metadata": {},
   "source": [
    "### PP"
   ]
  },
  {
   "cell_type": "code",
   "execution_count": null,
   "metadata": {},
   "outputs": [],
   "source": [
    "list_isues(origin = 'PP')"
   ]
  },
  {
   "cell_type": "markdown",
   "metadata": {},
   "source": [
    "### rep"
   ]
  },
  {
   "cell_type": "code",
   "execution_count": null,
   "metadata": {},
   "outputs": [],
   "source": [
    "list_isues(origin = 'rep')"
   ]
  },
  {
   "cell_type": "markdown",
   "metadata": {},
   "source": [
    "### ets"
   ]
  },
  {
   "cell_type": "code",
   "execution_count": null,
   "metadata": {},
   "outputs": [],
   "source": [
    "list_isues(origin = 'ets')"
   ]
  }
 ],
 "metadata": {
  "kernelspec": {
   "display_name": "Python 3",
   "language": "python",
   "name": "python3"
  },
  "language_info": {
   "codemirror_mode": {
    "name": "ipython",
    "version": 3
   },
   "file_extension": ".py",
   "mimetype": "text/x-python",
   "name": "python",
   "nbconvert_exporter": "python",
   "pygments_lexer": "ipython3",
   "version": "3.7.6"
  },
  "toc": {
   "base_numbering": 1,
   "nav_menu": {},
   "number_sections": true,
   "sideBar": true,
   "skip_h1_title": false,
   "title_cell": "Table of Contents",
   "title_sidebar": "Contents",
   "toc_cell": false,
   "toc_position": {},
   "toc_section_display": true,
   "toc_window_display": false
  }
 },
 "nbformat": 4,
 "nbformat_minor": 2
}
