{
 "cells": [
  {
   "cell_type": "code",
   "execution_count": 1,
   "metadata": {},
   "outputs": [],
   "source": [
    "#import boto3, json\n",
    "import dask.dataframe as dd\n",
    "import pandas as pd\n",
    "import Match_inpi_insee.aws_connectors as aws\n",
    "#from tqdm.notebook import tqdm\n",
    "#import tqdm\n",
    "%load_ext autoreload\n",
    "%autoreload 2"
   ]
  },
  {
   "cell_type": "code",
   "execution_count": 2,
   "metadata": {},
   "outputs": [],
   "source": [
    "columns_=['Siren','Type','Adresse_Ligne1','Adresse_Ligne2','Adresse_Ligne3',\n",
    "          #'Code_Postal',\n",
    "          'Ville','Code_Commune','ID_Etablissement','Date_Greffe','Libelle_Evt']\n",
    "columns_add = columns_ + [ 'file_timestamp', 'Libelle_Evt2']\n",
    "dtype_={'Siren': 'object',\n",
    "        'Type': 'object',\n",
    "        'Adresse_Ligne1': 'object',\n",
    "        'Adresse_Ligne2': 'object',\n",
    "        'Adresse_Ligne3': 'object',\n",
    "        'Code_Postal': 'object',\n",
    "        'Ville': 'object',\n",
    "        'Code_Commune': 'object',\n",
    "        'ID_Etablissement': 'object',\n",
    "        'Date_Greffe': 'object',\n",
    "        'Libelle_Evt': 'object'\n",
    "       }\n",
    "\n",
    "dtype_2={'Siren': 'object',\n",
    "        'Type': 'object',\n",
    "        'Adresse_Ligne1': 'object',\n",
    "        'Adresse_Ligne2': 'object',\n",
    "        'Adresse_Ligne3': 'object',\n",
    "        'Code_Postal': 'object',\n",
    "        'Ville': 'object',\n",
    "        'Code_Commune': 'object',\n",
    "        'ID_Etablissement': 'object',\n",
    "        'Date_Greffe': 'object',\n",
    "        'Libelle_Evt': 'object',\n",
    "        'Code Greffe': 'object',\n",
    "        'Domiciliataire_Siren': 'object',\n",
    "       }\n",
    "\n",
    "#data_evt.dtypes\n",
    "#data_evt_enriched.dtypes"
   ]
  },
  {
   "cell_type": "code",
   "execution_count": null,
   "metadata": {},
   "outputs": [],
   "source": [
    "data_initial= dd.read_csv(\"temp/initial_ETS.gz\", \n",
    "                          #usecols =[\"Siren\"],\n",
    "                          dtype={'Adresse_Ligne1': 'object',\n",
    "                                 'Code_Commune': 'object',\n",
    "                                 'Code_Postal': 'object',\n",
    "                                 'Domiciliataire_Greffe': 'object'},\n",
    "                          compression='gzip',\n",
    "                          blocksize=None,\n",
    "                          low_memory=False\n",
    "                      )"
   ]
  },
  {
   "cell_type": "code",
   "execution_count": null,
   "metadata": {},
   "outputs": [],
   "source": [
    "data_initial.compute().shape"
   ]
  },
  {
   "cell_type": "code",
   "execution_count": null,
   "metadata": {},
   "outputs": [],
   "source": [
    "'''data_evt= dd.read_csv(\"temp/2017_EVT_ETS.gz\", \n",
    "                      dtype=dtype_2,\n",
    "                      compression='gzip',\n",
    "                      blocksize=None,\n",
    "                      low_memory=False\n",
    "                      )\n",
    "#data_evt.head()\n",
    "data_evt.compute().shape\n",
    "'''\n",
    "\n",
    "data_evt= pd.read_csv(\"temp/2017_EVT_ETS.gz\", \n",
    "                      dtype=dtype_2,\n",
    "                      compression='gzip',\n",
    "                      low_memory=False\n",
    "                      )\n",
    "data_evt.shape"
   ]
  },
  {
   "cell_type": "code",
   "execution_count": null,
   "metadata": {},
   "outputs": [],
   "source": [
    "#contient 2017,2018,2019\n",
    "'''data_evt_enriched= dd.read_csv(\"temp/ETS_enriched.gz\", \n",
    "                      dtype=dtype_,\n",
    "                      compression='gzip',\n",
    "                      blocksize=None,\n",
    "                      low_memory=False,\n",
    "                      usecols=columns_add\n",
    "                      )\n",
    "data_evt_enriched.compute().drop_duplicates(keep='first')\n",
    "data_evt_enriched.compute().shape\n",
    "'''\n",
    "\n",
    "data_evt_enriched= pd.read_csv(\"temp/ETS_enriched.gz\", \n",
    "                      dtype=dtype_,\n",
    "                      compression='gzip',\n",
    "                      low_memory=False,\n",
    "                      usecols=columns_add\n",
    "                      )\n",
    "data_evt_enriched.shape"
   ]
  },
  {
   "cell_type": "code",
   "execution_count": null,
   "metadata": {},
   "outputs": [],
   "source": [
    "#Temporaire le temps de refaire tourner l'algo\n",
    "data_evt_enriched=data_evt_enriched.drop_duplicates()\n",
    "data_evt_enriched.shape"
   ]
  },
  {
   "cell_type": "code",
   "execution_count": null,
   "metadata": {},
   "outputs": [],
   "source": [
    "#data_evt_enriched.loc[lambda x: x['Siren'].isin(['420407355'])].transpose()"
   ]
  },
  {
   "cell_type": "code",
   "execution_count": null,
   "metadata": {},
   "outputs": [],
   "source": [
    "#data_evt_enriched.dtypes"
   ]
  },
  {
   "cell_type": "code",
   "execution_count": null,
   "metadata": {},
   "outputs": [],
   "source": [
    "data_evt_enriched['file_timestamp']=pd.to_datetime(data_evt_enriched['file_timestamp'])"
   ]
  },
  {
   "cell_type": "code",
   "execution_count": null,
   "metadata": {},
   "outputs": [],
   "source": [
    "data_evt_enriched['year'] = data_evt_enriched['file_timestamp'].dt.year\n",
    "data_evt_enriched['month'] = data_evt_enriched['file_timestamp'].dt.month"
   ]
  },
  {
   "cell_type": "code",
   "execution_count": null,
   "metadata": {},
   "outputs": [],
   "source": [
    "data_evt_enriched_2017_05 = data_evt_enriched.loc[lambda x: ( x['year'].isin(['2017'])) & \n",
    "                                               (x['month'].isin(['5']))]\n",
    "data_evt_enriched_2017_05.shape"
   ]
  },
  {
   "cell_type": "code",
   "execution_count": null,
   "metadata": {},
   "outputs": [],
   "source": []
  },
  {
   "cell_type": "code",
   "execution_count": 3,
   "metadata": {},
   "outputs": [
    {
     "ename": "ValueError",
     "evalue": "Usecols do not match columns, columns expected but not found: ['Siren']",
     "output_type": "error",
     "traceback": [
      "\u001b[1;31m---------------------------------------------------------------------------\u001b[0m",
      "\u001b[1;31mValueError\u001b[0m                                Traceback (most recent call last)",
      "\u001b[1;32m<ipython-input-3-6a3b619cc309>\u001b[0m in \u001b[0;36m<module>\u001b[1;34m\u001b[0m\n\u001b[0;32m     10\u001b[0m                       \u001b[0mcompression\u001b[0m\u001b[1;33m=\u001b[0m\u001b[1;34m'gzip'\u001b[0m\u001b[1;33m,\u001b[0m\u001b[1;33m\u001b[0m\u001b[1;33m\u001b[0m\u001b[0m\n\u001b[0;32m     11\u001b[0m                       \u001b[0mlow_memory\u001b[0m\u001b[1;33m=\u001b[0m\u001b[1;32mFalse\u001b[0m\u001b[1;33m,\u001b[0m\u001b[1;33m\u001b[0m\u001b[1;33m\u001b[0m\u001b[0m\n\u001b[1;32m---> 12\u001b[1;33m                       \u001b[0musecols\u001b[0m\u001b[1;33m=\u001b[0m\u001b[0mcolumns_add\u001b[0m\u001b[1;33m\u001b[0m\u001b[1;33m\u001b[0m\u001b[0m\n\u001b[0m\u001b[0;32m     13\u001b[0m                       )\n\u001b[0;32m     14\u001b[0m \u001b[0mdata_evt_enriched\u001b[0m\u001b[1;33m.\u001b[0m\u001b[0mshape\u001b[0m\u001b[1;33m\u001b[0m\u001b[1;33m\u001b[0m\u001b[0m\n",
      "\u001b[1;32m~\\AppData\\Local\\Continuum\\anaconda3\\lib\\site-packages\\pandas\\io\\parsers.py\u001b[0m in \u001b[0;36mparser_f\u001b[1;34m(filepath_or_buffer, sep, delimiter, header, names, index_col, usecols, squeeze, prefix, mangle_dupe_cols, dtype, engine, converters, true_values, false_values, skipinitialspace, skiprows, skipfooter, nrows, na_values, keep_default_na, na_filter, verbose, skip_blank_lines, parse_dates, infer_datetime_format, keep_date_col, date_parser, dayfirst, cache_dates, iterator, chunksize, compression, thousands, decimal, lineterminator, quotechar, quoting, doublequote, escapechar, comment, encoding, dialect, error_bad_lines, warn_bad_lines, delim_whitespace, low_memory, memory_map, float_precision)\u001b[0m\n\u001b[0;32m    683\u001b[0m         )\n\u001b[0;32m    684\u001b[0m \u001b[1;33m\u001b[0m\u001b[0m\n\u001b[1;32m--> 685\u001b[1;33m         \u001b[1;32mreturn\u001b[0m \u001b[0m_read\u001b[0m\u001b[1;33m(\u001b[0m\u001b[0mfilepath_or_buffer\u001b[0m\u001b[1;33m,\u001b[0m \u001b[0mkwds\u001b[0m\u001b[1;33m)\u001b[0m\u001b[1;33m\u001b[0m\u001b[1;33m\u001b[0m\u001b[0m\n\u001b[0m\u001b[0;32m    686\u001b[0m \u001b[1;33m\u001b[0m\u001b[0m\n\u001b[0;32m    687\u001b[0m     \u001b[0mparser_f\u001b[0m\u001b[1;33m.\u001b[0m\u001b[0m__name__\u001b[0m \u001b[1;33m=\u001b[0m \u001b[0mname\u001b[0m\u001b[1;33m\u001b[0m\u001b[1;33m\u001b[0m\u001b[0m\n",
      "\u001b[1;32m~\\AppData\\Local\\Continuum\\anaconda3\\lib\\site-packages\\pandas\\io\\parsers.py\u001b[0m in \u001b[0;36m_read\u001b[1;34m(filepath_or_buffer, kwds)\u001b[0m\n\u001b[0;32m    455\u001b[0m \u001b[1;33m\u001b[0m\u001b[0m\n\u001b[0;32m    456\u001b[0m     \u001b[1;31m# Create the parser.\u001b[0m\u001b[1;33m\u001b[0m\u001b[1;33m\u001b[0m\u001b[1;33m\u001b[0m\u001b[0m\n\u001b[1;32m--> 457\u001b[1;33m     \u001b[0mparser\u001b[0m \u001b[1;33m=\u001b[0m \u001b[0mTextFileReader\u001b[0m\u001b[1;33m(\u001b[0m\u001b[0mfp_or_buf\u001b[0m\u001b[1;33m,\u001b[0m \u001b[1;33m**\u001b[0m\u001b[0mkwds\u001b[0m\u001b[1;33m)\u001b[0m\u001b[1;33m\u001b[0m\u001b[1;33m\u001b[0m\u001b[0m\n\u001b[0m\u001b[0;32m    458\u001b[0m \u001b[1;33m\u001b[0m\u001b[0m\n\u001b[0;32m    459\u001b[0m     \u001b[1;32mif\u001b[0m \u001b[0mchunksize\u001b[0m \u001b[1;32mor\u001b[0m \u001b[0miterator\u001b[0m\u001b[1;33m:\u001b[0m\u001b[1;33m\u001b[0m\u001b[1;33m\u001b[0m\u001b[0m\n",
      "\u001b[1;32m~\\AppData\\Local\\Continuum\\anaconda3\\lib\\site-packages\\pandas\\io\\parsers.py\u001b[0m in \u001b[0;36m__init__\u001b[1;34m(self, f, engine, **kwds)\u001b[0m\n\u001b[0;32m    893\u001b[0m             \u001b[0mself\u001b[0m\u001b[1;33m.\u001b[0m\u001b[0moptions\u001b[0m\u001b[1;33m[\u001b[0m\u001b[1;34m\"has_index_names\"\u001b[0m\u001b[1;33m]\u001b[0m \u001b[1;33m=\u001b[0m \u001b[0mkwds\u001b[0m\u001b[1;33m[\u001b[0m\u001b[1;34m\"has_index_names\"\u001b[0m\u001b[1;33m]\u001b[0m\u001b[1;33m\u001b[0m\u001b[1;33m\u001b[0m\u001b[0m\n\u001b[0;32m    894\u001b[0m \u001b[1;33m\u001b[0m\u001b[0m\n\u001b[1;32m--> 895\u001b[1;33m         \u001b[0mself\u001b[0m\u001b[1;33m.\u001b[0m\u001b[0m_make_engine\u001b[0m\u001b[1;33m(\u001b[0m\u001b[0mself\u001b[0m\u001b[1;33m.\u001b[0m\u001b[0mengine\u001b[0m\u001b[1;33m)\u001b[0m\u001b[1;33m\u001b[0m\u001b[1;33m\u001b[0m\u001b[0m\n\u001b[0m\u001b[0;32m    896\u001b[0m \u001b[1;33m\u001b[0m\u001b[0m\n\u001b[0;32m    897\u001b[0m     \u001b[1;32mdef\u001b[0m \u001b[0mclose\u001b[0m\u001b[1;33m(\u001b[0m\u001b[0mself\u001b[0m\u001b[1;33m)\u001b[0m\u001b[1;33m:\u001b[0m\u001b[1;33m\u001b[0m\u001b[1;33m\u001b[0m\u001b[0m\n",
      "\u001b[1;32m~\\AppData\\Local\\Continuum\\anaconda3\\lib\\site-packages\\pandas\\io\\parsers.py\u001b[0m in \u001b[0;36m_make_engine\u001b[1;34m(self, engine)\u001b[0m\n\u001b[0;32m   1133\u001b[0m     \u001b[1;32mdef\u001b[0m \u001b[0m_make_engine\u001b[0m\u001b[1;33m(\u001b[0m\u001b[0mself\u001b[0m\u001b[1;33m,\u001b[0m \u001b[0mengine\u001b[0m\u001b[1;33m=\u001b[0m\u001b[1;34m\"c\"\u001b[0m\u001b[1;33m)\u001b[0m\u001b[1;33m:\u001b[0m\u001b[1;33m\u001b[0m\u001b[1;33m\u001b[0m\u001b[0m\n\u001b[0;32m   1134\u001b[0m         \u001b[1;32mif\u001b[0m \u001b[0mengine\u001b[0m \u001b[1;33m==\u001b[0m \u001b[1;34m\"c\"\u001b[0m\u001b[1;33m:\u001b[0m\u001b[1;33m\u001b[0m\u001b[1;33m\u001b[0m\u001b[0m\n\u001b[1;32m-> 1135\u001b[1;33m             \u001b[0mself\u001b[0m\u001b[1;33m.\u001b[0m\u001b[0m_engine\u001b[0m \u001b[1;33m=\u001b[0m \u001b[0mCParserWrapper\u001b[0m\u001b[1;33m(\u001b[0m\u001b[0mself\u001b[0m\u001b[1;33m.\u001b[0m\u001b[0mf\u001b[0m\u001b[1;33m,\u001b[0m \u001b[1;33m**\u001b[0m\u001b[0mself\u001b[0m\u001b[1;33m.\u001b[0m\u001b[0moptions\u001b[0m\u001b[1;33m)\u001b[0m\u001b[1;33m\u001b[0m\u001b[1;33m\u001b[0m\u001b[0m\n\u001b[0m\u001b[0;32m   1136\u001b[0m         \u001b[1;32melse\u001b[0m\u001b[1;33m:\u001b[0m\u001b[1;33m\u001b[0m\u001b[1;33m\u001b[0m\u001b[0m\n\u001b[0;32m   1137\u001b[0m             \u001b[1;32mif\u001b[0m \u001b[0mengine\u001b[0m \u001b[1;33m==\u001b[0m \u001b[1;34m\"python\"\u001b[0m\u001b[1;33m:\u001b[0m\u001b[1;33m\u001b[0m\u001b[1;33m\u001b[0m\u001b[0m\n",
      "\u001b[1;32m~\\AppData\\Local\\Continuum\\anaconda3\\lib\\site-packages\\pandas\\io\\parsers.py\u001b[0m in \u001b[0;36m__init__\u001b[1;34m(self, src, **kwds)\u001b[0m\n\u001b[0;32m   1957\u001b[0m                 \u001b[0mself\u001b[0m\u001b[1;33m.\u001b[0m\u001b[0morig_names\u001b[0m\u001b[1;33m\u001b[0m\u001b[1;33m\u001b[0m\u001b[0m\n\u001b[0;32m   1958\u001b[0m             ):\n\u001b[1;32m-> 1959\u001b[1;33m                 \u001b[0m_validate_usecols_names\u001b[0m\u001b[1;33m(\u001b[0m\u001b[0musecols\u001b[0m\u001b[1;33m,\u001b[0m \u001b[0mself\u001b[0m\u001b[1;33m.\u001b[0m\u001b[0morig_names\u001b[0m\u001b[1;33m)\u001b[0m\u001b[1;33m\u001b[0m\u001b[1;33m\u001b[0m\u001b[0m\n\u001b[0m\u001b[0;32m   1960\u001b[0m \u001b[1;33m\u001b[0m\u001b[0m\n\u001b[0;32m   1961\u001b[0m             \u001b[1;32mif\u001b[0m \u001b[0mlen\u001b[0m\u001b[1;33m(\u001b[0m\u001b[0mself\u001b[0m\u001b[1;33m.\u001b[0m\u001b[0mnames\u001b[0m\u001b[1;33m)\u001b[0m \u001b[1;33m>\u001b[0m \u001b[0mlen\u001b[0m\u001b[1;33m(\u001b[0m\u001b[0musecols\u001b[0m\u001b[1;33m)\u001b[0m\u001b[1;33m:\u001b[0m\u001b[1;33m\u001b[0m\u001b[1;33m\u001b[0m\u001b[0m\n",
      "\u001b[1;32m~\\AppData\\Local\\Continuum\\anaconda3\\lib\\site-packages\\pandas\\io\\parsers.py\u001b[0m in \u001b[0;36m_validate_usecols_names\u001b[1;34m(usecols, names)\u001b[0m\n\u001b[0;32m   1253\u001b[0m         raise ValueError(\n\u001b[0;32m   1254\u001b[0m             \u001b[1;34m\"Usecols do not match columns, \"\u001b[0m\u001b[1;33m\u001b[0m\u001b[1;33m\u001b[0m\u001b[0m\n\u001b[1;32m-> 1255\u001b[1;33m             \u001b[1;34m\"columns expected but not found: {missing}\"\u001b[0m\u001b[1;33m.\u001b[0m\u001b[0mformat\u001b[0m\u001b[1;33m(\u001b[0m\u001b[0mmissing\u001b[0m\u001b[1;33m=\u001b[0m\u001b[0mmissing\u001b[0m\u001b[1;33m)\u001b[0m\u001b[1;33m\u001b[0m\u001b[1;33m\u001b[0m\u001b[0m\n\u001b[0m\u001b[0;32m   1256\u001b[0m         )\n\u001b[0;32m   1257\u001b[0m \u001b[1;33m\u001b[0m\u001b[0m\n",
      "\u001b[1;31mValueError\u001b[0m: Usecols do not match columns, columns expected but not found: ['Siren']"
     ]
    }
   ],
   "source": [
    "#contient 201705\n",
    "columns_=['Siren','Type','Adresse_Ligne1','Adresse_Ligne2','Adresse_Ligne3',\n",
    "          #'Code_Postal',\n",
    "          'Ville','Code_Commune','ID_Etablissement','Date_Greffe','Libelle_Evt',\n",
    "          'file_timestamp', 'Libelle_Evt2'\n",
    "         ]\n",
    "\n",
    "data_evt_enriched= pd.read_csv(\"temp/201705_ETS_enriched_Normalized.gz\", \n",
    "                      dtype=dtype_,\n",
    "                      compression='gzip',\n",
    "                      low_memory=False,\n",
    "                      usecols=columns_add\n",
    "                      )\n",
    "data_evt_enriched.shape"
   ]
  },
  {
   "cell_type": "code",
   "execution_count": null,
   "metadata": {},
   "outputs": [],
   "source": [
    "result = data_evt.merge(data_evt_enriched)\n",
    "result.shape"
   ]
  },
  {
   "cell_type": "code",
   "execution_count": null,
   "metadata": {},
   "outputs": [],
   "source": [
    "result = pd.concat([data_evt,data_evt_enriched],sort=True,ignore_index=True)\n",
    "result.shape"
   ]
  },
  {
   "cell_type": "code",
   "execution_count": null,
   "metadata": {},
   "outputs": [],
   "source": [
    "result = pd.merge(data_evt,\n",
    "                  data_evt_enriched,\n",
    "                  on=columns_,\n",
    "                  how='left', \n",
    "                 indicator=True\n",
    "                 )\n",
    "result.shape"
   ]
  },
  {
   "cell_type": "code",
   "execution_count": null,
   "metadata": {},
   "outputs": [],
   "source": [
    "#data_evt.compute().loc[lambda x: x['Siren'].isin(['420407355'])].transpose()"
   ]
  },
  {
   "cell_type": "code",
   "execution_count": null,
   "metadata": {},
   "outputs": [],
   "source": [
    "#test = data_evt_enriched.compute().loc[lambda x: x['Siren'].isin(['420407355'])].drop_duplicates(keep='first').transpose()\n",
    "#test"
   ]
  },
  {
   "cell_type": "code",
   "execution_count": null,
   "metadata": {},
   "outputs": [],
   "source": [
    "result.loc[lambda x: x['Siren'].isin(['420407355'])].transpose()"
   ]
  },
  {
   "cell_type": "code",
   "execution_count": null,
   "metadata": {},
   "outputs": [],
   "source": [
    "data_evt=result"
   ]
  },
  {
   "cell_type": "code",
   "execution_count": null,
   "metadata": {},
   "outputs": [],
   "source": [
    "ex1='420407355'\n",
    "data_evt_ex1 = data_evt.compute().loc[lambda x: x['Siren'].isin([ex1])]\n",
    "data_initial_ex1 = data_initial.compute().loc[lambda x: x['Siren'].isin([ex1])]\n",
    "merge_ex1 = pd.concat([data_evt_ex1, data_initial_ex1], axis=0)\n",
    "merge_ex1.transpose()"
   ]
  },
  {
   "cell_type": "code",
   "execution_count": null,
   "metadata": {},
   "outputs": [],
   "source": [
    "# Count SIREN by Nb Evts (50% of 1 Evt)\n",
    "(data_evt\n",
    " .groupby('Siren')['Siren']\n",
    " .count()\n",
    " .rename('count')\n",
    " .reset_index()\n",
    " .groupby('count')['count']\n",
    " .count()\n",
    " #.compute()\n",
    ")"
   ]
  },
  {
   "cell_type": "code",
   "execution_count": null,
   "metadata": {},
   "outputs": [],
   "source": [
    "data_1evt_idx = (data_evt\n",
    " .groupby('Siren')['Siren']\n",
    " .count()\n",
    " .rename('evt_count')\n",
    " .reset_index()\n",
    " .compute()\n",
    ")"
   ]
  },
  {
   "cell_type": "code",
   "execution_count": null,
   "metadata": {},
   "outputs": [],
   "source": [
    "data_1evt = data_evt.merge(data_1evt_idx).compute().loc[lambda x: x['evt_count'].isin(['1'])]\n",
    "data_1evt"
   ]
  },
  {
   "cell_type": "code",
   "execution_count": null,
   "metadata": {},
   "outputs": [],
   "source": [
    "data_1evt = data_evt.merge(data_1evt_idx).loc[data_evt['evt_count'].isin(['1'])].compute()\n"
   ]
  },
  {
   "cell_type": "code",
   "execution_count": null,
   "metadata": {},
   "outputs": [],
   "source": [
    "#data_initial_1evt = data_initial.merge(data_1evt_idx).compute().loc[lambda x: x['evt_count'].isin(['1'])]\n",
    "#data_initial_1evt"
   ]
  },
  {
   "cell_type": "code",
   "execution_count": null,
   "metadata": {},
   "outputs": [],
   "source": []
  },
  {
   "cell_type": "code",
   "execution_count": null,
   "metadata": {},
   "outputs": [],
   "source": [
    "ex7='344734942'\n",
    "data_evt_ex7 = data_1evt.loc[lambda x: x['Siren'].isin([ex7])]\n",
    "data_initial_ex7 = data_initial_1evt.loc[lambda x: x['Siren'].isin([ex7])]\n",
    "merge_ex7 = pd.concat([data_evt_ex7, data_initial_ex7], axis=0)\n",
    "merge_ex7.transpose()"
   ]
  },
  {
   "cell_type": "code",
   "execution_count": null,
   "metadata": {},
   "outputs": [],
   "source": [
    "# Count SIREN by Nb Init (50% of 1 Init)\n",
    "(data_initial\n",
    " .groupby('Siren')['Siren']\n",
    " .count()\n",
    " .rename('init_count')\n",
    " .reset_index()\n",
    " .groupby('init_count')['init_count']\n",
    " .count()\n",
    " .compute()\n",
    ")"
   ]
  },
  {
   "cell_type": "code",
   "execution_count": null,
   "metadata": {},
   "outputs": [],
   "source": [
    "data_1init_idx = (data_initial\n",
    " .groupby('Siren')['Siren']\n",
    " .count()\n",
    " .rename('init_count')\n",
    " .reset_index()\n",
    " .compute()\n",
    ")"
   ]
  },
  {
   "cell_type": "code",
   "execution_count": null,
   "metadata": {},
   "outputs": [],
   "source": [
    "data_1init = data_initial.merge(data_1init_idx).compute().loc[lambda x: x['init_count'].isin(['1'])]\n",
    "data_1init"
   ]
  },
  {
   "cell_type": "code",
   "execution_count": null,
   "metadata": {},
   "outputs": [],
   "source": [
    "merge_ = pd.concat([data_1evt, data_1init], axis=0)\n",
    "merge_.head()"
   ]
  },
  {
   "cell_type": "code",
   "execution_count": null,
   "metadata": {},
   "outputs": [],
   "source": [
    "len(merge_)"
   ]
  },
  {
   "cell_type": "code",
   "execution_count": null,
   "metadata": {},
   "outputs": [],
   "source": [
    "merge_.loc[lambda x: x['Siren'].isin(['823358841'])].transpose()"
   ]
  },
  {
   "cell_type": "code",
   "execution_count": null,
   "metadata": {},
   "outputs": [],
   "source": [
    "for i,row in data_1evt.loc[data_1evt['Type_Exploitation'].isnull(),:].iterrows():\n",
    "    #print(row['Siren'])\n",
    "    ind = tuple([row['Siren'],row['Type'],row['Adresse_Ligne1'],row['Adresse_Ligne2'],row['Adresse_Ligne3'],row['ID_Etablissement']])\n",
    "    print(ind)\n",
    "    #data_1init.loc[i,'Type_Exploitation'] = impute_grps.loc[ind].values[0]"
   ]
  },
  {
   "cell_type": "code",
   "execution_count": null,
   "metadata": {},
   "outputs": [],
   "source": [
    "#MERGE ET VERIF UNICITE"
   ]
  },
  {
   "cell_type": "code",
   "execution_count": null,
   "metadata": {},
   "outputs": [],
   "source": [
    "# TEST 1 on=['Siren','ID_Etablissement']\n",
    "test=data_initial.merge(data_evt,on=['Siren','ID_Etablissement'],how='right',indicator=True).compute()\n",
    "test.groupby('_merge')['_merge'].count()"
   ]
  },
  {
   "cell_type": "code",
   "execution_count": null,
   "metadata": {},
   "outputs": [],
   "source": [
    "test.loc[test['_merge'].isin(['both'])].head(10).to_excel('test.xlsx')"
   ]
  },
  {
   "cell_type": "code",
   "execution_count": null,
   "metadata": {},
   "outputs": [],
   "source": [
    "# on=['Siren','ID_Etablissement'] => n'est pas suffisant pour avoir des établissements uniques (ex de 572086577)"
   ]
  },
  {
   "cell_type": "code",
   "execution_count": null,
   "metadata": {},
   "outputs": [],
   "source": [
    "# TEST 2 on=['Siren','ID_Etablissement','Type']\n",
    "test=data_initial.merge(data_evt,on=['Siren','ID_Etablissement','Type'],how='right',indicator=True).compute()\n",
    "test.groupby('_merge')['_merge'].count()"
   ]
  },
  {
   "cell_type": "code",
   "execution_count": null,
   "metadata": {},
   "outputs": [],
   "source": [
    "test.loc[test['_merge'].isin(['both'])].head(10).to_excel('test2.xlsx')"
   ]
  },
  {
   "cell_type": "code",
   "execution_count": null,
   "metadata": {},
   "outputs": [],
   "source": [
    "# on=['Siren','ID_Etablissement','Type'] => n'est pas suffisant pour avoir des établissements uniques (ex de 572086577)"
   ]
  },
  {
   "cell_type": "code",
   "execution_count": null,
   "metadata": {},
   "outputs": [],
   "source": [
    "# TEST 3 on=['Siren','ID_Etablissement','Type','Ville']\n",
    "test=data_initial.merge(data_evt,on=['Siren','ID_Etablissement','Type','Ville'],how='right',indicator=True).compute()\n",
    "test.groupby('_merge')['_merge'].count()"
   ]
  },
  {
   "cell_type": "code",
   "execution_count": null,
   "metadata": {},
   "outputs": [],
   "source": [
    "test.loc[test['_merge'].isin(['both'])].head(100).to_excel('test3.xlsx')"
   ]
  },
  {
   "cell_type": "code",
   "execution_count": null,
   "metadata": {},
   "outputs": [],
   "source": []
  }
 ],
 "metadata": {
  "kernelspec": {
   "display_name": "Python 3",
   "language": "python",
   "name": "python3"
  },
  "language_info": {
   "codemirror_mode": {
    "name": "ipython",
    "version": 3
   },
   "file_extension": ".py",
   "mimetype": "text/x-python",
   "name": "python",
   "nbconvert_exporter": "python",
   "pygments_lexer": "ipython3",
   "version": "3.7.4"
  }
 },
 "nbformat": 4,
 "nbformat_minor": 4
}
