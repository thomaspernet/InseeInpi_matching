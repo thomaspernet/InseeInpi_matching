{
 "cells": [
  {
   "cell_type": "markdown",
   "metadata": {
    "Collapsed": "false"
   },
   "source": [
    "# Reconstitution INPI"
   ]
  },
  {
   "cell_type": "markdown",
   "metadata": {
    "Collapsed": "false"
   },
   "source": [
    "## Recreation du fichier INPI "
   ]
  },
  {
   "cell_type": "code",
   "execution_count": null,
   "metadata": {
    "Collapsed": "false"
   },
   "outputs": [],
   "source": [
    "import os\n",
    "from tqdm import tqdm\n",
    "import pandas as pd\n",
    "path = r'C:\\Users\\PERNETTH\\Documents\\Projects\\InseeInpi_matching\\Notebooks_matching\\programme_matching\\data\\output'\n",
    "list_issue = []\n",
    "df_matched = pd.DataFrame()\n",
    "for root, dirs, files in os.walk(path):\n",
    "    # Test-> on veut pas avant mai 2018\n",
    "    for name in tqdm(files):\n",
    "        if name.endswith((\".gz\")):\n",
    "            path_gz = '{}\\{}'.format(root, name)\n",
    "            \n",
    "            df_matched = df_matched.append(\n",
    "            pd.read_csv(path_gz, compression = 'gzip',low_memory = False))"
   ]
  },
  {
   "cell_type": "code",
   "execution_count": null,
   "metadata": {
    "Collapsed": "false"
   },
   "outputs": [],
   "source": [
    "path_inpi = r'C:\\Users\\PERNETTH\\Documents\\Projects\\InseeInpi_matching\\Notebooks_matching\\programme_matching\\data\\input\\inpi_etb_2_4979272.gz'\n",
    "df_inpi = pd.read_csv(path_inpi,compression = 'gzip',low_memory = False)"
   ]
  },
  {
   "cell_type": "code",
   "execution_count": null,
   "metadata": {
    "Collapsed": "false"
   },
   "outputs": [],
   "source": [
    "df_inpi.shape[0] - df_matched.shape[0]"
   ]
  },
  {
   "cell_type": "code",
   "execution_count": null,
   "metadata": {
    "Collapsed": "false"
   },
   "outputs": [],
   "source": [
    "df_matched_full = df_inpi.merge(df_matched[['index', 'siret', 'ncc', 'Adress_new']], on = 'index',how = 'inner')"
   ]
  },
  {
   "cell_type": "code",
   "execution_count": null,
   "metadata": {
    "Collapsed": "false"
   },
   "outputs": [],
   "source": [
    "df_matched_full.to_csv('data\\\\inpi_etb_test_{}.gz'.format(\n",
    "    df_matched_full.shape[0]),\n",
    "                       compression='gzip', index = False) "
   ]
  },
  {
   "cell_type": "markdown",
   "metadata": {
    "Collapsed": "false"
   },
   "source": [
    "## Creation base SQL pour App"
   ]
  },
  {
   "cell_type": "markdown",
   "metadata": {
    "Collapsed": "false"
   },
   "source": [
    "### Save INSEE"
   ]
  },
  {
   "cell_type": "code",
   "execution_count": null,
   "metadata": {
    "Collapsed": "false"
   },
   "outputs": [],
   "source": [
    "from inpi_insee import siretisation\n",
    "import pandas as pd\n",
    "from sqlalchemy import create_engine\n",
    "import sqlite3\n",
    "%load_ext autoreload\n",
    "%autoreload 2"
   ]
  },
  {
   "cell_type": "code",
   "execution_count": null,
   "metadata": {
    "Collapsed": "false"
   },
   "outputs": [],
   "source": [
    "param = {\n",
    "    'communes_insee': r'data\\input\\communes_france.csv',\n",
    "    'upper_word':r'data\\input\\upper_stop.csv',\n",
    "    'insee': r'data\\input\\insee_2017_7480120.gz',\n",
    "    'inpi_etb': r'data\\input\\inpi_etb_4979272.gz',\n",
    "}\n",
    "al_siret = siretisation.siretisation_inpi(param)"
   ]
  },
  {
   "cell_type": "code",
   "execution_count": null,
   "metadata": {
    "Collapsed": "false"
   },
   "outputs": [],
   "source": [
    "\n",
    "insee_dtype = {\n",
    "    'siren': 'object',\n",
    "    'siret': 'object',\n",
    "    'dateCreationEtablissement': 'object',\n",
    "    \"etablissementSiege\": \"object\",\n",
    "    \"etatAdministratifEtablissement\": \"object\",\n",
    "    'complementAdresseEtablissement': 'object',\n",
    "    'numeroVoieEtablissement': 'object',\n",
    "    'indiceRepetitionEtablissement': 'object',\n",
    "    'typeVoieEtablissement': 'object',\n",
    "    'libelleVoieEtablissement': 'object',\n",
    "    'codePostalEtablissement': 'object',\n",
    "    'libelleCommuneEtablissement': 'object',\n",
    "    'libelleCommuneEtrangerEtablissement': 'object',\n",
    "    'distributionSpecialeEtablissement': 'object',\n",
    "    'codeCommuneEtablissement': 'object',\n",
    "    'codeCedexEtablissement': 'object',\n",
    "    'libelleCedexEtablissement': 'object',\n",
    "    'codePaysEtrangerEtablissement': 'object',\n",
    "    'libellePaysEtrangerEtablissement': 'object',\n",
    "    'count_initial_insee': 'int'\n",
    "}\n",
    "\n",
    "insee_col = ['siren',\n",
    "             'siret',\n",
    "             'dateCreationEtablissement',\n",
    "             \"etablissementSiege\",\n",
    "             \"etatAdministratifEtablissement\",\n",
    "             'complementAdresseEtablissement',\n",
    "             'numeroVoieEtablissement',\n",
    "             'indiceRepetitionEtablissement',\n",
    "             'typeVoieEtablissement',\n",
    "             'libelleVoieEtablissement',\n",
    "             'codePostalEtablissement',\n",
    "             'libelleCommuneEtablissement',\n",
    "             'libelleCommuneEtrangerEtablissement',\n",
    "             'distributionSpecialeEtablissement',\n",
    "             'codeCommuneEtablissement',\n",
    "             'codeCedexEtablissement',\n",
    "             'libelleCedexEtablissement',\n",
    "             'codePaysEtrangerEtablissement',\n",
    "             'libellePaysEtrangerEtablissement',\n",
    "             'count_initial_insee']\n",
    "inpi_col = ['siren',\n",
    "            'index',\n",
    "            'Type',\n",
    "            'Adresse_Ligne1',\n",
    "            'Adresse_Ligne2',\n",
    "            'Adresse_Ligne3',\n",
    "            'Code_Postal',\n",
    "            'Ville',\n",
    "            'Code_Commune',\n",
    "            'Pays',\n",
    "            'count_initial_inpi',\n",
    "            'ncc',\n",
    "            'Adress_new',\n",
    "            'Adresse_new_clean_reg']\n",
    "\n",
    "inpi_dtype = {\n",
    "    'siren': 'object',\n",
    "    'index': 'int',\n",
    "    'Type': 'object',\n",
    "    'Adresse_Ligne1': 'object',\n",
    "    'Adresse_Ligne2': 'object',\n",
    "    'Adresse_Ligne3': 'object',\n",
    "    'Code_Postal': 'object',\n",
    "    'Ville': 'object',\n",
    "    'Code_Commune': 'object',\n",
    "    'Pays': 'object',\n",
    "    'count_initial_inpi': 'int',\n",
    "    'ncc': 'object',\n",
    "    'Adress_new': 'object',\n",
    "    'Adresse_new_clean_reg': 'object'\n",
    "}\n",
    "\n",
    "insee = al_siret.import_dask(file=r'data\\input\\insee_2017_7480120.gz',\n",
    "                             usecols=insee_col, dtype=insee_dtype)\n",
    "\n",
    "list(insee)"
   ]
  },
  {
   "cell_type": "code",
   "execution_count": null,
   "metadata": {
    "Collapsed": "false"
   },
   "outputs": [],
   "source": [
    "conn = sqlite3.connect('insee.db')\n",
    "c = conn.cursor()\n",
    "c.execute(\"CREATE TABLE INSEE (siren,siret,dateCreationEtablissement, \\\n",
    " etablissementSiege,complementAdresseEtablissement,numeroVoieEtablissement,  \\\n",
    " indiceRepetitionEtablissement,typeVoieEtablissement,libelleVoieEtablissement,  \\\n",
    " codePostalEtablissement,libelleCommuneEtablissement,  \\\n",
    " libelleCommuneEtrangerEtablissement,distributionSpecialeEtablissement,  \\\n",
    " codeCommuneEtablissement,codeCedexEtablissement, libelleCedexEtablissement,  \\\n",
    " codePaysEtrangerEtablissement, libellePaysEtrangerEtablissement,  \\\n",
    " etatAdministratifEtablissement,count_initial_insee)\") \n",
    "conn.commit()\n",
    "\n",
    "insee.compute().to_sql('INSEE', conn, if_exists='replace', index = False)"
   ]
  },
  {
   "cell_type": "markdown",
   "metadata": {
    "Collapsed": "false"
   },
   "source": [
    "### Save INPI"
   ]
  },
  {
   "cell_type": "code",
   "execution_count": null,
   "metadata": {
    "Collapsed": "false"
   },
   "outputs": [],
   "source": [
    "inpi_col = ['siren',\n",
    "            'index',\n",
    "            'Type',\n",
    "            'Adresse_Ligne1',\n",
    "            'Adresse_Ligne2',\n",
    "            'Adresse_Ligne3',\n",
    "            'Code_Postal',\n",
    "            'Ville',\n",
    "            'Code_Commune',\n",
    "            'Pays',\n",
    "            'count_initial_inpi',\n",
    "            'ncc',\n",
    "            'Adress_new',\n",
    "            'Adresse_new_clean_reg']\n",
    "\n",
    "inpi_dtype = {\n",
    "    'siren': 'object',\n",
    "    'index': 'int',\n",
    "    'Type': 'object',\n",
    "    'Adresse_Ligne1': 'object',\n",
    "    'Adresse_Ligne2': 'object',\n",
    "    'Adresse_Ligne3': 'object',\n",
    "    'Code_Postal': 'object',\n",
    "    'Ville': 'object',\n",
    "    'Code_Commune': 'object',\n",
    "    'Pays': 'object',\n",
    "    'count_initial_inpi': 'int',\n",
    "    'ncc': 'object',\n",
    "    'Adress_new': 'object',\n",
    "    'Adresse_new_clean_reg': 'object'\n",
    "}\n",
    "\n",
    "\n",
    "inpi = al_siret.import_dask(file=r'data\\inpi_etb_test_4911141.gz',\n",
    "                       usecols=inpi_col, dtype=inpi_dtype)"
   ]
  },
  {
   "cell_type": "code",
   "execution_count": null,
   "metadata": {
    "Collapsed": "false"
   },
   "outputs": [],
   "source": [
    "c.execute(\"CREATE TABLE SIREN (Code Greffe,Nom_Greffe,Numero_Gestion,siren,Type, \\\n",
    " Siège_PM,RCS_Registre,Adresse_Ligne1,Adresse_Ligne2,Adresse_Ligne3,  \\\n",
    " Code_Postal, Ville,Code_Commune,Pays,Domiciliataire_Nom,Domiciliataire_Siren,  \\\n",
    " Domiciliataire_Greffe,Domiciliataire_Complément,Siege_Domicile_Représentant,Nom_Commercial,  \\\n",
    " Enseigne,Activité_Ambulante, Activité_Saisonnière,Activité_Non_Sédentaire,  \\\n",
    " Date_Début_Activité,Activité, Origine_Fonds,Origine_Fonds_Info,  \\\n",
    " Type_Exploitation,ID_Etablissement,Date_Greffe,Libelle_Evt, count, siret, ncc, Adress_new)\") \n",
    "conn.commit()\n",
    "\n",
    "inpi.drop(columns = 'index').compute().to_sql('SIREN', conn, if_exists='replace', index = False)"
   ]
  },
  {
   "cell_type": "markdown",
   "metadata": {
    "Collapsed": "false"
   },
   "source": [
    "### SAve INPI original"
   ]
  },
  {
   "cell_type": "code",
   "execution_count": null,
   "metadata": {
    "Collapsed": "false"
   },
   "outputs": [],
   "source": [
    "list(pd.read_csv(\n",
    "    r'data\\input\\inpi_etb_cleaned_4979272.gz', \n",
    "    compression = 'gzip'))"
   ]
  },
  {
   "cell_type": "code",
   "execution_count": null,
   "metadata": {
    "Collapsed": "false"
   },
   "outputs": [],
   "source": [
    "inpi = al_siret.import_dask(\n",
    "    file=r\"data\\input\\inpi_etb_cleaned_4979272.gz\",\n",
    "    usecols=[\n",
    "        \"siren\",\n",
    "        \"Type\",\n",
    "        \"Adresse_Ligne1\",\n",
    "        \"Adresse_Ligne2\",\n",
    "        \"Adresse_Ligne3\",\n",
    "        \"Code_Postal\",\n",
    "        \"Ville\",\n",
    "        \"Code_Commune\",\n",
    "        \"Pays\",\n",
    "        \"count_initial_inpi\",\n",
    "        \"index\",\n",
    "        \"ncc\",\n",
    "    ],\n",
    "    dtype={\n",
    "        \"siren\": \"object\",\n",
    "        \"Type\": \"object\",\n",
    "        \"Adresse_Ligne1\": \"object\",\n",
    "        \"Adresse_Ligne2\": \"object\",\n",
    "        \"Adresse_Ligne3\": \"object\",\n",
    "        \"Code_Postal\": \"object\",\n",
    "        \"Ville\": \"object\",\n",
    "        \"Code_Commune\": \"object\",\n",
    "        \"Pays\": \"object\",\n",
    "        \"count_initial_inpi\": \"object\",\n",
    "        \"index\": \"object\",\n",
    "        \"ncc\": \"object\",\n",
    "    },\n",
    ")"
   ]
  },
  {
   "cell_type": "code",
   "execution_count": null,
   "metadata": {
    "Collapsed": "false"
   },
   "outputs": [],
   "source": [
    "conn = sqlite3.connect('inpi_origine.db')\n",
    "c = conn.cursor()\n",
    "c.execute(\"CREATE TABLE INPI_ORIGINE (siren,Type,  Adresse_Ligne1,\\\n",
    " Adresse_Ligne2,Adresse_Ligne3,Code_Postal, Ville,\\\n",
    " Code_Commune, Pays,count_initial_inpi,ncc)\") \n",
    "conn.commit()\n",
    "\n",
    "inpi.drop(columns = 'index').compute().to_sql('INPI_ORIGINE', conn, if_exists='replace', index = False)"
   ]
  },
  {
   "cell_type": "markdown",
   "metadata": {
    "Collapsed": "true"
   },
   "source": [
    "## Test SQL"
   ]
  },
  {
   "cell_type": "code",
   "execution_count": null,
   "metadata": {
    "Collapsed": "false"
   },
   "outputs": [],
   "source": [
    "import sqlite3\n",
    "import pandas as pd\n",
    "conn = sqlite3.connect(r\"C:\\Users\\PERNETTH\\Documents\\Projects\" \\\n",
    "    r\"\\InseeInpi_matching\\Notebooks_matching\" \\\n",
    "    r\"\\programme_matching\\App\\SQL\\inpi_origine.db\")\n",
    "c = conn.cursor()\n",
    "query = '''SELECT * FROM INPI_ORIGINE WHERE siren = {} '''.format('780129987')\n",
    "c.execute(query)\n",
    "df = pd.DataFrame(c.fetchall(), columns= [\n",
    "        \"siren\",\n",
    "        \"Type\",\n",
    "        \"Adresse_Ligne1\",\n",
    "        \"Adresse_Ligne2\",\n",
    "        \"Adresse_Ligne3\",\n",
    "        \"Code_Postal\",\n",
    "        \"Ville\",\n",
    "        \"Code_Commune\",\n",
    "        \"Pays\",\n",
    "        \"count_initial_inpi\",\n",
    "        \"ncc\",\n",
    "    ])\n",
    "df"
   ]
  }
 ],
 "metadata": {
  "kernelspec": {
   "display_name": "Python 3",
   "language": "python",
   "name": "python3"
  },
  "language_info": {
   "codemirror_mode": {
    "name": "ipython",
    "version": 3
   },
   "file_extension": ".py",
   "mimetype": "text/x-python",
   "name": "python",
   "nbconvert_exporter": "python",
   "pygments_lexer": "ipython3",
   "version": "3.7.6"
  },
  "toc": {
   "base_numbering": 1,
   "nav_menu": {},
   "number_sections": true,
   "sideBar": true,
   "skip_h1_title": false,
   "title_cell": "Table of Contents",
   "title_sidebar": "Contents",
   "toc_cell": false,
   "toc_position": {},
   "toc_section_display": true,
   "toc_window_display": false
  }
 },
 "nbformat": 4,
 "nbformat_minor": 4
}
