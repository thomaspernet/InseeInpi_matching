{
 "cells": [
  {
   "cell_type": "markdown",
   "metadata": {
    "Collapsed": "false"
   },
   "source": [
    "# Reconstitution INPI"
   ]
  },
  {
   "cell_type": "markdown",
   "metadata": {
    "Collapsed": "true"
   },
   "source": [
    "## Recreation du fichier INPI "
   ]
  },
  {
   "cell_type": "code",
   "execution_count": null,
   "metadata": {
    "Collapsed": "false"
   },
   "outputs": [],
   "source": [
    "import os\n",
    "from tqdm import tqdm\n",
    "import pandas as pd\n",
    "path = r'C:\\Users\\PERNETTH\\Documents\\Projects\\InseeInpi_matching\\Notebooks_matching\\programme_matching\\data\\output'\n",
    "list_issue = []\n",
    "df_matched = pd.DataFrame()\n",
    "for root, dirs, files in os.walk(path):\n",
    "    # Test-> on veut pas avant mai 2018\n",
    "    for name in tqdm(files):\n",
    "        if name.endswith((\".gz\")):\n",
    "            path_gz = '{}\\{}'.format(root, name)\n",
    "            \n",
    "            df_matched = df_matched.append(\n",
    "            pd.read_csv(path_gz, compression = 'gzip',low_memory = False))"
   ]
  },
  {
   "cell_type": "code",
   "execution_count": null,
   "metadata": {
    "Collapsed": "false"
   },
   "outputs": [],
   "source": [
    "path_inpi = r'C:\\Users\\PERNETTH\\Documents\\Projects\\InseeInpi_matching\\Notebooks_matching\\programme_matching\\data\\input\\inpi_etb_2_4979272.gz'\n",
    "df_inpi = pd.read_csv(path_inpi,compression = 'gzip',low_memory = False)"
   ]
  },
  {
   "cell_type": "code",
   "execution_count": null,
   "metadata": {
    "Collapsed": "false"
   },
   "outputs": [],
   "source": [
    "df_inpi.shape[0] - df_matched.shape[0]"
   ]
  },
  {
   "cell_type": "code",
   "execution_count": null,
   "metadata": {
    "Collapsed": "false"
   },
   "outputs": [],
   "source": [
    "df_matched_full = df_inpi.merge(df_matched[['index', 'siret', 'ncc', 'Adress_new']], on = 'index',how = 'inner')"
   ]
  },
  {
   "cell_type": "code",
   "execution_count": null,
   "metadata": {
    "Collapsed": "false"
   },
   "outputs": [],
   "source": [
    "df_matched_full.to_csv('data\\\\inpi_etb_test_{}.gz'.format(\n",
    "    df_matched_full.shape[0]),\n",
    "                       compression='gzip', index = False) "
   ]
  },
  {
   "cell_type": "markdown",
   "metadata": {
    "Collapsed": "true"
   },
   "source": [
    "## Test SQL"
   ]
  },
  {
   "cell_type": "code",
   "execution_count": null,
   "metadata": {
    "Collapsed": "false"
   },
   "outputs": [],
   "source": [
    "import sqlite3\n",
    "import pandas as pd\n",
    "conn = sqlite3.connect(r\"C:\\Users\\PERNETTH\\Documents\\Projects\" \\\n",
    "    r\"\\InseeInpi_matching\\Notebooks_matching\" \\\n",
    "    r\"\\programme_matching\\App\\SQL\\inpi_origine.db\")\n",
    "c = conn.cursor()\n",
    "query = '''SELECT * FROM INPI_ORIGINE WHERE siren = {} '''.format('780129987')\n",
    "c.execute(query)\n",
    "df = pd.DataFrame(c.fetchall(), columns= [\n",
    "        \"siren\",\n",
    "        \"Type\",\n",
    "        \"Adresse_Ligne1\",\n",
    "        \"Adresse_Ligne2\",\n",
    "        \"Adresse_Ligne3\",\n",
    "        \"Code_Postal\",\n",
    "        \"Ville\",\n",
    "        \"Code_Commune\",\n",
    "        \"Pays\",\n",
    "        \"count_initial_inpi\",\n",
    "        \"ncc\",\n",
    "    ])\n",
    "df"
   ]
  }
 ],
 "metadata": {
  "kernelspec": {
   "display_name": "Python 3",
   "language": "python",
   "name": "python3"
  },
  "language_info": {
   "codemirror_mode": {
    "name": "ipython",
    "version": 3
   },
   "file_extension": ".py",
   "mimetype": "text/x-python",
   "name": "python",
   "nbconvert_exporter": "python",
   "pygments_lexer": "ipython3",
   "version": "3.7.6"
  },
  "toc": {
   "base_numbering": 1,
   "nav_menu": {},
   "number_sections": true,
   "sideBar": true,
   "skip_h1_title": false,
   "title_cell": "Table of Contents",
   "title_sidebar": "Contents",
   "toc_cell": false,
   "toc_position": {},
   "toc_section_display": true,
   "toc_window_display": false
  }
 },
 "nbformat": 4,
 "nbformat_minor": 4
}
