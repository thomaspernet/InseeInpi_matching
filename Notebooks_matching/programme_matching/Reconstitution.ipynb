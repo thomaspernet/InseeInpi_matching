{
 "cells": [
  {
   "cell_type": "markdown",
   "metadata": {
    "Collapsed": "false"
   },
   "source": [
    "# Reconstitution INPI"
   ]
  },
  {
   "cell_type": "code",
   "execution_count": null,
   "metadata": {
    "Collapsed": "false"
   },
   "outputs": [],
   "source": [
    "import os\n",
    "from tqdm import tqdm\n",
    "import pandas as pd\n",
    "path = r'C:\\Users\\PERNETTH\\Documents\\Projects\\InseeInpi_matching\\Notebooks_matching\\programme_matching\\data\\output'\n",
    "list_issue = []\n",
    "df_matched = pd.DataFrame()\n",
    "for root, dirs, files in os.walk(path):\n",
    "    # Test-> on veut pas avant mai 2018\n",
    "    for name in tqdm(files):\n",
    "        if name.endswith((\".gz\")):\n",
    "            path_gz = '{}\\{}'.format(root, name)\n",
    "            \n",
    "            df_matched = df_matched.append(\n",
    "            pd.read_csv(path_gz, compression = 'gzip',low_memory = False))"
   ]
  },
  {
   "cell_type": "code",
   "execution_count": null,
   "metadata": {
    "Collapsed": "false"
   },
   "outputs": [],
   "source": [
    "path_inpi = r'C:\\Users\\PERNETTH\\Documents\\Projects\\InseeInpi_matching\\Notebooks_matching\\programme_matching\\data\\input\\inpi_etb_2_4979272.gz'\n",
    "df_inpi = pd.read_csv(path_inpi,compression = 'gzip',low_memory = False)"
   ]
  },
  {
   "cell_type": "code",
   "execution_count": null,
   "metadata": {
    "Collapsed": "false"
   },
   "outputs": [],
   "source": [
    "df_inpi.shape[0] - df_matched.shape[0]"
   ]
  },
  {
   "cell_type": "code",
   "execution_count": null,
   "metadata": {
    "Collapsed": "false"
   },
   "outputs": [],
   "source": [
    "df_matched_full = df_inpi.merge(df_matched[['index', 'siret', 'ncc', 'Adress_new']], on = 'index',how = 'inner')"
   ]
  },
  {
   "cell_type": "code",
   "execution_count": null,
   "metadata": {
    "Collapsed": "false"
   },
   "outputs": [],
   "source": [
    "df_matched_full.to_csv('data\\\\inpi_etb_test_{}.gz'.format(\n",
    "    df_matched_full.shape[0]),\n",
    "                       compression='gzip', index = False) "
   ]
  },
  {
   "cell_type": "code",
   "execution_count": null,
   "metadata": {
    "Collapsed": "false"
   },
   "outputs": [],
   "source": [
    "df_matched_full.head(2)"
   ]
  },
  {
   "cell_type": "markdown",
   "metadata": {
    "Collapsed": "false"
   },
   "source": [
    "# test app"
   ]
  },
  {
   "cell_type": "markdown",
   "metadata": {
    "Collapsed": "false",
    "heading_collapsed": true
   },
   "source": [
    "# Save to SQL"
   ]
  },
  {
   "cell_type": "code",
   "execution_count": null,
   "metadata": {
    "hidden": true
   },
   "outputs": [],
   "source": [
    "list(df_)"
   ]
  },
  {
   "cell_type": "code",
   "execution_count": null,
   "metadata": {
    "Collapsed": "false",
    "hidden": true
   },
   "outputs": [],
   "source": [
    "from sqlalchemy import create_engine\n",
    "import sqlite3\n",
    "conn = sqlite3.connect('siren_inpi.db')\n",
    "c = conn.cursor()"
   ]
  },
  {
   "cell_type": "code",
   "execution_count": null,
   "metadata": {
    "hidden": true
   },
   "outputs": [],
   "source": [
    "c.execute(\"CREATE TABLE SIREN (Code Greffe,Nom_Greffe,Numero_Gestion,siren,Type, \\\n",
    " Siège_PM,RCS_Registre,Adresse_Ligne1,Adresse_Ligne2,Adresse_Ligne3,  \\\n",
    " Code_Postal, Ville,Code_Commune,Pays,Domiciliataire_Nom,Domiciliataire_Siren,  \\\n",
    " Domiciliataire_Greffe,Domiciliataire_Complément,Siege_Domicile_Représentant,Nom_Commercial,  \\\n",
    " Enseigne,Activité_Ambulante, Activité_Saisonnière,Activité_Non_Sédentaire,  \\\n",
    " Date_Début_Activité,Activité, Origine_Fonds,Origine_Fonds_Info,  \\\n",
    " Type_Exploitation,ID_Etablissement,Date_Greffe,Libelle_Evt, count, siret, ncc, Adress_new)\") \n",
    "conn.commit()\n",
    "\n",
    "df_.drop(columns = 'index').compute().to_sql('SIREN', conn, if_exists='replace', index = False)"
   ]
  },
  {
   "cell_type": "code",
   "execution_count": null,
   "metadata": {
    "hidden": true
   },
   "outputs": [],
   "source": [
    "test = df_['siren'].compute().drop_duplicates()#.to_csv(r'siren.csv', index = False)"
   ]
  },
  {
   "cell_type": "code",
   "execution_count": null,
   "metadata": {
    "hidden": true
   },
   "outputs": [],
   "source": [
    "test.to_csv(r'data\\siren.csv', index = False)"
   ]
  },
  {
   "cell_type": "markdown",
   "metadata": {},
   "source": [
    "# Test APP"
   ]
  },
  {
   "cell_type": "code",
   "execution_count": 1,
   "metadata": {},
   "outputs": [],
   "source": [
    "import pandas as pd"
   ]
  },
  {
   "cell_type": "code",
   "execution_count": 2,
   "metadata": {},
   "outputs": [
    {
     "data": {
      "text/html": [
       "<div>\n",
       "<style scoped>\n",
       "    .dataframe tbody tr th:only-of-type {\n",
       "        vertical-align: middle;\n",
       "    }\n",
       "\n",
       "    .dataframe tbody tr th {\n",
       "        vertical-align: top;\n",
       "    }\n",
       "\n",
       "    .dataframe thead th {\n",
       "        text-align: right;\n",
       "    }\n",
       "</style>\n",
       "<table border=\"1\" class=\"dataframe\">\n",
       "  <thead>\n",
       "    <tr style=\"text-align: right;\">\n",
       "      <th></th>\n",
       "      <th>siren</th>\n",
       "    </tr>\n",
       "  </thead>\n",
       "  <tbody>\n",
       "    <tr>\n",
       "      <th>0</th>\n",
       "      <td>813543063</td>\n",
       "    </tr>\n",
       "    <tr>\n",
       "      <th>1</th>\n",
       "      <td>800897092</td>\n",
       "    </tr>\n",
       "    <tr>\n",
       "      <th>2</th>\n",
       "      <td>440432052</td>\n",
       "    </tr>\n",
       "    <tr>\n",
       "      <th>3</th>\n",
       "      <td>534728381</td>\n",
       "    </tr>\n",
       "    <tr>\n",
       "      <th>4</th>\n",
       "      <td>750647851</td>\n",
       "    </tr>\n",
       "  </tbody>\n",
       "</table>\n",
       "</div>"
      ],
      "text/plain": [
       "       siren\n",
       "0  813543063\n",
       "1  800897092\n",
       "2  440432052\n",
       "3  534728381\n",
       "4  750647851"
      ]
     },
     "execution_count": 2,
     "metadata": {},
     "output_type": "execute_result"
    }
   ],
   "source": [
    "list_siren = pd.read_csv(r'data\\siren.csv')\n",
    "list_siren.head()"
   ]
  },
  {
   "cell_type": "markdown",
   "metadata": {
    "heading_collapsed": true
   },
   "source": [
    "# Archive"
   ]
  },
  {
   "cell_type": "code",
   "execution_count": null,
   "metadata": {
    "Collapsed": "false",
    "hidden": true
   },
   "outputs": [],
   "source": [
    "import json, os, re\n",
    "from dask.diagnostics import ProgressBar\n",
    "from dask.multiprocessing import get\n",
    "import dask.dataframe as dd\n",
    "import pandas as pd\n",
    "import numpy as np\n",
    "from nltk.corpus import stopwords\n",
    "pbar = ProgressBar()\n",
    "pbar.register()\n"
   ]
  },
  {
   "cell_type": "code",
   "execution_count": null,
   "metadata": {
    "hidden": true
   },
   "outputs": [],
   "source": [
    "def on_change(change):\n",
    "    #\n",
    "\n",
    "    #\"df = pd.DataFrame(c.fetchall())  \n",
    "    #output_brand.clear_output()\n",
    "    #with output_brand:\n",
    "    conn = sqlite3.connect('siren_inpi.db')\n",
    "    c = conn.cursor()\n",
    "    if change['type'] == 'change' and change['name'] == 'value':\n",
    "            query = '''SELECT * FROM SIREN WHERE siren = \"%s\"''' % change['new']\n",
    "        \n",
    "            c.execute(query)\n",
    "\n",
    "            df = pd.DataFrame(c.fetchall(), columns= cols)\n",
    "        \n",
    "            display(df)\n",
    "\n",
    "text_siren.observe(on_change)\n",
    "display(text_siren)"
   ]
  },
  {
   "cell_type": "code",
   "execution_count": null,
   "metadata": {
    "hidden": true
   },
   "outputs": [],
   "source": [
    "text_siren = widgets.Text(\n",
    "    value='813543063',\n",
    "    placeholder='Paste ticket description here!',\n",
    "    description='String:',\n",
    "    disabled=False\n",
    ")\n",
    "cols = [\"Code\" \"Greffe\",\"Nom_Greffe\",\"Numero_Gestion\",\"siren\",\"Type\", \\\n",
    " \"Siège_PM\",\"RCS_Registre\",\"Adresse_Ligne1\",\"Adresse_Ligne2\",\"Adresse_Ligne3\",  \\\n",
    " \"Code_Postal\", \"Ville\",\"Code_Commune\",\"Pays\",\"Domiciliataire_Nom\",\"Domiciliataire_Siren\",  \\\n",
    " \"Domiciliataire_Greffe\",\"Domiciliataire_Complément\",\"Siege_Domicile_Représentant\",\"Nom_Commercial\",  \\\n",
    " \"Enseigne\",\"Activité_Ambulante\", \"Activité_Saisonnière\",\"Activité_Non_Sédentaire\",  \\\n",
    " \"Date_Début_Activité\",\"Activité\", \"Origine_Fonds\",\"Origine_Fonds_Info\",  \\\n",
    " \"Type_Exploitation\",\"ID_Etablissement\",\"Date_Greffe\",\"Libelle_Evt\", \"count\", \"siret\", \"ncc\", \"Adress_new\"]"
   ]
  },
  {
   "cell_type": "code",
   "execution_count": null,
   "metadata": {
    "Collapsed": "false",
    "hidden": true
   },
   "outputs": [],
   "source": [
    "df_ = pd.read_csv('data\\\\inpi_etb_test_4911141.gz',\n",
    "        compression='gzip',dtype={'Code_Commune': 'object',\n",
    "       'Code_Postal': 'object',\n",
    "       'Domiciliataire_Greffe': 'object'}, low_memory=False)"
   ]
  },
  {
   "cell_type": "code",
   "execution_count": null,
   "metadata": {
    "Collapsed": "false",
    "hidden": true
   },
   "outputs": [],
   "source": [
    "def grouptolist(df):\n",
    "    keys, values = df.sort_values('siren').values.T\n",
    "    ukeys, index = np.unique(keys, True)\n",
    "    arrays = np.split(values, index[1:])\n",
    "    df2 = pd.DataFrame({'siren': ukeys, 'ncc': [list(a) for a in arrays]})\n",
    "    return df2"
   ]
  },
  {
   "cell_type": "code",
   "execution_count": null,
   "metadata": {
    "Collapsed": "false",
    "hidden": true
   },
   "outputs": [],
   "source": [
    "df_ = dd.read_csv('data\\\\inpi_etb_test_4911141.gz',\n",
    "        blocksize=None,compression='gzip',dtype={'Code_Commune': 'object',\n",
    "       'Code_Postal': 'object',\n",
    "       'Domiciliataire_Greffe': 'object'})"
   ]
  },
  {
   "cell_type": "code",
   "execution_count": null,
   "metadata": {
    "Collapsed": "false",
    "hidden": true
   },
   "outputs": [],
   "source": [
    "%time \n",
    "test = grouptolist(df_[['siren', 'ncc']].drop_duplicates().compute())"
   ]
  },
  {
   "cell_type": "code",
   "execution_count": null,
   "metadata": {
    "Collapsed": "false",
    "hidden": true
   },
   "outputs": [],
   "source": [
    "%time \n",
    "test = grouptolist(df_[['siren', 'ncc']].drop_duplicates())"
   ]
  },
  {
   "cell_type": "code",
   "execution_count": null,
   "metadata": {
    "Collapsed": "false",
    "hidden": true
   },
   "outputs": [],
   "source": [
    "df_json = test.to_json(orient='columns')"
   ]
  },
  {
   "cell_type": "code",
   "execution_count": null,
   "metadata": {
    "Collapsed": "false",
    "hidden": true
   },
   "outputs": [],
   "source": [
    "#test.to_csv('insee_inpi.csv', index = False)"
   ]
  },
  {
   "cell_type": "code",
   "execution_count": null,
   "metadata": {
    "Collapsed": "false",
    "hidden": true
   },
   "outputs": [],
   "source": [
    "with open('insee_inpi.json', 'w') as outfile:\n",
    "    json.dump(df_json, outfile)"
   ]
  },
  {
   "cell_type": "code",
   "execution_count": null,
   "metadata": {
    "Collapsed": "false",
    "hidden": true
   },
   "outputs": [],
   "source": [
    "all_options = {\n",
    "    'America': ['New York City', 'San Francisco', 'Cincinnati'],\n",
    "    'Canada': [u'Montréal', 'Toronto', 'Ottawa']\n",
    "}\n",
    "[{'label': k, 'value': k} for k in all_options.keys()]"
   ]
  },
  {
   "cell_type": "code",
   "execution_count": null,
   "metadata": {
    "Collapsed": "false",
    "hidden": true
   },
   "outputs": [],
   "source": [
    "[{'label': i, 'value': i} for i in all_options['America']]"
   ]
  },
  {
   "cell_type": "code",
   "execution_count": null,
   "metadata": {
    "Collapsed": "false",
    "hidden": true
   },
   "outputs": [],
   "source": [
    "df_json['ncc'] = df_json['ncc'].str.replace(\"'\", \"\")"
   ]
  },
  {
   "cell_type": "code",
   "execution_count": null,
   "metadata": {
    "Collapsed": "false",
    "hidden": true
   },
   "outputs": [],
   "source": [
    "df_json.head()"
   ]
  },
  {
   "cell_type": "code",
   "execution_count": null,
   "metadata": {
    "Collapsed": "false",
    "hidden": true
   },
   "outputs": [],
   "source": [
    "dic_ = []\n",
    "for city in test[test['siren'].isin([160020012])]['ncc']:\n",
    "    print(city)\n",
    "    for c in city:\n",
    "        dic_1 = {'label': c, 'value': c}\n",
    "        dic_.append(dic_1)\n",
    "dic_"
   ]
  },
  {
   "cell_type": "code",
   "execution_count": null,
   "metadata": {
    "Collapsed": "false",
    "hidden": true
   },
   "outputs": [],
   "source": [
    "dic_ = []\n",
    "df_json = pd.read_csv(r'App\\insee_inpi.csv'\n",
    "                      )\n",
    "for city in df_json[df_json['siren'].isin([160020012])]['ncc']:\n",
    "    print(city)\n",
    "    for c in city:\n",
    "        dic_1 = {'label': c, 'value': c}\n",
    "        dic_.append(dic_1)\n",
    "dic_ "
   ]
  },
  {
   "cell_type": "code",
   "execution_count": null,
   "metadata": {
    "Collapsed": "false",
    "hidden": true
   },
   "outputs": [],
   "source": [
    "[{'label': i, 'value': i} for i in test[test['siren'].isin([160020012])]['ncc']]"
   ]
  },
  {
   "cell_type": "code",
   "execution_count": null,
   "metadata": {
    "Collapsed": "false",
    "hidden": true
   },
   "outputs": [],
   "source": [
    "df_json[df_json['siren'].isin(['130008857'])]['ncc']"
   ]
  },
  {
   "cell_type": "code",
   "execution_count": null,
   "metadata": {
    "Collapsed": "false",
    "hidden": true
   },
   "outputs": [],
   "source": []
  },
  {
   "cell_type": "code",
   "execution_count": null,
   "metadata": {
    "Collapsed": "false",
    "hidden": true
   },
   "outputs": [],
   "source": []
  },
  {
   "cell_type": "code",
   "execution_count": null,
   "metadata": {
    "Collapsed": "false",
    "hidden": true
   },
   "outputs": [],
   "source": [
    "list_siren = df_['siren'].drop_duplicates().to_list()"
   ]
  },
  {
   "cell_type": "code",
   "execution_count": null,
   "metadata": {
    "Collapsed": "false",
    "hidden": true
   },
   "outputs": [],
   "source": [
    "test = df_[['siren', 'ncc']].drop_duplicates().agg({'b':lambda x: list(x)})"
   ]
  },
  {
   "cell_type": "code",
   "execution_count": null,
   "metadata": {
    "Collapsed": "false",
    "hidden": true
   },
   "outputs": [],
   "source": [
    "test = df_[['siren', 'Adress_new']].drop_duplicates().groupby('siren')['Adress_new'].apply(list)"
   ]
  },
  {
   "cell_type": "code",
   "execution_count": null,
   "metadata": {
    "Collapsed": "false",
    "hidden": true
   },
   "outputs": [],
   "source": [
    "dic_full = {}\n",
    "from tqdm import tqdm\n",
    "for x in tqdm(list_siren):\n",
    "    add = df_.loc[\n",
    "        df_['siren'].isin([x])]['Adress_new']\n",
    "    \n",
    "    dic_full[x] = add\n",
    "dic_full"
   ]
  }
 ],
 "metadata": {
  "kernelspec": {
   "display_name": "Python 3",
   "language": "python",
   "name": "python3"
  },
  "language_info": {
   "codemirror_mode": {
    "name": "ipython",
    "version": 3
   },
   "file_extension": ".py",
   "mimetype": "text/x-python",
   "name": "python",
   "nbconvert_exporter": "python",
   "pygments_lexer": "ipython3",
   "version": "3.7.6"
  },
  "toc": {
   "base_numbering": 1,
   "nav_menu": {},
   "number_sections": true,
   "sideBar": true,
   "skip_h1_title": false,
   "title_cell": "Table of Contents",
   "title_sidebar": "Contents",
   "toc_cell": false,
   "toc_position": {},
   "toc_section_display": true,
   "toc_window_display": false
  }
 },
 "nbformat": 4,
 "nbformat_minor": 4
}
