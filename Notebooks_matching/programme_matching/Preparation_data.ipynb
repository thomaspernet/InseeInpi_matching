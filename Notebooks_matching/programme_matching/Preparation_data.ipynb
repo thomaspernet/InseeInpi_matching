{
 "cells": [
  {
   "cell_type": "markdown",
   "metadata": {
    "Collapsed": "false"
   },
   "source": [
    "# Class preparation Data\n",
    "\n",
    "## INSEE\n",
    "\n",
    "Les données sources de l'INSEE proviennent de [Data Gouv](https://www.data.gouv.fr/fr/datasets/base-sirene-des-entreprises-et-de-leurs-etablissements-siren-siret/)\n",
    "\n",
    "- communes_insee:\n",
    "    - Le fichier source pour les communes se trouvent à cette [URL](https://www.insee.fr/fr/information/3720946)\n",
    "    - Le notebook pour reconstituer le csv est dispon\n",
    "- upper_word:\n",
    "- voie:\n",
    "\n",
    "## INPI \n",
    "\n",
    "Les données de l'INPI proviennent de ses différents Notebooks:\n",
    "\n",
    "- inpi_etb\n"
   ]
  },
  {
   "cell_type": "code",
   "execution_count": null,
   "metadata": {
    "Collapsed": "false"
   },
   "outputs": [],
   "source": [
    "from inpi_insee import preparation_data\n",
    "\n",
    "%load_ext autoreload\n",
    "%autoreload 2"
   ]
  },
  {
   "cell_type": "code",
   "execution_count": null,
   "metadata": {
    "Collapsed": "false"
   },
   "outputs": [],
   "source": [
    "param = {\n",
    "    'communes_insee': r'data\\input\\Parameters\\communes_france.csv',\n",
    "    'upper_word':r'data\\input\\Parameters\\upper_stop.csv',\n",
    "     \"voie\":r'data\\input\\Parameters\\voie.csv',\n",
    "    'insee': r\"data\\RawData\\INSEE\\Stock\\ETS\\StockEtablissement_utf8.csv\",\n",
    "    'inpi_etb': r\"data\\RawData\\INPI\\Stock\\initial_ETS.gz\",\n",
    "    'date_end':\"2018-01-01\"\n",
    "}\n",
    "prep_data = preparation_data.preparation(param)"
   ]
  },
  {
   "cell_type": "code",
   "execution_count": null,
   "metadata": {
    "Collapsed": "false"
   },
   "outputs": [],
   "source": [
    "%%time\n",
    "prep_data.normalize_inpi(save_gz = True, save_sql = True)"
   ]
  },
  {
   "cell_type": "code",
   "execution_count": null,
   "metadata": {
    "Collapsed": "false"
   },
   "outputs": [],
   "source": [
    "%%time\n",
    "prep_data.normalize_insee(siren_inpi_gz = \n",
    "                          r'data\\input\\SIREN_INPI\\inpi_etb_stock_4824158.gz',\n",
    "                                save_gz = True, save_sql = True)"
   ]
  },
  {
   "cell_type": "markdown",
   "metadata": {
    "Collapsed": "false"
   },
   "source": [
    "# Test"
   ]
  },
  {
   "cell_type": "code",
   "execution_count": null,
   "metadata": {
    "Collapsed": "false"
   },
   "outputs": [],
   "source": [
    "test.head()"
   ]
  },
  {
   "cell_type": "code",
   "execution_count": null,
   "metadata": {
    "Collapsed": "false"
   },
   "outputs": [],
   "source": [
    "test.groupby('len_digit_address_insee')['len_digit_address_insee'].count()"
   ]
  },
  {
   "cell_type": "code",
   "execution_count": null,
   "metadata": {
    "Collapsed": "false"
   },
   "outputs": [],
   "source": [
    "test.loc[lambda x: \n",
    "         x['siren'].isin(['752085324'])\n",
    "         & (len(x['special_digit'])>=2)\n",
    "        ]"
   ]
  },
  {
   "cell_type": "code",
   "execution_count": null,
   "metadata": {
    "Collapsed": "false"
   },
   "outputs": [],
   "source": [
    "test.assign(\n",
    "        special_digit = lambda x:\n",
    "        x['libelleVoieEtablissement'].str.findall(r\"(\\d+)\").apply(\n",
    "        lambda x:'&'.join([i for i in x]))\n",
    "        )"
   ]
  }
 ],
 "metadata": {
  "kernelspec": {
   "display_name": "Python 3",
   "language": "python",
   "name": "python3"
  },
  "language_info": {
   "codemirror_mode": {
    "name": "ipython",
    "version": 3
   },
   "file_extension": ".py",
   "mimetype": "text/x-python",
   "name": "python",
   "nbconvert_exporter": "python",
   "pygments_lexer": "ipython3",
   "version": "3.7.6"
  }
 },
 "nbformat": 4,
 "nbformat_minor": 4
}
