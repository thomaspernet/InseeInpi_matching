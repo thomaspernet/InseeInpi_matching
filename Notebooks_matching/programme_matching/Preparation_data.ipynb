{
 "cells": [
  {
   "cell_type": "markdown",
   "metadata": {
    "Collapsed": "false"
   },
   "source": [
    "# Class preparation Data\n",
    "\n",
    "## INSEE\n",
    "\n",
    "Les données sources de l'INSEE proviennent de [Data Gouv](https://www.data.gouv.fr/fr/datasets/base-sirene-des-entreprises-et-de-leurs-etablissements-siren-siret/)\n",
    "\n",
    "## INPI \n",
    "\n",
    "Les données de l'INPI proviennent de ses différents Notebooks:\n",
    "\n",
    "-\n"
   ]
  },
  {
   "cell_type": "code",
   "execution_count": 1,
   "metadata": {
    "Collapsed": "false"
   },
   "outputs": [
    {
     "name": "stderr",
     "output_type": "stream",
     "text": [
      "C:\\Users\\PERNETTH\\AppData\\Local\\Continuum\\anaconda3\\lib\\site-packages\\dask\\dataframe\\utils.py:14: FutureWarning: pandas.util.testing is deprecated. Use the functions in the public API at pandas.testing instead.\n",
      "  import pandas.util.testing as tm\n"
     ]
    }
   ],
   "source": [
    "from inpi_insee import preparation_data\n",
    "\n",
    "%load_ext autoreload\n",
    "%autoreload 2"
   ]
  },
  {
   "cell_type": "code",
   "execution_count": 2,
   "metadata": {
    "Collapsed": "false"
   },
   "outputs": [],
   "source": [
    "param = {\n",
    "    'communes_insee': r'data\\input\\communes_france.csv',\n",
    "    'upper_word':r'data\\input\\upper_stop.csv',\n",
    "    'insee': r\"data\\RawData\\INSEE\\Stock\\ETS\\StockEtablissement_utf8.csv\",\n",
    "    'inpi_etb': r\"data\\RawData\\INPI\\Stock\\initial_ETS.gz\",\n",
    "    'date_end':\"2018-01-01\"\n",
    "}"
   ]
  },
  {
   "cell_type": "code",
   "execution_count": 3,
   "metadata": {
    "Collapsed": "false"
   },
   "outputs": [],
   "source": [
    "prep_data = preparation_data.preparation(param)"
   ]
  },
  {
   "cell_type": "code",
   "execution_count": null,
   "metadata": {
    "Collapsed": "false"
   },
   "outputs": [],
   "source": [
    "insee_dtype = {\n",
    "    'siren': 'object',\n",
    "    'siret': 'object',\n",
    "    \"etablissementSiege\": \"object\",\n",
    "    \"etatAdministratifEtablissement\": \"object\",\n",
    "    'dateCreationEtablissement': 'object',\n",
    "    'complementAdresseEtablissement': 'object',\n",
    "    'numeroVoieEtablissement': 'object',\n",
    "    'indiceRepetitionEtablissement': 'object',\n",
    "    'typeVoieEtablissement': 'object',\n",
    "    'libelleVoieEtablissement': 'object',\n",
    "    'codePostalEtablissement': 'object',\n",
    "    'libelleCommuneEtablissement': 'object',\n",
    "    'libelleCommuneEtrangerEtablissement': 'object',\n",
    "    'distributionSpecialeEtablissement': 'object',\n",
    "    'codeCommuneEtablissement': 'object',\n",
    "    'codeCedexEtablissement': 'object',\n",
    "    'libelleCedexEtablissement': 'object',\n",
    "    'codePaysEtrangerEtablissement': 'object',\n",
    "    'libellePaysEtrangerEtablissement': 'object',\n",
    "    'count_initial_insee': 'int'\n",
    "}\n",
    "\n",
    "insee_col = ['siren',\n",
    " 'siret',\n",
    " 'dateCreationEtablissement',\n",
    " \"etablissementSiege\",\n",
    " \"etatAdministratifEtablissement\",\n",
    " 'complementAdresseEtablissement',\n",
    " 'numeroVoieEtablissement',\n",
    " 'indiceRepetitionEtablissement',\n",
    " 'typeVoieEtablissement',\n",
    " 'libelleVoieEtablissement',\n",
    " 'codePostalEtablissement',\n",
    " 'libelleCommuneEtablissement',\n",
    " 'libelleCommuneEtrangerEtablissement',\n",
    " 'distributionSpecialeEtablissement',\n",
    " 'codeCommuneEtablissement',\n",
    " 'codeCedexEtablissement',\n",
    " 'libelleCedexEtablissement',\n",
    " 'codePaysEtrangerEtablissement',\n",
    " 'libellePaysEtrangerEtablissement',]\n",
    "insee = prep_data.import_dask(r\"data\\data\\input\\StockEtablissement_utf8.csv\",\n",
    "                              usecols = insee_col,\n",
    "                              dtype=insee_dtype)"
   ]
  },
  {
   "cell_type": "code",
   "execution_count": null,
   "metadata": {
    "Collapsed": "false"
   },
   "outputs": [],
   "source": [
    "insee[insee['siren'].isin(['813543063'])].compute()"
   ]
  },
  {
   "cell_type": "code",
   "execution_count": null,
   "metadata": {
    "Collapsed": "false"
   },
   "outputs": [],
   "source": [
    "%%time\n",
    "prep_data.normalize_inpi(save = True)"
   ]
  },
  {
   "cell_type": "code",
   "execution_count": null,
   "metadata": {
    "Collapsed": "false"
   },
   "outputs": [
    {
     "name": "stdout",
     "output_type": "stream",
     "text": [
      "[                                        ] | 0% Completed |  1min 43.0s"
     ]
    }
   ],
   "source": [
    "%%time\n",
    "prep_data.normalize_insee(siren_inpi_gz = \n",
    "                          r'data\\input\\SIREN_INPI\\inpi_etb_stock_4824158.gz')"
   ]
  }
 ],
 "metadata": {
  "kernelspec": {
   "display_name": "Python 3",
   "language": "python",
   "name": "python3"
  },
  "language_info": {
   "codemirror_mode": {
    "name": "ipython",
    "version": 3
   },
   "file_extension": ".py",
   "mimetype": "text/x-python",
   "name": "python",
   "nbconvert_exporter": "python",
   "pygments_lexer": "ipython3",
   "version": "3.7.6"
  }
 },
 "nbformat": 4,
 "nbformat_minor": 4
}
