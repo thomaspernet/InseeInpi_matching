{
 "cells": [
  {
   "cell_type": "markdown",
   "metadata": {
    "Collapsed": "true"
   },
   "source": [
    "# Class preparation Data\n",
    "\n",
    "## INSEE\n",
    "\n",
    "Les données sources de l'INSEE proviennent de [Data Gouv](https://www.data.gouv.fr/fr/datasets/base-sirene-des-entreprises-et-de-leurs-etablissements-siren-siret/)\n",
    "\n",
    "- communes_insee:\n",
    "    - Le fichier source pour les communes se trouvent à cette [URL](https://www.insee.fr/fr/information/3720946)\n",
    "    - Le notebook pour reconstituer le csv est disponible a cette [URL](https://github.com/thomaspernet/InseeInpi_matching/blob/dev_thomas/Notebooks_matching/programme_matching/Source_intermediates.ipynb). ⚠️ Repo privé + branche\n",
    "- voie:\n",
    "    - Le fichier source pour les communes se trouvent à cette [URL](https://www.sirene.fr/sirene/public/variable/libelleVoieEtablissement)\n",
    "    - Le notebook pour reconstituer le csv est disponible a cette [URL](https://github.com/thomaspernet/InseeInpi_matching/blob/dev_thomas/Notebooks_matching/programme_matching/Source_intermediates.ipynb). ⚠️ Repo privé + branche\n",
    "- upper_word:\n",
    "    - La liste des upper word (stop word capitalisé) provient de la librarie [NLTK](https://www.nltk.org/) avec un ajout manuel.\n",
    "    \n",
    "## INPI \n",
    "\n",
    "Les données de l'INPI proviennent de ses différents Notebooks:\n",
    "\n",
    "- inpi_etb\n",
    "\n",
    "## Normalisation du fichier INPI.\n",
    "\n",
    "Le fichier INPI doit contenir un seul fichier gz avant d'être ingéré par le programme. Le fichier va être importé dans un format Dask, ce qui permet de paralléliser les calcules et bien sur d'éviter les problèmes de mémoire. \n",
    "\n",
    "La normalisation du fichier de l'INPI se fait en plusieurs étapes:\n",
    "\n",
    "- 1) Exclusion des observations contenant des NaN pour chacune des variables candidates, à savoir:\n",
    "    - Adresse_Ligne1\n",
    "    - Adresse_Ligne2\n",
    "    - Adresse_Ligne3\n",
    "    - Code_Postal\n",
    "    - Ville\n",
    "    - Code_Commune\n",
    "- 2) Extraction des SIREN a SIRETISER -> cela evite d'utiliser toute la base INSEE pour la sirétisation. I.e Speedup le process\n",
    "- 3) Calcule du nombre de SIRET par SIREN via la fonction `nombre_siret_siren`\n",
    "- 4) Normalisation de la variable commune via la fonction `clean_commune`\n",
    "    - Extraction des digits dans la ville. En effet, certaines communes incluent l'arrondissement dans la variable.\n",
    "    - Extraction des caractères spéciaux et espaces\n",
    "    - Capitalisation du nom de la commune\n",
    "    - Matching avec le fichier commune pour avoir le nom de la commune de l'INSEE.\n",
    "- 5) Préparation de l'adresse via la fonction `prepare_adress`\n",
    "    - Concatenation des variables `Adresse_Ligne1` + `Adresse_Ligne2` + `Adresse_Ligne3`\n",
    "    - Normalisation de la variable concatenée -> Extraction des caractères speciaux, espace, digit puis capitalisation\n",
    "    - Extraction de tous les stop words du fichier `upper_word`\n",
    "    - Split de chaque mot restant de l'adresse \n",
    "    - Creation du regex de la forme suivante:  `MOT1$|MOT2$` \n",
    "    - Extration des digits:\n",
    "        - Première variable avec le premier digit\n",
    "        - Seconde variable avec une liste de digit et jointure -> DIGIT1|DIGIT2\n",
    "    - Merge avec le fichier `voie` pour obtenir le type de voie de l'INSEE\n",
    "    - Calcule du nombre de digit dans l'adresse\n",
    "        - Si len inférieure a 2, alors NaN. C'est une variable utlisée pendant le matching des règles spéciales\n",
    "    - Creation d'une variable `index` correspondant à l'index du dataframe. Indispensable\n",
    " \n",
    "Le fichier est sauvegardé en format gz, et dans un table SQL\n",
    "    - inpi_etb_stock_0.gz\n",
    "    - inpi_origine.db\n",
    "    \n",
    "Un appercu de la table est disponible via cette application `App_inpi`.\n",
    "\n",
    "## Normalisation du fichier INSEE\n",
    "\n",
    "Pour l'étape de siretisation, les variables candidates sont les suivantes:\n",
    "\n",
    "- 'siren',\n",
    "- 'siret',\n",
    "- \"etablissementSiege\",\n",
    "- \"etatAdministratifEtablissement\",\n",
    "- \"numeroVoieEtablissement\",\n",
    "- \"indiceRepetitionEtablissement\",\n",
    "- \"typeVoieEtablissement\",\n",
    "- \"libelleVoieEtablissement\",\n",
    "- \"complementAdresseEtablissement\",\n",
    "- \"codeCommuneEtablissement\",\n",
    "- \"libelleCommuneEtablissement\",\n",
    "- \"codePostalEtablissement\",\n",
    "- \"codeCedexEtablissement\",\n",
    "- \"libelleCedexEtablissement\",\n",
    "- \"distributionSpecialeEtablissement\",\n",
    "- \"libelleCommuneEtrangerEtablissement\",\n",
    "- \"codePaysEtrangerEtablissement\",\n",
    "- \"libellePaysEtrangerEtablissement\",\n",
    "- \"dateCreationEtablissement\"\n",
    "\n",
    "Comme pour le fichier de l'INPI, le fichier csv est importé en Dask Dataframe. Les étapes sont les suivantes:\n",
    "\n",
    "- 1) Filtre les SIREN à sirétiser uniquement\n",
    "- 2) Filtre la date limite à l'INSEE. Cette étape sert essentiellement pour siretiser les bases de stocks. Cela évite d'utiliser des valeurs \"dans le future\" -> inconnu à l'INPI\n",
    "- 3) Remplacement des \"-\" par des \" \" dans la variable `libelleCommuneEtablissement`\n",
    "- 4) Extraction des digits en format liste de la variable `libelleVoieEtablissement`\n",
    "- 5) Calcule du nombre de SIRET par SIREN\n",
    "- 6) Calcule du nombre de digit dans la variable `libelleCommuneEtablissement`\n",
    "    - Si len inférieure a 2, alors NaN. C'est une variable utlisée pendant le matching des règles spéciales\n",
    "    \n",
    "Le fichier est sauvegardé en format gz, et dans un table SQL\n",
    "    - insee_2017_SIZE.gz\n",
    "    - App_insee.db\n",
    "    \n",
    "Un appercu de la table est disponible via cette application `App_insee`."
   ]
  },
  {
   "cell_type": "code",
   "execution_count": null,
   "metadata": {
    "Collapsed": "false"
   },
   "outputs": [],
   "source": [
    "from inpi_insee import preparation_data\n",
    "\n",
    "%load_ext autoreload\n",
    "%autoreload 2"
   ]
  },
  {
   "cell_type": "code",
   "execution_count": null,
   "metadata": {
    "Collapsed": "false"
   },
   "outputs": [],
   "source": [
    "param = {\n",
    "    'communes_insee': r'data\\input\\Parameters\\communes_france.csv',\n",
    "    'upper_word':r'data\\input\\Parameters\\upper_stop.csv',\n",
    "     \"voie\":r'data\\input\\Parameters\\voie.csv',\n",
    "    'insee': r\"data\\RawData\\INSEE\\Stock\\ETS\\StockEtablissement_utf8.csv\",\n",
    "    'inpi_etb': r\"data\\RawData\\INPI\\Stock\\initial_ETS.gz\",\n",
    "    'date_end':\"2018-01-01\"\n",
    "}\n",
    "prep_data = preparation_data.preparation(param)"
   ]
  },
  {
   "cell_type": "code",
   "execution_count": null,
   "metadata": {
    "Collapsed": "false"
   },
   "outputs": [],
   "source": [
    "%%time\n",
    "prep_data.normalize_inpi(save_gz = True, save_sql = True)"
   ]
  },
  {
   "cell_type": "code",
   "execution_count": null,
   "metadata": {
    "Collapsed": "false"
   },
   "outputs": [],
   "source": [
    "%%time\n",
    "prep_data.normalize_insee(siren_inpi_gz = \n",
    "                          r'data\\input\\SIREN_INPI\\inpi_etb_stock_4824158.gz',\n",
    "                                save_gz = True, save_sql = True)"
   ]
  },
  {
   "cell_type": "markdown",
   "metadata": {
    "Collapsed": "true"
   },
   "source": [
    "# Test"
   ]
  },
  {
   "cell_type": "code",
   "execution_count": null,
   "metadata": {
    "Collapsed": "false"
   },
   "outputs": [],
   "source": [
    "test.head()"
   ]
  },
  {
   "cell_type": "code",
   "execution_count": null,
   "metadata": {
    "Collapsed": "false"
   },
   "outputs": [],
   "source": [
    "test.groupby('len_digit_address_insee')['len_digit_address_insee'].count()"
   ]
  },
  {
   "cell_type": "code",
   "execution_count": null,
   "metadata": {
    "Collapsed": "false"
   },
   "outputs": [],
   "source": [
    "test.loc[lambda x: \n",
    "         x['siren'].isin(['752085324'])\n",
    "         & (len(x['special_digit'])>=2)\n",
    "        ]"
   ]
  },
  {
   "cell_type": "code",
   "execution_count": null,
   "metadata": {
    "Collapsed": "false"
   },
   "outputs": [],
   "source": [
    "test.assign(\n",
    "        special_digit = lambda x:\n",
    "        x['libelleVoieEtablissement'].str.findall(r\"(\\d+)\").apply(\n",
    "        lambda x:'&'.join([i for i in x]))\n",
    "        )"
   ]
  }
 ],
 "metadata": {
  "kernelspec": {
   "display_name": "Python 3",
   "language": "python",
   "name": "python3"
  },
  "language_info": {
   "codemirror_mode": {
    "name": "ipython",
    "version": 3
   },
   "file_extension": ".py",
   "mimetype": "text/x-python",
   "name": "python",
   "nbconvert_exporter": "python",
   "pygments_lexer": "ipython3",
   "version": "3.7.6"
  }
 },
 "nbformat": 4,
 "nbformat_minor": 4
}
