{
 "cells": [
  {
   "cell_type": "code",
   "execution_count": null,
   "metadata": {},
   "outputs": [],
   "source": [
    "import sqlite3\n",
    "import pandas as pd\n",
    "\n",
    "conn = sqlite3.connect('TestDB2.db')\n",
    "c = conn.cursor()\n",
    "\n",
    "c.execute('CREATE TABLE CARS (Brand text, Price number)')\n",
    "conn.commit()\n",
    "\n",
    "Cars = {'Brand': ['Honda Civic','Toyota Corolla','Ford Focus','Audi A4'],\n",
    "        'Price': [22000,25000,27000,35000]\n",
    "        }\n",
    "\n",
    "df = pd.DataFrame(Cars, columns= ['Brand', 'Price'])\n",
    "df.to_sql('CARS', conn, if_exists='replace', index = False)\n",
    " \n",
    "c.execute('''  \n",
    "SELECT * FROM CARS\n",
    "          ''')\n",
    "\n",
    "df = pd.DataFrame(c.fetchall(), columns= ['Brand', 'Price'])    \n",
    "print (df)\n",
    "\n",
    "#c.execute('DROP TABLE CARS')"
   ]
  },
  {
   "cell_type": "code",
   "execution_count": null,
   "metadata": {},
   "outputs": [],
   "source": [
    "import ipywidgets as widgets\n",
    "from IPython.display import display\n",
    "import sqlite3\n",
    "import pandas as pd"
   ]
  },
  {
   "cell_type": "code",
   "execution_count": null,
   "metadata": {},
   "outputs": [],
   "source": [
    "list_choice = ['Honda Civic', 'Toyota Corolla', 'Ford Focus', 'Audi A4']"
   ]
  },
  {
   "cell_type": "code",
   "execution_count": null,
   "metadata": {},
   "outputs": [],
   "source": [
    "text_siren = widgets.Text(\n",
    "    value='last',\n",
    "    placeholder='Paste ticket description here!',\n",
    "    description='String:',\n",
    "    disabled=False\n",
    ")\n",
    "\n",
    "output_brand = widgets.Output()\n",
    "def on_change(change):\n",
    "    #\n",
    "\n",
    "    #\"df = pd.DataFrame(c.fetchall())  \n",
    "    #output_brand.clear_output()\n",
    "    conn = sqlite3.connect('TestDB2.db')\n",
    "    c = conn.cursor()\n",
    "    #with output_brand:\n",
    "    if change['type'] == 'change' and change['name'] == 'value':\n",
    "            query = '''SELECT * FROM CARS WHERE Brand = \"%s\"''' % change['new']\n",
    "        \n",
    "            c.execute(query)\n",
    "\n",
    "            df = pd.DataFrame(c.fetchall(), columns= ['Brand', 'Price'])\n",
    "        \n",
    "            display(df)\n",
    "\n",
    "text_siren.observe(on_change)\n",
    "display(text_siren)"
   ]
  },
  {
   "cell_type": "code",
   "execution_count": null,
   "metadata": {},
   "outputs": [],
   "source": [
    "display(output_brand)"
   ]
  },
  {
   "cell_type": "code",
   "execution_count": null,
   "metadata": {},
   "outputs": [],
   "source": []
  },
  {
   "cell_type": "code",
   "execution_count": null,
   "metadata": {},
   "outputs": [],
   "source": []
  }
 ],
 "metadata": {
  "kernelspec": {
   "display_name": "Python 3",
   "language": "python",
   "name": "python3"
  },
  "language_info": {
   "codemirror_mode": {
    "name": "ipython",
    "version": 3
   },
   "file_extension": ".py",
   "mimetype": "text/x-python",
   "name": "python",
   "nbconvert_exporter": "python",
   "pygments_lexer": "ipython3",
   "version": "3.7.6"
  },
  "toc": {
   "base_numbering": 1,
   "nav_menu": {},
   "number_sections": true,
   "sideBar": true,
   "skip_h1_title": false,
   "title_cell": "Table of Contents",
   "title_sidebar": "Contents",
   "toc_cell": false,
   "toc_position": {},
   "toc_section_display": true,
   "toc_window_display": false
  }
 },
 "nbformat": 4,
 "nbformat_minor": 2
}
