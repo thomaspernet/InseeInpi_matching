{
 "cells": [
  {
   "cell_type": "markdown",
   "metadata": {},
   "source": [
    "# Donnée de stock\n",
    "\n",
    "Dans les données de stock, il y a un stock inital a date du 5 mai 2017 et un ensemble de stock initial délivré à différent intervals.\n",
    "\n",
    "\n",
    "\n",
    "## Documentation\n",
    "\n",
    "- [Doc INSEE](https://scm.saas.cagip.group.gca/PERNETTH/database/blob/master/Documentation/IMR/Doc_Tech_IMR_Mai_2019_v1.5.1.pdf)\n",
    "- [etalab](https://github.com/etalab/rncs_worker_api_entreprise)\n",
    "    - [Module data cleaning](https://github.com/etalab/rncs_worker_api_entreprise/blob/master/clean_csv.bash)\n",
    "- Path local: `C:\\Users\\PERNETTH\\Documents\\Projects\\GitLab\\CreationDataBase\\INPI\\TC_1\\Stock\\Stock_initial`\n",
    "- Path Reseau: `G:\\Projets\\PP2019\\2019_PROGRAMME BATICA\\DATA\\INPI\\sources\\IMR_Donnees_Saisies\\tc\\stock\\2017`\n",
    "\n",
    "### Variables communes\n",
    "\n",
    "![image](https://drive.google.com/uc?export=view&id=1laCGFEtxM4bbckNZQEkw1icBjF4pd20-)\n",
    "\n",
    "### Stock\n",
    "\n",
    "Le contenu de chaque fichier est disponible [ici](https://scm.saas.cagip.group.gca/PERNETTH/database/tree/master/INPI/TC_1)\n",
    "\n",
    "Les données brutes sont répertoriées dans des fichiers zip composées de 7 fichiers:\n",
    "\n",
    "- Actes\n",
    "- Comptes Annuels\n",
    "- ETS\n",
    "- OBS\n",
    "- PM\n",
    "- PP\n",
    "- REP\n",
    "\n",
    "### Donnees de flux \n",
    "\n",
    "- Path local: `C:\\Users\\PERNETTH\\Documents\\Projects\\GitLab\\CreationDataBase\\INPI\\TC_1\\Flux`\n",
    "- Path Reseau: `G:\\Projets\\PP2019\\2019_PROGRAMME BATICA\\DATA\\INPI\\sources\\IMR_Donnees_Saisies\\tc\\Flux`\n",
    "\n",
    "Les PP en local sont disponibles ici: `C:\\Users\\PERNETTH\\Documents\\Projects\\GitLab\\CreationDataBase\\INPI\\TC_1\\Flux\\PP`\n",
    "\n",
    "name csv : `0101_1_20170512_112544_4_PP_EVT`\n",
    "    \n",
    "    - code greffe: 0101\n",
    "    - numéro transmission: 1\n",
    "    - Date: 2017-05-12\n",
    "    - heures: 11h25m44s\n",
    "    - Type: PP\n",
    "    - Evenement: Oui\n",
    "\n",
    "**FICHIERS TRANSMIS EN CAS DE MISE A JOUR D’UN DOSSIER (EVENEMENT)**\n",
    "\n",
    "En cas de mise à jour d’un dossier suite à un événement (modification, radiation), les fichiers transmis ont une structure identique aux fichiers créés à l’immatriculation avec la présence de 2 champs spécifiques : la date de l’événement (Date_Greffe) et le libellé de l’événement (Libelle_Evt).\n",
    "\n",
    "Dans ces cas, 6 types de fichiers supplémentaires, numérotés, sont transmis correspondant à :\n",
    "* Evénements modifiant ou complétant les dossiers d’immatriculation des personnes morales (2) ou physiques (4)\n",
    "* Evénements modifiant ou complétant les informations relatives aux représentants (6) ou aux établissements (9)\n",
    "* Evénements supprimant des représentants (7 – Représentant partant) ou des établissements (10 – Etablissement supprimé)\n",
    "\n",
    "![](https://drive.google.com/uc?export=view&id=1FVEGNqogl1NxB84BtdF4TQztCXjmtpyo)\n",
    "\n",
    "Attention, il peut arriver que le même dossier fasse l’objet de plusieurs événements (création et modification) dans la même transmission. Il est impératif d’intégrer les événements dans l’ordre d’apparition.\n",
    "\n",
    "Les csv sont classés de la manière suivante:\n",
    "\n",
    "- Module (ETS, PP, PM, etc)\n",
    "    - NEW: New event\n",
    "    - EVT: Update event"
   ]
  },
  {
   "cell_type": "code",
   "execution_count": null,
   "metadata": {},
   "outputs": [],
   "source": [
    "import boto3\n",
    "\n",
    "import dask.dataframe as dd\n",
    "import pandas as pd\n",
    "import Match_inpi_insee.inpi as inpi\n",
    "%load_ext autoreload\n",
    "%autoreload 2"
   ]
  },
  {
   "cell_type": "code",
   "execution_count": null,
   "metadata": {},
   "outputs": [],
   "source": []
  },
  {
   "cell_type": "markdown",
   "metadata": {},
   "source": [
    "## PP"
   ]
  },
  {
   "cell_type": "code",
   "execution_count": null,
   "metadata": {},
   "outputs": [],
   "source": [
    "dtype = {\n",
    "    \"Code Greffe\": \"int\",\n",
    "    \"Nom_Greffe\": \"str\",\n",
    "    \"Numero_Gestion\": \"str\",\n",
    "    \"Siren\": \"int\",\n",
    "    \"Type_Inscription\": \"str\",\n",
    "    \"Date_Immatriculation\": \"str\",\n",
    "    \"Date_1re_Immatriculation\": \"str\",\n",
    "    \"Date_Radiation\": \"str\",\n",
    "    \"Date_Transfert\": \"str\",\n",
    "    \"Sans_Activité\": \"str\",\n",
    "    \"Date_Debut_Activité\": \"str\",\n",
    "    \"Date_Début_1re_Activité\": \"str\",\n",
    "    \"Date_Cessation_Activité\": \"str\",\n",
    "    \"Nom_Patronymique\": \"str\",\n",
    "    \"Nom_Usage\": \"str\",\n",
    "    \"Pseudonyme\": \"str\",\n",
    "    \"Prénoms\": \"str\",\n",
    "    \"Date_Naissance\": \"str\",\n",
    "    \"Ville_Naissance\": \"str\",\n",
    "    \"Pays_Naissance\": \"str\",\n",
    "    \"Nationalité\": \"str\",\n",
    "    \"Adresse_Ligne1\": \"str\",\n",
    "    \"Adresse_Ligne2\": \"str\",\n",
    "    \"Adresse_Ligne3\": \"str\",\n",
    "    \"Code_Postal\": \"str\",\n",
    "    \"Ville\": \"str\",\n",
    "    \"Code_Commune\": \"str\",\n",
    "    \"Pays\": \"str\",\n",
    "    \"Activité_Forain\": \"str\",\n",
    "    \"EIRL\": \"str\",\n",
    "    \"Auto-entrepreneur\": \"str\",\n",
    "    \"DAP\": \"str\",\n",
    "    \"DAP_Dénomination\": \"str\",\n",
    "    \"DAP_Objet\": \"str\",\n",
    "    \"DAP_Date_Clôture\": \"str\",\n",
    "    \"DAP_Adresse_Ligne1\": \"str\",\n",
    "    \"DAP_Adresse_Ligne2\": \"str\",\n",
    "    \"DAP_Adresse_Ligne3\": \"str\",\n",
    "    \"DAP_Code_Postal\": \"str\",\n",
    "    \"DAP_Ville\": \"str\",\n",
    "    \"DAP_Code_Commune\": \"str\",\n",
    "    \"DAP_Pays\": \"str\",\n",
    "    \"Conjoint_Collab_Nom_Patronym\": \"str\",\n",
    "    \"Conjoint_Collab_Nom_Usage\": \"str\",\n",
    "    \"Conjoint_Collab_Pseudo\": \"str\",\n",
    "    \"Conjoint_Collab_Prénoms\": \"str\",\n",
    "    \"Conjoint_Collab_Date_Fin\": \"str\",\n",
    "    \"Date_Greffe\": \"str\",\n",
    "    \"Libelle_Evt\": \"str\",\n",
    "}\n",
    "\n",
    "parse_dates = [\n",
    "    \"Date_Immatriculation\",\n",
    "    \"Date_1re_Immatriculation\",\n",
    "    \"Date_Radiation\",\n",
    "    \"Date_Transfert\",\n",
    "    \"Date_Debut_Activité\",\n",
    "    \"Date_Début_1re_Activité\",\n",
    "    \"Date_Cessation_Activité\",\n",
    "    \"Date_Naissance\",\n",
    "    \"DAP_Date_Clôture\",\n",
    "    \"Date_Greffe\",\n",
    "]"
   ]
  },
  {
   "cell_type": "code",
   "execution_count": null,
   "metadata": {},
   "outputs": [],
   "source": [
    "option_extract = 'PP'\n",
    "from sagemaker import get_execution_role\n",
    "role = get_execution_role() \n",
    "instance_aws = 'https://calfdata.s3.eu-west-3.amazonaws.com'\n",
    "bucket = 'calfdata'\n",
    "agg_datasock = inpi.inpiStock(instance_aws, bucket)\n",
    "#https://calfdata.s3.eu-west-3.amazonaws.com/INPI/TC_1/Stock/Stock_initial/PP/0101_S1_20170504_3_PP.csv\n",
    "agg_datasock.appendInpiStock(option_extract, dtype, parse_dates)"
   ]
  },
  {
   "cell_type": "code",
   "execution_count": null,
   "metadata": {},
   "outputs": [],
   "source": [
    "filename = 'https://calfdata.s3.eu-west-3.amazonaws.com/INPI/TC_1/Stock/Stock_initial/PP/0101_S1_20170504_3_PP.csv'\n",
    "pd.read_csv(filename, sep=\";\")"
   ]
  },
  {
   "cell_type": "code",
   "execution_count": null,
   "metadata": {},
   "outputs": [],
   "source": [
    "inpi.appendData(\n",
    "    origin=\"PP\",\n",
    "    EVT=False,\n",
    "    dtype=dtype,\n",
    "    parse_date=parse_dates,\n",
    "    path=path_stock,\n",
    "    list_unique=False,\n",
    ")"
   ]
  },
  {
   "cell_type": "code",
   "execution_count": null,
   "metadata": {},
   "outputs": [],
   "source": [
    "inpi.appendData(\n",
    "    origin=\"PP\",\n",
    "    EVT=False,\n",
    "    dtype=dtype,\n",
    "    parse_date=parse_dates,\n",
    "    path=path_flux,\n",
    "    list_unique=False,\n",
    ")"
   ]
  },
  {
   "cell_type": "code",
   "execution_count": null,
   "metadata": {},
   "outputs": [],
   "source": [
    "inpi.appendData(\n",
    "    origin=\"PP\",\n",
    "    EVT=True,\n",
    "    dtype=dtype,\n",
    "    parse_date=parse_dates,\n",
    "    path=path_flux,\n",
    "    list_unique=False,\n",
    ")"
   ]
  },
  {
   "cell_type": "code",
   "execution_count": null,
   "metadata": {},
   "outputs": [],
   "source": [
    "df_pp_initial.loc[lambda x: x[\"Siren\"].isin([827575812])].T"
   ]
  },
  {
   "cell_type": "code",
   "execution_count": null,
   "metadata": {},
   "outputs": [],
   "source": [
    "df_pp_update.loc[lambda x: x[\"Siren\"].isin([827575812])].T"
   ]
  },
  {
   "cell_type": "markdown",
   "metadata": {},
   "source": [
    "## PM"
   ]
  },
  {
   "cell_type": "code",
   "execution_count": null,
   "metadata": {},
   "outputs": [],
   "source": [
    "dtype = {\n",
    "    \"Code Greffe\": \"int\",\n",
    "    \"Nom_Greffe\": \"str\",\n",
    "    \"Numero_Gestion\": \"str\",\n",
    "    \"Siren\": \"int\",\n",
    "    \"Type_Inscription\": \"str\",\n",
    "    \"Date_Immatriculation\": \"str\",\n",
    "    \"Date_1re_Immatriculation\": \"str\",\n",
    "    \"Date_Radiation\": \"str\",\n",
    "    \"Date_Transfert\": \"str\",\n",
    "    \"Sans_Activité\": \"str\",\n",
    "    \"Date_Debut_Activité\": \"str\",\n",
    "    \"Date_Début_1re_Activité\": \"str\",\n",
    "    \"Date_Cessation_Activité\": \"str\",\n",
    "    \"Denomination\": \"str\",\n",
    "    \"Sigle\": \"str\",\n",
    "    \"Forme_Juridique\": \"str\",\n",
    "    \"Associé_Unique\": \"str\",\n",
    "    \"Activité_Principale\": \"str\",\n",
    "    \"Type_Capital\": \"str\",\n",
    "    \"Capital\": \"float64\",\n",
    "    \"Capital_Actuel\": \"float64\",\n",
    "    \"Devise\": \"str\",\n",
    "    \"Date_Clôture\": \"str\",\n",
    "    \"Date_Clôture_Except.\": \"str\",\n",
    "    \"Economie_Sociale_Solidaire\": \"str\",\n",
    "    \"Durée_PM\": pd.Int64Dtype(),\n",
    "    \"Date_Greffe\": \"str\",\n",
    "    \"Libelle_Evt\": \"str\",\n",
    "}\n",
    "\n",
    "parse_dates = [\n",
    "    \"Date_Immatriculation\",\n",
    "    \"Date_1re_Immatriculation\",\n",
    "    \"Date_Radiation\",\n",
    "    \"Date_Transfert\",\n",
    "    \"Date_Debut_Activité\",\n",
    "    \"Date_Début_1re_Activité\",\n",
    "    \"Date_Cessation_Activité\",\n",
    "    \"Date_Clôture\",\n",
    "    \"Date_Clôture_Except.\",\n",
    "    \"Date_Greffe\",\n",
    "]"
   ]
  },
  {
   "cell_type": "code",
   "execution_count": null,
   "metadata": {},
   "outputs": [],
   "source": [
    "inpi.appendData(\n",
    "    origin=\"PM\",\n",
    "    EVT=False,\n",
    "    dtype=dtype,\n",
    "    parse_date=parse_dates,\n",
    "    path=path_stock,\n",
    "    list_unique=False,\n",
    ")"
   ]
  },
  {
   "cell_type": "code",
   "execution_count": null,
   "metadata": {},
   "outputs": [],
   "source": [
    "inpi.appendData(\n",
    "    origin=\"PM\",\n",
    "    EVT=False,\n",
    "    dtype=dtype,\n",
    "    parse_date=parse_dates,\n",
    "    path=path_flux,\n",
    "    list_unique=False,\n",
    ")"
   ]
  },
  {
   "cell_type": "code",
   "execution_count": null,
   "metadata": {},
   "outputs": [],
   "source": [
    "inpi.appendData(\n",
    "    origin=\"PM\",\n",
    "    EVT=False,\n",
    "    dtype=dtype,\n",
    "    parse_date=parse_dates,\n",
    "    path=path_flux,\n",
    "    list_unique=False,\n",
    ")"
   ]
  },
  {
   "cell_type": "markdown",
   "metadata": {},
   "source": [
    "## REP\n",
    "\n",
    "Doc REP: https://scm.saas.cagip.group.gca/PERNETTH/database/blob/master/Documentation/IMR/Doc_Tech_IMR_Mai_2019_v1.5.1.pdf\n",
    "- page 30\n",
    "\n",
    "Attention, certains champs sont remplis selon le type de la société. Ex SIREN -> Si type =PM\n",
    "\n",
    "Pourquoi deux SIREN?\n",
    "\n",
    "Le deuxième siren correspond a celui de la PM qui detient l'entreprise.\n",
    "\n",
    "Ex: Peugeot a plusieurs détenteur. Le détenteur possède un siren, il sera affiché dans siren.1 uniquement si détenteur est une PM"
   ]
  },
  {
   "cell_type": "code",
   "execution_count": null,
   "metadata": {},
   "outputs": [],
   "source": [
    "dtype = {\n",
    "    \"Code Greffe\": \"int\",\n",
    "    \"Nom_Greffe\": \"str\",\n",
    "    \"Numero_Gestion\": \"str\",\n",
    "    \"Siren\": \"int\",\n",
    "    \"Type\": \"str\",\n",
    "    \"Nom_Patronymique\": \"str\",\n",
    "    \"Nom_Usage\": \"str\",\n",
    "    \"Pseudonyme\": \"str\",\n",
    "    \"Prénoms\": \"str\",\n",
    "    \"Dénomination\": \"str\",\n",
    "    \"Siren.1\": \"str\",\n",
    "    \"Forme_Juridique\": \"str\",\n",
    "    \"Adresse_Ligne1\": \"str\",\n",
    "    \"Adresse_Ligne2\": \"str\",\n",
    "    \"Adresse_Ligne3\": \"str\",\n",
    "    \"Code_Postal\": \"str\",\n",
    "    \"Ville\": \"str\",\n",
    "    \"Code_Commune\": \"str\",\n",
    "    \"Pays\": \"str\",\n",
    "    \"Date_Naissance\": \"str\",\n",
    "    \"Ville_Naissance\": \"str\",\n",
    "    \"Pays_Naissance\": \"str\",\n",
    "    \"Nationalité\": \"str\",\n",
    "    \"Qualité\": \"str\",\n",
    "    \"Rep_Perm_Nom\": \"str\",\n",
    "    \"Rep_Perm_Nom_Usage\": \"str\",\n",
    "    \"Rep_Perm_Pseudo\": \"str\",\n",
    "    \"Rep_Perm_Prénoms\": \"str\",\n",
    "    \"Rep_Perm_Date_Naissance\": \"str\",\n",
    "    \"Rep_Perm_Ville_Naissance\": \"str\",\n",
    "    \"Rep_Perm_Pays_Naissance\": \"str\",\n",
    "    \"Rep_Perm_Nationalité\": \"str\",\n",
    "    \"Rep_Perm_Adr_Ligne1\": \"str\",\n",
    "    \"Rep_Perm_Adr_Ligne2\": \"str\",\n",
    "    \"Rep_Perm_Adr_Ligne3\": \"str\",\n",
    "    \"Rep_Perm_Code_Postal\": \"str\",\n",
    "    \"Rep_Perm_Ville\": \"str\",\n",
    "    \"Rep_Perm_Code_Commune\": \"str\",\n",
    "    \"Rep_Perm_Pays\": \"str\",\n",
    "    \"Conjoint_Collab_Nom_Patronym\": \"str\",\n",
    "    \"Conjoint_Collab_Nom_Usage\": \"str\",\n",
    "    \"Conjoint_Collab_Pseudo\": \"str\",\n",
    "    \"Conjoint_Collab_Prénoms\": \"str\",\n",
    "    \"Conjoint_Collab_Date_Fin\": \"str\",\n",
    "    \"ID_Représentant\": \"str\",\n",
    "    \"date_greffe\": \"str\",\n",
    "    \"Libelle_Evt\": \"str\",\n",
    "}\n",
    "\n",
    "parse_dates = [\"Date_Naissance\", \"date_greffe\"]"
   ]
  },
  {
   "cell_type": "code",
   "execution_count": null,
   "metadata": {},
   "outputs": [],
   "source": [
    "inpi.appendData(\n",
    "    origin=\"REP\",\n",
    "    EVT=False,\n",
    "    dtype=dtype,\n",
    "    parse_date=parse_dates,\n",
    "    path=path_stock,\n",
    "    list_unique=False,\n",
    ")"
   ]
  },
  {
   "cell_type": "code",
   "execution_count": null,
   "metadata": {},
   "outputs": [],
   "source": [
    "inpi.appendData(\n",
    "    origin=\"REP\",\n",
    "    EVT=False,\n",
    "    dtype=dtype,\n",
    "    parse_date=parse_dates,\n",
    "    path=path_flux,\n",
    "    list_unique=False,\n",
    ")"
   ]
  },
  {
   "cell_type": "code",
   "execution_count": null,
   "metadata": {},
   "outputs": [],
   "source": [
    "inpi.appendData(\n",
    "    origin=\"REP\",\n",
    "    EVT=False,\n",
    "    dtype=dtype,\n",
    "    parse_date=parse_dates,\n",
    "    path=path_flux,\n",
    "    list_unique=False,\n",
    ")"
   ]
  },
  {
   "cell_type": "markdown",
   "metadata": {},
   "source": [
    "## ETS"
   ]
  },
  {
   "cell_type": "code",
   "execution_count": null,
   "metadata": {},
   "outputs": [],
   "source": [
    "dtype = {\n",
    "    \"Code Greffe\": \"int\",\n",
    "    \"Nom_Greffe\": \"str\",\n",
    "    \"Numero_Gestion\": \"str\",\n",
    "    \"Siren\": \"int\",\n",
    "    \"Type\": \"str\",\n",
    "    \"Siège_PM\": \"str\",\n",
    "    \"RCS_Registre\": \"str\",\n",
    "    \"Adresse_Ligne1\": \"str\",\n",
    "    \"Adresse_Ligne2\": \"str\",\n",
    "    \"Adresse_Ligne3\": \"str\",\n",
    "    \"Code_Postal\": \"str\",\n",
    "    \"Ville\": \"str\",\n",
    "    \"Code_Commune\": \"str\",\n",
    "    \"Pays\": \"str\",\n",
    "    \"Domiciliataire_Nom\": \"str\",\n",
    "    \"Domiciliataire_Siren\": \"str\",\n",
    "    \"Domiciliataire_Greffe\": \"str\",\n",
    "    \"Domiciliataire_Complément\": \"str\",\n",
    "    \"Siege_Domicile_Représentant\": \"str\",\n",
    "    \"Nom_Commercial\": \"str\",\n",
    "    \"Enseigne\": \"str\",\n",
    "    \"Activité_Ambulante\": \"str\",\n",
    "    \"Activité_Saisonnière\": \"str\",\n",
    "    \"Activité_Non_Sédentaire\": \"str\",\n",
    "    \"Date_Début_Activité\": \"str\",\n",
    "    \"Activité\": \"str\",\n",
    "    \"Origine_Fonds\": \"str\",\n",
    "    \"Origine_Fonds_Info\": \"str\",\n",
    "    \"Type_Exploitation\": \"str\",\n",
    "    \"ID_Etablissement\": \"int\",\n",
    "    \"Date_Greffe\": \"str\",\n",
    "    \"Libelle_Evt\": \"str\",\n",
    "}\n",
    "\n",
    "parse_dates = [\"Date_Début_Activité\", \"Date_Greffe\"]"
   ]
  },
  {
   "cell_type": "code",
   "execution_count": null,
   "metadata": {
    "scrolled": true
   },
   "outputs": [],
   "source": [
    "inpi.appendData(\n",
    "    origin=\"ETS\",\n",
    "    EVT=False,\n",
    "    dtype=dtype,\n",
    "    parse_date=parse_dates,\n",
    "    path=path_stock,\n",
    "    list_unique=False,\n",
    ")"
   ]
  },
  {
   "cell_type": "code",
   "execution_count": null,
   "metadata": {},
   "outputs": [],
   "source": [
    "inpi.appendData(\n",
    "    origin=\"ETS\",\n",
    "    EVT=False,\n",
    "    dtype=dtype,\n",
    "    parse_date=parse_dates,\n",
    "    path=path_flux,\n",
    "    list_unique=False,\n",
    ")"
   ]
  },
  {
   "cell_type": "code",
   "execution_count": null,
   "metadata": {},
   "outputs": [],
   "source": [
    "inpi.appendData(\n",
    "    origin=\"ETS\",\n",
    "    EVT=True,\n",
    "    dtype=dtype,\n",
    "    parse_date=parse_dates,\n",
    "    path=path_flux,\n",
    "    list_unique=False,\n",
    ")"
   ]
  },
  {
   "cell_type": "markdown",
   "metadata": {},
   "source": [
    "## ACTES"
   ]
  },
  {
   "cell_type": "code",
   "execution_count": null,
   "metadata": {},
   "outputs": [],
   "source": [
    "dtype = {\n",
    "    'Code Greffe':'int',\n",
    " 'Nom_Greffe':'str',\n",
    " 'Numero_Gestion':'str',\n",
    " 'Siren':'int',\n",
    " 'Date_Dépôt':'str',\n",
    " 'Numéro_Dépôt':'str',\n",
    " 'Date_Acte':'str',\n",
    " 'Type_Acte':'str',\n",
    " 'Décision':'str',\n",
    " 'Etat':'str'\n",
    "}\n",
    "\n",
    "parse_dates = [\"Date_Dépôt\", \"Date_Acte\"]"
   ]
  },
  {
   "cell_type": "code",
   "execution_count": null,
   "metadata": {},
   "outputs": [],
   "source": [
    "inpi.appendData(\n",
    "    origin=\"ACTES\",\n",
    "    EVT=False,\n",
    "    dtype=dtype,\n",
    "    parse_date=parse_dates,\n",
    "    path=path_stock,\n",
    "    list_unique=False,\n",
    ")"
   ]
  },
  {
   "cell_type": "code",
   "execution_count": null,
   "metadata": {},
   "outputs": [],
   "source": [
    "inpi.appendData(\n",
    "    origin=\"ACTES\",\n",
    "    EVT=False,\n",
    "    dtype=dtype,\n",
    "    parse_date=parse_dates,\n",
    "    path=path_flux,\n",
    "    list_unique=False,\n",
    ")"
   ]
  },
  {
   "cell_type": "code",
   "execution_count": null,
   "metadata": {},
   "outputs": [],
   "source": [
    "inpi.appendData(\n",
    "    origin=\"ACTES\",\n",
    "    EVT=True,\n",
    "    dtype=dtype,\n",
    "    parse_date=parse_dates,\n",
    "    path=path_flux,\n",
    "    list_unique=False,\n",
    ")"
   ]
  },
  {
   "cell_type": "markdown",
   "metadata": {},
   "source": [
    "## COMPTES ANNUELS"
   ]
  },
  {
   "cell_type": "code",
   "execution_count": null,
   "metadata": {},
   "outputs": [],
   "source": [
    "dtype = {\n",
    "    'Code Greffe':'int',\n",
    " 'Nom_Greffe':'str',\n",
    " 'Numero_Gestion':'str',\n",
    " 'Siren':'int',\n",
    " 'Date_Dépôt':'str',\n",
    " 'Numéro_Dépôt':'str',\n",
    " 'Date_Clôture':'str',\n",
    " 'Durée_Exercice':pd.Int64Dtype(),\n",
    " 'Type_Remise':'str',\n",
    " 'Confidentialité':'str',\n",
    " 'Confidentialité_Compte_résultat':'str',\n",
    " 'Etat':'str'\n",
    "}\n",
    "\n",
    "parse_dates = [\"Date_Dépôt\", \"Date_Clôture\"]"
   ]
  },
  {
   "cell_type": "code",
   "execution_count": null,
   "metadata": {},
   "outputs": [],
   "source": [
    "inpi.appendData(\n",
    "    origin=\"COMPTES_ANNUELS\",\n",
    "    EVT=False,\n",
    "    dtype=dtype,\n",
    "    parse_date=parse_dates,\n",
    "    path=path_stock,\n",
    "    list_unique=False,\n",
    ")"
   ]
  },
  {
   "cell_type": "code",
   "execution_count": null,
   "metadata": {},
   "outputs": [],
   "source": [
    "inpi.appendData(\n",
    "    origin=\"COMPTES_ANNUELS\",\n",
    "    EVT=False,\n",
    "    dtype=dtype,\n",
    "    parse_date=parse_dates,\n",
    "    path=path_flux,\n",
    "    list_unique=False,\n",
    ")"
   ]
  },
  {
   "cell_type": "code",
   "execution_count": null,
   "metadata": {},
   "outputs": [],
   "source": [
    "inpi.appendData(\n",
    "    origin=\"COMPTES_ANNUELS\",\n",
    "    EVT=True,\n",
    "    dtype=dtype,\n",
    "    parse_date=parse_dates,\n",
    "    path=path_flux,\n",
    "    list_unique=False,\n",
    ")"
   ]
  },
  {
   "cell_type": "markdown",
   "metadata": {},
   "source": [
    "## OBS"
   ]
  },
  {
   "cell_type": "code",
   "execution_count": null,
   "metadata": {},
   "outputs": [],
   "source": [
    "dtype = {\n",
    "    'Code Greffe':'int',\n",
    " 'Nom_Greffe':'str',\n",
    " 'Numero_Gestion':'str',\n",
    " 'Siren':'int',\n",
    " 'ID_Observation':'int',\n",
    " 'Numéro_Observation':'int',\n",
    " 'Date_Ajout':'str',\n",
    " 'Date_Suppression':'str',\n",
    " 'Texte':'str',\n",
    " 'Date_Greffe':'str',\n",
    " 'Etat ':'str'\n",
    "}\n",
    "\n",
    "parse_dates = [\"Date_Ajout\", \"Date_Suppression\", \"Date_Greffe\"]"
   ]
  },
  {
   "cell_type": "code",
   "execution_count": null,
   "metadata": {},
   "outputs": [],
   "source": [
    "inpi.appendData(\n",
    "    origin=\"OBS\",\n",
    "    EVT=False,\n",
    "    dtype=dtype,\n",
    "    parse_date=parse_dates,\n",
    "    path=path_stock,\n",
    "    list_unique=False,\n",
    ")"
   ]
  },
  {
   "cell_type": "code",
   "execution_count": null,
   "metadata": {},
   "outputs": [],
   "source": [
    "inpi.appendData(\n",
    "    origin=\"OBS\",\n",
    "    EVT=False,\n",
    "    dtype=dtype,\n",
    "    parse_date=parse_dates,\n",
    "    path=path_flux,\n",
    "    list_unique=False,\n",
    ")"
   ]
  },
  {
   "cell_type": "code",
   "execution_count": null,
   "metadata": {},
   "outputs": [],
   "source": [
    "inpi.appendData(\n",
    "    origin=\"OBS\",\n",
    "    EVT=True,\n",
    "    dtype=dtype,\n",
    "    parse_date=parse_dates,\n",
    "    path=path_flux,\n",
    "    list_unique=False,\n",
    ")"
   ]
  }
 ],
 "metadata": {
  "kernelspec": {
   "display_name": "conda_python3",
   "language": "python",
   "name": "conda_python3"
  },
  "language_info": {
   "codemirror_mode": {
    "name": "ipython",
    "version": 3
   },
   "file_extension": ".py",
   "mimetype": "text/x-python",
   "name": "python",
   "nbconvert_exporter": "python",
   "pygments_lexer": "ipython3",
   "version": "3.6.5"
  },
  "toc": {
   "base_numbering": 1,
   "nav_menu": {},
   "number_sections": true,
   "sideBar": true,
   "skip_h1_title": false,
   "title_cell": "Table of Contents",
   "title_sidebar": "Contents",
   "toc_cell": false,
   "toc_position": {
    "height": "calc(100% - 180px)",
    "left": "10px",
    "top": "150px",
    "width": "165px"
   },
   "toc_section_display": true,
   "toc_window_display": true
  }
 },
 "nbformat": 4,
 "nbformat_minor": 4
}
