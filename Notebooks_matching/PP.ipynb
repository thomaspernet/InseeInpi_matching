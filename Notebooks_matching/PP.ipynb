{
 "cells": [
  {
   "cell_type": "markdown",
   "metadata": {},
   "source": [
    "# Test Matching Insee/PM\n",
    "\n",
    "## INSEE\n",
    "\n",
    "- https://s3.console.aws.amazon.com/s3/object/calfdata/INSEE/Stock/ETS/\n",
    "        - INSEE/Stock/ETS/StockEtablissement_utf8.csv\n",
    "        \n",
    "```\n",
    "['siren', 'siret']\n",
    "```\n",
    "\n",
    "## INPI\n",
    "\n",
    "- https://s3.console.aws.amazon.com/s3/buckets/calfdata/INPI/TC_1/Stock_processed/\n",
    "    - INPI/TC_1/Stock_processed/initial_PP.gz\n",
    "    - INPI/TC_1/Stock_processed/initial_PP.json\n",
    "    \n",
    "Colonnes test:\n",
    "\n",
    "```\n",
    "[\"Siren\",\"Date_Immatriculation\", \"Date_Clôture\", \"Date_Greffe\"]\n",
    "```\n",
    "\n",
    "## Sauvegarde\n",
    "\n",
    "* La liste des SIREN matchés sera sauvegardée selon leur nature et origine\n",
    "  * nature → ACTES/COMPTES/ETS/etc\n",
    "  * origine → initial/partiel/new/evt\n",
    "\n",
    "Les matchés seront sauvegardé dans calfdata/SIRETISATION/matche/ au format suivant:\n",
    "\n",
    "* insee_nature_origine_matche.gz\n",
    "    * ex: insee_pm_initial_matche.gz\n",
    "    \n",
    "    \n",
    "\n",
    "## Moteur de recherche TEST\n",
    "\n",
    "* Insee\n",
    "  * http://avis-situation-sirene.insee.fr/IdentificationListeSiret.action\n",
    "* INPI/TC\n",
    "  * https://data.inpi.fr/\n"
   ]
  },
  {
   "cell_type": "code",
   "execution_count": 28,
   "metadata": {},
   "outputs": [
    {
     "name": "stdout",
     "output_type": "stream",
     "text": [
      "The autoreload extension is already loaded. To reload it, use:\n",
      "  %reload_ext autoreload\n"
     ]
    }
   ],
   "source": [
    "import boto3, json\n",
    "import dask.dataframe as dd\n",
    "import pandas as pd\n",
    "import Match_inpi_insee.aws_connectors as aws\n",
    "#from tqdm.notebook import tqdm\n",
    "#import tqdm\n",
    "%load_ext autoreload\n",
    "%autoreload 2"
   ]
  },
  {
   "cell_type": "code",
   "execution_count": 169,
   "metadata": {},
   "outputs": [],
   "source": [
    "instance_aws = 'https://calfdata.s3.eu-west-3.amazonaws.com'\n",
    "bucket = 'calfdata'\n",
    "\n",
    "# define import paths\n",
    "insee_csv_relative_filepath = \"INSEE/Stock/ETS/StockEtablissement_utf8.csv\"\n",
    "\n",
    "inpi_relative_path = \"INPI/TC_1/Stock_processed\"\n",
    "inpi_nature = 'PP' #* nature → ACTES/COMPTES/ETS/etc\n",
    "inpi_origin = 'initial' #* origine → initial/partiel/new/evt\n",
    "inpi_json_file_name =  \"{}_{}.{}\".format(inpi_origin,inpi_nature,'json')\n",
    "inpi_gz_file_name = \"{}_{}.{}\".format(inpi_origin,inpi_nature,'gz')\n",
    "\n",
    "inpi_json_relative_filepath =\"{}/{}\".format(inpi_relative_path,inpi_json_file_name)\n",
    "inpi_gz_relative_filepath = \"{}/{}\".format(inpi_relative_path,inpi_gz_file_name)"
   ]
  },
  {
   "cell_type": "code",
   "execution_count": 257,
   "metadata": {},
   "outputs": [],
   "source": [
    "# instanciate AWS connection\n",
    "AWS_connection = aws.aws_instantiate(instance_aws, bucket)\n",
    "AWS_connection.uploadFileBucket(pathfile =inpi_json_relative_filepath)\n"
   ]
  },
  {
   "cell_type": "code",
   "execution_count": null,
   "metadata": {},
   "outputs": [],
   "source": [
    "# get files\n",
    "\n",
    "# json recap\n",
    "with open(json_file_name, 'r') as f:\n",
    "    pp_json = json.load(f)\n",
    "\n",
    "# data    \n",
    "insee = AWS_connection.url_instance_bucket(path_file = insee_csv_relative_filepath)\n",
    "pp = AWS_connection.url_instance_bucket(path_file = inpi_gz_relative_filepath)"
   ]
  },
  {
   "cell_type": "code",
   "execution_count": 234,
   "metadata": {},
   "outputs": [],
   "source": [
    "# load data into dataframes\n",
    "\n",
    "data_ets_= dd.read_csv(insee, \n",
    "                       usecols = ['siren', 'siret'],\n",
    "                       dtype={'siren':'object',\n",
    "                              'siret':'object'}\n",
    "                      )\n",
    "\n",
    "dtypes__ = {'Siren':'object',\n",
    "            'Adresse_Ligne1': 'object',\n",
    "       'Code_Commune': 'object',\n",
    "       'Code_Postal': 'object',\n",
    "       'Conjoint_Collab_Pseudo': 'object',\n",
    "       'DAP_Adresse_Ligne1': 'object',\n",
    "       'DAP_Code_Commune': 'object',\n",
    "       'Date_1re_Immatriculation': 'object',\n",
    "       'Sans_Activité': 'object'}\n",
    "\n",
    "data_pp_= dd.read_csv(pp, \n",
    "                       usecols =[\"Siren\",\n",
    "                                ],\n",
    "                      dtype= {'Siren':'object'},\n",
    "                      compression='gzip',\n",
    "                      blocksize=None,\n",
    "                      low_memory=False\n",
    "                      )\n"
   ]
  },
  {
   "cell_type": "code",
   "execution_count": null,
   "metadata": {},
   "outputs": [],
   "source": [
    "'''\n",
    "J'ai un problème pour le compute avec toutes les colonnes de pp\n",
    "\n",
    "\n",
    "dtypes__ = {'Siren':'object',\n",
    "            'Adresse_Ligne1': 'object',\n",
    "       'Code_Commune': 'object',\n",
    "       'Code_Postal': 'object',\n",
    "       'Conjoint_Collab_Pseudo': 'object',\n",
    "       'DAP_Adresse_Ligne1': 'object',\n",
    "       'DAP_Code_Commune': 'object',\n",
    "       'Date_1re_Immatriculation': 'object',\n",
    "       'Sans_Activité': 'object'}\n",
    "\n",
    "data_pp_= dd.read_csv(pp, \n",
    "                      # usecols =[\"Siren\",\n",
    "                      #          ],\n",
    "                      dtype=dtypes__,\n",
    "                      compression='gzip',\n",
    "                      blocksize=None,\n",
    "                      low_memory=False\n",
    "                      )'''"
   ]
  },
  {
   "cell_type": "code",
   "execution_count": 232,
   "metadata": {},
   "outputs": [
    {
     "data": {
      "text/html": [
       "<div>\n",
       "<style scoped>\n",
       "    .dataframe tbody tr th:only-of-type {\n",
       "        vertical-align: middle;\n",
       "    }\n",
       "\n",
       "    .dataframe tbody tr th {\n",
       "        vertical-align: top;\n",
       "    }\n",
       "\n",
       "    .dataframe thead th {\n",
       "        text-align: right;\n",
       "    }\n",
       "</style>\n",
       "<table border=\"1\" class=\"dataframe\">\n",
       "  <thead>\n",
       "    <tr style=\"text-align: right;\">\n",
       "      <th></th>\n",
       "      <th>Code Greffe</th>\n",
       "      <th>Nom_Greffe</th>\n",
       "      <th>Numero_Gestion</th>\n",
       "      <th>Siren</th>\n",
       "      <th>Type_Inscription</th>\n",
       "      <th>Date_Immatriculation</th>\n",
       "      <th>Date_1re_Immatriculation</th>\n",
       "      <th>Date_Radiation</th>\n",
       "      <th>Date_Transfert</th>\n",
       "      <th>Sans_Activité</th>\n",
       "      <th>...</th>\n",
       "      <th>DAP_Ville</th>\n",
       "      <th>DAP_Code_Commune</th>\n",
       "      <th>DAP_Pays</th>\n",
       "      <th>Conjoint_Collab_Nom_Patronym</th>\n",
       "      <th>Conjoint_Collab_Nom_Usage</th>\n",
       "      <th>Conjoint_Collab_Pseudo</th>\n",
       "      <th>Conjoint_Collab_Prénoms</th>\n",
       "      <th>Conjoint_Collab_Date_Fin</th>\n",
       "      <th>Date_Greffe</th>\n",
       "      <th>Libelle_Evt</th>\n",
       "    </tr>\n",
       "  </thead>\n",
       "  <tbody>\n",
       "    <tr>\n",
       "      <th>0</th>\n",
       "      <td>101</td>\n",
       "      <td>Bourg-en-Bresse</td>\n",
       "      <td>2002A00253</td>\n",
       "      <td>442377040</td>\n",
       "      <td>P</td>\n",
       "      <td>2002-06-18</td>\n",
       "      <td>NaN</td>\n",
       "      <td>NaN</td>\n",
       "      <td>NaN</td>\n",
       "      <td>NaN</td>\n",
       "      <td>...</td>\n",
       "      <td>NaN</td>\n",
       "      <td>NaN</td>\n",
       "      <td>NaN</td>\n",
       "      <td>NaN</td>\n",
       "      <td>NaN</td>\n",
       "      <td>NaN</td>\n",
       "      <td>NaN</td>\n",
       "      <td>NaN</td>\n",
       "      <td>2015-08-04</td>\n",
       "      <td>Création</td>\n",
       "    </tr>\n",
       "    <tr>\n",
       "      <th>1</th>\n",
       "      <td>101</td>\n",
       "      <td>Bourg-en-Bresse</td>\n",
       "      <td>2015A00093</td>\n",
       "      <td>809861297</td>\n",
       "      <td>P</td>\n",
       "      <td>2015-02-27</td>\n",
       "      <td>NaN</td>\n",
       "      <td>NaN</td>\n",
       "      <td>NaN</td>\n",
       "      <td>NaN</td>\n",
       "      <td>...</td>\n",
       "      <td>NaN</td>\n",
       "      <td>NaN</td>\n",
       "      <td>NaN</td>\n",
       "      <td>NaN</td>\n",
       "      <td>NaN</td>\n",
       "      <td>NaN</td>\n",
       "      <td>NaN</td>\n",
       "      <td>NaN</td>\n",
       "      <td>2015-02-27</td>\n",
       "      <td>Création</td>\n",
       "    </tr>\n",
       "    <tr>\n",
       "      <th>2</th>\n",
       "      <td>101</td>\n",
       "      <td>Bourg-en-Bresse</td>\n",
       "      <td>2005A00087</td>\n",
       "      <td>480952712</td>\n",
       "      <td>P</td>\n",
       "      <td>2005-02-23</td>\n",
       "      <td>NaN</td>\n",
       "      <td>NaN</td>\n",
       "      <td>NaN</td>\n",
       "      <td>NaN</td>\n",
       "      <td>...</td>\n",
       "      <td>NaN</td>\n",
       "      <td>NaN</td>\n",
       "      <td>NaN</td>\n",
       "      <td>NaN</td>\n",
       "      <td>NaN</td>\n",
       "      <td>NaN</td>\n",
       "      <td>NaN</td>\n",
       "      <td>NaN</td>\n",
       "      <td>2017-05-03</td>\n",
       "      <td>Création</td>\n",
       "    </tr>\n",
       "    <tr>\n",
       "      <th>3</th>\n",
       "      <td>101</td>\n",
       "      <td>Bourg-en-Bresse</td>\n",
       "      <td>1992A00503</td>\n",
       "      <td>388239667</td>\n",
       "      <td>P</td>\n",
       "      <td>1992-10-14</td>\n",
       "      <td>NaN</td>\n",
       "      <td>NaN</td>\n",
       "      <td>NaN</td>\n",
       "      <td>NaN</td>\n",
       "      <td>...</td>\n",
       "      <td>NaN</td>\n",
       "      <td>NaN</td>\n",
       "      <td>NaN</td>\n",
       "      <td>NaN</td>\n",
       "      <td>NaN</td>\n",
       "      <td>NaN</td>\n",
       "      <td>NaN</td>\n",
       "      <td>NaN</td>\n",
       "      <td>2017-05-03</td>\n",
       "      <td>Création</td>\n",
       "    </tr>\n",
       "    <tr>\n",
       "      <th>4</th>\n",
       "      <td>101</td>\n",
       "      <td>Bourg-en-Bresse</td>\n",
       "      <td>2017A00279</td>\n",
       "      <td>828427245</td>\n",
       "      <td>P</td>\n",
       "      <td>2017-04-18</td>\n",
       "      <td>NaN</td>\n",
       "      <td>NaN</td>\n",
       "      <td>NaN</td>\n",
       "      <td>NaN</td>\n",
       "      <td>...</td>\n",
       "      <td>NaN</td>\n",
       "      <td>NaN</td>\n",
       "      <td>NaN</td>\n",
       "      <td>NaN</td>\n",
       "      <td>NaN</td>\n",
       "      <td>NaN</td>\n",
       "      <td>NaN</td>\n",
       "      <td>NaN</td>\n",
       "      <td>2017-04-18</td>\n",
       "      <td>Création</td>\n",
       "    </tr>\n",
       "  </tbody>\n",
       "</table>\n",
       "<p>5 rows × 49 columns</p>\n",
       "</div>"
      ],
      "text/plain": [
       "   Code Greffe       Nom_Greffe Numero_Gestion      Siren Type_Inscription  \\\n",
       "0          101  Bourg-en-Bresse     2002A00253  442377040                P   \n",
       "1          101  Bourg-en-Bresse     2015A00093  809861297                P   \n",
       "2          101  Bourg-en-Bresse     2005A00087  480952712                P   \n",
       "3          101  Bourg-en-Bresse     1992A00503  388239667                P   \n",
       "4          101  Bourg-en-Bresse     2017A00279  828427245                P   \n",
       "\n",
       "  Date_Immatriculation Date_1re_Immatriculation  Date_Radiation  \\\n",
       "0           2002-06-18                      NaN             NaN   \n",
       "1           2015-02-27                      NaN             NaN   \n",
       "2           2005-02-23                      NaN             NaN   \n",
       "3           1992-10-14                      NaN             NaN   \n",
       "4           2017-04-18                      NaN             NaN   \n",
       "\n",
       "  Date_Transfert Sans_Activité  ... DAP_Ville DAP_Code_Commune DAP_Pays  \\\n",
       "0            NaN           NaN  ...       NaN              NaN      NaN   \n",
       "1            NaN           NaN  ...       NaN              NaN      NaN   \n",
       "2            NaN           NaN  ...       NaN              NaN      NaN   \n",
       "3            NaN           NaN  ...       NaN              NaN      NaN   \n",
       "4            NaN           NaN  ...       NaN              NaN      NaN   \n",
       "\n",
       "  Conjoint_Collab_Nom_Patronym Conjoint_Collab_Nom_Usage  \\\n",
       "0                          NaN                       NaN   \n",
       "1                          NaN                       NaN   \n",
       "2                          NaN                       NaN   \n",
       "3                          NaN                       NaN   \n",
       "4                          NaN                       NaN   \n",
       "\n",
       "  Conjoint_Collab_Pseudo Conjoint_Collab_Prénoms Conjoint_Collab_Date_Fin  \\\n",
       "0                    NaN                     NaN                      NaN   \n",
       "1                    NaN                     NaN                      NaN   \n",
       "2                    NaN                     NaN                      NaN   \n",
       "3                    NaN                     NaN                      NaN   \n",
       "4                    NaN                     NaN                      NaN   \n",
       "\n",
       "  Date_Greffe Libelle_Evt  \n",
       "0  2015-08-04    Création  \n",
       "1  2015-02-27    Création  \n",
       "2  2017-05-03    Création  \n",
       "3  2017-05-03    Création  \n",
       "4  2017-04-18    Création  \n",
       "\n",
       "[5 rows x 49 columns]"
      ]
     },
     "execution_count": 232,
     "metadata": {},
     "output_type": "execute_result"
    }
   ],
   "source": [
    "data_pp_.head()"
   ]
  },
  {
   "cell_type": "code",
   "execution_count": 235,
   "metadata": {},
   "outputs": [],
   "source": [
    "# Merge data\n",
    "data_merged = data_ets_.merge(\n",
    "    data_pp_,\n",
    "    how= 'right',\n",
    "    left_on = \"siren\", \n",
    "    right_on ='Siren',\n",
    "    indicator = True).compute()"
   ]
  },
  {
   "cell_type": "code",
   "execution_count": 236,
   "metadata": {},
   "outputs": [
    {
     "data": {
      "text/html": [
       "<div>\n",
       "<style scoped>\n",
       "    .dataframe tbody tr th:only-of-type {\n",
       "        vertical-align: middle;\n",
       "    }\n",
       "\n",
       "    .dataframe tbody tr th {\n",
       "        vertical-align: top;\n",
       "    }\n",
       "\n",
       "    .dataframe thead th {\n",
       "        text-align: right;\n",
       "    }\n",
       "</style>\n",
       "<table border=\"1\" class=\"dataframe\">\n",
       "  <thead>\n",
       "    <tr style=\"text-align: right;\">\n",
       "      <th></th>\n",
       "      <th>siren_insee</th>\n",
       "      <th>siret_insee</th>\n",
       "      <th>Siren_inpi</th>\n",
       "      <th>_merge</th>\n",
       "    </tr>\n",
       "  </thead>\n",
       "  <tbody>\n",
       "    <tr>\n",
       "      <th>0</th>\n",
       "      <td>300004066</td>\n",
       "      <td>30000406600019</td>\n",
       "      <td>300004066</td>\n",
       "      <td>both</td>\n",
       "    </tr>\n",
       "    <tr>\n",
       "      <th>1</th>\n",
       "      <td>300036688</td>\n",
       "      <td>30003668800012</td>\n",
       "      <td>300036688</td>\n",
       "      <td>both</td>\n",
       "    </tr>\n",
       "    <tr>\n",
       "      <th>2</th>\n",
       "      <td>300044542</td>\n",
       "      <td>30004454200029</td>\n",
       "      <td>300044542</td>\n",
       "      <td>both</td>\n",
       "    </tr>\n",
       "    <tr>\n",
       "      <th>3</th>\n",
       "      <td>300047388</td>\n",
       "      <td>30004738800024</td>\n",
       "      <td>300047388</td>\n",
       "      <td>both</td>\n",
       "    </tr>\n",
       "    <tr>\n",
       "      <th>4</th>\n",
       "      <td>300054871</td>\n",
       "      <td>30005487100011</td>\n",
       "      <td>300054871</td>\n",
       "      <td>both</td>\n",
       "    </tr>\n",
       "  </tbody>\n",
       "</table>\n",
       "</div>"
      ],
      "text/plain": [
       "  siren_insee     siret_insee Siren_inpi _merge\n",
       "0   300004066  30000406600019  300004066   both\n",
       "1   300036688  30003668800012  300036688   both\n",
       "2   300044542  30004454200029  300044542   both\n",
       "3   300047388  30004738800024  300047388   both\n",
       "4   300054871  30005487100011  300054871   both"
      ]
     },
     "execution_count": 236,
     "metadata": {},
     "output_type": "execute_result"
    }
   ],
   "source": [
    "# suffix insee or inpi source\n",
    "data_merged = data_merged.rename(columns={\"Siren\": \"Siren_inpi\",\"siren\": \"siren_insee\",\"siret\": \"siret_insee\"})\n",
    "data_merged.head()"
   ]
  },
  {
   "cell_type": "code",
   "execution_count": 237,
   "metadata": {},
   "outputs": [
    {
     "data": {
      "text/plain": [
       "0    300004066\n",
       "1    300036688\n",
       "2    300044542\n",
       "3    300047388\n",
       "4    300054871\n",
       "Name: Siren_inpi, dtype: object"
      ]
     },
     "execution_count": 237,
     "metadata": {},
     "output_type": "execute_result"
    }
   ],
   "source": [
    "data_merged['Siren_inpi'].head()"
   ]
  },
  {
   "cell_type": "code",
   "execution_count": 238,
   "metadata": {},
   "outputs": [],
   "source": [
    "# create a check_url for online manual data verification\n",
    "data_merged['check_url'] ='https://data.inpi.fr/entreprises/' + data_merged['Siren_inpi']\n",
    "#data_merged['check_url'] = '{0}/{1}'.format('https://data.inpi.fr/entreprises',data_merged['Siren_inpi'].astype('str')) #KO\n",
    "\n",
    "# to do :\n",
    "# regarder sur quelques exemples si sont bien absents de l'insee\n",
    "# faire des stats avec répartition des nb siret par siren\n",
    "# cf /InseeInpi_matching/Test_notebook/INSEE"
   ]
  },
  {
   "cell_type": "code",
   "execution_count": 239,
   "metadata": {},
   "outputs": [
    {
     "data": {
      "text/html": [
       "<div>\n",
       "<style scoped>\n",
       "    .dataframe tbody tr th:only-of-type {\n",
       "        vertical-align: middle;\n",
       "    }\n",
       "\n",
       "    .dataframe tbody tr th {\n",
       "        vertical-align: top;\n",
       "    }\n",
       "\n",
       "    .dataframe thead th {\n",
       "        text-align: right;\n",
       "    }\n",
       "</style>\n",
       "<table border=\"1\" class=\"dataframe\">\n",
       "  <thead>\n",
       "    <tr style=\"text-align: right;\">\n",
       "      <th></th>\n",
       "      <th>siren_insee</th>\n",
       "      <th>siret_insee</th>\n",
       "      <th>Siren_inpi</th>\n",
       "      <th>_merge</th>\n",
       "      <th>check_url</th>\n",
       "    </tr>\n",
       "  </thead>\n",
       "  <tbody>\n",
       "    <tr>\n",
       "      <th>0</th>\n",
       "      <td>300004066</td>\n",
       "      <td>30000406600019</td>\n",
       "      <td>300004066</td>\n",
       "      <td>both</td>\n",
       "      <td>https://data.inpi.fr/entreprises/300004066</td>\n",
       "    </tr>\n",
       "    <tr>\n",
       "      <th>1</th>\n",
       "      <td>300036688</td>\n",
       "      <td>30003668800012</td>\n",
       "      <td>300036688</td>\n",
       "      <td>both</td>\n",
       "      <td>https://data.inpi.fr/entreprises/300036688</td>\n",
       "    </tr>\n",
       "    <tr>\n",
       "      <th>2</th>\n",
       "      <td>300044542</td>\n",
       "      <td>30004454200029</td>\n",
       "      <td>300044542</td>\n",
       "      <td>both</td>\n",
       "      <td>https://data.inpi.fr/entreprises/300044542</td>\n",
       "    </tr>\n",
       "    <tr>\n",
       "      <th>3</th>\n",
       "      <td>300047388</td>\n",
       "      <td>30004738800024</td>\n",
       "      <td>300047388</td>\n",
       "      <td>both</td>\n",
       "      <td>https://data.inpi.fr/entreprises/300047388</td>\n",
       "    </tr>\n",
       "    <tr>\n",
       "      <th>4</th>\n",
       "      <td>300054871</td>\n",
       "      <td>30005487100011</td>\n",
       "      <td>300054871</td>\n",
       "      <td>both</td>\n",
       "      <td>https://data.inpi.fr/entreprises/300054871</td>\n",
       "    </tr>\n",
       "  </tbody>\n",
       "</table>\n",
       "</div>"
      ],
      "text/plain": [
       "  siren_insee     siret_insee Siren_inpi _merge  \\\n",
       "0   300004066  30000406600019  300004066   both   \n",
       "1   300036688  30003668800012  300036688   both   \n",
       "2   300044542  30004454200029  300044542   both   \n",
       "3   300047388  30004738800024  300047388   both   \n",
       "4   300054871  30005487100011  300054871   both   \n",
       "\n",
       "                                    check_url  \n",
       "0  https://data.inpi.fr/entreprises/300004066  \n",
       "1  https://data.inpi.fr/entreprises/300036688  \n",
       "2  https://data.inpi.fr/entreprises/300044542  \n",
       "3  https://data.inpi.fr/entreprises/300047388  \n",
       "4  https://data.inpi.fr/entreprises/300054871  "
      ]
     },
     "execution_count": 239,
     "metadata": {},
     "output_type": "execute_result"
    }
   ],
   "source": [
    "data_merged.head()"
   ]
  },
  {
   "cell_type": "code",
   "execution_count": 240,
   "metadata": {},
   "outputs": [
    {
     "data": {
      "text/plain": [
       "_merge\n",
       "left_only           0\n",
       "right_only      51308\n",
       "both          1182979\n",
       "Name: _merge, dtype: int64"
      ]
     },
     "execution_count": 240,
     "metadata": {},
     "output_type": "execute_result"
    }
   ],
   "source": [
    "# check how many matches\n",
    "data_merged.groupby('_merge')['_merge'].count()\n",
    "# verifier nb caractères des SIREN - pourquoi ne marche pas"
   ]
  },
  {
   "cell_type": "code",
   "execution_count": 241,
   "metadata": {},
   "outputs": [
    {
     "data": {
      "text/plain": [
       "51308"
      ]
     },
     "execution_count": 241,
     "metadata": {},
     "output_type": "execute_result"
    }
   ],
   "source": [
    "data_merged.groupby('_merge')['_merge'].count().right_only"
   ]
  },
  {
   "cell_type": "code",
   "execution_count": 242,
   "metadata": {},
   "outputs": [
    {
     "data": {
      "text/html": [
       "<div>\n",
       "<style scoped>\n",
       "    .dataframe tbody tr th:only-of-type {\n",
       "        vertical-align: middle;\n",
       "    }\n",
       "\n",
       "    .dataframe tbody tr th {\n",
       "        vertical-align: top;\n",
       "    }\n",
       "\n",
       "    .dataframe thead th {\n",
       "        text-align: right;\n",
       "    }\n",
       "</style>\n",
       "<table border=\"1\" class=\"dataframe\">\n",
       "  <thead>\n",
       "    <tr style=\"text-align: right;\">\n",
       "      <th></th>\n",
       "      <th>siren_insee</th>\n",
       "      <th>siret_insee</th>\n",
       "      <th>Siren_inpi</th>\n",
       "      <th>_merge</th>\n",
       "      <th>check_url</th>\n",
       "    </tr>\n",
       "  </thead>\n",
       "  <tbody>\n",
       "    <tr>\n",
       "      <th>14181</th>\n",
       "      <td>NaN</td>\n",
       "      <td>NaN</td>\n",
       "      <td>504630310</td>\n",
       "      <td>right_only</td>\n",
       "      <td>https://data.inpi.fr/entreprises/504630310</td>\n",
       "    </tr>\n",
       "    <tr>\n",
       "      <th>14182</th>\n",
       "      <td>NaN</td>\n",
       "      <td>NaN</td>\n",
       "      <td>823218854</td>\n",
       "      <td>right_only</td>\n",
       "      <td>https://data.inpi.fr/entreprises/823218854</td>\n",
       "    </tr>\n",
       "    <tr>\n",
       "      <th>14183</th>\n",
       "      <td>NaN</td>\n",
       "      <td>NaN</td>\n",
       "      <td>546110156</td>\n",
       "      <td>right_only</td>\n",
       "      <td>https://data.inpi.fr/entreprises/546110156</td>\n",
       "    </tr>\n",
       "    <tr>\n",
       "      <th>14184</th>\n",
       "      <td>NaN</td>\n",
       "      <td>NaN</td>\n",
       "      <td>490068327</td>\n",
       "      <td>right_only</td>\n",
       "      <td>https://data.inpi.fr/entreprises/490068327</td>\n",
       "    </tr>\n",
       "    <tr>\n",
       "      <th>14185</th>\n",
       "      <td>NaN</td>\n",
       "      <td>NaN</td>\n",
       "      <td>793005000</td>\n",
       "      <td>right_only</td>\n",
       "      <td>https://data.inpi.fr/entreprises/793005000</td>\n",
       "    </tr>\n",
       "  </tbody>\n",
       "</table>\n",
       "</div>"
      ],
      "text/plain": [
       "      siren_insee siret_insee Siren_inpi      _merge  \\\n",
       "14181         NaN         NaN  504630310  right_only   \n",
       "14182         NaN         NaN  823218854  right_only   \n",
       "14183         NaN         NaN  546110156  right_only   \n",
       "14184         NaN         NaN  490068327  right_only   \n",
       "14185         NaN         NaN  793005000  right_only   \n",
       "\n",
       "                                        check_url  \n",
       "14181  https://data.inpi.fr/entreprises/504630310  \n",
       "14182  https://data.inpi.fr/entreprises/823218854  \n",
       "14183  https://data.inpi.fr/entreprises/546110156  \n",
       "14184  https://data.inpi.fr/entreprises/490068327  \n",
       "14185  https://data.inpi.fr/entreprises/793005000  "
      ]
     },
     "execution_count": 242,
     "metadata": {},
     "output_type": "execute_result"
    }
   ],
   "source": [
    "# faire une fonction qui retourne un dictionnaire avec :données matchées, données non matchées, json\n",
    "data_merged.loc[lambda x: x['_merge'].isin(['right_only'])].head()"
   ]
  },
  {
   "cell_type": "code",
   "execution_count": 243,
   "metadata": {},
   "outputs": [
    {
     "data": {
      "text/plain": [
       "1234287"
      ]
     },
     "execution_count": 243,
     "metadata": {},
     "output_type": "execute_result"
    }
   ],
   "source": [
    "len(data_merged)"
   ]
  },
  {
   "cell_type": "code",
   "execution_count": 244,
   "metadata": {},
   "outputs": [
    {
     "data": {
      "text/plain": [
       "\"test_ = (data_merged\\n .loc[lambda x: x['_merge'].isin(['right_only'])]['Siren']\\n .apply(lambda x : len(x))\\n .loc[lambda x: x ==1]\\n .index\\n)\\ntest_\""
      ]
     },
     "execution_count": 244,
     "metadata": {},
     "output_type": "execute_result"
    }
   ],
   "source": [
    "'''test_ = (data_merged\n",
    " .loc[lambda x: x['_merge'].isin(['right_only'])]['Siren']\n",
    " .apply(lambda x : len(x))\n",
    " .loc[lambda x: x ==1]\n",
    " .index\n",
    ")\n",
    "test_'''"
   ]
  },
  {
   "cell_type": "code",
   "execution_count": 245,
   "metadata": {},
   "outputs": [
    {
     "data": {
      "text/plain": [
       "\"data_merged.loc[lambda x :\\n                (x['_merge'].isin(['right_only']))\\n                & (x.index.isin(test_))\\n               ]\""
      ]
     },
     "execution_count": 245,
     "metadata": {},
     "output_type": "execute_result"
    }
   ],
   "source": [
    "'''data_merged.loc[lambda x :\n",
    "                (x['_merge'].isin(['right_only']))\n",
    "                & (x.index.isin(test_))\n",
    "               ]'''"
   ]
  },
  {
   "cell_type": "code",
   "execution_count": 267,
   "metadata": {},
   "outputs": [
    {
     "data": {
      "text/plain": [
       "'SIRETISATION/matche/insee_PP_initial.json'"
      ]
     },
     "execution_count": 267,
     "metadata": {},
     "output_type": "execute_result"
    }
   ],
   "source": [
    "# define save_to paths\n",
    "inpi_match_relative_path = 'SIRETISATION/matche'\n",
    "inpi_unmatch_relative_path = 'SIRETISATION/non_matche'\n",
    "inpi_match_gz_filename = \"{}_{}_{}_{}.{}\".format('insee',inpi_nature,inpi_origin,'matche','gz')\n",
    "inpi_match_gz_absolute_filepath = \"{}/{}\".format(inpi_match_relative_path,inpi_match_gz_filename)\n",
    "inpi_unmatch_gz_filename = \"{}_{}_{}_{}.{}\".format('insee',inpi_nature,inpi_origin,'unmatch','gz')\n",
    "inpi_unmatch_gz_absolute_filepath = \"{}/{}\".format(inpi_unmatch_relative_path,inpi_unmatch_gz_filename)\n",
    "inpi_match_json_filename = \"{}_{}_{}.{}\".format('insee',inpi_nature,inpi_origin,'json') \n",
    "inpi_match_json_absolute_filepath =  \"{}/{}\".format(inpi_match_relative_path,inpi_match_json_filename)\n",
    "inpi_match_json_absolute_filepath"
   ]
  },
  {
   "cell_type": "code",
   "execution_count": 247,
   "metadata": {},
   "outputs": [
    {
     "data": {
      "text/plain": [
       "{'nature': 'PP',\n",
       " 'origin': 'initial',\n",
       " 'path': 'INPI/TC_1/Stock_processed/initial_PP.gz',\n",
       " 'details': {'total_rows_origin': '1234287',\n",
       "  'total_match': '1182979',\n",
       "  'total_unmatched_left': '0',\n",
       "  'total_unmatched_right': '51308'}}"
      ]
     },
     "execution_count": 247,
     "metadata": {},
     "output_type": "execute_result"
    }
   ],
   "source": [
    "# prepare json file\n",
    "        \n",
    "merge_result = data_merged.groupby('_merge')['_merge'].count()\n",
    "    \n",
    "json_ = {\n",
    "    'nature': inpi_nature, \n",
    "    'origin': inpi_origin,\n",
    "    'path': inpi_gz_relative_filepath, # c'est bien le path du fichier inpi pp utilisé?\n",
    "    \"details\": {\n",
    "        'total_rows_origin':str(len(data_merged)),\n",
    "        'total_match': str(merge_result.both),\n",
    "        'total_unmatched_left':str(merge_result.left_only),\n",
    "        'total_unmatched_right':str(merge_result.right_only),\n",
    "        },\n",
    "    }\n",
    "\n",
    "with open(inpi_match_json_filename,\n",
    "            'w') as outfile:\n",
    "    json.dump(json_, outfile)\n",
    "    # ajouter un argument save=yes/no"
   ]
  },
  {
   "cell_type": "code",
   "execution_count": 258,
   "metadata": {},
   "outputs": [],
   "source": [
    "# save json to s3\n",
    "AWS_connection.save_to_s3(file_name=inpi_match_json_filename,file_path=inpi_match_json_absolute_filepath)"
   ]
  },
  {
   "cell_type": "code",
   "execution_count": 264,
   "metadata": {},
   "outputs": [],
   "source": [
    "# prepare gz file\n",
    "data_matched = data_merged[data_merged['_merge'] == 'both'] # save only merged values\n",
    "gz_output = data_matched.to_csv(inpi_match_gz_filename,\n",
    "            index = False,\n",
    "            compression='gzip')"
   ]
  },
  {
   "cell_type": "code",
   "execution_count": 265,
   "metadata": {},
   "outputs": [],
   "source": [
    "# save gz to s3\n",
    "AWS_connection.save_to_s3(file_name=inpi_match_gz_filename,\n",
    "                          file_path=inpi_match_gz_absolute_filepath)"
   ]
  },
  {
   "cell_type": "code",
   "execution_count": 268,
   "metadata": {},
   "outputs": [],
   "source": [
    "# prepare gz file\n",
    "data_unmatched = data_merged[data_merged['_merge'] == 'right_only'] # save only unmerged values\n",
    "gz_output = data_unmatched.to_csv(inpi_unmatch_gz_filename,\n",
    "            index = False,\n",
    "            compression='gzip')"
   ]
  },
  {
   "cell_type": "code",
   "execution_count": 270,
   "metadata": {},
   "outputs": [],
   "source": [
    "# save gz to s3\n",
    "AWS_connection.save_to_s3(file_name=inpi_unmatch_gz_filename,file_path=inpi_unmatch_gz_absolute_filepath)"
   ]
  },
  {
   "cell_type": "code",
   "execution_count": null,
   "metadata": {},
   "outputs": [],
   "source": [
    "# 88 car max dans une ligne\n",
    "# docstring"
   ]
  }
 ],
 "metadata": {
  "kernelspec": {
   "display_name": "conda_python3",
   "language": "python",
   "name": "conda_python3"
  },
  "language_info": {
   "codemirror_mode": {
    "name": "ipython",
    "version": 3
   },
   "file_extension": ".py",
   "mimetype": "text/x-python",
   "name": "python",
   "nbconvert_exporter": "python",
   "pygments_lexer": "ipython3",
   "version": "3.6.5"
  }
 },
 "nbformat": 4,
 "nbformat_minor": 4
}
