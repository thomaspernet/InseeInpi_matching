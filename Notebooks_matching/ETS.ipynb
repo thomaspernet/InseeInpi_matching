{
 "cells": [
  {
   "cell_type": "markdown",
   "metadata": {},
   "source": [
    "# Test Matching Insee/ETS\n",
    "\n",
    "## INSEE\n",
    "\n",
    "- https://s3.console.aws.amazon.com/s3/object/calfdata/INSEE/Stock/ETS/\n",
    "        - INSEE/Stock/ETS/StockEtablissement_utf8.csv\n",
    "        \n",
    "```\n",
    "['siren', 'siret']\n",
    "```\n",
    "\n",
    "## INPI\n",
    "\n",
    "- https://s3.console.aws.amazon.com/s3/buckets/calfdata/INPI/TC_1/Stock_processed/\n",
    "    - INPI/TC_1/Stock_processed/initial_ETS.gz\n",
    "    - INPI/TC_1/Stock_processed/initial_ETS.json\n",
    "    \n",
    "Colonnes test:\n",
    "\n",
    "```\n",
    "[\"Siren\",\"Date_Immatriculation\", \"Date_Clôture\", \"Date_Greffe\"]\n",
    "```\n",
    "\n",
    "## Sauvegarde\n",
    "\n",
    "* La liste des SIREN matchés sera sauvegardée selon leur nature et origine\n",
    "  * nature → ACTES/COMPTES/ETS/etc\n",
    "  * origine → initial/partiel/new/evt\n",
    "\n",
    "Les matchés seront sauvegardé dans calfdata/SIRETISATION/matche/ au format suivant:\n",
    "\n",
    "* insee_nature_origine_matche.gz\n",
    "    * ex: insee_pm_initial_matche.gz\n",
    "    \n",
    "    \n",
    "\n",
    "## Moteur de recherche TEST\n",
    "\n",
    "* Insee\n",
    "  * http://avis-situation-sirene.insee.fr/IdentificationListeSiret.action\n",
    "* INPI/TC\n",
    "  * https://data.inpi.fr/\n",
    "* Infogreffe\n",
    "  * https://www.infogreffe.fr/\n"
   ]
  },
  {
   "cell_type": "code",
   "execution_count": null,
   "metadata": {},
   "outputs": [],
   "source": [
    "import boto3, json\n",
    "import dask.dataframe as dd\n",
    "import pandas as pd\n",
    "import Match_inpi_insee.aws_connectors as aws\n",
    "#from tqdm.notebook import tqdm\n",
    "#import tqdm\n",
    "%load_ext autoreload\n",
    "%autoreload 2"
   ]
  },
  {
   "cell_type": "code",
   "execution_count": null,
   "metadata": {},
   "outputs": [],
   "source": [
    "instance_aws = 'https://calfdata.s3.eu-west-3.amazonaws.com'\n",
    "bucket = 'calfdata'"
   ]
  },
  {
   "cell_type": "code",
   "execution_count": null,
   "metadata": {},
   "outputs": [],
   "source": [
    "# instanciate AWS connection\n",
    "AWS_connection = aws.aws_instantiate(instance_aws, bucket)"
   ]
  },
  {
   "cell_type": "markdown",
   "metadata": {},
   "source": [
    "## Valeurs communes dans INSEE/INPI ETS\n",
    "\n",
    "| INSEE                     | INPI         |                         |\n",
    "|---------------------------|--------------|-------------------------|\n",
    "| Var                       | Var          | comment                 |\n",
    "| siren                     | Siren        |                         |\n",
    "| codePostalEtablissement   | Code_Postal  | Si Type == 'principale' |\n",
    "| codePostal2Etablissement  | Code_Postal  | Si Type == 'secondaire' |\n",
    "| codeCommuneEtablissement  | Code_Commune | Si Type == 'principale' |\n",
    "| codeCommune2Etablissement | Code_Commune | Si Type == 'secondaire' |\n",
    "|                           |              |                         |\n",
    "|                           |              |                         |\n",
    "|                           |              |                         |"
   ]
  },
  {
   "cell_type": "code",
   "execution_count": null,
   "metadata": {},
   "outputs": [],
   "source": [
    "insee = AWS_connection.url_instance_bucket(path_file = 'INSEE/Stock/ETS/StockEtablissement_utf8.csv')\n",
    "ets = AWS_connection.url_instance_bucket(path_file = 'INPI/TC_1/Stock_processed/initial_ETS.gz')\n",
    "ets"
   ]
  },
  {
   "cell_type": "markdown",
   "metadata": {},
   "source": [
    "## Matching établissement principal\n",
    "\n",
    "Ici, on filtre les variables communes pour l'INSEE & INPI établissements secondaires."
   ]
  },
  {
   "cell_type": "code",
   "execution_count": null,
   "metadata": {},
   "outputs": [],
   "source": [
    "# load data into dataframes\n",
    "data_insee_= dd.read_csv(insee,\n",
    "                         usecols = ['siren',\n",
    "                                  'siret',\n",
    "                                 'codePostalEtablissement',\n",
    "                                 #'codePostal2Etablissement',\n",
    "                                 'codeCommuneEtablissement',\n",
    "                                 #'codeCommune2Etablissement'\n",
    "                                   ],\n",
    "                       dtype={'siren':'object',\n",
    "                              'siret':'object',\n",
    "                              'codePostalEtablissement':'object',\n",
    "                              #'codePostal2Etablissement':'object',\n",
    "                              'codeCommuneEtablissement':'object',\n",
    "                              #'codeCommune2Etablissement':'object',\n",
    "                             }\n",
    "                      )\n",
    "\n",
    "data_ets_= (dd.read_csv(ets, \n",
    "                       usecols = [\n",
    "                           'Type',\n",
    "                           'Siren',\n",
    "                                  'Code_Postal',\n",
    "                                  'Code_Commune'\n",
    "                                 ],\n",
    "                       dtype={\n",
    "                           'Type':'object',\n",
    "                           'Siren':'object',\n",
    "                              'Code_Postal':'object',\n",
    "                              'Code_Commune':'object'\n",
    "                             },\n",
    "                      compression='gzip',\n",
    "                      blocksize=None,\n",
    "                      low_memory=False\n",
    "                      )\n",
    "            .compute()\n",
    "            .loc[lambda x: x['Type'].isin(['PRI'])]\n",
    "           )"
   ]
  },
  {
   "cell_type": "code",
   "execution_count": null,
   "metadata": {},
   "outputs": [],
   "source": [
    "data_ets_['Type'].unique()"
   ]
  },
  {
   "cell_type": "code",
   "execution_count": null,
   "metadata": {},
   "outputs": [],
   "source": [
    "data_ets_.shape"
   ]
  },
  {
   "cell_type": "code",
   "execution_count": null,
   "metadata": {},
   "outputs": [],
   "source": [
    "data_ets_.head()"
   ]
  },
  {
   "cell_type": "code",
   "execution_count": null,
   "metadata": {},
   "outputs": [],
   "source": [
    "data_merged = data_insee_.merge(\n",
    "    data_ets_,\n",
    "    how= 'right',\n",
    "    left_on = [\"siren\", 'codePostalEtablissement'],\n",
    "    right_on = ['Siren', 'Code_Postal'],\n",
    "    indicator = True).compute()"
   ]
  }
 ],
 "metadata": {
  "kernelspec": {
   "display_name": "conda_python3",
   "language": "python",
   "name": "conda_python3"
  },
  "language_info": {
   "codemirror_mode": {
    "name": "ipython",
    "version": 3
   },
   "file_extension": ".py",
   "mimetype": "text/x-python",
   "name": "python",
   "nbconvert_exporter": "python",
   "pygments_lexer": "ipython3",
   "version": "3.6.5"
  }
 },
 "nbformat": 4,
 "nbformat_minor": 4
}
