{
 "cells": [
  {
   "cell_type": "markdown",
   "metadata": {
    "Collapsed": "false"
   },
   "source": [
    "# Test Matching Insee/ETS\n",
    "\n",
    "## INSEE\n",
    "\n",
    "- https://s3.console.aws.amazon.com/s3/object/calfdata/INSEE/Stock/ETS/\n",
    "        - INSEE/Stock/ETS/StockEtablissement_utf8.csv\n",
    "        \n",
    "```\n",
    "['siren', 'siret']\n",
    "```\n",
    "\n",
    "## INPI\n",
    "\n",
    "- https://s3.console.aws.amazon.com/s3/buckets/calfdata/INPI/TC_1/Stock_processed/\n",
    "    - INPI/TC_1/Stock_processed/initial_ETS.gz\n",
    "    - INPI/TC_1/Stock_processed/initial_ETS.json\n",
    "    \n",
    "Colonnes test:\n",
    "\n",
    "```\n",
    "[\"Siren\",\"Date_Immatriculation\", \"Date_Clôture\", \"Date_Greffe\"]\n",
    "```\n",
    "\n",
    "## Sauvegarde\n",
    "\n",
    "* La liste des SIREN matchés sera sauvegardée selon leur nature et origine\n",
    "  * nature → ACTES/COMPTES/ETS/etc\n",
    "  * origine → initial/partiel/new/evt\n",
    "\n",
    "Les matchés seront sauvegardé dans calfdata/SIRETISATION/matche/ au format suivant:\n",
    "\n",
    "* insee_nature_origine_matche.gz\n",
    "    * ex: insee_pm_initial_matche.gz\n",
    "    \n",
    "    \n",
    "\n",
    "## Moteur de recherche TEST\n",
    "\n",
    "* Insee\n",
    "  * http://avis-situation-sirene.insee.fr/IdentificationListeSiret.action\n",
    "* INPI/TC\n",
    "  * https://data.inpi.fr/\n",
    "* Infogreffe\n",
    "  * https://www.infogreffe.fr/\n",
    "\n",
    "\n",
    "Le siège ne donne pas de nouveau SIRET, il indique seulement le lieu de la juridiction"
   ]
  },
  {
   "cell_type": "code",
   "execution_count": 1,
   "metadata": {
    "Collapsed": "false"
   },
   "outputs": [
    {
     "name": "stderr",
     "output_type": "stream",
     "text": [
      "C:\\Users\\PERNETTH\\AppData\\Local\\Continuum\\anaconda3\\lib\\site-packages\\dask\\dataframe\\utils.py:14: FutureWarning: pandas.util.testing is deprecated. Use the functions in the public API at pandas.testing instead.\n",
      "  import pandas.util.testing as tm\n"
     ]
    }
   ],
   "source": [
    "import boto3, json\n",
    "import dask.dataframe as dd\n",
    "import pandas as pd\n",
    "#import Match_inpi_insee.aws_connectors as aws\n",
    "#from tqdm.notebook import tqdm\n",
    "#import tqdm\n",
    "%load_ext autoreload\n",
    "%autoreload 2"
   ]
  },
  {
   "cell_type": "code",
   "execution_count": 2,
   "metadata": {
    "Collapsed": "false"
   },
   "outputs": [],
   "source": [
    "#instance_aws = 'https://calfdata.s3.eu-west-3.amazonaws.com'\n",
    "#bucket = 'calfdata'"
   ]
  },
  {
   "cell_type": "code",
   "execution_count": 3,
   "metadata": {
    "Collapsed": "false"
   },
   "outputs": [],
   "source": [
    "# instanciate AWS connection\n",
    "#AWS_connection = aws.aws_instantiate(instance_aws, bucket)"
   ]
  },
  {
   "cell_type": "markdown",
   "metadata": {
    "Collapsed": "false"
   },
   "source": [
    "## Preparation fichiers\n",
    "\n",
    "## Matching établissement principal\n",
    "\n",
    "Ici, on filtre les variables communes pour l'INSEE & INPI établissements secondaires.\n",
    "\n",
    "### Candidats\n",
    "\n",
    "**INSEE**\n",
    "\n",
    "https://www.sirene.fr/sirene/public/static/liste-variables\n",
    "\n",
    "- numeroVoieEtablissement: https://www.sirene.fr/sirene/public/static/liste-variables/numeroVoieEtablissement\n",
    "- indiceRepetitionEtablissement: https://www.sirene.fr/sirene/public/static/liste-variables/indiceRepetitionEtablissement\n",
    "- typeVoieEtablissement: https://www.sirene.fr/sirene/public/static/liste-variables/typeVoieEtablissement\n",
    "- libelleVoieEtablissement: https://www.sirene.fr/sirene/public/static/liste-variables/libelleVoieEtablissement\n",
    "- complementAdresseEtablissement: https://www.sirene.fr/sirene/public/static/liste-variables/complementAdresseEtablissement\n",
    "- codeCommuneEtablissement: https://www.sirene.fr/sirene/public/static/liste-variables/codeCommuneEtablissement\n",
    "- libelleCommuneEtablissement: https://www.sirene.fr/sirene/public/static/liste-variables/libelleCommuneEtablissement\n",
    "- codePostalEtablissement: https://www.sirene.fr/sirene/public/static/liste-variables/codePostalEtablissement\n",
    "- codeCedexEtablissement: https://www.sirene.fr/sirene/public/static/liste-variables/codeCedexEtablissement\n",
    "- libelleCedexEtablissement: https://www.sirene.fr/sirene/public/static/liste-variables/libelleCedexEtablissement\n",
    "- distributionSpecialeEtablissement: https://www.sirene.fr/sirene/public/static/liste-variables/distributionSpecialeEtablissement\n",
    "- libelleCommuneEtrangerEtablissement: https://www.sirene.fr/sirene/public/static/liste-variables/libelleCommuneEtrangerEtablissement\n",
    "- codePaysEtrangerEtablissement: https://www.sirene.fr/sirene/public/static/liste-variables/codePaysEtrangerEtablissement\n",
    "- libellePaysEtrangerEtablissement: https://www.sirene.fr/sirene/public/static/liste-variables/libellePaysEtrangerEtablissement\n",
    "\n",
    "**INPI**\n",
    "\n",
    "- Adresse_Ligne1/Adresse_Ligne2/Adresse_Ligne3: Selon les greffes, l’adresse (n°+ voie) sera présente soit en ligne1 adresse, soit en ligne2 adresse.\n",
    "Toutes les lignes d’adresse ne sont pas nécessairement renseignées.\n",
    "\n"
   ]
  },
  {
   "cell_type": "markdown",
   "metadata": {
    "Collapsed": "false"
   },
   "source": [
    "### Créer fichier toutes les possibilités communes"
   ]
  },
  {
   "cell_type": "code",
   "execution_count": 4,
   "metadata": {
    "Collapsed": "false"
   },
   "outputs": [
    {
     "data": {
      "text/html": [
       "<div>\n",
       "<style scoped>\n",
       "    .dataframe tbody tr th:only-of-type {\n",
       "        vertical-align: middle;\n",
       "    }\n",
       "\n",
       "    .dataframe tbody tr th {\n",
       "        vertical-align: top;\n",
       "    }\n",
       "\n",
       "    .dataframe thead th {\n",
       "        text-align: right;\n",
       "    }\n",
       "</style>\n",
       "<table border=\"1\" class=\"dataframe\">\n",
       "  <thead>\n",
       "    <tr style=\"text-align: right;\">\n",
       "      <th></th>\n",
       "      <th>nccenr</th>\n",
       "      <th>libelle</th>\n",
       "    </tr>\n",
       "    <tr>\n",
       "      <th>ncc</th>\n",
       "      <th></th>\n",
       "      <th></th>\n",
       "    </tr>\n",
       "  </thead>\n",
       "  <tbody>\n",
       "    <tr>\n",
       "      <th>CHATILLON SUR CHALARONNE</th>\n",
       "      <td>Châtillon-sur-Chalaronne</td>\n",
       "      <td>Châtillon-sur-Chalaronne</td>\n",
       "    </tr>\n",
       "  </tbody>\n",
       "</table>\n",
       "</div>"
      ],
      "text/plain": [
       "                                            nccenr                   libelle\n",
       "ncc                                                                         \n",
       "CHATILLON SUR CHALARONNE  Châtillon-sur-Chalaronne  Châtillon-sur-Chalaronne"
      ]
     },
     "execution_count": 4,
     "metadata": {},
     "output_type": "execute_result"
    }
   ],
   "source": [
    "communes = pd.read_csv('temp_local\\communes-01012019.csv').set_index('ncc').reindex(columns = ['nccenr', 'libelle'])#.unstack()\n",
    "communes.loc[lambda x: x['libelle'].isin(['Châtillon-sur-Chalaronne'])]"
   ]
  },
  {
   "cell_type": "code",
   "execution_count": 5,
   "metadata": {
    "Collapsed": "false"
   },
   "outputs": [
    {
     "data": {
      "text/html": [
       "<div>\n",
       "<style scoped>\n",
       "    .dataframe tbody tr th:only-of-type {\n",
       "        vertical-align: middle;\n",
       "    }\n",
       "\n",
       "    .dataframe tbody tr th {\n",
       "        vertical-align: top;\n",
       "    }\n",
       "\n",
       "    .dataframe thead th {\n",
       "        text-align: right;\n",
       "    }\n",
       "</style>\n",
       "<table border=\"1\" class=\"dataframe\">\n",
       "  <thead>\n",
       "    <tr style=\"text-align: right;\">\n",
       "      <th></th>\n",
       "      <th>ncc</th>\n",
       "      <th>possibilite</th>\n",
       "    </tr>\n",
       "  </thead>\n",
       "  <tbody>\n",
       "    <tr>\n",
       "      <th>0</th>\n",
       "      <td>ABERGEMENT CLEMENCIAT</td>\n",
       "      <td>Abergement-Clémenciat</td>\n",
       "    </tr>\n",
       "    <tr>\n",
       "      <th>1</th>\n",
       "      <td>ABERGEMENT CLEMENCIAT</td>\n",
       "      <td>L'Abergement-Clémenciat</td>\n",
       "    </tr>\n",
       "    <tr>\n",
       "      <th>2</th>\n",
       "      <td>ABERGEMENT CLEMENCIAT</td>\n",
       "      <td>Abergement-Clemenciat</td>\n",
       "    </tr>\n",
       "    <tr>\n",
       "      <th>3</th>\n",
       "      <td>ABERGEMENT CLEMENCIAT</td>\n",
       "      <td>Abergement Clémenciat</td>\n",
       "    </tr>\n",
       "    <tr>\n",
       "      <th>4</th>\n",
       "      <td>ABERGEMENT CLEMENCIAT</td>\n",
       "      <td>L Abergement Clémenciat</td>\n",
       "    </tr>\n",
       "  </tbody>\n",
       "</table>\n",
       "</div>"
      ],
      "text/plain": [
       "                     ncc              possibilite\n",
       "0  ABERGEMENT CLEMENCIAT    Abergement-Clémenciat\n",
       "1  ABERGEMENT CLEMENCIAT  L'Abergement-Clémenciat\n",
       "2  ABERGEMENT CLEMENCIAT    Abergement-Clemenciat\n",
       "3  ABERGEMENT CLEMENCIAT    Abergement Clémenciat\n",
       "4  ABERGEMENT CLEMENCIAT  L Abergement Clémenciat"
      ]
     },
     "execution_count": 5,
     "metadata": {},
     "output_type": "execute_result"
    }
   ],
   "source": [
    "communes = (pd.read_csv('temp_local\\communes-01012019.csv')\n",
    "            .set_index('ncc')\n",
    "            .reindex(columns=['nccenr', 'libelle'])\n",
    "            .assign(\n",
    "    noaccent=lambda x: x['nccenr'].str.normalize('NFKD')\n",
    "    .str.encode('ascii', errors='ignore')\n",
    "    .str.decode('utf-8'),\n",
    "    nccenr_noponc=lambda x: x['nccenr'].str.replace('[^\\w\\s]', ' '),\n",
    "    libelle_noponc=lambda x: x['libelle'].str.replace('[^\\w\\s]', ' '),\n",
    "    noaccent_noponc=lambda x: x['noaccent'].str.replace('[^\\w\\s]', ' '),\n",
    "    uppercase=lambda x: x.index,\n",
    "    nccenr_uppercase=lambda x: x['nccenr'].str.upper(),\n",
    "    libelle_uppercase=lambda x: x['libelle'].str.upper(),\n",
    "    noaccent_uppercase=lambda x: x['noaccent'].str.upper(),\n",
    "    nccenr_noponc_uppercase=lambda x: x['nccenr_noponc'].str.upper(),\n",
    "    libelle_noponc_uppercase=lambda x: x['libelle_noponc'].str.upper(),\n",
    "    noaccent_noponc_uppercase=lambda x: x['noaccent_noponc'].str.upper(),\n",
    "    nccenr_lowercase=lambda x: x['nccenr'].str.lower(),\n",
    "    libelle_lowercase=lambda x: x['libelle'].str.lower(),\n",
    "    noaccent_lowercase=lambda x: x['noaccent'].str.lower(),\n",
    "    nccenr_noponc_lowercase=lambda x: x['nccenr_noponc'].str.lower(),\n",
    "    libelle_noponc_lowercase=lambda x: x['libelle_noponc'].str.lower(),\n",
    "    noaccent_noponc_lowercase=lambda x: x['noaccent_noponc'].str.lower(),\n",
    "    nccenr_noarrond1=lambda x: x['nccenr'].str.replace(\n",
    "        'er Arrondissement', ''),\n",
    "    uppercase_noarrond1=lambda x: x['uppercase'].str.replace(\n",
    "        'ER ARRONDISSEMENT', ''),\n",
    "    lowercase_noarrond1=lambda x: x['nccenr_lowercase'].str.replace(\n",
    "        'er arrondissement', ''),\n",
    "    nccenr_noarrond=lambda x: x['nccenr'].str.replace('e Arrondissement', ''),\n",
    "    uppercase_noarrond=lambda x: x['uppercase'].str.replace(\n",
    "        'E ARRONDISSEMENT', ''),\n",
    "    lowercase_noarrond=lambda x: x['nccenr_lowercase'].str.replace(\n",
    "        'e arrondissement', ''),\n",
    ")\n",
    ")\n",
    "\n",
    "for n in communes.columns:\n",
    "    var_ = '{}_ST'.format(n)\n",
    "    var_1 = '{}_st'.format(n)\n",
    "    var_2 = '{}_St'.format(n)\n",
    "    \n",
    "    communes[var_] = communes[n].str.replace('SAINT', 'ST')\n",
    "    communes[var_1] = communes[n].str.replace('Saint', 'st')\n",
    "    communes[var_2] = communes[n].str.replace('Saint', 'St')\n",
    "    \n",
    "    var_ = '{}_Sbar'.format(n)\n",
    "    var_1 = '{}_sbar'.format(n)\n",
    "    \n",
    "    communes[var_] = communes[n].str.replace('SUR', 'S/')\n",
    "    communes[var_1] = communes[n].str.replace('sur', 's/')\n",
    "    \n",
    "communes = (communes\n",
    "            .stack()\n",
    "            .rename('possibilite')\n",
    "            .reset_index()\n",
    "            .drop(columns='level_1')\n",
    "            .drop_duplicates(subset=['possibilite']))\n",
    "communes.head()"
   ]
  },
  {
   "cell_type": "code",
   "execution_count": 6,
   "metadata": {
    "Collapsed": "false"
   },
   "outputs": [],
   "source": [
    "#insee = AWS_connection.url_instance_bucket(path_file = 'INSEE/Stock/ETS/StockEtablissement_utf8.csv')\n",
    "#ets = AWS_connection.url_instance_bucket(path_file = 'INPI/TC_1/Stock_processed/initial_ETS.gz')\n",
    "#ets"
   ]
  },
  {
   "cell_type": "code",
   "execution_count": 7,
   "metadata": {
    "Collapsed": "false"
   },
   "outputs": [],
   "source": [
    "insee = r\"\\temp_local\\StockEtablissement_utf8.csv\"\n",
    "ets = r\"\\temp_local\\initial_ETS.gz\""
   ]
  },
  {
   "cell_type": "code",
   "execution_count": 8,
   "metadata": {
    "Collapsed": "false"
   },
   "outputs": [],
   "source": [
    "# load data into dataframes\n",
    "data_insee_ = dd.read_csv(insee,\n",
    "                          usecols=['siren',\n",
    "                                   'siret',\n",
    "                                   \"numeroVoieEtablissement\",\n",
    "                                   \"indiceRepetitionEtablissement\",\n",
    "                                   \"typeVoieEtablissement\",\n",
    "                                   \"libelleVoieEtablissement\",\n",
    "                                   \"complementAdresseEtablissement\",\n",
    "                                   \"codeCommuneEtablissement\",\n",
    "                                   \"libelleCommuneEtablissement\",\n",
    "                                   \"codePostalEtablissement\",\n",
    "                                   \"codeCedexEtablissement\",\n",
    "                                   \"libelleCedexEtablissement\",\n",
    "                                   \"distributionSpecialeEtablissement\",\n",
    "                                   \"libelleCommuneEtrangerEtablissement\",\n",
    "                                   \"codePaysEtrangerEtablissement\",\n",
    "                                   \"libellePaysEtrangerEtablissement\",\n",
    "                                   \"dateCreationEtablissement\"\n",
    "                                   ],\n",
    "                          dtype={'siren': 'object',\n",
    "                                 'siret': 'object',\n",
    "                                 \"numeroVoieEtablissement\":'object',\n",
    "                                   \"indiceRepetitionEtablissement\":'object',\n",
    "                                   \"typeVoieEtablissement\":'object',\n",
    "                                   \"libelleVoieEtablissement\":'object',\n",
    "                                   \"complementAdresseEtablissement\":'object',\n",
    "                                   \"codeCommuneEtablissement\":'object',\n",
    "                                   \"libelleCommuneEtablissement\":'object',\n",
    "                                   \"codePostalEtablissement\":'object',\n",
    "                                   \"codeCedexEtablissement\":'object',\n",
    "                                   \"libelleCedexEtablissement\":'object',\n",
    "                                   \"distributionSpecialeEtablissement\":'object',\n",
    "                                   \"libelleCommuneEtrangerEtablissement\":'object',\n",
    "                                   \"codePaysEtrangerEtablissement\":'object',\n",
    "                                   \"libellePaysEtrangerEtablissement\":'object'\n",
    "                                 }\n",
    "                          )\n",
    "\n",
    "data_ets_ = (dd.read_csv(ets,\n",
    "                         usecols=[\n",
    "                             'Type',\n",
    "                             'Siren',\n",
    "                             'Code_Postal',\n",
    "                             'Code_Commune',\n",
    "                             'Adresse_Ligne1',\n",
    "                             'Adresse_Ligne2',\n",
    "                             'Adresse_Ligne3',\n",
    "                             'Ville',\n",
    "                             'Pays'\n",
    "                         ],\n",
    "                         dtype={\n",
    "                             'Type': 'object',\n",
    "                             'Siren': 'object',\n",
    "                             'Code_Postal': 'object',\n",
    "                             'Code_Commune': 'object',\n",
    "                             'Adresse_Ligne1': 'object',\n",
    "                             'Adresse_Ligne2': 'object',\n",
    "                             'Adresse_Ligne3': 'object',\n",
    "                             'Ville':'object',\n",
    "                             'Pays':'object'\n",
    "                         },\n",
    "                         compression='gzip',\n",
    "                         blocksize=None,\n",
    "                         low_memory=False\n",
    "                         )\n",
    "             .compute()\n",
    "             .rename(columns={\"Siren\": \"siren\"})\n",
    "             .loc[lambda x: ~x['Type'].isin(['SIE'])]\n",
    "             )"
   ]
  },
  {
   "cell_type": "code",
   "execution_count": 9,
   "metadata": {
    "Collapsed": "false"
   },
   "outputs": [],
   "source": [
    "data_insee_ = (data_insee_\n",
    "               .compute()\n",
    "               .loc[lambda x: x['dateCreationEtablissement'] <= \"2018-01-01\"])"
   ]
  },
  {
   "cell_type": "code",
   "execution_count": 10,
   "metadata": {
    "Collapsed": "false"
   },
   "outputs": [
    {
     "data": {
      "text/plain": [
       "(23683869, 17)"
      ]
     },
     "execution_count": 10,
     "metadata": {},
     "output_type": "execute_result"
    }
   ],
   "source": [
    "data_insee_.shape"
   ]
  },
  {
   "cell_type": "code",
   "execution_count": 11,
   "metadata": {
    "Collapsed": "false"
   },
   "outputs": [
    {
     "data": {
      "text/plain": [
       "(5204825, 9)"
      ]
     },
     "execution_count": 11,
     "metadata": {},
     "output_type": "execute_result"
    }
   ],
   "source": [
    "data_ets_.shape"
   ]
  },
  {
   "cell_type": "code",
   "execution_count": 12,
   "metadata": {
    "Collapsed": "false"
   },
   "outputs": [
    {
     "data": {
      "text/plain": [
       "4711793"
      ]
     },
     "execution_count": 12,
     "metadata": {},
     "output_type": "execute_result"
    }
   ],
   "source": [
    "siren_inpi = data_ets_['siren'].drop_duplicates()\n",
    "len(siren_inpi)"
   ]
  },
  {
   "cell_type": "code",
   "execution_count": 13,
   "metadata": {
    "Collapsed": "false"
   },
   "outputs": [
    {
     "data": {
      "text/plain": [
       "0.9052740485991364"
      ]
     },
     "execution_count": 13,
     "metadata": {},
     "output_type": "execute_result"
    }
   ],
   "source": [
    "len(siren_inpi)/data_ets_.shape[0]"
   ]
  },
  {
   "cell_type": "code",
   "execution_count": 14,
   "metadata": {
    "Collapsed": "false"
   },
   "outputs": [
    {
     "data": {
      "text/plain": [
       "(7480120, 17)"
      ]
     },
     "execution_count": 14,
     "metadata": {},
     "output_type": "execute_result"
    }
   ],
   "source": [
    "subset_insee = data_insee_.loc[lambda x: x['siren'].isin(siren_inpi)]\n",
    "subset_insee.shape"
   ]
  },
  {
   "cell_type": "markdown",
   "metadata": {
    "Collapsed": "false"
   },
   "source": [
    "Siren INPI mais pas INSEE -> Cette entreprise a exercé son droit d'opposition auprès de l'INSEE. Ses données ne peuvent pas être diffusées publiquement."
   ]
  },
  {
   "cell_type": "code",
   "execution_count": 15,
   "metadata": {
    "Collapsed": "false"
   },
   "outputs": [
    {
     "data": {
      "text/plain": [
       "201794"
      ]
     },
     "execution_count": 15,
     "metadata": {},
     "output_type": "execute_result"
    }
   ],
   "source": [
    "siren_to_remove = siren_inpi.loc[lambda x : ~x.isin(subset_insee['siren'])]\n",
    "len(siren_to_remove)"
   ]
  },
  {
   "cell_type": "code",
   "execution_count": 16,
   "metadata": {
    "Collapsed": "false"
   },
   "outputs": [
    {
     "data": {
      "text/plain": [
       "4986974"
      ]
     },
     "execution_count": 16,
     "metadata": {},
     "output_type": "execute_result"
    }
   ],
   "source": [
    "df_siren_to_find = data_ets_.loc[lambda x:\n",
    "                                 (~x['siren'].isin(siren_to_remove))\n",
    "                                 #| (~x['Adresse_Ligne1'].isin([np.nan]))\n",
    "                                 #& (~x['Adresse_Ligne2'].isin([np.nan]))\n",
    "                                 #& (~x['Adresse_Ligne3'].isin([np.nan]))\n",
    "                                 #& (~x['Code_Postal'].isin([np.nan]))\n",
    "                                 #& (~x['Ville'].isin([np.nan]))\n",
    "                                 #& (~x['Code_Commune'].isin([np.nan]))\n",
    "                                 ]\n",
    "len(df_siren_to_find)"
   ]
  },
  {
   "cell_type": "markdown",
   "metadata": {
    "Collapsed": "false"
   },
   "source": [
    "### Nan variables matching \n",
    "\n",
    "on exclue les variables avec que des nan dans les variables candidates\n",
    "\n",
    "-> on les traitera après"
   ]
  },
  {
   "cell_type": "code",
   "execution_count": 17,
   "metadata": {
    "Collapsed": "false"
   },
   "outputs": [],
   "source": [
    "import numpy as np\n",
    "siren_fullna = df_siren_to_find.loc[lambda x:\n",
    "                      (x['Adresse_Ligne1'].isin([np.nan]))\n",
    "                     & (x['Adresse_Ligne2'].isin([np.nan]))\n",
    "                     & (x['Adresse_Ligne3'].isin([np.nan]))\n",
    "                     & (x['Code_Postal'].isin([np.nan]))\n",
    "                     & (x['Ville'].isin([np.nan]))\n",
    "                     & (x['Code_Commune'].isin([np.nan]))\n",
    "                     ]['siren']"
   ]
  },
  {
   "cell_type": "code",
   "execution_count": 18,
   "metadata": {
    "Collapsed": "false"
   },
   "outputs": [
    {
     "data": {
      "text/plain": [
       "6335"
      ]
     },
     "execution_count": 18,
     "metadata": {},
     "output_type": "execute_result"
    }
   ],
   "source": [
    "df_siren_to_find = df_siren_to_find.loc[lambda x:\n",
    "                                 (~x['siren'].isin(siren_fullna))\n",
    "                                 ]\n",
    "len(siren_fullna)"
   ]
  },
  {
   "cell_type": "code",
   "execution_count": 19,
   "metadata": {
    "Collapsed": "false"
   },
   "outputs": [
    {
     "data": {
      "text/plain": [
       "4979272"
      ]
     },
     "execution_count": 19,
     "metadata": {},
     "output_type": "execute_result"
    }
   ],
   "source": [
    "df_siren_to_find.shape[0]"
   ]
  },
  {
   "cell_type": "markdown",
   "metadata": {
    "Collapsed": "false"
   },
   "source": [
    "### Nombres d'ets par SIREN INSEE\n",
    "\n",
    "On calcule le nombre d'etb pour le fichier INSEE."
   ]
  },
  {
   "cell_type": "code",
   "execution_count": 20,
   "metadata": {
    "Collapsed": "false"
   },
   "outputs": [],
   "source": [
    "subset_insee_count = subset_insee.merge(\n",
    "    (subset_insee\n",
    "     .groupby('siren')['siren']\n",
    "     .count()\n",
    "     .rename('count')\n",
    "     .reset_index())\n",
    ")"
   ]
  },
  {
   "cell_type": "markdown",
   "metadata": {
    "Collapsed": "false"
   },
   "source": [
    "On calcule le nombre d'etb pour le fichier INPI."
   ]
  },
  {
   "cell_type": "code",
   "execution_count": 21,
   "metadata": {
    "Collapsed": "false"
   },
   "outputs": [],
   "source": [
    "df_siren_to_find = df_siren_to_find.merge(\n",
    "    (df_siren_to_find\n",
    "     .groupby('siren')['siren']\n",
    "     .count()\n",
    "     .rename('count')\n",
    "     .reset_index())\n",
    ")"
   ]
  },
  {
   "cell_type": "markdown",
   "metadata": {
    "Collapsed": "false"
   },
   "source": [
    "Insee enlever les tirets dans la ville"
   ]
  },
  {
   "cell_type": "code",
   "execution_count": 22,
   "metadata": {
    "Collapsed": "false"
   },
   "outputs": [],
   "source": [
    "subset_insee_count['libelleCommuneEtablissement'] = subset_insee_count['libelleCommuneEtablissement'].str.replace('-', ' ')"
   ]
  },
  {
   "cell_type": "code",
   "execution_count": 23,
   "metadata": {
    "Collapsed": "false"
   },
   "outputs": [],
   "source": [
    "def siren_unique(df):\n",
    "    \"\"\"\n",
    "    \"\"\"\n",
    "    print(\"Nombre total obs: {}\".format(len(df)))\n",
    "    count_ = (df\n",
    "              .groupby('siren')['siren']\n",
    "              .count()\n",
    "              .rename('count')\n",
    "              .reset_index()\n",
    "              .groupby('count')['count']\n",
    "              .count()\n",
    "              .reset_index(name='total_count')\n",
    "              .set_index('count')\n",
    "              # .compute()\n",
    "              .assign(pct=lambda x: x/x.sum())\n",
    "              .iloc[:10, :]\n",
    "              .style\n",
    "              .format('{:,.2%}', subset=['pct'])\n",
    "              )\n",
    "    return count_"
   ]
  },
  {
   "cell_type": "markdown",
   "metadata": {
    "Collapsed": "false"
   },
   "source": [
    "Quick stat"
   ]
  },
  {
   "cell_type": "code",
   "execution_count": 24,
   "metadata": {
    "Collapsed": "false"
   },
   "outputs": [
    {
     "name": "stdout",
     "output_type": "stream",
     "text": [
      "Nombre total obs: 7480120\n"
     ]
    },
    {
     "data": {
      "text/html": [
       "<style  type=\"text/css\" >\n",
       "</style><table id=\"T_97d68000_4d60_11ea_8191_c8f750ddb9e6\" ><thead>    <tr>        <th class=\"blank level0\" ></th>        <th class=\"col_heading level0 col0\" >total_count</th>        <th class=\"col_heading level0 col1\" >pct</th>    </tr>    <tr>        <th class=\"index_name level0\" >count</th>        <th class=\"blank\" ></th>        <th class=\"blank\" ></th>    </tr></thead><tbody>\n",
       "                <tr>\n",
       "                        <th id=\"T_97d68000_4d60_11ea_8191_c8f750ddb9e6level0_row0\" class=\"row_heading level0 row0\" >1</th>\n",
       "                        <td id=\"T_97d68000_4d60_11ea_8191_c8f750ddb9e6row0_col0\" class=\"data row0 col0\" >3019633</td>\n",
       "                        <td id=\"T_97d68000_4d60_11ea_8191_c8f750ddb9e6row0_col1\" class=\"data row0 col1\" >66.95%</td>\n",
       "            </tr>\n",
       "            <tr>\n",
       "                        <th id=\"T_97d68000_4d60_11ea_8191_c8f750ddb9e6level0_row1\" class=\"row_heading level0 row1\" >2</th>\n",
       "                        <td id=\"T_97d68000_4d60_11ea_8191_c8f750ddb9e6row1_col0\" class=\"data row1 col0\" >979757</td>\n",
       "                        <td id=\"T_97d68000_4d60_11ea_8191_c8f750ddb9e6row1_col1\" class=\"data row1 col1\" >21.72%</td>\n",
       "            </tr>\n",
       "            <tr>\n",
       "                        <th id=\"T_97d68000_4d60_11ea_8191_c8f750ddb9e6level0_row2\" class=\"row_heading level0 row2\" >3</th>\n",
       "                        <td id=\"T_97d68000_4d60_11ea_8191_c8f750ddb9e6row2_col0\" class=\"data row2 col0\" >301250</td>\n",
       "                        <td id=\"T_97d68000_4d60_11ea_8191_c8f750ddb9e6row2_col1\" class=\"data row2 col1\" >6.68%</td>\n",
       "            </tr>\n",
       "            <tr>\n",
       "                        <th id=\"T_97d68000_4d60_11ea_8191_c8f750ddb9e6level0_row3\" class=\"row_heading level0 row3\" >4</th>\n",
       "                        <td id=\"T_97d68000_4d60_11ea_8191_c8f750ddb9e6row3_col0\" class=\"data row3 col0\" >108365</td>\n",
       "                        <td id=\"T_97d68000_4d60_11ea_8191_c8f750ddb9e6row3_col1\" class=\"data row3 col1\" >2.40%</td>\n",
       "            </tr>\n",
       "            <tr>\n",
       "                        <th id=\"T_97d68000_4d60_11ea_8191_c8f750ddb9e6level0_row4\" class=\"row_heading level0 row4\" >5</th>\n",
       "                        <td id=\"T_97d68000_4d60_11ea_8191_c8f750ddb9e6row4_col0\" class=\"data row4 col0\" >44389</td>\n",
       "                        <td id=\"T_97d68000_4d60_11ea_8191_c8f750ddb9e6row4_col1\" class=\"data row4 col1\" >0.98%</td>\n",
       "            </tr>\n",
       "            <tr>\n",
       "                        <th id=\"T_97d68000_4d60_11ea_8191_c8f750ddb9e6level0_row5\" class=\"row_heading level0 row5\" >6</th>\n",
       "                        <td id=\"T_97d68000_4d60_11ea_8191_c8f750ddb9e6row5_col0\" class=\"data row5 col0\" >20116</td>\n",
       "                        <td id=\"T_97d68000_4d60_11ea_8191_c8f750ddb9e6row5_col1\" class=\"data row5 col1\" >0.45%</td>\n",
       "            </tr>\n",
       "            <tr>\n",
       "                        <th id=\"T_97d68000_4d60_11ea_8191_c8f750ddb9e6level0_row6\" class=\"row_heading level0 row6\" >7</th>\n",
       "                        <td id=\"T_97d68000_4d60_11ea_8191_c8f750ddb9e6row6_col0\" class=\"data row6 col0\" >10204</td>\n",
       "                        <td id=\"T_97d68000_4d60_11ea_8191_c8f750ddb9e6row6_col1\" class=\"data row6 col1\" >0.23%</td>\n",
       "            </tr>\n",
       "            <tr>\n",
       "                        <th id=\"T_97d68000_4d60_11ea_8191_c8f750ddb9e6level0_row7\" class=\"row_heading level0 row7\" >8</th>\n",
       "                        <td id=\"T_97d68000_4d60_11ea_8191_c8f750ddb9e6row7_col0\" class=\"data row7 col0\" >5818</td>\n",
       "                        <td id=\"T_97d68000_4d60_11ea_8191_c8f750ddb9e6row7_col1\" class=\"data row7 col1\" >0.13%</td>\n",
       "            </tr>\n",
       "            <tr>\n",
       "                        <th id=\"T_97d68000_4d60_11ea_8191_c8f750ddb9e6level0_row8\" class=\"row_heading level0 row8\" >9</th>\n",
       "                        <td id=\"T_97d68000_4d60_11ea_8191_c8f750ddb9e6row8_col0\" class=\"data row8 col0\" >3665</td>\n",
       "                        <td id=\"T_97d68000_4d60_11ea_8191_c8f750ddb9e6row8_col1\" class=\"data row8 col1\" >0.08%</td>\n",
       "            </tr>\n",
       "            <tr>\n",
       "                        <th id=\"T_97d68000_4d60_11ea_8191_c8f750ddb9e6level0_row9\" class=\"row_heading level0 row9\" >10</th>\n",
       "                        <td id=\"T_97d68000_4d60_11ea_8191_c8f750ddb9e6row9_col0\" class=\"data row9 col0\" >2509</td>\n",
       "                        <td id=\"T_97d68000_4d60_11ea_8191_c8f750ddb9e6row9_col1\" class=\"data row9 col1\" >0.06%</td>\n",
       "            </tr>\n",
       "    </tbody></table>"
      ],
      "text/plain": [
       "<pandas.io.formats.style.Styler at 0x169cc171a88>"
      ]
     },
     "execution_count": 24,
     "metadata": {},
     "output_type": "execute_result"
    }
   ],
   "source": [
    "siren_unique(df = subset_insee_count)"
   ]
  },
  {
   "cell_type": "code",
   "execution_count": 25,
   "metadata": {
    "Collapsed": "false"
   },
   "outputs": [
    {
     "name": "stdout",
     "output_type": "stream",
     "text": [
      "Nombre total obs: 4979272\n"
     ]
    },
    {
     "data": {
      "text/html": [
       "<style  type=\"text/css\" >\n",
       "</style><table id=\"T_a0d900fa_4d60_11ea_814d_c8f750ddb9e6\" ><thead>    <tr>        <th class=\"blank level0\" ></th>        <th class=\"col_heading level0 col0\" >total_count</th>        <th class=\"col_heading level0 col1\" >pct</th>    </tr>    <tr>        <th class=\"index_name level0\" >count</th>        <th class=\"blank\" ></th>        <th class=\"blank\" ></th>    </tr></thead><tbody>\n",
       "                <tr>\n",
       "                        <th id=\"T_a0d900fa_4d60_11ea_814d_c8f750ddb9e6level0_row0\" class=\"row_heading level0 row0\" >1</th>\n",
       "                        <td id=\"T_a0d900fa_4d60_11ea_814d_c8f750ddb9e6row0_col0\" class=\"data row0 col0\" >4312053</td>\n",
       "                        <td id=\"T_a0d900fa_4d60_11ea_814d_c8f750ddb9e6row0_col1\" class=\"data row0 col1\" >95.75%</td>\n",
       "            </tr>\n",
       "            <tr>\n",
       "                        <th id=\"T_a0d900fa_4d60_11ea_814d_c8f750ddb9e6level0_row1\" class=\"row_heading level0 row1\" >2</th>\n",
       "                        <td id=\"T_a0d900fa_4d60_11ea_814d_c8f750ddb9e6row1_col0\" class=\"data row1 col0\" >142484</td>\n",
       "                        <td id=\"T_a0d900fa_4d60_11ea_814d_c8f750ddb9e6row1_col1\" class=\"data row1 col1\" >3.16%</td>\n",
       "            </tr>\n",
       "            <tr>\n",
       "                        <th id=\"T_a0d900fa_4d60_11ea_814d_c8f750ddb9e6level0_row2\" class=\"row_heading level0 row2\" >3</th>\n",
       "                        <td id=\"T_a0d900fa_4d60_11ea_814d_c8f750ddb9e6row2_col0\" class=\"data row2 col0\" >25170</td>\n",
       "                        <td id=\"T_a0d900fa_4d60_11ea_814d_c8f750ddb9e6row2_col1\" class=\"data row2 col1\" >0.56%</td>\n",
       "            </tr>\n",
       "            <tr>\n",
       "                        <th id=\"T_a0d900fa_4d60_11ea_814d_c8f750ddb9e6level0_row3\" class=\"row_heading level0 row3\" >4</th>\n",
       "                        <td id=\"T_a0d900fa_4d60_11ea_814d_c8f750ddb9e6row3_col0\" class=\"data row3 col0\" >8708</td>\n",
       "                        <td id=\"T_a0d900fa_4d60_11ea_814d_c8f750ddb9e6row3_col1\" class=\"data row3 col1\" >0.19%</td>\n",
       "            </tr>\n",
       "            <tr>\n",
       "                        <th id=\"T_a0d900fa_4d60_11ea_814d_c8f750ddb9e6level0_row4\" class=\"row_heading level0 row4\" >5</th>\n",
       "                        <td id=\"T_a0d900fa_4d60_11ea_814d_c8f750ddb9e6row4_col0\" class=\"data row4 col0\" >4226</td>\n",
       "                        <td id=\"T_a0d900fa_4d60_11ea_814d_c8f750ddb9e6row4_col1\" class=\"data row4 col1\" >0.09%</td>\n",
       "            </tr>\n",
       "            <tr>\n",
       "                        <th id=\"T_a0d900fa_4d60_11ea_814d_c8f750ddb9e6level0_row5\" class=\"row_heading level0 row5\" >6</th>\n",
       "                        <td id=\"T_a0d900fa_4d60_11ea_814d_c8f750ddb9e6row5_col0\" class=\"data row5 col0\" >2495</td>\n",
       "                        <td id=\"T_a0d900fa_4d60_11ea_814d_c8f750ddb9e6row5_col1\" class=\"data row5 col1\" >0.06%</td>\n",
       "            </tr>\n",
       "            <tr>\n",
       "                        <th id=\"T_a0d900fa_4d60_11ea_814d_c8f750ddb9e6level0_row6\" class=\"row_heading level0 row6\" >7</th>\n",
       "                        <td id=\"T_a0d900fa_4d60_11ea_814d_c8f750ddb9e6row6_col0\" class=\"data row6 col0\" >1558</td>\n",
       "                        <td id=\"T_a0d900fa_4d60_11ea_814d_c8f750ddb9e6row6_col1\" class=\"data row6 col1\" >0.03%</td>\n",
       "            </tr>\n",
       "            <tr>\n",
       "                        <th id=\"T_a0d900fa_4d60_11ea_814d_c8f750ddb9e6level0_row7\" class=\"row_heading level0 row7\" >8</th>\n",
       "                        <td id=\"T_a0d900fa_4d60_11ea_814d_c8f750ddb9e6row7_col0\" class=\"data row7 col0\" >1113</td>\n",
       "                        <td id=\"T_a0d900fa_4d60_11ea_814d_c8f750ddb9e6row7_col1\" class=\"data row7 col1\" >0.02%</td>\n",
       "            </tr>\n",
       "            <tr>\n",
       "                        <th id=\"T_a0d900fa_4d60_11ea_814d_c8f750ddb9e6level0_row8\" class=\"row_heading level0 row8\" >9</th>\n",
       "                        <td id=\"T_a0d900fa_4d60_11ea_814d_c8f750ddb9e6row8_col0\" class=\"data row8 col0\" >794</td>\n",
       "                        <td id=\"T_a0d900fa_4d60_11ea_814d_c8f750ddb9e6row8_col1\" class=\"data row8 col1\" >0.02%</td>\n",
       "            </tr>\n",
       "            <tr>\n",
       "                        <th id=\"T_a0d900fa_4d60_11ea_814d_c8f750ddb9e6level0_row9\" class=\"row_heading level0 row9\" >10</th>\n",
       "                        <td id=\"T_a0d900fa_4d60_11ea_814d_c8f750ddb9e6row9_col0\" class=\"data row9 col0\" >617</td>\n",
       "                        <td id=\"T_a0d900fa_4d60_11ea_814d_c8f750ddb9e6row9_col1\" class=\"data row9 col1\" >0.01%</td>\n",
       "            </tr>\n",
       "    </tbody></table>"
      ],
      "text/plain": [
       "<pandas.io.formats.style.Styler at 0x169cb808b88>"
      ]
     },
     "execution_count": 25,
     "metadata": {},
     "output_type": "execute_result"
    }
   ],
   "source": [
    "siren_unique(df = df_siren_to_find)"
   ]
  },
  {
   "cell_type": "markdown",
   "metadata": {
    "Collapsed": "false"
   },
   "source": [
    "## Step 0: Clean ville\n",
    "\n",
    "Ajout matching des communes pour retrouver le libelé commune de l'INSEE\n",
    "\n",
    "ATTENTION, il faut nétoyer la variables ville dans l'INSEE. Veuillez regarder le fichier `communes.xlsx` pour voir les différents problèmes\n",
    "\n",
    "ex: \n",
    "- CEDEX, cedex, digit, (d+), \n",
    "\n",
    "attention, l'arrondissement peut être mis entre parenthèse \n",
    "\n",
    "- MARSEILLE (7E)\n",
    "\n",
    "- process:\n",
    "    - creer variables avec numeric seulement\n",
    "    - recreer ville 2 si test pas NAN pour avoir l'arrondissement\n",
    "    - virer les differentes informations dans ville via regex"
   ]
  },
  {
   "cell_type": "code",
   "execution_count": 26,
   "metadata": {
    "Collapsed": "false"
   },
   "outputs": [
    {
     "data": {
      "text/plain": [
       "_merge\n",
       "left_only      202980\n",
       "right_only          0\n",
       "both          4776292\n",
       "Name: _merge, dtype: int64"
      ]
     },
     "execution_count": 26,
     "metadata": {},
     "output_type": "execute_result"
    }
   ],
   "source": [
    "regex = 'CEDEX|cedex|Cedex|\\([^)]*\\)|/\\s\\s+/|^\\d+\\s|\\s\\d+\\s|\\s\\d+$|\\d+|\\.|\\--|COMMUNE DE |COMMUNE DE|commune de |commune de|Commune de |Commune de |\\s$'\n",
    "test_adress = df_siren_to_find.copy()\n",
    "test_adress['test'] =test_adress['Ville'].str.extract(r'(\\d+)')\n",
    "test_adress['Ville_clean'] = test_adress['Ville'].str.replace(regex,'')\n",
    "test_adress['Ville_clean'] = test_adress['Ville_clean'].str.replace('\\s$|\\s^','')\n",
    "test_adress['ville2'] = np.where(\n",
    "    np.logical_and(\n",
    "         ~test_adress['test'].isin([np.nan]),\n",
    "        test_adress['test'].str.len() <=2\n",
    "    )\n",
    "   ,\n",
    "    test_adress['Ville_clean'] + '' + test_adress['test'].astype(str),\n",
    "    test_adress['Ville_clean']\n",
    ")\n",
    "\n",
    "test_adress = test_adress.merge(communes,\n",
    "                         left_on='ville2',\n",
    "                         right_on='possibilite',\n",
    "                         how='left',\n",
    "                         indicator=True)\n",
    "\n",
    "test_adress = pd.concat([\n",
    "    test_adress.loc[lambda x: x['_merge'].isin(['both'])],\n",
    "    (test_adress\n",
    "     .loc[lambda x: x['_merge'].isin(['left_only'])]\n",
    "     .drop(columns=['ncc', 'possibilite', '_merge'])\n",
    "     .merge(communes,\n",
    "            left_on='Ville_clean',\n",
    "            right_on='possibilite',\n",
    "            how='left',\n",
    "            indicator=True)\n",
    "     )\n",
    "\n",
    "])\n",
    "\n",
    "test_adress = pd.concat([\n",
    "    test_adress.loc[lambda x: x['_merge'].isin(['both'])],\n",
    "    (test_adress\n",
    "     .loc[lambda x: x['_merge'].isin(['left_only'])]\n",
    "     .drop(columns=['ncc', 'possibilite', '_merge'])\n",
    "     .assign(\n",
    "         noaccent=lambda x: x['Ville_clean'].str.normalize('NFKD')\n",
    "         .str.encode('ascii', errors='ignore')\n",
    "         .str.decode('utf-8'))\n",
    "     ).merge(communes,\n",
    "             left_on='noaccent',\n",
    "             right_on='possibilite',\n",
    "             how='left',\n",
    "             indicator=True)])\n",
    "test_adress.groupby('_merge')[\"_merge\"].count()\n"
   ]
  },
  {
   "cell_type": "code",
   "execution_count": 27,
   "metadata": {
    "Collapsed": "false"
   },
   "outputs": [],
   "source": [
    "test_adress = test_adress.drop(columns = '_merge')"
   ]
  },
  {
   "cell_type": "code",
   "execution_count": 28,
   "metadata": {
    "Collapsed": "false"
   },
   "outputs": [
    {
     "data": {
      "text/plain": [
       "(4979272, 16)"
      ]
     },
     "execution_count": 28,
     "metadata": {},
     "output_type": "execute_result"
    }
   ],
   "source": [
    "test_adress.shape"
   ]
  },
  {
   "cell_type": "code",
   "execution_count": 29,
   "metadata": {
    "Collapsed": "false"
   },
   "outputs": [
    {
     "data": {
      "text/html": [
       "<div>\n",
       "<style scoped>\n",
       "    .dataframe tbody tr th:only-of-type {\n",
       "        vertical-align: middle;\n",
       "    }\n",
       "\n",
       "    .dataframe tbody tr th {\n",
       "        vertical-align: top;\n",
       "    }\n",
       "\n",
       "    .dataframe thead th {\n",
       "        text-align: right;\n",
       "    }\n",
       "</style>\n",
       "<table border=\"1\" class=\"dataframe\">\n",
       "  <thead>\n",
       "    <tr style=\"text-align: right;\">\n",
       "      <th></th>\n",
       "      <th>siren</th>\n",
       "      <th>Type</th>\n",
       "      <th>Adresse_Ligne1</th>\n",
       "      <th>Adresse_Ligne2</th>\n",
       "      <th>Adresse_Ligne3</th>\n",
       "      <th>Code_Postal</th>\n",
       "      <th>Ville</th>\n",
       "      <th>Code_Commune</th>\n",
       "      <th>Pays</th>\n",
       "      <th>count</th>\n",
       "      <th>test</th>\n",
       "      <th>Ville_clean</th>\n",
       "      <th>ville2</th>\n",
       "      <th>ncc</th>\n",
       "      <th>possibilite</th>\n",
       "      <th>noaccent</th>\n",
       "    </tr>\n",
       "  </thead>\n",
       "  <tbody>\n",
       "    <tr>\n",
       "      <th>0</th>\n",
       "      <td>813543063</td>\n",
       "      <td>PRI</td>\n",
       "      <td>NaN</td>\n",
       "      <td>RD 1075</td>\n",
       "      <td>la Gare</td>\n",
       "      <td>01500</td>\n",
       "      <td>Ambronay</td>\n",
       "      <td>01007</td>\n",
       "      <td>FRANCE</td>\n",
       "      <td>1</td>\n",
       "      <td>NaN</td>\n",
       "      <td>Ambronay</td>\n",
       "      <td>Ambronay</td>\n",
       "      <td>AMBRONAY</td>\n",
       "      <td>Ambronay</td>\n",
       "      <td>NaN</td>\n",
       "    </tr>\n",
       "    <tr>\n",
       "      <th>1</th>\n",
       "      <td>800897092</td>\n",
       "      <td>SEP</td>\n",
       "      <td>NaN</td>\n",
       "      <td>640 route de Montgrimoux</td>\n",
       "      <td>NaN</td>\n",
       "      <td>01570</td>\n",
       "      <td>Feillens</td>\n",
       "      <td>01159</td>\n",
       "      <td>FRANCE</td>\n",
       "      <td>1</td>\n",
       "      <td>NaN</td>\n",
       "      <td>Feillens</td>\n",
       "      <td>Feillens</td>\n",
       "      <td>FEILLENS</td>\n",
       "      <td>Feillens</td>\n",
       "      <td>NaN</td>\n",
       "    </tr>\n",
       "    <tr>\n",
       "      <th>2</th>\n",
       "      <td>440432052</td>\n",
       "      <td>SEP</td>\n",
       "      <td>NaN</td>\n",
       "      <td>13 rue du Plat</td>\n",
       "      <td>NaN</td>\n",
       "      <td>01500</td>\n",
       "      <td>Ambronay</td>\n",
       "      <td>01007</td>\n",
       "      <td>FRANCE</td>\n",
       "      <td>1</td>\n",
       "      <td>NaN</td>\n",
       "      <td>Ambronay</td>\n",
       "      <td>Ambronay</td>\n",
       "      <td>AMBRONAY</td>\n",
       "      <td>Ambronay</td>\n",
       "      <td>NaN</td>\n",
       "    </tr>\n",
       "    <tr>\n",
       "      <th>3</th>\n",
       "      <td>534728381</td>\n",
       "      <td>SEP</td>\n",
       "      <td>NaN</td>\n",
       "      <td>chemin des Bourbouillons</td>\n",
       "      <td>NaN</td>\n",
       "      <td>01250</td>\n",
       "      <td>Drom</td>\n",
       "      <td>01150</td>\n",
       "      <td>FRANCE</td>\n",
       "      <td>1</td>\n",
       "      <td>NaN</td>\n",
       "      <td>Drom</td>\n",
       "      <td>Drom</td>\n",
       "      <td>DROM</td>\n",
       "      <td>Drom</td>\n",
       "      <td>NaN</td>\n",
       "    </tr>\n",
       "    <tr>\n",
       "      <th>4</th>\n",
       "      <td>750647851</td>\n",
       "      <td>SEP</td>\n",
       "      <td>NaN</td>\n",
       "      <td>638 rue Aimé Bonneville</td>\n",
       "      <td>NaN</td>\n",
       "      <td>01200</td>\n",
       "      <td>Chatillon en Michaille</td>\n",
       "      <td>01091</td>\n",
       "      <td>FRANCE</td>\n",
       "      <td>1</td>\n",
       "      <td>NaN</td>\n",
       "      <td>Chatillon en Michaille</td>\n",
       "      <td>Chatillon en Michaille</td>\n",
       "      <td>CHATILLON EN MICHAILLE</td>\n",
       "      <td>Chatillon en Michaille</td>\n",
       "      <td>NaN</td>\n",
       "    </tr>\n",
       "  </tbody>\n",
       "</table>\n",
       "</div>"
      ],
      "text/plain": [
       "       siren Type Adresse_Ligne1            Adresse_Ligne2 Adresse_Ligne3  \\\n",
       "0  813543063  PRI            NaN                   RD 1075        la Gare   \n",
       "1  800897092  SEP            NaN  640 route de Montgrimoux            NaN   \n",
       "2  440432052  SEP            NaN            13 rue du Plat            NaN   \n",
       "3  534728381  SEP            NaN  chemin des Bourbouillons            NaN   \n",
       "4  750647851  SEP            NaN   638 rue Aimé Bonneville            NaN   \n",
       "\n",
       "  Code_Postal                   Ville Code_Commune    Pays  count test  \\\n",
       "0       01500                Ambronay        01007  FRANCE      1  NaN   \n",
       "1       01570                Feillens        01159  FRANCE      1  NaN   \n",
       "2       01500                Ambronay        01007  FRANCE      1  NaN   \n",
       "3       01250                    Drom        01150  FRANCE      1  NaN   \n",
       "4       01200  Chatillon en Michaille        01091  FRANCE      1  NaN   \n",
       "\n",
       "              Ville_clean                  ville2                     ncc  \\\n",
       "0                Ambronay                Ambronay                AMBRONAY   \n",
       "1                Feillens                Feillens                FEILLENS   \n",
       "2                Ambronay                Ambronay                AMBRONAY   \n",
       "3                    Drom                    Drom                    DROM   \n",
       "4  Chatillon en Michaille  Chatillon en Michaille  CHATILLON EN MICHAILLE   \n",
       "\n",
       "              possibilite noaccent  \n",
       "0                Ambronay      NaN  \n",
       "1                Feillens      NaN  \n",
       "2                Ambronay      NaN  \n",
       "3                    Drom      NaN  \n",
       "4  Chatillon en Michaille      NaN  "
      ]
     },
     "execution_count": 29,
     "metadata": {},
     "output_type": "execute_result"
    }
   ],
   "source": [
    "test_adress.head()"
   ]
  },
  {
   "cell_type": "markdown",
   "metadata": {
    "Collapsed": "false",
    "toc-hr-collapsed": false
   },
   "source": [
    "## Process\n",
    "\n",
    "On ne match que les SIREN dont la date de création est inférieur a 2018\n",
    "\n",
    "1) ~Step : Calculer le nombre de `nan` dans les colonnes de matching~\n",
    "\n",
    "2) ~Step : Compter le nombre de SIRET by SIREN~\n",
    "\n",
    "2) Step 2:  merge sur siren et code postal\n",
    "\n",
    "3) Step 3:  merge sur siren et code commune\n",
    "\n"
   ]
  },
  {
   "cell_type": "markdown",
   "metadata": {
    "Collapsed": "false"
   },
   "source": [
    "### Step 1: Match uniquement les 1 dans INSEE/INPI\n",
    "\n",
    "On enlève les matches du dataframe `df_siren_to_find` et on ajoute les `left_only`.\n",
    "\n",
    "Pareil pour l'INSEE pour gagner en mémoire."
   ]
  },
  {
   "cell_type": "code",
   "execution_count": 30,
   "metadata": {
    "Collapsed": "false"
   },
   "outputs": [],
   "source": [
    "m1_unique = (\n",
    "    subset_insee_count.loc[lambda x: x['count'].isin([1])]\n",
    " .merge(test_adress.loc[lambda x: x['count'].isin([1])],\n",
    "         how='left',indicator=True)\n",
    "       )"
   ]
  },
  {
   "cell_type": "code",
   "execution_count": 31,
   "metadata": {
    "Collapsed": "false"
   },
   "outputs": [
    {
     "data": {
      "text/plain": [
       "_merge\n",
       "left_only        9729\n",
       "right_only          0\n",
       "both          3009904\n",
       "Name: _merge, dtype: int64"
      ]
     },
     "execution_count": 31,
     "metadata": {},
     "output_type": "execute_result"
    }
   ],
   "source": [
    "m1_unique.groupby('_merge')[\"_merge\"].count()"
   ]
  },
  {
   "cell_type": "code",
   "execution_count": 32,
   "metadata": {
    "Collapsed": "false"
   },
   "outputs": [],
   "source": [
    "to_remove_ = m1_unique.loc[lambda x: x['_merge'].isin(['both'])]['siren'].to_list()"
   ]
  },
  {
   "cell_type": "code",
   "execution_count": 33,
   "metadata": {
    "Collapsed": "false"
   },
   "outputs": [],
   "source": [
    "test_adress = test_adress.loc[lambda x: ~x['siren'].isin(to_remove_)]\n",
    "#subset_insee_count = subset_insee_count.loc[lambda x: ~x['siren'].isin(to_remove_)]"
   ]
  },
  {
   "cell_type": "code",
   "execution_count": 34,
   "metadata": {
    "Collapsed": "false"
   },
   "outputs": [
    {
     "name": "stdout",
     "output_type": "stream",
     "text": [
      "Nombre total obs: 1969368\n"
     ]
    },
    {
     "data": {
      "text/html": [
       "<style  type=\"text/css\" >\n",
       "</style><table id=\"T_d4420a86_4d60_11ea_8216_c8f750ddb9e6\" ><thead>    <tr>        <th class=\"blank level0\" ></th>        <th class=\"col_heading level0 col0\" >total_count</th>        <th class=\"col_heading level0 col1\" >pct</th>    </tr>    <tr>        <th class=\"index_name level0\" >count</th>        <th class=\"blank\" ></th>        <th class=\"blank\" ></th>    </tr></thead><tbody>\n",
       "                <tr>\n",
       "                        <th id=\"T_d4420a86_4d60_11ea_8216_c8f750ddb9e6level0_row0\" class=\"row_heading level0 row0\" >1</th>\n",
       "                        <td id=\"T_d4420a86_4d60_11ea_8216_c8f750ddb9e6row0_col0\" class=\"data row0 col0\" >1302149</td>\n",
       "                        <td id=\"T_d4420a86_4d60_11ea_8216_c8f750ddb9e6row0_col1\" class=\"data row0 col1\" >87.17%</td>\n",
       "            </tr>\n",
       "            <tr>\n",
       "                        <th id=\"T_d4420a86_4d60_11ea_8216_c8f750ddb9e6level0_row1\" class=\"row_heading level0 row1\" >2</th>\n",
       "                        <td id=\"T_d4420a86_4d60_11ea_8216_c8f750ddb9e6row1_col0\" class=\"data row1 col0\" >142484</td>\n",
       "                        <td id=\"T_d4420a86_4d60_11ea_8216_c8f750ddb9e6row1_col1\" class=\"data row1 col1\" >9.54%</td>\n",
       "            </tr>\n",
       "            <tr>\n",
       "                        <th id=\"T_d4420a86_4d60_11ea_8216_c8f750ddb9e6level0_row2\" class=\"row_heading level0 row2\" >3</th>\n",
       "                        <td id=\"T_d4420a86_4d60_11ea_8216_c8f750ddb9e6row2_col0\" class=\"data row2 col0\" >25170</td>\n",
       "                        <td id=\"T_d4420a86_4d60_11ea_8216_c8f750ddb9e6row2_col1\" class=\"data row2 col1\" >1.68%</td>\n",
       "            </tr>\n",
       "            <tr>\n",
       "                        <th id=\"T_d4420a86_4d60_11ea_8216_c8f750ddb9e6level0_row3\" class=\"row_heading level0 row3\" >4</th>\n",
       "                        <td id=\"T_d4420a86_4d60_11ea_8216_c8f750ddb9e6row3_col0\" class=\"data row3 col0\" >8708</td>\n",
       "                        <td id=\"T_d4420a86_4d60_11ea_8216_c8f750ddb9e6row3_col1\" class=\"data row3 col1\" >0.58%</td>\n",
       "            </tr>\n",
       "            <tr>\n",
       "                        <th id=\"T_d4420a86_4d60_11ea_8216_c8f750ddb9e6level0_row4\" class=\"row_heading level0 row4\" >5</th>\n",
       "                        <td id=\"T_d4420a86_4d60_11ea_8216_c8f750ddb9e6row4_col0\" class=\"data row4 col0\" >4226</td>\n",
       "                        <td id=\"T_d4420a86_4d60_11ea_8216_c8f750ddb9e6row4_col1\" class=\"data row4 col1\" >0.28%</td>\n",
       "            </tr>\n",
       "            <tr>\n",
       "                        <th id=\"T_d4420a86_4d60_11ea_8216_c8f750ddb9e6level0_row5\" class=\"row_heading level0 row5\" >6</th>\n",
       "                        <td id=\"T_d4420a86_4d60_11ea_8216_c8f750ddb9e6row5_col0\" class=\"data row5 col0\" >2495</td>\n",
       "                        <td id=\"T_d4420a86_4d60_11ea_8216_c8f750ddb9e6row5_col1\" class=\"data row5 col1\" >0.17%</td>\n",
       "            </tr>\n",
       "            <tr>\n",
       "                        <th id=\"T_d4420a86_4d60_11ea_8216_c8f750ddb9e6level0_row6\" class=\"row_heading level0 row6\" >7</th>\n",
       "                        <td id=\"T_d4420a86_4d60_11ea_8216_c8f750ddb9e6row6_col0\" class=\"data row6 col0\" >1558</td>\n",
       "                        <td id=\"T_d4420a86_4d60_11ea_8216_c8f750ddb9e6row6_col1\" class=\"data row6 col1\" >0.10%</td>\n",
       "            </tr>\n",
       "            <tr>\n",
       "                        <th id=\"T_d4420a86_4d60_11ea_8216_c8f750ddb9e6level0_row7\" class=\"row_heading level0 row7\" >8</th>\n",
       "                        <td id=\"T_d4420a86_4d60_11ea_8216_c8f750ddb9e6row7_col0\" class=\"data row7 col0\" >1113</td>\n",
       "                        <td id=\"T_d4420a86_4d60_11ea_8216_c8f750ddb9e6row7_col1\" class=\"data row7 col1\" >0.07%</td>\n",
       "            </tr>\n",
       "            <tr>\n",
       "                        <th id=\"T_d4420a86_4d60_11ea_8216_c8f750ddb9e6level0_row8\" class=\"row_heading level0 row8\" >9</th>\n",
       "                        <td id=\"T_d4420a86_4d60_11ea_8216_c8f750ddb9e6row8_col0\" class=\"data row8 col0\" >794</td>\n",
       "                        <td id=\"T_d4420a86_4d60_11ea_8216_c8f750ddb9e6row8_col1\" class=\"data row8 col1\" >0.05%</td>\n",
       "            </tr>\n",
       "            <tr>\n",
       "                        <th id=\"T_d4420a86_4d60_11ea_8216_c8f750ddb9e6level0_row9\" class=\"row_heading level0 row9\" >10</th>\n",
       "                        <td id=\"T_d4420a86_4d60_11ea_8216_c8f750ddb9e6row9_col0\" class=\"data row9 col0\" >617</td>\n",
       "                        <td id=\"T_d4420a86_4d60_11ea_8216_c8f750ddb9e6row9_col1\" class=\"data row9 col1\" >0.04%</td>\n",
       "            </tr>\n",
       "    </tbody></table>"
      ],
      "text/plain": [
       "<pandas.io.formats.style.Styler at 0x169cb0c4748>"
      ]
     },
     "execution_count": 34,
     "metadata": {},
     "output_type": "execute_result"
    }
   ],
   "source": [
    "siren_unique(df = test_adress)"
   ]
  },
  {
   "cell_type": "code",
   "execution_count": 35,
   "metadata": {
    "Collapsed": "false"
   },
   "outputs": [
    {
     "name": "stdout",
     "output_type": "stream",
     "text": [
      "Nombre total obs: 7480120\n"
     ]
    },
    {
     "data": {
      "text/html": [
       "<style  type=\"text/css\" >\n",
       "</style><table id=\"T_d8500a2c_4d60_11ea_83f4_c8f750ddb9e6\" ><thead>    <tr>        <th class=\"blank level0\" ></th>        <th class=\"col_heading level0 col0\" >total_count</th>        <th class=\"col_heading level0 col1\" >pct</th>    </tr>    <tr>        <th class=\"index_name level0\" >count</th>        <th class=\"blank\" ></th>        <th class=\"blank\" ></th>    </tr></thead><tbody>\n",
       "                <tr>\n",
       "                        <th id=\"T_d8500a2c_4d60_11ea_83f4_c8f750ddb9e6level0_row0\" class=\"row_heading level0 row0\" >1</th>\n",
       "                        <td id=\"T_d8500a2c_4d60_11ea_83f4_c8f750ddb9e6row0_col0\" class=\"data row0 col0\" >3019633</td>\n",
       "                        <td id=\"T_d8500a2c_4d60_11ea_83f4_c8f750ddb9e6row0_col1\" class=\"data row0 col1\" >66.95%</td>\n",
       "            </tr>\n",
       "            <tr>\n",
       "                        <th id=\"T_d8500a2c_4d60_11ea_83f4_c8f750ddb9e6level0_row1\" class=\"row_heading level0 row1\" >2</th>\n",
       "                        <td id=\"T_d8500a2c_4d60_11ea_83f4_c8f750ddb9e6row1_col0\" class=\"data row1 col0\" >979757</td>\n",
       "                        <td id=\"T_d8500a2c_4d60_11ea_83f4_c8f750ddb9e6row1_col1\" class=\"data row1 col1\" >21.72%</td>\n",
       "            </tr>\n",
       "            <tr>\n",
       "                        <th id=\"T_d8500a2c_4d60_11ea_83f4_c8f750ddb9e6level0_row2\" class=\"row_heading level0 row2\" >3</th>\n",
       "                        <td id=\"T_d8500a2c_4d60_11ea_83f4_c8f750ddb9e6row2_col0\" class=\"data row2 col0\" >301250</td>\n",
       "                        <td id=\"T_d8500a2c_4d60_11ea_83f4_c8f750ddb9e6row2_col1\" class=\"data row2 col1\" >6.68%</td>\n",
       "            </tr>\n",
       "            <tr>\n",
       "                        <th id=\"T_d8500a2c_4d60_11ea_83f4_c8f750ddb9e6level0_row3\" class=\"row_heading level0 row3\" >4</th>\n",
       "                        <td id=\"T_d8500a2c_4d60_11ea_83f4_c8f750ddb9e6row3_col0\" class=\"data row3 col0\" >108365</td>\n",
       "                        <td id=\"T_d8500a2c_4d60_11ea_83f4_c8f750ddb9e6row3_col1\" class=\"data row3 col1\" >2.40%</td>\n",
       "            </tr>\n",
       "            <tr>\n",
       "                        <th id=\"T_d8500a2c_4d60_11ea_83f4_c8f750ddb9e6level0_row4\" class=\"row_heading level0 row4\" >5</th>\n",
       "                        <td id=\"T_d8500a2c_4d60_11ea_83f4_c8f750ddb9e6row4_col0\" class=\"data row4 col0\" >44389</td>\n",
       "                        <td id=\"T_d8500a2c_4d60_11ea_83f4_c8f750ddb9e6row4_col1\" class=\"data row4 col1\" >0.98%</td>\n",
       "            </tr>\n",
       "            <tr>\n",
       "                        <th id=\"T_d8500a2c_4d60_11ea_83f4_c8f750ddb9e6level0_row5\" class=\"row_heading level0 row5\" >6</th>\n",
       "                        <td id=\"T_d8500a2c_4d60_11ea_83f4_c8f750ddb9e6row5_col0\" class=\"data row5 col0\" >20116</td>\n",
       "                        <td id=\"T_d8500a2c_4d60_11ea_83f4_c8f750ddb9e6row5_col1\" class=\"data row5 col1\" >0.45%</td>\n",
       "            </tr>\n",
       "            <tr>\n",
       "                        <th id=\"T_d8500a2c_4d60_11ea_83f4_c8f750ddb9e6level0_row6\" class=\"row_heading level0 row6\" >7</th>\n",
       "                        <td id=\"T_d8500a2c_4d60_11ea_83f4_c8f750ddb9e6row6_col0\" class=\"data row6 col0\" >10204</td>\n",
       "                        <td id=\"T_d8500a2c_4d60_11ea_83f4_c8f750ddb9e6row6_col1\" class=\"data row6 col1\" >0.23%</td>\n",
       "            </tr>\n",
       "            <tr>\n",
       "                        <th id=\"T_d8500a2c_4d60_11ea_83f4_c8f750ddb9e6level0_row7\" class=\"row_heading level0 row7\" >8</th>\n",
       "                        <td id=\"T_d8500a2c_4d60_11ea_83f4_c8f750ddb9e6row7_col0\" class=\"data row7 col0\" >5818</td>\n",
       "                        <td id=\"T_d8500a2c_4d60_11ea_83f4_c8f750ddb9e6row7_col1\" class=\"data row7 col1\" >0.13%</td>\n",
       "            </tr>\n",
       "            <tr>\n",
       "                        <th id=\"T_d8500a2c_4d60_11ea_83f4_c8f750ddb9e6level0_row8\" class=\"row_heading level0 row8\" >9</th>\n",
       "                        <td id=\"T_d8500a2c_4d60_11ea_83f4_c8f750ddb9e6row8_col0\" class=\"data row8 col0\" >3665</td>\n",
       "                        <td id=\"T_d8500a2c_4d60_11ea_83f4_c8f750ddb9e6row8_col1\" class=\"data row8 col1\" >0.08%</td>\n",
       "            </tr>\n",
       "            <tr>\n",
       "                        <th id=\"T_d8500a2c_4d60_11ea_83f4_c8f750ddb9e6level0_row9\" class=\"row_heading level0 row9\" >10</th>\n",
       "                        <td id=\"T_d8500a2c_4d60_11ea_83f4_c8f750ddb9e6row9_col0\" class=\"data row9 col0\" >2509</td>\n",
       "                        <td id=\"T_d8500a2c_4d60_11ea_83f4_c8f750ddb9e6row9_col1\" class=\"data row9 col1\" >0.06%</td>\n",
       "            </tr>\n",
       "    </tbody></table>"
      ],
      "text/plain": [
       "<pandas.io.formats.style.Styler at 0x169cb0d8cc8>"
      ]
     },
     "execution_count": 35,
     "metadata": {},
     "output_type": "execute_result"
    }
   ],
   "source": [
    "siren_unique(df = subset_insee_count)"
   ]
  },
  {
   "cell_type": "markdown",
   "metadata": {
    "Collapsed": "false"
   },
   "source": [
    "Exemple de SIREN qui ont seulement une ligne dans l'INPI mais plusieurs SIRET dans l'INSEE."
   ]
  },
  {
   "cell_type": "code",
   "execution_count": 36,
   "metadata": {
    "Collapsed": "false"
   },
   "outputs": [
    {
     "data": {
      "text/html": [
       "<div>\n",
       "<style scoped>\n",
       "    .dataframe tbody tr th:only-of-type {\n",
       "        vertical-align: middle;\n",
       "    }\n",
       "\n",
       "    .dataframe tbody tr th {\n",
       "        vertical-align: top;\n",
       "    }\n",
       "\n",
       "    .dataframe thead th {\n",
       "        text-align: right;\n",
       "    }\n",
       "</style>\n",
       "<table border=\"1\" class=\"dataframe\">\n",
       "  <thead>\n",
       "    <tr style=\"text-align: right;\">\n",
       "      <th></th>\n",
       "      <th>siren</th>\n",
       "      <th>Type</th>\n",
       "      <th>Adresse_Ligne1</th>\n",
       "      <th>Adresse_Ligne2</th>\n",
       "      <th>Adresse_Ligne3</th>\n",
       "      <th>Code_Postal</th>\n",
       "      <th>Ville</th>\n",
       "      <th>Code_Commune</th>\n",
       "      <th>Pays</th>\n",
       "      <th>count</th>\n",
       "      <th>test</th>\n",
       "      <th>Ville_clean</th>\n",
       "      <th>ville2</th>\n",
       "      <th>ncc</th>\n",
       "      <th>possibilite</th>\n",
       "      <th>noaccent</th>\n",
       "    </tr>\n",
       "  </thead>\n",
       "  <tbody>\n",
       "    <tr>\n",
       "      <th>0</th>\n",
       "      <td>813543063</td>\n",
       "      <td>PRI</td>\n",
       "      <td>NaN</td>\n",
       "      <td>RD 1075</td>\n",
       "      <td>la Gare</td>\n",
       "      <td>01500</td>\n",
       "      <td>Ambronay</td>\n",
       "      <td>01007</td>\n",
       "      <td>FRANCE</td>\n",
       "      <td>1</td>\n",
       "      <td>NaN</td>\n",
       "      <td>Ambronay</td>\n",
       "      <td>Ambronay</td>\n",
       "      <td>AMBRONAY</td>\n",
       "      <td>Ambronay</td>\n",
       "      <td>NaN</td>\n",
       "    </tr>\n",
       "    <tr>\n",
       "      <th>1</th>\n",
       "      <td>800897092</td>\n",
       "      <td>SEP</td>\n",
       "      <td>NaN</td>\n",
       "      <td>640 route de Montgrimoux</td>\n",
       "      <td>NaN</td>\n",
       "      <td>01570</td>\n",
       "      <td>Feillens</td>\n",
       "      <td>01159</td>\n",
       "      <td>FRANCE</td>\n",
       "      <td>1</td>\n",
       "      <td>NaN</td>\n",
       "      <td>Feillens</td>\n",
       "      <td>Feillens</td>\n",
       "      <td>FEILLENS</td>\n",
       "      <td>Feillens</td>\n",
       "      <td>NaN</td>\n",
       "    </tr>\n",
       "  </tbody>\n",
       "</table>\n",
       "</div>"
      ],
      "text/plain": [
       "       siren Type Adresse_Ligne1            Adresse_Ligne2 Adresse_Ligne3  \\\n",
       "0  813543063  PRI            NaN                   RD 1075        la Gare   \n",
       "1  800897092  SEP            NaN  640 route de Montgrimoux            NaN   \n",
       "\n",
       "  Code_Postal     Ville Code_Commune    Pays  count test Ville_clean  \\\n",
       "0       01500  Ambronay        01007  FRANCE      1  NaN    Ambronay   \n",
       "1       01570  Feillens        01159  FRANCE      1  NaN    Feillens   \n",
       "\n",
       "     ville2       ncc possibilite noaccent  \n",
       "0  Ambronay  AMBRONAY    Ambronay      NaN  \n",
       "1  Feillens  FEILLENS    Feillens      NaN  "
      ]
     },
     "execution_count": 36,
     "metadata": {},
     "output_type": "execute_result"
    }
   ],
   "source": [
    "test_adress.loc[lambda x: x['count'] ==1].head(2)"
   ]
  },
  {
   "cell_type": "code",
   "execution_count": 37,
   "metadata": {
    "Collapsed": "false"
   },
   "outputs": [
    {
     "data": {
      "text/html": [
       "<div>\n",
       "<style scoped>\n",
       "    .dataframe tbody tr th:only-of-type {\n",
       "        vertical-align: middle;\n",
       "    }\n",
       "\n",
       "    .dataframe tbody tr th {\n",
       "        vertical-align: top;\n",
       "    }\n",
       "\n",
       "    .dataframe thead th {\n",
       "        text-align: right;\n",
       "    }\n",
       "</style>\n",
       "<table border=\"1\" class=\"dataframe\">\n",
       "  <thead>\n",
       "    <tr style=\"text-align: right;\">\n",
       "      <th></th>\n",
       "      <th>siren</th>\n",
       "      <th>siret</th>\n",
       "      <th>dateCreationEtablissement</th>\n",
       "      <th>complementAdresseEtablissement</th>\n",
       "      <th>numeroVoieEtablissement</th>\n",
       "      <th>indiceRepetitionEtablissement</th>\n",
       "      <th>typeVoieEtablissement</th>\n",
       "      <th>libelleVoieEtablissement</th>\n",
       "      <th>codePostalEtablissement</th>\n",
       "      <th>libelleCommuneEtablissement</th>\n",
       "      <th>libelleCommuneEtrangerEtablissement</th>\n",
       "      <th>distributionSpecialeEtablissement</th>\n",
       "      <th>codeCommuneEtablissement</th>\n",
       "      <th>codeCedexEtablissement</th>\n",
       "      <th>libelleCedexEtablissement</th>\n",
       "      <th>codePaysEtrangerEtablissement</th>\n",
       "      <th>libellePaysEtrangerEtablissement</th>\n",
       "      <th>count</th>\n",
       "    </tr>\n",
       "  </thead>\n",
       "  <tbody>\n",
       "    <tr>\n",
       "      <th>6866695</th>\n",
       "      <td>813543063</td>\n",
       "      <td>81354306300016</td>\n",
       "      <td>2015-10-01</td>\n",
       "      <td>VIA ALFIERI MASERATI SN - CAP -</td>\n",
       "      <td>NaN</td>\n",
       "      <td>NaN</td>\n",
       "      <td>NaN</td>\n",
       "      <td>ZONE INDUSTRIALE</td>\n",
       "      <td>NaN</td>\n",
       "      <td>NaN</td>\n",
       "      <td>95100 BLOCCO PALMA - CATANIA</td>\n",
       "      <td>NaN</td>\n",
       "      <td>NaN</td>\n",
       "      <td>NaN</td>\n",
       "      <td>NaN</td>\n",
       "      <td>99127</td>\n",
       "      <td>ITALIE</td>\n",
       "      <td>3</td>\n",
       "    </tr>\n",
       "    <tr>\n",
       "      <th>6866696</th>\n",
       "      <td>813543063</td>\n",
       "      <td>81354306300024</td>\n",
       "      <td>2015-10-01</td>\n",
       "      <td>LA GARE</td>\n",
       "      <td>NaN</td>\n",
       "      <td>NaN</td>\n",
       "      <td>NaN</td>\n",
       "      <td>RD 1075</td>\n",
       "      <td>01500</td>\n",
       "      <td>AMBRONAY</td>\n",
       "      <td>NaN</td>\n",
       "      <td>NaN</td>\n",
       "      <td>01007</td>\n",
       "      <td>NaN</td>\n",
       "      <td>NaN</td>\n",
       "      <td>NaN</td>\n",
       "      <td>NaN</td>\n",
       "      <td>3</td>\n",
       "    </tr>\n",
       "    <tr>\n",
       "      <th>6866697</th>\n",
       "      <td>813543063</td>\n",
       "      <td>81354306300032</td>\n",
       "      <td>2016-05-24</td>\n",
       "      <td>I 0616135</td>\n",
       "      <td>109</td>\n",
       "      <td>NaN</td>\n",
       "      <td>NaN</td>\n",
       "      <td>PONTE SAN GIOVANNI VIA ADRIATICA</td>\n",
       "      <td>NaN</td>\n",
       "      <td>NaN</td>\n",
       "      <td>PERUGIA</td>\n",
       "      <td>NaN</td>\n",
       "      <td>NaN</td>\n",
       "      <td>NaN</td>\n",
       "      <td>NaN</td>\n",
       "      <td>99127</td>\n",
       "      <td>ITALIE</td>\n",
       "      <td>3</td>\n",
       "    </tr>\n",
       "  </tbody>\n",
       "</table>\n",
       "</div>"
      ],
      "text/plain": [
       "             siren           siret dateCreationEtablissement  \\\n",
       "6866695  813543063  81354306300016                2015-10-01   \n",
       "6866696  813543063  81354306300024                2015-10-01   \n",
       "6866697  813543063  81354306300032                2016-05-24   \n",
       "\n",
       "          complementAdresseEtablissement numeroVoieEtablissement  \\\n",
       "6866695  VIA ALFIERI MASERATI SN - CAP -                     NaN   \n",
       "6866696                          LA GARE                     NaN   \n",
       "6866697                        I 0616135                     109   \n",
       "\n",
       "        indiceRepetitionEtablissement typeVoieEtablissement  \\\n",
       "6866695                           NaN                   NaN   \n",
       "6866696                           NaN                   NaN   \n",
       "6866697                           NaN                   NaN   \n",
       "\n",
       "                 libelleVoieEtablissement codePostalEtablissement  \\\n",
       "6866695                  ZONE INDUSTRIALE                     NaN   \n",
       "6866696                           RD 1075                   01500   \n",
       "6866697  PONTE SAN GIOVANNI VIA ADRIATICA                     NaN   \n",
       "\n",
       "        libelleCommuneEtablissement libelleCommuneEtrangerEtablissement  \\\n",
       "6866695                         NaN        95100 BLOCCO PALMA - CATANIA   \n",
       "6866696                    AMBRONAY                                 NaN   \n",
       "6866697                         NaN                             PERUGIA   \n",
       "\n",
       "        distributionSpecialeEtablissement codeCommuneEtablissement  \\\n",
       "6866695                               NaN                      NaN   \n",
       "6866696                               NaN                    01007   \n",
       "6866697                               NaN                      NaN   \n",
       "\n",
       "        codeCedexEtablissement libelleCedexEtablissement  \\\n",
       "6866695                    NaN                       NaN   \n",
       "6866696                    NaN                       NaN   \n",
       "6866697                    NaN                       NaN   \n",
       "\n",
       "        codePaysEtrangerEtablissement libellePaysEtrangerEtablissement  count  \n",
       "6866695                         99127                           ITALIE      3  \n",
       "6866696                           NaN                              NaN      3  \n",
       "6866697                         99127                           ITALIE      3  "
      ]
     },
     "execution_count": 37,
     "metadata": {},
     "output_type": "execute_result"
    }
   ],
   "source": [
    "subset_insee_count.loc[lambda x: x['siren'].isin(['813543063'])]"
   ]
  },
  {
   "cell_type": "code",
   "execution_count": 38,
   "metadata": {
    "Collapsed": "false"
   },
   "outputs": [
    {
     "data": {
      "text/html": [
       "<div>\n",
       "<style scoped>\n",
       "    .dataframe tbody tr th:only-of-type {\n",
       "        vertical-align: middle;\n",
       "    }\n",
       "\n",
       "    .dataframe tbody tr th {\n",
       "        vertical-align: top;\n",
       "    }\n",
       "\n",
       "    .dataframe thead th {\n",
       "        text-align: right;\n",
       "    }\n",
       "</style>\n",
       "<table border=\"1\" class=\"dataframe\">\n",
       "  <thead>\n",
       "    <tr style=\"text-align: right;\">\n",
       "      <th></th>\n",
       "      <th>siren</th>\n",
       "      <th>siret</th>\n",
       "      <th>dateCreationEtablissement</th>\n",
       "      <th>complementAdresseEtablissement</th>\n",
       "      <th>numeroVoieEtablissement</th>\n",
       "      <th>indiceRepetitionEtablissement</th>\n",
       "      <th>typeVoieEtablissement</th>\n",
       "      <th>libelleVoieEtablissement</th>\n",
       "      <th>codePostalEtablissement</th>\n",
       "      <th>libelleCommuneEtablissement</th>\n",
       "      <th>libelleCommuneEtrangerEtablissement</th>\n",
       "      <th>distributionSpecialeEtablissement</th>\n",
       "      <th>codeCommuneEtablissement</th>\n",
       "      <th>codeCedexEtablissement</th>\n",
       "      <th>libelleCedexEtablissement</th>\n",
       "      <th>codePaysEtrangerEtablissement</th>\n",
       "      <th>libellePaysEtrangerEtablissement</th>\n",
       "      <th>count</th>\n",
       "    </tr>\n",
       "  </thead>\n",
       "  <tbody>\n",
       "    <tr>\n",
       "      <th>6402442</th>\n",
       "      <td>800897092</td>\n",
       "      <td>80089709200014</td>\n",
       "      <td>2014-03-06</td>\n",
       "      <td>NaN</td>\n",
       "      <td>26</td>\n",
       "      <td>NaN</td>\n",
       "      <td>RTE</td>\n",
       "      <td>D'OSLON</td>\n",
       "      <td>71380</td>\n",
       "      <td>SAINT MARCEL</td>\n",
       "      <td>NaN</td>\n",
       "      <td>NaN</td>\n",
       "      <td>71445</td>\n",
       "      <td>NaN</td>\n",
       "      <td>NaN</td>\n",
       "      <td>NaN</td>\n",
       "      <td>NaN</td>\n",
       "      <td>2</td>\n",
       "    </tr>\n",
       "    <tr>\n",
       "      <th>6402443</th>\n",
       "      <td>800897092</td>\n",
       "      <td>80089709200022</td>\n",
       "      <td>2015-07-03</td>\n",
       "      <td>NaN</td>\n",
       "      <td>640</td>\n",
       "      <td>NaN</td>\n",
       "      <td>RTE</td>\n",
       "      <td>DE MONTGRIMOUX</td>\n",
       "      <td>01570</td>\n",
       "      <td>FEILLENS</td>\n",
       "      <td>NaN</td>\n",
       "      <td>NaN</td>\n",
       "      <td>01159</td>\n",
       "      <td>NaN</td>\n",
       "      <td>NaN</td>\n",
       "      <td>NaN</td>\n",
       "      <td>NaN</td>\n",
       "      <td>2</td>\n",
       "    </tr>\n",
       "  </tbody>\n",
       "</table>\n",
       "</div>"
      ],
      "text/plain": [
       "             siren           siret dateCreationEtablissement  \\\n",
       "6402442  800897092  80089709200014                2014-03-06   \n",
       "6402443  800897092  80089709200022                2015-07-03   \n",
       "\n",
       "        complementAdresseEtablissement numeroVoieEtablissement  \\\n",
       "6402442                            NaN                      26   \n",
       "6402443                            NaN                     640   \n",
       "\n",
       "        indiceRepetitionEtablissement typeVoieEtablissement  \\\n",
       "6402442                           NaN                   RTE   \n",
       "6402443                           NaN                   RTE   \n",
       "\n",
       "        libelleVoieEtablissement codePostalEtablissement  \\\n",
       "6402442                  D'OSLON                   71380   \n",
       "6402443           DE MONTGRIMOUX                   01570   \n",
       "\n",
       "        libelleCommuneEtablissement libelleCommuneEtrangerEtablissement  \\\n",
       "6402442                SAINT MARCEL                                 NaN   \n",
       "6402443                    FEILLENS                                 NaN   \n",
       "\n",
       "        distributionSpecialeEtablissement codeCommuneEtablissement  \\\n",
       "6402442                               NaN                    71445   \n",
       "6402443                               NaN                    01159   \n",
       "\n",
       "        codeCedexEtablissement libelleCedexEtablissement  \\\n",
       "6402442                    NaN                       NaN   \n",
       "6402443                    NaN                       NaN   \n",
       "\n",
       "        codePaysEtrangerEtablissement libellePaysEtrangerEtablissement  count  \n",
       "6402442                           NaN                              NaN      2  \n",
       "6402443                           NaN                              NaN      2  "
      ]
     },
     "execution_count": 38,
     "metadata": {},
     "output_type": "execute_result"
    }
   ],
   "source": [
    "subset_insee_count.loc[lambda x: x['siren'].isin(['800897092'])]"
   ]
  },
  {
   "cell_type": "code",
   "execution_count": 39,
   "metadata": {
    "Collapsed": "false"
   },
   "outputs": [
    {
     "data": {
      "text/plain": [
       "siren                                        0\n",
       "dateCreationEtablissement                    0\n",
       "count                                        0\n",
       "siret                                        0\n",
       "libelleCommuneEtablissement               9691\n",
       "codeCommuneEtablissement                  9691\n",
       "codePostalEtablissement                   9691\n",
       "libelleVoieEtablissement                 97530\n",
       "typeVoieEtablissement                  1075153\n",
       "numeroVoieEtablissement                1652820\n",
       "complementAdresseEtablissement         5887798\n",
       "indiceRepetitionEtablissement          7188456\n",
       "distributionSpecialeEtablissement      7408647\n",
       "codeCedexEtablissement                 7409543\n",
       "libelleCedexEtablissement              7411252\n",
       "libellePaysEtrangerEtablissement       7470432\n",
       "codePaysEtrangerEtablissement          7470432\n",
       "libelleCommuneEtrangerEtablissement    7472315\n",
       "dtype: int64"
      ]
     },
     "execution_count": 39,
     "metadata": {},
     "output_type": "execute_result"
    }
   ],
   "source": [
    "subset_insee_count.isna().sum().sort_values()"
   ]
  },
  {
   "cell_type": "code",
   "execution_count": 40,
   "metadata": {
    "Collapsed": "false"
   },
   "outputs": [
    {
     "data": {
      "text/plain": [
       "siren                   0\n",
       "Type                    0\n",
       "count                   0\n",
       "Pays                   33\n",
       "Ville                1245\n",
       "Ville_clean          1245\n",
       "ville2               1245\n",
       "Code_Postal          1737\n",
       "Code_Commune        65614\n",
       "ncc                 77234\n",
       "possibilite         77234\n",
       "Adresse_Ligne2     803945\n",
       "Adresse_Ligne1    1038866\n",
       "Adresse_Ligne3    1676779\n",
       "noaccent          1889395\n",
       "test              1960221\n",
       "dtype: int64"
      ]
     },
     "execution_count": 40,
     "metadata": {},
     "output_type": "execute_result"
    }
   ],
   "source": [
    "test_adress.isna().sum().sort_values()"
   ]
  },
  {
   "cell_type": "markdown",
   "metadata": {
    "Collapsed": "false"
   },
   "source": [
    "### Step 2: Merging \n",
    "\n",
    "Dans cette partie, on va merger sur plusieurs candidats. La plupart des SIREN peuvent être matché via le code postal, code commune, ou ville directement. Si un SIREN a plusieurs SIRET dans la même ville ou code postal, il fera l'objet d'une recherche plus poussée.\n",
    "\n",
    "Trois cas de figure découle du merge:\n",
    "\n",
    "- 1) Merge forte pertinence\n",
    "- 2) merge pertinence moyenne -> plusieurs SIRET pour un même candidat\n",
    "- 3) Unmerge\n",
    "\n",
    "#### 1:  merge sur siren et Ville\n",
    "\n",
    "- Merge sur siren & libelleCommuneEtablissement|Ville_clean"
   ]
  },
  {
   "cell_type": "code",
   "execution_count": 41,
   "metadata": {
    "Collapsed": "false"
   },
   "outputs": [],
   "source": [
    "def merge(df_insee, df_inpi, left_on, right_on):\n",
    "    \"\"\"\n",
    "    \"\"\"\n",
    "    # match\n",
    "    data_merged_1 = (df_insee\n",
    "                     .merge(\n",
    "                         df_inpi,\n",
    "                         how='right',\n",
    "                         left_on=left_on,\n",
    "                         right_on=right_on,\n",
    "                         indicator=True,\n",
    "                         suffixes=['_insee', '_inpi'])\n",
    "                     )\n",
    "\n",
    "    # count\n",
    "    count_ = (data_merged_1\n",
    "              .loc[lambda x: x['_merge'].isin(['both'])]\n",
    "              .groupby(['siren', 'ncc'])['siren']\n",
    "              .count()\n",
    "              .rename('count')\n",
    "              .reset_index()\n",
    "              .groupby('count')['count']\n",
    "              .count()\n",
    "              .reset_index(name='total_count')\n",
    "              .set_index('count')\n",
    "              .assign(pct=lambda x: x/x.sum())\n",
    "              .iloc[:10, :]\n",
    "              .style\n",
    "              .format('{:,.2%}', subset=['pct'])\n",
    "              )\n",
    "\n",
    "    # detail match\n",
    "    detail = data_merged_1.groupby('_merge')[\"_merge\"].count()\n",
    "\n",
    "    # cas de figure 2\n",
    "    siren_fig2 = (data_merged_1\n",
    "                  .loc[lambda x: x['_merge'].isin(['both'])]\n",
    "                  .groupby(['siren', 'ncc'])['siren']\n",
    "                  .count()\n",
    "                  .rename('count')\n",
    "                  .loc[lambda x:x > 1]\n",
    "                  .reset_index('ncc')\n",
    "                  .index\n",
    "                  )\n",
    "\n",
    "    # non matche\n",
    "    siren_nmatched = (data_merged_1\n",
    "                      .loc[lambda x: x['_merge'].isin(['right_only'])]['siren']\n",
    "                      .to_list()\n",
    "                      )\n",
    "    new_unmatch = df_inpi.loc[lambda x: x['siren'].isin(siren_nmatched)]\n",
    "\n",
    "    dic_ = {\n",
    "\n",
    "        'count_': count_,\n",
    "        'detail': detail,\n",
    "        'siren_fig': siren_fig2,\n",
    "        'size_fig2': len(siren_fig2),\n",
    "        'new_unmatch': new_unmatch,\n",
    "    }\n",
    "\n",
    "    return dic_"
   ]
  },
  {
   "cell_type": "code",
   "execution_count": 42,
   "metadata": {
    "Collapsed": "false"
   },
   "outputs": [],
   "source": [
    "test_city = merge(df_insee =subset_insee_count,\n",
    "      df_inpi =test_adress,\n",
    "      left_on=['siren', 'libelleCommuneEtablissement'],\n",
    "      right_on=['siren', 'ncc'])"
   ]
  },
  {
   "cell_type": "code",
   "execution_count": 43,
   "metadata": {
    "Collapsed": "false"
   },
   "outputs": [
    {
     "data": {
      "text/plain": [
       "_merge\n",
       "left_only           0\n",
       "right_only     488966\n",
       "both          2404212\n",
       "Name: _merge, dtype: int64"
      ]
     },
     "execution_count": 43,
     "metadata": {},
     "output_type": "execute_result"
    }
   ],
   "source": [
    "test_city['detail']"
   ]
  },
  {
   "cell_type": "code",
   "execution_count": 44,
   "metadata": {
    "Collapsed": "false"
   },
   "outputs": [
    {
     "data": {
      "text/plain": [
       "482994"
      ]
     },
     "execution_count": 44,
     "metadata": {},
     "output_type": "execute_result"
    }
   ],
   "source": [
    "test_city['size_fig2']"
   ]
  },
  {
   "cell_type": "code",
   "execution_count": 45,
   "metadata": {
    "Collapsed": "false"
   },
   "outputs": [
    {
     "data": {
      "text/html": [
       "<style  type=\"text/css\" >\n",
       "</style><table id=\"T_f68a1136_4d60_11ea_a48b_c8f750ddb9e6\" ><thead>    <tr>        <th class=\"blank level0\" ></th>        <th class=\"col_heading level0 col0\" >total_count</th>        <th class=\"col_heading level0 col1\" >pct</th>    </tr>    <tr>        <th class=\"index_name level0\" >count</th>        <th class=\"blank\" ></th>        <th class=\"blank\" ></th>    </tr></thead><tbody>\n",
       "                <tr>\n",
       "                        <th id=\"T_f68a1136_4d60_11ea_a48b_c8f750ddb9e6level0_row0\" class=\"row_heading level0 row0\" >1</th>\n",
       "                        <td id=\"T_f68a1136_4d60_11ea_a48b_c8f750ddb9e6row0_col0\" class=\"data row0 col0\" >923735</td>\n",
       "                        <td id=\"T_f68a1136_4d60_11ea_a48b_c8f750ddb9e6row0_col1\" class=\"data row0 col1\" >65.67%</td>\n",
       "            </tr>\n",
       "            <tr>\n",
       "                        <th id=\"T_f68a1136_4d60_11ea_a48b_c8f750ddb9e6level0_row1\" class=\"row_heading level0 row1\" >2</th>\n",
       "                        <td id=\"T_f68a1136_4d60_11ea_a48b_c8f750ddb9e6row1_col0\" class=\"data row1 col0\" >368745</td>\n",
       "                        <td id=\"T_f68a1136_4d60_11ea_a48b_c8f750ddb9e6row1_col1\" class=\"data row1 col1\" >26.21%</td>\n",
       "            </tr>\n",
       "            <tr>\n",
       "                        <th id=\"T_f68a1136_4d60_11ea_a48b_c8f750ddb9e6level0_row2\" class=\"row_heading level0 row2\" >3</th>\n",
       "                        <td id=\"T_f68a1136_4d60_11ea_a48b_c8f750ddb9e6row2_col0\" class=\"data row2 col0\" >51847</td>\n",
       "                        <td id=\"T_f68a1136_4d60_11ea_a48b_c8f750ddb9e6row2_col1\" class=\"data row2 col1\" >3.69%</td>\n",
       "            </tr>\n",
       "            <tr>\n",
       "                        <th id=\"T_f68a1136_4d60_11ea_a48b_c8f750ddb9e6level0_row3\" class=\"row_heading level0 row3\" >4</th>\n",
       "                        <td id=\"T_f68a1136_4d60_11ea_a48b_c8f750ddb9e6row3_col0\" class=\"data row3 col0\" >38090</td>\n",
       "                        <td id=\"T_f68a1136_4d60_11ea_a48b_c8f750ddb9e6row3_col1\" class=\"data row3 col1\" >2.71%</td>\n",
       "            </tr>\n",
       "            <tr>\n",
       "                        <th id=\"T_f68a1136_4d60_11ea_a48b_c8f750ddb9e6level0_row4\" class=\"row_heading level0 row4\" >5</th>\n",
       "                        <td id=\"T_f68a1136_4d60_11ea_a48b_c8f750ddb9e6row4_col0\" class=\"data row4 col0\" >2175</td>\n",
       "                        <td id=\"T_f68a1136_4d60_11ea_a48b_c8f750ddb9e6row4_col1\" class=\"data row4 col1\" >0.15%</td>\n",
       "            </tr>\n",
       "            <tr>\n",
       "                        <th id=\"T_f68a1136_4d60_11ea_a48b_c8f750ddb9e6level0_row5\" class=\"row_heading level0 row5\" >6</th>\n",
       "                        <td id=\"T_f68a1136_4d60_11ea_a48b_c8f750ddb9e6row5_col0\" class=\"data row5 col0\" >9324</td>\n",
       "                        <td id=\"T_f68a1136_4d60_11ea_a48b_c8f750ddb9e6row5_col1\" class=\"data row5 col1\" >0.66%</td>\n",
       "            </tr>\n",
       "            <tr>\n",
       "                        <th id=\"T_f68a1136_4d60_11ea_a48b_c8f750ddb9e6level0_row6\" class=\"row_heading level0 row6\" >7</th>\n",
       "                        <td id=\"T_f68a1136_4d60_11ea_a48b_c8f750ddb9e6row6_col0\" class=\"data row6 col0\" >237</td>\n",
       "                        <td id=\"T_f68a1136_4d60_11ea_a48b_c8f750ddb9e6row6_col1\" class=\"data row6 col1\" >0.02%</td>\n",
       "            </tr>\n",
       "            <tr>\n",
       "                        <th id=\"T_f68a1136_4d60_11ea_a48b_c8f750ddb9e6level0_row7\" class=\"row_heading level0 row7\" >8</th>\n",
       "                        <td id=\"T_f68a1136_4d60_11ea_a48b_c8f750ddb9e6row7_col0\" class=\"data row7 col0\" >2488</td>\n",
       "                        <td id=\"T_f68a1136_4d60_11ea_a48b_c8f750ddb9e6row7_col1\" class=\"data row7 col1\" >0.18%</td>\n",
       "            </tr>\n",
       "            <tr>\n",
       "                        <th id=\"T_f68a1136_4d60_11ea_a48b_c8f750ddb9e6level0_row8\" class=\"row_heading level0 row8\" >9</th>\n",
       "                        <td id=\"T_f68a1136_4d60_11ea_a48b_c8f750ddb9e6row8_col0\" class=\"data row8 col0\" >3098</td>\n",
       "                        <td id=\"T_f68a1136_4d60_11ea_a48b_c8f750ddb9e6row8_col1\" class=\"data row8 col1\" >0.22%</td>\n",
       "            </tr>\n",
       "            <tr>\n",
       "                        <th id=\"T_f68a1136_4d60_11ea_a48b_c8f750ddb9e6level0_row9\" class=\"row_heading level0 row9\" >10</th>\n",
       "                        <td id=\"T_f68a1136_4d60_11ea_a48b_c8f750ddb9e6row9_col0\" class=\"data row9 col0\" >810</td>\n",
       "                        <td id=\"T_f68a1136_4d60_11ea_a48b_c8f750ddb9e6row9_col1\" class=\"data row9 col1\" >0.06%</td>\n",
       "            </tr>\n",
       "    </tbody></table>"
      ],
      "text/plain": [
       "<pandas.io.formats.style.Styler at 0x169cb0bac08>"
      ]
     },
     "execution_count": 45,
     "metadata": {},
     "output_type": "execute_result"
    }
   ],
   "source": [
    "test_city['count_']"
   ]
  },
  {
   "cell_type": "code",
   "execution_count": 46,
   "metadata": {
    "Collapsed": "false"
   },
   "outputs": [
    {
     "data": {
      "text/plain": [
       "(738732, 16)"
      ]
     },
     "execution_count": 46,
     "metadata": {},
     "output_type": "execute_result"
    }
   ],
   "source": [
    "test_city['new_unmatch'].shape"
   ]
  },
  {
   "cell_type": "markdown",
   "metadata": {
    "Collapsed": "false"
   },
   "source": [
    "Exemple de cas de figure 2: merge pertinence moyenne -> plusieurs SIRET pour un même candidat:\n",
    "\n",
    "- 200000560"
   ]
  },
  {
   "cell_type": "code",
   "execution_count": 47,
   "metadata": {
    "Collapsed": "false"
   },
   "outputs": [
    {
     "data": {
      "text/html": [
       "<div>\n",
       "<style scoped>\n",
       "    .dataframe tbody tr th:only-of-type {\n",
       "        vertical-align: middle;\n",
       "    }\n",
       "\n",
       "    .dataframe tbody tr th {\n",
       "        vertical-align: top;\n",
       "    }\n",
       "\n",
       "    .dataframe thead th {\n",
       "        text-align: right;\n",
       "    }\n",
       "</style>\n",
       "<table border=\"1\" class=\"dataframe\">\n",
       "  <thead>\n",
       "    <tr style=\"text-align: right;\">\n",
       "      <th></th>\n",
       "      <th>siren</th>\n",
       "      <th>siret</th>\n",
       "      <th>dateCreationEtablissement</th>\n",
       "      <th>complementAdresseEtablissement</th>\n",
       "      <th>numeroVoieEtablissement</th>\n",
       "      <th>indiceRepetitionEtablissement</th>\n",
       "      <th>typeVoieEtablissement</th>\n",
       "      <th>libelleVoieEtablissement</th>\n",
       "      <th>codePostalEtablissement</th>\n",
       "      <th>libelleCommuneEtablissement</th>\n",
       "      <th>libelleCommuneEtrangerEtablissement</th>\n",
       "      <th>distributionSpecialeEtablissement</th>\n",
       "      <th>codeCommuneEtablissement</th>\n",
       "      <th>codeCedexEtablissement</th>\n",
       "      <th>libelleCedexEtablissement</th>\n",
       "      <th>codePaysEtrangerEtablissement</th>\n",
       "      <th>libellePaysEtrangerEtablissement</th>\n",
       "      <th>count</th>\n",
       "    </tr>\n",
       "  </thead>\n",
       "  <tbody>\n",
       "    <tr>\n",
       "      <th>75</th>\n",
       "      <td>200000560</td>\n",
       "      <td>20000056000017</td>\n",
       "      <td>2005-12-09</td>\n",
       "      <td>NaN</td>\n",
       "      <td>35</td>\n",
       "      <td>NaN</td>\n",
       "      <td>RUE</td>\n",
       "      <td>KLEBER</td>\n",
       "      <td>92130</td>\n",
       "      <td>ISSY LES MOULINEAUX</td>\n",
       "      <td>NaN</td>\n",
       "      <td>NaN</td>\n",
       "      <td>92040</td>\n",
       "      <td>NaN</td>\n",
       "      <td>NaN</td>\n",
       "      <td>NaN</td>\n",
       "      <td>NaN</td>\n",
       "      <td>2</td>\n",
       "    </tr>\n",
       "    <tr>\n",
       "      <th>76</th>\n",
       "      <td>200000560</td>\n",
       "      <td>20000056000025</td>\n",
       "      <td>2012-04-16</td>\n",
       "      <td>NaN</td>\n",
       "      <td>71</td>\n",
       "      <td>NaN</td>\n",
       "      <td>BD</td>\n",
       "      <td>GALLIENI</td>\n",
       "      <td>92130</td>\n",
       "      <td>ISSY LES MOULINEAUX</td>\n",
       "      <td>NaN</td>\n",
       "      <td>NaN</td>\n",
       "      <td>92040</td>\n",
       "      <td>NaN</td>\n",
       "      <td>NaN</td>\n",
       "      <td>NaN</td>\n",
       "      <td>NaN</td>\n",
       "      <td>2</td>\n",
       "    </tr>\n",
       "  </tbody>\n",
       "</table>\n",
       "</div>"
      ],
      "text/plain": [
       "        siren           siret dateCreationEtablissement  \\\n",
       "75  200000560  20000056000017                2005-12-09   \n",
       "76  200000560  20000056000025                2012-04-16   \n",
       "\n",
       "   complementAdresseEtablissement numeroVoieEtablissement  \\\n",
       "75                            NaN                      35   \n",
       "76                            NaN                      71   \n",
       "\n",
       "   indiceRepetitionEtablissement typeVoieEtablissement  \\\n",
       "75                           NaN                   RUE   \n",
       "76                           NaN                    BD   \n",
       "\n",
       "   libelleVoieEtablissement codePostalEtablissement  \\\n",
       "75                   KLEBER                   92130   \n",
       "76                 GALLIENI                   92130   \n",
       "\n",
       "   libelleCommuneEtablissement libelleCommuneEtrangerEtablissement  \\\n",
       "75         ISSY LES MOULINEAUX                                 NaN   \n",
       "76         ISSY LES MOULINEAUX                                 NaN   \n",
       "\n",
       "   distributionSpecialeEtablissement codeCommuneEtablissement  \\\n",
       "75                               NaN                    92040   \n",
       "76                               NaN                    92040   \n",
       "\n",
       "   codeCedexEtablissement libelleCedexEtablissement  \\\n",
       "75                    NaN                       NaN   \n",
       "76                    NaN                       NaN   \n",
       "\n",
       "   codePaysEtrangerEtablissement libellePaysEtrangerEtablissement  count  \n",
       "75                           NaN                              NaN      2  \n",
       "76                           NaN                              NaN      2  "
      ]
     },
     "execution_count": 47,
     "metadata": {},
     "output_type": "execute_result"
    }
   ],
   "source": [
    "subset_insee_count.loc[lambda x: x['siren'].isin(['200000560'])]"
   ]
  },
  {
   "cell_type": "code",
   "execution_count": 48,
   "metadata": {
    "Collapsed": "false"
   },
   "outputs": [
    {
     "data": {
      "text/html": [
       "<div>\n",
       "<style scoped>\n",
       "    .dataframe tbody tr th:only-of-type {\n",
       "        vertical-align: middle;\n",
       "    }\n",
       "\n",
       "    .dataframe tbody tr th {\n",
       "        vertical-align: top;\n",
       "    }\n",
       "\n",
       "    .dataframe thead th {\n",
       "        text-align: right;\n",
       "    }\n",
       "</style>\n",
       "<table border=\"1\" class=\"dataframe\">\n",
       "  <thead>\n",
       "    <tr style=\"text-align: right;\">\n",
       "      <th></th>\n",
       "      <th>siren</th>\n",
       "      <th>Type</th>\n",
       "      <th>Adresse_Ligne1</th>\n",
       "      <th>Adresse_Ligne2</th>\n",
       "      <th>Adresse_Ligne3</th>\n",
       "      <th>Code_Postal</th>\n",
       "      <th>Ville</th>\n",
       "      <th>Code_Commune</th>\n",
       "      <th>Pays</th>\n",
       "      <th>count</th>\n",
       "      <th>test</th>\n",
       "      <th>Ville_clean</th>\n",
       "      <th>ville2</th>\n",
       "      <th>ncc</th>\n",
       "      <th>possibilite</th>\n",
       "      <th>noaccent</th>\n",
       "    </tr>\n",
       "  </thead>\n",
       "  <tbody>\n",
       "    <tr>\n",
       "      <th>4709810</th>\n",
       "      <td>200000560</td>\n",
       "      <td>PRI</td>\n",
       "      <td>71 Boulevard Galliéni</td>\n",
       "      <td>NaN</td>\n",
       "      <td>NaN</td>\n",
       "      <td>92130</td>\n",
       "      <td>Issy-les-Moulineaux</td>\n",
       "      <td>92040</td>\n",
       "      <td>FRANCE</td>\n",
       "      <td>1</td>\n",
       "      <td>NaN</td>\n",
       "      <td>Issy-les-Moulineaux</td>\n",
       "      <td>Issy-les-Moulineaux</td>\n",
       "      <td>ISSY LES MOULINEAUX</td>\n",
       "      <td>Issy-les-Moulineaux</td>\n",
       "      <td>NaN</td>\n",
       "    </tr>\n",
       "  </tbody>\n",
       "</table>\n",
       "</div>"
      ],
      "text/plain": [
       "             siren Type         Adresse_Ligne1 Adresse_Ligne2 Adresse_Ligne3  \\\n",
       "4709810  200000560  PRI  71 Boulevard Galliéni            NaN            NaN   \n",
       "\n",
       "        Code_Postal                Ville Code_Commune    Pays  count test  \\\n",
       "4709810       92130  Issy-les-Moulineaux        92040  FRANCE      1  NaN   \n",
       "\n",
       "                 Ville_clean               ville2                  ncc  \\\n",
       "4709810  Issy-les-Moulineaux  Issy-les-Moulineaux  ISSY LES MOULINEAUX   \n",
       "\n",
       "                 possibilite noaccent  \n",
       "4709810  Issy-les-Moulineaux      NaN  "
      ]
     },
     "execution_count": 48,
     "metadata": {},
     "output_type": "execute_result"
    }
   ],
   "source": [
    "test_adress.loc[lambda x: x['siren'].isin(['200000560'])]"
   ]
  },
  {
   "cell_type": "code",
   "execution_count": 49,
   "metadata": {
    "Collapsed": "false"
   },
   "outputs": [
    {
     "name": "stdout",
     "output_type": "stream",
     "text": [
      "Nombre total obs: 738732\n"
     ]
    },
    {
     "data": {
      "text/html": [
       "<style  type=\"text/css\" >\n",
       "</style><table id=\"T_f806f4e2_4d60_11ea_8c30_c8f750ddb9e6\" ><thead>    <tr>        <th class=\"blank level0\" ></th>        <th class=\"col_heading level0 col0\" >total_count</th>        <th class=\"col_heading level0 col1\" >pct</th>    </tr>    <tr>        <th class=\"index_name level0\" >count</th>        <th class=\"blank\" ></th>        <th class=\"blank\" ></th>    </tr></thead><tbody>\n",
       "                <tr>\n",
       "                        <th id=\"T_f806f4e2_4d60_11ea_8c30_c8f750ddb9e6level0_row0\" class=\"row_heading level0 row0\" >1</th>\n",
       "                        <td id=\"T_f806f4e2_4d60_11ea_8c30_c8f750ddb9e6row0_col0\" class=\"data row0 col0\" >329101</td>\n",
       "                        <td id=\"T_f806f4e2_4d60_11ea_8c30_c8f750ddb9e6row0_col1\" class=\"data row0 col1\" >79.67%</td>\n",
       "            </tr>\n",
       "            <tr>\n",
       "                        <th id=\"T_f806f4e2_4d60_11ea_8c30_c8f750ddb9e6level0_row1\" class=\"row_heading level0 row1\" >2</th>\n",
       "                        <td id=\"T_f806f4e2_4d60_11ea_8c30_c8f750ddb9e6row1_col0\" class=\"data row1 col0\" >56542</td>\n",
       "                        <td id=\"T_f806f4e2_4d60_11ea_8c30_c8f750ddb9e6row1_col1\" class=\"data row1 col1\" >13.69%</td>\n",
       "            </tr>\n",
       "            <tr>\n",
       "                        <th id=\"T_f806f4e2_4d60_11ea_8c30_c8f750ddb9e6level0_row2\" class=\"row_heading level0 row2\" >3</th>\n",
       "                        <td id=\"T_f806f4e2_4d60_11ea_8c30_c8f750ddb9e6row2_col0\" class=\"data row2 col0\" >11663</td>\n",
       "                        <td id=\"T_f806f4e2_4d60_11ea_8c30_c8f750ddb9e6row2_col1\" class=\"data row2 col1\" >2.82%</td>\n",
       "            </tr>\n",
       "            <tr>\n",
       "                        <th id=\"T_f806f4e2_4d60_11ea_8c30_c8f750ddb9e6level0_row3\" class=\"row_heading level0 row3\" >4</th>\n",
       "                        <td id=\"T_f806f4e2_4d60_11ea_8c30_c8f750ddb9e6row3_col0\" class=\"data row3 col0\" >4595</td>\n",
       "                        <td id=\"T_f806f4e2_4d60_11ea_8c30_c8f750ddb9e6row3_col1\" class=\"data row3 col1\" >1.11%</td>\n",
       "            </tr>\n",
       "            <tr>\n",
       "                        <th id=\"T_f806f4e2_4d60_11ea_8c30_c8f750ddb9e6level0_row4\" class=\"row_heading level0 row4\" >5</th>\n",
       "                        <td id=\"T_f806f4e2_4d60_11ea_8c30_c8f750ddb9e6row4_col0\" class=\"data row4 col0\" >2482</td>\n",
       "                        <td id=\"T_f806f4e2_4d60_11ea_8c30_c8f750ddb9e6row4_col1\" class=\"data row4 col1\" >0.60%</td>\n",
       "            </tr>\n",
       "            <tr>\n",
       "                        <th id=\"T_f806f4e2_4d60_11ea_8c30_c8f750ddb9e6level0_row5\" class=\"row_heading level0 row5\" >6</th>\n",
       "                        <td id=\"T_f806f4e2_4d60_11ea_8c30_c8f750ddb9e6row5_col0\" class=\"data row5 col0\" >1608</td>\n",
       "                        <td id=\"T_f806f4e2_4d60_11ea_8c30_c8f750ddb9e6row5_col1\" class=\"data row5 col1\" >0.39%</td>\n",
       "            </tr>\n",
       "            <tr>\n",
       "                        <th id=\"T_f806f4e2_4d60_11ea_8c30_c8f750ddb9e6level0_row6\" class=\"row_heading level0 row6\" >7</th>\n",
       "                        <td id=\"T_f806f4e2_4d60_11ea_8c30_c8f750ddb9e6row6_col0\" class=\"data row6 col0\" >1080</td>\n",
       "                        <td id=\"T_f806f4e2_4d60_11ea_8c30_c8f750ddb9e6row6_col1\" class=\"data row6 col1\" >0.26%</td>\n",
       "            </tr>\n",
       "            <tr>\n",
       "                        <th id=\"T_f806f4e2_4d60_11ea_8c30_c8f750ddb9e6level0_row7\" class=\"row_heading level0 row7\" >8</th>\n",
       "                        <td id=\"T_f806f4e2_4d60_11ea_8c30_c8f750ddb9e6row7_col0\" class=\"data row7 col0\" >795</td>\n",
       "                        <td id=\"T_f806f4e2_4d60_11ea_8c30_c8f750ddb9e6row7_col1\" class=\"data row7 col1\" >0.19%</td>\n",
       "            </tr>\n",
       "            <tr>\n",
       "                        <th id=\"T_f806f4e2_4d60_11ea_8c30_c8f750ddb9e6level0_row8\" class=\"row_heading level0 row8\" >9</th>\n",
       "                        <td id=\"T_f806f4e2_4d60_11ea_8c30_c8f750ddb9e6row8_col0\" class=\"data row8 col0\" >612</td>\n",
       "                        <td id=\"T_f806f4e2_4d60_11ea_8c30_c8f750ddb9e6row8_col1\" class=\"data row8 col1\" >0.15%</td>\n",
       "            </tr>\n",
       "            <tr>\n",
       "                        <th id=\"T_f806f4e2_4d60_11ea_8c30_c8f750ddb9e6level0_row9\" class=\"row_heading level0 row9\" >10</th>\n",
       "                        <td id=\"T_f806f4e2_4d60_11ea_8c30_c8f750ddb9e6row9_col0\" class=\"data row9 col0\" >486</td>\n",
       "                        <td id=\"T_f806f4e2_4d60_11ea_8c30_c8f750ddb9e6row9_col1\" class=\"data row9 col1\" >0.12%</td>\n",
       "            </tr>\n",
       "    </tbody></table>"
      ],
      "text/plain": [
       "<pandas.io.formats.style.Styler at 0x169cb0d35c8>"
      ]
     },
     "execution_count": 49,
     "metadata": {},
     "output_type": "execute_result"
    }
   ],
   "source": [
    "siren_unique(df = test_city['new_unmatch'])"
   ]
  },
  {
   "cell_type": "markdown",
   "metadata": {
    "Collapsed": "false"
   },
   "source": [
    "#### 2:  merge sur siren et code postal"
   ]
  },
  {
   "cell_type": "code",
   "execution_count": 50,
   "metadata": {
    "Collapsed": "false"
   },
   "outputs": [],
   "source": [
    "test_cp = merge(df_insee =subset_insee_count,\n",
    "      df_inpi = test_city['new_unmatch'],\n",
    "      left_on= ['siren', 'codePostalEtablissement'],\n",
    "      right_on= ['siren', 'Code_Postal'])"
   ]
  },
  {
   "cell_type": "code",
   "execution_count": 51,
   "metadata": {
    "Collapsed": "false"
   },
   "outputs": [
    {
     "data": {
      "text/plain": [
       "_merge\n",
       "left_only           0\n",
       "right_only      46035\n",
       "both          1218393\n",
       "Name: _merge, dtype: int64"
      ]
     },
     "execution_count": 51,
     "metadata": {},
     "output_type": "execute_result"
    }
   ],
   "source": [
    "test_cp['detail']"
   ]
  },
  {
   "cell_type": "code",
   "execution_count": 52,
   "metadata": {
    "Collapsed": "false"
   },
   "outputs": [
    {
     "data": {
      "text/plain": [
       "180110"
      ]
     },
     "execution_count": 52,
     "metadata": {},
     "output_type": "execute_result"
    }
   ],
   "source": [
    "test_cp['size_fig2']"
   ]
  },
  {
   "cell_type": "code",
   "execution_count": 53,
   "metadata": {
    "Collapsed": "false"
   },
   "outputs": [
    {
     "data": {
      "text/html": [
       "<style  type=\"text/css\" >\n",
       "</style><table id=\"T_02e11ea6_4d61_11ea_8a8c_c8f750ddb9e6\" ><thead>    <tr>        <th class=\"blank level0\" ></th>        <th class=\"col_heading level0 col0\" >total_count</th>        <th class=\"col_heading level0 col1\" >pct</th>    </tr>    <tr>        <th class=\"index_name level0\" >count</th>        <th class=\"blank\" ></th>        <th class=\"blank\" ></th>    </tr></thead><tbody>\n",
       "                <tr>\n",
       "                        <th id=\"T_02e11ea6_4d61_11ea_8a8c_c8f750ddb9e6level0_row0\" class=\"row_heading level0 row0\" >1</th>\n",
       "                        <td id=\"T_02e11ea6_4d61_11ea_8a8c_c8f750ddb9e6row0_col0\" class=\"data row0 col0\" >380282</td>\n",
       "                        <td id=\"T_02e11ea6_4d61_11ea_8a8c_c8f750ddb9e6row0_col1\" class=\"data row0 col1\" >67.86%</td>\n",
       "            </tr>\n",
       "            <tr>\n",
       "                        <th id=\"T_02e11ea6_4d61_11ea_8a8c_c8f750ddb9e6level0_row1\" class=\"row_heading level0 row1\" >2</th>\n",
       "                        <td id=\"T_02e11ea6_4d61_11ea_8a8c_c8f750ddb9e6row1_col0\" class=\"data row1 col0\" >123274</td>\n",
       "                        <td id=\"T_02e11ea6_4d61_11ea_8a8c_c8f750ddb9e6row1_col1\" class=\"data row1 col1\" >22.00%</td>\n",
       "            </tr>\n",
       "            <tr>\n",
       "                        <th id=\"T_02e11ea6_4d61_11ea_8a8c_c8f750ddb9e6level0_row2\" class=\"row_heading level0 row2\" >3</th>\n",
       "                        <td id=\"T_02e11ea6_4d61_11ea_8a8c_c8f750ddb9e6row2_col0\" class=\"data row2 col0\" >21209</td>\n",
       "                        <td id=\"T_02e11ea6_4d61_11ea_8a8c_c8f750ddb9e6row2_col1\" class=\"data row2 col1\" >3.78%</td>\n",
       "            </tr>\n",
       "            <tr>\n",
       "                        <th id=\"T_02e11ea6_4d61_11ea_8a8c_c8f750ddb9e6level0_row3\" class=\"row_heading level0 row3\" >4</th>\n",
       "                        <td id=\"T_02e11ea6_4d61_11ea_8a8c_c8f750ddb9e6row3_col0\" class=\"data row3 col0\" >17855</td>\n",
       "                        <td id=\"T_02e11ea6_4d61_11ea_8a8c_c8f750ddb9e6row3_col1\" class=\"data row3 col1\" >3.19%</td>\n",
       "            </tr>\n",
       "            <tr>\n",
       "                        <th id=\"T_02e11ea6_4d61_11ea_8a8c_c8f750ddb9e6level0_row4\" class=\"row_heading level0 row4\" >5</th>\n",
       "                        <td id=\"T_02e11ea6_4d61_11ea_8a8c_c8f750ddb9e6row4_col0\" class=\"data row4 col0\" >2132</td>\n",
       "                        <td id=\"T_02e11ea6_4d61_11ea_8a8c_c8f750ddb9e6row4_col1\" class=\"data row4 col1\" >0.38%</td>\n",
       "            </tr>\n",
       "            <tr>\n",
       "                        <th id=\"T_02e11ea6_4d61_11ea_8a8c_c8f750ddb9e6level0_row5\" class=\"row_heading level0 row5\" >6</th>\n",
       "                        <td id=\"T_02e11ea6_4d61_11ea_8a8c_c8f750ddb9e6row5_col0\" class=\"data row5 col0\" >5190</td>\n",
       "                        <td id=\"T_02e11ea6_4d61_11ea_8a8c_c8f750ddb9e6row5_col1\" class=\"data row5 col1\" >0.93%</td>\n",
       "            </tr>\n",
       "            <tr>\n",
       "                        <th id=\"T_02e11ea6_4d61_11ea_8a8c_c8f750ddb9e6level0_row6\" class=\"row_heading level0 row6\" >7</th>\n",
       "                        <td id=\"T_02e11ea6_4d61_11ea_8a8c_c8f750ddb9e6row6_col0\" class=\"data row6 col0\" >652</td>\n",
       "                        <td id=\"T_02e11ea6_4d61_11ea_8a8c_c8f750ddb9e6row6_col1\" class=\"data row6 col1\" >0.12%</td>\n",
       "            </tr>\n",
       "            <tr>\n",
       "                        <th id=\"T_02e11ea6_4d61_11ea_8a8c_c8f750ddb9e6level0_row7\" class=\"row_heading level0 row7\" >8</th>\n",
       "                        <td id=\"T_02e11ea6_4d61_11ea_8a8c_c8f750ddb9e6row7_col0\" class=\"data row7 col0\" >1790</td>\n",
       "                        <td id=\"T_02e11ea6_4d61_11ea_8a8c_c8f750ddb9e6row7_col1\" class=\"data row7 col1\" >0.32%</td>\n",
       "            </tr>\n",
       "            <tr>\n",
       "                        <th id=\"T_02e11ea6_4d61_11ea_8a8c_c8f750ddb9e6level0_row8\" class=\"row_heading level0 row8\" >9</th>\n",
       "                        <td id=\"T_02e11ea6_4d61_11ea_8a8c_c8f750ddb9e6row8_col0\" class=\"data row8 col0\" >1764</td>\n",
       "                        <td id=\"T_02e11ea6_4d61_11ea_8a8c_c8f750ddb9e6row8_col1\" class=\"data row8 col1\" >0.31%</td>\n",
       "            </tr>\n",
       "            <tr>\n",
       "                        <th id=\"T_02e11ea6_4d61_11ea_8a8c_c8f750ddb9e6level0_row9\" class=\"row_heading level0 row9\" >10</th>\n",
       "                        <td id=\"T_02e11ea6_4d61_11ea_8a8c_c8f750ddb9e6row9_col0\" class=\"data row9 col0\" >801</td>\n",
       "                        <td id=\"T_02e11ea6_4d61_11ea_8a8c_c8f750ddb9e6row9_col1\" class=\"data row9 col1\" >0.14%</td>\n",
       "            </tr>\n",
       "    </tbody></table>"
      ],
      "text/plain": [
       "<pandas.io.formats.style.Styler at 0x16a0ff7d3c8>"
      ]
     },
     "execution_count": 53,
     "metadata": {},
     "output_type": "execute_result"
    }
   ],
   "source": [
    "test_cp['count_']"
   ]
  },
  {
   "cell_type": "code",
   "execution_count": 54,
   "metadata": {
    "Collapsed": "false"
   },
   "outputs": [
    {
     "name": "stdout",
     "output_type": "stream",
     "text": [
      "Nombre total obs: 215318\n"
     ]
    },
    {
     "data": {
      "text/html": [
       "<style  type=\"text/css\" >\n",
       "</style><table id=\"T_031c6ca8_4d61_11ea_9827_c8f750ddb9e6\" ><thead>    <tr>        <th class=\"blank level0\" ></th>        <th class=\"col_heading level0 col0\" >total_count</th>        <th class=\"col_heading level0 col1\" >pct</th>    </tr>    <tr>        <th class=\"index_name level0\" >count</th>        <th class=\"blank\" ></th>        <th class=\"blank\" ></th>    </tr></thead><tbody>\n",
       "                <tr>\n",
       "                        <th id=\"T_031c6ca8_4d61_11ea_9827_c8f750ddb9e6level0_row0\" class=\"row_heading level0 row0\" >1</th>\n",
       "                        <td id=\"T_031c6ca8_4d61_11ea_9827_c8f750ddb9e6row0_col0\" class=\"data row0 col0\" >19849</td>\n",
       "                        <td id=\"T_031c6ca8_4d61_11ea_9827_c8f750ddb9e6row0_col1\" class=\"data row0 col1\" >56.23%</td>\n",
       "            </tr>\n",
       "            <tr>\n",
       "                        <th id=\"T_031c6ca8_4d61_11ea_9827_c8f750ddb9e6level0_row1\" class=\"row_heading level0 row1\" >2</th>\n",
       "                        <td id=\"T_031c6ca8_4d61_11ea_9827_c8f750ddb9e6row1_col0\" class=\"data row1 col0\" >8273</td>\n",
       "                        <td id=\"T_031c6ca8_4d61_11ea_9827_c8f750ddb9e6row1_col1\" class=\"data row1 col1\" >23.44%</td>\n",
       "            </tr>\n",
       "            <tr>\n",
       "                        <th id=\"T_031c6ca8_4d61_11ea_9827_c8f750ddb9e6level0_row2\" class=\"row_heading level0 row2\" >3</th>\n",
       "                        <td id=\"T_031c6ca8_4d61_11ea_9827_c8f750ddb9e6row2_col0\" class=\"data row2 col0\" >2009</td>\n",
       "                        <td id=\"T_031c6ca8_4d61_11ea_9827_c8f750ddb9e6row2_col1\" class=\"data row2 col1\" >5.69%</td>\n",
       "            </tr>\n",
       "            <tr>\n",
       "                        <th id=\"T_031c6ca8_4d61_11ea_9827_c8f750ddb9e6level0_row3\" class=\"row_heading level0 row3\" >4</th>\n",
       "                        <td id=\"T_031c6ca8_4d61_11ea_9827_c8f750ddb9e6row3_col0\" class=\"data row3 col0\" >937</td>\n",
       "                        <td id=\"T_031c6ca8_4d61_11ea_9827_c8f750ddb9e6row3_col1\" class=\"data row3 col1\" >2.65%</td>\n",
       "            </tr>\n",
       "            <tr>\n",
       "                        <th id=\"T_031c6ca8_4d61_11ea_9827_c8f750ddb9e6level0_row4\" class=\"row_heading level0 row4\" >5</th>\n",
       "                        <td id=\"T_031c6ca8_4d61_11ea_9827_c8f750ddb9e6row4_col0\" class=\"data row4 col0\" >530</td>\n",
       "                        <td id=\"T_031c6ca8_4d61_11ea_9827_c8f750ddb9e6row4_col1\" class=\"data row4 col1\" >1.50%</td>\n",
       "            </tr>\n",
       "            <tr>\n",
       "                        <th id=\"T_031c6ca8_4d61_11ea_9827_c8f750ddb9e6level0_row5\" class=\"row_heading level0 row5\" >6</th>\n",
       "                        <td id=\"T_031c6ca8_4d61_11ea_9827_c8f750ddb9e6row5_col0\" class=\"data row5 col0\" >403</td>\n",
       "                        <td id=\"T_031c6ca8_4d61_11ea_9827_c8f750ddb9e6row5_col1\" class=\"data row5 col1\" >1.14%</td>\n",
       "            </tr>\n",
       "            <tr>\n",
       "                        <th id=\"T_031c6ca8_4d61_11ea_9827_c8f750ddb9e6level0_row6\" class=\"row_heading level0 row6\" >7</th>\n",
       "                        <td id=\"T_031c6ca8_4d61_11ea_9827_c8f750ddb9e6row6_col0\" class=\"data row6 col0\" >335</td>\n",
       "                        <td id=\"T_031c6ca8_4d61_11ea_9827_c8f750ddb9e6row6_col1\" class=\"data row6 col1\" >0.95%</td>\n",
       "            </tr>\n",
       "            <tr>\n",
       "                        <th id=\"T_031c6ca8_4d61_11ea_9827_c8f750ddb9e6level0_row7\" class=\"row_heading level0 row7\" >8</th>\n",
       "                        <td id=\"T_031c6ca8_4d61_11ea_9827_c8f750ddb9e6row7_col0\" class=\"data row7 col0\" >252</td>\n",
       "                        <td id=\"T_031c6ca8_4d61_11ea_9827_c8f750ddb9e6row7_col1\" class=\"data row7 col1\" >0.71%</td>\n",
       "            </tr>\n",
       "            <tr>\n",
       "                        <th id=\"T_031c6ca8_4d61_11ea_9827_c8f750ddb9e6level0_row8\" class=\"row_heading level0 row8\" >9</th>\n",
       "                        <td id=\"T_031c6ca8_4d61_11ea_9827_c8f750ddb9e6row8_col0\" class=\"data row8 col0\" >184</td>\n",
       "                        <td id=\"T_031c6ca8_4d61_11ea_9827_c8f750ddb9e6row8_col1\" class=\"data row8 col1\" >0.52%</td>\n",
       "            </tr>\n",
       "            <tr>\n",
       "                        <th id=\"T_031c6ca8_4d61_11ea_9827_c8f750ddb9e6level0_row9\" class=\"row_heading level0 row9\" >10</th>\n",
       "                        <td id=\"T_031c6ca8_4d61_11ea_9827_c8f750ddb9e6row9_col0\" class=\"data row9 col0\" >185</td>\n",
       "                        <td id=\"T_031c6ca8_4d61_11ea_9827_c8f750ddb9e6row9_col1\" class=\"data row9 col1\" >0.52%</td>\n",
       "            </tr>\n",
       "    </tbody></table>"
      ],
      "text/plain": [
       "<pandas.io.formats.style.Styler at 0x16a0ff9b1c8>"
      ]
     },
     "execution_count": 54,
     "metadata": {},
     "output_type": "execute_result"
    }
   ],
   "source": [
    "siren_unique(df = test_cp['new_unmatch'])"
   ]
  },
  {
   "cell_type": "markdown",
   "metadata": {
    "Collapsed": "false"
   },
   "source": [
    "### 3:  merge sur siren et code commune\n",
    "\n",
    "- Merge sur siren & codeCommuneEtablissement"
   ]
  },
  {
   "cell_type": "code",
   "execution_count": 55,
   "metadata": {
    "Collapsed": "false"
   },
   "outputs": [],
   "source": [
    "test_com = merge(df_insee =subset_insee_count,\n",
    "      df_inpi = test_cp['new_unmatch'],\n",
    "      left_on= ['siren', 'codeCommuneEtablissement'],\n",
    "      right_on= ['siren', 'Code_Commune'])"
   ]
  },
  {
   "cell_type": "code",
   "execution_count": 56,
   "metadata": {
    "Collapsed": "false"
   },
   "outputs": [
    {
     "data": {
      "text/plain": [
       "_merge\n",
       "left_only          0\n",
       "right_only     33027\n",
       "both          459365\n",
       "Name: _merge, dtype: int64"
      ]
     },
     "execution_count": 56,
     "metadata": {},
     "output_type": "execute_result"
    }
   ],
   "source": [
    "test_com['detail']"
   ]
  },
  {
   "cell_type": "code",
   "execution_count": 57,
   "metadata": {
    "Collapsed": "false"
   },
   "outputs": [
    {
     "data": {
      "text/plain": [
       "39446"
      ]
     },
     "execution_count": 57,
     "metadata": {},
     "output_type": "execute_result"
    }
   ],
   "source": [
    "test_com['size_fig2']"
   ]
  },
  {
   "cell_type": "code",
   "execution_count": 58,
   "metadata": {
    "Collapsed": "false"
   },
   "outputs": [
    {
     "data": {
      "text/html": [
       "<style  type=\"text/css\" >\n",
       "</style><table id=\"T_09b57afe_4d61_11ea_a0e6_c8f750ddb9e6\" ><thead>    <tr>        <th class=\"blank level0\" ></th>        <th class=\"col_heading level0 col0\" >total_count</th>        <th class=\"col_heading level0 col1\" >pct</th>    </tr>    <tr>        <th class=\"index_name level0\" >count</th>        <th class=\"blank\" ></th>        <th class=\"blank\" ></th>    </tr></thead><tbody>\n",
       "                <tr>\n",
       "                        <th id=\"T_09b57afe_4d61_11ea_a0e6_c8f750ddb9e6level0_row0\" class=\"row_heading level0 row0\" >1</th>\n",
       "                        <td id=\"T_09b57afe_4d61_11ea_a0e6_c8f750ddb9e6row0_col0\" class=\"data row0 col0\" >101513</td>\n",
       "                        <td id=\"T_09b57afe_4d61_11ea_a0e6_c8f750ddb9e6row0_col1\" class=\"data row0 col1\" >72.02%</td>\n",
       "            </tr>\n",
       "            <tr>\n",
       "                        <th id=\"T_09b57afe_4d61_11ea_a0e6_c8f750ddb9e6level0_row1\" class=\"row_heading level0 row1\" >2</th>\n",
       "                        <td id=\"T_09b57afe_4d61_11ea_a0e6_c8f750ddb9e6row1_col0\" class=\"data row1 col0\" >20075</td>\n",
       "                        <td id=\"T_09b57afe_4d61_11ea_a0e6_c8f750ddb9e6row1_col1\" class=\"data row1 col1\" >14.24%</td>\n",
       "            </tr>\n",
       "            <tr>\n",
       "                        <th id=\"T_09b57afe_4d61_11ea_a0e6_c8f750ddb9e6level0_row2\" class=\"row_heading level0 row2\" >3</th>\n",
       "                        <td id=\"T_09b57afe_4d61_11ea_a0e6_c8f750ddb9e6row2_col0\" class=\"data row2 col0\" >4174</td>\n",
       "                        <td id=\"T_09b57afe_4d61_11ea_a0e6_c8f750ddb9e6row2_col1\" class=\"data row2 col1\" >2.96%</td>\n",
       "            </tr>\n",
       "            <tr>\n",
       "                        <th id=\"T_09b57afe_4d61_11ea_a0e6_c8f750ddb9e6level0_row3\" class=\"row_heading level0 row3\" >4</th>\n",
       "                        <td id=\"T_09b57afe_4d61_11ea_a0e6_c8f750ddb9e6row3_col0\" class=\"data row3 col0\" >7019</td>\n",
       "                        <td id=\"T_09b57afe_4d61_11ea_a0e6_c8f750ddb9e6row3_col1\" class=\"data row3 col1\" >4.98%</td>\n",
       "            </tr>\n",
       "            <tr>\n",
       "                        <th id=\"T_09b57afe_4d61_11ea_a0e6_c8f750ddb9e6level0_row4\" class=\"row_heading level0 row4\" >5</th>\n",
       "                        <td id=\"T_09b57afe_4d61_11ea_a0e6_c8f750ddb9e6row4_col0\" class=\"data row4 col0\" >475</td>\n",
       "                        <td id=\"T_09b57afe_4d61_11ea_a0e6_c8f750ddb9e6row4_col1\" class=\"data row4 col1\" >0.34%</td>\n",
       "            </tr>\n",
       "            <tr>\n",
       "                        <th id=\"T_09b57afe_4d61_11ea_a0e6_c8f750ddb9e6level0_row5\" class=\"row_heading level0 row5\" >6</th>\n",
       "                        <td id=\"T_09b57afe_4d61_11ea_a0e6_c8f750ddb9e6row5_col0\" class=\"data row5 col0\" >2017</td>\n",
       "                        <td id=\"T_09b57afe_4d61_11ea_a0e6_c8f750ddb9e6row5_col1\" class=\"data row5 col1\" >1.43%</td>\n",
       "            </tr>\n",
       "            <tr>\n",
       "                        <th id=\"T_09b57afe_4d61_11ea_a0e6_c8f750ddb9e6level0_row6\" class=\"row_heading level0 row6\" >7</th>\n",
       "                        <td id=\"T_09b57afe_4d61_11ea_a0e6_c8f750ddb9e6row6_col0\" class=\"data row6 col0\" >166</td>\n",
       "                        <td id=\"T_09b57afe_4d61_11ea_a0e6_c8f750ddb9e6row6_col1\" class=\"data row6 col1\" >0.12%</td>\n",
       "            </tr>\n",
       "            <tr>\n",
       "                        <th id=\"T_09b57afe_4d61_11ea_a0e6_c8f750ddb9e6level0_row7\" class=\"row_heading level0 row7\" >8</th>\n",
       "                        <td id=\"T_09b57afe_4d61_11ea_a0e6_c8f750ddb9e6row7_col0\" class=\"data row7 col0\" >708</td>\n",
       "                        <td id=\"T_09b57afe_4d61_11ea_a0e6_c8f750ddb9e6row7_col1\" class=\"data row7 col1\" >0.50%</td>\n",
       "            </tr>\n",
       "            <tr>\n",
       "                        <th id=\"T_09b57afe_4d61_11ea_a0e6_c8f750ddb9e6level0_row8\" class=\"row_heading level0 row8\" >9</th>\n",
       "                        <td id=\"T_09b57afe_4d61_11ea_a0e6_c8f750ddb9e6row8_col0\" class=\"data row8 col0\" >1033</td>\n",
       "                        <td id=\"T_09b57afe_4d61_11ea_a0e6_c8f750ddb9e6row8_col1\" class=\"data row8 col1\" >0.73%</td>\n",
       "            </tr>\n",
       "            <tr>\n",
       "                        <th id=\"T_09b57afe_4d61_11ea_a0e6_c8f750ddb9e6level0_row9\" class=\"row_heading level0 row9\" >10</th>\n",
       "                        <td id=\"T_09b57afe_4d61_11ea_a0e6_c8f750ddb9e6row9_col0\" class=\"data row9 col0\" >328</td>\n",
       "                        <td id=\"T_09b57afe_4d61_11ea_a0e6_c8f750ddb9e6row9_col1\" class=\"data row9 col1\" >0.23%</td>\n",
       "            </tr>\n",
       "    </tbody></table>"
      ],
      "text/plain": [
       "<pandas.io.formats.style.Styler at 0x16a0ff64988>"
      ]
     },
     "execution_count": 58,
     "metadata": {},
     "output_type": "execute_result"
    }
   ],
   "source": [
    "test_com['count_']"
   ]
  },
  {
   "cell_type": "code",
   "execution_count": 59,
   "metadata": {
    "Collapsed": "false"
   },
   "outputs": [
    {
     "name": "stdout",
     "output_type": "stream",
     "text": [
      "Nombre total obs: 164068\n"
     ]
    },
    {
     "data": {
      "text/html": [
       "<style  type=\"text/css\" >\n",
       "</style><table id=\"T_09e9402c_4d61_11ea_9e46_c8f750ddb9e6\" ><thead>    <tr>        <th class=\"blank level0\" ></th>        <th class=\"col_heading level0 col0\" >total_count</th>        <th class=\"col_heading level0 col1\" >pct</th>    </tr>    <tr>        <th class=\"index_name level0\" >count</th>        <th class=\"blank\" ></th>        <th class=\"blank\" ></th>    </tr></thead><tbody>\n",
       "                <tr>\n",
       "                        <th id=\"T_09e9402c_4d61_11ea_9e46_c8f750ddb9e6level0_row0\" class=\"row_heading level0 row0\" >1</th>\n",
       "                        <td id=\"T_09e9402c_4d61_11ea_9e46_c8f750ddb9e6row0_col0\" class=\"data row0 col0\" >9274</td>\n",
       "                        <td id=\"T_09e9402c_4d61_11ea_9e46_c8f750ddb9e6row0_col1\" class=\"data row0 col1\" >49.34%</td>\n",
       "            </tr>\n",
       "            <tr>\n",
       "                        <th id=\"T_09e9402c_4d61_11ea_9e46_c8f750ddb9e6level0_row1\" class=\"row_heading level0 row1\" >2</th>\n",
       "                        <td id=\"T_09e9402c_4d61_11ea_9e46_c8f750ddb9e6row1_col0\" class=\"data row1 col0\" >5626</td>\n",
       "                        <td id=\"T_09e9402c_4d61_11ea_9e46_c8f750ddb9e6row1_col1\" class=\"data row1 col1\" >29.93%</td>\n",
       "            </tr>\n",
       "            <tr>\n",
       "                        <th id=\"T_09e9402c_4d61_11ea_9e46_c8f750ddb9e6level0_row2\" class=\"row_heading level0 row2\" >3</th>\n",
       "                        <td id=\"T_09e9402c_4d61_11ea_9e46_c8f750ddb9e6row2_col0\" class=\"data row2 col0\" >1089</td>\n",
       "                        <td id=\"T_09e9402c_4d61_11ea_9e46_c8f750ddb9e6row2_col1\" class=\"data row2 col1\" >5.79%</td>\n",
       "            </tr>\n",
       "            <tr>\n",
       "                        <th id=\"T_09e9402c_4d61_11ea_9e46_c8f750ddb9e6level0_row3\" class=\"row_heading level0 row3\" >4</th>\n",
       "                        <td id=\"T_09e9402c_4d61_11ea_9e46_c8f750ddb9e6row3_col0\" class=\"data row3 col0\" >472</td>\n",
       "                        <td id=\"T_09e9402c_4d61_11ea_9e46_c8f750ddb9e6row3_col1\" class=\"data row3 col1\" >2.51%</td>\n",
       "            </tr>\n",
       "            <tr>\n",
       "                        <th id=\"T_09e9402c_4d61_11ea_9e46_c8f750ddb9e6level0_row4\" class=\"row_heading level0 row4\" >5</th>\n",
       "                        <td id=\"T_09e9402c_4d61_11ea_9e46_c8f750ddb9e6row4_col0\" class=\"data row4 col0\" >241</td>\n",
       "                        <td id=\"T_09e9402c_4d61_11ea_9e46_c8f750ddb9e6row4_col1\" class=\"data row4 col1\" >1.28%</td>\n",
       "            </tr>\n",
       "            <tr>\n",
       "                        <th id=\"T_09e9402c_4d61_11ea_9e46_c8f750ddb9e6level0_row5\" class=\"row_heading level0 row5\" >6</th>\n",
       "                        <td id=\"T_09e9402c_4d61_11ea_9e46_c8f750ddb9e6row5_col0\" class=\"data row5 col0\" >170</td>\n",
       "                        <td id=\"T_09e9402c_4d61_11ea_9e46_c8f750ddb9e6row5_col1\" class=\"data row5 col1\" >0.90%</td>\n",
       "            </tr>\n",
       "            <tr>\n",
       "                        <th id=\"T_09e9402c_4d61_11ea_9e46_c8f750ddb9e6level0_row6\" class=\"row_heading level0 row6\" >7</th>\n",
       "                        <td id=\"T_09e9402c_4d61_11ea_9e46_c8f750ddb9e6row6_col0\" class=\"data row6 col0\" >147</td>\n",
       "                        <td id=\"T_09e9402c_4d61_11ea_9e46_c8f750ddb9e6row6_col1\" class=\"data row6 col1\" >0.78%</td>\n",
       "            </tr>\n",
       "            <tr>\n",
       "                        <th id=\"T_09e9402c_4d61_11ea_9e46_c8f750ddb9e6level0_row7\" class=\"row_heading level0 row7\" >8</th>\n",
       "                        <td id=\"T_09e9402c_4d61_11ea_9e46_c8f750ddb9e6row7_col0\" class=\"data row7 col0\" >116</td>\n",
       "                        <td id=\"T_09e9402c_4d61_11ea_9e46_c8f750ddb9e6row7_col1\" class=\"data row7 col1\" >0.62%</td>\n",
       "            </tr>\n",
       "            <tr>\n",
       "                        <th id=\"T_09e9402c_4d61_11ea_9e46_c8f750ddb9e6level0_row8\" class=\"row_heading level0 row8\" >9</th>\n",
       "                        <td id=\"T_09e9402c_4d61_11ea_9e46_c8f750ddb9e6row8_col0\" class=\"data row8 col0\" >85</td>\n",
       "                        <td id=\"T_09e9402c_4d61_11ea_9e46_c8f750ddb9e6row8_col1\" class=\"data row8 col1\" >0.45%</td>\n",
       "            </tr>\n",
       "            <tr>\n",
       "                        <th id=\"T_09e9402c_4d61_11ea_9e46_c8f750ddb9e6level0_row9\" class=\"row_heading level0 row9\" >10</th>\n",
       "                        <td id=\"T_09e9402c_4d61_11ea_9e46_c8f750ddb9e6row9_col0\" class=\"data row9 col0\" >86</td>\n",
       "                        <td id=\"T_09e9402c_4d61_11ea_9e46_c8f750ddb9e6row9_col1\" class=\"data row9 col1\" >0.46%</td>\n",
       "            </tr>\n",
       "    </tbody></table>"
      ],
      "text/plain": [
       "<pandas.io.formats.style.Styler at 0x16880717e48>"
      ]
     },
     "execution_count": 59,
     "metadata": {},
     "output_type": "execute_result"
    }
   ],
   "source": [
    "siren_unique(df = test_com['new_unmatch'])"
   ]
  },
  {
   "cell_type": "markdown",
   "metadata": {
    "Collapsed": "false"
   },
   "source": [
    "## A Verifier\n",
    "\n",
    "Il reste a véfifier les cas de figure 2 et les unmatches"
   ]
  },
  {
   "cell_type": "code",
   "execution_count": 60,
   "metadata": {
    "Collapsed": "false"
   },
   "outputs": [
    {
     "data": {
      "text/plain": [
       "1969368"
      ]
     },
     "execution_count": 60,
     "metadata": {},
     "output_type": "execute_result"
    }
   ],
   "source": [
    "### Total a matcher avant ville/code postal/commune\n",
    "test_adress.shape[0]"
   ]
  },
  {
   "cell_type": "code",
   "execution_count": null,
   "metadata": {
    "Collapsed": "false"
   },
   "outputs": [],
   "source": [
    "### total cas de figure 2 "
   ]
  },
  {
   "cell_type": "code",
   "execution_count": 61,
   "metadata": {
    "Collapsed": "false"
   },
   "outputs": [
    {
     "data": {
      "text/plain": [
       "702550"
      ]
     },
     "execution_count": 61,
     "metadata": {},
     "output_type": "execute_result"
    }
   ],
   "source": [
    "test_city['size_fig2'] + test_cp['size_fig2']+ test_com['size_fig2']"
   ]
  },
  {
   "cell_type": "code",
   "execution_count": 62,
   "metadata": {
    "Collapsed": "false"
   },
   "outputs": [
    {
     "data": {
      "text/plain": [
       "164068"
      ]
     },
     "execution_count": 62,
     "metadata": {},
     "output_type": "execute_result"
    }
   ],
   "source": [
    "### total unmatch \n",
    "test_com['new_unmatch'].shape[0]"
   ]
  },
  {
   "cell_type": "code",
   "execution_count": 63,
   "metadata": {
    "Collapsed": "false"
   },
   "outputs": [
    {
     "data": {
      "text/plain": [
       "866618"
      ]
     },
     "execution_count": 63,
     "metadata": {},
     "output_type": "execute_result"
    }
   ],
   "source": [
    "### nombres totals SIREN a matcher\n",
    "\n",
    "test_city['size_fig2'] + test_cp['size_fig2']+ test_com['size_fig2'] + test_com['new_unmatch'].shape[0]"
   ]
  },
  {
   "cell_type": "markdown",
   "metadata": {
    "Collapsed": "false"
   },
   "source": [
    "Verification le nombre a matcher correspond bien a 2M"
   ]
  },
  {
   "cell_type": "code",
   "execution_count": 93,
   "metadata": {
    "Collapsed": "false"
   },
   "outputs": [
    {
     "data": {
      "text/plain": [
       "(1487311, 16)"
      ]
     },
     "execution_count": 93,
     "metadata": {},
     "output_type": "execute_result"
    }
   ],
   "source": [
    "pd.concat(\n",
    "    [\n",
    "        df_siren_to_find.loc[lambda x: x['siren'].isin(test_city['siren_fig'])],\n",
    "        df_siren_to_find.loc[lambda x: x['siren'].isin(test_cp['siren_fig'])],\n",
    "        df_siren_to_find.loc[lambda x: x['siren'].isin(test_com['siren_fig'])],\n",
    "        test_com['new_unmatch'] \n",
    "    ]\n",
    "\n",
    ").shape"
   ]
  },
  {
   "cell_type": "code",
   "execution_count": null,
   "metadata": {
    "Collapsed": "false"
   },
   "outputs": [],
   "source": [
    "test_city['size_fig2']"
   ]
  },
  {
   "cell_type": "code",
   "execution_count": 74,
   "metadata": {
    "Collapsed": "false"
   },
   "outputs": [
    {
     "data": {
      "text/plain": [
       "482994"
      ]
     },
     "execution_count": 74,
     "metadata": {},
     "output_type": "execute_result"
    }
   ],
   "source": [
    "test_city['size_fig2']"
   ]
  },
  {
   "cell_type": "code",
   "execution_count": 64,
   "metadata": {
    "Collapsed": "false"
   },
   "outputs": [
    {
     "data": {
      "text/plain": [
       "17.404512145550594"
      ]
     },
     "execution_count": 64,
     "metadata": {},
     "output_type": "execute_result"
    }
   ],
   "source": [
    "(866618 / df_siren_to_find.shape[0]) * 100"
   ]
  },
  {
   "cell_type": "code",
   "execution_count": 65,
   "metadata": {
    "Collapsed": "false"
   },
   "outputs": [
    {
     "data": {
      "text/plain": [
       "1541862"
      ]
     },
     "execution_count": 65,
     "metadata": {},
     "output_type": "execute_result"
    }
   ],
   "source": [
    "### Match avec ville/code postal/commune\n",
    "test_adress.shape[0] - test_city['size_fig2'] + test_cp['size_fig2'] + \\\n",
    "test_com['size_fig2'] - test_com['new_unmatch'].shape[0]"
   ]
  },
  {
   "cell_type": "code",
   "execution_count": 66,
   "metadata": {
    "Collapsed": "false"
   },
   "outputs": [
    {
     "data": {
      "text/html": [
       "<div>\n",
       "<style scoped>\n",
       "    .dataframe tbody tr th:only-of-type {\n",
       "        vertical-align: middle;\n",
       "    }\n",
       "\n",
       "    .dataframe tbody tr th {\n",
       "        vertical-align: top;\n",
       "    }\n",
       "\n",
       "    .dataframe thead th {\n",
       "        text-align: right;\n",
       "    }\n",
       "</style>\n",
       "<table border=\"1\" class=\"dataframe\">\n",
       "  <thead>\n",
       "    <tr style=\"text-align: right;\">\n",
       "      <th></th>\n",
       "      <th>siren</th>\n",
       "      <th>Type</th>\n",
       "      <th>Adresse_Ligne1</th>\n",
       "      <th>Adresse_Ligne2</th>\n",
       "      <th>Adresse_Ligne3</th>\n",
       "      <th>Code_Postal</th>\n",
       "      <th>Ville</th>\n",
       "      <th>Code_Commune</th>\n",
       "      <th>Pays</th>\n",
       "      <th>count</th>\n",
       "      <th>test</th>\n",
       "      <th>Ville_clean</th>\n",
       "      <th>ville2</th>\n",
       "      <th>ncc</th>\n",
       "      <th>possibilite</th>\n",
       "      <th>noaccent</th>\n",
       "    </tr>\n",
       "  </thead>\n",
       "  <tbody>\n",
       "    <tr>\n",
       "      <th>4709810</th>\n",
       "      <td>200000560</td>\n",
       "      <td>PRI</td>\n",
       "      <td>71 Boulevard Galliéni</td>\n",
       "      <td>NaN</td>\n",
       "      <td>NaN</td>\n",
       "      <td>92130</td>\n",
       "      <td>Issy-les-Moulineaux</td>\n",
       "      <td>92040</td>\n",
       "      <td>FRANCE</td>\n",
       "      <td>1</td>\n",
       "      <td>NaN</td>\n",
       "      <td>Issy-les-Moulineaux</td>\n",
       "      <td>Issy-les-Moulineaux</td>\n",
       "      <td>ISSY LES MOULINEAUX</td>\n",
       "      <td>Issy-les-Moulineaux</td>\n",
       "      <td>NaN</td>\n",
       "    </tr>\n",
       "  </tbody>\n",
       "</table>\n",
       "</div>"
      ],
      "text/plain": [
       "             siren Type         Adresse_Ligne1 Adresse_Ligne2 Adresse_Ligne3  \\\n",
       "4709810  200000560  PRI  71 Boulevard Galliéni            NaN            NaN   \n",
       "\n",
       "        Code_Postal                Ville Code_Commune    Pays  count test  \\\n",
       "4709810       92130  Issy-les-Moulineaux        92040  FRANCE      1  NaN   \n",
       "\n",
       "                 Ville_clean               ville2                  ncc  \\\n",
       "4709810  Issy-les-Moulineaux  Issy-les-Moulineaux  ISSY LES MOULINEAUX   \n",
       "\n",
       "                 possibilite noaccent  \n",
       "4709810  Issy-les-Moulineaux      NaN  "
      ]
     },
     "execution_count": 66,
     "metadata": {},
     "output_type": "execute_result"
    }
   ],
   "source": [
    "test_adress.loc[lambda x : x['siren'].isin(['200000560'])]"
   ]
  },
  {
   "cell_type": "code",
   "execution_count": 67,
   "metadata": {
    "Collapsed": "false"
   },
   "outputs": [
    {
     "data": {
      "text/html": [
       "<div>\n",
       "<style scoped>\n",
       "    .dataframe tbody tr th:only-of-type {\n",
       "        vertical-align: middle;\n",
       "    }\n",
       "\n",
       "    .dataframe tbody tr th {\n",
       "        vertical-align: top;\n",
       "    }\n",
       "\n",
       "    .dataframe thead th {\n",
       "        text-align: right;\n",
       "    }\n",
       "</style>\n",
       "<table border=\"1\" class=\"dataframe\">\n",
       "  <thead>\n",
       "    <tr style=\"text-align: right;\">\n",
       "      <th></th>\n",
       "      <th>siren</th>\n",
       "      <th>siret</th>\n",
       "      <th>dateCreationEtablissement</th>\n",
       "      <th>complementAdresseEtablissement</th>\n",
       "      <th>numeroVoieEtablissement</th>\n",
       "      <th>indiceRepetitionEtablissement</th>\n",
       "      <th>typeVoieEtablissement</th>\n",
       "      <th>libelleVoieEtablissement</th>\n",
       "      <th>codePostalEtablissement</th>\n",
       "      <th>libelleCommuneEtablissement</th>\n",
       "      <th>libelleCommuneEtrangerEtablissement</th>\n",
       "      <th>distributionSpecialeEtablissement</th>\n",
       "      <th>codeCommuneEtablissement</th>\n",
       "      <th>codeCedexEtablissement</th>\n",
       "      <th>libelleCedexEtablissement</th>\n",
       "      <th>codePaysEtrangerEtablissement</th>\n",
       "      <th>libellePaysEtrangerEtablissement</th>\n",
       "      <th>count</th>\n",
       "    </tr>\n",
       "  </thead>\n",
       "  <tbody>\n",
       "    <tr>\n",
       "      <th>75</th>\n",
       "      <td>200000560</td>\n",
       "      <td>20000056000017</td>\n",
       "      <td>2005-12-09</td>\n",
       "      <td>NaN</td>\n",
       "      <td>35</td>\n",
       "      <td>NaN</td>\n",
       "      <td>RUE</td>\n",
       "      <td>KLEBER</td>\n",
       "      <td>92130</td>\n",
       "      <td>ISSY LES MOULINEAUX</td>\n",
       "      <td>NaN</td>\n",
       "      <td>NaN</td>\n",
       "      <td>92040</td>\n",
       "      <td>NaN</td>\n",
       "      <td>NaN</td>\n",
       "      <td>NaN</td>\n",
       "      <td>NaN</td>\n",
       "      <td>2</td>\n",
       "    </tr>\n",
       "    <tr>\n",
       "      <th>76</th>\n",
       "      <td>200000560</td>\n",
       "      <td>20000056000025</td>\n",
       "      <td>2012-04-16</td>\n",
       "      <td>NaN</td>\n",
       "      <td>71</td>\n",
       "      <td>NaN</td>\n",
       "      <td>BD</td>\n",
       "      <td>GALLIENI</td>\n",
       "      <td>92130</td>\n",
       "      <td>ISSY LES MOULINEAUX</td>\n",
       "      <td>NaN</td>\n",
       "      <td>NaN</td>\n",
       "      <td>92040</td>\n",
       "      <td>NaN</td>\n",
       "      <td>NaN</td>\n",
       "      <td>NaN</td>\n",
       "      <td>NaN</td>\n",
       "      <td>2</td>\n",
       "    </tr>\n",
       "  </tbody>\n",
       "</table>\n",
       "</div>"
      ],
      "text/plain": [
       "        siren           siret dateCreationEtablissement  \\\n",
       "75  200000560  20000056000017                2005-12-09   \n",
       "76  200000560  20000056000025                2012-04-16   \n",
       "\n",
       "   complementAdresseEtablissement numeroVoieEtablissement  \\\n",
       "75                            NaN                      35   \n",
       "76                            NaN                      71   \n",
       "\n",
       "   indiceRepetitionEtablissement typeVoieEtablissement  \\\n",
       "75                           NaN                   RUE   \n",
       "76                           NaN                    BD   \n",
       "\n",
       "   libelleVoieEtablissement codePostalEtablissement  \\\n",
       "75                   KLEBER                   92130   \n",
       "76                 GALLIENI                   92130   \n",
       "\n",
       "   libelleCommuneEtablissement libelleCommuneEtrangerEtablissement  \\\n",
       "75         ISSY LES MOULINEAUX                                 NaN   \n",
       "76         ISSY LES MOULINEAUX                                 NaN   \n",
       "\n",
       "   distributionSpecialeEtablissement codeCommuneEtablissement  \\\n",
       "75                               NaN                    92040   \n",
       "76                               NaN                    92040   \n",
       "\n",
       "   codeCedexEtablissement libelleCedexEtablissement  \\\n",
       "75                    NaN                       NaN   \n",
       "76                    NaN                       NaN   \n",
       "\n",
       "   codePaysEtrangerEtablissement libellePaysEtrangerEtablissement  count  \n",
       "75                           NaN                              NaN      2  \n",
       "76                           NaN                              NaN      2  "
      ]
     },
     "execution_count": 67,
     "metadata": {},
     "output_type": "execute_result"
    }
   ],
   "source": [
    "subset_insee_count.loc[lambda x : x['siren'].isin(['200000560'])]"
   ]
  },
  {
   "cell_type": "markdown",
   "metadata": {
    "Collapsed": "false"
   },
   "source": [
    "### Match avec adresse"
   ]
  },
  {
   "cell_type": "markdown",
   "metadata": {
    "Collapsed": "false"
   },
   "source": [
    "On selectionne uniquement ceux pas matché.\n",
    "Pour accélerer la recherche, on utilise que le sous ensemble de siren a vérifier dans le fichier INSEE\n",
    "\n",
    "Verifier si on peut matcher avec le numéro de l'adresse -> au cas ou principal et secondaire dans le même endroit"
   ]
  },
  {
   "cell_type": "markdown",
   "metadata": {
    "Collapsed": "false"
   },
   "source": [
    "Il faut retravailler les adresses:\n",
    "\n",
    "- Upper case\n",
    "\n",
    "La recherche se fait sur le libellé adresse. Dans l'INSEE, pas de numéro de voie, ni de typologie (rue, avenue, etc)\n",
    "\n",
    "ALL: Allée\n",
    "AV: Avenue\n",
    "BD: Boulevard\n",
    "CAR: Carrefour\n",
    "CHE: Chemin\n",
    "CHS: Chaussée\n",
    "CITE: Cité\n",
    "COR: Corniche\n",
    "CRS: Cours\n",
    "DOM: Domaine\n",
    "DSC: Descente\n",
    "ECA: Ecart\n",
    "ESP: Esplanade\n",
    "FG: Faubourg\n",
    "GR: Grande Rue\n",
    "HAM: Hameau\n",
    "HLE: Halle\n",
    "IMP: Impasse\n",
    "LD: Lieu dit\n",
    "LOT: Lotissement\n",
    "MAR: Marché\n",
    "MTE: Montée\n",
    "PAS: Passage\n",
    "PL: Place\n",
    "PLN: Plaine\n",
    "PLT: Plateau\n",
    "PRO: Promenade\n",
    "PRV: Parvis\n",
    "QUA: Quartier\n",
    "QUAI: Quai\n",
    "RES: Résidence\n",
    "RLE: Ruelle\n",
    "ROC: Rocade\n",
    "RPT: Rond Point\n",
    "RTE: Route\n",
    "RUE: Rue\n",
    "SEN: Sente - Sentier\n",
    "SQ: Square\n",
    "TPL: Terre-plein\n",
    "TRA: Traverse\n",
    "VLA: Villa\n",
    "VLGE: Village"
   ]
  },
  {
   "cell_type": "code",
   "execution_count": 69,
   "metadata": {
    "Collapsed": "false"
   },
   "outputs": [],
   "source": [
    "additional = [\"Avenue\",\n",
    "\"Boulevard\",\n",
    "\"Carrefour\",\n",
    "\"Chemin\",\n",
    "\"Chaussee\",\n",
    "\"Cite\",\n",
    "\"Corniche\",\n",
    "\"Cours\",\n",
    "\"Domaine\",\n",
    "\"Descente\",\n",
    "\"Ecart\",\n",
    "\"Esplanade\",\n",
    "\"Faubourg\",\n",
    "\"Grande Rue\",\n",
    "\"Hameau\",\n",
    "\"Halle\",\n",
    "\"Impasse\",\n",
    "\"Lieu dit\",\n",
    "\"Lotissement\",\n",
    "\"Marche\",\n",
    "\"Montee\",\n",
    "\"Passage\",\n",
    "\"Place\",\n",
    "\"Plaine\",\n",
    "\"Plateau\",\n",
    "\"Promenade\",\n",
    "\"Parvis\",\n",
    "\"Quartier\",\n",
    "\"Quai\",\n",
    "\"Residence\",\n",
    "\"Ruelle\",\n",
    "\"Rocade\",\n",
    "\"Rond Point\",\n",
    "\"Route\",\n",
    "\"Rue\",\n",
    "\"Sentier\",\n",
    "\"Square\",\n",
    "\"Terre plein\",\n",
    "\"Traverse\",\n",
    "\"Villa\",\n",
    "\"Village\"\n",
    "'bp', 'cedex']"
   ]
  },
  {
   "cell_type": "code",
   "execution_count": 70,
   "metadata": {
    "Collapsed": "false"
   },
   "outputs": [],
   "source": [
    "import nltk\n",
    "#nltk.download('stopwords')"
   ]
  },
  {
   "cell_type": "code",
   "execution_count": 71,
   "metadata": {
    "Collapsed": "false"
   },
   "outputs": [],
   "source": [
    "from nltk.corpus import stopwords"
   ]
  },
  {
   "cell_type": "code",
   "execution_count": 72,
   "metadata": {
    "Collapsed": "false"
   },
   "outputs": [],
   "source": [
    "stop_words = stopwords.words('french')\n",
    "stop_words.extend(additional)\n",
    "upper_stop = [i.upper() for i in stop_words]"
   ]
  },
  {
   "cell_type": "code",
   "execution_count": 85,
   "metadata": {
    "Collapsed": "false"
   },
   "outputs": [],
   "source": [
    "def create_split_adress(x):\n",
    "    \"\"\"\n",
    "    \"\"\"\n",
    "    split_ = x.str.split().to_list()\n",
    "    \n",
    "    #split_ = ''.join(str(e) for e in split_)\n",
    "    #reg = '|'.join(split_)\n",
    "    return  split_\n",
    "\n",
    "\n",
    "def create_regex_adress(x):\n",
    "    \"\"\"\n",
    "    \"\"\"\n",
    "    try:\n",
    "        split_ = [i + \"$\" for i in x]\n",
    "        reg = '|'.join(split_)\n",
    "    except:\n",
    "        reg = np.nan\n",
    "    return  reg\n",
    "\n",
    "def lookupInseeInpi(df_insee, siren, regex_):\n",
    "    \"\"\"\n",
    "    \"\"\"\n",
    "    try:\n",
    "        siret_ = df_insee.loc[lambda x: \n",
    "                                  x['siren'].isin([siren])\n",
    "                      & x['libelleVoieEtablissement'].str.contains(\n",
    "                          regex_, \n",
    "                          case = False, \n",
    "                          regex = True)\n",
    "                      ]['siret']\n",
    "        return siret_.values[0]\n",
    "    except:\n",
    "        return np.nan "
   ]
  },
  {
   "cell_type": "markdown",
   "metadata": {
    "Collapsed": "false"
   },
   "source": [
    "### Test avec cas figure 2 -> code postal\n",
    "\n"
   ]
  },
  {
   "cell_type": "code",
   "execution_count": 76,
   "metadata": {
    "Collapsed": "false"
   },
   "outputs": [
    {
     "data": {
      "text/plain": [
       "482994"
      ]
     },
     "execution_count": 76,
     "metadata": {},
     "output_type": "execute_result"
    }
   ],
   "source": [
    "len(test_city['siren_fig'])"
   ]
  },
  {
   "cell_type": "code",
   "execution_count": 79,
   "metadata": {
    "Collapsed": "false"
   },
   "outputs": [],
   "source": [
    "def prepare_adress(df):\n",
    "    \"\"\"\n",
    "    \"\"\"\n",
    "    #temp_adresse = m3['unmerged'].loc[lambda x: ~\n",
    "    #                                  x['siren'].isin(siren_count_1_found)].copy()\n",
    "    #sous_ensemble_insee = subset_insee_count.loc[lambda x: x['siren'].isin(\n",
    "    #    temp_adresse['siren'].to_list())]\n",
    "\n",
    "    temp_adresse = df.assign(\n",
    "        Adresse_Ligne1_clean=lambda x: x['Adresse_Ligne1'].str.normalize(\n",
    "            'NFKD')\n",
    "        .str.encode('ascii', errors='ignore')\n",
    "        .str.decode('utf-8')\n",
    "        .str.replace('[^\\w\\s]|\\d+', '')\n",
    "        .str.upper(),\n",
    "        Adresse_Ligne2_clean=lambda x: x['Adresse_Ligne2'].str.normalize(\n",
    "            'NFKD')\n",
    "        .str.encode('ascii', errors='ignore')\n",
    "        .str.decode('utf-8')\n",
    "        .str.replace('[^\\w\\s]|\\d+', '')\n",
    "        .str.upper(),\n",
    "        Adresse_Ligne3_clean=lambda x: x['Adresse_Ligne3'].str.normalize(\n",
    "            'NFKD')\n",
    "        .str.encode('ascii', errors='ignore')\n",
    "        .str.decode('utf-8')\n",
    "        .str.replace('[^\\w\\s]|\\d+', '')\n",
    "        .str.upper()\n",
    "    )\n",
    "    temp_adresse['Adresse_Ligne1_clean'] = (temp_adresse['Adresse_Ligne1_clean']\n",
    "                                            .apply(lambda x:\n",
    "                                                   ' '.join([word for word in\n",
    "                                                             str(x).split() if\n",
    "                                                             word not in \n",
    "                                                             (upper_stop)]))\n",
    "                                            )\n",
    "\n",
    "    temp_adresse['Adresse_Ligne2_clean'] = (temp_adresse['Adresse_Ligne2_clean']\n",
    "                                            .apply(lambda x:\n",
    "                                                   ' '.join([word for word in\n",
    "                                                             str(x).split() if\n",
    "                                                             word not in \n",
    "                                                             (upper_stop)]))\n",
    "                                           )\n",
    "                                            \n",
    "\n",
    "    temp_adresse['Adresse_Ligne3_clean'] = (temp_adresse['Adresse_Ligne3_clean']\n",
    "                                            .apply(lambda x:\n",
    "                                                   ' '.join([word for word in\n",
    "                                                             str(x).split() if\n",
    "                                                             word not in \n",
    "                                                             (upper_stop)]))\n",
    "                                           )\n",
    "                                            \n",
    "\n",
    "    temp_adresse = temp_adresse.assign(\n",
    "        Adresse_Ligne1_clean_split=lambda x:\n",
    "        create_split_adress(x['Adresse_Ligne1_clean']),\n",
    "        Adresse_Ligne2_clean_split=lambda x:\n",
    "        create_split_adress(x['Adresse_Ligne2_clean']),\n",
    "        Adresse_Ligne3_clean_split=lambda x:\n",
    "        create_split_adress(x['Adresse_Ligne3_clean'])\n",
    "    )\n",
    "\n",
    "    temp_adresse['Adresse_Ligne1_clean_reg'] = temp_adresse['Adresse_Ligne1_clean_split'].apply(lambda x:\n",
    "                                                                                                create_regex_adress(x))\n",
    "    temp_adresse['Adresse_Ligne2_clean_reg'] = temp_adresse['Adresse_Ligne2_clean_split'].apply(lambda x:\n",
    "                                                                                                create_regex_adress(x))\n",
    "    temp_adresse['Adresse_Ligne3_clean_reg'] = temp_adresse['Adresse_Ligne3_clean_split'].apply(lambda x:\n",
    "                                                                                                create_regex_adress(x))\n",
    "\n",
    "    return temp_adresse"
   ]
  },
  {
   "cell_type": "code",
   "execution_count": 81,
   "metadata": {
    "Collapsed": "false"
   },
   "outputs": [],
   "source": [
    "test1 = prepare_adress(\n",
    "    df_siren_to_find.loc[lambda x: x['siren'].isin(test_city['siren_fig'])])"
   ]
  },
  {
   "cell_type": "code",
   "execution_count": 82,
   "metadata": {
    "Collapsed": "false"
   },
   "outputs": [
    {
     "data": {
      "text/plain": [
       "757325"
      ]
     },
     "execution_count": 82,
     "metadata": {},
     "output_type": "execute_result"
    }
   ],
   "source": [
    "test1.shape[0]"
   ]
  },
  {
   "cell_type": "code",
   "execution_count": 83,
   "metadata": {
    "Collapsed": "false"
   },
   "outputs": [
    {
     "data": {
      "text/plain": [
       "siren                              440432052\n",
       "Type                                     SEP\n",
       "Adresse_Ligne1                           NaN\n",
       "Adresse_Ligne2                13 rue du Plat\n",
       "Adresse_Ligne3                           NaN\n",
       "Code_Postal                            01500\n",
       "Ville                               Ambronay\n",
       "Code_Commune                           01007\n",
       "Pays                                  FRANCE\n",
       "count                                      1\n",
       "Adresse_Ligne1_clean                     nan\n",
       "Adresse_Ligne2_clean                    PLAT\n",
       "Adresse_Ligne3_clean                     nan\n",
       "Adresse_Ligne1_clean_split             [nan]\n",
       "Adresse_Ligne2_clean_split            [PLAT]\n",
       "Adresse_Ligne3_clean_split             [nan]\n",
       "Adresse_Ligne1_clean_reg                nan$\n",
       "Adresse_Ligne2_clean_reg               PLAT$\n",
       "Adresse_Ligne3_clean_reg                nan$\n",
       "Name: 2, dtype: object"
      ]
     },
     "execution_count": 83,
     "metadata": {},
     "output_type": "execute_result"
    }
   ],
   "source": [
    "test1.iloc[0, :]"
   ]
  },
  {
   "cell_type": "code",
   "execution_count": 86,
   "metadata": {
    "Collapsed": "false"
   },
   "outputs": [
    {
     "data": {
      "text/plain": [
       "'44043205200023'"
      ]
     },
     "execution_count": 86,
     "metadata": {},
     "output_type": "execute_result"
    }
   ],
   "source": [
    "lookupInseeInpi(\n",
    "   df_insee=  subset_insee_count, \n",
    "    siren = test1.iloc[0, 0],\n",
    "    regex_ = test1.iloc[0, -2])"
   ]
  },
  {
   "cell_type": "code",
   "execution_count": 88,
   "metadata": {
    "Collapsed": "false"
   },
   "outputs": [
    {
     "data": {
      "text/html": [
       "<div>\n",
       "<style scoped>\n",
       "    .dataframe tbody tr th:only-of-type {\n",
       "        vertical-align: middle;\n",
       "    }\n",
       "\n",
       "    .dataframe tbody tr th {\n",
       "        vertical-align: top;\n",
       "    }\n",
       "\n",
       "    .dataframe thead th {\n",
       "        text-align: right;\n",
       "    }\n",
       "</style>\n",
       "<table border=\"1\" class=\"dataframe\">\n",
       "  <thead>\n",
       "    <tr style=\"text-align: right;\">\n",
       "      <th></th>\n",
       "      <th>siren</th>\n",
       "      <th>siret</th>\n",
       "      <th>dateCreationEtablissement</th>\n",
       "      <th>complementAdresseEtablissement</th>\n",
       "      <th>numeroVoieEtablissement</th>\n",
       "      <th>indiceRepetitionEtablissement</th>\n",
       "      <th>typeVoieEtablissement</th>\n",
       "      <th>libelleVoieEtablissement</th>\n",
       "      <th>codePostalEtablissement</th>\n",
       "      <th>libelleCommuneEtablissement</th>\n",
       "      <th>libelleCommuneEtrangerEtablissement</th>\n",
       "      <th>distributionSpecialeEtablissement</th>\n",
       "      <th>codeCommuneEtablissement</th>\n",
       "      <th>codeCedexEtablissement</th>\n",
       "      <th>libelleCedexEtablissement</th>\n",
       "      <th>codePaysEtrangerEtablissement</th>\n",
       "      <th>libellePaysEtrangerEtablissement</th>\n",
       "      <th>count</th>\n",
       "    </tr>\n",
       "  </thead>\n",
       "  <tbody>\n",
       "    <tr>\n",
       "      <th>2955654</th>\n",
       "      <td>440432052</td>\n",
       "      <td>44043205200015</td>\n",
       "      <td>2002-01-01</td>\n",
       "      <td>AMBRONAY</td>\n",
       "      <td>NaN</td>\n",
       "      <td>NaN</td>\n",
       "      <td>CHE</td>\n",
       "      <td>DE RONDE</td>\n",
       "      <td>01500</td>\n",
       "      <td>AMBRONAY</td>\n",
       "      <td>NaN</td>\n",
       "      <td>NaN</td>\n",
       "      <td>01007</td>\n",
       "      <td>NaN</td>\n",
       "      <td>NaN</td>\n",
       "      <td>NaN</td>\n",
       "      <td>NaN</td>\n",
       "      <td>2</td>\n",
       "    </tr>\n",
       "    <tr>\n",
       "      <th>2955655</th>\n",
       "      <td>440432052</td>\n",
       "      <td>44043205200023</td>\n",
       "      <td>2016-04-04</td>\n",
       "      <td>NaN</td>\n",
       "      <td>13</td>\n",
       "      <td>NaN</td>\n",
       "      <td>RUE</td>\n",
       "      <td>DU PLAT</td>\n",
       "      <td>01500</td>\n",
       "      <td>AMBRONAY</td>\n",
       "      <td>NaN</td>\n",
       "      <td>NaN</td>\n",
       "      <td>01007</td>\n",
       "      <td>NaN</td>\n",
       "      <td>NaN</td>\n",
       "      <td>NaN</td>\n",
       "      <td>NaN</td>\n",
       "      <td>2</td>\n",
       "    </tr>\n",
       "  </tbody>\n",
       "</table>\n",
       "</div>"
      ],
      "text/plain": [
       "             siren           siret dateCreationEtablissement  \\\n",
       "2955654  440432052  44043205200015                2002-01-01   \n",
       "2955655  440432052  44043205200023                2016-04-04   \n",
       "\n",
       "        complementAdresseEtablissement numeroVoieEtablissement  \\\n",
       "2955654                       AMBRONAY                     NaN   \n",
       "2955655                            NaN                      13   \n",
       "\n",
       "        indiceRepetitionEtablissement typeVoieEtablissement  \\\n",
       "2955654                           NaN                   CHE   \n",
       "2955655                           NaN                   RUE   \n",
       "\n",
       "        libelleVoieEtablissement codePostalEtablissement  \\\n",
       "2955654                 DE RONDE                   01500   \n",
       "2955655                  DU PLAT                   01500   \n",
       "\n",
       "        libelleCommuneEtablissement libelleCommuneEtrangerEtablissement  \\\n",
       "2955654                    AMBRONAY                                 NaN   \n",
       "2955655                    AMBRONAY                                 NaN   \n",
       "\n",
       "        distributionSpecialeEtablissement codeCommuneEtablissement  \\\n",
       "2955654                               NaN                    01007   \n",
       "2955655                               NaN                    01007   \n",
       "\n",
       "        codeCedexEtablissement libelleCedexEtablissement  \\\n",
       "2955654                    NaN                       NaN   \n",
       "2955655                    NaN                       NaN   \n",
       "\n",
       "        codePaysEtrangerEtablissement libellePaysEtrangerEtablissement  count  \n",
       "2955654                           NaN                              NaN      2  \n",
       "2955655                           NaN                              NaN      2  "
      ]
     },
     "execution_count": 88,
     "metadata": {},
     "output_type": "execute_result"
    }
   ],
   "source": [
    "subset_insee_count.loc[lambda x: x['siren'].isin([test1.iloc[0, 0]])]"
   ]
  },
  {
   "cell_type": "code",
   "execution_count": 90,
   "metadata": {
    "Collapsed": "false"
   },
   "outputs": [
    {
     "data": {
      "text/html": [
       "<div>\n",
       "<style scoped>\n",
       "    .dataframe tbody tr th:only-of-type {\n",
       "        vertical-align: middle;\n",
       "    }\n",
       "\n",
       "    .dataframe tbody tr th {\n",
       "        vertical-align: top;\n",
       "    }\n",
       "\n",
       "    .dataframe thead th {\n",
       "        text-align: right;\n",
       "    }\n",
       "</style>\n",
       "<table border=\"1\" class=\"dataframe\">\n",
       "  <thead>\n",
       "    <tr style=\"text-align: right;\">\n",
       "      <th></th>\n",
       "      <th>siren</th>\n",
       "      <th>Type</th>\n",
       "      <th>Adresse_Ligne1</th>\n",
       "      <th>Adresse_Ligne2</th>\n",
       "      <th>Adresse_Ligne3</th>\n",
       "      <th>Code_Postal</th>\n",
       "      <th>Ville</th>\n",
       "      <th>Code_Commune</th>\n",
       "      <th>Pays</th>\n",
       "      <th>count</th>\n",
       "      <th>Adresse_Ligne1_clean</th>\n",
       "      <th>Adresse_Ligne2_clean</th>\n",
       "      <th>Adresse_Ligne3_clean</th>\n",
       "      <th>Adresse_Ligne1_clean_split</th>\n",
       "      <th>Adresse_Ligne2_clean_split</th>\n",
       "      <th>Adresse_Ligne3_clean_split</th>\n",
       "      <th>Adresse_Ligne1_clean_reg</th>\n",
       "      <th>Adresse_Ligne2_clean_reg</th>\n",
       "      <th>Adresse_Ligne3_clean_reg</th>\n",
       "    </tr>\n",
       "  </thead>\n",
       "  <tbody>\n",
       "    <tr>\n",
       "      <th>2</th>\n",
       "      <td>440432052</td>\n",
       "      <td>SEP</td>\n",
       "      <td>NaN</td>\n",
       "      <td>13 rue du Plat</td>\n",
       "      <td>NaN</td>\n",
       "      <td>01500</td>\n",
       "      <td>Ambronay</td>\n",
       "      <td>01007</td>\n",
       "      <td>FRANCE</td>\n",
       "      <td>1</td>\n",
       "      <td>nan</td>\n",
       "      <td>PLAT</td>\n",
       "      <td>nan</td>\n",
       "      <td>[nan]</td>\n",
       "      <td>[PLAT]</td>\n",
       "      <td>[nan]</td>\n",
       "      <td>nan$</td>\n",
       "      <td>PLAT$</td>\n",
       "      <td>nan$</td>\n",
       "    </tr>\n",
       "  </tbody>\n",
       "</table>\n",
       "</div>"
      ],
      "text/plain": [
       "       siren Type Adresse_Ligne1  Adresse_Ligne2 Adresse_Ligne3 Code_Postal  \\\n",
       "2  440432052  SEP            NaN  13 rue du Plat            NaN       01500   \n",
       "\n",
       "      Ville Code_Commune    Pays  count Adresse_Ligne1_clean  \\\n",
       "2  Ambronay        01007  FRANCE      1                  nan   \n",
       "\n",
       "  Adresse_Ligne2_clean Adresse_Ligne3_clean Adresse_Ligne1_clean_split  \\\n",
       "2                 PLAT                  nan                      [nan]   \n",
       "\n",
       "  Adresse_Ligne2_clean_split Adresse_Ligne3_clean_split  \\\n",
       "2                     [PLAT]                      [nan]   \n",
       "\n",
       "  Adresse_Ligne1_clean_reg Adresse_Ligne2_clean_reg Adresse_Ligne3_clean_reg  \n",
       "2                     nan$                    PLAT$                     nan$  "
      ]
     },
     "execution_count": 90,
     "metadata": {},
     "output_type": "execute_result"
    }
   ],
   "source": [
    "test1.loc[lambda x: x['siren'].isin([test1.iloc[0, 0]])]"
   ]
  },
  {
   "cell_type": "markdown",
   "metadata": {
    "Collapsed": "false"
   },
   "source": [
    "Pour accelerer le code, on utilise uniquement les adresses sans les na"
   ]
  },
  {
   "cell_type": "markdown",
   "metadata": {
    "Collapsed": "false"
   },
   "source": [
    "#### test_1"
   ]
  },
  {
   "cell_type": "code",
   "execution_count": 97,
   "metadata": {
    "Collapsed": "false"
   },
   "outputs": [
    {
     "data": {
      "text/plain": [
       "(300504, 19)"
      ]
     },
     "execution_count": 97,
     "metadata": {},
     "output_type": "execute_result"
    }
   ],
   "source": [
    "test_1 = test1.loc[lambda x: ~x['Adresse_Ligne1_clean_reg'].isin(['nan$'])]\n",
    "test_1.shape"
   ]
  },
  {
   "cell_type": "code",
   "execution_count": 95,
   "metadata": {
    "Collapsed": "false"
   },
   "outputs": [
    {
     "name": "stdout",
     "output_type": "stream",
     "text": [
      "INFO: Pandarallel will run on 8 workers.\n",
      "INFO: Pandarallel will use standard multiprocessing data transfer (pipe) to transfer data between the main process and workers.\n"
     ]
    }
   ],
   "source": [
    "from pandarallel import pandarallel\n",
    "pandarallel.initialize(progress_bar=True)"
   ]
  },
  {
   "cell_type": "code",
   "execution_count": 100,
   "metadata": {
    "Collapsed": "false"
   },
   "outputs": [
    {
     "name": "stdout",
     "output_type": "stream",
     "text": [
      "Wall time: 1min 8s\n"
     ]
    },
    {
     "data": {
      "text/plain": [
       "42     33122115000088\n",
       "43                NaN\n",
       "50                NaN\n",
       "146               NaN\n",
       "167    33145569100229\n",
       "171    33145569100195\n",
       "172               NaN\n",
       "210               NaN\n",
       "220    71298043200231\n",
       "221    71298043200157\n",
       "dtype: object"
      ]
     },
     "execution_count": 100,
     "metadata": {},
     "output_type": "execute_result"
    }
   ],
   "source": [
    "%%time\n",
    "test_1.head(10).apply(lambda x: lookupInseeInpi(\n",
    "    df_insee=  subset_insee_count,\n",
    "    siren = x['siren'],\n",
    "    regex_ = x['Adresse_Ligne1_clean_reg']),\n",
    "    axis = 1 )"
   ]
  },
  {
   "cell_type": "code",
   "execution_count": 103,
   "metadata": {
    "Collapsed": "false"
   },
   "outputs": [
    {
     "name": "stderr",
     "output_type": "stream",
     "text": [
      "[autoreload of joblib.numpy_pickle failed: Traceback (most recent call last):\n",
      "  File \"C:\\Users\\PERNETTH\\AppData\\Local\\Continuum\\anaconda3\\lib\\site-packages\\IPython\\extensions\\autoreload.py\", line 245, in check\n",
      "    superreload(m, reload, self.old_objects)\n",
      "  File \"C:\\Users\\PERNETTH\\AppData\\Local\\Continuum\\anaconda3\\lib\\site-packages\\IPython\\extensions\\autoreload.py\", line 394, in superreload\n",
      "    module = reload(module)\n",
      "  File \"C:\\Users\\PERNETTH\\AppData\\Local\\Continuum\\anaconda3\\lib\\imp.py\", line 314, in reload\n",
      "    return importlib.reload(module)\n",
      "  File \"C:\\Users\\PERNETTH\\AppData\\Local\\Continuum\\anaconda3\\lib\\importlib\\__init__.py\", line 169, in reload\n",
      "    _bootstrap._exec(spec, module)\n",
      "  File \"<frozen importlib._bootstrap>\", line 630, in _exec\n",
      "  File \"<frozen importlib._bootstrap_external>\", line 728, in exec_module\n",
      "  File \"<frozen importlib._bootstrap>\", line 219, in _call_with_frames_removed\n",
      "  File \"C:\\Users\\PERNETTH\\AppData\\Local\\Continuum\\anaconda3\\lib\\site-packages\\joblib\\numpy_pickle.py\", line 35, in <module>\n",
      "    register_compressor('zlib', ZlibCompressorWrapper())\n",
      "  File \"C:\\Users\\PERNETTH\\AppData\\Local\\Continuum\\anaconda3\\lib\\site-packages\\joblib\\compressor.py\", line 79, in register_compressor\n",
      "    .format(compressor_name))\n",
      "ValueError: Compressor 'zlib' already registered.\n",
      "]\n"
     ]
    },
    {
     "ename": "AttributeError",
     "evalue": "Can't pickle local object 'prepare_worker.<locals>.closure.<locals>.wrapper'",
     "output_type": "error",
     "traceback": [
      "\u001b[1;31m---------------------------------------------------------------------------\u001b[0m",
      "\u001b[1;31mAttributeError\u001b[0m                            Traceback (most recent call last)",
      "\u001b[1;32m<timed eval>\u001b[0m in \u001b[0;36m<module>\u001b[1;34m\u001b[0m\n",
      "\u001b[1;32m~\\AppData\\Local\\Continuum\\anaconda3\\lib\\site-packages\\pandarallel\\pandarallel.py\u001b[0m in \u001b[0;36mclosure\u001b[1;34m(data, func, *args, **kwargs)\u001b[0m\n\u001b[0;32m    434\u001b[0m         \u001b[1;32mtry\u001b[0m\u001b[1;33m:\u001b[0m\u001b[1;33m\u001b[0m\u001b[1;33m\u001b[0m\u001b[0m\n\u001b[0;32m    435\u001b[0m             pool = Pool(\n\u001b[1;32m--> 436\u001b[1;33m                 \u001b[0mnb_workers\u001b[0m\u001b[1;33m,\u001b[0m \u001b[0mworker_init\u001b[0m\u001b[1;33m,\u001b[0m \u001b[1;33m(\u001b[0m\u001b[0mprepare_worker\u001b[0m\u001b[1;33m(\u001b[0m\u001b[0muse_memory_fs\u001b[0m\u001b[1;33m)\u001b[0m\u001b[1;33m(\u001b[0m\u001b[0mworker\u001b[0m\u001b[1;33m)\u001b[0m\u001b[1;33m,\u001b[0m\u001b[1;33m)\u001b[0m\u001b[1;33m\u001b[0m\u001b[1;33m\u001b[0m\u001b[0m\n\u001b[0m\u001b[0;32m    437\u001b[0m             )\n\u001b[0;32m    438\u001b[0m \u001b[1;33m\u001b[0m\u001b[0m\n",
      "\u001b[1;32m~\\AppData\\Local\\Continuum\\anaconda3\\lib\\multiprocessing\\context.py\u001b[0m in \u001b[0;36mPool\u001b[1;34m(self, processes, initializer, initargs, maxtasksperchild)\u001b[0m\n\u001b[0;32m    117\u001b[0m         \u001b[1;32mfrom\u001b[0m \u001b[1;33m.\u001b[0m\u001b[0mpool\u001b[0m \u001b[1;32mimport\u001b[0m \u001b[0mPool\u001b[0m\u001b[1;33m\u001b[0m\u001b[1;33m\u001b[0m\u001b[0m\n\u001b[0;32m    118\u001b[0m         return Pool(processes, initializer, initargs, maxtasksperchild,\n\u001b[1;32m--> 119\u001b[1;33m                     context=self.get_context())\n\u001b[0m\u001b[0;32m    120\u001b[0m \u001b[1;33m\u001b[0m\u001b[0m\n\u001b[0;32m    121\u001b[0m     \u001b[1;32mdef\u001b[0m \u001b[0mRawValue\u001b[0m\u001b[1;33m(\u001b[0m\u001b[0mself\u001b[0m\u001b[1;33m,\u001b[0m \u001b[0mtypecode_or_type\u001b[0m\u001b[1;33m,\u001b[0m \u001b[1;33m*\u001b[0m\u001b[0margs\u001b[0m\u001b[1;33m)\u001b[0m\u001b[1;33m:\u001b[0m\u001b[1;33m\u001b[0m\u001b[1;33m\u001b[0m\u001b[0m\n",
      "\u001b[1;32m~\\AppData\\Local\\Continuum\\anaconda3\\lib\\multiprocessing\\pool.py\u001b[0m in \u001b[0;36m__init__\u001b[1;34m(self, processes, initializer, initargs, maxtasksperchild, context)\u001b[0m\n\u001b[0;32m    174\u001b[0m         \u001b[0mself\u001b[0m\u001b[1;33m.\u001b[0m\u001b[0m_processes\u001b[0m \u001b[1;33m=\u001b[0m \u001b[0mprocesses\u001b[0m\u001b[1;33m\u001b[0m\u001b[1;33m\u001b[0m\u001b[0m\n\u001b[0;32m    175\u001b[0m         \u001b[0mself\u001b[0m\u001b[1;33m.\u001b[0m\u001b[0m_pool\u001b[0m \u001b[1;33m=\u001b[0m \u001b[1;33m[\u001b[0m\u001b[1;33m]\u001b[0m\u001b[1;33m\u001b[0m\u001b[1;33m\u001b[0m\u001b[0m\n\u001b[1;32m--> 176\u001b[1;33m         \u001b[0mself\u001b[0m\u001b[1;33m.\u001b[0m\u001b[0m_repopulate_pool\u001b[0m\u001b[1;33m(\u001b[0m\u001b[1;33m)\u001b[0m\u001b[1;33m\u001b[0m\u001b[1;33m\u001b[0m\u001b[0m\n\u001b[0m\u001b[0;32m    177\u001b[0m \u001b[1;33m\u001b[0m\u001b[0m\n\u001b[0;32m    178\u001b[0m         self._worker_handler = threading.Thread(\n",
      "\u001b[1;32m~\\AppData\\Local\\Continuum\\anaconda3\\lib\\multiprocessing\\pool.py\u001b[0m in \u001b[0;36m_repopulate_pool\u001b[1;34m(self)\u001b[0m\n\u001b[0;32m    239\u001b[0m             \u001b[0mw\u001b[0m\u001b[1;33m.\u001b[0m\u001b[0mname\u001b[0m \u001b[1;33m=\u001b[0m \u001b[0mw\u001b[0m\u001b[1;33m.\u001b[0m\u001b[0mname\u001b[0m\u001b[1;33m.\u001b[0m\u001b[0mreplace\u001b[0m\u001b[1;33m(\u001b[0m\u001b[1;34m'Process'\u001b[0m\u001b[1;33m,\u001b[0m \u001b[1;34m'PoolWorker'\u001b[0m\u001b[1;33m)\u001b[0m\u001b[1;33m\u001b[0m\u001b[1;33m\u001b[0m\u001b[0m\n\u001b[0;32m    240\u001b[0m             \u001b[0mw\u001b[0m\u001b[1;33m.\u001b[0m\u001b[0mdaemon\u001b[0m \u001b[1;33m=\u001b[0m \u001b[1;32mTrue\u001b[0m\u001b[1;33m\u001b[0m\u001b[1;33m\u001b[0m\u001b[0m\n\u001b[1;32m--> 241\u001b[1;33m             \u001b[0mw\u001b[0m\u001b[1;33m.\u001b[0m\u001b[0mstart\u001b[0m\u001b[1;33m(\u001b[0m\u001b[1;33m)\u001b[0m\u001b[1;33m\u001b[0m\u001b[1;33m\u001b[0m\u001b[0m\n\u001b[0m\u001b[0;32m    242\u001b[0m             \u001b[0mutil\u001b[0m\u001b[1;33m.\u001b[0m\u001b[0mdebug\u001b[0m\u001b[1;33m(\u001b[0m\u001b[1;34m'added worker'\u001b[0m\u001b[1;33m)\u001b[0m\u001b[1;33m\u001b[0m\u001b[1;33m\u001b[0m\u001b[0m\n\u001b[0;32m    243\u001b[0m \u001b[1;33m\u001b[0m\u001b[0m\n",
      "\u001b[1;32m~\\AppData\\Local\\Continuum\\anaconda3\\lib\\multiprocessing\\process.py\u001b[0m in \u001b[0;36mstart\u001b[1;34m(self)\u001b[0m\n\u001b[0;32m    110\u001b[0m                \u001b[1;34m'daemonic processes are not allowed to have children'\u001b[0m\u001b[1;33m\u001b[0m\u001b[1;33m\u001b[0m\u001b[0m\n\u001b[0;32m    111\u001b[0m         \u001b[0m_cleanup\u001b[0m\u001b[1;33m(\u001b[0m\u001b[1;33m)\u001b[0m\u001b[1;33m\u001b[0m\u001b[1;33m\u001b[0m\u001b[0m\n\u001b[1;32m--> 112\u001b[1;33m         \u001b[0mself\u001b[0m\u001b[1;33m.\u001b[0m\u001b[0m_popen\u001b[0m \u001b[1;33m=\u001b[0m \u001b[0mself\u001b[0m\u001b[1;33m.\u001b[0m\u001b[0m_Popen\u001b[0m\u001b[1;33m(\u001b[0m\u001b[0mself\u001b[0m\u001b[1;33m)\u001b[0m\u001b[1;33m\u001b[0m\u001b[1;33m\u001b[0m\u001b[0m\n\u001b[0m\u001b[0;32m    113\u001b[0m         \u001b[0mself\u001b[0m\u001b[1;33m.\u001b[0m\u001b[0m_sentinel\u001b[0m \u001b[1;33m=\u001b[0m \u001b[0mself\u001b[0m\u001b[1;33m.\u001b[0m\u001b[0m_popen\u001b[0m\u001b[1;33m.\u001b[0m\u001b[0msentinel\u001b[0m\u001b[1;33m\u001b[0m\u001b[1;33m\u001b[0m\u001b[0m\n\u001b[0;32m    114\u001b[0m         \u001b[1;31m# Avoid a refcycle if the target function holds an indirect\u001b[0m\u001b[1;33m\u001b[0m\u001b[1;33m\u001b[0m\u001b[1;33m\u001b[0m\u001b[0m\n",
      "\u001b[1;32m~\\AppData\\Local\\Continuum\\anaconda3\\lib\\multiprocessing\\context.py\u001b[0m in \u001b[0;36m_Popen\u001b[1;34m(process_obj)\u001b[0m\n\u001b[0;32m    320\u001b[0m         \u001b[1;32mdef\u001b[0m \u001b[0m_Popen\u001b[0m\u001b[1;33m(\u001b[0m\u001b[0mprocess_obj\u001b[0m\u001b[1;33m)\u001b[0m\u001b[1;33m:\u001b[0m\u001b[1;33m\u001b[0m\u001b[1;33m\u001b[0m\u001b[0m\n\u001b[0;32m    321\u001b[0m             \u001b[1;32mfrom\u001b[0m \u001b[1;33m.\u001b[0m\u001b[0mpopen_spawn_win32\u001b[0m \u001b[1;32mimport\u001b[0m \u001b[0mPopen\u001b[0m\u001b[1;33m\u001b[0m\u001b[1;33m\u001b[0m\u001b[0m\n\u001b[1;32m--> 322\u001b[1;33m             \u001b[1;32mreturn\u001b[0m \u001b[0mPopen\u001b[0m\u001b[1;33m(\u001b[0m\u001b[0mprocess_obj\u001b[0m\u001b[1;33m)\u001b[0m\u001b[1;33m\u001b[0m\u001b[1;33m\u001b[0m\u001b[0m\n\u001b[0m\u001b[0;32m    323\u001b[0m \u001b[1;33m\u001b[0m\u001b[0m\n\u001b[0;32m    324\u001b[0m     \u001b[1;32mclass\u001b[0m \u001b[0mSpawnContext\u001b[0m\u001b[1;33m(\u001b[0m\u001b[0mBaseContext\u001b[0m\u001b[1;33m)\u001b[0m\u001b[1;33m:\u001b[0m\u001b[1;33m\u001b[0m\u001b[1;33m\u001b[0m\u001b[0m\n",
      "\u001b[1;32m~\\AppData\\Local\\Continuum\\anaconda3\\lib\\multiprocessing\\popen_spawn_win32.py\u001b[0m in \u001b[0;36m__init__\u001b[1;34m(self, process_obj)\u001b[0m\n\u001b[0;32m     87\u001b[0m             \u001b[1;32mtry\u001b[0m\u001b[1;33m:\u001b[0m\u001b[1;33m\u001b[0m\u001b[1;33m\u001b[0m\u001b[0m\n\u001b[0;32m     88\u001b[0m                 \u001b[0mreduction\u001b[0m\u001b[1;33m.\u001b[0m\u001b[0mdump\u001b[0m\u001b[1;33m(\u001b[0m\u001b[0mprep_data\u001b[0m\u001b[1;33m,\u001b[0m \u001b[0mto_child\u001b[0m\u001b[1;33m)\u001b[0m\u001b[1;33m\u001b[0m\u001b[1;33m\u001b[0m\u001b[0m\n\u001b[1;32m---> 89\u001b[1;33m                 \u001b[0mreduction\u001b[0m\u001b[1;33m.\u001b[0m\u001b[0mdump\u001b[0m\u001b[1;33m(\u001b[0m\u001b[0mprocess_obj\u001b[0m\u001b[1;33m,\u001b[0m \u001b[0mto_child\u001b[0m\u001b[1;33m)\u001b[0m\u001b[1;33m\u001b[0m\u001b[1;33m\u001b[0m\u001b[0m\n\u001b[0m\u001b[0;32m     90\u001b[0m             \u001b[1;32mfinally\u001b[0m\u001b[1;33m:\u001b[0m\u001b[1;33m\u001b[0m\u001b[1;33m\u001b[0m\u001b[0m\n\u001b[0;32m     91\u001b[0m                 \u001b[0mset_spawning_popen\u001b[0m\u001b[1;33m(\u001b[0m\u001b[1;32mNone\u001b[0m\u001b[1;33m)\u001b[0m\u001b[1;33m\u001b[0m\u001b[1;33m\u001b[0m\u001b[0m\n",
      "\u001b[1;32m~\\AppData\\Local\\Continuum\\anaconda3\\lib\\multiprocessing\\reduction.py\u001b[0m in \u001b[0;36mdump\u001b[1;34m(obj, file, protocol)\u001b[0m\n\u001b[0;32m     58\u001b[0m \u001b[1;32mdef\u001b[0m \u001b[0mdump\u001b[0m\u001b[1;33m(\u001b[0m\u001b[0mobj\u001b[0m\u001b[1;33m,\u001b[0m \u001b[0mfile\u001b[0m\u001b[1;33m,\u001b[0m \u001b[0mprotocol\u001b[0m\u001b[1;33m=\u001b[0m\u001b[1;32mNone\u001b[0m\u001b[1;33m)\u001b[0m\u001b[1;33m:\u001b[0m\u001b[1;33m\u001b[0m\u001b[1;33m\u001b[0m\u001b[0m\n\u001b[0;32m     59\u001b[0m     \u001b[1;34m'''Replacement for pickle.dump() using ForkingPickler.'''\u001b[0m\u001b[1;33m\u001b[0m\u001b[1;33m\u001b[0m\u001b[0m\n\u001b[1;32m---> 60\u001b[1;33m     \u001b[0mForkingPickler\u001b[0m\u001b[1;33m(\u001b[0m\u001b[0mfile\u001b[0m\u001b[1;33m,\u001b[0m \u001b[0mprotocol\u001b[0m\u001b[1;33m)\u001b[0m\u001b[1;33m.\u001b[0m\u001b[0mdump\u001b[0m\u001b[1;33m(\u001b[0m\u001b[0mobj\u001b[0m\u001b[1;33m)\u001b[0m\u001b[1;33m\u001b[0m\u001b[1;33m\u001b[0m\u001b[0m\n\u001b[0m\u001b[0;32m     61\u001b[0m \u001b[1;33m\u001b[0m\u001b[0m\n\u001b[0;32m     62\u001b[0m \u001b[1;31m#\u001b[0m\u001b[1;33m\u001b[0m\u001b[1;33m\u001b[0m\u001b[1;33m\u001b[0m\u001b[0m\n",
      "\u001b[1;31mAttributeError\u001b[0m: Can't pickle local object 'prepare_worker.<locals>.closure.<locals>.wrapper'"
     ]
    }
   ],
   "source": [
    "%%time\n",
    "test_1.head(10).parallel_apply(lambda x: lookupInseeInpi(\n",
    "    siren = x['siren'],\n",
    "    regex_ = x['test_1']),\n",
    "    axis = 1 )"
   ]
  },
  {
   "cell_type": "code",
   "execution_count": null,
   "metadata": {
    "Collapsed": "false"
   },
   "outputs": [],
   "source": [
    "lookupInseeInpi(siren = test_1.iloc[2, 0],\n",
    "                regex_ = test_1.iloc[2, -2])"
   ]
  },
  {
   "cell_type": "code",
   "execution_count": null,
   "metadata": {
    "Collapsed": "false"
   },
   "outputs": [],
   "source": [
    "sous_ensemble_insee.loc[lambda x: x['siren'].isin([test_1.iloc[2, 0]])]"
   ]
  },
  {
   "cell_type": "code",
   "execution_count": null,
   "metadata": {
    "Collapsed": "false"
   },
   "outputs": [],
   "source": [
    "((17000 * 2.62) /10)/60"
   ]
  },
  {
   "cell_type": "code",
   "execution_count": null,
   "metadata": {
    "Collapsed": "false"
   },
   "outputs": [],
   "source": [
    "%%time\n",
    "test_1['siret_1'] = test_1.apply(lambda x: lookupInseeInpi(\n",
    "    siren = x['siren'],\n",
    "    regex_ = x['test_1']),\n",
    "    axis = 1 )"
   ]
  },
  {
   "cell_type": "code",
   "execution_count": null,
   "metadata": {
    "Collapsed": "false"
   },
   "outputs": [],
   "source": [
    "test_1.shape"
   ]
  },
  {
   "cell_type": "code",
   "execution_count": null,
   "metadata": {
    "Collapsed": "false"
   },
   "outputs": [],
   "source": [
    "test_1.loc[lambda x : ~x['siret_1'].isin([np.nan])].head()"
   ]
  },
  {
   "cell_type": "code",
   "execution_count": null,
   "metadata": {
    "Collapsed": "false"
   },
   "outputs": [],
   "source": [
    "test_1.loc[lambda x : ~x['siret_1'].isin([np.nan])].shape"
   ]
  },
  {
   "cell_type": "code",
   "execution_count": null,
   "metadata": {
    "Collapsed": "false"
   },
   "outputs": [],
   "source": [
    "(sous_ensemble_insee\n",
    " .loc[lambda x: x['siren'].isin([\"395395759\"])]\n",
    ")"
   ]
  },
  {
   "cell_type": "code",
   "execution_count": null,
   "metadata": {
    "Collapsed": "false"
   },
   "outputs": [],
   "source": [
    "test_1['siret_1'].isna().sum()"
   ]
  },
  {
   "cell_type": "markdown",
   "metadata": {
    "Collapsed": "false"
   },
   "source": [
    "#### test_2"
   ]
  },
  {
   "cell_type": "code",
   "execution_count": null,
   "metadata": {
    "Collapsed": "false"
   },
   "outputs": [],
   "source": [
    "%%time\n",
    "test_2 = temp_adresse.loc[lambda x: ~x['test_2'].isin(['nan'])]\n",
    "test_2['siret_2'] = test_1.apply(lambda x: lookupInseeInpi(\n",
    "    siren = x['siren'],\n",
    "    regex_ = x['test_2']),\n",
    "    axis = 1 )"
   ]
  },
  {
   "cell_type": "code",
   "execution_count": null,
   "metadata": {
    "Collapsed": "false"
   },
   "outputs": [],
   "source": [
    "test_2['siret_2'].isna().sum()"
   ]
  },
  {
   "cell_type": "code",
   "execution_count": null,
   "metadata": {
    "Collapsed": "false"
   },
   "outputs": [],
   "source": [
    "test_2.shape"
   ]
  },
  {
   "cell_type": "code",
   "execution_count": null,
   "metadata": {
    "Collapsed": "false"
   },
   "outputs": [],
   "source": [
    "test_2.loc[lambda x : ~x['siret_2'].isin([np.nan])].head()"
   ]
  },
  {
   "cell_type": "code",
   "execution_count": null,
   "metadata": {
    "Collapsed": "false"
   },
   "outputs": [],
   "source": [
    "test_2.loc[lambda x : ~x['siret_2'].isin([np.nan])].shape"
   ]
  },
  {
   "cell_type": "code",
   "execution_count": null,
   "metadata": {
    "Collapsed": "false"
   },
   "outputs": [],
   "source": [
    "(sous_ensemble_insee\n",
    " .loc[lambda x: x['siren'].isin([\"394674881\"])]\n",
    ")"
   ]
  },
  {
   "cell_type": "markdown",
   "metadata": {
    "Collapsed": "false"
   },
   "source": [
    "#### test_3"
   ]
  },
  {
   "cell_type": "code",
   "execution_count": null,
   "metadata": {
    "Collapsed": "false"
   },
   "outputs": [],
   "source": [
    "%%time\n",
    "test_3 = temp_adresse.loc[lambda x: ~x['test_3'].isin(['nan'])]\n",
    "test_3['siret_3'] = test_1.apply(lambda x: lookupInseeInpi(\n",
    "    siren = x['siren'],\n",
    "    regex_ = x['test_3']),\n",
    "    axis = 1 )"
   ]
  },
  {
   "cell_type": "code",
   "execution_count": null,
   "metadata": {
    "Collapsed": "false"
   },
   "outputs": [],
   "source": [
    "test_3.loc[lambda x : ~x['siret_3'].isin([np.nan])].shape"
   ]
  },
  {
   "cell_type": "code",
   "execution_count": null,
   "metadata": {
    "Collapsed": "false"
   },
   "outputs": [],
   "source": [
    "test_3.loc[lambda x : ~x['siret_3'].isin([np.nan])].head()"
   ]
  },
  {
   "cell_type": "code",
   "execution_count": null,
   "metadata": {
    "Collapsed": "false"
   },
   "outputs": [],
   "source": [
    "(sous_ensemble_insee\n",
    " .loc[lambda x: x['siren'].isin([\"302556832\"])]\n",
    ")"
   ]
  },
  {
   "cell_type": "code",
   "execution_count": null,
   "metadata": {
    "Collapsed": "false"
   },
   "outputs": [],
   "source": [
    "lookupInseeInpi(siren = '302556832',\n",
    "                regex_ = '^AVE$|^MICHEL$|^JOURDAN$')"
   ]
  },
  {
   "cell_type": "markdown",
   "metadata": {
    "Collapsed": "false"
   },
   "source": [
    "temp1.head("
   ]
  },
  {
   "cell_type": "code",
   "execution_count": null,
   "metadata": {
    "Collapsed": "false"
   },
   "outputs": [],
   "source": [
    "import os\n",
    "os.remove('communes.xlsx')\n",
    "temp1.loc[lambda x: x['_merge'].isin(['left_only'])].drop_duplicates('ville2').to_excel('communes.xlsx')"
   ]
  },
  {
   "cell_type": "code",
   "execution_count": null,
   "metadata": {
    "Collapsed": "false"
   },
   "outputs": [],
   "source": [
    "temp.assign(url = lambda x :\n",
    "            'https://data.inpi.fr/entreprises/' + x[\"Siren\"] )"
   ]
  }
 ],
 "metadata": {
  "kernelspec": {
   "display_name": "Python 3",
   "language": "python",
   "name": "python3"
  },
  "language_info": {
   "codemirror_mode": {
    "name": "ipython",
    "version": 3
   },
   "file_extension": ".py",
   "mimetype": "text/x-python",
   "name": "python",
   "nbconvert_exporter": "python",
   "pygments_lexer": "ipython3",
   "version": "3.7.6"
  },
  "toc": {
   "base_numbering": 1,
   "nav_menu": {},
   "number_sections": true,
   "sideBar": true,
   "skip_h1_title": false,
   "title_cell": "Table of Contents",
   "title_sidebar": "Contents",
   "toc_cell": false,
   "toc_position": {},
   "toc_section_display": true,
   "toc_window_display": false
  }
 },
 "nbformat": 4,
 "nbformat_minor": 4
}
