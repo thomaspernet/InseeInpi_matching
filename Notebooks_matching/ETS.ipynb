{
 "cells": [
  {
   "cell_type": "markdown",
<<<<<<< Updated upstream
   "metadata": {},
=======
   "metadata": {
    "Collapsed": "false"
   },
>>>>>>> Stashed changes
   "source": [
    "# Test Matching Insee/ETS\n",
    "\n",
    "## INSEE\n",
    "\n",
    "- https://s3.console.aws.amazon.com/s3/object/calfdata/INSEE/Stock/ETS/\n",
    "        - INSEE/Stock/ETS/StockEtablissement_utf8.csv\n",
    "        \n",
    "```\n",
    "['siren', 'siret']\n",
    "```\n",
    "\n",
    "## INPI\n",
    "\n",
    "- https://s3.console.aws.amazon.com/s3/buckets/calfdata/INPI/TC_1/Stock_processed/\n",
    "    - INPI/TC_1/Stock_processed/initial_ETS.gz\n",
    "    - INPI/TC_1/Stock_processed/initial_ETS.json\n",
    "    \n",
    "Colonnes test:\n",
    "\n",
    "```\n",
    "[\"Siren\",\"Date_Immatriculation\", \"Date_Clôture\", \"Date_Greffe\"]\n",
    "```\n",
    "\n",
    "## Sauvegarde\n",
    "\n",
    "* La liste des SIREN matchés sera sauvegardée selon leur nature et origine\n",
    "  * nature → ACTES/COMPTES/ETS/etc\n",
    "  * origine → initial/partiel/new/evt\n",
    "\n",
    "Les matchés seront sauvegardé dans calfdata/SIRETISATION/matche/ au format suivant:\n",
    "\n",
    "* insee_nature_origine_matche.gz\n",
    "    * ex: insee_pm_initial_matche.gz\n",
    "    \n",
    "    \n",
    "\n",
    "## Moteur de recherche TEST\n",
    "\n",
    "* Insee\n",
    "  * http://avis-situation-sirene.insee.fr/IdentificationListeSiret.action\n",
    "* INPI/TC\n",
    "  * https://data.inpi.fr/\n",
    "* Infogreffe\n",
<<<<<<< Updated upstream
    "  * https://www.infogreffe.fr/\n"
=======
    "  * https://www.infogreffe.fr/\n",
    "\n",
    "\n",
    "Le siège ne donne pas de nouveau SIRET, il indique seulement le lieu de la juridiction"
>>>>>>> Stashed changes
   ]
  },
  {
   "cell_type": "code",
<<<<<<< Updated upstream
   "execution_count": null,
   "metadata": {},
   "outputs": [],
=======
   "execution_count": 1,
   "metadata": {
    "Collapsed": "false"
   },
   "outputs": [
    {
     "name": "stderr",
     "output_type": "stream",
     "text": [
      "C:\\Users\\PERNETTH\\AppData\\Local\\Continuum\\anaconda3\\lib\\site-packages\\dask\\dataframe\\utils.py:14: FutureWarning: pandas.util.testing is deprecated. Use the functions in the public API at pandas.testing instead.\n",
      "  import pandas.util.testing as tm\n"
     ]
    }
   ],
>>>>>>> Stashed changes
   "source": [
    "import boto3, json\n",
    "import dask.dataframe as dd\n",
    "import pandas as pd\n",
    "#import Match_inpi_insee.aws_connectors as aws\n",
    "#from tqdm.notebook import tqdm\n",
    "#import tqdm\n",
    "%load_ext autoreload\n",
    "%autoreload 2"
   ]
  },
  {
   "cell_type": "code",
<<<<<<< Updated upstream
   "execution_count": null,
   "metadata": {},
=======
   "execution_count": 2,
   "metadata": {
    "Collapsed": "false"
   },
>>>>>>> Stashed changes
   "outputs": [],
   "source": [
    "#instance_aws = 'https://calfdata.s3.eu-west-3.amazonaws.com'\n",
    "#bucket = 'calfdata'"
   ]
  },
  {
   "cell_type": "code",
<<<<<<< Updated upstream
   "execution_count": null,
   "metadata": {},
=======
   "execution_count": 3,
   "metadata": {
    "Collapsed": "false"
   },
>>>>>>> Stashed changes
   "outputs": [],
   "source": [
    "# instanciate AWS connection\n",
    "#AWS_connection = aws.aws_instantiate(instance_aws, bucket)"
   ]
  },
  {
   "cell_type": "markdown",
<<<<<<< Updated upstream
   "metadata": {},
=======
   "metadata": {
    "Collapsed": "false"
   },
   "source": [
    "### Créer fichier toutes les possibilités communes"
   ]
  },
  {
   "cell_type": "code",
   "execution_count": 4,
   "metadata": {
    "Collapsed": "false"
   },
   "outputs": [
    {
     "data": {
      "text/html": [
       "<div>\n",
       "<style scoped>\n",
       "    .dataframe tbody tr th:only-of-type {\n",
       "        vertical-align: middle;\n",
       "    }\n",
       "\n",
       "    .dataframe tbody tr th {\n",
       "        vertical-align: top;\n",
       "    }\n",
       "\n",
       "    .dataframe thead th {\n",
       "        text-align: right;\n",
       "    }\n",
       "</style>\n",
       "<table border=\"1\" class=\"dataframe\">\n",
       "  <thead>\n",
       "    <tr style=\"text-align: right;\">\n",
       "      <th></th>\n",
       "      <th>nccenr</th>\n",
       "      <th>libelle</th>\n",
       "    </tr>\n",
       "    <tr>\n",
       "      <th>ncc</th>\n",
       "      <th></th>\n",
       "      <th></th>\n",
       "    </tr>\n",
       "  </thead>\n",
       "  <tbody>\n",
       "    <tr>\n",
       "      <th>CHATILLON SUR CHALARONNE</th>\n",
       "      <td>Châtillon-sur-Chalaronne</td>\n",
       "      <td>Châtillon-sur-Chalaronne</td>\n",
       "    </tr>\n",
       "  </tbody>\n",
       "</table>\n",
       "</div>"
      ],
      "text/plain": [
       "                                            nccenr                   libelle\n",
       "ncc                                                                         \n",
       "CHATILLON SUR CHALARONNE  Châtillon-sur-Chalaronne  Châtillon-sur-Chalaronne"
      ]
     },
     "execution_count": 4,
     "metadata": {},
     "output_type": "execute_result"
    }
   ],
   "source": [
    "communes = pd.read_csv('temp_local\\communes-01012019.csv').set_index('ncc').reindex(columns = ['nccenr', 'libelle'])#.unstack()\n",
    "communes.loc[lambda x: x['libelle'].isin(['Châtillon-sur-Chalaronne'])]"
   ]
  },
  {
   "cell_type": "code",
   "execution_count": 5,
   "metadata": {
    "Collapsed": "false"
   },
   "outputs": [
    {
     "data": {
      "text/html": [
       "<div>\n",
       "<style scoped>\n",
       "    .dataframe tbody tr th:only-of-type {\n",
       "        vertical-align: middle;\n",
       "    }\n",
       "\n",
       "    .dataframe tbody tr th {\n",
       "        vertical-align: top;\n",
       "    }\n",
       "\n",
       "    .dataframe thead th {\n",
       "        text-align: right;\n",
       "    }\n",
       "</style>\n",
       "<table border=\"1\" class=\"dataframe\">\n",
       "  <thead>\n",
       "    <tr style=\"text-align: right;\">\n",
       "      <th></th>\n",
       "      <th>ncc</th>\n",
       "      <th>possibilite</th>\n",
       "    </tr>\n",
       "  </thead>\n",
       "  <tbody>\n",
       "    <tr>\n",
       "      <th>0</th>\n",
       "      <td>ABERGEMENT CLEMENCIAT</td>\n",
       "      <td>Abergement-Clémenciat</td>\n",
       "    </tr>\n",
       "    <tr>\n",
       "      <th>1</th>\n",
       "      <td>ABERGEMENT CLEMENCIAT</td>\n",
       "      <td>L'Abergement-Clémenciat</td>\n",
       "    </tr>\n",
       "    <tr>\n",
       "      <th>2</th>\n",
       "      <td>ABERGEMENT CLEMENCIAT</td>\n",
       "      <td>Abergement-Clemenciat</td>\n",
       "    </tr>\n",
       "    <tr>\n",
       "      <th>3</th>\n",
       "      <td>ABERGEMENT CLEMENCIAT</td>\n",
       "      <td>Abergement Clémenciat</td>\n",
       "    </tr>\n",
       "    <tr>\n",
       "      <th>4</th>\n",
       "      <td>ABERGEMENT CLEMENCIAT</td>\n",
       "      <td>L Abergement Clémenciat</td>\n",
       "    </tr>\n",
       "  </tbody>\n",
       "</table>\n",
       "</div>"
      ],
      "text/plain": [
       "                     ncc              possibilite\n",
       "0  ABERGEMENT CLEMENCIAT    Abergement-Clémenciat\n",
       "1  ABERGEMENT CLEMENCIAT  L'Abergement-Clémenciat\n",
       "2  ABERGEMENT CLEMENCIAT    Abergement-Clemenciat\n",
       "3  ABERGEMENT CLEMENCIAT    Abergement Clémenciat\n",
       "4  ABERGEMENT CLEMENCIAT  L Abergement Clémenciat"
      ]
     },
     "execution_count": 5,
     "metadata": {},
     "output_type": "execute_result"
    }
   ],
   "source": [
    "communes = (pd.read_csv('temp_local\\communes-01012019.csv')\n",
    "            .set_index('ncc')\n",
    "            .reindex(columns=['nccenr', 'libelle'])\n",
    "            .assign(\n",
    "    noaccent=lambda x: x['nccenr'].str.normalize('NFKD')\n",
    "    .str.encode('ascii', errors='ignore')\n",
    "    .str.decode('utf-8'),\n",
    "    nccenr_noponc=lambda x: x['nccenr'].str.replace('[^\\w\\s]', ' '),\n",
    "    libelle_noponc=lambda x: x['libelle'].str.replace('[^\\w\\s]', ' '),\n",
    "    noaccent_noponc=lambda x: x['noaccent'].str.replace('[^\\w\\s]', ' '),\n",
    "    uppercase=lambda x: x.index,\n",
    "    nccenr_uppercase=lambda x: x['nccenr'].str.upper(),\n",
    "    libelle_uppercase=lambda x: x['libelle'].str.upper(),\n",
    "    noaccent_uppercase=lambda x: x['noaccent'].str.upper(),\n",
    "    nccenr_noponc_uppercase=lambda x: x['nccenr_noponc'].str.upper(),\n",
    "    libelle_noponc_uppercase=lambda x: x['libelle_noponc'].str.upper(),\n",
    "    noaccent_noponc_uppercase=lambda x: x['noaccent_noponc'].str.upper(),\n",
    "    nccenr_lowercase=lambda x: x['nccenr'].str.lower(),\n",
    "    libelle_lowercase=lambda x: x['libelle'].str.lower(),\n",
    "    noaccent_lowercase=lambda x: x['noaccent'].str.lower(),\n",
    "    nccenr_noponc_lowercase=lambda x: x['nccenr_noponc'].str.lower(),\n",
    "    libelle_noponc_lowercase=lambda x: x['libelle_noponc'].str.lower(),\n",
    "    noaccent_noponc_lowercase=lambda x: x['noaccent_noponc'].str.lower(),\n",
    "    nccenr_noarrond1=lambda x: x['nccenr'].str.replace(\n",
    "        'er Arrondissement', ''),\n",
    "    uppercase_noarrond1=lambda x: x['uppercase'].str.replace(\n",
    "        'ER ARRONDISSEMENT', ''),\n",
    "    lowercase_noarrond1=lambda x: x['nccenr_lowercase'].str.replace(\n",
    "        'er arrondissement', ''),\n",
    "    nccenr_noarrond=lambda x: x['nccenr'].str.replace('e Arrondissement', ''),\n",
    "    uppercase_noarrond=lambda x: x['uppercase'].str.replace(\n",
    "        'E ARRONDISSEMENT', ''),\n",
    "    lowercase_noarrond=lambda x: x['nccenr_lowercase'].str.replace(\n",
    "        'e arrondissement', ''),\n",
    ")\n",
    ")\n",
    "\n",
    "for n in communes.columns:\n",
    "    var_ = '{}_ST'.format(n)\n",
    "    var_1 = '{}_st'.format(n)\n",
    "    var_2 = '{}_St'.format(n)\n",
    "    \n",
    "    communes[var_] = communes[n].str.replace('SAINT', 'ST')\n",
    "    communes[var_1] = communes[n].str.replace('Saint', 'st')\n",
    "    communes[var_2] = communes[n].str.replace('Saint', 'St')\n",
    "    \n",
    "    var_ = '{}_Sbar'.format(n)\n",
    "    var_1 = '{}_sbar'.format(n)\n",
    "    \n",
    "    communes[var_] = communes[n].str.replace('SUR', 'S/')\n",
    "    communes[var_1] = communes[n].str.replace('sur', 's/')\n",
    "    \n",
    "communes = (communes\n",
    "            .stack()\n",
    "            .rename('possibilite')\n",
    "            .reset_index()\n",
    "            .drop(columns='level_1')\n",
    "            .drop_duplicates(subset=['possibilite']))\n",
    "communes.head()"
   ]
  },
  {
   "cell_type": "markdown",
   "metadata": {
    "Collapsed": "false"
   },
>>>>>>> Stashed changes
   "source": [
    "## Valeurs communes dans INSEE/INPI ETS\n",
    "\n",
    "| INSEE                     | INPI         |                         |\n",
    "|---------------------------|--------------|-------------------------|\n",
    "| Var                       | Var          | comment                 |\n",
    "| siren                     | Siren        |                         |\n",
    "| codePostalEtablissement   | Code_Postal  | Si Type == 'principale' |\n",
    "| codePostal2Etablissement  | Code_Postal  | Si Type == 'secondaire' |\n",
    "| codeCommuneEtablissement  | Code_Commune | Si Type == 'principale' |\n",
    "| codeCommune2Etablissement | Code_Commune | Si Type == 'secondaire' |\n",
    "|                           |              |                         |\n",
    "|                           |              |                         |\n",
    "|                           |              |                         |"
   ]
  },
  {
   "cell_type": "code",
<<<<<<< Updated upstream
   "execution_count": null,
   "metadata": {},
=======
   "execution_count": 6,
   "metadata": {
    "Collapsed": "false"
   },
>>>>>>> Stashed changes
   "outputs": [],
   "source": [
    "#insee = AWS_connection.url_instance_bucket(path_file = 'INSEE/Stock/ETS/StockEtablissement_utf8.csv')\n",
    "#ets = AWS_connection.url_instance_bucket(path_file = 'INPI/TC_1/Stock_processed/initial_ETS.gz')\n",
    "#ets"
   ]
  },
  {
   "cell_type": "code",
<<<<<<< Updated upstream
   "execution_count": null,
   "metadata": {},
=======
   "execution_count": 7,
   "metadata": {
    "Collapsed": "false"
   },
>>>>>>> Stashed changes
   "outputs": [],
   "source": [
    "insee = r\"\\temp_local\\StockEtablissement_utf8.csv\"\n",
    "ets = r\"\\temp_local\\initial_ETS.gz\""
   ]
  },
  {
   "cell_type": "markdown",
<<<<<<< Updated upstream
   "metadata": {},
=======
   "metadata": {
    "Collapsed": "false"
   },
>>>>>>> Stashed changes
   "source": [
    "## Matching établissement principal\n",
    "\n",
    "Ici, on filtre les variables communes pour l'INSEE & INPI établissements secondaires.\n",
    "\n",
    "### Candidats\n",
    "\n",
    "**INSEE**\n",
    "\n",
    "https://www.sirene.fr/sirene/public/static/liste-variables\n",
    "\n",
    "- numeroVoieEtablissement: https://www.sirene.fr/sirene/public/static/liste-variables/numeroVoieEtablissement\n",
    "- indiceRepetitionEtablissement: https://www.sirene.fr/sirene/public/static/liste-variables/indiceRepetitionEtablissement\n",
    "- typeVoieEtablissement: https://www.sirene.fr/sirene/public/static/liste-variables/typeVoieEtablissement\n",
    "- libelleVoieEtablissement: https://www.sirene.fr/sirene/public/static/liste-variables/libelleVoieEtablissement\n",
    "- complementAdresseEtablissement: https://www.sirene.fr/sirene/public/static/liste-variables/complementAdresseEtablissement\n",
    "- codeCommuneEtablissement: https://www.sirene.fr/sirene/public/static/liste-variables/codeCommuneEtablissement\n",
    "- libelleCommuneEtablissement: https://www.sirene.fr/sirene/public/static/liste-variables/libelleCommuneEtablissement\n",
    "- codePostalEtablissement: https://www.sirene.fr/sirene/public/static/liste-variables/codePostalEtablissement\n",
    "- codeCedexEtablissement: https://www.sirene.fr/sirene/public/static/liste-variables/codeCedexEtablissement\n",
    "- libelleCedexEtablissement: https://www.sirene.fr/sirene/public/static/liste-variables/libelleCedexEtablissement\n",
    "- distributionSpecialeEtablissement: https://www.sirene.fr/sirene/public/static/liste-variables/distributionSpecialeEtablissement\n",
    "- libelleCommuneEtrangerEtablissement: https://www.sirene.fr/sirene/public/static/liste-variables/libelleCommuneEtrangerEtablissement\n",
    "- codePaysEtrangerEtablissement: https://www.sirene.fr/sirene/public/static/liste-variables/codePaysEtrangerEtablissement\n",
    "- libellePaysEtrangerEtablissement: https://www.sirene.fr/sirene/public/static/liste-variables/libellePaysEtrangerEtablissement\n",
    "\n",
    "**INPI**\n",
    "\n",
    "- Adresse_Ligne1/Adresse_Ligne2/Adresse_Ligne3: Selon les greffes, l’adresse (n°+ voie) sera présente soit en ligne1 adresse, soit en ligne2 adresse.\n",
    "Toutes les lignes d’adresse ne sont pas nécessairement renseignées.\n",
    "\n",
    "\n",
    "### Process\n",
    "\n",
<<<<<<< Updated upstream
    "Calculer le nombre de `nan` dans les colonnes de matching"
=======
    "1) Step : Calculer le nombre de `nan` dans les colonnes de matching\n",
    "2) Step : Compter le nombre de SIRET by SIREN\n",
    "2) Step 2:  merge sur siren et code postal\n",
    "3) Step 3:  merge sur siren et code commune"
>>>>>>> Stashed changes
   ]
  },
  {
   "cell_type": "code",
<<<<<<< Updated upstream
   "execution_count": null,
   "metadata": {},
=======
   "execution_count": 8,
   "metadata": {
    "Collapsed": "false"
   },
>>>>>>> Stashed changes
   "outputs": [],
   "source": [
    "# load data into dataframes\n",
    "data_insee_ = dd.read_csv(insee,\n",
    "                          usecols=['siren',\n",
    "                                   'siret',\n",
    "                                   \"numeroVoieEtablissement\",\n",
    "                                   \"indiceRepetitionEtablissement\",\n",
    "                                   \"typeVoieEtablissement\",\n",
    "                                   \"libelleVoieEtablissement\",\n",
    "                                   \"complementAdresseEtablissement\",\n",
    "                                   \"codeCommuneEtablissement\",\n",
    "                                   \"libelleCommuneEtablissement\",\n",
    "                                   \"codePostalEtablissement\",\n",
    "                                   \"codeCedexEtablissement\",\n",
    "                                   \"libelleCedexEtablissement\",\n",
    "                                   \"distributionSpecialeEtablissement\",\n",
    "                                   \"libelleCommuneEtrangerEtablissement\",\n",
    "                                   \"codePaysEtrangerEtablissement\",\n",
    "                                   \"libellePaysEtrangerEtablissement\"\n",
    "                                   ],\n",
    "                          dtype={'siren': 'object',\n",
    "                                 'siret': 'object',\n",
    "                                 \"numeroVoieEtablissement\":'object',\n",
    "                                   \"indiceRepetitionEtablissement\":'object',\n",
    "                                   \"typeVoieEtablissement\":'object',\n",
    "                                   \"libelleVoieEtablissement\":'object',\n",
    "                                   \"complementAdresseEtablissement\":'object',\n",
    "                                   \"codeCommuneEtablissement\":'object',\n",
    "                                   \"libelleCommuneEtablissement\":'object',\n",
    "                                   \"codePostalEtablissement\":'object',\n",
    "                                   \"codeCedexEtablissement\":'object',\n",
    "                                   \"libelleCedexEtablissement\":'object',\n",
    "                                   \"distributionSpecialeEtablissement\":'object',\n",
    "                                   \"libelleCommuneEtrangerEtablissement\":'object',\n",
    "                                   \"codePaysEtrangerEtablissement\":'object',\n",
    "                                   \"libellePaysEtrangerEtablissement\":'object'\n",
    "                                 }\n",
    "                          )\n",
    "\n",
    "data_ets_ = (dd.read_csv(ets,\n",
    "                         usecols=[\n",
    "                             'Type',\n",
    "                             'Siren',\n",
    "                             'Code_Postal',\n",
    "                             'Code_Commune',\n",
    "                             'Adresse_Ligne1',\n",
    "                             'Adresse_Ligne2',\n",
    "                             'Adresse_Ligne3',\n",
    "                             'Ville',\n",
    "                             'Pays'\n",
    "                         ],\n",
    "                         dtype={\n",
    "                             'Type': 'object',\n",
    "                             'Siren': 'object',\n",
    "                             'Code_Postal': 'object',\n",
    "                             'Code_Commune': 'object',\n",
    "                             'Adresse_Ligne1': 'object',\n",
    "                             'Adresse_Ligne2': 'object',\n",
    "                             'Adresse_Ligne3': 'object',\n",
    "                             'Ville':'object',\n",
    "                             'Pays':'object'\n",
    "                         },\n",
    "                         compression='gzip',\n",
    "                         blocksize=None,\n",
    "                         low_memory=False\n",
    "                         )\n",
    "             .compute()\n",
    "             .rename(columns={\"Siren\": \"siren\"})\n",
<<<<<<< Updated upstream
    "             .loc[lambda x: x['Type'].isin(['PRI'])]\n",
=======
    "             .loc[lambda x: ~x['Type'].isin(['SIE'])]\n",
>>>>>>> Stashed changes
    "             )"
   ]
  },
  {
   "cell_type": "code",
<<<<<<< Updated upstream
   "execution_count": null,
   "metadata": {},
   "outputs": [],
=======
   "execution_count": 9,
   "metadata": {
    "Collapsed": "false"
   },
   "outputs": [
    {
     "data": {
      "text/plain": [
       "(5204825, 9)"
      ]
     },
     "execution_count": 9,
     "metadata": {},
     "output_type": "execute_result"
    }
   ],
>>>>>>> Stashed changes
   "source": [
    "data_ets_.shape"
   ]
  },
  {
   "cell_type": "code",
<<<<<<< Updated upstream
   "execution_count": null,
   "metadata": {},
   "outputs": [],
=======
   "execution_count": 10,
   "metadata": {
    "Collapsed": "false"
   },
   "outputs": [
    {
     "data": {
      "text/plain": [
       "4711793"
      ]
     },
     "execution_count": 10,
     "metadata": {},
     "output_type": "execute_result"
    }
   ],
>>>>>>> Stashed changes
   "source": [
    "siren_inpi = data_ets_['siren'].drop_duplicates()\n",
    "len(siren_inpi)"
   ]
  },
  {
   "cell_type": "code",
<<<<<<< Updated upstream
   "execution_count": null,
   "metadata": {},
   "outputs": [],
=======
   "execution_count": 11,
   "metadata": {
    "Collapsed": "false"
   },
   "outputs": [
    {
     "data": {
      "text/plain": [
       "(7913811, 16)"
      ]
     },
     "execution_count": 11,
     "metadata": {},
     "output_type": "execute_result"
    }
   ],
>>>>>>> Stashed changes
   "source": [
    "subset_insee = data_insee_.compute().loc[lambda x: x['siren'].isin(siren_inpi)]\n",
    "subset_insee.shape"
   ]
  },
  {
   "cell_type": "markdown",
<<<<<<< Updated upstream
   "metadata": {},
=======
   "metadata": {
    "Collapsed": "false"
   },
>>>>>>> Stashed changes
   "source": [
    "Siren INPI mais pas INSEE -> Cette entreprise a exercé son droit d'opposition auprès de l'INSEE. Ses données ne peuvent pas être diffusées publiquement."
   ]
  },
  {
   "cell_type": "code",
<<<<<<< Updated upstream
   "execution_count": null,
   "metadata": {},
   "outputs": [],
=======
   "execution_count": 12,
   "metadata": {
    "Collapsed": "false"
   },
   "outputs": [
    {
     "data": {
      "text/plain": [
       "68569"
      ]
     },
     "execution_count": 12,
     "metadata": {},
     "output_type": "execute_result"
    }
   ],
>>>>>>> Stashed changes
   "source": [
    "siren_to_remove = siren_inpi.loc[lambda x : ~x.isin(subset_insee['siren'])]\n",
    "len(siren_to_remove)"
   ]
  },
  {
   "cell_type": "code",
<<<<<<< Updated upstream
   "execution_count": null,
   "metadata": {},
   "outputs": [],
=======
   "execution_count": 13,
   "metadata": {
    "Collapsed": "false"
   },
   "outputs": [
    {
     "data": {
      "text/plain": [
       "5128080"
      ]
     },
     "execution_count": 13,
     "metadata": {},
     "output_type": "execute_result"
    }
   ],
>>>>>>> Stashed changes
   "source": [
    "df_siren_to_find = data_ets_.loc[lambda x:\n",
    "                                 (~x['siren'].isin(siren_to_remove))\n",
    "                                 #| (~x['Adresse_Ligne1'].isin([np.nan]))\n",
    "                                 #& (~x['Adresse_Ligne2'].isin([np.nan]))\n",
    "                                 #& (~x['Adresse_Ligne3'].isin([np.nan]))\n",
    "                                 #& (~x['Code_Postal'].isin([np.nan]))\n",
    "                                 #& (~x['Ville'].isin([np.nan]))\n",
    "                                 #& (~x['Code_Commune'].isin([np.nan]))\n",
    "                                 ]\n",
<<<<<<< Updated upstream
    "len(siren_to_find)"
=======
    "len(df_siren_to_find)"
>>>>>>> Stashed changes
   ]
  },
  {
   "cell_type": "markdown",
<<<<<<< Updated upstream
   "metadata": {},
   "source": [
    "### Nan variables matching \n",
    "\n",
    "on exclue les variables avec que des nan dans les variables candidates"
=======
   "metadata": {
    "Collapsed": "false"
   },
   "source": [
    "### Nan variables matching \n",
    "\n",
    "on exclue les variables avec que des nan dans les variables candidates\n",
    "\n",
    "-> on les traitera après"
>>>>>>> Stashed changes
   ]
  },
  {
   "cell_type": "code",
<<<<<<< Updated upstream
   "execution_count": null,
   "metadata": {},
=======
   "execution_count": 14,
   "metadata": {
    "Collapsed": "false"
   },
>>>>>>> Stashed changes
   "outputs": [],
   "source": [
    "import numpy as np\n",
    "siren_fullna = df_siren_to_find.loc[lambda x:\n",
    "                      (x['Adresse_Ligne1'].isin([np.nan]))\n",
    "                     & (x['Adresse_Ligne2'].isin([np.nan]))\n",
    "                     & (x['Adresse_Ligne3'].isin([np.nan]))\n",
    "                     & (x['Code_Postal'].isin([np.nan]))\n",
    "                     & (x['Ville'].isin([np.nan]))\n",
    "                     & (x['Code_Commune'].isin([np.nan]))\n",
    "                     ]['siren']"
   ]
  },
  {
   "cell_type": "code",
<<<<<<< Updated upstream
   "execution_count": null,
   "metadata": {},
   "outputs": [],
=======
   "execution_count": 15,
   "metadata": {
    "Collapsed": "false"
   },
   "outputs": [
    {
     "data": {
      "text/plain": [
       "10042"
      ]
     },
     "execution_count": 15,
     "metadata": {},
     "output_type": "execute_result"
    }
   ],
>>>>>>> Stashed changes
   "source": [
    "df_siren_to_find = df_siren_to_find.loc[lambda x:\n",
    "                                 (~x['siren'].isin(siren_fullna))\n",
    "                                 ]\n",
    "len(siren_fullna)"
   ]
  },
  {
   "cell_type": "code",
<<<<<<< Updated upstream
   "execution_count": null,
   "metadata": {},
   "outputs": [],
=======
   "execution_count": 16,
   "metadata": {
    "Collapsed": "false"
   },
   "outputs": [
    {
     "data": {
      "text/plain": [
       "(5116526, 9)"
      ]
     },
     "execution_count": 16,
     "metadata": {},
     "output_type": "execute_result"
    }
   ],
>>>>>>> Stashed changes
   "source": [
    "df_siren_to_find.shape"
   ]
  },
  {
   "cell_type": "markdown",
<<<<<<< Updated upstream
   "metadata": {},
   "source": [
    "Quick stat"
=======
   "metadata": {
    "Collapsed": "false"
   },
   "source": [
    "### Nombres d'ets par SIREN INSEE\n",
    "\n",
    "On calcule le nombre d'etb pour le fichier INSEE."
>>>>>>> Stashed changes
   ]
  },
  {
   "cell_type": "code",
<<<<<<< Updated upstream
   "execution_count": null,
   "metadata": {},
   "outputs": [],
   "source": [
    "(subset_insee\n",
    " .groupby('siren')['siren']\n",
    " .count()\n",
    " .rename('count')\n",
    " .reset_index()\n",
    " .groupby('count')['count']\n",
    " .count()\n",
    " .reset_index(name = 'total_count')\n",
    " .set_index('count')\n",
    " #.compute()\n",
    " .assign(pct=lambda x: x/x.sum())\n",
    " .iloc[:10,:]\n",
    " .style\n",
    " .format('{:,.2%}', subset=['pct'])\n",
    " )"
=======
   "execution_count": 17,
   "metadata": {
    "Collapsed": "false"
   },
   "outputs": [],
   "source": [
    "subset_insee_count = subset_insee.merge(\n",
    "    (subset_insee\n",
    "     .groupby('siren')['siren']\n",
    "     .count()\n",
    "     .rename('count')\n",
    "     .reset_index())\n",
    ")"
>>>>>>> Stashed changes
   ]
  },
  {
   "cell_type": "code",
<<<<<<< Updated upstream
   "execution_count": null,
   "metadata": {},
   "outputs": [],
   "source": [
    "df_siren_to_find['Type'].unique()"
=======
   "execution_count": 18,
   "metadata": {
    "Collapsed": "false"
   },
   "outputs": [],
   "source": [
    "def siren_unique(df):\n",
    "    \"\"\"\n",
    "    \"\"\"\n",
    "    print(\"Nombre total obs: {}\".format(len(df)))\n",
    "    count_ = (df\n",
    "              .groupby('siren')['siren']\n",
    "              .count()\n",
    "              .rename('count')\n",
    "              .reset_index()\n",
    "              .groupby('count')['count']\n",
    "              .count()\n",
    "              .reset_index(name='total_count')\n",
    "              .set_index('count')\n",
    "              # .compute()\n",
    "              .assign(pct=lambda x: x/x.sum())\n",
    "              .iloc[:10, :]\n",
    "              .style\n",
    "              .format('{:,.2%}', subset=['pct'])\n",
    "              )\n",
    "    return count_"
>>>>>>> Stashed changes
   ]
  },
  {
   "cell_type": "markdown",
<<<<<<< Updated upstream
   "metadata": {},
   "source": [
    "## Missing values"
=======
   "metadata": {
    "Collapsed": "false"
   },
   "source": [
    "Quick stat"
>>>>>>> Stashed changes
   ]
  },
  {
   "cell_type": "code",
<<<<<<< Updated upstream
   "execution_count": null,
   "metadata": {},
   "outputs": [],
   "source": [
    "data_insee_.isna().sum().compute()"
=======
   "execution_count": 19,
   "metadata": {
    "Collapsed": "false"
   },
   "outputs": [
    {
     "name": "stdout",
     "output_type": "stream",
     "text": [
      "Nombre total obs: 7913811\n"
     ]
    },
    {
     "data": {
      "text/html": [
       "<style  type=\"text/css\" >\n",
       "</style><table id=\"T_bafd7798_4c91_11ea_9fb6_c8f750ddb9e6\" ><thead>    <tr>        <th class=\"blank level0\" ></th>        <th class=\"col_heading level0 col0\" >total_count</th>        <th class=\"col_heading level0 col1\" >pct</th>    </tr>    <tr>        <th class=\"index_name level0\" >count</th>        <th class=\"blank\" ></th>        <th class=\"blank\" ></th>    </tr></thead><tbody>\n",
       "                <tr>\n",
       "                        <th id=\"T_bafd7798_4c91_11ea_9fb6_c8f750ddb9e6level0_row0\" class=\"row_heading level0 row0\" >1</th>\n",
       "                        <td id=\"T_bafd7798_4c91_11ea_9fb6_c8f750ddb9e6row0_col0\" class=\"data row0 col0\" >3012471</td>\n",
       "                        <td id=\"T_bafd7798_4c91_11ea_9fb6_c8f750ddb9e6row0_col1\" class=\"data row0 col1\" >64.88%</td>\n",
       "            </tr>\n",
       "            <tr>\n",
       "                        <th id=\"T_bafd7798_4c91_11ea_9fb6_c8f750ddb9e6level0_row1\" class=\"row_heading level0 row1\" >2</th>\n",
       "                        <td id=\"T_bafd7798_4c91_11ea_9fb6_c8f750ddb9e6row1_col0\" class=\"data row1 col0\" >1055056</td>\n",
       "                        <td id=\"T_bafd7798_4c91_11ea_9fb6_c8f750ddb9e6row1_col1\" class=\"data row1 col1\" >22.72%</td>\n",
       "            </tr>\n",
       "            <tr>\n",
       "                        <th id=\"T_bafd7798_4c91_11ea_9fb6_c8f750ddb9e6level0_row2\" class=\"row_heading level0 row2\" >3</th>\n",
       "                        <td id=\"T_bafd7798_4c91_11ea_9fb6_c8f750ddb9e6row2_col0\" class=\"data row2 col0\" >337877</td>\n",
       "                        <td id=\"T_bafd7798_4c91_11ea_9fb6_c8f750ddb9e6row2_col1\" class=\"data row2 col1\" >7.28%</td>\n",
       "            </tr>\n",
       "            <tr>\n",
       "                        <th id=\"T_bafd7798_4c91_11ea_9fb6_c8f750ddb9e6level0_row3\" class=\"row_heading level0 row3\" >4</th>\n",
       "                        <td id=\"T_bafd7798_4c91_11ea_9fb6_c8f750ddb9e6row3_col0\" class=\"data row3 col0\" >123192</td>\n",
       "                        <td id=\"T_bafd7798_4c91_11ea_9fb6_c8f750ddb9e6row3_col1\" class=\"data row3 col1\" >2.65%</td>\n",
       "            </tr>\n",
       "            <tr>\n",
       "                        <th id=\"T_bafd7798_4c91_11ea_9fb6_c8f750ddb9e6level0_row4\" class=\"row_heading level0 row4\" >5</th>\n",
       "                        <td id=\"T_bafd7798_4c91_11ea_9fb6_c8f750ddb9e6row4_col0\" class=\"data row4 col0\" >50644</td>\n",
       "                        <td id=\"T_bafd7798_4c91_11ea_9fb6_c8f750ddb9e6row4_col1\" class=\"data row4 col1\" >1.09%</td>\n",
       "            </tr>\n",
       "            <tr>\n",
       "                        <th id=\"T_bafd7798_4c91_11ea_9fb6_c8f750ddb9e6level0_row5\" class=\"row_heading level0 row5\" >6</th>\n",
       "                        <td id=\"T_bafd7798_4c91_11ea_9fb6_c8f750ddb9e6row5_col0\" class=\"data row5 col0\" >23120</td>\n",
       "                        <td id=\"T_bafd7798_4c91_11ea_9fb6_c8f750ddb9e6row5_col1\" class=\"data row5 col1\" >0.50%</td>\n",
       "            </tr>\n",
       "            <tr>\n",
       "                        <th id=\"T_bafd7798_4c91_11ea_9fb6_c8f750ddb9e6level0_row6\" class=\"row_heading level0 row6\" >7</th>\n",
       "                        <td id=\"T_bafd7798_4c91_11ea_9fb6_c8f750ddb9e6row6_col0\" class=\"data row6 col0\" >11773</td>\n",
       "                        <td id=\"T_bafd7798_4c91_11ea_9fb6_c8f750ddb9e6row6_col1\" class=\"data row6 col1\" >0.25%</td>\n",
       "            </tr>\n",
       "            <tr>\n",
       "                        <th id=\"T_bafd7798_4c91_11ea_9fb6_c8f750ddb9e6level0_row7\" class=\"row_heading level0 row7\" >8</th>\n",
       "                        <td id=\"T_bafd7798_4c91_11ea_9fb6_c8f750ddb9e6row7_col0\" class=\"data row7 col0\" >6568</td>\n",
       "                        <td id=\"T_bafd7798_4c91_11ea_9fb6_c8f750ddb9e6row7_col1\" class=\"data row7 col1\" >0.14%</td>\n",
       "            </tr>\n",
       "            <tr>\n",
       "                        <th id=\"T_bafd7798_4c91_11ea_9fb6_c8f750ddb9e6level0_row8\" class=\"row_heading level0 row8\" >9</th>\n",
       "                        <td id=\"T_bafd7798_4c91_11ea_9fb6_c8f750ddb9e6row8_col0\" class=\"data row8 col0\" >4172</td>\n",
       "                        <td id=\"T_bafd7798_4c91_11ea_9fb6_c8f750ddb9e6row8_col1\" class=\"data row8 col1\" >0.09%</td>\n",
       "            </tr>\n",
       "            <tr>\n",
       "                        <th id=\"T_bafd7798_4c91_11ea_9fb6_c8f750ddb9e6level0_row9\" class=\"row_heading level0 row9\" >10</th>\n",
       "                        <td id=\"T_bafd7798_4c91_11ea_9fb6_c8f750ddb9e6row9_col0\" class=\"data row9 col0\" >2797</td>\n",
       "                        <td id=\"T_bafd7798_4c91_11ea_9fb6_c8f750ddb9e6row9_col1\" class=\"data row9 col1\" >0.06%</td>\n",
       "            </tr>\n",
       "    </tbody></table>"
      ],
      "text/plain": [
       "<pandas.io.formats.style.Styler at 0x2bc3c7066c8>"
      ]
     },
     "execution_count": 19,
     "metadata": {},
     "output_type": "execute_result"
    }
   ],
   "source": [
    "siren_unique(df = subset_insee_count)"
>>>>>>> Stashed changes
   ]
  },
  {
   "cell_type": "code",
<<<<<<< Updated upstream
   "execution_count": null,
   "metadata": {},
   "outputs": [],
   "source": [
=======
   "execution_count": 20,
   "metadata": {
    "Collapsed": "false"
   },
   "outputs": [
    {
     "data": {
      "text/html": [
       "<div>\n",
       "<style scoped>\n",
       "    .dataframe tbody tr th:only-of-type {\n",
       "        vertical-align: middle;\n",
       "    }\n",
       "\n",
       "    .dataframe tbody tr th {\n",
       "        vertical-align: top;\n",
       "    }\n",
       "\n",
       "    .dataframe thead th {\n",
       "        text-align: right;\n",
       "    }\n",
       "</style>\n",
       "<table border=\"1\" class=\"dataframe\">\n",
       "  <thead>\n",
       "    <tr style=\"text-align: right;\">\n",
       "      <th></th>\n",
       "      <th>siren</th>\n",
       "      <th>Type</th>\n",
       "      <th>Adresse_Ligne1</th>\n",
       "      <th>Adresse_Ligne2</th>\n",
       "      <th>Adresse_Ligne3</th>\n",
       "      <th>Code_Postal</th>\n",
       "      <th>Ville</th>\n",
       "      <th>Code_Commune</th>\n",
       "      <th>Pays</th>\n",
       "    </tr>\n",
       "  </thead>\n",
       "  <tbody>\n",
       "    <tr>\n",
       "      <th>2151003</th>\n",
       "      <td>999990229</td>\n",
       "      <td>SEC</td>\n",
       "      <td>10</td>\n",
       "      <td>LIEU-DIT L' ARCHEVEQUE - RN</td>\n",
       "      <td>LORMONT</td>\n",
       "      <td>33310</td>\n",
       "      <td>Lormont</td>\n",
       "      <td>33249</td>\n",
       "      <td>FRANCE</td>\n",
       "    </tr>\n",
       "    <tr>\n",
       "      <th>3762799</th>\n",
       "      <td>999990229</td>\n",
       "      <td>SEC</td>\n",
       "      <td>zone industrielle de la Pilaterie II</td>\n",
       "      <td>NaN</td>\n",
       "      <td>NaN</td>\n",
       "      <td>59290</td>\n",
       "      <td>Wasquehal</td>\n",
       "      <td>59646</td>\n",
       "      <td>France</td>\n",
       "    </tr>\n",
       "    <tr>\n",
       "      <th>5900497</th>\n",
       "      <td>999990229</td>\n",
       "      <td>SEC</td>\n",
       "      <td>NaN</td>\n",
       "      <td>BD ARAGO NO 41 DE VILLEMILAU</td>\n",
       "      <td>NaN</td>\n",
       "      <td>91320</td>\n",
       "      <td>Wissous</td>\n",
       "      <td>91689</td>\n",
       "      <td>FRANCE</td>\n",
       "    </tr>\n",
       "  </tbody>\n",
       "</table>\n",
       "</div>"
      ],
      "text/plain": [
       "             siren Type                        Adresse_Ligne1  \\\n",
       "2151003  999990229  SEC                                  10     \n",
       "3762799  999990229  SEC  zone industrielle de la Pilaterie II   \n",
       "5900497  999990229  SEC                                   NaN   \n",
       "\n",
       "                        Adresse_Ligne2 Adresse_Ligne3 Code_Postal      Ville  \\\n",
       "2151003    LIEU-DIT L' ARCHEVEQUE - RN        LORMONT       33310    Lormont   \n",
       "3762799                            NaN            NaN       59290  Wasquehal   \n",
       "5900497   BD ARAGO NO 41 DE VILLEMILAU            NaN       91320    Wissous   \n",
       "\n",
       "        Code_Commune    Pays  \n",
       "2151003        33249  FRANCE  \n",
       "3762799        59646  France  \n",
       "5900497        91689  FRANCE  "
      ]
     },
     "execution_count": 20,
     "metadata": {},
     "output_type": "execute_result"
    }
   ],
   "source": [
    "df_siren_to_find.loc[lambda x: x['siren'].isin(['999990229'])]"
   ]
  },
  {
   "cell_type": "code",
   "execution_count": 21,
   "metadata": {
    "Collapsed": "false"
   },
   "outputs": [],
   "source": [
    "#(subset_insee_count\n",
    "# .loc[lambda x: x['count'].isin([1])]\n",
    "# .merge(\n",
    "#     df_siren_to_find,\n",
    "#     on='siren',\n",
    "#     how='left',\n",
    "#     indicator=True)\n",
    "# )"
   ]
  },
  {
   "cell_type": "markdown",
   "metadata": {
    "Collapsed": "false"
   },
   "source": [
    "## Missing values"
   ]
  },
  {
   "cell_type": "code",
   "execution_count": 22,
   "metadata": {
    "Collapsed": "false"
   },
   "outputs": [
    {
     "data": {
      "text/plain": [
       "siren                                        0\n",
       "count                                        0\n",
       "siret                                        0\n",
       "codePostalEtablissement                   9950\n",
       "codeCommuneEtablissement                  9950\n",
       "libelleCommuneEtablissement               9950\n",
       "libelleVoieEtablissement                110636\n",
       "typeVoieEtablissement                  1130892\n",
       "numeroVoieEtablissement                1756501\n",
       "complementAdresseEtablissement         6249921\n",
       "indiceRepetitionEtablissement          7604383\n",
       "distributionSpecialeEtablissement      7840438\n",
       "codeCedexEtablissement                 7840969\n",
       "libelleCedexEtablissement              7842899\n",
       "libellePaysEtrangerEtablissement       7903999\n",
       "codePaysEtrangerEtablissement          7903999\n",
       "libelleCommuneEtrangerEtablissement    7905985\n",
       "dtype: int64"
      ]
     },
     "execution_count": 22,
     "metadata": {},
     "output_type": "execute_result"
    }
   ],
   "source": [
    "subset_insee_count.isna().sum().sort_values()"
   ]
  },
  {
   "cell_type": "code",
   "execution_count": 23,
   "metadata": {
    "Collapsed": "false"
   },
   "outputs": [
    {
     "data": {
      "text/plain": [
       "siren                   0\n",
       "Type                    0\n",
       "Pays                   46\n",
       "Ville                7102\n",
       "Code_Postal         10092\n",
       "Code_Commune       230022\n",
       "Adresse_Ligne2    2129886\n",
       "Adresse_Ligne1    2783090\n",
       "Adresse_Ligne3    4384313\n",
       "dtype: int64"
      ]
     },
     "execution_count": 23,
     "metadata": {},
     "output_type": "execute_result"
    }
   ],
   "source": [
>>>>>>> Stashed changes
    "df_siren_to_find.isna().sum().sort_values()"
   ]
  },
  {
   "cell_type": "code",
<<<<<<< Updated upstream
   "execution_count": null,
   "metadata": {},
   "outputs": [],
=======
   "execution_count": 24,
   "metadata": {
    "Collapsed": "false"
   },
   "outputs": [
    {
     "data": {
      "text/plain": [
       "(5116526, 9)"
      ]
     },
     "execution_count": 24,
     "metadata": {},
     "output_type": "execute_result"
    }
   ],
>>>>>>> Stashed changes
   "source": [
    "df_siren_to_find.shape"
   ]
  },
  {
   "cell_type": "code",
<<<<<<< Updated upstream
   "execution_count": null,
   "metadata": {},
   "outputs": [],
   "source": [
    "def mergeInseeEtbs(dataETBS, left_on, right_on):\n",
    "    \"\"\"\n",
    "    \"\"\"\n",
    "    \n",
    "    var_insee = ['siret',\n",
=======
   "execution_count": 25,
   "metadata": {
    "Collapsed": "false"
   },
   "outputs": [],
   "source": [
    "var_insee = ['siret',\n",
>>>>>>> Stashed changes
    "             \"numeroVoieEtablissement\",\n",
    "             \"indiceRepetitionEtablissement\",\n",
    "             \"typeVoieEtablissement\",\n",
    "             \"libelleVoieEtablissement\",\n",
    "             \"complementAdresseEtablissement\",\n",
    "             \"codeCommuneEtablissement\",\n",
    "             \"libelleCommuneEtablissement\",\n",
    "             \"codePostalEtablissement\",\n",
    "             \"codeCedexEtablissement\",\n",
    "             \"libelleCedexEtablissement\",\n",
    "             \"distributionSpecialeEtablissement\",\n",
    "             \"libelleCommuneEtrangerEtablissement\",\n",
    "             \"codePaysEtrangerEtablissement\",\n",
    "             \"libellePaysEtrangerEtablissement\",\n",
<<<<<<< Updated upstream
    "             '_merge'\n",
    "             ]\n",
    "    \n",
    "    data_merged_1 = (subset_insee\n",
=======
    "             '_merge',\n",
    "             'count'\n",
    "             ]\n",
    "def mergeInseeEtbs(df_insee, dataETBS, left_on, right_on, var_to_drop):\n",
    "    \"\"\"\n",
    "    \"\"\"\n",
    "    \n",
    "    data_merged_1 = (df_insee\n",
>>>>>>> Stashed changes
    "                     .merge(\n",
    "                         dataETBS,\n",
    "                         how='right',\n",
    "                         left_on=left_on,\n",
    "                         right_on=right_on,\n",
    "                         indicator=True)\n",
    "                     # .compute()\n",
    "                     )\n",
    "    ### remove INSEE variables in data_merge_1\n",
    "    unmatched_1 = (data_merged_1\n",
    "             .loc[lambda x: x['_merge'].isin([\"right_only\"])]\n",
<<<<<<< Updated upstream
    "             .drop(columns  = var_insee)\n",
=======
    "             .drop(columns  = var_to_drop)\n",
>>>>>>> Stashed changes
    "            )\n",
    "    \n",
    "    ### compute count merged:unmerged\n",
    "    count_ = data_merged_1.groupby('_merge')[\"_merge\"].count()\n",
    "    \n",
    "    dic_ = {\n",
    "        'unmerged':unmatched_1, \n",
    "        'count_':count_\n",
    "    }\n",
    "    \n",
    "    return dic_"
   ]
  },
  {
   "cell_type": "markdown",
<<<<<<< Updated upstream
   "metadata": {},
   "source": [
    "## Merging\n",
=======
   "metadata": {
    "Collapsed": "false"
   },
   "source": [
    "## Step 1:  merge sur siren et code postal\n",
>>>>>>> Stashed changes
    "\n",
    "### Processus\n",
    " \n",
    "- Merge sur siren & codePostalEtablissement\n",
    "\n",
    "Missing values:\n",
    "\n",
<<<<<<< Updated upstream
    "- codePostalEtablissement:168253\n",
    "- Code_Postal: 20734"
=======
    "- codePostalEtablissement:9950\n",
    "- Code_Postal: 10092\n",
    "\n"
>>>>>>> Stashed changes
   ]
  },
  {
   "cell_type": "code",
<<<<<<< Updated upstream
   "execution_count": null,
   "metadata": {},
   "outputs": [],
   "source": [
    "m1 = mergeInseeEtbs(dataETBS = df_siren_to_find,\n",
    "               left_on = [\"siren\", 'codePostalEtablissement'],\n",
    "               right_on = ['siren', 'Code_Postal'])"
=======
   "execution_count": 26,
   "metadata": {
    "Collapsed": "false"
   },
   "outputs": [
    {
     "data": {
      "text/plain": [
       "(5116526, 9)"
      ]
     },
     "execution_count": 26,
     "metadata": {},
     "output_type": "execute_result"
    }
   ],
   "source": [
    "df_siren_to_find.shape"
>>>>>>> Stashed changes
   ]
  },
  {
   "cell_type": "code",
<<<<<<< Updated upstream
   "execution_count": null,
   "metadata": {},
   "outputs": [],
   "source": [
=======
   "execution_count": 27,
   "metadata": {
    "Collapsed": "false"
   },
   "outputs": [],
   "source": [
    "m1 = mergeInseeEtbs(\n",
    "    df_insee=subset_insee_count,\n",
    "    dataETBS=df_siren_to_find,\n",
    "    left_on=[\"siren\", 'codePostalEtablissement'],\n",
    "    right_on=['siren', 'Code_Postal'],\n",
    "    var_to_drop=var_insee)"
   ]
  },
  {
   "cell_type": "code",
   "execution_count": 28,
   "metadata": {
    "Collapsed": "false"
   },
   "outputs": [
    {
     "data": {
      "text/plain": [
       "_merge\n",
       "left_only           0\n",
       "right_only     202628\n",
       "both          6205567\n",
       "Name: _merge, dtype: int64"
      ]
     },
     "execution_count": 28,
     "metadata": {},
     "output_type": "execute_result"
    }
   ],
   "source": [
>>>>>>> Stashed changes
    "m1['count_']"
   ]
  },
  {
   "cell_type": "markdown",
<<<<<<< Updated upstream
   "metadata": {},
   "source": [
    "## Merging\n",
=======
   "metadata": {
    "Collapsed": "false"
   },
   "source": [
    "## Step 2:  merge sur siren et code commune\n",
>>>>>>> Stashed changes
    "\n",
    "### Processus\n",
    " \n",
    "- Merge sur siren & codeCommuneEtablissement\n",
    "\n",
    "Missing values:\n",
    "\n",
    "- codeCommuneEtablissement:168253\n",
    "- Code_Commune: 99457"
   ]
  },
  {
   "cell_type": "code",
<<<<<<< Updated upstream
   "execution_count": null,
   "metadata": {},
   "outputs": [],
   "source": [
    "m2 = mergeInseeEtbs(dataETBS = m1['unmerged'],\n",
    "               left_on = [\"siren\", 'codeCommuneEtablissement'],\n",
    "               right_on =['siren', 'Code_Commune']\n",
    "                   )"
=======
   "execution_count": 29,
   "metadata": {
    "Collapsed": "false"
   },
   "outputs": [],
   "source": [
    "m2 = mergeInseeEtbs(\n",
    "    df_insee=subset_insee_count,\n",
    "    dataETBS=m1['unmerged'],\n",
    "    left_on=[\"siren\", 'codeCommuneEtablissement'],\n",
    "    right_on=['siren', 'Code_Commune'],\n",
    "    var_to_drop=var_insee)"
>>>>>>> Stashed changes
   ]
  },
  {
   "cell_type": "code",
<<<<<<< Updated upstream
   "execution_count": null,
   "metadata": {},
   "outputs": [],
=======
   "execution_count": 30,
   "metadata": {
    "Collapsed": "false"
   },
   "outputs": [
    {
     "data": {
      "text/plain": [
       "_merge\n",
       "left_only          0\n",
       "right_only     87553\n",
       "both          148028\n",
       "Name: _merge, dtype: int64"
      ]
     },
     "execution_count": 30,
     "metadata": {},
     "output_type": "execute_result"
    }
   ],
>>>>>>> Stashed changes
   "source": [
    "m2['count_']"
   ]
  },
  {
   "cell_type": "code",
<<<<<<< Updated upstream
   "execution_count": null,
   "metadata": {},
   "outputs": [],
   "source": [
    "(m2['count_'][1]/3017128)  * 100"
=======
   "execution_count": 31,
   "metadata": {
    "Collapsed": "false"
   },
   "outputs": [
    {
     "data": {
      "text/plain": [
       "1.7111805940202396"
      ]
     },
     "execution_count": 31,
     "metadata": {},
     "output_type": "execute_result"
    }
   ],
   "source": [
    "(m2['count_'][1]/(5116526))  * 100"
>>>>>>> Stashed changes
   ]
  },
  {
   "cell_type": "code",
<<<<<<< Updated upstream
   "execution_count": null,
   "metadata": {},
   "outputs": [],
=======
   "execution_count": 32,
   "metadata": {
    "Collapsed": "false"
   },
   "outputs": [
    {
     "data": {
      "text/html": [
       "<div>\n",
       "<style scoped>\n",
       "    .dataframe tbody tr th:only-of-type {\n",
       "        vertical-align: middle;\n",
       "    }\n",
       "\n",
       "    .dataframe tbody tr th {\n",
       "        vertical-align: top;\n",
       "    }\n",
       "\n",
       "    .dataframe thead th {\n",
       "        text-align: right;\n",
       "    }\n",
       "</style>\n",
       "<table border=\"1\" class=\"dataframe\">\n",
       "  <thead>\n",
       "    <tr style=\"text-align: right;\">\n",
       "      <th></th>\n",
       "      <th>siren</th>\n",
       "      <th>Type</th>\n",
       "      <th>Adresse_Ligne1</th>\n",
       "      <th>Adresse_Ligne2</th>\n",
       "      <th>Adresse_Ligne3</th>\n",
       "      <th>Code_Postal</th>\n",
       "      <th>Ville</th>\n",
       "      <th>Code_Commune</th>\n",
       "      <th>Pays</th>\n",
       "    </tr>\n",
       "  </thead>\n",
       "  <tbody>\n",
       "    <tr>\n",
       "      <th>148028</th>\n",
       "      <td>388383374</td>\n",
       "      <td>SEP</td>\n",
       "      <td>NaN</td>\n",
       "      <td>avenue André Citroën - Zone Industrielle - BP 303</td>\n",
       "      <td>NaN</td>\n",
       "      <td>01503</td>\n",
       "      <td>Amberieu en Bugey</td>\n",
       "      <td>NaN</td>\n",
       "      <td>FRANCE</td>\n",
       "    </tr>\n",
       "    <tr>\n",
       "      <th>148029</th>\n",
       "      <td>819816067</td>\n",
       "      <td>SEP</td>\n",
       "      <td>NaN</td>\n",
       "      <td>1 Moulin du Pont</td>\n",
       "      <td>NaN</td>\n",
       "      <td>01580</td>\n",
       "      <td>Samognat</td>\n",
       "      <td>01392</td>\n",
       "      <td>FRANCE</td>\n",
       "    </tr>\n",
       "    <tr>\n",
       "      <th>148030</th>\n",
       "      <td>306961194</td>\n",
       "      <td>PRI</td>\n",
       "      <td>NaN</td>\n",
       "      <td>Hameau de Rougemont</td>\n",
       "      <td>Aranc</td>\n",
       "      <td>NaN</td>\n",
       "      <td>NaN</td>\n",
       "      <td>NaN</td>\n",
       "      <td>FRANCE</td>\n",
       "    </tr>\n",
       "    <tr>\n",
       "      <th>148031</th>\n",
       "      <td>420281784</td>\n",
       "      <td>PRI</td>\n",
       "      <td>NaN</td>\n",
       "      <td>72 rue Pasteur</td>\n",
       "      <td>NaN</td>\n",
       "      <td>01400</td>\n",
       "      <td>Chatillon sur Chalaronne</td>\n",
       "      <td>01093</td>\n",
       "      <td>FRANCE</td>\n",
       "    </tr>\n",
       "    <tr>\n",
       "      <th>148032</th>\n",
       "      <td>418676847</td>\n",
       "      <td>SEP</td>\n",
       "      <td>NaN</td>\n",
       "      <td>ZAC de Rosarges les Echets</td>\n",
       "      <td>NaN</td>\n",
       "      <td>01706</td>\n",
       "      <td>Miribel Cedex</td>\n",
       "      <td>NaN</td>\n",
       "      <td>FRANCE</td>\n",
       "    </tr>\n",
       "  </tbody>\n",
       "</table>\n",
       "</div>"
      ],
      "text/plain": [
       "            siren Type Adresse_Ligne1  \\\n",
       "148028  388383374  SEP            NaN   \n",
       "148029  819816067  SEP            NaN   \n",
       "148030  306961194  PRI            NaN   \n",
       "148031  420281784  PRI            NaN   \n",
       "148032  418676847  SEP            NaN   \n",
       "\n",
       "                                           Adresse_Ligne2 Adresse_Ligne3  \\\n",
       "148028  avenue André Citroën - Zone Industrielle - BP 303            NaN   \n",
       "148029                                   1 Moulin du Pont            NaN   \n",
       "148030                                Hameau de Rougemont          Aranc   \n",
       "148031                                     72 rue Pasteur            NaN   \n",
       "148032                         ZAC de Rosarges les Echets            NaN   \n",
       "\n",
       "       Code_Postal                     Ville Code_Commune    Pays  \n",
       "148028       01503         Amberieu en Bugey          NaN  FRANCE  \n",
       "148029       01580                  Samognat        01392  FRANCE  \n",
       "148030         NaN                       NaN          NaN  FRANCE  \n",
       "148031       01400  Chatillon sur Chalaronne        01093  FRANCE  \n",
       "148032       01706             Miribel Cedex          NaN  FRANCE  "
      ]
     },
     "execution_count": 32,
     "metadata": {},
     "output_type": "execute_result"
    }
   ],
>>>>>>> Stashed changes
   "source": [
    "m2['unmerged'].head()"
   ]
  },
  {
   "cell_type": "markdown",
<<<<<<< Updated upstream
   "metadata": {},
   "source": [
    "### Processus 3\n"
=======
   "metadata": {
    "Collapsed": "false"
   },
   "source": [
    "### Step 3:  merge sur siren et libélé commune\n"
   ]
  },
  {
   "cell_type": "markdown",
   "metadata": {
    "Collapsed": "false"
   },
   "source": [
    "On peut regarder le nombre de valeurs manquantes par champs pour les siren\n",
    "\n",
    "Par exemple, dans le fichier non matché de l'inpi, il y a 49807 SIREN sans SIRET. Ses mêmes SIREN représententent 84760 observations dans le fichier de l'INSEE"
>>>>>>> Stashed changes
   ]
  },
  {
   "cell_type": "code",
<<<<<<< Updated upstream
   "execution_count": null,
   "metadata": {
    "scrolled": true
   },
   "outputs": [],
   "source": [
    "m2['unmerged'].isna().sum()"
=======
   "execution_count": 33,
   "metadata": {
    "Collapsed": "false"
   },
   "outputs": [
    {
     "data": {
      "text/plain": [
       "87553"
      ]
     },
     "execution_count": 33,
     "metadata": {},
     "output_type": "execute_result"
    }
   ],
   "source": [
    "len(m2['unmerged'])"
>>>>>>> Stashed changes
   ]
  },
  {
   "cell_type": "code",
<<<<<<< Updated upstream
   "execution_count": null,
   "metadata": {},
   "outputs": [],
   "source": [
    "m2['unmerged']"
=======
   "execution_count": 34,
   "metadata": {
    "Collapsed": "false"
   },
   "outputs": [
    {
     "name": "stdout",
     "output_type": "stream",
     "text": [
      "Nombre total obs: 293069\n"
     ]
    },
    {
     "data": {
      "text/html": [
       "<style  type=\"text/css\" >\n",
       "</style><table id=\"T_dd0cf290_4c91_11ea_bafd_c8f750ddb9e6\" ><thead>    <tr>        <th class=\"blank level0\" ></th>        <th class=\"col_heading level0 col0\" >total_count</th>        <th class=\"col_heading level0 col1\" >pct</th>    </tr>    <tr>        <th class=\"index_name level0\" >count</th>        <th class=\"blank\" ></th>        <th class=\"blank\" ></th>    </tr></thead><tbody>\n",
       "                <tr>\n",
       "                        <th id=\"T_dd0cf290_4c91_11ea_bafd_c8f750ddb9e6level0_row0\" class=\"row_heading level0 row0\" >1</th>\n",
       "                        <td id=\"T_dd0cf290_4c91_11ea_bafd_c8f750ddb9e6row0_col0\" class=\"data row0 col0\" >61350</td>\n",
       "                        <td id=\"T_dd0cf290_4c91_11ea_bafd_c8f750ddb9e6row0_col1\" class=\"data row0 col1\" >78.13%</td>\n",
       "            </tr>\n",
       "            <tr>\n",
       "                        <th id=\"T_dd0cf290_4c91_11ea_bafd_c8f750ddb9e6level0_row1\" class=\"row_heading level0 row1\" >2</th>\n",
       "                        <td id=\"T_dd0cf290_4c91_11ea_bafd_c8f750ddb9e6row1_col0\" class=\"data row1 col0\" >9274</td>\n",
       "                        <td id=\"T_dd0cf290_4c91_11ea_bafd_c8f750ddb9e6row1_col1\" class=\"data row1 col1\" >11.81%</td>\n",
       "            </tr>\n",
       "            <tr>\n",
       "                        <th id=\"T_dd0cf290_4c91_11ea_bafd_c8f750ddb9e6level0_row2\" class=\"row_heading level0 row2\" >3</th>\n",
       "                        <td id=\"T_dd0cf290_4c91_11ea_bafd_c8f750ddb9e6row2_col0\" class=\"data row2 col0\" >3224</td>\n",
       "                        <td id=\"T_dd0cf290_4c91_11ea_bafd_c8f750ddb9e6row2_col1\" class=\"data row2 col1\" >4.11%</td>\n",
       "            </tr>\n",
       "            <tr>\n",
       "                        <th id=\"T_dd0cf290_4c91_11ea_bafd_c8f750ddb9e6level0_row3\" class=\"row_heading level0 row3\" >4</th>\n",
       "                        <td id=\"T_dd0cf290_4c91_11ea_bafd_c8f750ddb9e6row3_col0\" class=\"data row3 col0\" >1425</td>\n",
       "                        <td id=\"T_dd0cf290_4c91_11ea_bafd_c8f750ddb9e6row3_col1\" class=\"data row3 col1\" >1.81%</td>\n",
       "            </tr>\n",
       "            <tr>\n",
       "                        <th id=\"T_dd0cf290_4c91_11ea_bafd_c8f750ddb9e6level0_row4\" class=\"row_heading level0 row4\" >5</th>\n",
       "                        <td id=\"T_dd0cf290_4c91_11ea_bafd_c8f750ddb9e6row4_col0\" class=\"data row4 col0\" >714</td>\n",
       "                        <td id=\"T_dd0cf290_4c91_11ea_bafd_c8f750ddb9e6row4_col1\" class=\"data row4 col1\" >0.91%</td>\n",
       "            </tr>\n",
       "            <tr>\n",
       "                        <th id=\"T_dd0cf290_4c91_11ea_bafd_c8f750ddb9e6level0_row5\" class=\"row_heading level0 row5\" >6</th>\n",
       "                        <td id=\"T_dd0cf290_4c91_11ea_bafd_c8f750ddb9e6row5_col0\" class=\"data row5 col0\" >403</td>\n",
       "                        <td id=\"T_dd0cf290_4c91_11ea_bafd_c8f750ddb9e6row5_col1\" class=\"data row5 col1\" >0.51%</td>\n",
       "            </tr>\n",
       "            <tr>\n",
       "                        <th id=\"T_dd0cf290_4c91_11ea_bafd_c8f750ddb9e6level0_row6\" class=\"row_heading level0 row6\" >7</th>\n",
       "                        <td id=\"T_dd0cf290_4c91_11ea_bafd_c8f750ddb9e6row6_col0\" class=\"data row6 col0\" >266</td>\n",
       "                        <td id=\"T_dd0cf290_4c91_11ea_bafd_c8f750ddb9e6row6_col1\" class=\"data row6 col1\" >0.34%</td>\n",
       "            </tr>\n",
       "            <tr>\n",
       "                        <th id=\"T_dd0cf290_4c91_11ea_bafd_c8f750ddb9e6level0_row7\" class=\"row_heading level0 row7\" >8</th>\n",
       "                        <td id=\"T_dd0cf290_4c91_11ea_bafd_c8f750ddb9e6row7_col0\" class=\"data row7 col0\" >154</td>\n",
       "                        <td id=\"T_dd0cf290_4c91_11ea_bafd_c8f750ddb9e6row7_col1\" class=\"data row7 col1\" >0.20%</td>\n",
       "            </tr>\n",
       "            <tr>\n",
       "                        <th id=\"T_dd0cf290_4c91_11ea_bafd_c8f750ddb9e6level0_row8\" class=\"row_heading level0 row8\" >9</th>\n",
       "                        <td id=\"T_dd0cf290_4c91_11ea_bafd_c8f750ddb9e6row8_col0\" class=\"data row8 col0\" >148</td>\n",
       "                        <td id=\"T_dd0cf290_4c91_11ea_bafd_c8f750ddb9e6row8_col1\" class=\"data row8 col1\" >0.19%</td>\n",
       "            </tr>\n",
       "            <tr>\n",
       "                        <th id=\"T_dd0cf290_4c91_11ea_bafd_c8f750ddb9e6level0_row9\" class=\"row_heading level0 row9\" >10</th>\n",
       "                        <td id=\"T_dd0cf290_4c91_11ea_bafd_c8f750ddb9e6row9_col0\" class=\"data row9 col0\" >83</td>\n",
       "                        <td id=\"T_dd0cf290_4c91_11ea_bafd_c8f750ddb9e6row9_col1\" class=\"data row9 col1\" >0.11%</td>\n",
       "            </tr>\n",
       "    </tbody></table>"
      ],
      "text/plain": [
       "<pandas.io.formats.style.Styler at 0x2bbd1a35b08>"
      ]
     },
     "execution_count": 34,
     "metadata": {},
     "output_type": "execute_result"
    }
   ],
   "source": [
    "siren_unique(\n",
    "    df= subset_insee_count.loc[lambda x : x['siren'].isin(\n",
    "m2['unmerged']['siren'].to_list())]\n",
    "                               )"
>>>>>>> Stashed changes
   ]
  },
  {
   "cell_type": "code",
<<<<<<< Updated upstream
   "execution_count": null,
   "metadata": {},
   "outputs": [],
   "source": [
    "subset_insee.loc[lambda x: x['siren'].isin([\"420281784\"])]"
=======
   "execution_count": 35,
   "metadata": {
    "Collapsed": "false"
   },
   "outputs": [
    {
     "data": {
      "text/plain": [
       "siren                                  0.000000\n",
       "count                                  0.000000\n",
       "siret                                  0.000000\n",
       "codePostalEtablissement                0.001754\n",
       "codeCommuneEtablissement               0.001754\n",
       "libelleCommuneEtablissement            0.001754\n",
       "libelleVoieEtablissement               0.017515\n",
       "typeVoieEtablissement                  0.159171\n",
       "numeroVoieEtablissement                0.329820\n",
       "complementAdresseEtablissement         0.684405\n",
       "codeCedexEtablissement                 0.972819\n",
       "libelleCedexEtablissement              0.973051\n",
       "indiceRepetitionEtablissement          0.974221\n",
       "distributionSpecialeEtablissement      0.976524\n",
       "libellePaysEtrangerEtablissement       0.998628\n",
       "codePaysEtrangerEtablissement          0.998628\n",
       "libelleCommuneEtrangerEtablissement    0.999417\n",
       "dtype: float64"
      ]
     },
     "execution_count": 35,
     "metadata": {},
     "output_type": "execute_result"
    }
   ],
   "source": [
    "subset_insee_count.loc[lambda x : x['siren'].isin(\n",
    "m2['unmerged']['siren'].to_list())].isna().sum().sort_values()/ \\\n",
    "len(subset_insee_count.loc[lambda x : x['siren'].isin(\n",
    "m2['unmerged']['siren'].to_list())])"
   ]
  },
  {
   "cell_type": "code",
   "execution_count": 36,
   "metadata": {
    "Collapsed": "false"
   },
   "outputs": [
    {
     "data": {
      "text/plain": [
       "siren             0.000000\n",
       "Type              0.000000\n",
       "Pays              0.000103\n",
       "Ville             0.052848\n",
       "Code_Postal       0.084246\n",
       "Code_Commune      0.286421\n",
       "Adresse_Ligne2    0.449236\n",
       "Adresse_Ligne1    0.552534\n",
       "Adresse_Ligne3    0.760225\n",
       "dtype: float64"
      ]
     },
     "execution_count": 36,
     "metadata": {},
     "output_type": "execute_result"
    }
   ],
   "source": [
    "m2['unmerged'].isna().sum().sort_values()/len(m2['unmerged'])"
   ]
  },
  {
   "cell_type": "markdown",
   "metadata": {
    "Collapsed": "false"
   },
   "source": [
    "Ajout matching des communes pour retrouver le libelé commune de l'INSEE\n",
    "\n",
    "ATTENTION, il faut nétoyer la variables ville dans l'INSEE. Veuillez regarder le fichier `communes.xlsx` pour voir les différents problèmes\n",
    "\n",
    "ex: \n",
    "- CEDEX, cedex, digit, (d+), \n",
    "\n",
    "attention, l'arrondissement peut être mis entre parenthèse \n",
    "\n",
    "- MARSEILLE (7E)\n",
    "\n",
    "- process:\n",
    "    - creer variables avec numeric seulement\n",
    "    - recreer ville 2 si test pas NAN pour avoir l'arrondissement\n",
    "    - virer les differentes informations dans ville via regex"
   ]
  },
  {
   "cell_type": "code",
   "execution_count": 37,
   "metadata": {
    "Collapsed": "false"
   },
   "outputs": [],
   "source": [
    "regex = 'CEDEX|cedex|Cedex|\\([^)]*\\)|/\\s\\s+/|^\\d+\\s|\\s\\d+\\s|\\s\\d+$|\\d+|\\.|\\--|COMMUNE DE |COMMUNE DE|commune de |commune de|Commune de |Commune de |\\s$'\n",
    "test_adress = m2['unmerged'].copy()\n",
    "test_adress['test'] = m2['unmerged']['Ville'].str.extract(r'(\\d+)')\n",
    "test_adress['Ville_clean'] = test_adress['Ville'].str.replace(regex,'')\n",
    "test_adress['Ville_clean'] = test_adress['Ville_clean'].str.replace('\\s$|\\s^','')\n",
    "test_adress['ville2'] = np.where(\n",
    "    np.logical_and(\n",
    "         ~test_adress['test'].isin([np.nan]),\n",
    "        test_adress['test'].str.len() <=2\n",
    "    )\n",
    "   ,\n",
    "    test_adress['Ville_clean'] + '' + test_adress['test'].astype(str),\n",
    "    test_adress['Ville_clean']\n",
    ")"
>>>>>>> Stashed changes
   ]
  },
  {
   "cell_type": "code",
<<<<<<< Updated upstream
   "execution_count": null,
   "metadata": {},
=======
   "execution_count": 38,
   "metadata": {
    "Collapsed": "false"
   },
   "outputs": [
    {
     "data": {
      "text/html": [
       "<div>\n",
       "<style scoped>\n",
       "    .dataframe tbody tr th:only-of-type {\n",
       "        vertical-align: middle;\n",
       "    }\n",
       "\n",
       "    .dataframe tbody tr th {\n",
       "        vertical-align: top;\n",
       "    }\n",
       "\n",
       "    .dataframe thead th {\n",
       "        text-align: right;\n",
       "    }\n",
       "</style>\n",
       "<table border=\"1\" class=\"dataframe\">\n",
       "  <thead>\n",
       "    <tr style=\"text-align: right;\">\n",
       "      <th></th>\n",
       "      <th>siren</th>\n",
       "      <th>Type</th>\n",
       "      <th>Adresse_Ligne1</th>\n",
       "      <th>Adresse_Ligne2</th>\n",
       "      <th>Adresse_Ligne3</th>\n",
       "      <th>Code_Postal</th>\n",
       "      <th>Ville</th>\n",
       "      <th>Code_Commune</th>\n",
       "      <th>Pays</th>\n",
       "      <th>test</th>\n",
       "      <th>Ville_clean</th>\n",
       "      <th>ville2</th>\n",
       "    </tr>\n",
       "  </thead>\n",
       "  <tbody>\n",
       "    <tr>\n",
       "      <th>148361</th>\n",
       "      <td>378366504</td>\n",
       "      <td>PRI</td>\n",
       "      <td>NaN</td>\n",
       "      <td>\"LE BOURG\"</td>\n",
       "      <td>NaN</td>\n",
       "      <td>NaN</td>\n",
       "      <td>01 VIRIEU LE GRAND</td>\n",
       "      <td>NaN</td>\n",
       "      <td>FRANCE</td>\n",
       "      <td>01</td>\n",
       "      <td>VIRIEU LE GRAND</td>\n",
       "      <td>VIRIEU LE GRAND01</td>\n",
       "    </tr>\n",
       "  </tbody>\n",
       "</table>\n",
       "</div>"
      ],
      "text/plain": [
       "            siren Type Adresse_Ligne1 Adresse_Ligne2 Adresse_Ligne3  \\\n",
       "148361  378366504  PRI            NaN     \"LE BOURG\"            NaN   \n",
       "\n",
       "       Code_Postal               Ville Code_Commune    Pays test  \\\n",
       "148361         NaN  01 VIRIEU LE GRAND          NaN  FRANCE   01   \n",
       "\n",
       "            Ville_clean             ville2  \n",
       "148361  VIRIEU LE GRAND  VIRIEU LE GRAND01  "
      ]
     },
     "execution_count": 38,
     "metadata": {},
     "output_type": "execute_result"
    }
   ],
   "source": [
    "test_adress[test_adress['Ville'].str.contains('VIRIEU LE GRAND', regex  = False,\n",
    "                                                    na=False)]"
   ]
  },
  {
   "cell_type": "markdown",
   "metadata": {
    "Collapsed": "false"
   },
   "source": [
    "On essaye sur ville, et ensuite on enlève les accents "
   ]
  },
  {
   "cell_type": "code",
   "execution_count": 39,
   "metadata": {
    "Collapsed": "false"
   },
   "outputs": [
    {
     "data": {
      "text/plain": [
       "_merge\n",
       "left_only     14188\n",
       "right_only        0\n",
       "both          73365\n",
       "Name: _merge, dtype: int64"
      ]
     },
     "execution_count": 39,
     "metadata": {},
     "output_type": "execute_result"
    }
   ],
   "source": [
    "temp = test_adress.merge(communes,\n",
    "                         left_on='ville2',\n",
    "                         right_on='possibilite',\n",
    "                         how='left',\n",
    "                         indicator=True)\n",
    "\n",
    "temp1 = pd.concat([\n",
    "    temp.loc[lambda x: x['_merge'].isin(['both'])],\n",
    "    (temp\n",
    "     .loc[lambda x: x['_merge'].isin(['left_only'])]\n",
    "     .drop(columns=['ncc', 'possibilite', '_merge'])\n",
    "     .merge(communes,\n",
    "            left_on='Ville_clean',\n",
    "            right_on='possibilite',\n",
    "            how='left',\n",
    "            indicator=True)\n",
    "     )\n",
    "\n",
    "])\n",
    "\n",
    "temp1 = pd.concat([\n",
    "    temp.loc[lambda x: x['_merge'].isin(['both'])],\n",
    "    (temp\n",
    "     .loc[lambda x: x['_merge'].isin(['left_only'])]\n",
    "     .drop(columns=['ncc', 'possibilite', '_merge'])\n",
    "     .assign(\n",
    "         noaccent=lambda x: x['Ville_clean'].str.normalize('NFKD')\n",
    "         .str.encode('ascii', errors='ignore')\n",
    "         .str.decode('utf-8'))\n",
    "     ).merge(communes,\n",
    "             left_on='noaccent',\n",
    "             right_on='possibilite',\n",
    "             how='left',\n",
    "             indicator=True)])\n",
    "temp1.groupby('_merge')[\"_merge\"].count()"
   ]
  },
  {
   "cell_type": "code",
   "execution_count": 40,
   "metadata": {
    "Collapsed": "false"
   },
   "outputs": [
    {
     "data": {
      "text/plain": [
       "87553"
      ]
     },
     "execution_count": 40,
     "metadata": {},
     "output_type": "execute_result"
    }
   ],
   "source": [
    "len(temp1)"
   ]
  },
  {
   "cell_type": "markdown",
   "metadata": {
    "Collapsed": "false"
   },
   "source": [
    "### test unmerged"
   ]
  },
  {
   "cell_type": "code",
   "execution_count": 41,
   "metadata": {
    "Collapsed": "false"
   },
   "outputs": [],
   "source": [
    "var_insee = ['siret',\n",
    "             \"numeroVoieEtablissement\",\n",
    "             \"indiceRepetitionEtablissement\",\n",
    "             \"typeVoieEtablissement\",\n",
    "             \"libelleVoieEtablissement\",\n",
    "             \"complementAdresseEtablissement\",\n",
    "             \"codeCommuneEtablissement\",\n",
    "             # \"libelleCommuneEtablissement\",\n",
    "             \"codePostalEtablissement\",\n",
    "             \"codeCedexEtablissement\",\n",
    "             \"libelleCedexEtablissement\",\n",
    "             \"distributionSpecialeEtablissement\",\n",
    "             \"libelleCommuneEtrangerEtablissement\",\n",
    "             \"codePaysEtrangerEtablissement\",\n",
    "             \"libellePaysEtrangerEtablissement\",\n",
    "             '_merge', 'count'\n",
    "             ]\n",
    "\n",
    "m3 = mergeInseeEtbs(\n",
    "    df_insee=subset_insee_count,\n",
    "    dataETBS=temp1.drop(columns=['possibilite',\n",
    "                                 '_merge', 'noaccent',\n",
    "                                 'Ville_clean',\n",
    "                                 'ville2']),\n",
    "    left_on=[\"siren\", 'libelleCommuneEtablissement'],\n",
    "    right_on=['siren', 'ncc'],\n",
    "    var_to_drop=var_insee\n",
    ")"
   ]
  },
  {
   "cell_type": "code",
   "execution_count": 42,
   "metadata": {
    "Collapsed": "false"
   },
   "outputs": [
    {
     "data": {
      "text/plain": [
       "_merge\n",
       "left_only         0\n",
       "right_only    81603\n",
       "both           7346\n",
       "Name: _merge, dtype: int64"
      ]
     },
     "execution_count": 42,
     "metadata": {},
     "output_type": "execute_result"
    }
   ],
   "source": [
    "m3['count_']"
   ]
  },
  {
   "cell_type": "code",
   "execution_count": 43,
   "metadata": {
    "Collapsed": "false"
   },
   "outputs": [
    {
     "data": {
      "text/plain": [
       "54140"
      ]
     },
     "execution_count": 43,
     "metadata": {},
     "output_type": "execute_result"
    }
   ],
   "source": [
    "len(m3['unmerged'].loc[lambda x:x['Type'].isin(['SEP', 'PRI'])])"
   ]
  },
  {
   "cell_type": "code",
   "execution_count": 44,
   "metadata": {
    "Collapsed": "false"
   },
   "outputs": [
    {
     "name": "stdout",
     "output_type": "stream",
     "text": [
      "Nombre total obs: 263225\n"
     ]
    },
    {
     "data": {
      "text/html": [
       "<style  type=\"text/css\" >\n",
       "</style><table id=\"T_e66ff8cc_4c91_11ea_8d87_c8f750ddb9e6\" ><thead>    <tr>        <th class=\"blank level0\" ></th>        <th class=\"col_heading level0 col0\" >total_count</th>        <th class=\"col_heading level0 col1\" >pct</th>    </tr>    <tr>        <th class=\"index_name level0\" >count</th>        <th class=\"blank\" ></th>        <th class=\"blank\" ></th>    </tr></thead><tbody>\n",
       "                <tr>\n",
       "                        <th id=\"T_e66ff8cc_4c91_11ea_8d87_c8f750ddb9e6level0_row0\" class=\"row_heading level0 row0\" >1</th>\n",
       "                        <td id=\"T_e66ff8cc_4c91_11ea_8d87_c8f750ddb9e6row0_col0\" class=\"data row0 col0\" >56894</td>\n",
       "                        <td id=\"T_e66ff8cc_4c91_11ea_8d87_c8f750ddb9e6row0_col1\" class=\"data row0 col1\" >78.10%</td>\n",
       "            </tr>\n",
       "            <tr>\n",
       "                        <th id=\"T_e66ff8cc_4c91_11ea_8d87_c8f750ddb9e6level0_row1\" class=\"row_heading level0 row1\" >2</th>\n",
       "                        <td id=\"T_e66ff8cc_4c91_11ea_8d87_c8f750ddb9e6row1_col0\" class=\"data row1 col0\" >8634</td>\n",
       "                        <td id=\"T_e66ff8cc_4c91_11ea_8d87_c8f750ddb9e6row1_col1\" class=\"data row1 col1\" >11.85%</td>\n",
       "            </tr>\n",
       "            <tr>\n",
       "                        <th id=\"T_e66ff8cc_4c91_11ea_8d87_c8f750ddb9e6level0_row2\" class=\"row_heading level0 row2\" >3</th>\n",
       "                        <td id=\"T_e66ff8cc_4c91_11ea_8d87_c8f750ddb9e6row2_col0\" class=\"data row2 col0\" >3042</td>\n",
       "                        <td id=\"T_e66ff8cc_4c91_11ea_8d87_c8f750ddb9e6row2_col1\" class=\"data row2 col1\" >4.18%</td>\n",
       "            </tr>\n",
       "            <tr>\n",
       "                        <th id=\"T_e66ff8cc_4c91_11ea_8d87_c8f750ddb9e6level0_row3\" class=\"row_heading level0 row3\" >4</th>\n",
       "                        <td id=\"T_e66ff8cc_4c91_11ea_8d87_c8f750ddb9e6row3_col0\" class=\"data row3 col0\" >1335</td>\n",
       "                        <td id=\"T_e66ff8cc_4c91_11ea_8d87_c8f750ddb9e6row3_col1\" class=\"data row3 col1\" >1.83%</td>\n",
       "            </tr>\n",
       "            <tr>\n",
       "                        <th id=\"T_e66ff8cc_4c91_11ea_8d87_c8f750ddb9e6level0_row4\" class=\"row_heading level0 row4\" >5</th>\n",
       "                        <td id=\"T_e66ff8cc_4c91_11ea_8d87_c8f750ddb9e6row4_col0\" class=\"data row4 col0\" >655</td>\n",
       "                        <td id=\"T_e66ff8cc_4c91_11ea_8d87_c8f750ddb9e6row4_col1\" class=\"data row4 col1\" >0.90%</td>\n",
       "            </tr>\n",
       "            <tr>\n",
       "                        <th id=\"T_e66ff8cc_4c91_11ea_8d87_c8f750ddb9e6level0_row5\" class=\"row_heading level0 row5\" >6</th>\n",
       "                        <td id=\"T_e66ff8cc_4c91_11ea_8d87_c8f750ddb9e6row5_col0\" class=\"data row5 col0\" >363</td>\n",
       "                        <td id=\"T_e66ff8cc_4c91_11ea_8d87_c8f750ddb9e6row5_col1\" class=\"data row5 col1\" >0.50%</td>\n",
       "            </tr>\n",
       "            <tr>\n",
       "                        <th id=\"T_e66ff8cc_4c91_11ea_8d87_c8f750ddb9e6level0_row6\" class=\"row_heading level0 row6\" >7</th>\n",
       "                        <td id=\"T_e66ff8cc_4c91_11ea_8d87_c8f750ddb9e6row6_col0\" class=\"data row6 col0\" >247</td>\n",
       "                        <td id=\"T_e66ff8cc_4c91_11ea_8d87_c8f750ddb9e6row6_col1\" class=\"data row6 col1\" >0.34%</td>\n",
       "            </tr>\n",
       "            <tr>\n",
       "                        <th id=\"T_e66ff8cc_4c91_11ea_8d87_c8f750ddb9e6level0_row7\" class=\"row_heading level0 row7\" >8</th>\n",
       "                        <td id=\"T_e66ff8cc_4c91_11ea_8d87_c8f750ddb9e6row7_col0\" class=\"data row7 col0\" >136</td>\n",
       "                        <td id=\"T_e66ff8cc_4c91_11ea_8d87_c8f750ddb9e6row7_col1\" class=\"data row7 col1\" >0.19%</td>\n",
       "            </tr>\n",
       "            <tr>\n",
       "                        <th id=\"T_e66ff8cc_4c91_11ea_8d87_c8f750ddb9e6level0_row8\" class=\"row_heading level0 row8\" >9</th>\n",
       "                        <td id=\"T_e66ff8cc_4c91_11ea_8d87_c8f750ddb9e6row8_col0\" class=\"data row8 col0\" >135</td>\n",
       "                        <td id=\"T_e66ff8cc_4c91_11ea_8d87_c8f750ddb9e6row8_col1\" class=\"data row8 col1\" >0.19%</td>\n",
       "            </tr>\n",
       "            <tr>\n",
       "                        <th id=\"T_e66ff8cc_4c91_11ea_8d87_c8f750ddb9e6level0_row9\" class=\"row_heading level0 row9\" >10</th>\n",
       "                        <td id=\"T_e66ff8cc_4c91_11ea_8d87_c8f750ddb9e6row9_col0\" class=\"data row9 col0\" >69</td>\n",
       "                        <td id=\"T_e66ff8cc_4c91_11ea_8d87_c8f750ddb9e6row9_col1\" class=\"data row9 col1\" >0.09%</td>\n",
       "            </tr>\n",
       "    </tbody></table>"
      ],
      "text/plain": [
       "<pandas.io.formats.style.Styler at 0x2bc33904b48>"
      ]
     },
     "execution_count": 44,
     "metadata": {},
     "output_type": "execute_result"
    }
   ],
   "source": [
    "siren_unique(\n",
    "    df= subset_insee_count.loc[lambda x : x['siren'].isin(\n",
    "m3['unmerged']['siren'].to_list())]\n",
    "                               )"
   ]
  },
  {
   "cell_type": "code",
   "execution_count": 45,
   "metadata": {
    "Collapsed": "false"
   },
   "outputs": [],
   "source": [
    "#m3_bis = mergeInseeEtbs(\n",
    "#    df_insee=subset_insee_count,\n",
    "#    dataETBS= m3['unmerged'].loc[lambda x: ~x['test'].isin([np.nan])],\n",
    "#    left_on=[\"siren\", 'codePostalEtablissement'],\n",
    "#    right_on=['siren', 'test'],\n",
    "#    var_to_drop=var_insee\n",
    "#)\n",
    "#m3_bis['count_']"
   ]
  },
  {
   "cell_type": "markdown",
   "metadata": {
    "Collapsed": "false"
   },
   "source": [
    "### Test entreprise un seul etb\n",
    "\n",
    "On match uniquement lorsque le nombre de SIREN/SIRET est égal a 1. Il se peut que pour plusieurs raisons il y ai plusieurs SIREN dans l'INPI mais qu'un seul SIRET dans l'INSEE C'est du a a fermeture d'établissement Nous n'avons pas encore le véritable stock d'etb a l'INPI"
   ]
  },
  {
   "cell_type": "code",
   "execution_count": 46,
   "metadata": {
    "Collapsed": "false"
   },
   "outputs": [],
   "source": [
    "var_insee = [#'siret',\n",
    "             \"numeroVoieEtablissement\",\n",
    "             \"indiceRepetitionEtablissement\",\n",
    "             \"typeVoieEtablissement\",\n",
    "             \"libelleVoieEtablissement\",\n",
    "             #\"complementAdresseEtablissement\",\n",
    "             #\"codeCommuneEtablissement\",\n",
    "             #\"libelleCommuneEtablissement\",\n",
    "             #\"codePostalEtablissement\",\n",
    "             \"codeCedexEtablissement\",\n",
    "             \"libelleCedexEtablissement\",\n",
    "             \"distributionSpecialeEtablissement\",\n",
    "             \"libelleCommuneEtrangerEtablissement\",\n",
    "             \"codePaysEtrangerEtablissement\",\n",
    "             \"libellePaysEtrangerEtablissement\",\n",
    "             #'_merge', \n",
    "    'count'\n",
    "             ]\n",
    "\n",
    "test_1 = (subset_insee_count\n",
    "          .loc[lambda x : \n",
    "               x['siren'].isin(m3['unmerged']['siren'].to_list())\n",
    "               & x['count'].isin([1])\n",
    "              ]\n",
    "          .merge(\n",
    "              (m3['unmerged']\n",
    "               .loc[lambda x:x['Type'].isin(['SEP', 'PRI'])]\n",
    "              .drop(columns = 'libelleCommuneEtablissement')),\n",
    "              on='siren',\n",
    "              how='right',\n",
    "              indicator=True\n",
    "          )\n",
    "          #.loc[lambda x: x['_merge'].isin(['both'])]\n",
    "          #.drop(columns = var_insee)\n",
    "          )  # .groupby('_merge')[\"_merge\"].count()"
   ]
  },
  {
   "cell_type": "markdown",
   "metadata": {
    "Collapsed": "false"
   },
   "source": [
    "Les right only correspondent aux SIREN qui ont plus d'un SIRET a l'INSEE. Nous nous focalisons uniqument sur les both, qui sont de véritables 1."
   ]
  },
  {
   "cell_type": "code",
   "execution_count": 47,
   "metadata": {
    "Collapsed": "false"
   },
   "outputs": [
    {
     "data": {
      "text/plain": [
       "_merge\n",
       "left_only         0\n",
       "right_only    11682\n",
       "both          42458\n",
       "Name: _merge, dtype: int64"
      ]
     },
     "execution_count": 47,
     "metadata": {},
     "output_type": "execute_result"
    }
   ],
   "source": [
    "test_1.groupby('_merge')[\"_merge\"].count()"
   ]
  },
  {
   "cell_type": "code",
   "execution_count": 48,
   "metadata": {
    "Collapsed": "false"
   },
   "outputs": [
    {
     "data": {
      "text/html": [
       "<div>\n",
       "<style scoped>\n",
       "    .dataframe tbody tr th:only-of-type {\n",
       "        vertical-align: middle;\n",
       "    }\n",
       "\n",
       "    .dataframe tbody tr th {\n",
       "        vertical-align: top;\n",
       "    }\n",
       "\n",
       "    .dataframe thead th {\n",
       "        text-align: right;\n",
       "    }\n",
       "</style>\n",
       "<table border=\"1\" class=\"dataframe\">\n",
       "  <thead>\n",
       "    <tr style=\"text-align: right;\">\n",
       "      <th></th>\n",
       "      <th>siren</th>\n",
       "      <th>siret</th>\n",
       "      <th>complementAdresseEtablissement</th>\n",
       "      <th>numeroVoieEtablissement</th>\n",
       "      <th>indiceRepetitionEtablissement</th>\n",
       "      <th>typeVoieEtablissement</th>\n",
       "      <th>libelleVoieEtablissement</th>\n",
       "      <th>codePostalEtablissement</th>\n",
       "      <th>libelleCommuneEtablissement</th>\n",
       "      <th>libelleCommuneEtrangerEtablissement</th>\n",
       "      <th>distributionSpecialeEtablissement</th>\n",
       "      <th>codeCommuneEtablissement</th>\n",
       "      <th>codeCedexEtablissement</th>\n",
       "      <th>libelleCedexEtablissement</th>\n",
       "      <th>codePaysEtrangerEtablissement</th>\n",
       "      <th>libellePaysEtrangerEtablissement</th>\n",
       "      <th>count</th>\n",
       "    </tr>\n",
       "  </thead>\n",
       "  <tbody>\n",
       "    <tr>\n",
       "      <th>1535472</th>\n",
       "      <td>388383374</td>\n",
       "      <td>38838337400013</td>\n",
       "      <td>NaN</td>\n",
       "      <td>2</td>\n",
       "      <td>NaN</td>\n",
       "      <td>RUE</td>\n",
       "      <td>DU CLOS DUTILLIER</td>\n",
       "      <td>01500</td>\n",
       "      <td>AMBERIEU-EN-BUGEY</td>\n",
       "      <td>NaN</td>\n",
       "      <td>NaN</td>\n",
       "      <td>01004</td>\n",
       "      <td>NaN</td>\n",
       "      <td>NaN</td>\n",
       "      <td>NaN</td>\n",
       "      <td>NaN</td>\n",
       "      <td>5</td>\n",
       "    </tr>\n",
       "    <tr>\n",
       "      <th>1535473</th>\n",
       "      <td>388383374</td>\n",
       "      <td>38838337400021</td>\n",
       "      <td>NaN</td>\n",
       "      <td>127</td>\n",
       "      <td>NaN</td>\n",
       "      <td>RUE</td>\n",
       "      <td>CHARLES TILLON</td>\n",
       "      <td>93300</td>\n",
       "      <td>AUBERVILLIERS</td>\n",
       "      <td>NaN</td>\n",
       "      <td>NaN</td>\n",
       "      <td>93001</td>\n",
       "      <td>NaN</td>\n",
       "      <td>NaN</td>\n",
       "      <td>NaN</td>\n",
       "      <td>NaN</td>\n",
       "      <td>5</td>\n",
       "    </tr>\n",
       "    <tr>\n",
       "      <th>1535474</th>\n",
       "      <td>388383374</td>\n",
       "      <td>38838337400039</td>\n",
       "      <td>Z I</td>\n",
       "      <td>NaN</td>\n",
       "      <td>NaN</td>\n",
       "      <td>RUE</td>\n",
       "      <td>MARIUS BERLIET</td>\n",
       "      <td>01500</td>\n",
       "      <td>AMBERIEU-EN-BUGEY</td>\n",
       "      <td>NaN</td>\n",
       "      <td>BP 57</td>\n",
       "      <td>01004</td>\n",
       "      <td>NaN</td>\n",
       "      <td>NaN</td>\n",
       "      <td>NaN</td>\n",
       "      <td>NaN</td>\n",
       "      <td>5</td>\n",
       "    </tr>\n",
       "    <tr>\n",
       "      <th>1535475</th>\n",
       "      <td>388383374</td>\n",
       "      <td>38838337400047</td>\n",
       "      <td>LE LEM 122</td>\n",
       "      <td>90</td>\n",
       "      <td>NaN</td>\n",
       "      <td>RUE</td>\n",
       "      <td>DE LA HAIE COQ</td>\n",
       "      <td>93300</td>\n",
       "      <td>AUBERVILLIERS</td>\n",
       "      <td>NaN</td>\n",
       "      <td>NaN</td>\n",
       "      <td>93001</td>\n",
       "      <td>93536</td>\n",
       "      <td>AUBERVILLIERS CEDEX</td>\n",
       "      <td>NaN</td>\n",
       "      <td>NaN</td>\n",
       "      <td>5</td>\n",
       "    </tr>\n",
       "    <tr>\n",
       "      <th>1535476</th>\n",
       "      <td>388383374</td>\n",
       "      <td>38838337400054</td>\n",
       "      <td>ZONE INDUSTRIELLE BP 303</td>\n",
       "      <td>NaN</td>\n",
       "      <td>NaN</td>\n",
       "      <td>AV</td>\n",
       "      <td>ANDRE CITROEN</td>\n",
       "      <td>01500</td>\n",
       "      <td>AMBERIEU-EN-BUGEY</td>\n",
       "      <td>NaN</td>\n",
       "      <td>NaN</td>\n",
       "      <td>01004</td>\n",
       "      <td>01503</td>\n",
       "      <td>AMBERIEU EN BUGEY CEDEX</td>\n",
       "      <td>NaN</td>\n",
       "      <td>NaN</td>\n",
       "      <td>5</td>\n",
       "    </tr>\n",
       "  </tbody>\n",
       "</table>\n",
       "</div>"
      ],
      "text/plain": [
       "             siren           siret complementAdresseEtablissement  \\\n",
       "1535472  388383374  38838337400013                            NaN   \n",
       "1535473  388383374  38838337400021                            NaN   \n",
       "1535474  388383374  38838337400039                            Z I   \n",
       "1535475  388383374  38838337400047                     LE LEM 122   \n",
       "1535476  388383374  38838337400054       ZONE INDUSTRIELLE BP 303   \n",
       "\n",
       "        numeroVoieEtablissement indiceRepetitionEtablissement  \\\n",
       "1535472                       2                           NaN   \n",
       "1535473                     127                           NaN   \n",
       "1535474                     NaN                           NaN   \n",
       "1535475                      90                           NaN   \n",
       "1535476                     NaN                           NaN   \n",
       "\n",
       "        typeVoieEtablissement libelleVoieEtablissement  \\\n",
       "1535472                   RUE        DU CLOS DUTILLIER   \n",
       "1535473                   RUE           CHARLES TILLON   \n",
       "1535474                   RUE           MARIUS BERLIET   \n",
       "1535475                   RUE           DE LA HAIE COQ   \n",
       "1535476                    AV            ANDRE CITROEN   \n",
       "\n",
       "        codePostalEtablissement libelleCommuneEtablissement  \\\n",
       "1535472                   01500           AMBERIEU-EN-BUGEY   \n",
       "1535473                   93300               AUBERVILLIERS   \n",
       "1535474                   01500           AMBERIEU-EN-BUGEY   \n",
       "1535475                   93300               AUBERVILLIERS   \n",
       "1535476                   01500           AMBERIEU-EN-BUGEY   \n",
       "\n",
       "        libelleCommuneEtrangerEtablissement distributionSpecialeEtablissement  \\\n",
       "1535472                                 NaN                               NaN   \n",
       "1535473                                 NaN                               NaN   \n",
       "1535474                                 NaN                             BP 57   \n",
       "1535475                                 NaN                               NaN   \n",
       "1535476                                 NaN                               NaN   \n",
       "\n",
       "        codeCommuneEtablissement codeCedexEtablissement  \\\n",
       "1535472                    01004                    NaN   \n",
       "1535473                    93001                    NaN   \n",
       "1535474                    01004                    NaN   \n",
       "1535475                    93001                  93536   \n",
       "1535476                    01004                  01503   \n",
       "\n",
       "        libelleCedexEtablissement codePaysEtrangerEtablissement  \\\n",
       "1535472                       NaN                           NaN   \n",
       "1535473                       NaN                           NaN   \n",
       "1535474                       NaN                           NaN   \n",
       "1535475       AUBERVILLIERS CEDEX                           NaN   \n",
       "1535476   AMBERIEU EN BUGEY CEDEX                           NaN   \n",
       "\n",
       "        libellePaysEtrangerEtablissement  count  \n",
       "1535472                              NaN      5  \n",
       "1535473                              NaN      5  \n",
       "1535474                              NaN      5  \n",
       "1535475                              NaN      5  \n",
       "1535476                              NaN      5  "
      ]
     },
     "execution_count": 48,
     "metadata": {},
     "output_type": "execute_result"
    }
   ],
   "source": [
    "subset_insee_count.loc[lambda x: x['siren'].isin(['388383374'])]"
   ]
  },
  {
   "cell_type": "code",
   "execution_count": 49,
   "metadata": {
    "Collapsed": "false"
   },
   "outputs": [],
   "source": [
    "test_1 = test_1.merge(\n",
    "    (test_1\n",
    "     .groupby('siren')['siren']\n",
    "     .count()\n",
    "     .rename('count')\n",
    "     .reset_index())\n",
    ")"
   ]
  },
  {
   "cell_type": "code",
   "execution_count": 50,
   "metadata": {
    "Collapsed": "false"
   },
   "outputs": [
    {
     "data": {
      "text/plain": [
       "1.0    42165\n",
       "Name: count, dtype: int64"
      ]
     },
     "execution_count": 50,
     "metadata": {},
     "output_type": "execute_result"
    }
   ],
   "source": [
    "test_1['count'].value_counts()"
   ]
  },
  {
   "cell_type": "code",
   "execution_count": 51,
   "metadata": {
    "Collapsed": "false"
   },
   "outputs": [
    {
     "data": {
      "text/html": [
       "<div>\n",
       "<style scoped>\n",
       "    .dataframe tbody tr th:only-of-type {\n",
       "        vertical-align: middle;\n",
       "    }\n",
       "\n",
       "    .dataframe tbody tr th {\n",
       "        vertical-align: top;\n",
       "    }\n",
       "\n",
       "    .dataframe thead th {\n",
       "        text-align: right;\n",
       "    }\n",
       "</style>\n",
       "<table border=\"1\" class=\"dataframe\">\n",
       "  <thead>\n",
       "    <tr style=\"text-align: right;\">\n",
       "      <th></th>\n",
       "      <th>siren</th>\n",
       "      <th>siret</th>\n",
       "      <th>complementAdresseEtablissement</th>\n",
       "      <th>numeroVoieEtablissement</th>\n",
       "      <th>indiceRepetitionEtablissement</th>\n",
       "      <th>typeVoieEtablissement</th>\n",
       "      <th>libelleVoieEtablissement</th>\n",
       "      <th>codePostalEtablissement</th>\n",
       "      <th>libelleCommuneEtablissement</th>\n",
       "      <th>libelleCommuneEtrangerEtablissement</th>\n",
       "      <th>distributionSpecialeEtablissement</th>\n",
       "      <th>codeCommuneEtablissement</th>\n",
       "      <th>codeCedexEtablissement</th>\n",
       "      <th>libelleCedexEtablissement</th>\n",
       "      <th>codePaysEtrangerEtablissement</th>\n",
       "      <th>libellePaysEtrangerEtablissement</th>\n",
       "      <th>count</th>\n",
       "    </tr>\n",
       "  </thead>\n",
       "  <tbody>\n",
       "    <tr>\n",
       "      <th>1071</th>\n",
       "      <td>300011335</td>\n",
       "      <td>30001133500027</td>\n",
       "      <td>NaN</td>\n",
       "      <td>NaN</td>\n",
       "      <td>NaN</td>\n",
       "      <td>LD</td>\n",
       "      <td>LA GAUDRAIE</td>\n",
       "      <td>53170</td>\n",
       "      <td>MESLAY-DU-MAINE</td>\n",
       "      <td>NaN</td>\n",
       "      <td>NaN</td>\n",
       "      <td>53152</td>\n",
       "      <td>NaN</td>\n",
       "      <td>NaN</td>\n",
       "      <td>NaN</td>\n",
       "      <td>NaN</td>\n",
       "      <td>1</td>\n",
       "    </tr>\n",
       "  </tbody>\n",
       "</table>\n",
       "</div>"
      ],
      "text/plain": [
       "          siren           siret complementAdresseEtablissement  \\\n",
       "1071  300011335  30001133500027                            NaN   \n",
       "\n",
       "     numeroVoieEtablissement indiceRepetitionEtablissement  \\\n",
       "1071                     NaN                           NaN   \n",
       "\n",
       "     typeVoieEtablissement libelleVoieEtablissement codePostalEtablissement  \\\n",
       "1071                    LD              LA GAUDRAIE                   53170   \n",
       "\n",
       "     libelleCommuneEtablissement libelleCommuneEtrangerEtablissement  \\\n",
       "1071             MESLAY-DU-MAINE                                 NaN   \n",
       "\n",
       "     distributionSpecialeEtablissement codeCommuneEtablissement  \\\n",
       "1071                               NaN                    53152   \n",
       "\n",
       "     codeCedexEtablissement libelleCedexEtablissement  \\\n",
       "1071                    NaN                       NaN   \n",
       "\n",
       "     codePaysEtrangerEtablissement libellePaysEtrangerEtablissement  count  \n",
       "1071                           NaN                              NaN      1  "
      ]
     },
     "execution_count": 51,
     "metadata": {},
     "output_type": "execute_result"
    }
   ],
   "source": [
    "subset_insee_count.loc[lambda x: x['siren'].isin(['300011335'])]"
   ]
  },
  {
   "cell_type": "code",
   "execution_count": 52,
   "metadata": {
    "Collapsed": "false"
   },
   "outputs": [
    {
     "data": {
      "text/html": [
       "<div>\n",
       "<style scoped>\n",
       "    .dataframe tbody tr th:only-of-type {\n",
       "        vertical-align: middle;\n",
       "    }\n",
       "\n",
       "    .dataframe tbody tr th {\n",
       "        vertical-align: top;\n",
       "    }\n",
       "\n",
       "    .dataframe thead th {\n",
       "        text-align: right;\n",
       "    }\n",
       "</style>\n",
       "<table border=\"1\" class=\"dataframe\">\n",
       "  <thead>\n",
       "    <tr style=\"text-align: right;\">\n",
       "      <th></th>\n",
       "      <th>siren</th>\n",
       "      <th>siret</th>\n",
       "      <th>complementAdresseEtablissement</th>\n",
       "      <th>numeroVoieEtablissement</th>\n",
       "      <th>indiceRepetitionEtablissement</th>\n",
       "      <th>typeVoieEtablissement</th>\n",
       "      <th>libelleVoieEtablissement</th>\n",
       "      <th>codePostalEtablissement</th>\n",
       "      <th>libelleCommuneEtablissement</th>\n",
       "      <th>libelleCommuneEtrangerEtablissement</th>\n",
       "      <th>distributionSpecialeEtablissement</th>\n",
       "      <th>codeCommuneEtablissement</th>\n",
       "      <th>codeCedexEtablissement</th>\n",
       "      <th>libelleCedexEtablissement</th>\n",
       "      <th>codePaysEtrangerEtablissement</th>\n",
       "      <th>libellePaysEtrangerEtablissement</th>\n",
       "      <th>count</th>\n",
       "    </tr>\n",
       "  </thead>\n",
       "  <tbody>\n",
       "    <tr>\n",
       "      <th>1113</th>\n",
       "      <td>300018017</td>\n",
       "      <td>30001801700024</td>\n",
       "      <td>NaN</td>\n",
       "      <td>NaN</td>\n",
       "      <td>NaN</td>\n",
       "      <td>RUE</td>\n",
       "      <td>DROITE</td>\n",
       "      <td>12330</td>\n",
       "      <td>MARCILLAC-VALLON</td>\n",
       "      <td>NaN</td>\n",
       "      <td>NaN</td>\n",
       "      <td>12138</td>\n",
       "      <td>NaN</td>\n",
       "      <td>NaN</td>\n",
       "      <td>NaN</td>\n",
       "      <td>NaN</td>\n",
       "      <td>1</td>\n",
       "    </tr>\n",
       "  </tbody>\n",
       "</table>\n",
       "</div>"
      ],
      "text/plain": [
       "          siren           siret complementAdresseEtablissement  \\\n",
       "1113  300018017  30001801700024                            NaN   \n",
       "\n",
       "     numeroVoieEtablissement indiceRepetitionEtablissement  \\\n",
       "1113                     NaN                           NaN   \n",
       "\n",
       "     typeVoieEtablissement libelleVoieEtablissement codePostalEtablissement  \\\n",
       "1113                   RUE                   DROITE                   12330   \n",
       "\n",
       "     libelleCommuneEtablissement libelleCommuneEtrangerEtablissement  \\\n",
       "1113            MARCILLAC-VALLON                                 NaN   \n",
       "\n",
       "     distributionSpecialeEtablissement codeCommuneEtablissement  \\\n",
       "1113                               NaN                    12138   \n",
       "\n",
       "     codeCedexEtablissement libelleCedexEtablissement  \\\n",
       "1113                    NaN                       NaN   \n",
       "\n",
       "     codePaysEtrangerEtablissement libellePaysEtrangerEtablissement  count  \n",
       "1113                           NaN                              NaN      1  "
      ]
     },
     "execution_count": 52,
     "metadata": {},
     "output_type": "execute_result"
    }
   ],
   "source": [
    "subset_insee_count.loc[lambda x: x['siren'].isin(['300018017'])]"
   ]
  },
  {
   "cell_type": "code",
   "execution_count": 53,
   "metadata": {
    "Collapsed": "false"
   },
   "outputs": [
    {
     "data": {
      "text/html": [
       "<div>\n",
       "<style scoped>\n",
       "    .dataframe tbody tr th:only-of-type {\n",
       "        vertical-align: middle;\n",
       "    }\n",
       "\n",
       "    .dataframe tbody tr th {\n",
       "        vertical-align: top;\n",
       "    }\n",
       "\n",
       "    .dataframe thead th {\n",
       "        text-align: right;\n",
       "    }\n",
       "</style>\n",
       "<table border=\"1\" class=\"dataframe\">\n",
       "  <thead>\n",
       "    <tr style=\"text-align: right;\">\n",
       "      <th></th>\n",
       "      <th>siren</th>\n",
       "      <th>siret</th>\n",
       "      <th>complementAdresseEtablissement</th>\n",
       "      <th>numeroVoieEtablissement</th>\n",
       "      <th>indiceRepetitionEtablissement</th>\n",
       "      <th>typeVoieEtablissement</th>\n",
       "      <th>libelleVoieEtablissement</th>\n",
       "      <th>codePostalEtablissement</th>\n",
       "      <th>libelleCommuneEtablissement</th>\n",
       "      <th>libelleCommuneEtrangerEtablissement</th>\n",
       "      <th>distributionSpecialeEtablissement</th>\n",
       "      <th>codeCommuneEtablissement</th>\n",
       "      <th>codeCedexEtablissement</th>\n",
       "      <th>libelleCedexEtablissement</th>\n",
       "      <th>codePaysEtrangerEtablissement</th>\n",
       "      <th>libellePaysEtrangerEtablissement</th>\n",
       "      <th>count</th>\n",
       "    </tr>\n",
       "  </thead>\n",
       "  <tbody>\n",
       "    <tr>\n",
       "      <th>7910362</th>\n",
       "      <td>998239214</td>\n",
       "      <td>99823921400039</td>\n",
       "      <td>NaN</td>\n",
       "      <td>1</td>\n",
       "      <td>NaN</td>\n",
       "      <td>ALL</td>\n",
       "      <td>DES SOUCHES</td>\n",
       "      <td>78260</td>\n",
       "      <td>ACHERES</td>\n",
       "      <td>NaN</td>\n",
       "      <td>NaN</td>\n",
       "      <td>78005</td>\n",
       "      <td>NaN</td>\n",
       "      <td>NaN</td>\n",
       "      <td>NaN</td>\n",
       "      <td>NaN</td>\n",
       "      <td>1</td>\n",
       "    </tr>\n",
       "  </tbody>\n",
       "</table>\n",
       "</div>"
      ],
      "text/plain": [
       "             siren           siret complementAdresseEtablissement  \\\n",
       "7910362  998239214  99823921400039                            NaN   \n",
       "\n",
       "        numeroVoieEtablissement indiceRepetitionEtablissement  \\\n",
       "7910362                       1                           NaN   \n",
       "\n",
       "        typeVoieEtablissement libelleVoieEtablissement  \\\n",
       "7910362                   ALL              DES SOUCHES   \n",
       "\n",
       "        codePostalEtablissement libelleCommuneEtablissement  \\\n",
       "7910362                   78260                     ACHERES   \n",
       "\n",
       "        libelleCommuneEtrangerEtablissement distributionSpecialeEtablissement  \\\n",
       "7910362                                 NaN                               NaN   \n",
       "\n",
       "        codeCommuneEtablissement codeCedexEtablissement  \\\n",
       "7910362                    78005                    NaN   \n",
       "\n",
       "        libelleCedexEtablissement codePaysEtrangerEtablissement  \\\n",
       "7910362                       NaN                           NaN   \n",
       "\n",
       "        libellePaysEtrangerEtablissement  count  \n",
       "7910362                              NaN      1  "
      ]
     },
     "execution_count": 53,
     "metadata": {},
     "output_type": "execute_result"
    }
   ],
   "source": [
    "subset_insee_count.loc[lambda x: x['siren'].isin(['998239214'])]"
   ]
  },
  {
   "cell_type": "markdown",
   "metadata": {
    "Collapsed": "false"
   },
   "source": [
    "On garde ceux ou on est \"sur\" qu'il y a qu'un seul SIREN. SI count > 1, c'est du a des fermetures que l'INSEE a purgé dans la base mais pas l'INPI"
   ]
  },
  {
   "cell_type": "code",
   "execution_count": 54,
   "metadata": {
    "Collapsed": "false"
   },
   "outputs": [],
   "source": [
    "siren_count_1_found = test_1.loc[lambda x: x['count'].isin([1])]['siren'].to_list()"
   ]
  },
  {
   "cell_type": "markdown",
   "metadata": {
    "Collapsed": "false"
   },
   "source": [
    "### Match avec adresse"
   ]
  },
  {
   "cell_type": "markdown",
   "metadata": {
    "Collapsed": "false"
   },
   "source": [
    "On selectionne uniquement ceux pas matché.\n",
    "Pour accélerer la recherche, on utilise que le sous ensemble de siren a vérifier dans le fichier INSEE\n",
    "\n"
   ]
  },
  {
   "cell_type": "code",
   "execution_count": 82,
   "metadata": {
    "Collapsed": "false"
   },
   "outputs": [],
   "source": [
    "temp_adresse = m3['unmerged'].loc[lambda x: ~x['siren'].isin(siren_count_1_found)].copy()"
   ]
  },
  {
   "cell_type": "code",
   "execution_count": 83,
   "metadata": {
    "Collapsed": "false"
   },
   "outputs": [
    {
     "data": {
      "text/plain": [
       "221060"
      ]
     },
     "execution_count": 83,
     "metadata": {},
     "output_type": "execute_result"
    }
   ],
   "source": [
    "sous_ensemble_insee = subset_insee_count.loc[lambda x: x['siren'].isin(temp_adresse['siren'].to_list())]\n",
    "len(sous_ensemble_insee)"
   ]
  },
  {
   "cell_type": "markdown",
   "metadata": {
    "Collapsed": "false"
   },
   "source": [
    "Il faut retravailler les adresses:\n",
    "\n",
    "- Upper case\n",
    "\n",
    "La recherche se fait sur le libellé adresse. Dans l'INSEE, pas de numéro de voie, ni de typologie (rue, avenue, etc)\n",
    "\n",
    "ALL: Allée\n",
    "AV: Avenue\n",
    "BD: Boulevard\n",
    "CAR: Carrefour\n",
    "CHE: Chemin\n",
    "CHS: Chaussée\n",
    "CITE: Cité\n",
    "COR: Corniche\n",
    "CRS: Cours\n",
    "DOM: Domaine\n",
    "DSC: Descente\n",
    "ECA: Ecart\n",
    "ESP: Esplanade\n",
    "FG: Faubourg\n",
    "GR: Grande Rue\n",
    "HAM: Hameau\n",
    "HLE: Halle\n",
    "IMP: Impasse\n",
    "LD: Lieu dit\n",
    "LOT: Lotissement\n",
    "MAR: Marché\n",
    "MTE: Montée\n",
    "PAS: Passage\n",
    "PL: Place\n",
    "PLN: Plaine\n",
    "PLT: Plateau\n",
    "PRO: Promenade\n",
    "PRV: Parvis\n",
    "QUA: Quartier\n",
    "QUAI: Quai\n",
    "RES: Résidence\n",
    "RLE: Ruelle\n",
    "ROC: Rocade\n",
    "RPT: Rond Point\n",
    "RTE: Route\n",
    "RUE: Rue\n",
    "SEN: Sente - Sentier\n",
    "SQ: Square\n",
    "TPL: Terre-plein\n",
    "TRA: Traverse\n",
    "VLA: Villa\n",
    "VLGE: Village"
   ]
  },
  {
   "cell_type": "code",
   "execution_count": 126,
   "metadata": {
    "Collapsed": "false"
   },
   "outputs": [],
   "source": [
    "additional = [\"Avenue\",\n",
    "\"Boulevard\",\n",
    "\"Carrefour\",\n",
    "\"Chemin\",\n",
    "\"Chaussee\",\n",
    "\"Cite\",\n",
    "\"Corniche\",\n",
    "\"Cours\",\n",
    "\"Domaine\",\n",
    "\"Descente\",\n",
    "\"Ecart\",\n",
    "\"Esplanade\",\n",
    "\"Faubourg\",\n",
    "\"Grande Rue\",\n",
    "\"Hameau\",\n",
    "\"Halle\",\n",
    "\"Impasse\",\n",
    "\"Lieu dit\",\n",
    "\"Lotissement\",\n",
    "\"Marche\",\n",
    "\"Montee\",\n",
    "\"Passage\",\n",
    "\"Place\",\n",
    "\"Plaine\",\n",
    "\"Plateau\",\n",
    "\"Promenade\",\n",
    "\"Parvis\",\n",
    "\"Quartier\",\n",
    "\"Quai\",\n",
    "\"Residence\",\n",
    "\"Ruelle\",\n",
    "\"Rocade\",\n",
    "\"Rond Point\",\n",
    "\"Route\",\n",
    "\"Rue\",\n",
    "\"Sentier\",\n",
    "\"Square\",\n",
    "\"Terre plein\",\n",
    "\"Traverse\",\n",
    "\"Villa\",\n",
    "\"Village\",\n",
    "'bp', 'cedex']"
   ]
  },
  {
   "cell_type": "code",
   "execution_count": 57,
   "metadata": {
    "Collapsed": "false"
   },
   "outputs": [],
   "source": [
    "import nltk\n",
    "#nltk.download('stopwords')"
   ]
  },
  {
   "cell_type": "code",
   "execution_count": 58,
   "metadata": {
    "Collapsed": "false"
   },
   "outputs": [],
   "source": [
    "from nltk.corpus import stopwords"
   ]
  },
  {
   "cell_type": "code",
   "execution_count": 127,
   "metadata": {
    "Collapsed": "false"
   },
   "outputs": [],
   "source": [
    "stop_words = stopwords.words('french')\n",
    "stop_words.extend(additional)\n",
    "upper_stop = [i.upper() for i in stop_words]"
   ]
  },
  {
   "cell_type": "code",
   "execution_count": 128,
   "metadata": {
    "Collapsed": "false"
   },
   "outputs": [],
   "source": [
    "def create_split_adress(x):\n",
    "    \"\"\"\n",
    "    \"\"\"\n",
    "    split_ = x.str.split().to_list()\n",
    "    #split_ = ''.join(str(e) for e in split_)\n",
    "    #reg = '|'.join(split_)\n",
    "    return  split_\n",
    "\n",
    "def create_regex_adress(x):\n",
    "    \"\"\"\n",
    "    \"\"\"\n",
    "    try:\n",
    "        reg = '|'.join(x)\n",
    "    except:\n",
    "        reg = np.nan\n",
    "    return  reg"
   ]
  },
  {
   "cell_type": "code",
   "execution_count": 129,
   "metadata": {
    "Collapsed": "false"
   },
   "outputs": [
    {
     "data": {
      "text/html": [
       "<div>\n",
       "<style scoped>\n",
       "    .dataframe tbody tr th:only-of-type {\n",
       "        vertical-align: middle;\n",
       "    }\n",
       "\n",
       "    .dataframe tbody tr th {\n",
       "        vertical-align: top;\n",
       "    }\n",
       "\n",
       "    .dataframe thead th {\n",
       "        text-align: right;\n",
       "    }\n",
       "</style>\n",
       "<table border=\"1\" class=\"dataframe\">\n",
       "  <thead>\n",
       "    <tr style=\"text-align: right;\">\n",
       "      <th></th>\n",
       "      <th>siren</th>\n",
       "      <th>libelleCommuneEtablissement</th>\n",
       "      <th>Type</th>\n",
       "      <th>Adresse_Ligne1</th>\n",
       "      <th>Adresse_Ligne2</th>\n",
       "      <th>Adresse_Ligne3</th>\n",
       "      <th>Code_Postal</th>\n",
       "      <th>Ville</th>\n",
       "      <th>Code_Commune</th>\n",
       "      <th>Pays</th>\n",
       "      <th>test</th>\n",
       "      <th>ncc</th>\n",
       "      <th>Adresse_Ligne1_clean</th>\n",
       "      <th>Adresse_Ligne2_clean</th>\n",
       "      <th>Adresse_Ligne3_clean</th>\n",
       "      <th>test2</th>\n",
       "      <th>test3</th>\n",
       "      <th>test_1</th>\n",
       "      <th>test_2</th>\n",
       "      <th>test_3</th>\n",
       "    </tr>\n",
       "  </thead>\n",
       "  <tbody>\n",
       "    <tr>\n",
       "      <th>7784</th>\n",
       "      <td>343304465</td>\n",
       "      <td>NaN</td>\n",
       "      <td>SEC</td>\n",
       "      <td>place de l Eglise</td>\n",
       "      <td>NaN</td>\n",
       "      <td>NaN</td>\n",
       "      <td>02820</td>\n",
       "      <td>Corbeny</td>\n",
       "      <td>02215</td>\n",
       "      <td>France</td>\n",
       "      <td>[EGLISE]</td>\n",
       "      <td>CORBENY</td>\n",
       "      <td>EGLISE</td>\n",
       "      <td>nan</td>\n",
       "      <td>nan</td>\n",
       "      <td>[nan]</td>\n",
       "      <td>[nan]</td>\n",
       "      <td>EGLISE</td>\n",
       "      <td>nan</td>\n",
       "      <td>nan</td>\n",
       "    </tr>\n",
       "  </tbody>\n",
       "</table>\n",
       "</div>"
      ],
      "text/plain": [
       "          siren libelleCommuneEtablissement Type     Adresse_Ligne1  \\\n",
       "7784  343304465                         NaN  SEC  place de l Eglise   \n",
       "\n",
       "     Adresse_Ligne2 Adresse_Ligne3 Code_Postal    Ville Code_Commune    Pays  \\\n",
       "7784            NaN            NaN       02820  Corbeny        02215  France   \n",
       "\n",
       "          test      ncc Adresse_Ligne1_clean Adresse_Ligne2_clean  \\\n",
       "7784  [EGLISE]  CORBENY               EGLISE                  nan   \n",
       "\n",
       "     Adresse_Ligne3_clean  test2  test3  test_1 test_2 test_3  \n",
       "7784                  nan  [nan]  [nan]  EGLISE    nan    nan  "
      ]
     },
     "execution_count": 129,
     "metadata": {},
     "output_type": "execute_result"
    }
   ],
   "source": [
    "temp_adresse = temp_adresse.assign(\n",
    "    Adresse_Ligne1_clean=lambda x: x['Adresse_Ligne1'].str.normalize('NFKD')\n",
    "    .str.encode('ascii', errors='ignore')\n",
    "    .str.decode('utf-8')\n",
    "    .str.replace('[^\\w\\s]|\\d+', '')\n",
    "    .str.upper(),\n",
    "    Adresse_Ligne2_clean=lambda x: x['Adresse_Ligne2'].str.normalize('NFKD')\n",
    "    .str.encode('ascii', errors='ignore')\n",
    "    .str.decode('utf-8')\n",
    "    .str.replace('[^\\w\\s]|\\d+', '')\n",
    "    .str.upper(),\n",
    "    Adresse_Ligne3_clean=lambda x: x['Adresse_Ligne3'].str.normalize('NFKD')\n",
    "    .str.encode('ascii', errors='ignore')\n",
    "    .str.decode('utf-8')\n",
    "    .str.replace('[^\\w\\s]|\\d+', '')\n",
    "    .str.upper()\n",
    ")\n",
    "temp_adresse['Adresse_Ligne1_clean'] = (temp_adresse['Adresse_Ligne1_clean']\n",
    " .apply(lambda x: ' '.join([word for word in str(x).split() if word not in (upper_stop)]))\n",
    " )\n",
    "\n",
    "temp_adresse['Adresse_Ligne2_clean'] = (temp_adresse['Adresse_Ligne2_clean']\n",
    " .apply(lambda x: ' '.join([word for word in str(x).split() if word not in (upper_stop)]))\n",
    " )\n",
    "\n",
    "temp_adresse['Adresse_Ligne3_clean'] = (temp_adresse['Adresse_Ligne3_clean']\n",
    " .apply(lambda x: ' '.join([word for word in str(x).split() if word not in (upper_stop)]))\n",
    " )\n",
    "\n",
    "temp_adresse = temp_adresse.assign(\n",
    "    test = lambda x : create_split_adress(x['Adresse_Ligne1_clean']),\n",
    "    test2 = lambda x : create_split_adress(x['Adresse_Ligne2_clean']),\n",
    "    test3 = lambda x : create_split_adress(x['Adresse_Ligne3_clean'])\n",
    ")\n",
    "\n",
    "temp_adresse['test_1'] = temp_adresse['test'].apply(lambda x: create_regex_adress(x))\n",
    "temp_adresse['test_2'] = temp_adresse['test2'].apply(lambda x: create_regex_adress(x))\n",
    "temp_adresse['test_3'] = temp_adresse['test3'].apply(lambda x: create_regex_adress(x))\n",
    "\n",
    "temp_adresse.loc[lambda x: x['siren'].isin(['343304465'])]"
   ]
  },
  {
   "cell_type": "code",
   "execution_count": 130,
   "metadata": {
    "Collapsed": "false"
   },
   "outputs": [
    {
     "data": {
      "text/html": [
       "<div>\n",
       "<style scoped>\n",
       "    .dataframe tbody tr th:only-of-type {\n",
       "        vertical-align: middle;\n",
       "    }\n",
       "\n",
       "    .dataframe tbody tr th {\n",
       "        vertical-align: top;\n",
       "    }\n",
       "\n",
       "    .dataframe thead th {\n",
       "        text-align: right;\n",
       "    }\n",
       "</style>\n",
       "<table border=\"1\" class=\"dataframe\">\n",
       "  <thead>\n",
       "    <tr style=\"text-align: right;\">\n",
       "      <th></th>\n",
       "      <th>siren</th>\n",
       "      <th>libelleCommuneEtablissement</th>\n",
       "      <th>Type</th>\n",
       "      <th>Adresse_Ligne1</th>\n",
       "      <th>Adresse_Ligne2</th>\n",
       "      <th>Adresse_Ligne3</th>\n",
       "      <th>Code_Postal</th>\n",
       "      <th>Ville</th>\n",
       "      <th>Code_Commune</th>\n",
       "      <th>Pays</th>\n",
       "      <th>test</th>\n",
       "      <th>ncc</th>\n",
       "      <th>Adresse_Ligne1_clean</th>\n",
       "      <th>Adresse_Ligne2_clean</th>\n",
       "      <th>Adresse_Ligne3_clean</th>\n",
       "      <th>test2</th>\n",
       "      <th>test3</th>\n",
       "      <th>test_1</th>\n",
       "      <th>test_2</th>\n",
       "      <th>test_3</th>\n",
       "    </tr>\n",
       "  </thead>\n",
       "  <tbody>\n",
       "    <tr>\n",
       "      <th>7346</th>\n",
       "      <td>388383374</td>\n",
       "      <td>NaN</td>\n",
       "      <td>SEP</td>\n",
       "      <td>NaN</td>\n",
       "      <td>avenue André Citroën - Zone Industrielle - BP 303</td>\n",
       "      <td>NaN</td>\n",
       "      <td>01503</td>\n",
       "      <td>Amberieu en Bugey</td>\n",
       "      <td>NaN</td>\n",
       "      <td>FRANCE</td>\n",
       "      <td>[nan]</td>\n",
       "      <td>AMBERIEU EN BUGEY</td>\n",
       "      <td>nan</td>\n",
       "      <td>ANDRE CITROEN ZONE INDUSTRIELLE</td>\n",
       "      <td>nan</td>\n",
       "      <td>[ANDRE, CITROEN, ZONE, INDUSTRIELLE]</td>\n",
       "      <td>[nan]</td>\n",
       "      <td>nan</td>\n",
       "      <td>ANDRE|CITROEN|ZONE|INDUSTRIELLE</td>\n",
       "      <td>nan</td>\n",
       "    </tr>\n",
       "    <tr>\n",
       "      <th>7347</th>\n",
       "      <td>819816067</td>\n",
       "      <td>NaN</td>\n",
       "      <td>SEP</td>\n",
       "      <td>NaN</td>\n",
       "      <td>1 Moulin du Pont</td>\n",
       "      <td>NaN</td>\n",
       "      <td>01580</td>\n",
       "      <td>Samognat</td>\n",
       "      <td>01392</td>\n",
       "      <td>FRANCE</td>\n",
       "      <td>[nan]</td>\n",
       "      <td>SAMOGNAT</td>\n",
       "      <td>nan</td>\n",
       "      <td>MOULIN PONT</td>\n",
       "      <td>nan</td>\n",
       "      <td>[MOULIN, PONT]</td>\n",
       "      <td>[nan]</td>\n",
       "      <td>nan</td>\n",
       "      <td>MOULIN|PONT</td>\n",
       "      <td>nan</td>\n",
       "    </tr>\n",
       "    <tr>\n",
       "      <th>7348</th>\n",
       "      <td>420281784</td>\n",
       "      <td>NaN</td>\n",
       "      <td>PRI</td>\n",
       "      <td>NaN</td>\n",
       "      <td>72 rue Pasteur</td>\n",
       "      <td>NaN</td>\n",
       "      <td>01400</td>\n",
       "      <td>Chatillon sur Chalaronne</td>\n",
       "      <td>01093</td>\n",
       "      <td>FRANCE</td>\n",
       "      <td>[nan]</td>\n",
       "      <td>CHATILLON SUR CHALARONNE</td>\n",
       "      <td>nan</td>\n",
       "      <td>PASTEUR</td>\n",
       "      <td>nan</td>\n",
       "      <td>[PASTEUR]</td>\n",
       "      <td>[nan]</td>\n",
       "      <td>nan</td>\n",
       "      <td>PASTEUR</td>\n",
       "      <td>nan</td>\n",
       "    </tr>\n",
       "    <tr>\n",
       "      <th>7349</th>\n",
       "      <td>572086577</td>\n",
       "      <td>NaN</td>\n",
       "      <td>SEC</td>\n",
       "      <td>91 Avenue STE MARGUERITE</td>\n",
       "      <td>NaN</td>\n",
       "      <td>NaN</td>\n",
       "      <td>00006</td>\n",
       "      <td>NICE</td>\n",
       "      <td>NaN</td>\n",
       "      <td>FRANCE</td>\n",
       "      <td>[STE, MARGUERITE]</td>\n",
       "      <td>NICE</td>\n",
       "      <td>STE MARGUERITE</td>\n",
       "      <td>nan</td>\n",
       "      <td>nan</td>\n",
       "      <td>[nan]</td>\n",
       "      <td>[nan]</td>\n",
       "      <td>STE|MARGUERITE</td>\n",
       "      <td>nan</td>\n",
       "      <td>nan</td>\n",
       "    </tr>\n",
       "  </tbody>\n",
       "</table>\n",
       "</div>"
      ],
      "text/plain": [
       "          siren libelleCommuneEtablissement Type            Adresse_Ligne1  \\\n",
       "7346  388383374                         NaN  SEP                       NaN   \n",
       "7347  819816067                         NaN  SEP                       NaN   \n",
       "7348  420281784                         NaN  PRI                       NaN   \n",
       "7349  572086577                         NaN  SEC  91 Avenue STE MARGUERITE   \n",
       "\n",
       "                                         Adresse_Ligne2 Adresse_Ligne3  \\\n",
       "7346  avenue André Citroën - Zone Industrielle - BP 303            NaN   \n",
       "7347                                   1 Moulin du Pont            NaN   \n",
       "7348                                     72 rue Pasteur            NaN   \n",
       "7349                                                NaN            NaN   \n",
       "\n",
       "     Code_Postal                     Ville Code_Commune    Pays  \\\n",
       "7346       01503         Amberieu en Bugey          NaN  FRANCE   \n",
       "7347       01580                  Samognat        01392  FRANCE   \n",
       "7348       01400  Chatillon sur Chalaronne        01093  FRANCE   \n",
       "7349       00006                      NICE          NaN  FRANCE   \n",
       "\n",
       "                   test                       ncc Adresse_Ligne1_clean  \\\n",
       "7346              [nan]         AMBERIEU EN BUGEY                  nan   \n",
       "7347              [nan]                  SAMOGNAT                  nan   \n",
       "7348              [nan]  CHATILLON SUR CHALARONNE                  nan   \n",
       "7349  [STE, MARGUERITE]                      NICE       STE MARGUERITE   \n",
       "\n",
       "                 Adresse_Ligne2_clean Adresse_Ligne3_clean  \\\n",
       "7346  ANDRE CITROEN ZONE INDUSTRIELLE                  nan   \n",
       "7347                      MOULIN PONT                  nan   \n",
       "7348                          PASTEUR                  nan   \n",
       "7349                              nan                  nan   \n",
       "\n",
       "                                     test2  test3          test_1  \\\n",
       "7346  [ANDRE, CITROEN, ZONE, INDUSTRIELLE]  [nan]             nan   \n",
       "7347                        [MOULIN, PONT]  [nan]             nan   \n",
       "7348                             [PASTEUR]  [nan]             nan   \n",
       "7349                                 [nan]  [nan]  STE|MARGUERITE   \n",
       "\n",
       "                               test_2 test_3  \n",
       "7346  ANDRE|CITROEN|ZONE|INDUSTRIELLE    nan  \n",
       "7347                      MOULIN|PONT    nan  \n",
       "7348                          PASTEUR    nan  \n",
       "7349                              nan    nan  "
      ]
     },
     "execution_count": 130,
     "metadata": {},
     "output_type": "execute_result"
    }
   ],
   "source": [
    "temp_adresse.head(4)"
   ]
  },
  {
   "cell_type": "code",
   "execution_count": 104,
   "metadata": {
    "Collapsed": "false"
   },
   "outputs": [],
   "source": [
    "def lookupInseeInpi(siren, regex_):\n",
    "    \"\"\"\n",
    "    \"\"\"\n",
    "    try:\n",
    "        siret_ = sous_ensemble_insee.loc[lambda x: \n",
    "                                  x['siren'].isin([siren])\n",
    "                      & x['libelleVoieEtablissement'].str.contains(\n",
    "                          regex_, \n",
    "                          case = False, \n",
    "                          regex = True)\n",
    "                      ]['siret']\n",
    "        return siret_.values[0]\n",
    "    except:\n",
    "        return np.nan "
   ]
  },
  {
   "cell_type": "code",
   "execution_count": 120,
   "metadata": {
    "Collapsed": "false"
   },
   "outputs": [
    {
     "data": {
      "text/plain": [
       "'572086577'"
      ]
     },
     "execution_count": 120,
     "metadata": {},
     "output_type": "execute_result"
    }
   ],
   "source": [
    "temp_adresse.iloc[3, 0]"
   ]
  },
  {
   "cell_type": "code",
   "execution_count": 121,
   "metadata": {
    "Collapsed": "false"
   },
   "outputs": [
    {
     "data": {
      "text/plain": [
       "'91|STE|MARGUERITE'"
      ]
     },
     "execution_count": 121,
     "metadata": {},
     "output_type": "execute_result"
    }
   ],
   "source": [
    "temp_adresse.iloc[3, -3]"
   ]
  },
  {
   "cell_type": "code",
   "execution_count": 122,
   "metadata": {
    "Collapsed": "false"
   },
   "outputs": [
    {
     "data": {
      "text/html": [
       "<div>\n",
       "<style scoped>\n",
       "    .dataframe tbody tr th:only-of-type {\n",
       "        vertical-align: middle;\n",
       "    }\n",
       "\n",
       "    .dataframe tbody tr th {\n",
       "        vertical-align: top;\n",
       "    }\n",
       "\n",
       "    .dataframe thead th {\n",
       "        text-align: right;\n",
       "    }\n",
       "</style>\n",
       "<table border=\"1\" class=\"dataframe\">\n",
       "  <thead>\n",
       "    <tr style=\"text-align: right;\">\n",
       "      <th></th>\n",
       "      <th>siren</th>\n",
       "      <th>siret</th>\n",
       "      <th>complementAdresseEtablissement</th>\n",
       "      <th>numeroVoieEtablissement</th>\n",
       "      <th>indiceRepetitionEtablissement</th>\n",
       "      <th>typeVoieEtablissement</th>\n",
       "      <th>libelleVoieEtablissement</th>\n",
       "      <th>codePostalEtablissement</th>\n",
       "      <th>libelleCommuneEtablissement</th>\n",
       "      <th>libelleCommuneEtrangerEtablissement</th>\n",
       "      <th>distributionSpecialeEtablissement</th>\n",
       "      <th>codeCommuneEtablissement</th>\n",
       "      <th>codeCedexEtablissement</th>\n",
       "      <th>libelleCedexEtablissement</th>\n",
       "      <th>codePaysEtrangerEtablissement</th>\n",
       "      <th>libellePaysEtrangerEtablissement</th>\n",
       "      <th>count</th>\n",
       "    </tr>\n",
       "  </thead>\n",
       "  <tbody>\n",
       "    <tr>\n",
       "      <th>5915538</th>\n",
       "      <td>572086577</td>\n",
       "      <td>57208657700051</td>\n",
       "      <td>ST NICOLAS</td>\n",
       "      <td>5</td>\n",
       "      <td>NaN</td>\n",
       "      <td>RUE</td>\n",
       "      <td>DES CARRIERES</td>\n",
       "      <td>89390</td>\n",
       "      <td>RAVIERES</td>\n",
       "      <td>NaN</td>\n",
       "      <td>NaN</td>\n",
       "      <td>89321</td>\n",
       "      <td>NaN</td>\n",
       "      <td>NaN</td>\n",
       "      <td>NaN</td>\n",
       "      <td>NaN</td>\n",
       "      <td>54</td>\n",
       "    </tr>\n",
       "    <tr>\n",
       "      <th>5915539</th>\n",
       "      <td>572086577</td>\n",
       "      <td>57208657700069</td>\n",
       "      <td>NaN</td>\n",
       "      <td>NaN</td>\n",
       "      <td>NaN</td>\n",
       "      <td>NaN</td>\n",
       "      <td>NaN</td>\n",
       "      <td>89390</td>\n",
       "      <td>RAVIERES</td>\n",
       "      <td>NaN</td>\n",
       "      <td>NaN</td>\n",
       "      <td>89321</td>\n",
       "      <td>NaN</td>\n",
       "      <td>NaN</td>\n",
       "      <td>NaN</td>\n",
       "      <td>NaN</td>\n",
       "      <td>54</td>\n",
       "    </tr>\n",
       "    <tr>\n",
       "      <th>5915540</th>\n",
       "      <td>572086577</td>\n",
       "      <td>57208657700085</td>\n",
       "      <td>NaN</td>\n",
       "      <td>NaN</td>\n",
       "      <td>NaN</td>\n",
       "      <td>LD</td>\n",
       "      <td>LARRYS</td>\n",
       "      <td>89390</td>\n",
       "      <td>CRY</td>\n",
       "      <td>NaN</td>\n",
       "      <td>NaN</td>\n",
       "      <td>89132</td>\n",
       "      <td>NaN</td>\n",
       "      <td>NaN</td>\n",
       "      <td>NaN</td>\n",
       "      <td>NaN</td>\n",
       "      <td>54</td>\n",
       "    </tr>\n",
       "    <tr>\n",
       "      <th>5915541</th>\n",
       "      <td>572086577</td>\n",
       "      <td>57208657700093</td>\n",
       "      <td>NaN</td>\n",
       "      <td>NaN</td>\n",
       "      <td>NaN</td>\n",
       "      <td>NaN</td>\n",
       "      <td>NaN</td>\n",
       "      <td>89420</td>\n",
       "      <td>BIERRY-LES-BELLES-FONTAINES</td>\n",
       "      <td>NaN</td>\n",
       "      <td>NaN</td>\n",
       "      <td>89042</td>\n",
       "      <td>NaN</td>\n",
       "      <td>NaN</td>\n",
       "      <td>NaN</td>\n",
       "      <td>NaN</td>\n",
       "      <td>54</td>\n",
       "    </tr>\n",
       "    <tr>\n",
       "      <th>5915542</th>\n",
       "      <td>572086577</td>\n",
       "      <td>57208657700101</td>\n",
       "      <td>NaN</td>\n",
       "      <td>NaN</td>\n",
       "      <td>NaN</td>\n",
       "      <td>NaN</td>\n",
       "      <td>NaN</td>\n",
       "      <td>86800</td>\n",
       "      <td>TERCE</td>\n",
       "      <td>NaN</td>\n",
       "      <td>NaN</td>\n",
       "      <td>86268</td>\n",
       "      <td>NaN</td>\n",
       "      <td>NaN</td>\n",
       "      <td>NaN</td>\n",
       "      <td>NaN</td>\n",
       "      <td>54</td>\n",
       "    </tr>\n",
       "    <tr>\n",
       "      <th>5915543</th>\n",
       "      <td>572086577</td>\n",
       "      <td>57208657700184</td>\n",
       "      <td>NaN</td>\n",
       "      <td>NaN</td>\n",
       "      <td>NaN</td>\n",
       "      <td>NaN</td>\n",
       "      <td>NaN</td>\n",
       "      <td>71390</td>\n",
       "      <td>BUXY</td>\n",
       "      <td>NaN</td>\n",
       "      <td>NaN</td>\n",
       "      <td>71070</td>\n",
       "      <td>NaN</td>\n",
       "      <td>NaN</td>\n",
       "      <td>NaN</td>\n",
       "      <td>NaN</td>\n",
       "      <td>54</td>\n",
       "    </tr>\n",
       "    <tr>\n",
       "      <th>5915544</th>\n",
       "      <td>572086577</td>\n",
       "      <td>57208657700192</td>\n",
       "      <td>NaN</td>\n",
       "      <td>NaN</td>\n",
       "      <td>NaN</td>\n",
       "      <td>HAM</td>\n",
       "      <td>CRUCHAUD</td>\n",
       "      <td>71390</td>\n",
       "      <td>BISSEY-SOUS-CRUCHAUD</td>\n",
       "      <td>NaN</td>\n",
       "      <td>NaN</td>\n",
       "      <td>71034</td>\n",
       "      <td>NaN</td>\n",
       "      <td>NaN</td>\n",
       "      <td>NaN</td>\n",
       "      <td>NaN</td>\n",
       "      <td>54</td>\n",
       "    </tr>\n",
       "    <tr>\n",
       "      <th>5915545</th>\n",
       "      <td>572086577</td>\n",
       "      <td>57208657700218</td>\n",
       "      <td>NaN</td>\n",
       "      <td>NaN</td>\n",
       "      <td>NaN</td>\n",
       "      <td>NaN</td>\n",
       "      <td>PAYOLLE</td>\n",
       "      <td>65710</td>\n",
       "      <td>CAMPAN</td>\n",
       "      <td>NaN</td>\n",
       "      <td>NaN</td>\n",
       "      <td>65123</td>\n",
       "      <td>NaN</td>\n",
       "      <td>NaN</td>\n",
       "      <td>NaN</td>\n",
       "      <td>NaN</td>\n",
       "      <td>54</td>\n",
       "    </tr>\n",
       "    <tr>\n",
       "      <th>5915546</th>\n",
       "      <td>572086577</td>\n",
       "      <td>57208657700259</td>\n",
       "      <td>NaN</td>\n",
       "      <td>1</td>\n",
       "      <td>NaN</td>\n",
       "      <td>IMP</td>\n",
       "      <td>DES CERISIERS</td>\n",
       "      <td>60740</td>\n",
       "      <td>SAINT-MAXIMIN</td>\n",
       "      <td>NaN</td>\n",
       "      <td>NaN</td>\n",
       "      <td>60589</td>\n",
       "      <td>NaN</td>\n",
       "      <td>NaN</td>\n",
       "      <td>NaN</td>\n",
       "      <td>NaN</td>\n",
       "      <td>54</td>\n",
       "    </tr>\n",
       "    <tr>\n",
       "      <th>5915547</th>\n",
       "      <td>572086577</td>\n",
       "      <td>57208657700283</td>\n",
       "      <td>NaN</td>\n",
       "      <td>NaN</td>\n",
       "      <td>NaN</td>\n",
       "      <td>NaN</td>\n",
       "      <td>NaN</td>\n",
       "      <td>55170</td>\n",
       "      <td>SAVONNIERES-EN-PERTHOIS</td>\n",
       "      <td>NaN</td>\n",
       "      <td>NaN</td>\n",
       "      <td>55477</td>\n",
       "      <td>NaN</td>\n",
       "      <td>NaN</td>\n",
       "      <td>NaN</td>\n",
       "      <td>NaN</td>\n",
       "      <td>54</td>\n",
       "    </tr>\n",
       "    <tr>\n",
       "      <th>5915548</th>\n",
       "      <td>572086577</td>\n",
       "      <td>57208657700291</td>\n",
       "      <td>NaN</td>\n",
       "      <td>NaN</td>\n",
       "      <td>NaN</td>\n",
       "      <td>NaN</td>\n",
       "      <td>NaN</td>\n",
       "      <td>55170</td>\n",
       "      <td>SAVONNIERES-EN-PERTHOIS</td>\n",
       "      <td>NaN</td>\n",
       "      <td>NaN</td>\n",
       "      <td>55477</td>\n",
       "      <td>NaN</td>\n",
       "      <td>NaN</td>\n",
       "      <td>NaN</td>\n",
       "      <td>NaN</td>\n",
       "      <td>54</td>\n",
       "    </tr>\n",
       "    <tr>\n",
       "      <th>5915549</th>\n",
       "      <td>572086577</td>\n",
       "      <td>57208657700309</td>\n",
       "      <td>NaN</td>\n",
       "      <td>NaN</td>\n",
       "      <td>NaN</td>\n",
       "      <td>RUE</td>\n",
       "      <td>NATIONALE</td>\n",
       "      <td>55200</td>\n",
       "      <td>LEROUVILLE</td>\n",
       "      <td>NaN</td>\n",
       "      <td>NaN</td>\n",
       "      <td>55288</td>\n",
       "      <td>NaN</td>\n",
       "      <td>NaN</td>\n",
       "      <td>NaN</td>\n",
       "      <td>NaN</td>\n",
       "      <td>54</td>\n",
       "    </tr>\n",
       "    <tr>\n",
       "      <th>5915550</th>\n",
       "      <td>572086577</td>\n",
       "      <td>57208657700317</td>\n",
       "      <td>NaN</td>\n",
       "      <td>NaN</td>\n",
       "      <td>NaN</td>\n",
       "      <td>RUE</td>\n",
       "      <td>DES CARRIERES</td>\n",
       "      <td>55200</td>\n",
       "      <td>EUVILLE</td>\n",
       "      <td>NaN</td>\n",
       "      <td>NaN</td>\n",
       "      <td>55184</td>\n",
       "      <td>NaN</td>\n",
       "      <td>NaN</td>\n",
       "      <td>NaN</td>\n",
       "      <td>NaN</td>\n",
       "      <td>54</td>\n",
       "    </tr>\n",
       "    <tr>\n",
       "      <th>5915551</th>\n",
       "      <td>572086577</td>\n",
       "      <td>57208657700333</td>\n",
       "      <td>NaN</td>\n",
       "      <td>NaN</td>\n",
       "      <td>NaN</td>\n",
       "      <td>NaN</td>\n",
       "      <td>CUMONT</td>\n",
       "      <td>53000</td>\n",
       "      <td>LAVAL</td>\n",
       "      <td>NaN</td>\n",
       "      <td>NaN</td>\n",
       "      <td>53130</td>\n",
       "      <td>NaN</td>\n",
       "      <td>NaN</td>\n",
       "      <td>NaN</td>\n",
       "      <td>NaN</td>\n",
       "      <td>54</td>\n",
       "    </tr>\n",
       "    <tr>\n",
       "      <th>5915552</th>\n",
       "      <td>572086577</td>\n",
       "      <td>57208657700390</td>\n",
       "      <td>NaN</td>\n",
       "      <td>NaN</td>\n",
       "      <td>NaN</td>\n",
       "      <td>NaN</td>\n",
       "      <td>NaN</td>\n",
       "      <td>21700</td>\n",
       "      <td>VILLERS-LA-FAYE</td>\n",
       "      <td>NaN</td>\n",
       "      <td>NaN</td>\n",
       "      <td>21698</td>\n",
       "      <td>NaN</td>\n",
       "      <td>NaN</td>\n",
       "      <td>NaN</td>\n",
       "      <td>NaN</td>\n",
       "      <td>54</td>\n",
       "    </tr>\n",
       "    <tr>\n",
       "      <th>5915553</th>\n",
       "      <td>572086577</td>\n",
       "      <td>57208657700408</td>\n",
       "      <td>NaN</td>\n",
       "      <td>NaN</td>\n",
       "      <td>NaN</td>\n",
       "      <td>NaN</td>\n",
       "      <td>NaN</td>\n",
       "      <td>21700</td>\n",
       "      <td>PREMEAUX-PRISSEY</td>\n",
       "      <td>NaN</td>\n",
       "      <td>NaN</td>\n",
       "      <td>21506</td>\n",
       "      <td>NaN</td>\n",
       "      <td>NaN</td>\n",
       "      <td>NaN</td>\n",
       "      <td>NaN</td>\n",
       "      <td>54</td>\n",
       "    </tr>\n",
       "    <tr>\n",
       "      <th>5915554</th>\n",
       "      <td>572086577</td>\n",
       "      <td>57208657700416</td>\n",
       "      <td>NaN</td>\n",
       "      <td>NaN</td>\n",
       "      <td>NaN</td>\n",
       "      <td>NaN</td>\n",
       "      <td>NaN</td>\n",
       "      <td>21700</td>\n",
       "      <td>COMBLANCHIEN</td>\n",
       "      <td>NaN</td>\n",
       "      <td>NaN</td>\n",
       "      <td>21186</td>\n",
       "      <td>NaN</td>\n",
       "      <td>NaN</td>\n",
       "      <td>NaN</td>\n",
       "      <td>NaN</td>\n",
       "      <td>54</td>\n",
       "    </tr>\n",
       "    <tr>\n",
       "      <th>5915555</th>\n",
       "      <td>572086577</td>\n",
       "      <td>57208657700424</td>\n",
       "      <td>NaN</td>\n",
       "      <td>NaN</td>\n",
       "      <td>NaN</td>\n",
       "      <td>NaN</td>\n",
       "      <td>NaN</td>\n",
       "      <td>21700</td>\n",
       "      <td>COMBLANCHIEN</td>\n",
       "      <td>NaN</td>\n",
       "      <td>NaN</td>\n",
       "      <td>21186</td>\n",
       "      <td>NaN</td>\n",
       "      <td>NaN</td>\n",
       "      <td>NaN</td>\n",
       "      <td>NaN</td>\n",
       "      <td>54</td>\n",
       "    </tr>\n",
       "    <tr>\n",
       "      <th>5915556</th>\n",
       "      <td>572086577</td>\n",
       "      <td>57208657700432</td>\n",
       "      <td>NaN</td>\n",
       "      <td>NaN</td>\n",
       "      <td>NaN</td>\n",
       "      <td>NaN</td>\n",
       "      <td>NaN</td>\n",
       "      <td>21500</td>\n",
       "      <td>BUFFON</td>\n",
       "      <td>NaN</td>\n",
       "      <td>NaN</td>\n",
       "      <td>21114</td>\n",
       "      <td>NaN</td>\n",
       "      <td>NaN</td>\n",
       "      <td>NaN</td>\n",
       "      <td>NaN</td>\n",
       "      <td>54</td>\n",
       "    </tr>\n",
       "    <tr>\n",
       "      <th>5915557</th>\n",
       "      <td>572086577</td>\n",
       "      <td>57208657700457</td>\n",
       "      <td>CARRIERE</td>\n",
       "      <td>NaN</td>\n",
       "      <td>NaN</td>\n",
       "      <td>NaN</td>\n",
       "      <td>NaN</td>\n",
       "      <td>17800</td>\n",
       "      <td>AVY</td>\n",
       "      <td>NaN</td>\n",
       "      <td>NaN</td>\n",
       "      <td>17027</td>\n",
       "      <td>NaN</td>\n",
       "      <td>NaN</td>\n",
       "      <td>NaN</td>\n",
       "      <td>NaN</td>\n",
       "      <td>54</td>\n",
       "    </tr>\n",
       "    <tr>\n",
       "      <th>5915558</th>\n",
       "      <td>572086577</td>\n",
       "      <td>57208657700465</td>\n",
       "      <td>NaN</td>\n",
       "      <td>NaN</td>\n",
       "      <td>NaN</td>\n",
       "      <td>LD</td>\n",
       "      <td>ROCHEBERTIER</td>\n",
       "      <td>16220</td>\n",
       "      <td>MOULINS-SUR-TARDOIRE</td>\n",
       "      <td>NaN</td>\n",
       "      <td>NaN</td>\n",
       "      <td>16406</td>\n",
       "      <td>NaN</td>\n",
       "      <td>NaN</td>\n",
       "      <td>NaN</td>\n",
       "      <td>NaN</td>\n",
       "      <td>54</td>\n",
       "    </tr>\n",
       "    <tr>\n",
       "      <th>5915559</th>\n",
       "      <td>572086577</td>\n",
       "      <td>57208657700473</td>\n",
       "      <td>NaN</td>\n",
       "      <td>NaN</td>\n",
       "      <td>NaN</td>\n",
       "      <td>NaN</td>\n",
       "      <td>NaN</td>\n",
       "      <td>16220</td>\n",
       "      <td>MOULINS-SUR-TARDOIRE</td>\n",
       "      <td>NaN</td>\n",
       "      <td>NaN</td>\n",
       "      <td>16406</td>\n",
       "      <td>NaN</td>\n",
       "      <td>NaN</td>\n",
       "      <td>NaN</td>\n",
       "      <td>NaN</td>\n",
       "      <td>54</td>\n",
       "    </tr>\n",
       "    <tr>\n",
       "      <th>5915560</th>\n",
       "      <td>572086577</td>\n",
       "      <td>57208657700481</td>\n",
       "      <td>NaN</td>\n",
       "      <td>NaN</td>\n",
       "      <td>NaN</td>\n",
       "      <td>NaN</td>\n",
       "      <td>NaN</td>\n",
       "      <td>16440</td>\n",
       "      <td>SIREUIL</td>\n",
       "      <td>NaN</td>\n",
       "      <td>NaN</td>\n",
       "      <td>16370</td>\n",
       "      <td>NaN</td>\n",
       "      <td>NaN</td>\n",
       "      <td>NaN</td>\n",
       "      <td>NaN</td>\n",
       "      <td>54</td>\n",
       "    </tr>\n",
       "    <tr>\n",
       "      <th>5915561</th>\n",
       "      <td>572086577</td>\n",
       "      <td>57208657700549</td>\n",
       "      <td>NaN</td>\n",
       "      <td>NaN</td>\n",
       "      <td>NaN</td>\n",
       "      <td>NaN</td>\n",
       "      <td>NaN</td>\n",
       "      <td>02200</td>\n",
       "      <td>SEPTMONTS</td>\n",
       "      <td>NaN</td>\n",
       "      <td>NaN</td>\n",
       "      <td>02706</td>\n",
       "      <td>NaN</td>\n",
       "      <td>NaN</td>\n",
       "      <td>NaN</td>\n",
       "      <td>NaN</td>\n",
       "      <td>54</td>\n",
       "    </tr>\n",
       "    <tr>\n",
       "      <th>5915562</th>\n",
       "      <td>572086577</td>\n",
       "      <td>57208657700556</td>\n",
       "      <td>NaN</td>\n",
       "      <td>NaN</td>\n",
       "      <td>NaN</td>\n",
       "      <td>NaN</td>\n",
       "      <td>NaN</td>\n",
       "      <td>02200</td>\n",
       "      <td>SEPTMONTS</td>\n",
       "      <td>NaN</td>\n",
       "      <td>NaN</td>\n",
       "      <td>02706</td>\n",
       "      <td>NaN</td>\n",
       "      <td>NaN</td>\n",
       "      <td>NaN</td>\n",
       "      <td>NaN</td>\n",
       "      <td>54</td>\n",
       "    </tr>\n",
       "    <tr>\n",
       "      <th>5915563</th>\n",
       "      <td>572086577</td>\n",
       "      <td>57208657700564</td>\n",
       "      <td>NaN</td>\n",
       "      <td>NaN</td>\n",
       "      <td>NaN</td>\n",
       "      <td>NaN</td>\n",
       "      <td>NaN</td>\n",
       "      <td>01150</td>\n",
       "      <td>SAULT-BRENAZ</td>\n",
       "      <td>NaN</td>\n",
       "      <td>NaN</td>\n",
       "      <td>01396</td>\n",
       "      <td>NaN</td>\n",
       "      <td>NaN</td>\n",
       "      <td>NaN</td>\n",
       "      <td>NaN</td>\n",
       "      <td>54</td>\n",
       "    </tr>\n",
       "    <tr>\n",
       "      <th>5915564</th>\n",
       "      <td>572086577</td>\n",
       "      <td>57208657700580</td>\n",
       "      <td>NaN</td>\n",
       "      <td>NaN</td>\n",
       "      <td>NaN</td>\n",
       "      <td>NaN</td>\n",
       "      <td>NaN</td>\n",
       "      <td>64470</td>\n",
       "      <td>CAMOU-CIHIGUE</td>\n",
       "      <td>NaN</td>\n",
       "      <td>NaN</td>\n",
       "      <td>64162</td>\n",
       "      <td>NaN</td>\n",
       "      <td>NaN</td>\n",
       "      <td>NaN</td>\n",
       "      <td>NaN</td>\n",
       "      <td>54</td>\n",
       "    </tr>\n",
       "    <tr>\n",
       "      <th>5915565</th>\n",
       "      <td>572086577</td>\n",
       "      <td>57208657700606</td>\n",
       "      <td>NaN</td>\n",
       "      <td>NaN</td>\n",
       "      <td>NaN</td>\n",
       "      <td>NaN</td>\n",
       "      <td>NaN</td>\n",
       "      <td>64260</td>\n",
       "      <td>REBENACQ</td>\n",
       "      <td>NaN</td>\n",
       "      <td>NaN</td>\n",
       "      <td>64463</td>\n",
       "      <td>NaN</td>\n",
       "      <td>NaN</td>\n",
       "      <td>NaN</td>\n",
       "      <td>NaN</td>\n",
       "      <td>54</td>\n",
       "    </tr>\n",
       "    <tr>\n",
       "      <th>5915566</th>\n",
       "      <td>572086577</td>\n",
       "      <td>57208657700614</td>\n",
       "      <td>NaN</td>\n",
       "      <td>21</td>\n",
       "      <td>NaN</td>\n",
       "      <td>RUE</td>\n",
       "      <td>DU PARC NATIONAL</td>\n",
       "      <td>64260</td>\n",
       "      <td>ARUDY</td>\n",
       "      <td>NaN</td>\n",
       "      <td>NaN</td>\n",
       "      <td>64062</td>\n",
       "      <td>NaN</td>\n",
       "      <td>NaN</td>\n",
       "      <td>NaN</td>\n",
       "      <td>NaN</td>\n",
       "      <td>54</td>\n",
       "    </tr>\n",
       "    <tr>\n",
       "      <th>5915567</th>\n",
       "      <td>572086577</td>\n",
       "      <td>57208657700697</td>\n",
       "      <td>NaN</td>\n",
       "      <td>NaN</td>\n",
       "      <td>NaN</td>\n",
       "      <td>NaN</td>\n",
       "      <td>NaN</td>\n",
       "      <td>89160</td>\n",
       "      <td>CHASSIGNELLES</td>\n",
       "      <td>NaN</td>\n",
       "      <td>NaN</td>\n",
       "      <td>89087</td>\n",
       "      <td>NaN</td>\n",
       "      <td>NaN</td>\n",
       "      <td>NaN</td>\n",
       "      <td>NaN</td>\n",
       "      <td>54</td>\n",
       "    </tr>\n",
       "    <tr>\n",
       "      <th>5915568</th>\n",
       "      <td>572086577</td>\n",
       "      <td>57208657700705</td>\n",
       "      <td>NaN</td>\n",
       "      <td>NaN</td>\n",
       "      <td>NaN</td>\n",
       "      <td>NaN</td>\n",
       "      <td>NaN</td>\n",
       "      <td>89580</td>\n",
       "      <td>CHARENTENAY</td>\n",
       "      <td>NaN</td>\n",
       "      <td>NaN</td>\n",
       "      <td>89084</td>\n",
       "      <td>NaN</td>\n",
       "      <td>NaN</td>\n",
       "      <td>NaN</td>\n",
       "      <td>NaN</td>\n",
       "      <td>54</td>\n",
       "    </tr>\n",
       "    <tr>\n",
       "      <th>5915569</th>\n",
       "      <td>572086577</td>\n",
       "      <td>57208657700721</td>\n",
       "      <td>NaN</td>\n",
       "      <td>NaN</td>\n",
       "      <td>NaN</td>\n",
       "      <td>NaN</td>\n",
       "      <td>NaN</td>\n",
       "      <td>11160</td>\n",
       "      <td>CAUNES-MINERVOIS</td>\n",
       "      <td>NaN</td>\n",
       "      <td>NaN</td>\n",
       "      <td>11081</td>\n",
       "      <td>NaN</td>\n",
       "      <td>NaN</td>\n",
       "      <td>NaN</td>\n",
       "      <td>NaN</td>\n",
       "      <td>54</td>\n",
       "    </tr>\n",
       "    <tr>\n",
       "      <th>5915570</th>\n",
       "      <td>572086577</td>\n",
       "      <td>57208657700739</td>\n",
       "      <td>NaN</td>\n",
       "      <td>NaN</td>\n",
       "      <td>NaN</td>\n",
       "      <td>NaN</td>\n",
       "      <td>NaN</td>\n",
       "      <td>21190</td>\n",
       "      <td>CHASSAGNE-MONTRACHET</td>\n",
       "      <td>NaN</td>\n",
       "      <td>NaN</td>\n",
       "      <td>21150</td>\n",
       "      <td>NaN</td>\n",
       "      <td>NaN</td>\n",
       "      <td>NaN</td>\n",
       "      <td>NaN</td>\n",
       "      <td>54</td>\n",
       "    </tr>\n",
       "    <tr>\n",
       "      <th>5915571</th>\n",
       "      <td>572086577</td>\n",
       "      <td>57208657700754</td>\n",
       "      <td>NaN</td>\n",
       "      <td>NaN</td>\n",
       "      <td>NaN</td>\n",
       "      <td>NaN</td>\n",
       "      <td>BONNILLET NORD</td>\n",
       "      <td>86360</td>\n",
       "      <td>CHASSENEUIL-DU-POITOU</td>\n",
       "      <td>NaN</td>\n",
       "      <td>NaN</td>\n",
       "      <td>86062</td>\n",
       "      <td>NaN</td>\n",
       "      <td>NaN</td>\n",
       "      <td>NaN</td>\n",
       "      <td>NaN</td>\n",
       "      <td>54</td>\n",
       "    </tr>\n",
       "    <tr>\n",
       "      <th>5915572</th>\n",
       "      <td>572086577</td>\n",
       "      <td>57208657700796</td>\n",
       "      <td>NaN</td>\n",
       "      <td>58</td>\n",
       "      <td>NaN</td>\n",
       "      <td>QUAI</td>\n",
       "      <td>DE LA MARINE</td>\n",
       "      <td>93450</td>\n",
       "      <td>L'ILE-SAINT-DENIS</td>\n",
       "      <td>NaN</td>\n",
       "      <td>NaN</td>\n",
       "      <td>93039</td>\n",
       "      <td>NaN</td>\n",
       "      <td>NaN</td>\n",
       "      <td>NaN</td>\n",
       "      <td>NaN</td>\n",
       "      <td>54</td>\n",
       "    </tr>\n",
       "    <tr>\n",
       "      <th>5915573</th>\n",
       "      <td>572086577</td>\n",
       "      <td>57208657700804</td>\n",
       "      <td>NaN</td>\n",
       "      <td>2</td>\n",
       "      <td>NaN</td>\n",
       "      <td>BD</td>\n",
       "      <td>JEAN MOULIN</td>\n",
       "      <td>14000</td>\n",
       "      <td>CAEN</td>\n",
       "      <td>NaN</td>\n",
       "      <td>NaN</td>\n",
       "      <td>14118</td>\n",
       "      <td>NaN</td>\n",
       "      <td>NaN</td>\n",
       "      <td>NaN</td>\n",
       "      <td>NaN</td>\n",
       "      <td>54</td>\n",
       "    </tr>\n",
       "    <tr>\n",
       "      <th>5915574</th>\n",
       "      <td>572086577</td>\n",
       "      <td>57208657700846</td>\n",
       "      <td>NaN</td>\n",
       "      <td>NaN</td>\n",
       "      <td>NaN</td>\n",
       "      <td>NaN</td>\n",
       "      <td>NaN</td>\n",
       "      <td>55170</td>\n",
       "      <td>BRAUVILLIERS</td>\n",
       "      <td>NaN</td>\n",
       "      <td>NaN</td>\n",
       "      <td>55075</td>\n",
       "      <td>NaN</td>\n",
       "      <td>NaN</td>\n",
       "      <td>NaN</td>\n",
       "      <td>NaN</td>\n",
       "      <td>54</td>\n",
       "    </tr>\n",
       "    <tr>\n",
       "      <th>5915575</th>\n",
       "      <td>572086577</td>\n",
       "      <td>57208657700853</td>\n",
       "      <td>NaN</td>\n",
       "      <td>136</td>\n",
       "      <td>NaN</td>\n",
       "      <td>RUE</td>\n",
       "      <td>DE LA MEDOQUINE</td>\n",
       "      <td>33400</td>\n",
       "      <td>TALENCE</td>\n",
       "      <td>NaN</td>\n",
       "      <td>NaN</td>\n",
       "      <td>33522</td>\n",
       "      <td>NaN</td>\n",
       "      <td>NaN</td>\n",
       "      <td>NaN</td>\n",
       "      <td>NaN</td>\n",
       "      <td>54</td>\n",
       "    </tr>\n",
       "    <tr>\n",
       "      <th>5915576</th>\n",
       "      <td>572086577</td>\n",
       "      <td>57208657700879</td>\n",
       "      <td>NaN</td>\n",
       "      <td>NaN</td>\n",
       "      <td>NaN</td>\n",
       "      <td>NaN</td>\n",
       "      <td>LA CORNELLA</td>\n",
       "      <td>01110</td>\n",
       "      <td>PLATEAU D'HAUTEVILLE</td>\n",
       "      <td>NaN</td>\n",
       "      <td>NaN</td>\n",
       "      <td>01185</td>\n",
       "      <td>NaN</td>\n",
       "      <td>NaN</td>\n",
       "      <td>NaN</td>\n",
       "      <td>NaN</td>\n",
       "      <td>54</td>\n",
       "    </tr>\n",
       "    <tr>\n",
       "      <th>5915577</th>\n",
       "      <td>572086577</td>\n",
       "      <td>57208657700911</td>\n",
       "      <td>NaN</td>\n",
       "      <td>42</td>\n",
       "      <td>NaN</td>\n",
       "      <td>RUE</td>\n",
       "      <td>DESIRE GRANET</td>\n",
       "      <td>76800</td>\n",
       "      <td>SAINT-ETIENNE-DU-ROUVRAY</td>\n",
       "      <td>NaN</td>\n",
       "      <td>NaN</td>\n",
       "      <td>76575</td>\n",
       "      <td>NaN</td>\n",
       "      <td>NaN</td>\n",
       "      <td>NaN</td>\n",
       "      <td>NaN</td>\n",
       "      <td>54</td>\n",
       "    </tr>\n",
       "    <tr>\n",
       "      <th>5915578</th>\n",
       "      <td>572086577</td>\n",
       "      <td>57208657700929</td>\n",
       "      <td>PARC DE LA VERTONNE</td>\n",
       "      <td>NaN</td>\n",
       "      <td>NaN</td>\n",
       "      <td>RUE</td>\n",
       "      <td>DE LA MALADRIE</td>\n",
       "      <td>44120</td>\n",
       "      <td>VERTOU</td>\n",
       "      <td>NaN</td>\n",
       "      <td>NaN</td>\n",
       "      <td>44215</td>\n",
       "      <td>NaN</td>\n",
       "      <td>NaN</td>\n",
       "      <td>NaN</td>\n",
       "      <td>NaN</td>\n",
       "      <td>54</td>\n",
       "    </tr>\n",
       "    <tr>\n",
       "      <th>5915579</th>\n",
       "      <td>572086577</td>\n",
       "      <td>57208657700937</td>\n",
       "      <td>NaN</td>\n",
       "      <td>NaN</td>\n",
       "      <td>NaN</td>\n",
       "      <td>NaN</td>\n",
       "      <td>ZIN RUE LOUIS DELARGE</td>\n",
       "      <td>72650</td>\n",
       "      <td>LA CHAPELLE-SAINT-AUBIN</td>\n",
       "      <td>NaN</td>\n",
       "      <td>NaN</td>\n",
       "      <td>72065</td>\n",
       "      <td>NaN</td>\n",
       "      <td>NaN</td>\n",
       "      <td>NaN</td>\n",
       "      <td>NaN</td>\n",
       "      <td>54</td>\n",
       "    </tr>\n",
       "    <tr>\n",
       "      <th>5915580</th>\n",
       "      <td>572086577</td>\n",
       "      <td>57208657700945</td>\n",
       "      <td>CARRIERES DES GRIPPES</td>\n",
       "      <td>NaN</td>\n",
       "      <td>NaN</td>\n",
       "      <td>LD</td>\n",
       "      <td>LES GRIPPES</td>\n",
       "      <td>86800</td>\n",
       "      <td>JARDRES</td>\n",
       "      <td>NaN</td>\n",
       "      <td>NaN</td>\n",
       "      <td>86114</td>\n",
       "      <td>NaN</td>\n",
       "      <td>NaN</td>\n",
       "      <td>NaN</td>\n",
       "      <td>NaN</td>\n",
       "      <td>54</td>\n",
       "    </tr>\n",
       "    <tr>\n",
       "      <th>5915581</th>\n",
       "      <td>572086577</td>\n",
       "      <td>57208657700952</td>\n",
       "      <td>NaN</td>\n",
       "      <td>NaN</td>\n",
       "      <td>NaN</td>\n",
       "      <td>NaN</td>\n",
       "      <td>ARTIGES</td>\n",
       "      <td>86300</td>\n",
       "      <td>CHAUVIGNY</td>\n",
       "      <td>NaN</td>\n",
       "      <td>NaN</td>\n",
       "      <td>86070</td>\n",
       "      <td>NaN</td>\n",
       "      <td>NaN</td>\n",
       "      <td>NaN</td>\n",
       "      <td>NaN</td>\n",
       "      <td>54</td>\n",
       "    </tr>\n",
       "    <tr>\n",
       "      <th>5915582</th>\n",
       "      <td>572086577</td>\n",
       "      <td>57208657700960</td>\n",
       "      <td>IMMEUBLE IRIS HALL A</td>\n",
       "      <td>84</td>\n",
       "      <td>NaN</td>\n",
       "      <td>RUE</td>\n",
       "      <td>CHARLES MICHELS</td>\n",
       "      <td>93200</td>\n",
       "      <td>SAINT-DENIS</td>\n",
       "      <td>NaN</td>\n",
       "      <td>NaN</td>\n",
       "      <td>93066</td>\n",
       "      <td>NaN</td>\n",
       "      <td>NaN</td>\n",
       "      <td>NaN</td>\n",
       "      <td>NaN</td>\n",
       "      <td>54</td>\n",
       "    </tr>\n",
       "    <tr>\n",
       "      <th>5915583</th>\n",
       "      <td>572086577</td>\n",
       "      <td>57208657700978</td>\n",
       "      <td>CARRIERE OUEST</td>\n",
       "      <td>NaN</td>\n",
       "      <td>NaN</td>\n",
       "      <td>NaN</td>\n",
       "      <td>ARTIGES</td>\n",
       "      <td>86300</td>\n",
       "      <td>CHAUVIGNY</td>\n",
       "      <td>NaN</td>\n",
       "      <td>NaN</td>\n",
       "      <td>86070</td>\n",
       "      <td>NaN</td>\n",
       "      <td>NaN</td>\n",
       "      <td>NaN</td>\n",
       "      <td>NaN</td>\n",
       "      <td>54</td>\n",
       "    </tr>\n",
       "    <tr>\n",
       "      <th>5915584</th>\n",
       "      <td>572086577</td>\n",
       "      <td>57208657700986</td>\n",
       "      <td>NaN</td>\n",
       "      <td>5</td>\n",
       "      <td>NaN</td>\n",
       "      <td>RUE</td>\n",
       "      <td>DES CARRIERES</td>\n",
       "      <td>89390</td>\n",
       "      <td>RAVIERES</td>\n",
       "      <td>NaN</td>\n",
       "      <td>NaN</td>\n",
       "      <td>89321</td>\n",
       "      <td>NaN</td>\n",
       "      <td>NaN</td>\n",
       "      <td>NaN</td>\n",
       "      <td>NaN</td>\n",
       "      <td>54</td>\n",
       "    </tr>\n",
       "    <tr>\n",
       "      <th>5915585</th>\n",
       "      <td>572086577</td>\n",
       "      <td>57208657700994</td>\n",
       "      <td>NaN</td>\n",
       "      <td>134</td>\n",
       "      <td>NaN</td>\n",
       "      <td>CHE</td>\n",
       "      <td>DU MOULIN CARRON</td>\n",
       "      <td>69130</td>\n",
       "      <td>ECULLY</td>\n",
       "      <td>NaN</td>\n",
       "      <td>NaN</td>\n",
       "      <td>69081</td>\n",
       "      <td>NaN</td>\n",
       "      <td>NaN</td>\n",
       "      <td>NaN</td>\n",
       "      <td>NaN</td>\n",
       "      <td>54</td>\n",
       "    </tr>\n",
       "    <tr>\n",
       "      <th>5915586</th>\n",
       "      <td>572086577</td>\n",
       "      <td>57208657701000</td>\n",
       "      <td>NaN</td>\n",
       "      <td>NaN</td>\n",
       "      <td>NaN</td>\n",
       "      <td>RUE</td>\n",
       "      <td>DE LA GRANDE EPINE</td>\n",
       "      <td>76800</td>\n",
       "      <td>SAINT-ETIENNE-DU-ROUVRAY</td>\n",
       "      <td>NaN</td>\n",
       "      <td>NaN</td>\n",
       "      <td>76575</td>\n",
       "      <td>NaN</td>\n",
       "      <td>NaN</td>\n",
       "      <td>NaN</td>\n",
       "      <td>NaN</td>\n",
       "      <td>54</td>\n",
       "    </tr>\n",
       "    <tr>\n",
       "      <th>5915587</th>\n",
       "      <td>572086577</td>\n",
       "      <td>57208657701018</td>\n",
       "      <td>NaN</td>\n",
       "      <td>NaN</td>\n",
       "      <td>NaN</td>\n",
       "      <td>NaN</td>\n",
       "      <td>ROCHEBERTIER</td>\n",
       "      <td>16220</td>\n",
       "      <td>MOULINS-SUR-TARDOIRE</td>\n",
       "      <td>NaN</td>\n",
       "      <td>NaN</td>\n",
       "      <td>16406</td>\n",
       "      <td>NaN</td>\n",
       "      <td>NaN</td>\n",
       "      <td>NaN</td>\n",
       "      <td>NaN</td>\n",
       "      <td>54</td>\n",
       "    </tr>\n",
       "    <tr>\n",
       "      <th>5915588</th>\n",
       "      <td>572086577</td>\n",
       "      <td>57208657701026</td>\n",
       "      <td>NaN</td>\n",
       "      <td>3</td>\n",
       "      <td>NaN</td>\n",
       "      <td>PL</td>\n",
       "      <td>LEON DUGUIT</td>\n",
       "      <td>33800</td>\n",
       "      <td>BORDEAUX</td>\n",
       "      <td>NaN</td>\n",
       "      <td>NaN</td>\n",
       "      <td>33063</td>\n",
       "      <td>NaN</td>\n",
       "      <td>NaN</td>\n",
       "      <td>NaN</td>\n",
       "      <td>NaN</td>\n",
       "      <td>54</td>\n",
       "    </tr>\n",
       "    <tr>\n",
       "      <th>5915589</th>\n",
       "      <td>572086577</td>\n",
       "      <td>57208657701034</td>\n",
       "      <td>CARRIERES EST</td>\n",
       "      <td>5</td>\n",
       "      <td>NaN</td>\n",
       "      <td>RUE</td>\n",
       "      <td>DES CARRIERES</td>\n",
       "      <td>89390</td>\n",
       "      <td>RAVIERES</td>\n",
       "      <td>NaN</td>\n",
       "      <td>NaN</td>\n",
       "      <td>89321</td>\n",
       "      <td>NaN</td>\n",
       "      <td>NaN</td>\n",
       "      <td>NaN</td>\n",
       "      <td>NaN</td>\n",
       "      <td>54</td>\n",
       "    </tr>\n",
       "    <tr>\n",
       "      <th>5915590</th>\n",
       "      <td>572086577</td>\n",
       "      <td>57208657701042</td>\n",
       "      <td>NaN</td>\n",
       "      <td>NaN</td>\n",
       "      <td>NaN</td>\n",
       "      <td>NaN</td>\n",
       "      <td>ZA LA VARENNE</td>\n",
       "      <td>21700</td>\n",
       "      <td>CORGOLOIN</td>\n",
       "      <td>NaN</td>\n",
       "      <td>NaN</td>\n",
       "      <td>21194</td>\n",
       "      <td>NaN</td>\n",
       "      <td>NaN</td>\n",
       "      <td>NaN</td>\n",
       "      <td>NaN</td>\n",
       "      <td>54</td>\n",
       "    </tr>\n",
       "    <tr>\n",
       "      <th>5915591</th>\n",
       "      <td>572086577</td>\n",
       "      <td>57208657701059</td>\n",
       "      <td>NaN</td>\n",
       "      <td>56</td>\n",
       "      <td>NaN</td>\n",
       "      <td>AV</td>\n",
       "      <td>DE L HIPPODROME</td>\n",
       "      <td>14000</td>\n",
       "      <td>CAEN</td>\n",
       "      <td>NaN</td>\n",
       "      <td>NaN</td>\n",
       "      <td>14118</td>\n",
       "      <td>NaN</td>\n",
       "      <td>NaN</td>\n",
       "      <td>NaN</td>\n",
       "      <td>NaN</td>\n",
       "      <td>54</td>\n",
       "    </tr>\n",
       "  </tbody>\n",
       "</table>\n",
       "</div>"
      ],
      "text/plain": [
       "             siren           siret complementAdresseEtablissement  \\\n",
       "5915538  572086577  57208657700051                     ST NICOLAS   \n",
       "5915539  572086577  57208657700069                            NaN   \n",
       "5915540  572086577  57208657700085                            NaN   \n",
       "5915541  572086577  57208657700093                            NaN   \n",
       "5915542  572086577  57208657700101                            NaN   \n",
       "5915543  572086577  57208657700184                            NaN   \n",
       "5915544  572086577  57208657700192                            NaN   \n",
       "5915545  572086577  57208657700218                            NaN   \n",
       "5915546  572086577  57208657700259                            NaN   \n",
       "5915547  572086577  57208657700283                            NaN   \n",
       "5915548  572086577  57208657700291                            NaN   \n",
       "5915549  572086577  57208657700309                            NaN   \n",
       "5915550  572086577  57208657700317                            NaN   \n",
       "5915551  572086577  57208657700333                            NaN   \n",
       "5915552  572086577  57208657700390                            NaN   \n",
       "5915553  572086577  57208657700408                            NaN   \n",
       "5915554  572086577  57208657700416                            NaN   \n",
       "5915555  572086577  57208657700424                            NaN   \n",
       "5915556  572086577  57208657700432                            NaN   \n",
       "5915557  572086577  57208657700457                       CARRIERE   \n",
       "5915558  572086577  57208657700465                            NaN   \n",
       "5915559  572086577  57208657700473                            NaN   \n",
       "5915560  572086577  57208657700481                            NaN   \n",
       "5915561  572086577  57208657700549                            NaN   \n",
       "5915562  572086577  57208657700556                            NaN   \n",
       "5915563  572086577  57208657700564                            NaN   \n",
       "5915564  572086577  57208657700580                            NaN   \n",
       "5915565  572086577  57208657700606                            NaN   \n",
       "5915566  572086577  57208657700614                            NaN   \n",
       "5915567  572086577  57208657700697                            NaN   \n",
       "5915568  572086577  57208657700705                            NaN   \n",
       "5915569  572086577  57208657700721                            NaN   \n",
       "5915570  572086577  57208657700739                            NaN   \n",
       "5915571  572086577  57208657700754                            NaN   \n",
       "5915572  572086577  57208657700796                            NaN   \n",
       "5915573  572086577  57208657700804                            NaN   \n",
       "5915574  572086577  57208657700846                            NaN   \n",
       "5915575  572086577  57208657700853                            NaN   \n",
       "5915576  572086577  57208657700879                            NaN   \n",
       "5915577  572086577  57208657700911                            NaN   \n",
       "5915578  572086577  57208657700929            PARC DE LA VERTONNE   \n",
       "5915579  572086577  57208657700937                            NaN   \n",
       "5915580  572086577  57208657700945          CARRIERES DES GRIPPES   \n",
       "5915581  572086577  57208657700952                            NaN   \n",
       "5915582  572086577  57208657700960           IMMEUBLE IRIS HALL A   \n",
       "5915583  572086577  57208657700978                 CARRIERE OUEST   \n",
       "5915584  572086577  57208657700986                            NaN   \n",
       "5915585  572086577  57208657700994                            NaN   \n",
       "5915586  572086577  57208657701000                            NaN   \n",
       "5915587  572086577  57208657701018                            NaN   \n",
       "5915588  572086577  57208657701026                            NaN   \n",
       "5915589  572086577  57208657701034                  CARRIERES EST   \n",
       "5915590  572086577  57208657701042                            NaN   \n",
       "5915591  572086577  57208657701059                            NaN   \n",
       "\n",
       "        numeroVoieEtablissement indiceRepetitionEtablissement  \\\n",
       "5915538                       5                           NaN   \n",
       "5915539                     NaN                           NaN   \n",
       "5915540                     NaN                           NaN   \n",
       "5915541                     NaN                           NaN   \n",
       "5915542                     NaN                           NaN   \n",
       "5915543                     NaN                           NaN   \n",
       "5915544                     NaN                           NaN   \n",
       "5915545                     NaN                           NaN   \n",
       "5915546                       1                           NaN   \n",
       "5915547                     NaN                           NaN   \n",
       "5915548                     NaN                           NaN   \n",
       "5915549                     NaN                           NaN   \n",
       "5915550                     NaN                           NaN   \n",
       "5915551                     NaN                           NaN   \n",
       "5915552                     NaN                           NaN   \n",
       "5915553                     NaN                           NaN   \n",
       "5915554                     NaN                           NaN   \n",
       "5915555                     NaN                           NaN   \n",
       "5915556                     NaN                           NaN   \n",
       "5915557                     NaN                           NaN   \n",
       "5915558                     NaN                           NaN   \n",
       "5915559                     NaN                           NaN   \n",
       "5915560                     NaN                           NaN   \n",
       "5915561                     NaN                           NaN   \n",
       "5915562                     NaN                           NaN   \n",
       "5915563                     NaN                           NaN   \n",
       "5915564                     NaN                           NaN   \n",
       "5915565                     NaN                           NaN   \n",
       "5915566                      21                           NaN   \n",
       "5915567                     NaN                           NaN   \n",
       "5915568                     NaN                           NaN   \n",
       "5915569                     NaN                           NaN   \n",
       "5915570                     NaN                           NaN   \n",
       "5915571                     NaN                           NaN   \n",
       "5915572                      58                           NaN   \n",
       "5915573                       2                           NaN   \n",
       "5915574                     NaN                           NaN   \n",
       "5915575                     136                           NaN   \n",
       "5915576                     NaN                           NaN   \n",
       "5915577                      42                           NaN   \n",
       "5915578                     NaN                           NaN   \n",
       "5915579                     NaN                           NaN   \n",
       "5915580                     NaN                           NaN   \n",
       "5915581                     NaN                           NaN   \n",
       "5915582                      84                           NaN   \n",
       "5915583                     NaN                           NaN   \n",
       "5915584                       5                           NaN   \n",
       "5915585                     134                           NaN   \n",
       "5915586                     NaN                           NaN   \n",
       "5915587                     NaN                           NaN   \n",
       "5915588                       3                           NaN   \n",
       "5915589                       5                           NaN   \n",
       "5915590                     NaN                           NaN   \n",
       "5915591                      56                           NaN   \n",
       "\n",
       "        typeVoieEtablissement libelleVoieEtablissement  \\\n",
       "5915538                   RUE            DES CARRIERES   \n",
       "5915539                   NaN                      NaN   \n",
       "5915540                    LD                   LARRYS   \n",
       "5915541                   NaN                      NaN   \n",
       "5915542                   NaN                      NaN   \n",
       "5915543                   NaN                      NaN   \n",
       "5915544                   HAM                 CRUCHAUD   \n",
       "5915545                   NaN                  PAYOLLE   \n",
       "5915546                   IMP            DES CERISIERS   \n",
       "5915547                   NaN                      NaN   \n",
       "5915548                   NaN                      NaN   \n",
       "5915549                   RUE                NATIONALE   \n",
       "5915550                   RUE            DES CARRIERES   \n",
       "5915551                   NaN                   CUMONT   \n",
       "5915552                   NaN                      NaN   \n",
       "5915553                   NaN                      NaN   \n",
       "5915554                   NaN                      NaN   \n",
       "5915555                   NaN                      NaN   \n",
       "5915556                   NaN                      NaN   \n",
       "5915557                   NaN                      NaN   \n",
       "5915558                    LD             ROCHEBERTIER   \n",
       "5915559                   NaN                      NaN   \n",
       "5915560                   NaN                      NaN   \n",
       "5915561                   NaN                      NaN   \n",
       "5915562                   NaN                      NaN   \n",
       "5915563                   NaN                      NaN   \n",
       "5915564                   NaN                      NaN   \n",
       "5915565                   NaN                      NaN   \n",
       "5915566                   RUE         DU PARC NATIONAL   \n",
       "5915567                   NaN                      NaN   \n",
       "5915568                   NaN                      NaN   \n",
       "5915569                   NaN                      NaN   \n",
       "5915570                   NaN                      NaN   \n",
       "5915571                   NaN           BONNILLET NORD   \n",
       "5915572                  QUAI             DE LA MARINE   \n",
       "5915573                    BD              JEAN MOULIN   \n",
       "5915574                   NaN                      NaN   \n",
       "5915575                   RUE          DE LA MEDOQUINE   \n",
       "5915576                   NaN              LA CORNELLA   \n",
       "5915577                   RUE            DESIRE GRANET   \n",
       "5915578                   RUE           DE LA MALADRIE   \n",
       "5915579                   NaN    ZIN RUE LOUIS DELARGE   \n",
       "5915580                    LD              LES GRIPPES   \n",
       "5915581                   NaN                  ARTIGES   \n",
       "5915582                   RUE          CHARLES MICHELS   \n",
       "5915583                   NaN                  ARTIGES   \n",
       "5915584                   RUE            DES CARRIERES   \n",
       "5915585                   CHE         DU MOULIN CARRON   \n",
       "5915586                   RUE       DE LA GRANDE EPINE   \n",
       "5915587                   NaN             ROCHEBERTIER   \n",
       "5915588                    PL              LEON DUGUIT   \n",
       "5915589                   RUE            DES CARRIERES   \n",
       "5915590                   NaN            ZA LA VARENNE   \n",
       "5915591                    AV          DE L HIPPODROME   \n",
       "\n",
       "        codePostalEtablissement  libelleCommuneEtablissement  \\\n",
       "5915538                   89390                     RAVIERES   \n",
       "5915539                   89390                     RAVIERES   \n",
       "5915540                   89390                          CRY   \n",
       "5915541                   89420  BIERRY-LES-BELLES-FONTAINES   \n",
       "5915542                   86800                        TERCE   \n",
       "5915543                   71390                         BUXY   \n",
       "5915544                   71390         BISSEY-SOUS-CRUCHAUD   \n",
       "5915545                   65710                       CAMPAN   \n",
       "5915546                   60740                SAINT-MAXIMIN   \n",
       "5915547                   55170      SAVONNIERES-EN-PERTHOIS   \n",
       "5915548                   55170      SAVONNIERES-EN-PERTHOIS   \n",
       "5915549                   55200                   LEROUVILLE   \n",
       "5915550                   55200                      EUVILLE   \n",
       "5915551                   53000                        LAVAL   \n",
       "5915552                   21700              VILLERS-LA-FAYE   \n",
       "5915553                   21700             PREMEAUX-PRISSEY   \n",
       "5915554                   21700                 COMBLANCHIEN   \n",
       "5915555                   21700                 COMBLANCHIEN   \n",
       "5915556                   21500                       BUFFON   \n",
       "5915557                   17800                          AVY   \n",
       "5915558                   16220         MOULINS-SUR-TARDOIRE   \n",
       "5915559                   16220         MOULINS-SUR-TARDOIRE   \n",
       "5915560                   16440                      SIREUIL   \n",
       "5915561                   02200                    SEPTMONTS   \n",
       "5915562                   02200                    SEPTMONTS   \n",
       "5915563                   01150                 SAULT-BRENAZ   \n",
       "5915564                   64470                CAMOU-CIHIGUE   \n",
       "5915565                   64260                     REBENACQ   \n",
       "5915566                   64260                        ARUDY   \n",
       "5915567                   89160                CHASSIGNELLES   \n",
       "5915568                   89580                  CHARENTENAY   \n",
       "5915569                   11160             CAUNES-MINERVOIS   \n",
       "5915570                   21190         CHASSAGNE-MONTRACHET   \n",
       "5915571                   86360        CHASSENEUIL-DU-POITOU   \n",
       "5915572                   93450            L'ILE-SAINT-DENIS   \n",
       "5915573                   14000                         CAEN   \n",
       "5915574                   55170                 BRAUVILLIERS   \n",
       "5915575                   33400                      TALENCE   \n",
       "5915576                   01110         PLATEAU D'HAUTEVILLE   \n",
       "5915577                   76800     SAINT-ETIENNE-DU-ROUVRAY   \n",
       "5915578                   44120                       VERTOU   \n",
       "5915579                   72650      LA CHAPELLE-SAINT-AUBIN   \n",
       "5915580                   86800                      JARDRES   \n",
       "5915581                   86300                    CHAUVIGNY   \n",
       "5915582                   93200                  SAINT-DENIS   \n",
       "5915583                   86300                    CHAUVIGNY   \n",
       "5915584                   89390                     RAVIERES   \n",
       "5915585                   69130                       ECULLY   \n",
       "5915586                   76800     SAINT-ETIENNE-DU-ROUVRAY   \n",
       "5915587                   16220         MOULINS-SUR-TARDOIRE   \n",
       "5915588                   33800                     BORDEAUX   \n",
       "5915589                   89390                     RAVIERES   \n",
       "5915590                   21700                    CORGOLOIN   \n",
       "5915591                   14000                         CAEN   \n",
       "\n",
       "        libelleCommuneEtrangerEtablissement distributionSpecialeEtablissement  \\\n",
       "5915538                                 NaN                               NaN   \n",
       "5915539                                 NaN                               NaN   \n",
       "5915540                                 NaN                               NaN   \n",
       "5915541                                 NaN                               NaN   \n",
       "5915542                                 NaN                               NaN   \n",
       "5915543                                 NaN                               NaN   \n",
       "5915544                                 NaN                               NaN   \n",
       "5915545                                 NaN                               NaN   \n",
       "5915546                                 NaN                               NaN   \n",
       "5915547                                 NaN                               NaN   \n",
       "5915548                                 NaN                               NaN   \n",
       "5915549                                 NaN                               NaN   \n",
       "5915550                                 NaN                               NaN   \n",
       "5915551                                 NaN                               NaN   \n",
       "5915552                                 NaN                               NaN   \n",
       "5915553                                 NaN                               NaN   \n",
       "5915554                                 NaN                               NaN   \n",
       "5915555                                 NaN                               NaN   \n",
       "5915556                                 NaN                               NaN   \n",
       "5915557                                 NaN                               NaN   \n",
       "5915558                                 NaN                               NaN   \n",
       "5915559                                 NaN                               NaN   \n",
       "5915560                                 NaN                               NaN   \n",
       "5915561                                 NaN                               NaN   \n",
       "5915562                                 NaN                               NaN   \n",
       "5915563                                 NaN                               NaN   \n",
       "5915564                                 NaN                               NaN   \n",
       "5915565                                 NaN                               NaN   \n",
       "5915566                                 NaN                               NaN   \n",
       "5915567                                 NaN                               NaN   \n",
       "5915568                                 NaN                               NaN   \n",
       "5915569                                 NaN                               NaN   \n",
       "5915570                                 NaN                               NaN   \n",
       "5915571                                 NaN                               NaN   \n",
       "5915572                                 NaN                               NaN   \n",
       "5915573                                 NaN                               NaN   \n",
       "5915574                                 NaN                               NaN   \n",
       "5915575                                 NaN                               NaN   \n",
       "5915576                                 NaN                               NaN   \n",
       "5915577                                 NaN                               NaN   \n",
       "5915578                                 NaN                               NaN   \n",
       "5915579                                 NaN                               NaN   \n",
       "5915580                                 NaN                               NaN   \n",
       "5915581                                 NaN                               NaN   \n",
       "5915582                                 NaN                               NaN   \n",
       "5915583                                 NaN                               NaN   \n",
       "5915584                                 NaN                               NaN   \n",
       "5915585                                 NaN                               NaN   \n",
       "5915586                                 NaN                               NaN   \n",
       "5915587                                 NaN                               NaN   \n",
       "5915588                                 NaN                               NaN   \n",
       "5915589                                 NaN                               NaN   \n",
       "5915590                                 NaN                               NaN   \n",
       "5915591                                 NaN                               NaN   \n",
       "\n",
       "        codeCommuneEtablissement codeCedexEtablissement  \\\n",
       "5915538                    89321                    NaN   \n",
       "5915539                    89321                    NaN   \n",
       "5915540                    89132                    NaN   \n",
       "5915541                    89042                    NaN   \n",
       "5915542                    86268                    NaN   \n",
       "5915543                    71070                    NaN   \n",
       "5915544                    71034                    NaN   \n",
       "5915545                    65123                    NaN   \n",
       "5915546                    60589                    NaN   \n",
       "5915547                    55477                    NaN   \n",
       "5915548                    55477                    NaN   \n",
       "5915549                    55288                    NaN   \n",
       "5915550                    55184                    NaN   \n",
       "5915551                    53130                    NaN   \n",
       "5915552                    21698                    NaN   \n",
       "5915553                    21506                    NaN   \n",
       "5915554                    21186                    NaN   \n",
       "5915555                    21186                    NaN   \n",
       "5915556                    21114                    NaN   \n",
       "5915557                    17027                    NaN   \n",
       "5915558                    16406                    NaN   \n",
       "5915559                    16406                    NaN   \n",
       "5915560                    16370                    NaN   \n",
       "5915561                    02706                    NaN   \n",
       "5915562                    02706                    NaN   \n",
       "5915563                    01396                    NaN   \n",
       "5915564                    64162                    NaN   \n",
       "5915565                    64463                    NaN   \n",
       "5915566                    64062                    NaN   \n",
       "5915567                    89087                    NaN   \n",
       "5915568                    89084                    NaN   \n",
       "5915569                    11081                    NaN   \n",
       "5915570                    21150                    NaN   \n",
       "5915571                    86062                    NaN   \n",
       "5915572                    93039                    NaN   \n",
       "5915573                    14118                    NaN   \n",
       "5915574                    55075                    NaN   \n",
       "5915575                    33522                    NaN   \n",
       "5915576                    01185                    NaN   \n",
       "5915577                    76575                    NaN   \n",
       "5915578                    44215                    NaN   \n",
       "5915579                    72065                    NaN   \n",
       "5915580                    86114                    NaN   \n",
       "5915581                    86070                    NaN   \n",
       "5915582                    93066                    NaN   \n",
       "5915583                    86070                    NaN   \n",
       "5915584                    89321                    NaN   \n",
       "5915585                    69081                    NaN   \n",
       "5915586                    76575                    NaN   \n",
       "5915587                    16406                    NaN   \n",
       "5915588                    33063                    NaN   \n",
       "5915589                    89321                    NaN   \n",
       "5915590                    21194                    NaN   \n",
       "5915591                    14118                    NaN   \n",
       "\n",
       "        libelleCedexEtablissement codePaysEtrangerEtablissement  \\\n",
       "5915538                       NaN                           NaN   \n",
       "5915539                       NaN                           NaN   \n",
       "5915540                       NaN                           NaN   \n",
       "5915541                       NaN                           NaN   \n",
       "5915542                       NaN                           NaN   \n",
       "5915543                       NaN                           NaN   \n",
       "5915544                       NaN                           NaN   \n",
       "5915545                       NaN                           NaN   \n",
       "5915546                       NaN                           NaN   \n",
       "5915547                       NaN                           NaN   \n",
       "5915548                       NaN                           NaN   \n",
       "5915549                       NaN                           NaN   \n",
       "5915550                       NaN                           NaN   \n",
       "5915551                       NaN                           NaN   \n",
       "5915552                       NaN                           NaN   \n",
       "5915553                       NaN                           NaN   \n",
       "5915554                       NaN                           NaN   \n",
       "5915555                       NaN                           NaN   \n",
       "5915556                       NaN                           NaN   \n",
       "5915557                       NaN                           NaN   \n",
       "5915558                       NaN                           NaN   \n",
       "5915559                       NaN                           NaN   \n",
       "5915560                       NaN                           NaN   \n",
       "5915561                       NaN                           NaN   \n",
       "5915562                       NaN                           NaN   \n",
       "5915563                       NaN                           NaN   \n",
       "5915564                       NaN                           NaN   \n",
       "5915565                       NaN                           NaN   \n",
       "5915566                       NaN                           NaN   \n",
       "5915567                       NaN                           NaN   \n",
       "5915568                       NaN                           NaN   \n",
       "5915569                       NaN                           NaN   \n",
       "5915570                       NaN                           NaN   \n",
       "5915571                       NaN                           NaN   \n",
       "5915572                       NaN                           NaN   \n",
       "5915573                       NaN                           NaN   \n",
       "5915574                       NaN                           NaN   \n",
       "5915575                       NaN                           NaN   \n",
       "5915576                       NaN                           NaN   \n",
       "5915577                       NaN                           NaN   \n",
       "5915578                       NaN                           NaN   \n",
       "5915579                       NaN                           NaN   \n",
       "5915580                       NaN                           NaN   \n",
       "5915581                       NaN                           NaN   \n",
       "5915582                       NaN                           NaN   \n",
       "5915583                       NaN                           NaN   \n",
       "5915584                       NaN                           NaN   \n",
       "5915585                       NaN                           NaN   \n",
       "5915586                       NaN                           NaN   \n",
       "5915587                       NaN                           NaN   \n",
       "5915588                       NaN                           NaN   \n",
       "5915589                       NaN                           NaN   \n",
       "5915590                       NaN                           NaN   \n",
       "5915591                       NaN                           NaN   \n",
       "\n",
       "        libellePaysEtrangerEtablissement  count  \n",
       "5915538                              NaN     54  \n",
       "5915539                              NaN     54  \n",
       "5915540                              NaN     54  \n",
       "5915541                              NaN     54  \n",
       "5915542                              NaN     54  \n",
       "5915543                              NaN     54  \n",
       "5915544                              NaN     54  \n",
       "5915545                              NaN     54  \n",
       "5915546                              NaN     54  \n",
       "5915547                              NaN     54  \n",
       "5915548                              NaN     54  \n",
       "5915549                              NaN     54  \n",
       "5915550                              NaN     54  \n",
       "5915551                              NaN     54  \n",
       "5915552                              NaN     54  \n",
       "5915553                              NaN     54  \n",
       "5915554                              NaN     54  \n",
       "5915555                              NaN     54  \n",
       "5915556                              NaN     54  \n",
       "5915557                              NaN     54  \n",
       "5915558                              NaN     54  \n",
       "5915559                              NaN     54  \n",
       "5915560                              NaN     54  \n",
       "5915561                              NaN     54  \n",
       "5915562                              NaN     54  \n",
       "5915563                              NaN     54  \n",
       "5915564                              NaN     54  \n",
       "5915565                              NaN     54  \n",
       "5915566                              NaN     54  \n",
       "5915567                              NaN     54  \n",
       "5915568                              NaN     54  \n",
       "5915569                              NaN     54  \n",
       "5915570                              NaN     54  \n",
       "5915571                              NaN     54  \n",
       "5915572                              NaN     54  \n",
       "5915573                              NaN     54  \n",
       "5915574                              NaN     54  \n",
       "5915575                              NaN     54  \n",
       "5915576                              NaN     54  \n",
       "5915577                              NaN     54  \n",
       "5915578                              NaN     54  \n",
       "5915579                              NaN     54  \n",
       "5915580                              NaN     54  \n",
       "5915581                              NaN     54  \n",
       "5915582                              NaN     54  \n",
       "5915583                              NaN     54  \n",
       "5915584                              NaN     54  \n",
       "5915585                              NaN     54  \n",
       "5915586                              NaN     54  \n",
       "5915587                              NaN     54  \n",
       "5915588                              NaN     54  \n",
       "5915589                              NaN     54  \n",
       "5915590                              NaN     54  \n",
       "5915591                              NaN     54  "
      ]
     },
     "execution_count": 122,
     "metadata": {},
     "output_type": "execute_result"
    }
   ],
   "source": [
    "sous_ensemble_insee.loc[lambda x: \n",
    "                                  x['siren'].isin([temp_adresse.iloc[3, 0]])]"
   ]
  },
  {
   "cell_type": "code",
   "execution_count": 108,
   "metadata": {
    "Collapsed": "false"
   },
   "outputs": [
    {
     "data": {
      "text/html": [
       "<div>\n",
       "<style scoped>\n",
       "    .dataframe tbody tr th:only-of-type {\n",
       "        vertical-align: middle;\n",
       "    }\n",
       "\n",
       "    .dataframe tbody tr th {\n",
       "        vertical-align: top;\n",
       "    }\n",
       "\n",
       "    .dataframe thead th {\n",
       "        text-align: right;\n",
       "    }\n",
       "</style>\n",
       "<table border=\"1\" class=\"dataframe\">\n",
       "  <thead>\n",
       "    <tr style=\"text-align: right;\">\n",
       "      <th></th>\n",
       "      <th>siren</th>\n",
       "      <th>libelleCommuneEtablissement</th>\n",
       "      <th>Type</th>\n",
       "      <th>Adresse_Ligne1</th>\n",
       "      <th>Adresse_Ligne2</th>\n",
       "      <th>Adresse_Ligne3</th>\n",
       "      <th>Code_Postal</th>\n",
       "      <th>Ville</th>\n",
       "      <th>Code_Commune</th>\n",
       "      <th>Pays</th>\n",
       "      <th>test</th>\n",
       "      <th>ncc</th>\n",
       "      <th>Adresse_Ligne1_clean</th>\n",
       "      <th>Adresse_Ligne2_clean</th>\n",
       "      <th>Adresse_Ligne3_clean</th>\n",
       "      <th>test2</th>\n",
       "      <th>test3</th>\n",
       "      <th>test_1</th>\n",
       "      <th>test_2</th>\n",
       "      <th>test_3</th>\n",
       "    </tr>\n",
       "  </thead>\n",
       "  <tbody>\n",
       "    <tr>\n",
       "      <th>7346</th>\n",
       "      <td>388383374</td>\n",
       "      <td>NaN</td>\n",
       "      <td>SEP</td>\n",
       "      <td>NaN</td>\n",
       "      <td>avenue André Citroën - Zone Industrielle - BP 303</td>\n",
       "      <td>NaN</td>\n",
       "      <td>01503</td>\n",
       "      <td>Amberieu en Bugey</td>\n",
       "      <td>NaN</td>\n",
       "      <td>FRANCE</td>\n",
       "      <td>[nan]</td>\n",
       "      <td>AMBERIEU EN BUGEY</td>\n",
       "      <td>nan</td>\n",
       "      <td>AVENUE ANDRE CITROEN ZONE INDUSTRIELLE 303</td>\n",
       "      <td>nan</td>\n",
       "      <td>[AVENUE, ANDRE, CITROEN, ZONE, INDUSTRIELLE, 303]</td>\n",
       "      <td>[nan]</td>\n",
       "      <td>nan</td>\n",
       "      <td>AVENUE|ANDRE|CITROEN|ZONE|INDUSTRIELLE|303</td>\n",
       "      <td>nan</td>\n",
       "    </tr>\n",
       "    <tr>\n",
       "      <th>7347</th>\n",
       "      <td>819816067</td>\n",
       "      <td>NaN</td>\n",
       "      <td>SEP</td>\n",
       "      <td>NaN</td>\n",
       "      <td>1 Moulin du Pont</td>\n",
       "      <td>NaN</td>\n",
       "      <td>01580</td>\n",
       "      <td>Samognat</td>\n",
       "      <td>01392</td>\n",
       "      <td>FRANCE</td>\n",
       "      <td>[nan]</td>\n",
       "      <td>SAMOGNAT</td>\n",
       "      <td>nan</td>\n",
       "      <td>1 MOULIN PONT</td>\n",
       "      <td>nan</td>\n",
       "      <td>[1, MOULIN, PONT]</td>\n",
       "      <td>[nan]</td>\n",
       "      <td>nan</td>\n",
       "      <td>1|MOULIN|PONT</td>\n",
       "      <td>nan</td>\n",
       "    </tr>\n",
       "    <tr>\n",
       "      <th>7348</th>\n",
       "      <td>420281784</td>\n",
       "      <td>NaN</td>\n",
       "      <td>PRI</td>\n",
       "      <td>NaN</td>\n",
       "      <td>72 rue Pasteur</td>\n",
       "      <td>NaN</td>\n",
       "      <td>01400</td>\n",
       "      <td>Chatillon sur Chalaronne</td>\n",
       "      <td>01093</td>\n",
       "      <td>FRANCE</td>\n",
       "      <td>[nan]</td>\n",
       "      <td>CHATILLON SUR CHALARONNE</td>\n",
       "      <td>nan</td>\n",
       "      <td>72 RUE PASTEUR</td>\n",
       "      <td>nan</td>\n",
       "      <td>[72, RUE, PASTEUR]</td>\n",
       "      <td>[nan]</td>\n",
       "      <td>nan</td>\n",
       "      <td>72|RUE|PASTEUR</td>\n",
       "      <td>nan</td>\n",
       "    </tr>\n",
       "    <tr>\n",
       "      <th>7349</th>\n",
       "      <td>572086577</td>\n",
       "      <td>NaN</td>\n",
       "      <td>SEC</td>\n",
       "      <td>91 Avenue STE MARGUERITE</td>\n",
       "      <td>NaN</td>\n",
       "      <td>NaN</td>\n",
       "      <td>00006</td>\n",
       "      <td>NICE</td>\n",
       "      <td>NaN</td>\n",
       "      <td>FRANCE</td>\n",
       "      <td>[91, AVENUE, STE, MARGUERITE]</td>\n",
       "      <td>NICE</td>\n",
       "      <td>91 AVENUE STE MARGUERITE</td>\n",
       "      <td>nan</td>\n",
       "      <td>nan</td>\n",
       "      <td>[nan]</td>\n",
       "      <td>[nan]</td>\n",
       "      <td>91|AVENUE|STE|MARGUERITE</td>\n",
       "      <td>nan</td>\n",
       "      <td>nan</td>\n",
       "    </tr>\n",
       "  </tbody>\n",
       "</table>\n",
       "</div>"
      ],
      "text/plain": [
       "          siren libelleCommuneEtablissement Type            Adresse_Ligne1  \\\n",
       "7346  388383374                         NaN  SEP                       NaN   \n",
       "7347  819816067                         NaN  SEP                       NaN   \n",
       "7348  420281784                         NaN  PRI                       NaN   \n",
       "7349  572086577                         NaN  SEC  91 Avenue STE MARGUERITE   \n",
       "\n",
       "                                         Adresse_Ligne2 Adresse_Ligne3  \\\n",
       "7346  avenue André Citroën - Zone Industrielle - BP 303            NaN   \n",
       "7347                                   1 Moulin du Pont            NaN   \n",
       "7348                                     72 rue Pasteur            NaN   \n",
       "7349                                                NaN            NaN   \n",
       "\n",
       "     Code_Postal                     Ville Code_Commune    Pays  \\\n",
       "7346       01503         Amberieu en Bugey          NaN  FRANCE   \n",
       "7347       01580                  Samognat        01392  FRANCE   \n",
       "7348       01400  Chatillon sur Chalaronne        01093  FRANCE   \n",
       "7349       00006                      NICE          NaN  FRANCE   \n",
       "\n",
       "                               test                       ncc  \\\n",
       "7346                          [nan]         AMBERIEU EN BUGEY   \n",
       "7347                          [nan]                  SAMOGNAT   \n",
       "7348                          [nan]  CHATILLON SUR CHALARONNE   \n",
       "7349  [91, AVENUE, STE, MARGUERITE]                      NICE   \n",
       "\n",
       "          Adresse_Ligne1_clean                        Adresse_Ligne2_clean  \\\n",
       "7346                       nan  AVENUE ANDRE CITROEN ZONE INDUSTRIELLE 303   \n",
       "7347                       nan                               1 MOULIN PONT   \n",
       "7348                       nan                              72 RUE PASTEUR   \n",
       "7349  91 AVENUE STE MARGUERITE                                         nan   \n",
       "\n",
       "     Adresse_Ligne3_clean                                              test2  \\\n",
       "7346                  nan  [AVENUE, ANDRE, CITROEN, ZONE, INDUSTRIELLE, 303]   \n",
       "7347                  nan                                  [1, MOULIN, PONT]   \n",
       "7348                  nan                                 [72, RUE, PASTEUR]   \n",
       "7349                  nan                                              [nan]   \n",
       "\n",
       "      test3                    test_1  \\\n",
       "7346  [nan]                       nan   \n",
       "7347  [nan]                       nan   \n",
       "7348  [nan]                       nan   \n",
       "7349  [nan]  91|AVENUE|STE|MARGUERITE   \n",
       "\n",
       "                                          test_2 test_3  \n",
       "7346  AVENUE|ANDRE|CITROEN|ZONE|INDUSTRIELLE|303    nan  \n",
       "7347                               1|MOULIN|PONT    nan  \n",
       "7348                              72|RUE|PASTEUR    nan  \n",
       "7349                                         nan    nan  "
      ]
     },
     "execution_count": 108,
     "metadata": {},
     "output_type": "execute_result"
    }
   ],
   "source": [
    "temp_adresse.head(4)"
   ]
  },
  {
   "cell_type": "code",
   "execution_count": 109,
   "metadata": {
    "Collapsed": "false"
   },
   "outputs": [
    {
     "data": {
      "text/plain": [
       "nan"
      ]
     },
     "execution_count": 109,
     "metadata": {},
     "output_type": "execute_result"
    }
   ],
   "source": [
    "lookupInseeInpi(siren = temp_adresse.iloc[3, 0],\n",
    "                regex_ = temp_adresse.iloc[3, -3])"
   ]
  },
  {
   "cell_type": "code",
   "execution_count": null,
   "metadata": {
    "Collapsed": "false"
   },
   "outputs": [],
   "source": [
    "temp_adresse['siren']"
   ]
  },
  {
   "cell_type": "markdown",
   "metadata": {
    "Collapsed": "false"
   },
   "source": [
    "Pour accelerer le code, on utilise uniquement les adresses sans les na"
   ]
  },
  {
   "cell_type": "markdown",
   "metadata": {
    "Collapsed": "false"
   },
   "source": [
    "#### test_1"
   ]
  },
  {
   "cell_type": "code",
   "execution_count": null,
   "metadata": {
    "Collapsed": "false"
   },
   "outputs": [],
   "source": [
    "test_1 = temp_adresse.dropna(subset =['test_1'])"
   ]
  },
  {
   "cell_type": "code",
   "execution_count": null,
   "metadata": {
    "Collapsed": "false"
   },
   "outputs": [],
   "source": [
    "%%time\n",
    "test_1.head(10).apply(lambda x: lookupInseeInpi(\n",
    "    siren = x['siren'],\n",
    "    regex_ = x['test_1']),\n",
    "    axis = 1 )"
   ]
  },
  {
   "cell_type": "code",
   "execution_count": null,
   "metadata": {
    "Collapsed": "false"
   },
   "outputs": [],
   "source": [
    "test_1.loc[7784]"
   ]
  },
  {
   "cell_type": "code",
   "execution_count": null,
   "metadata": {
    "Collapsed": "false"
   },
   "outputs": [],
   "source": [
    "lookupInseeInpi(siren = test_1.loc[7784][0],\n",
    "                regex_ = test_1.loc[7784][-3])"
   ]
  },
  {
   "cell_type": "code",
   "execution_count": null,
   "metadata": {
    "Collapsed": "false"
   },
   "outputs": [],
   "source": [
    "sous_ensemble_insee.loc[lambda x: x['siren'].isin([test_1.loc[7784][0]])]"
   ]
  },
  {
   "cell_type": "code",
   "execution_count": null,
   "metadata": {
    "Collapsed": "false"
   },
   "outputs": [],
   "source": [
    "((17000 * 2.62) /10)/60"
   ]
  },
  {
   "cell_type": "code",
   "execution_count": null,
   "metadata": {
    "Collapsed": "false"
   },
   "outputs": [],
   "source": [
    "test_1['siret_1'] = test_1.apply(lambda x: lookupInseeInpi(\n",
    "    siren = x['siren'],\n",
    "    regex_ = x['test_1']),\n",
    "    axis = 1 )"
   ]
  },
  {
   "cell_type": "markdown",
   "metadata": {
    "Collapsed": "false"
   },
   "source": [
    "#### test_2"
   ]
  },
  {
   "cell_type": "code",
   "execution_count": null,
   "metadata": {
    "Collapsed": "false"
   },
   "outputs": [],
   "source": [
    "test_2 = temp_adresse.dropna(subset =['test_2'])\n",
    "test_2['siret_2'] = test_1.apply(lambda x: lookupInseeInpi(\n",
    "    siren = x['siren'],\n",
    "    regex_ = x['test_2']),\n",
    "    axis = 1 )"
   ]
  },
  {
   "cell_type": "markdown",
   "metadata": {
    "Collapsed": "false"
   },
   "source": [
    "#### test_3"
   ]
  },
  {
   "cell_type": "code",
   "execution_count": null,
   "metadata": {
    "Collapsed": "false"
   },
   "outputs": [],
   "source": [
    "test_3 = temp_adresse.dropna(subset =['test_3'])\n",
    "test_3['siret_3'] = test_1.apply(lambda x: lookupInseeInpi(\n",
    "    siren = x['siren'],\n",
    "    regex_ = x['test_3']),\n",
    "    axis = 1 )"
   ]
  },
  {
   "cell_type": "code",
   "execution_count": null,
   "metadata": {
    "Collapsed": "false"
   },
   "outputs": [],
   "source": [
    "temp_adresse"
   ]
  },
  {
   "cell_type": "markdown",
   "metadata": {
    "Collapsed": "false"
   },
   "source": [
    "temp1.head("
   ]
  },
  {
   "cell_type": "code",
   "execution_count": null,
   "metadata": {
    "Collapsed": "false"
   },
   "outputs": [],
   "source": [
    "import os\n",
    "os.remove('communes.xlsx')\n",
    "temp1.loc[lambda x: x['_merge'].isin(['left_only'])].drop_duplicates('ville2').to_excel('communes.xlsx')"
   ]
  },
  {
   "cell_type": "code",
   "execution_count": null,
   "metadata": {
    "Collapsed": "false"
   },
>>>>>>> Stashed changes
   "outputs": [],
   "source": [
    "temp.assign(url = lambda x :\n",
    "            'https://data.inpi.fr/entreprises/' + x[\"Siren\"] )"
   ]
  }
 ],
 "metadata": {
  "kernelspec": {
   "display_name": "Python 3",
   "language": "python",
   "name": "python3"
  },
  "language_info": {
   "codemirror_mode": {
    "name": "ipython",
    "version": 3
   },
   "file_extension": ".py",
   "mimetype": "text/x-python",
   "name": "python",
   "nbconvert_exporter": "python",
   "pygments_lexer": "ipython3",
   "version": "3.7.6"
  },
  "toc": {
   "base_numbering": 1,
   "nav_menu": {},
   "number_sections": true,
   "sideBar": true,
   "skip_h1_title": false,
   "title_cell": "Table of Contents",
   "title_sidebar": "Contents",
   "toc_cell": false,
   "toc_position": {},
   "toc_section_display": true,
   "toc_window_display": false
  }
 },
 "nbformat": 4,
 "nbformat_minor": 4
}
