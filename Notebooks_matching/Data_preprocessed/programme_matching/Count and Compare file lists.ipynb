{
 "cells": [
  {
   "cell_type": "code",
   "execution_count": null,
   "metadata": {},
   "outputs": [],
   "source": [
    "    # Import S3 connectors librairies\n",
    "    #from awsPy.aws_authorization import aws_connector\n",
    "    import importlib.util\n",
    "    spec = importlib.util.spec_from_file_location(\"aws_connector.py\", \"../../../../aws-python/awsPy/aws_authorization/aws_connector.py\")\n",
    "    aws_connector = importlib.util.module_from_spec(spec)\n",
    "    spec.loader.exec_module(aws_connector)\n",
    "\n",
    "    #from awsPy.aws_s3 import service_s3\n",
    "    import importlib.util\n",
    "    spec = importlib.util.spec_from_file_location(\"service_s3.py\", \"../../../../aws-python/awsPy/aws_s3/service_s3.py\")\n",
    "    service_s3 = importlib.util.module_from_spec(spec)\n",
    "    spec.loader.exec_module(service_s3)\n",
    "\n",
    "    # Connect to S3\n",
    "    import os\n",
    "    from pathlib import Path\n",
    "\n",
    "    bucket = 'calfdata'\n",
    "    path = os.getcwd()\n",
    "    parent_path = str(Path(path).parent)\n",
    "    path_cred = \"{}/programme_matching/credential_AWS.json\".format(parent_path)\n",
    "\n",
    "    con = aws_connector.aws_instantiate(credential = path_cred,\n",
    "                                            region = 'eu-west-3')\n",
    "    client= con.client_boto()\n",
    "    s3 = service_s3.connect_S3(client = client,\n",
    "                          bucket = 'calfdata')\n",
    "\n",
    "    bucket_name='calfdata'\n",
    "    bucket = client['resource'].Bucket(bucket_name)    "
   ]
  },
  {
   "cell_type": "code",
   "execution_count": null,
   "metadata": {},
   "outputs": [],
   "source": [
    "def count_objects_s3(Prefix_):\n",
    "    list_obj = bucket.objects.filter(Prefix=folder)\n",
    "    c=0\n",
    "    for obj in list_obj:\n",
    "        c+=1\n",
    "    return (c,list_obj)"
   ]
  },
  {
   "cell_type": "code",
   "execution_count": null,
   "metadata": {},
   "outputs": [],
   "source": [
    "folder='INPI/TC_1/01_donnee_source/Flux/2019/'\n",
    "(c,list_obj)=count_objects_s3(folder)\n",
    "c"
   ]
  },
  {
   "cell_type": "code",
   "execution_count": null,
   "metadata": {},
   "outputs": [],
   "source": [
    "# Save file list to a file\n",
    "import csv, time\n",
    "from tqdm import tqdm\n",
    "\n",
    "timestr = time.strftime(\"%Y%m%d-%H%M%S\")\n",
    "logtd_name=\"{}/{}/{}_{}_{}{}\".format('data','count',timestr,'listobj','SourceFlux2019','.csv')\n",
    "logtd = open(logtd_name, 'w')\n",
    "with logtd as myfile:\n",
    "    wr = csv.writer(myfile,delimiter=';',quoting=csv.QUOTE_ALL)\n",
    "    wr.writerow(['key'])\n",
    "    for obj in tqdm(list_obj):\n",
    "        wr.writerow([obj.key])\n",
    "logtd.close()"
   ]
  },
  {
   "cell_type": "code",
   "execution_count": null,
   "metadata": {},
   "outputs": [],
   "source": [
    "# FOLDERS\n",
    "'''\n",
    "folder='INPI/TC_1/00_RawData/public/IMR_Donnees_Saisies/tc/flux/2017'\n",
    "folder='INPI/TC_1/00_RawData/public/IMR_Donnees_Saisies/tc/flux/2018'\n",
    "folder='INPI/TC_1/00_RawData/public/IMR_Donnees_Saisies/tc/flux/2019'\n",
    "folder='INPI/TC_1/Flux/2017'\n",
    "folder='INPI/TC_1/Flux/2018'\n",
    "folder='INPI/TC_1/Flux/2019'\n",
    "folder='INPI/TC_1/01_donnee_source/Flux/2017'\n",
    "folder='INPI/TC_1/01_donnee_source/Flux/2018'\n",
    "folder='INPI/TC_1/01_donnee_source/Flux/2019'\n",
    "\n",
    "\n",
    "folder='INPI/TC_1/00_RawData/public/IMR_Donnees_Saisies/tc/stock/2017'\n",
    "folder='INPI/TC_1/00_RawData/public/IMR_Donnees_Saisies/tc/stock/2018'\n",
    "folder='INPI/TC_1/00_RawData/public/IMR_Donnees_Saisies/tc/stock/2019'\n",
    "folder='INPI/TC_1/Stock/2017' # => N'existe pas\n",
    "folder='INPI/TC_1/Stock/2018' # => N'existe pas\n",
    "folder='INPI/TC_1/Stock/2019' # => N'existe pas\n",
    "folder='INPI/TC_1/01_donnee_source/Stock/Stock_Initial/2017'\n",
    "folder='INPI/TC_1/01_donnee_source/Stock/Stock_Partiel/2018'\n",
    "folder='INPI/TC_1/01_donnee_source/Stock/Stock_Partiel/2019'\n",
    "'''"
   ]
  },
  {
   "cell_type": "markdown",
   "metadata": {},
   "source": [
    "# Compare"
   ]
  },
  {
   "cell_type": "code",
   "execution_count": 1,
   "metadata": {},
   "outputs": [],
   "source": [
    "# Read list and compare\n",
    "import pandas as pd"
   ]
  },
  {
   "cell_type": "code",
   "execution_count": 2,
   "metadata": {},
   "outputs": [
    {
     "data": {
      "text/html": [
       "<div>\n",
       "<style scoped>\n",
       "    .dataframe tbody tr th:only-of-type {\n",
       "        vertical-align: middle;\n",
       "    }\n",
       "\n",
       "    .dataframe tbody tr th {\n",
       "        vertical-align: top;\n",
       "    }\n",
       "\n",
       "    .dataframe thead th {\n",
       "        text-align: right;\n",
       "    }\n",
       "</style>\n",
       "<table border=\"1\" class=\"dataframe\">\n",
       "  <thead>\n",
       "    <tr style=\"text-align: right;\">\n",
       "      <th></th>\n",
       "      <th>key</th>\n",
       "      <th>full_path</th>\n",
       "      <th>filename</th>\n",
       "    </tr>\n",
       "  </thead>\n",
       "  <tbody>\n",
       "    <tr>\n",
       "      <th>0</th>\n",
       "      <td>\\2018\\01\\01\\7501\\122\\7501_122_20180101_201523_...</td>\n",
       "      <td>/flux/2018/01/01/7501/122/7501_122_20180101_20...</td>\n",
       "      <td>7501_122_20180101_201523_9_ets_nouveau_modifie...</td>\n",
       "    </tr>\n",
       "    <tr>\n",
       "      <th>1</th>\n",
       "      <td>\\2018\\01\\01\\7501\\122\\7501_122_20180101_201523_...</td>\n",
       "      <td>/flux/2018/01/01/7501/122/7501_122_20180101_20...</td>\n",
       "      <td>7501_122_20180101_201523_8_ets.csv</td>\n",
       "    </tr>\n",
       "    <tr>\n",
       "      <th>2</th>\n",
       "      <td>\\2018\\01\\01\\7501\\122\\7501_122_20180101_201523_...</td>\n",
       "      <td>/flux/2018/01/01/7501/122/7501_122_20180101_20...</td>\n",
       "      <td>7501_122_20180101_201523_7_rep_partant_EVT.csv</td>\n",
       "    </tr>\n",
       "    <tr>\n",
       "      <th>3</th>\n",
       "      <td>\\2018\\01\\01\\7501\\122\\7501_122_20180101_201523_...</td>\n",
       "      <td>/flux/2018/01/01/7501/122/7501_122_20180101_20...</td>\n",
       "      <td>7501_122_20180101_201523_6_rep_nouveau_modifie...</td>\n",
       "    </tr>\n",
       "    <tr>\n",
       "      <th>4</th>\n",
       "      <td>\\2018\\01\\01\\7501\\122\\7501_122_20180101_201523_...</td>\n",
       "      <td>/flux/2018/01/01/7501/122/7501_122_20180101_20...</td>\n",
       "      <td>7501_122_20180101_201523_5_rep.csv</td>\n",
       "    </tr>\n",
       "  </tbody>\n",
       "</table>\n",
       "</div>"
      ],
      "text/plain": [
       "                                                 key  \\\n",
       "0  \\2018\\01\\01\\7501\\122\\7501_122_20180101_201523_...   \n",
       "1  \\2018\\01\\01\\7501\\122\\7501_122_20180101_201523_...   \n",
       "2  \\2018\\01\\01\\7501\\122\\7501_122_20180101_201523_...   \n",
       "3  \\2018\\01\\01\\7501\\122\\7501_122_20180101_201523_...   \n",
       "4  \\2018\\01\\01\\7501\\122\\7501_122_20180101_201523_...   \n",
       "\n",
       "                                           full_path  \\\n",
       "0  /flux/2018/01/01/7501/122/7501_122_20180101_20...   \n",
       "1  /flux/2018/01/01/7501/122/7501_122_20180101_20...   \n",
       "2  /flux/2018/01/01/7501/122/7501_122_20180101_20...   \n",
       "3  /flux/2018/01/01/7501/122/7501_122_20180101_20...   \n",
       "4  /flux/2018/01/01/7501/122/7501_122_20180101_20...   \n",
       "\n",
       "                                            filename  \n",
       "0  7501_122_20180101_201523_9_ets_nouveau_modifie...  \n",
       "1                 7501_122_20180101_201523_8_ets.csv  \n",
       "2     7501_122_20180101_201523_7_rep_partant_EVT.csv  \n",
       "3  7501_122_20180101_201523_6_rep_nouveau_modifie...  \n",
       "4                 7501_122_20180101_201523_5_rep.csv  "
      ]
     },
     "execution_count": 2,
     "metadata": {},
     "output_type": "execute_result"
    }
   ],
   "source": [
    "#filenameFTPcsv='/media/jawad/Lexar/FTPFlux2017.csv'\n",
    "filenameFTPcsv='/media/jawad/Lexar/FTPFlux2018.csv'\n",
    "#filenameFTPcsv='/media/jawad/Lexar/FTPFlux2019.csv'\n",
    "\n",
    "ftp_=pd.read_csv(filenameFTPcsv)\n",
    "ftp_['full_path']=ftp_['key'].apply(lambda x: ('\\\\flux' + x).replace('\\\\','/'))\n",
    "ftp_['filename']=ftp_['key'].apply(lambda x: x.split('\\\\')[-1])\n",
    "ftp_.head()"
   ]
  },
  {
   "cell_type": "code",
   "execution_count": 3,
   "metadata": {},
   "outputs": [
    {
     "data": {
      "text/plain": [
       "552088"
      ]
     },
     "execution_count": 3,
     "metadata": {},
     "output_type": "execute_result"
    }
   ],
   "source": [
    "len(ftp_)"
   ]
  },
  {
   "cell_type": "code",
   "execution_count": null,
   "metadata": {},
   "outputs": [],
   "source": [
    "# Select all duplicate rows based on filename\n",
    "duplicateRowsDF = ftp_[ftp_.duplicated(['filename'])]\n",
    "duplicateRowsDF.head()"
   ]
  },
  {
   "cell_type": "code",
   "execution_count": 9,
   "metadata": {},
   "outputs": [
    {
     "data": {
      "text/html": [
       "<div>\n",
       "<style scoped>\n",
       "    .dataframe tbody tr th:only-of-type {\n",
       "        vertical-align: middle;\n",
       "    }\n",
       "\n",
       "    .dataframe tbody tr th {\n",
       "        vertical-align: top;\n",
       "    }\n",
       "\n",
       "    .dataframe thead th {\n",
       "        text-align: right;\n",
       "    }\n",
       "</style>\n",
       "<table border=\"1\" class=\"dataframe\">\n",
       "  <thead>\n",
       "    <tr style=\"text-align: right;\">\n",
       "      <th></th>\n",
       "      <th>key</th>\n",
       "      <th>full_path</th>\n",
       "      <th>filename</th>\n",
       "    </tr>\n",
       "  </thead>\n",
       "  <tbody>\n",
       "    <tr>\n",
       "      <th>0</th>\n",
       "      <td>INPI/TC_1/00_RawData/public/IMR_Donnees_Saisie...</td>\n",
       "      <td>/flux/2018/01/01/7501/122/7501_122_20180101_20...</td>\n",
       "      <td>7501_122_20180101_201523_10_ets_supprime_EVT.csv</td>\n",
       "    </tr>\n",
       "    <tr>\n",
       "      <th>1</th>\n",
       "      <td>INPI/TC_1/00_RawData/public/IMR_Donnees_Saisie...</td>\n",
       "      <td>/flux/2018/01/01/7501/122/7501_122_20180101_20...</td>\n",
       "      <td>7501_122_20180101_201523_11_obs.csv</td>\n",
       "    </tr>\n",
       "    <tr>\n",
       "      <th>2</th>\n",
       "      <td>INPI/TC_1/00_RawData/public/IMR_Donnees_Saisie...</td>\n",
       "      <td>/flux/2018/01/01/7501/122/7501_122_20180101_20...</td>\n",
       "      <td>7501_122_20180101_201523_12_actes.csv</td>\n",
       "    </tr>\n",
       "    <tr>\n",
       "      <th>3</th>\n",
       "      <td>INPI/TC_1/00_RawData/public/IMR_Donnees_Saisie...</td>\n",
       "      <td>/flux/2018/01/01/7501/122/7501_122_20180101_20...</td>\n",
       "      <td>7501_122_20180101_201523_13_comptes_annuels.csv</td>\n",
       "    </tr>\n",
       "    <tr>\n",
       "      <th>4</th>\n",
       "      <td>INPI/TC_1/00_RawData/public/IMR_Donnees_Saisie...</td>\n",
       "      <td>/flux/2018/01/01/7501/122/7501_122_20180101_20...</td>\n",
       "      <td>7501_122_20180101_201523_1_PM.csv</td>\n",
       "    </tr>\n",
       "  </tbody>\n",
       "</table>\n",
       "</div>"
      ],
      "text/plain": [
       "                                                 key  \\\n",
       "0  INPI/TC_1/00_RawData/public/IMR_Donnees_Saisie...   \n",
       "1  INPI/TC_1/00_RawData/public/IMR_Donnees_Saisie...   \n",
       "2  INPI/TC_1/00_RawData/public/IMR_Donnees_Saisie...   \n",
       "3  INPI/TC_1/00_RawData/public/IMR_Donnees_Saisie...   \n",
       "4  INPI/TC_1/00_RawData/public/IMR_Donnees_Saisie...   \n",
       "\n",
       "                                           full_path  \\\n",
       "0  /flux/2018/01/01/7501/122/7501_122_20180101_20...   \n",
       "1  /flux/2018/01/01/7501/122/7501_122_20180101_20...   \n",
       "2  /flux/2018/01/01/7501/122/7501_122_20180101_20...   \n",
       "3  /flux/2018/01/01/7501/122/7501_122_20180101_20...   \n",
       "4  /flux/2018/01/01/7501/122/7501_122_20180101_20...   \n",
       "\n",
       "                                           filename  \n",
       "0  7501_122_20180101_201523_10_ets_supprime_EVT.csv  \n",
       "1               7501_122_20180101_201523_11_obs.csv  \n",
       "2             7501_122_20180101_201523_12_actes.csv  \n",
       "3   7501_122_20180101_201523_13_comptes_annuels.csv  \n",
       "4                 7501_122_20180101_201523_1_PM.csv  "
      ]
     },
     "execution_count": 9,
     "metadata": {},
     "output_type": "execute_result"
    }
   ],
   "source": [
    "#filenameRawcsv='data/count/20200412-190417_listobj_RawFlux2017.csv'\n",
    "filenameRawcsv='data/count/20200412-221748_listobj_RawFlux2018.csv'\n",
    "#filenameRawcsv='data/count/20200411-150747_listobj_RawFlux2019.csv'\n",
    "#filenameRawcsv='data/count/20200410-164920_listobj_RawStock2017.csv'\n",
    "#filenameRawcsv='data/count/20200410-165958_listobj_RawStock2018.csv'\n",
    "#filenameRawcsv='data/count/20200410-170008_listobj_RawStock2019.csv'\n",
    "\n",
    "\n",
    "raw_=pd.read_csv(filenameRawcsv)\n",
    "raw_['full_path']=raw_['key'].apply(lambda x: x[50:])\n",
    "raw_['filename']=raw_['key'].apply(lambda x: x.split('/')[-1])\n",
    "raw_.head()"
   ]
  },
  {
   "cell_type": "code",
   "execution_count": 10,
   "metadata": {},
   "outputs": [
    {
     "data": {
      "text/plain": [
       "552089"
      ]
     },
     "execution_count": 10,
     "metadata": {},
     "output_type": "execute_result"
    }
   ],
   "source": [
    "len(raw_)"
   ]
  },
  {
   "cell_type": "code",
   "execution_count": 11,
   "metadata": {},
   "outputs": [
    {
     "data": {
      "text/html": [
       "<div>\n",
       "<style scoped>\n",
       "    .dataframe tbody tr th:only-of-type {\n",
       "        vertical-align: middle;\n",
       "    }\n",
       "\n",
       "    .dataframe tbody tr th {\n",
       "        vertical-align: top;\n",
       "    }\n",
       "\n",
       "    .dataframe thead th {\n",
       "        text-align: right;\n",
       "    }\n",
       "</style>\n",
       "<table border=\"1\" class=\"dataframe\">\n",
       "  <thead>\n",
       "    <tr style=\"text-align: right;\">\n",
       "      <th></th>\n",
       "      <th>key</th>\n",
       "      <th>full_path</th>\n",
       "      <th>filename</th>\n",
       "    </tr>\n",
       "  </thead>\n",
       "  <tbody>\n",
       "  </tbody>\n",
       "</table>\n",
       "</div>"
      ],
      "text/plain": [
       "Empty DataFrame\n",
       "Columns: [key, full_path, filename]\n",
       "Index: []"
      ]
     },
     "execution_count": 11,
     "metadata": {},
     "output_type": "execute_result"
    }
   ],
   "source": [
    "# Select all duplicate rows based on filename\n",
    "duplicateRowsDF = raw_[raw_.duplicated(['filename'])]\n",
    "duplicateRowsDF.head()"
   ]
  },
  {
   "cell_type": "code",
   "execution_count": 12,
   "metadata": {},
   "outputs": [
    {
     "data": {
      "text/plain": [
       "0"
      ]
     },
     "execution_count": 12,
     "metadata": {},
     "output_type": "execute_result"
    }
   ],
   "source": [
    "len(duplicateRowsDF)"
   ]
  },
  {
   "cell_type": "code",
   "execution_count": null,
   "metadata": {},
   "outputs": [],
   "source": [
    "#duplicateRowsDF.sort_values([\"filename\"]).head()"
   ]
  },
  {
   "cell_type": "code",
   "execution_count": null,
   "metadata": {},
   "outputs": [],
   "source": [
    "#duplicateRowsDF.to_csv(r'dupFlux2018.csv', sep=';', index=True)"
   ]
  },
  {
   "cell_type": "code",
   "execution_count": null,
   "metadata": {},
   "outputs": [],
   "source": [
    "# Find difference between two data frames\n",
    "diff_=ftp_.merge(raw_,on='filename',indicator = True, how='left').loc[lambda x : x['_merge']!='both']"
   ]
  },
  {
   "cell_type": "code",
   "execution_count": null,
   "metadata": {},
   "outputs": [],
   "source": [
    "diff_.head()"
   ]
  },
  {
   "cell_type": "code",
   "execution_count": null,
   "metadata": {
    "scrolled": true
   },
   "outputs": [],
   "source": [
    "diff_[['filename','full_path_x','_merge']]"
   ]
  },
  {
   "cell_type": "code",
   "execution_count": null,
   "metadata": {},
   "outputs": [],
   "source": [
    "# Number of missing\n",
    "len(diff_)"
   ]
  },
  {
   "cell_type": "code",
   "execution_count": null,
   "metadata": {
    "scrolled": true
   },
   "outputs": [],
   "source": [
    "# Save missing list\n",
    "diff_['key_x'].to_csv(r'missingFlux2018-2.csv', sep=';', index=False)"
   ]
  },
  {
   "cell_type": "code",
   "execution_count": 4,
   "metadata": {},
   "outputs": [
    {
     "data": {
      "text/html": [
       "<div>\n",
       "<style scoped>\n",
       "    .dataframe tbody tr th:only-of-type {\n",
       "        vertical-align: middle;\n",
       "    }\n",
       "\n",
       "    .dataframe tbody tr th {\n",
       "        vertical-align: top;\n",
       "    }\n",
       "\n",
       "    .dataframe thead th {\n",
       "        text-align: right;\n",
       "    }\n",
       "</style>\n",
       "<table border=\"1\" class=\"dataframe\">\n",
       "  <thead>\n",
       "    <tr style=\"text-align: right;\">\n",
       "      <th></th>\n",
       "      <th>key</th>\n",
       "    </tr>\n",
       "  </thead>\n",
       "  <tbody>\n",
       "    <tr>\n",
       "      <th>0</th>\n",
       "      <td>INPI/TC_1/01_donnee_source/Flux/2018/</td>\n",
       "    </tr>\n",
       "    <tr>\n",
       "      <th>1</th>\n",
       "      <td>INPI/TC_1/01_donnee_source/Flux/2018/ACTES/</td>\n",
       "    </tr>\n",
       "    <tr>\n",
       "      <th>2</th>\n",
       "      <td>INPI/TC_1/01_donnee_source/Flux/2018/ACTES/EVT/</td>\n",
       "    </tr>\n",
       "    <tr>\n",
       "      <th>3</th>\n",
       "      <td>INPI/TC_1/01_donnee_source/Flux/2018/ACTES/NEW...</td>\n",
       "    </tr>\n",
       "    <tr>\n",
       "      <th>4</th>\n",
       "      <td>INPI/TC_1/01_donnee_source/Flux/2018/ACTES/NEW...</td>\n",
       "    </tr>\n",
       "  </tbody>\n",
       "</table>\n",
       "</div>"
      ],
      "text/plain": [
       "                                                 key\n",
       "0              INPI/TC_1/01_donnee_source/Flux/2018/\n",
       "1        INPI/TC_1/01_donnee_source/Flux/2018/ACTES/\n",
       "2    INPI/TC_1/01_donnee_source/Flux/2018/ACTES/EVT/\n",
       "3  INPI/TC_1/01_donnee_source/Flux/2018/ACTES/NEW...\n",
       "4  INPI/TC_1/01_donnee_source/Flux/2018/ACTES/NEW..."
      ]
     },
     "execution_count": 4,
     "metadata": {},
     "output_type": "execute_result"
    }
   ],
   "source": [
    "# PREPARED\n",
    "#filenamePrepcsv='data/count/20200412-212532_listobj_SourceFlux2017.csv'\n",
    "filenamePrepcsv='data/count/20200413-082026_listobj_SourceFlux2018.csv'\n",
    "#filenamePrepcsv='data/count/'\n",
    "#filenamePrepcsv='data/count/'\n",
    "#filenamePrepcsv='data/count/'\n",
    "#filenamePrepcsv='data/count/'\n",
    "\n",
    "\n",
    "prep_=pd.read_csv(filenamePrepcsv)\n",
    "prep_.head()"
   ]
  },
  {
   "cell_type": "code",
   "execution_count": 5,
   "metadata": {},
   "outputs": [
    {
     "data": {
      "text/html": [
       "<div>\n",
       "<style scoped>\n",
       "    .dataframe tbody tr th:only-of-type {\n",
       "        vertical-align: middle;\n",
       "    }\n",
       "\n",
       "    .dataframe tbody tr th {\n",
       "        vertical-align: top;\n",
       "    }\n",
       "\n",
       "    .dataframe thead th {\n",
       "        text-align: right;\n",
       "    }\n",
       "</style>\n",
       "<table border=\"1\" class=\"dataframe\">\n",
       "  <thead>\n",
       "    <tr style=\"text-align: right;\">\n",
       "      <th></th>\n",
       "      <th>key</th>\n",
       "      <th>filename</th>\n",
       "    </tr>\n",
       "  </thead>\n",
       "  <tbody>\n",
       "    <tr>\n",
       "      <th>0</th>\n",
       "      <td>INPI/TC_1/01_donnee_source/Flux/2018/</td>\n",
       "      <td></td>\n",
       "    </tr>\n",
       "    <tr>\n",
       "      <th>1</th>\n",
       "      <td>INPI/TC_1/01_donnee_source/Flux/2018/ACTES/</td>\n",
       "      <td></td>\n",
       "    </tr>\n",
       "    <tr>\n",
       "      <th>2</th>\n",
       "      <td>INPI/TC_1/01_donnee_source/Flux/2018/ACTES/EVT/</td>\n",
       "      <td></td>\n",
       "    </tr>\n",
       "    <tr>\n",
       "      <th>3</th>\n",
       "      <td>INPI/TC_1/01_donnee_source/Flux/2018/ACTES/NEW...</td>\n",
       "      <td>0101_163_20180103_084810_12_actes.csv</td>\n",
       "    </tr>\n",
       "    <tr>\n",
       "      <th>4</th>\n",
       "      <td>INPI/TC_1/01_donnee_source/Flux/2018/ACTES/NEW...</td>\n",
       "      <td>0101_164_20180104_054316_12_actes.csv</td>\n",
       "    </tr>\n",
       "  </tbody>\n",
       "</table>\n",
       "</div>"
      ],
      "text/plain": [
       "                                                 key  \\\n",
       "0              INPI/TC_1/01_donnee_source/Flux/2018/   \n",
       "1        INPI/TC_1/01_donnee_source/Flux/2018/ACTES/   \n",
       "2    INPI/TC_1/01_donnee_source/Flux/2018/ACTES/EVT/   \n",
       "3  INPI/TC_1/01_donnee_source/Flux/2018/ACTES/NEW...   \n",
       "4  INPI/TC_1/01_donnee_source/Flux/2018/ACTES/NEW...   \n",
       "\n",
       "                                filename  \n",
       "0                                         \n",
       "1                                         \n",
       "2                                         \n",
       "3  0101_163_20180103_084810_12_actes.csv  \n",
       "4  0101_164_20180104_054316_12_actes.csv  "
      ]
     },
     "execution_count": 5,
     "metadata": {},
     "output_type": "execute_result"
    }
   ],
   "source": [
    "prep_['filename']=prep_['key'].apply(lambda x: x.split('/')[-1])\n",
    "prep_.head()"
   ]
  },
  {
   "cell_type": "code",
   "execution_count": 6,
   "metadata": {},
   "outputs": [
    {
     "data": {
      "text/html": [
       "<div>\n",
       "<style scoped>\n",
       "    .dataframe tbody tr th:only-of-type {\n",
       "        vertical-align: middle;\n",
       "    }\n",
       "\n",
       "    .dataframe tbody tr th {\n",
       "        vertical-align: top;\n",
       "    }\n",
       "\n",
       "    .dataframe thead th {\n",
       "        text-align: right;\n",
       "    }\n",
       "</style>\n",
       "<table border=\"1\" class=\"dataframe\">\n",
       "  <thead>\n",
       "    <tr style=\"text-align: right;\">\n",
       "      <th></th>\n",
       "      <th>key</th>\n",
       "      <th>filename</th>\n",
       "    </tr>\n",
       "  </thead>\n",
       "  <tbody>\n",
       "    <tr>\n",
       "      <th>1</th>\n",
       "      <td>INPI/TC_1/01_donnee_source/Flux/2018/ACTES/</td>\n",
       "      <td></td>\n",
       "    </tr>\n",
       "    <tr>\n",
       "      <th>2</th>\n",
       "      <td>INPI/TC_1/01_donnee_source/Flux/2018/ACTES/EVT/</td>\n",
       "      <td></td>\n",
       "    </tr>\n",
       "  </tbody>\n",
       "</table>\n",
       "</div>"
      ],
      "text/plain": [
       "                                               key filename\n",
       "1      INPI/TC_1/01_donnee_source/Flux/2018/ACTES/         \n",
       "2  INPI/TC_1/01_donnee_source/Flux/2018/ACTES/EVT/         "
      ]
     },
     "execution_count": 6,
     "metadata": {},
     "output_type": "execute_result"
    }
   ],
   "source": [
    "# Select all duplicate rows based on filename\n",
    "duplicateRowsDF = prep_[prep_.duplicated(['filename'])]\n",
    "duplicateRowsDF.head()"
   ]
  },
  {
   "cell_type": "code",
   "execution_count": 7,
   "metadata": {},
   "outputs": [
    {
     "data": {
      "text/plain": [
       "551312"
      ]
     },
     "execution_count": 7,
     "metadata": {},
     "output_type": "execute_result"
    }
   ],
   "source": [
    "len(prep_)"
   ]
  },
  {
   "cell_type": "code",
   "execution_count": 13,
   "metadata": {},
   "outputs": [
    {
     "data": {
      "text/html": [
       "<div>\n",
       "<style scoped>\n",
       "    .dataframe tbody tr th:only-of-type {\n",
       "        vertical-align: middle;\n",
       "    }\n",
       "\n",
       "    .dataframe tbody tr th {\n",
       "        vertical-align: top;\n",
       "    }\n",
       "\n",
       "    .dataframe thead th {\n",
       "        text-align: right;\n",
       "    }\n",
       "</style>\n",
       "<table border=\"1\" class=\"dataframe\">\n",
       "  <thead>\n",
       "    <tr style=\"text-align: right;\">\n",
       "      <th></th>\n",
       "      <th>key_x</th>\n",
       "      <th>full_path</th>\n",
       "      <th>filename</th>\n",
       "      <th>key_y</th>\n",
       "      <th>_merge</th>\n",
       "    </tr>\n",
       "  </thead>\n",
       "  <tbody>\n",
       "    <tr>\n",
       "      <th>858</th>\n",
       "      <td>INPI/TC_1/00_RawData/public/IMR_Donnees_Saisie...</td>\n",
       "      <td>/flux/2018/01/03/1303/321/1303_321_20171227_07...</td>\n",
       "      <td>1303_321_20171227_070757_10_ets_supprime_EVT.csv</td>\n",
       "      <td>NaN</td>\n",
       "      <td>left_only</td>\n",
       "    </tr>\n",
       "    <tr>\n",
       "      <th>859</th>\n",
       "      <td>INPI/TC_1/00_RawData/public/IMR_Donnees_Saisie...</td>\n",
       "      <td>/flux/2018/01/03/1303/321/1303_321_20171227_07...</td>\n",
       "      <td>1303_321_20171227_070757_11_obs.csv</td>\n",
       "      <td>NaN</td>\n",
       "      <td>left_only</td>\n",
       "    </tr>\n",
       "    <tr>\n",
       "      <th>860</th>\n",
       "      <td>INPI/TC_1/00_RawData/public/IMR_Donnees_Saisie...</td>\n",
       "      <td>/flux/2018/01/03/1303/321/1303_321_20171227_07...</td>\n",
       "      <td>1303_321_20171227_070757_12_actes.csv</td>\n",
       "      <td>NaN</td>\n",
       "      <td>left_only</td>\n",
       "    </tr>\n",
       "    <tr>\n",
       "      <th>861</th>\n",
       "      <td>INPI/TC_1/00_RawData/public/IMR_Donnees_Saisie...</td>\n",
       "      <td>/flux/2018/01/03/1303/321/1303_321_20171227_07...</td>\n",
       "      <td>1303_321_20171227_070757_13_comptes_annuels.csv</td>\n",
       "      <td>NaN</td>\n",
       "      <td>left_only</td>\n",
       "    </tr>\n",
       "    <tr>\n",
       "      <th>862</th>\n",
       "      <td>INPI/TC_1/00_RawData/public/IMR_Donnees_Saisie...</td>\n",
       "      <td>/flux/2018/01/03/1303/321/1303_321_20171227_07...</td>\n",
       "      <td>1303_321_20171227_070757_1_PM.csv</td>\n",
       "      <td>NaN</td>\n",
       "      <td>left_only</td>\n",
       "    </tr>\n",
       "  </tbody>\n",
       "</table>\n",
       "</div>"
      ],
      "text/plain": [
       "                                                 key_x  \\\n",
       "858  INPI/TC_1/00_RawData/public/IMR_Donnees_Saisie...   \n",
       "859  INPI/TC_1/00_RawData/public/IMR_Donnees_Saisie...   \n",
       "860  INPI/TC_1/00_RawData/public/IMR_Donnees_Saisie...   \n",
       "861  INPI/TC_1/00_RawData/public/IMR_Donnees_Saisie...   \n",
       "862  INPI/TC_1/00_RawData/public/IMR_Donnees_Saisie...   \n",
       "\n",
       "                                             full_path  \\\n",
       "858  /flux/2018/01/03/1303/321/1303_321_20171227_07...   \n",
       "859  /flux/2018/01/03/1303/321/1303_321_20171227_07...   \n",
       "860  /flux/2018/01/03/1303/321/1303_321_20171227_07...   \n",
       "861  /flux/2018/01/03/1303/321/1303_321_20171227_07...   \n",
       "862  /flux/2018/01/03/1303/321/1303_321_20171227_07...   \n",
       "\n",
       "                                             filename key_y     _merge  \n",
       "858  1303_321_20171227_070757_10_ets_supprime_EVT.csv   NaN  left_only  \n",
       "859               1303_321_20171227_070757_11_obs.csv   NaN  left_only  \n",
       "860             1303_321_20171227_070757_12_actes.csv   NaN  left_only  \n",
       "861   1303_321_20171227_070757_13_comptes_annuels.csv   NaN  left_only  \n",
       "862                 1303_321_20171227_070757_1_PM.csv   NaN  left_only  "
      ]
     },
     "execution_count": 13,
     "metadata": {},
     "output_type": "execute_result"
    }
   ],
   "source": [
    "# Find difference between two data frames\n",
    "diff_=raw_.merge(prep_,on='filename',indicator = True, how='left').loc[lambda x : x['_merge']!='both']\n",
    "diff_.head()"
   ]
  },
  {
   "cell_type": "code",
   "execution_count": 14,
   "metadata": {},
   "outputs": [
    {
     "data": {
      "text/plain": [
       "780"
      ]
     },
     "execution_count": 14,
     "metadata": {},
     "output_type": "execute_result"
    }
   ],
   "source": [
    "len(diff_)"
   ]
  },
  {
   "cell_type": "code",
   "execution_count": 15,
   "metadata": {},
   "outputs": [],
   "source": [
    "# Save missing list\n",
    "diff_['key_x'].to_csv(r'missingPrepFlux2018.csv', sep=';', index=False)"
   ]
  },
  {
   "cell_type": "code",
   "execution_count": null,
   "metadata": {},
   "outputs": [],
   "source": []
  },
  {
   "cell_type": "code",
   "execution_count": null,
   "metadata": {},
   "outputs": [],
   "source": []
  }
 ],
 "metadata": {
  "kernelspec": {
   "display_name": "Python 3",
   "language": "python",
   "name": "python3"
  },
  "language_info": {
   "codemirror_mode": {
    "name": "ipython",
    "version": 3
   },
   "file_extension": ".py",
   "mimetype": "text/x-python",
   "name": "python",
   "nbconvert_exporter": "python",
   "pygments_lexer": "ipython3",
   "version": "3.7.0"
  }
 },
 "nbformat": 4,
 "nbformat_minor": 2
}
