{
 "cells": [
  {
   "cell_type": "markdown",
   "metadata": {},
   "source": [
    "# Verification fichier S3"
   ]
  },
  {
   "cell_type": "code",
<<<<<<< HEAD
   "execution_count": 2,
=======
   "execution_count": null,
>>>>>>> 9c6581b886b9f4714136aa2967c48850e208beff
   "metadata": {},
   "outputs": [],
   "source": [
    "from awsPy.aws_authorization import aws_connector\n",
    "from awsPy.aws_s3 import service_s3\n",
    "import os\n",
    "from pathlib import Path\n",
    "import pandas as pd"
   ]
  },
  {
   "cell_type": "code",
   "execution_count": null,
   "metadata": {},
   "outputs": [],
   "source": [
    "#from aws import aws_connector \n",
    "#import json\n",
    "#%load_ext autoreload\n",
    "#%autoreload 2"
   ]
  },
  {
   "cell_type": "code",
<<<<<<< HEAD
   "execution_count": 3,
=======
   "execution_count": null,
>>>>>>> 9c6581b886b9f4714136aa2967c48850e208beff
   "metadata": {},
   "outputs": [],
   "source": [
    "bucket = 'calfdata'\n",
    "path = os.getcwd()\n",
    "parent_path = str(Path(path).parent)\n",
    "path_cred = \"{}/programme_matching/credential_AWS.json\".format(parent_path)\n",
    "con = aws_connector.aws_instantiate(credential = path_cred,\n",
    "                                        region = 'eu-west-3')\n",
    "client= con.client_boto()\n",
    "s3 = service_s3.connect_S3(client = client,\n",
    "                      bucket = 'calfdata') "
   ]
  },
  {
   "cell_type": "code",
   "execution_count": null,
   "metadata": {},
   "outputs": [],
   "source": [
    "list(s3.read_df_from_s3(key = \n",
    "                        'INPI/TC_1/01_donnee_source/Flux/2017/PM/NEW/0101_100_20171003_074607_1_PM.csv',\n",
    "                   sep = \";\").head())"
   ]
  },
  {
   "cell_type": "code",
<<<<<<< HEAD
   "execution_count": 6,
   "metadata": {},
   "outputs": [
    {
     "data": {
      "text/html": [
       "<div>\n",
       "<style scoped>\n",
       "    .dataframe tbody tr th:only-of-type {\n",
       "        vertical-align: middle;\n",
       "    }\n",
       "\n",
       "    .dataframe tbody tr th {\n",
       "        vertical-align: top;\n",
       "    }\n",
       "\n",
       "    .dataframe thead th {\n",
       "        text-align: right;\n",
       "    }\n",
       "</style>\n",
       "<table border=\"1\" class=\"dataframe\">\n",
       "  <thead>\n",
       "    <tr style=\"text-align: right;\">\n",
       "      <th></th>\n",
       "      <th>Code Greffe</th>\n",
       "      <th>Nom_Greffe</th>\n",
       "      <th>Numero_Gestion</th>\n",
       "      <th>Siren</th>\n",
       "      <th>file_timestamp</th>\n",
       "      <th>Type_Inscription</th>\n",
       "      <th>Date_Immatriculation</th>\n",
       "      <th>Date_1re_Immatriculation</th>\n",
       "      <th>Date_Radiation</th>\n",
       "      <th>Date_Transfert</th>\n",
       "      <th>...</th>\n",
       "      <th>Capital_Actuel</th>\n",
       "      <th>Devise</th>\n",
       "      <th>Date_Cloture</th>\n",
       "      <th>Date_Cloture_Except</th>\n",
       "      <th>Economie_Sociale_Solidaire</th>\n",
       "      <th>Durée_PM</th>\n",
       "      <th>Date_Greffe</th>\n",
       "      <th>Libelle_Evt</th>\n",
       "      <th>csv_source</th>\n",
       "      <th>origin</th>\n",
       "    </tr>\n",
       "  </thead>\n",
       "  <tbody>\n",
       "    <tr>\n",
       "      <th>0</th>\n",
       "      <td>401</td>\n",
       "      <td>Manosque</td>\n",
       "      <td>1978B40011</td>\n",
       "      <td>312149370</td>\n",
       "      <td>2019-10-21</td>\n",
       "      <td>P</td>\n",
       "      <td>1978-02-16</td>\n",
       "      <td>NaN</td>\n",
       "      <td>2018-10-29</td>\n",
       "      <td>NaN</td>\n",
       "      <td>...</td>\n",
       "      <td>NaN</td>\n",
       "      <td>Euros</td>\n",
       "      <td>31 Décembre</td>\n",
       "      <td>NaN</td>\n",
       "      <td>Oui</td>\n",
       "      <td>50.0</td>\n",
       "      <td>2018-10-29</td>\n",
       "      <td>Création</td>\n",
       "      <td>0401_S5_20191021_1_PM.csv</td>\n",
       "      <td>Partiel</td>\n",
       "    </tr>\n",
       "    <tr>\n",
       "      <th>1</th>\n",
       "      <td>401</td>\n",
       "      <td>Manosque</td>\n",
       "      <td>1979D40005</td>\n",
       "      <td>315655423</td>\n",
       "      <td>2019-10-21</td>\n",
       "      <td>P</td>\n",
       "      <td>1979-05-10</td>\n",
       "      <td>NaN</td>\n",
       "      <td>2019-05-17</td>\n",
       "      <td>NaN</td>\n",
       "      <td>...</td>\n",
       "      <td>NaN</td>\n",
       "      <td>Euros</td>\n",
       "      <td>NaN</td>\n",
       "      <td>NaN</td>\n",
       "      <td>Oui</td>\n",
       "      <td>75.0</td>\n",
       "      <td>2019-05-17</td>\n",
       "      <td>Création</td>\n",
       "      <td>0401_S5_20191021_1_PM.csv</td>\n",
       "      <td>Partiel</td>\n",
       "    </tr>\n",
       "    <tr>\n",
       "      <th>2</th>\n",
       "      <td>401</td>\n",
       "      <td>Manosque</td>\n",
       "      <td>1985D40041</td>\n",
       "      <td>333424315</td>\n",
       "      <td>2019-10-21</td>\n",
       "      <td>P</td>\n",
       "      <td>1985-09-12</td>\n",
       "      <td>NaN</td>\n",
       "      <td>2019-01-23</td>\n",
       "      <td>2017-09-30</td>\n",
       "      <td>...</td>\n",
       "      <td>NaN</td>\n",
       "      <td>Euros</td>\n",
       "      <td>NaN</td>\n",
       "      <td>NaN</td>\n",
       "      <td>Non</td>\n",
       "      <td>80.0</td>\n",
       "      <td>2018-01-30</td>\n",
       "      <td>Création</td>\n",
       "      <td>0401_S5_20191021_1_PM.csv</td>\n",
       "      <td>Partiel</td>\n",
       "    </tr>\n",
       "    <tr>\n",
       "      <th>3</th>\n",
       "      <td>401</td>\n",
       "      <td>Manosque</td>\n",
       "      <td>1985D00023</td>\n",
       "      <td>333521177</td>\n",
       "      <td>2019-10-21</td>\n",
       "      <td>P</td>\n",
       "      <td>1985-09-23</td>\n",
       "      <td>NaN</td>\n",
       "      <td>1986-10-24</td>\n",
       "      <td>NaN</td>\n",
       "      <td>...</td>\n",
       "      <td>NaN</td>\n",
       "      <td>Francs</td>\n",
       "      <td>NaN</td>\n",
       "      <td>NaN</td>\n",
       "      <td>Non</td>\n",
       "      <td>30.0</td>\n",
       "      <td>2018-10-24</td>\n",
       "      <td>Création</td>\n",
       "      <td>0401_S5_20191021_1_PM.csv</td>\n",
       "      <td>Partiel</td>\n",
       "    </tr>\n",
       "    <tr>\n",
       "      <th>4</th>\n",
       "      <td>401</td>\n",
       "      <td>Manosque</td>\n",
       "      <td>1989B00071</td>\n",
       "      <td>351501846</td>\n",
       "      <td>2019-10-21</td>\n",
       "      <td>P</td>\n",
       "      <td>1989-07-26</td>\n",
       "      <td>NaN</td>\n",
       "      <td>2017-08-18</td>\n",
       "      <td>NaN</td>\n",
       "      <td>...</td>\n",
       "      <td>NaN</td>\n",
       "      <td>Euros</td>\n",
       "      <td>30 Juin</td>\n",
       "      <td>NaN</td>\n",
       "      <td>Oui</td>\n",
       "      <td>99.0</td>\n",
       "      <td>2017-08-18</td>\n",
       "      <td>Création</td>\n",
       "      <td>0401_S5_20191021_1_PM.csv</td>\n",
       "      <td>Partiel</td>\n",
       "    </tr>\n",
       "  </tbody>\n",
       "</table>\n",
       "<p>5 rows × 31 columns</p>\n",
       "</div>"
      ],
      "text/plain": [
       "   Code Greffe Nom_Greffe Numero_Gestion      Siren file_timestamp  \\\n",
       "0          401   Manosque     1978B40011  312149370     2019-10-21   \n",
       "1          401   Manosque     1979D40005  315655423     2019-10-21   \n",
       "2          401   Manosque     1985D40041  333424315     2019-10-21   \n",
       "3          401   Manosque     1985D00023  333521177     2019-10-21   \n",
       "4          401   Manosque     1989B00071  351501846     2019-10-21   \n",
       "\n",
       "  Type_Inscription Date_Immatriculation Date_1re_Immatriculation  \\\n",
       "0                P           1978-02-16                      NaN   \n",
       "1                P           1979-05-10                      NaN   \n",
       "2                P           1985-09-12                      NaN   \n",
       "3                P           1985-09-23                      NaN   \n",
       "4                P           1989-07-26                      NaN   \n",
       "\n",
       "  Date_Radiation Date_Transfert  ... Capital_Actuel  Devise Date_Cloture  \\\n",
       "0     2018-10-29            NaN  ...            NaN   Euros  31 Décembre   \n",
       "1     2019-05-17            NaN  ...            NaN   Euros          NaN   \n",
       "2     2019-01-23     2017-09-30  ...            NaN   Euros          NaN   \n",
       "3     1986-10-24            NaN  ...            NaN  Francs          NaN   \n",
       "4     2017-08-18            NaN  ...            NaN   Euros      30 Juin   \n",
       "\n",
       "  Date_Cloture_Except Economie_Sociale_Solidaire Durée_PM Date_Greffe  \\\n",
       "0                 NaN                        Oui     50.0  2018-10-29   \n",
       "1                 NaN                        Oui     75.0  2019-05-17   \n",
       "2                 NaN                        Non     80.0  2018-01-30   \n",
       "3                 NaN                        Non     30.0  2018-10-24   \n",
       "4                 NaN                        Oui     99.0  2017-08-18   \n",
       "\n",
       "  Libelle_Evt                 csv_source   origin  \n",
       "0    Création  0401_S5_20191021_1_PM.csv  Partiel  \n",
       "1    Création  0401_S5_20191021_1_PM.csv  Partiel  \n",
       "2    Création  0401_S5_20191021_1_PM.csv  Partiel  \n",
       "3    Création  0401_S5_20191021_1_PM.csv  Partiel  \n",
       "4    Création  0401_S5_20191021_1_PM.csv  Partiel  \n",
       "\n",
       "[5 rows x 31 columns]"
      ]
     },
     "execution_count": 6,
     "metadata": {},
     "output_type": "execute_result"
    }
   ],
   "source": [
    "s3.read_df_from_s3(key = \n",
    "                        'INPI/sql_output_preparation_pm/pm_partiel_2019.csv',\n",
    "                   sep = \",\").head()"
   ]
  },
  {
   "cell_type": "code",
   "execution_count": 8,
   "metadata": {},
   "outputs": [
    {
     "data": {
      "text/plain": [
       "['Code Greffe',\n",
       " 'Nom_Greffe',\n",
       " 'Numero_Gestion',\n",
       " 'Siren',\n",
       " 'file_timestamp',\n",
       " 'Type_Inscription',\n",
       " 'Date_Immatriculation',\n",
       " 'Date_1re_Immatriculation',\n",
       " 'Date_Radiation',\n",
       " 'Date_Transfert',\n",
       " 'Sans_Activité',\n",
       " 'Date_Debut_Activité',\n",
       " 'Date_Début_1re_Activité',\n",
       " 'Date_Cessation_Activité',\n",
       " 'Denomination',\n",
       " 'Sigle',\n",
       " 'Forme_Juridique',\n",
       " 'Associé_Unique',\n",
       " 'Activité_Principale',\n",
       " 'Type_Capital',\n",
       " 'Capital',\n",
       " 'Capital_Actuel',\n",
       " 'Devise',\n",
       " 'Date_Cloture',\n",
       " 'Date_Cloture_Except',\n",
       " 'Economie_Sociale_Solidaire',\n",
       " 'Durée_PM',\n",
       " 'Date_Greffe',\n",
       " 'Libelle_Evt',\n",
       " 'csv_source',\n",
       " 'origin']"
      ]
     },
     "execution_count": 8,
     "metadata": {},
     "output_type": "execute_result"
    }
   ],
   "source": [
    "list(s3.read_df_from_s3(key = \n",
    "                        'INPI/sql_output_preparation_pm/pm_evt_2017.csv',\n",
    "                   sep = \",\"))"
   ]
  },
  {
   "cell_type": "code",
   "execution_count": 10,
=======
   "execution_count": null,
>>>>>>> 9c6581b886b9f4714136aa2967c48850e208beff
   "metadata": {},
   "outputs": [],
   "source": [
    "s3.read_df_from_s3(key = \n",
    "                        'INPI/TC_1/01_donnee_source/Stock/Stock_Partiel/2018/PP/0101_S2_20180824_3_PP.csv',\n",
    "                   sep = \";\")#.loc[lambda x: x['Siren'].isin(['843524737'])].T"
   ]
  },
  {
   "cell_type": "code",
   "execution_count": null,
   "metadata": {},
   "outputs": [],
   "source": [
    "s3.read_df_from_s3(key = \n",
    "                        'INPI/TC_1/01_donnee_source/Flux/2018/ETS/NEW/7501_340_20181101_201854_8_ets.csv',\n",
    "                   sep = \";\").loc[lambda x: x['Siren'].isin(['843524737'])].T"
   ]
  },
  {
   "cell_type": "code",
   "execution_count": null,
   "metadata": {},
   "outputs": [],
   "source": [
    "s3.read_df_from_s3(key = \n",
    "                        'INPI/TC_1/01_donnee_source/Flux/2018/ETS/EVT/7501_340_20181101_201854_9_ets_nouveau_modifie_EVT.csv',\n",
    "                   sep = \";\").loc[lambda x: x['Siren'].isin(['843524737'])].T"
   ]
  },
  {
   "cell_type": "markdown",
   "metadata": {},
   "source": [
    "# Compression\n",
    "\n",
    "Si gz, alors ne marche pas"
   ]
  },
  {
   "cell_type": "code",
   "execution_count": null,
   "metadata": {},
   "outputs": [],
   "source": [
    "s3.download_file(key= 'INPI/TC_1/Flux_processed/2017_ets_enriched.gz')"
   ]
  },
  {
   "cell_type": "code",
   "execution_count": null,
   "metadata": {},
   "outputs": [],
   "source": [
    "import pandas as pd"
   ]
  },
  {
   "cell_type": "code",
   "execution_count": null,
   "metadata": {},
   "outputs": [],
   "source": [
    "list(pd.read_csv('2017_ets_enriched.gz'))"
   ]
  },
  {
   "cell_type": "code",
   "execution_count": null,
   "metadata": {},
   "outputs": [],
   "source": []
  }
 ],
 "metadata": {
  "kernelspec": {
   "display_name": "Python 3",
   "language": "python",
   "name": "python3"
  },
  "language_info": {
   "codemirror_mode": {
    "name": "ipython",
    "version": 3
   },
   "file_extension": ".py",
   "mimetype": "text/x-python",
   "name": "python",
   "nbconvert_exporter": "python",
   "pygments_lexer": "ipython3",
   "version": "3.7.6"
  }
 },
 "nbformat": 4,
 "nbformat_minor": 4
}
