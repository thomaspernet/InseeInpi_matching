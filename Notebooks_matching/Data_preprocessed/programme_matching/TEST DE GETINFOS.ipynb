{
 "cells": [
  {
   "cell_type": "code",
   "execution_count": 1,
   "metadata": {},
   "outputs": [],
   "source": [
    "import pandas as pd\n",
    "import os\n",
    "import utils as u"
   ]
  },
  {
   "cell_type": "code",
   "execution_count": 2,
   "metadata": {},
   "outputs": [],
   "source": [
    "source_path='a corriger/mauvais classement/source/flux'\n",
    "dest_path='a corriger/mauvais classement/dest/flux'"
   ]
  },
  {
   "cell_type": "code",
   "execution_count": 3,
   "metadata": {},
   "outputs": [
    {
     "name": "stdout",
     "output_type": "stream",
     "text": [
      "3801_25_20170608_074139_2_PM_EVT.csv\n",
      "7501_252_20180702_211452_10_ets_supprime_EVT.csv\n",
      "7501_252_20180702_211452_11_obs.csv\n",
      "7501_252_20180702_211452_12_actes.csv\n",
      "7501_252_20180702_211452_13_comptes_annuels.csv\n",
      "7501_252_20180702_211452_1_PM.csv\n",
      "7501_252_20180702_211452_2_PM_EVT.csv\n",
      "7501_252_20180702_211452_3_PP.csv\n",
      "7501_252_20180702_211452_4_PP_EVT.csv\n",
      "7501_252_20180702_211452_5_rep.csv\n",
      "7501_252_20180702_211452_6_rep_nouveau_modifie_EVT.csv\n",
      "7501_252_20180702_211452_7_rep_partant_EVT.csv\n",
      "7501_252_20180702_211452_8_ets.csv\n",
      "7501_252_20180702_211452_9_ets_nouveau_modifie_EVT.csv\n"
     ]
    }
   ],
   "source": [
    "# Add information about the source inside csv file\n",
    "# r=root, d=directories, f = files\n",
    "for r, d, f in os.walk(source_path):\n",
    "    for filename in f:\n",
    "        if filename.endswith('.csv'):\n",
    "            print(filename)\n",
    "            (nature_,origin_,suborigin_,year_,timestamp_) = u.get_file_infos(filename)\n",
    "            #print((nature_,origin_,suborigin_,year_,timestamp_))\n",
    "            u.add_source_info(filename,r,dest_path)"
   ]
  },
  {
   "cell_type": "code",
   "execution_count": 4,
   "metadata": {},
   "outputs": [
    {
     "data": {
      "text/plain": [
       "\"\\n7501_252_20180702_211452_10_ets_supprime_EVT.csv\\n('ETS', 'Flux', 'EVT', '2018', datetime.datetime(2018, 7, 2, 21, 14, 52))\\n7501_252_20180702_211452_11_obs.csv\\n('OBS', 'Flux', 'NEW', '2018', datetime.datetime(2018, 7, 2, 21, 14, 52))\\n7501_252_20180702_211452_12_actes.csv\\n('ACTES', 'Flux', 'NEW', '2018', datetime.datetime(2018, 7, 2, 21, 14, 52))\\n7501_252_20180702_211452_13_comptes_annuels.csv\\n('COMPTES_ANNUELS', 'Flux', 'NEW', '2018', datetime.datetime(2018, 7, 2, 21, 14, 52))\\n7501_252_20180702_211452_1_PM.csv\\n('PM', 'Flux', 'NEW', '2018', datetime.datetime(2018, 7, 2, 21, 14, 52))\\n7501_252_20180702_211452_3_PP.csv\\n('PP', 'Flux', 'NEW', '2018', datetime.datetime(2018, 7, 2, 21, 14, 52))\\n7501_252_20180702_211452_5_rep.csv\\n('REP', 'Flux', 'NEW', '2018', datetime.datetime(2018, 7, 2, 21, 14, 52))\\n7501_252_20180702_211452_8_ets.csv\\n('ETS', 'Flux', 'NEW', '2018', datetime.datetime(2018, 7, 2, 21, 14, 52))\\n7501_252_20180702_211452_9_ets_nouveau_modifie_EVT.csv\\n('ETS', 'Flux', 'EVT', '2018', datetime.datetime(2018, 7, 2, 21, 14, 52))\\n\""
      ]
     },
     "execution_count": 4,
     "metadata": {},
     "output_type": "execute_result"
    }
   ],
   "source": [
    "#FLUX\n",
    "\n",
    "# Probleme\n",
    "'''\n",
    "3801_25_20170608_074139_2_PM_EVT.csv\n",
    "('ETS', 'Flux', 'EVT', '2017', datetime.datetime(2017, 6, 8, 7, 41, 39))\n",
    "7501_252_20180702_211452_2_PM_EVT.csv\n",
    "('ETS', 'Flux', 'EVT', '2018', datetime.datetime(2018, 7, 2, 21, 14, 52))\n",
    "7501_252_20180702_211452_4_PP_EVT.csv\n",
    "('ETS', 'Flux', 'EVT', '2018', datetime.datetime(2018, 7, 2, 21, 14, 52))\n",
    "7501_252_20180702_211452_6_rep_nouveau_modifie_EVT.csv\n",
    "('ETS', 'Flux', 'EVT', '2018', datetime.datetime(2018, 7, 2, 21, 14, 52))\n",
    "7501_252_20180702_211452_7_rep_partant_EVT.csv\n",
    "('ETS', 'Flux', 'EVT', '2018', datetime.datetime(2018, 7, 2, 21, 14, 52))\n",
    "'''\n",
    "# OK\n",
    "'''\n",
    "7501_252_20180702_211452_10_ets_supprime_EVT.csv\n",
    "('ETS', 'Flux', 'EVT', '2018', datetime.datetime(2018, 7, 2, 21, 14, 52))\n",
    "7501_252_20180702_211452_11_obs.csv\n",
    "('OBS', 'Flux', 'NEW', '2018', datetime.datetime(2018, 7, 2, 21, 14, 52))\n",
    "7501_252_20180702_211452_12_actes.csv\n",
    "('ACTES', 'Flux', 'NEW', '2018', datetime.datetime(2018, 7, 2, 21, 14, 52))\n",
    "7501_252_20180702_211452_13_comptes_annuels.csv\n",
    "('COMPTES_ANNUELS', 'Flux', 'NEW', '2018', datetime.datetime(2018, 7, 2, 21, 14, 52))\n",
    "7501_252_20180702_211452_1_PM.csv\n",
    "('PM', 'Flux', 'NEW', '2018', datetime.datetime(2018, 7, 2, 21, 14, 52))\n",
    "7501_252_20180702_211452_3_PP.csv\n",
    "('PP', 'Flux', 'NEW', '2018', datetime.datetime(2018, 7, 2, 21, 14, 52))\n",
    "7501_252_20180702_211452_5_rep.csv\n",
    "('REP', 'Flux', 'NEW', '2018', datetime.datetime(2018, 7, 2, 21, 14, 52))\n",
    "7501_252_20180702_211452_8_ets.csv\n",
    "('ETS', 'Flux', 'NEW', '2018', datetime.datetime(2018, 7, 2, 21, 14, 52))\n",
    "7501_252_20180702_211452_9_ets_nouveau_modifie_EVT.csv\n",
    "('ETS', 'Flux', 'EVT', '2018', datetime.datetime(2018, 7, 2, 21, 14, 52))\n",
    "'''"
   ]
  },
  {
   "cell_type": "code",
   "execution_count": 5,
   "metadata": {},
   "outputs": [
    {
     "data": {
      "text/plain": [
       "\"\\n0101_S1_20170504_11_obs.csv\\n('OBS', 'Stock', 'Initial', '2017', datetime.datetime(2017, 5, 4, 0, 0))\\n0101_S1_20170504_12_actes.csv\\n('ACTES', 'Stock', 'Initial', '2017', datetime.datetime(2017, 5, 4, 0, 0))\\n0101_S1_20170504_13_comptes_annuels.csv\\n('COMPTES_ANNUELS', 'Stock', 'Initial', '2017', datetime.datetime(2017, 5, 4, 0, 0))\\n0101_S1_20170504_1_PM.csv\\n('PM', 'Stock', 'Initial', '2017', datetime.datetime(2017, 5, 4, 0, 0))\\n0101_S1_20170504_3_PP.csv\\n('PP', 'Stock', 'Initial', '2017', datetime.datetime(2017, 5, 4, 0, 0))\\n0101_S1_20170504_5_rep.csv\\n('REP', 'Stock', 'Initial', '2017', datetime.datetime(2017, 5, 4, 0, 0))\\n0101_S1_20170504_8_ets.csv\\n('ETS', 'Stock', 'Initial', '2017', datetime.datetime(2017, 5, 4, 0, 0))\\n0101_S2_20180824_11_obs.csv\\n('OBS', 'Stock', 'Partiel', '2018', datetime.datetime(2018, 8, 24, 0, 0))\\n0101_S2_20180824_12_actes.csv\\n('ACTES', 'Stock', 'Partiel', '2018', datetime.datetime(2018, 8, 24, 0, 0))\\n0101_S2_20180824_13_comptes_annuels.csv\\n('COMPTES_ANNUELS', 'Stock', 'Partiel', '2018', datetime.datetime(2018, 8, 24, 0, 0))\\n0101_S2_20180824_1_PM.csv\\n('PM', 'Stock', 'Partiel', '2018', datetime.datetime(2018, 8, 24, 0, 0))\\n0101_S2_20180824_3_PP.csv\\n('PP', 'Stock', 'Partiel', '2018', datetime.datetime(2018, 8, 24, 0, 0))\\n0101_S2_20180824_5_rep.csv\\n('REP', 'Stock', 'Partiel', '2018', datetime.datetime(2018, 8, 24, 0, 0))\\n0101_S2_20180824_8_ets.csv\\n('ETS', 'Stock', 'Partiel', '2018', datetime.datetime(2018, 8, 24, 0, 0))\""
      ]
     },
     "execution_count": 5,
     "metadata": {},
     "output_type": "execute_result"
    }
   ],
   "source": [
    "# Stock\n",
    "#Probleme\n",
    "\n",
    "#Ok\n",
    "'''\n",
    "0101_S1_20170504_11_obs.csv\n",
    "('OBS', 'Stock', 'Initial', '2017', datetime.datetime(2017, 5, 4, 0, 0))\n",
    "0101_S1_20170504_12_actes.csv\n",
    "('ACTES', 'Stock', 'Initial', '2017', datetime.datetime(2017, 5, 4, 0, 0))\n",
    "0101_S1_20170504_13_comptes_annuels.csv\n",
    "('COMPTES_ANNUELS', 'Stock', 'Initial', '2017', datetime.datetime(2017, 5, 4, 0, 0))\n",
    "0101_S1_20170504_1_PM.csv\n",
    "('PM', 'Stock', 'Initial', '2017', datetime.datetime(2017, 5, 4, 0, 0))\n",
    "0101_S1_20170504_3_PP.csv\n",
    "('PP', 'Stock', 'Initial', '2017', datetime.datetime(2017, 5, 4, 0, 0))\n",
    "0101_S1_20170504_5_rep.csv\n",
    "('REP', 'Stock', 'Initial', '2017', datetime.datetime(2017, 5, 4, 0, 0))\n",
    "0101_S1_20170504_8_ets.csv\n",
    "('ETS', 'Stock', 'Initial', '2017', datetime.datetime(2017, 5, 4, 0, 0))\n",
    "0101_S2_20180824_11_obs.csv\n",
    "('OBS', 'Stock', 'Partiel', '2018', datetime.datetime(2018, 8, 24, 0, 0))\n",
    "0101_S2_20180824_12_actes.csv\n",
    "('ACTES', 'Stock', 'Partiel', '2018', datetime.datetime(2018, 8, 24, 0, 0))\n",
    "0101_S2_20180824_13_comptes_annuels.csv\n",
    "('COMPTES_ANNUELS', 'Stock', 'Partiel', '2018', datetime.datetime(2018, 8, 24, 0, 0))\n",
    "0101_S2_20180824_1_PM.csv\n",
    "('PM', 'Stock', 'Partiel', '2018', datetime.datetime(2018, 8, 24, 0, 0))\n",
    "0101_S2_20180824_3_PP.csv\n",
    "('PP', 'Stock', 'Partiel', '2018', datetime.datetime(2018, 8, 24, 0, 0))\n",
    "0101_S2_20180824_5_rep.csv\n",
    "('REP', 'Stock', 'Partiel', '2018', datetime.datetime(2018, 8, 24, 0, 0))\n",
    "0101_S2_20180824_8_ets.csv\n",
    "('ETS', 'Stock', 'Partiel', '2018', datetime.datetime(2018, 8, 24, 0, 0))'''"
   ]
  }
 ],
 "metadata": {
  "kernelspec": {
   "display_name": "Python 3",
   "language": "python",
   "name": "python3"
  },
  "language_info": {
   "codemirror_mode": {
    "name": "ipython",
    "version": 3
   },
   "file_extension": ".py",
   "mimetype": "text/x-python",
   "name": "python",
   "nbconvert_exporter": "python",
   "pygments_lexer": "ipython3",
   "version": "3.7.4"
  }
 },
 "nbformat": 4,
 "nbformat_minor": 2
}
