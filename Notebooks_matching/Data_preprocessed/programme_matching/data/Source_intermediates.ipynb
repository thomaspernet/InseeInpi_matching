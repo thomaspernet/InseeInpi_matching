{
 "cells": [
  {
   "cell_type": "markdown",
   "metadata": {
    "Collapsed": "false"
   },
   "source": [
    "# Source intermediate\n",
    "\n",
    "Dans ce notebook, il y a les informations relatives à la création des fichiers intermediares:\n",
    "\n",
    "- Communes"
   ]
  },
  {
   "cell_type": "code",
   "execution_count": null,
   "metadata": {
    "Collapsed": "false"
   },
   "outputs": [],
   "source": [
    "import dask.dataframe as dd\n",
    "import pandas as pd\n",
    "#import Match_inpi_insee.aws_connectors as aws\n",
    "#from tqdm.notebook import tqdm\n",
    "#import tqdm\n",
    "%load_ext autoreload\n",
    "%autoreload 2"
   ]
  },
  {
   "cell_type": "code",
   "execution_count": null,
   "metadata": {
    "Collapsed": "false"
   },
   "outputs": [],
   "source": [
    "path_commune = 'https://scm.saas.cagip.group.gca/PERNETTH/inseeinpi_matching/raw' \\\n",
    "'/master/Notebooks_matching/Data_preprocessed/programme_matching/data/input' \\\n",
    "'/RawParameters/communes-01012019.csv'\n",
    "\n"
   ]
  },
  {
   "cell_type": "markdown",
   "metadata": {
    "Collapsed": "true"
   },
   "source": [
    "## Créer fichier toutes les possibilités communes\n",
    "\n",
    "Le fichier provient de l'[INSEE](https://www.insee.fr/fr/information/3720946)"
   ]
  },
  {
   "cell_type": "code",
   "execution_count": null,
   "metadata": {
    "Collapsed": "false"
   },
   "outputs": [],
   "source": [
    "communes = (pd.read_csv(path_commune)\n",
    "            .set_index('ncc')\n",
    "            .reindex(columns=['nccenr', 'libelle'])\n",
    "            .assign(\n",
    "    noaccent=lambda x: x['nccenr'].str.normalize('NFKD')\n",
    "    .str.encode('ascii', errors='ignore')\n",
    "    .str.decode('utf-8'),\n",
    "    nccenr_noponc=lambda x: x['nccenr'].str.replace('[^\\w\\s]', ' '),\n",
    "    libelle_noponc=lambda x: x['libelle'].str.replace('[^\\w\\s]', ' '),\n",
    "    noaccent_noponc=lambda x: x['noaccent'].str.replace('[^\\w\\s]', ' '),\n",
    "    uppercase=lambda x: x.index,\n",
    "    nccenr_uppercase=lambda x: x['nccenr'].str.upper(),\n",
    "    libelle_uppercase=lambda x: x['libelle'].str.upper(),\n",
    "    noaccent_uppercase=lambda x: x['noaccent'].str.upper(),\n",
    "    nccenr_noponc_uppercase=lambda x: x['nccenr_noponc'].str.upper(),\n",
    "    libelle_noponc_uppercase=lambda x: x['libelle_noponc'].str.upper(),\n",
    "    noaccent_noponc_uppercase=lambda x: x['noaccent_noponc'].str.upper(),\n",
    "    nccenr_lowercase=lambda x: x['nccenr'].str.lower(),\n",
    "    libelle_lowercase=lambda x: x['libelle'].str.lower(),\n",
    "    noaccent_lowercase=lambda x: x['noaccent'].str.lower(),\n",
    "    nccenr_noponc_lowercase=lambda x: x['nccenr_noponc'].str.lower(),\n",
    "    libelle_noponc_lowercase=lambda x: x['libelle_noponc'].str.lower(),\n",
    "    noaccent_noponc_lowercase=lambda x: x['noaccent_noponc'].str.lower(),\n",
    "    nccenr_noarrond1=lambda x: x['nccenr'].str.replace(\n",
    "        'er Arrondissement', ''),\n",
    "    uppercase_noarrond1=lambda x: x['uppercase'].str.replace(\n",
    "        'ER ARRONDISSEMENT', ''),\n",
    "    lowercase_noarrond1=lambda x: x['nccenr_lowercase'].str.replace(\n",
    "        'er arrondissement', ''),\n",
    "    nccenr_noarrond=lambda x: x['nccenr'].str.replace('e Arrondissement', ''),\n",
    "    uppercase_noarrond=lambda x: x['uppercase'].str.replace(\n",
    "        'E ARRONDISSEMENT', ''),\n",
    "    lowercase_noarrond=lambda x: x['nccenr_lowercase'].str.replace(\n",
    "        'e arrondissement', ''),\n",
    ")\n",
    ")\n",
    "\n",
    "for n in communes.columns:\n",
    "    var_ = '{}_ST'.format(n)\n",
    "    var_1 = '{}_st'.format(n)\n",
    "    var_2 = '{}_St'.format(n)\n",
    "    \n",
    "    communes[var_] = communes[n].str.replace('SAINT', 'ST')\n",
    "    communes[var_1] = communes[n].str.replace('Saint', 'st')\n",
    "    communes[var_2] = communes[n].str.replace('Saint', 'St')\n",
    "    \n",
    "    var_ = '{}_Sbar'.format(n)\n",
    "    var_1 = '{}_sbar'.format(n)\n",
    "    \n",
    "    communes[var_] = communes[n].str.replace('SUR', 'S/')\n",
    "    communes[var_1] = communes[n].str.replace('sur', 's/')\n",
    "    \n",
    "communes = (communes\n",
    "            .stack()\n",
    "            .rename('possibilite')\n",
    "            .reset_index()\n",
    "            .drop(columns='level_1')\n",
    "            .drop_duplicates(subset=['possibilite']))\n",
    "communes.head()"
   ]
  },
  {
   "cell_type": "code",
   "execution_count": null,
   "metadata": {
    "Collapsed": "false"
   },
   "outputs": [],
   "source": [
    "#communes.to_csv('data\\input\\communes_france.csv', index = False)"
   ]
  },
  {
   "cell_type": "markdown",
   "metadata": {
    "Collapsed": "true"
   },
   "source": [
    "## Creation libelleVoieEtablissement\n",
    "\n",
    "`libelleVoieEtablissement.csv`:\n",
    "CSV recréé via extraction des données depuis site https://www.sirene.fr/sirene/public/variable/libelleVoieEtablissement"
   ]
  },
  {
   "cell_type": "code",
   "execution_count": null,
   "metadata": {},
   "outputs": [],
   "source": [
    "libelle = 'https://scm.saas.cagip.group.gca/PERNETTH/inseeinpi_matching/raw' \\\n",
    "'/master/Notebooks_matching/Data_preprocessed/programme_matching/data/input' \\\n",
    "'/RawParameters/libelleVoieEtablissement.csv'\n"
   ]
  },
  {
   "cell_type": "code",
   "execution_count": null,
   "metadata": {
    "Collapsed": "false"
   },
   "outputs": [],
   "source": [
    "voie = pd.read_csv(libelle)\n",
    "voie.head()"
   ]
  },
  {
   "cell_type": "code",
   "execution_count": null,
   "metadata": {
    "Collapsed": "false"
   },
   "outputs": [],
   "source": [
    "(voie.assign(upper_clean = lambda x: x['possibilite'].str.normalize(\n",
    "                'NFKD')\n",
    "            .str.encode('ascii', errors='ignore')\n",
    "            .str.decode('utf-8')\n",
    "            .str.replace('[^\\w\\s]|\\d+', ' ')\n",
    "            .str.upper(),\n",
    "            lower_clean = lambda x: x['possibilite'].str.normalize(\n",
    "                'NFKD')\n",
    "            .str.encode('ascii', errors='ignore')\n",
    "            .str.decode('utf-8')\n",
    "            .str.replace('[^\\w\\s]|\\d+', ' ')\n",
    "            .str.lower()\n",
    "        )\n",
    " .set_index('INSEE')\n",
    " .unstack() \n",
    " .reset_index()\n",
    " #.drop(columns = 'level_0')\n",
    " .iloc[:,1:]\n",
    " .rename(columns = {0: 'possibilite'})\n",
    " .sort_values(by = 'INSEE')\n",
    " #.to_csv(r'data\\input\\voie.csv', index = False)\n",
    ")"
   ]
  },
  {
   "cell_type": "markdown",
   "metadata": {},
   "source": [
    "# Formz juridique INSEE/INPI\n",
    "\n",
    "Pour siretiser les personnes morales, il faut utliser le champs forme juridique qui est sous forme de code à l'INSEE mais sous forme textuelle à l'INPI.\n",
    "\n",
    "- La donnée de l'insee vient de cette URL https://www.insee.fr/fr/information/2028129\n",
    "    - A noter qu'il y a un espace dans le libellé a la fin, du coup on l'a enlevé avant de renvoyer dans le S3\n",
    "- La donnée de l'INPI vient de cette query https://eu-west-3.console.aws.amazon.com/athena/home?region=eu-west-3#query/history/870c671d-d51c-473a-9478-64218961d91a"
   ]
  },
  {
   "cell_type": "code",
   "execution_count": null,
   "metadata": {},
   "outputs": [],
   "source": [
    "from awsPy.aws_authorization import aws_connector\n",
    "from awsPy.aws_s3 import service_s3\n",
    "from awsPy.aws_athena import service_athena\n",
    "import os, time\n",
    "from pathlib import Path"
   ]
  },
  {
   "cell_type": "code",
   "execution_count": null,
   "metadata": {},
   "outputs": [],
   "source": [
    "bucket = 'calfdata'\n",
    "path = os.getcwd()\n",
    "parent_path = str(Path(path).parent)\n",
    "path_cred = \"{}/credential_AWS.json\".format(parent_path)\n",
    "con = aws_connector.aws_instantiate(credential = path_cred,\n",
    "                                        region = 'eu-west-3')\n",
    "client= con.client_boto()\n",
    "s3 = service_s3.connect_S3(client = client,\n",
    "                      bucket = 'calfdata') \n",
    "athena = service_athena.connect_athena(client = client,\n",
    "                      bucket = 'calfdata') "
   ]
  },
  {
   "cell_type": "code",
   "execution_count": null,
   "metadata": {},
   "outputs": [],
   "source": [
    "inpi = s3.read_df_from_s3(key = 'INPI/TC_1/02_preparation_donnee/intermediate_file/forme_juridique_inpi.csv',\n",
    "                sep = ',',encoding = None)\n",
    "inpi.shape"
   ]
  },
  {
   "cell_type": "code",
   "execution_count": null,
   "metadata": {},
   "outputs": [],
   "source": [
    "inpi_raw = s3.read_df_from_s3(\n",
    "    'INPI/TC_1/02_preparation_donnee/intermediate_file/forme_juridique_inpi_origin.csv',\n",
    "sep = ',',encoding = None)\n",
    "inpi_raw.shape"
   ]
  },
  {
   "cell_type": "code",
   "execution_count": null,
   "metadata": {},
   "outputs": [],
   "source": [
    "inpi.assign(Libellé = lambda x: \n",
    "         x['Libellé'].str.rstrip()).merge(inpi_raw,\n",
    "           left_on = ['Libellé'],\n",
    "          right_on = ['forme_juridique'],\n",
    "                                          how = 'outer',\n",
    "                                          indicator = True\n",
    "                                         ).to_excel('missing_forme_juridique.xlsx', \n",
    "                                                  index= False)"
   ]
  },
  {
   "cell_type": "code",
   "execution_count": null,
   "metadata": {},
   "outputs": [],
   "source": [
    "insee = s3.read_df_from_s3(key = 'INPI/TC_1/02_preparation_donnee/intermediate_file/forme_juridique_insee.csv',\n",
    "                sep = ',',encoding = None)\n",
    "insee.shape"
   ]
  },
  {
   "cell_type": "code",
   "execution_count": null,
   "metadata": {},
   "outputs": [],
   "source": [
    "(insee\n",
    " .assign(Libellé = lambda x: \n",
    "         x['Libellé'].str.rstrip())\n",
    " .merge(inpi, left_on = ['Libellé'], right_on = ['forme_juridique'], \n",
    "        how = 'right',\n",
    "       indicator = True))"
   ]
  },
  {
   "cell_type": "code",
   "execution_count": null,
   "metadata": {},
   "outputs": [],
   "source": [
    "insee.assign(Libellé = lambda x: \n",
    "         x['Libellé'].str.rstrip()\n",
    "            ).to_csv('forme_juridique_insee_cleaned.csv', index = False)\n",
    "s3.upload_file('forme_juridique_insee_cleaned.csv',\n",
    "            destination_in_s3=  'INPI/TC_1/02_preparation_donnee/intermediate_for_athena/forme_juridique_insee_cleaned.csv'\n",
    "           )"
   ]
  },
  {
   "cell_type": "code",
   "execution_count": null,
   "metadata": {},
   "outputs": [],
   "source": [
    "insee.head()"
   ]
  },
  {
   "cell_type": "code",
   "execution_count": null,
   "metadata": {},
   "outputs": [],
   "source": [
    "query_tb = \"\"\"CREATE EXTERNAL TABLE IF NOT EXISTS inpi.forme_juridique (\n",
    "    `Libellé` string,\n",
    "    `Code` string\n",
    "    )\n",
    "     ROW FORMAT SERDE 'org.apache.hadoop.hive.serde2.OpenCSVSerde'\n",
    "    WITH SERDEPROPERTIES (\n",
    "   'separatorChar' = ',',\n",
    "   'quoteChar' = '\"'\n",
    "   )\n",
    "     LOCATION 's3://calfdata/INPI/TC_1/02_preparation_donnee/intermediate_for_athena'\n",
    "     TBLPROPERTIES ('has_encrypted_data'='false',\n",
    "              'skip.header.line.count'='1');\"\"\"\n",
    "athena.run_query(query_tb,\n",
    "                 database='inpi',\n",
    "                 s3_output='INSEE/sql_output'\n",
    "                )"
   ]
  },
  {
   "cell_type": "code",
   "execution_count": null,
   "metadata": {},
   "outputs": [],
   "source": []
  }
 ],
 "metadata": {
  "jupytext": {
   "formats": "ipynb,md"
  },
  "kernelspec": {
   "display_name": "Python 3",
   "language": "python",
   "name": "python3"
  },
  "language_info": {
   "codemirror_mode": {
    "name": "ipython",
    "version": 3
   },
   "file_extension": ".py",
   "mimetype": "text/x-python",
   "name": "python",
   "nbconvert_exporter": "python",
   "pygments_lexer": "ipython3",
   "version": "3.7.6"
  }
 },
 "nbformat": 4,
 "nbformat_minor": 4
}
