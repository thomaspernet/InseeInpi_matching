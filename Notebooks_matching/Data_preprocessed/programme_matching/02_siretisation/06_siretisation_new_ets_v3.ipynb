{
 "cells": [
  {
   "cell_type": "markdown",
   "metadata": {},
   "source": [
    "# Siretisation Version 3: SQL\n",
    "\n",
    "## Algorithme\n",
    "\n",
    "### origin\n",
    "\n",
    "Comme la taille de la donnée est trop élevée, il faut prendre un sous échantillon pour faire la siretisation. Le sous échantillonage se fait avec l'origine. \n",
    "\n",
    "Input:\n",
    "- INSEE:\n",
    "    - Athena: `insee_final_sql` \n",
    "- INPI:\n",
    "    - Athena: `ets_final_sql` \n",
    "\n",
    "Output:\n",
    "\n"
   ]
  },
  {
   "cell_type": "code",
   "execution_count": null,
   "metadata": {},
   "outputs": [],
   "source": [
    "import os \n",
    "os.getcwd()"
   ]
  },
  {
   "cell_type": "code",
   "execution_count": null,
   "metadata": {},
   "outputs": [],
   "source": [
    "#from itertools import compress, product\n",
    "\n",
    "#def combinations(items):\n",
    "#    return ( set(compress(items,mask)) for \n",
    "#            mask in product(*[[0,1]]*len(items)))\n",
    "\n",
    "#all_list = ['ncc',\n",
    "#             'Code_Postal','Code_Commune',\n",
    "#             'INSEE','digit_inpi']\n",
    "#test = list(combinations(items = all_list))[1:]\n",
    "#sort_list = sorted(test[1:], key=lambda k: len(k), reverse=True) "
   ]
  },
  {
   "cell_type": "code",
   "execution_count": null,
   "metadata": {},
   "outputs": [],
   "source": [
    "list_inpi = ['ville_matching','code_postal_matching','code_commune','voie_matching','numero_voie_matching',\n",
    "             'date_début_activité', 'status_admin', 'status_ets']\n",
    "\n",
    "list_insee = ['ville_matching',\n",
    "            'codepostaletablissement', 'codecommuneetablissement',\n",
    "            'typevoieetablissement','numerovoieetablissement',\n",
    "             'datecreationetablissement', 'etatadministratifetablissement', 'etablissementsiege']\n",
    "\n",
    "sort_list = [\n",
    " {'ville_matching', 'code_postal_matching', 'code_commune', 'voie_matching', 'numero_voie_matching',\n",
    "  'date_début_activité', 'status_admin', 'status_ets'},\n",
    "    \n",
    " {'ville_matching', 'code_postal_matching', 'code_commune', 'voie_matching',\n",
    "  'date_début_activité', 'status_admin', 'status_ets'},\n",
    "    \n",
    " {'ville_matching', 'code_postal_matching', 'code_commune', 'numero_voie_matching',\n",
    " 'date_début_activité', 'status_admin', 'status_ets'},\n",
    "    \n",
    " {'ville_matching', 'code_postal_matching', 'code_commune','date_début_activité', 'status_admin', 'status_ets'},   \n",
    " {'ville_matching', 'code_postal_matching','date_début_activité', 'status_admin', 'status_ets'},\n",
    "    \n",
    " {'ville_matching', 'date_début_activité', 'status_admin', 'status_ets'},\n",
    "    \n",
    " {'code_postal_matching', 'date_début_activité', 'status_admin', 'status_ets'},\n",
    "    \n",
    " {'code_commune', 'date_début_activité', 'status_admin', 'status_ets'},\n",
    "]\n",
    "len(sort_list)"
   ]
  },
  {
   "cell_type": "code",
   "execution_count": null,
   "metadata": {},
   "outputs": [],
   "source": [
    "list_possibilities = []\n",
    "for i in sort_list:\n",
    "    left =[]\n",
    "    right = []\n",
    "    for j in i:\n",
    "        left.append(j)\n",
    "        right.append(list_insee[list_inpi.index(j)])\n",
    "    left.insert(0,'siren')\n",
    "    right.insert(0,'siren')\n",
    "    \n",
    "    dic_ = {\n",
    "    'match':{\n",
    "        'inpi':left,\n",
    "        'insee':right,\n",
    "    }\n",
    "}\n",
    "    list_possibilities.append(dic_)\n",
    "list_possibilities"
   ]
  },
  {
   "cell_type": "markdown",
   "metadata": {},
   "source": [
    "Indiquer le fichiers a siretiser. Si pas en local, le télécharger depuis le S3"
   ]
  },
  {
   "cell_type": "code",
   "execution_count": null,
   "metadata": {},
   "outputs": [],
   "source": [
    "from awsPy.aws_authorization import aws_connector\n",
    "from awsPy.aws_athena import service_athena\n",
    "from awsPy.aws_s3 import service_s3\n",
    "from pathlib import Path\n",
    "import pandas as pd\n",
    "import os, shutil\n",
    "bucket = 'calfdata'\n",
    "path = os.getcwd()\n",
    "parent_path = str(Path(path).parent)\n",
    "path_cred = r\"{}/credential_AWS.json\".format(parent_path)\n",
    "con = aws_connector.aws_instantiate(credential = path_cred,\n",
    "                                       region = 'eu-west-3')\n",
    "client= con.client_boto()\n",
    "s3 = service_s3.connect_S3(client = client,\n",
    "                      bucket = 'calfdata') \n",
    "athena = service_athena.connect_athena(client = client,\n",
    "                      bucket = 'calfdata') "
   ]
  },
  {
   "cell_type": "markdown",
   "metadata": {},
   "source": [
    "## Recuperation ETS INPI"
   ]
  },
  {
   "cell_type": "code",
   "execution_count": null,
   "metadata": {},
   "outputs": [],
   "source": [
    "filename = 'ets_final_sql'\n",
    "shutil.move(\"{}.csv\".format(filename),\n",
    "            \"data/input/INPI\")"
   ]
  },
  {
   "cell_type": "markdown",
   "metadata": {},
   "source": [
    "# Parametres et fonctions\n",
    "\n",
    "- `split_duplication`: Split un dataframe si l'index (la variable, pas l'index) contient des doublons\n",
    "- `find_regex`: Performe une recherche regex entre deux colonnes\n",
    "- `jackard_distance`: Calcul l'indice de dissimilarité entre deux colonnes\n",
    "- `edit_distance`: Calcul le nombre de modification a faire pour obtenir la même séquence\n",
    "- `import_dask`: Charge csv en Dask DataFrame pour clusteriser les calculs "
   ]
  }
 ],
 "metadata": {
  "jupytext": {
   "formats": "ipynb,md"
  },
  "kernelspec": {
   "display_name": "Python 3",
   "language": "python",
   "name": "python3"
  },
  "language_info": {
   "codemirror_mode": {
    "name": "ipython",
    "version": 3
   },
   "file_extension": ".py",
   "mimetype": "text/x-python",
   "name": "python",
   "nbconvert_exporter": "python",
   "pygments_lexer": "ipython3",
   "version": "3.7.6"
  }
 },
 "nbformat": 4,
 "nbformat_minor": 4
}
