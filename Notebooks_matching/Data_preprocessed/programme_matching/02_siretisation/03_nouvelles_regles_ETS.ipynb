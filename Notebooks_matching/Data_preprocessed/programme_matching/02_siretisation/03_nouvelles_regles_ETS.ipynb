{
 "cells": [
  {
   "cell_type": "markdown",
   "metadata": {},
   "source": [
    "# Programme de Matching: Nouvelles règles de gestion\n",
    "\n",
    "## Algorithme\n",
    "\n",
    "### origin\n",
    "\n",
    "Comme la taille de la donnée est trop élevée, il faut prendre un sous échantillon pour faire la siretisation. Le sous échantillonage se fait avec l'origine. \n",
    "\n",
    "Input:\n",
    "- INSEE:\n",
    "    - NEW: `data/input/INSEE/NEW/insee_1745311_NEW.csv`\n",
    "    - Initial, Partiel, EVT: `data/input/INSEE/InitialPartielEVT/insee_8272605_InitialPartielEVT.csv`\n",
    "- INPI:\n",
    "    - NEW: `data/input/SIREN_INPI/NEW/inpi_initial_partiel_evt_new_ets_status_final_NEW_0.csv`\n",
    "    - Initial, Partiel, EVT: `data/input/SIREN_INPI/InitialPartielEVT/inpi_initial_partiel_evt_new_ets_status_final_InitialPartielEVT_0`\n",
    "\n",
    "Output:\n",
    "- `data/output/` + `ORIGIN`\n",
    "    - contient les matches\n",
    "- `data/input/INPI/special_treatment/`+ `ORIGIN`\n",
    "    - contient les non matches\n",
    "- `data/logs/`+ `ORIGIN`\n",
    "    - contient les logs\n",
    "    \n",
    "       "
   ]
  },
  {
   "cell_type": "code",
   "execution_count": null,
   "metadata": {},
   "outputs": [],
   "source": [
    "import os, re\n",
    "os.chdir('../')\n",
    "current_dir = os.getcwd()\n",
    "from inpi_insee import siretisation\n",
    "import pandas as pd\n",
    "\n",
    "%load_ext autoreload\n",
    "%autoreload 2\n",
    "\n",
    "param = {\n",
    "    #'insee': 'data/input/INSEE/InitialPartielEVTNEW/insee_1557220_InitialPartielEVTNEW.csv' ### PP\n",
    "    'insee': 'data/input/INSEE/InitialPartielEVTNEW/insee_9368683_InitialPartielEVTNEW.csv'  ### ETS\n",
    "    #'insee': 'data/input/INSEE/NEW/insee_1745311_NEW.csv' ### ETS\n",
    "}\n",
    "# 4824158 SIREN a trouver!\n",
    "al_siret = siretisation.siretisation_inpi(param)"
   ]
  },
  {
   "cell_type": "code",
   "execution_count": null,
   "metadata": {},
   "outputs": [],
   "source": [
    "pd.set_option('display.max_columns', None)"
   ]
  },
  {
   "cell_type": "code",
   "execution_count": null,
   "metadata": {},
   "outputs": [],
   "source": [
    "#from itertools import compress, product\n",
    "\n",
    "#def combinations(items):\n",
    "#    return ( set(compress(items,mask)) for \n",
    "#            mask in product(*[[0,1]]*len(items)))\n",
    "\n",
    "#all_list = ['ncc',\n",
    "#             'Code_Postal','Code_Commune',\n",
    "#             'INSEE','digit_inpi']\n",
    "#test = list(combinations(items = all_list))[1:]\n",
    "#sort_list = sorted(test[1:], key=lambda k: len(k), reverse=True) "
   ]
  },
  {
   "cell_type": "code",
   "execution_count": null,
   "metadata": {},
   "outputs": [],
   "source": [
    "list_inpi = ['ncc','code_postal_matching','code_commune','voie_matching','numero_voie_matching']\n",
    "list_insee = ['libelleCommuneEtablissement',\n",
    "            'codePostalEtablissement', 'codeCommuneEtablissement',\n",
    "            'typeVoieEtablissement','numeroVoieEtablissement']\n",
    "\n",
    "sort_list = [\n",
    " {'ncc', 'code_postal_matching', 'code_commune', 'voie_matching', 'numero_voie_matching'},\n",
    " {'ncc', 'code_postal_matching', 'code_commune', 'voie_matching'},\n",
    " {'ncc', 'code_postal_matching', 'code_commune', 'numero_voie_matching'},\n",
    " {'ncc', 'code_postal_matching', 'code_commune'},   \n",
    " {'ncc', 'code_postal_matching'},\n",
    " {'ncc'},\n",
    " {'code_postal_matching'},\n",
    " {'code_commune'}\n",
    "]\n",
    "len(sort_list)"
   ]
  },
  {
   "cell_type": "code",
   "execution_count": null,
   "metadata": {},
   "outputs": [],
   "source": [
    "list_possibilities = []\n",
    "for i in sort_list:\n",
    "    left =[]\n",
    "    right = []\n",
    "    for j in i:\n",
    "        left.append(j)\n",
    "        right.append(list_insee[list_inpi.index(j)])\n",
    "    left.insert(0,'siren')\n",
    "    right.insert(0,'siren')\n",
    "    \n",
    "    dic_ = {\n",
    "    'match':{\n",
    "        'inpi':left,\n",
    "        'insee':right,\n",
    "    }\n",
    "}\n",
    "    list_possibilities.append(dic_)\n",
    "list_possibilities"
   ]
  },
  {
   "cell_type": "markdown",
   "metadata": {},
   "source": [
    "Indiquer le fichiers a siretiser. Si pas en local, le télécharger depuis le S3"
   ]
  },
  {
   "cell_type": "code",
   "execution_count": null,
   "metadata": {},
   "outputs": [],
   "source": [
    "from awsPy.aws_authorization import aws_connector\n",
    "from awsPy.aws_s3 import service_s3\n",
    "from pathlib import Path\n",
    "import pandas as pd\n",
    "bucket = 'calfdata'\n",
    "path = os.getcwd()\n",
    "parent_path = str(Path(path).parent)\n",
    "path_cred = r\"{}/programme_matching/credential_AWS.json\".format(parent_path)\n",
    "con = aws_connector.aws_instantiate(credential = path_cred,\n",
    "                                       region = 'eu-west-3')\n",
    "client= con.client_boto()\n",
    "s3 = service_s3.connect_S3(client = client,\n",
    "                      bucket = 'calfdata') \n",
    "#s3.download_file(\n",
    "#    key= 'INPI/TC_1/02_preparation_donnee/ETS_TEMP/ets_preparation_python_1.csv')"
   ]
  },
  {
   "cell_type": "code",
   "execution_count": null,
   "metadata": {},
   "outputs": [],
   "source": [
    "#df_ets = 'data/input/INPI/{}_1.csv'.format(filename)\n",
    "#df_ets\n",
    "#'data/input/INPI/{}_{}.csv'.format(filename, 0)"
   ]
  },
  {
   "cell_type": "code",
   "execution_count": null,
   "metadata": {},
   "outputs": [],
   "source": [
    "import shutil\n",
    "try:\n",
    "    os.remove(\"data/input/INPI/{}_0.gz\".format(filename))\n",
    "except:\n",
    "    pass\n",
    "os.getcwd()"
   ]
  },
  {
   "cell_type": "code",
   "execution_count": null,
   "metadata": {},
   "outputs": [],
   "source": [
    "#filename = 'ets_preparation_python_1'\n",
    "#shutil.move(\"{}.csv\".format(filename),\n",
    "#            \"data/input/INPI/InitialPartielEVTNEW\")"
   ]
  },
  {
   "cell_type": "markdown",
   "metadata": {},
   "source": [
    "Il faut prendre l'`origin` et `filename` que l'on souhaite sitetiser"
   ]
  },
  {
   "cell_type": "code",
   "execution_count": null,
   "metadata": {},
   "outputs": [],
   "source": [
    "import glob\n",
    "files = glob.glob('data/logs/InitialPartielEVTNEW/*')\n",
    "for f in files:\n",
    "    os.remove(f)"
   ]
  },
  {
   "cell_type": "code",
   "execution_count": null,
   "metadata": {},
   "outputs": [],
   "source": [
    "origin = \"InitialPartielEVTNEW\"\n",
    "filename = \"ets_preparation_python\" ####ETS\n",
    "#filename = \"inpi_initial_partiel_evt_new_ets_status_final_InitialPartielEVTNEW\"\n",
    "#origin = \"NEW\"\n",
    "#filename = \"inpi_initial_partiel_evt_new_ets_status_final_NEW\"\n",
    "#### make dir\n",
    "parent_dir = 'data/output/'\n",
    "parent_dir_1 = 'data/input/INPI/special_treatment/'\n",
    "parent_dir_2 = 'data/logs/'\n",
    "\n",
    "for d in [parent_dir,parent_dir_1,parent_dir_2]:\n",
    "    path = os.path.join(d, origin) \n",
    "    try:\n",
    "        os.mkdir(path) \n",
    "    except:\n",
    "        pass"
   ]
  },
  {
   "cell_type": "markdown",
   "metadata": {},
   "source": [
    "# Parametres et fonctions\n",
    "\n",
    "- `import_dask`: Charge csv en Dask DataFrame pour clusteriser les calculs "
   ]
  },
  {
   "cell_type": "code",
   "execution_count": null,
   "metadata": {},
   "outputs": [],
   "source": [
    "def split_duplication(df):\n",
    "        \"\"\"\n",
    "        Split un dataframe si l'index (la variable, pas l'index) contient des\n",
    "        doublons.\n",
    "\n",
    "        L'idée est de distinguer les doublons resultants du merge avec l'INSEE\n",
    "\n",
    "        Args:\n",
    "        - df: Pandas dataframe contenant au moins une variable \"index\"\n",
    "\n",
    "        Returns:\n",
    "        - Un Dictionary avec:\n",
    "            - not_duplication: Dataframe ne contenant pas les doublons\n",
    "            - duplication: Dataframe contenant les doublons\n",
    "            - report_dup: Une Serie avec le nombres de doublons\n",
    "        \"\"\"\n",
    "        if 'count_duplicates_' in df.columns:\n",
    "            df = df.drop(columns = 'count_duplicates_')\n",
    "\n",
    "        df = df.merge(\n",
    "            (df\n",
    "                .groupby('index')['index']\n",
    "                .count()\n",
    "                .rename('count_duplicates_')\n",
    "                .reset_index()\n",
    "                )\n",
    "                )\n",
    "        \n",
    "        dic_ = {\n",
    "            'not_duplication':df[df['count_duplicates_'].isin([1])],\n",
    "            'duplication' : df[~df['count_duplicates_'].isin([1])],\n",
    "            'report_dup':df[\n",
    "            ~df['count_duplicates_'].isin([1])\n",
    "            ]['count_duplicates_'].value_counts()\n",
    "            }\n",
    "\n",
    "        return dic_"
   ]
  },
  {
   "cell_type": "code",
   "execution_count": null,
   "metadata": {},
   "outputs": [],
   "source": [
    "def find_regex(regex, test_str):\n",
    "        \"\"\"\n",
    "        Performe une recherche regex entre deux colonnes.\n",
    "\n",
    "        Args:\n",
    "        - regex: string: charactère contenant la formule regex\n",
    "        - test_str: String: String contenant le regex a trouver\n",
    "\n",
    "        Return:\n",
    "        Boolean, True si le regex est trouvé, sinon False\n",
    "\n",
    "        \"\"\"\n",
    "        try:\n",
    "            matches = re.search(regex, test_str)\n",
    "            if matches:\n",
    "                return True\n",
    "            else:\n",
    "                return False\n",
    "        except:\n",
    "            return False"
   ]
  },
  {
   "cell_type": "code",
   "execution_count": null,
   "metadata": {},
   "outputs": [],
   "source": [
    "inpi_col = ['siren',\n",
    "            'code_greffe',\n",
    "            'nom_greffe',\n",
    "            'numero_gestion',\n",
    "            'id_etablissement',\n",
    "            'origin',\n",
    "            'file_timestamp',\n",
    "            'date_greffe',\n",
    "            #'nom_commercial',\n",
    "            'enseigne',\n",
    "            'libelle_evt',\n",
    "            'last_libele_evt',\n",
    "            'index',\n",
    "            'type',\n",
    "            'code_postal_matching',\n",
    "            #'ville',\n",
    "            'code_commune',\n",
    "            #'pays',\n",
    "            #'count_initial_inpi',\n",
    "            'ncc',\n",
    "            'adresse_new_clean_reg',\n",
    "            'adress_new',\n",
    "            'voie_matching',\n",
    "            'date_début_activité',\n",
    "            'numero_voie_matching',\n",
    "            #'len_digit_address_inpi',\n",
    "            #'list_digit_inpi'\n",
    "            ]\n",
    "\n",
    "#['count_initial_inpi', 'list_digit_inpi', 'pays', 'len_digit_address_inpi', 'nom_commercial', 'ville']\n",
    "\n",
    "inpi_dtype = {\n",
    "    'siren': 'object',\n",
    "    'code_greffe': 'object',\n",
    "            'nom_greffe': 'object',\n",
    "            'numero_gestion': 'object',\n",
    "            'id_etablissement': 'object',\n",
    "            'origin': 'object',\n",
    "            'file_timestamp': 'object',\n",
    "            'date_greffe': 'object',\n",
    "    #'nom_commercial': 'object',\n",
    "            'enseigne': 'object',\n",
    "            'libelle_evt': 'object',\n",
    "    'id_etablissement': 'object',\n",
    "    'index': 'int',\n",
    "    'type': 'object',\n",
    "    'code_postal_matching': 'object',\n",
    "    'ville': 'object',\n",
    "    'code_commune': 'object',\n",
    "    'pays': 'object',\n",
    "    #'count_initial_inpi': 'int',\n",
    "    'ncc': 'object',\n",
    "    'adresse_new_clean_reg': 'object',\n",
    "    'adress_new':'object',\n",
    "    'voie_matching': 'object',\n",
    "    'date_début_activité': 'object',\n",
    "    'numero_voie_matching': 'object',\n",
    "    #'len_digit_address_inpi':'object'\n",
    "}\n",
    "\n",
    "insee_col = ['siren',\n",
    "         'siret',\n",
    "         'dateCreationEtablissement',\n",
    "         \"etablissementSiege\",\n",
    "         \"etatAdministratifEtablissement\",\n",
    "         'complementAdresseEtablissement',\n",
    "         'numeroVoieEtablissement',\n",
    "         'indiceRepetitionEtablissement',\n",
    "         'typeVoieEtablissement',\n",
    "         'libelleVoieEtablissement',\n",
    "         'codePostalEtablissement',\n",
    "         'libelleCommuneEtablissement',\n",
    "         'libelleCommuneEtrangerEtablissement',\n",
    "         'distributionSpecialeEtablissement',\n",
    "         'codeCommuneEtablissement',\n",
    "         'codeCedexEtablissement',\n",
    "         'libelleCedexEtablissement',\n",
    "         'codePaysEtrangerEtablissement',\n",
    "         'libellePaysEtrangerEtablissement',\n",
    "         'count_initial_insee',\n",
    "             'len_digit_address_insee',\n",
    "             'list_digit_insee']\n",
    "\n",
    "insee_dtype = {\n",
    "             'siren': 'object',\n",
    "             'siret': 'object',\n",
    "             \"etablissementSiege\": \"object\",\n",
    "             \"etatAdministratifEtablissement\": \"object\",\n",
    "             #'dateCreationEtablissement': 'object',\n",
    "             'complementAdresseEtablissement': 'object',\n",
    "             'numeroVoieEtablissement': 'object',\n",
    "             'indiceRepetitionEtablissement': 'object',\n",
    "             'typeVoieEtablissement': 'object',\n",
    "             'libelleVoieEtablissement': 'object',\n",
    "             'codePostalEtablissement': 'object',\n",
    "             'libelleCommuneEtablissement': 'object',\n",
    "             'libelleCommuneEtrangerEtablissement': 'object',\n",
    "             'distributionSpecialeEtablissement': 'object',\n",
    "             'codeCommuneEtablissement': 'object',\n",
    "             'codeCedexEtablissement': 'object',\n",
    "             'libelleCedexEtablissement': 'object',\n",
    "             'codePaysEtrangerEtablissement': 'object',\n",
    "             'libellePaysEtrangerEtablissement': 'object',\n",
    "             'count_initial_insee': 'int',\n",
    "             'len_digit_address_insee':'object'\n",
    "         }"
   ]
  },
  {
   "cell_type": "markdown",
   "metadata": {},
   "source": [
    "# Pas a pas\n",
    "\n",
    "Dans l'ensemble, le processus de siretisation fonctionne de la manière suivante:\n",
    "\n",
    "1. Merge INSEE-INPI\n",
    "2. Differenciation entre les doublons et non doublons\n",
    "    - Recupération non doublons -> matched\n",
    "    - Recupération doublons -> tests à réaliser\n",
    "3. Batterie de tests via des regles de gestions sur la date\n",
    "4. Batterie de tests via des regles de gestions sur l'adresse et type d'établissement\n",
    "5. Selection des meilleurs candidats via les règles de gestion\n",
    "\n",
    "\n"
   ]
  },
  {
   "cell_type": "markdown",
   "metadata": {},
   "source": [
    "## Etape 1: Merge INSEE-INPI\n",
    "\n",
    "Dans la première étape, nous allons merger les données de l'INSEE avec les données de l'INPI. Dans le cadre de ce notebook, nous allons utiliser uniquement les variables de matching suivantes:\n",
    "\n",
    "- Siren\n",
    "- Numéro de voie\n",
    "- Code postal\n",
    "- type de voie\n",
    "- Code commune\n",
    "- Ville\n",
    "\n",
    "``` \n",
    "'siren', 'digit_inpi', 'code_postal_matching', 'INSEE', 'code_commune', 'ncc' \n",
    "``` "
   ]
  },
  {
   "cell_type": "code",
   "execution_count": null,
   "metadata": {},
   "outputs": [],
   "source": [
    "list_possibilities[0]['match']['inpi']"
   ]
  },
  {
   "cell_type": "markdown",
   "metadata": {},
   "source": [
    "Dans un premier temps, on import et on merge les dataframes Insee et INPI. Pour rappel, il y a 10,648,546 d'observations à siretiser. Pour le vérifier, il suffit de regarder la variable index, qui est le numéro de la ligne dans la base initiale de l'INPI.\n",
    "\n",
    "A noté que nous convertissons la variable `date_début_activité` en format date, car nous avons besoin de comparer cette variable avec `dateCreationEtablissement` lors de nos tests"
   ]
  },
  {
   "cell_type": "code",
   "execution_count": null,
   "metadata": {},
   "outputs": [],
   "source": [
    "df_ets = 'data/input/INPI/{0}/{1}_{2}.csv'.format(origin, filename, 1)\n",
    "\n",
    "inpi = (al_siret.import_dask(file=df_ets,\n",
    "                                usecols=inpi_col,\n",
    "                                dtype=inpi_dtype,\n",
    "                                parse_dates=False)\n",
    "       )\n",
    "insee = al_siret.import_dask(\n",
    "        file=al_siret.insee,\n",
    "        usecols=insee_col,\n",
    "        dtype=insee_dtype,\n",
    "        parse_dates = ['dateCreationEtablissement'])\n",
    "\n",
    "temp = inpi.merge(insee,\n",
    "                          how='left',\n",
    "                          left_on=list_possibilities[0]['match']['inpi'],\n",
    "                          right_on= list_possibilities[0]['match']['insee'],\n",
    "                          indicator=True,\n",
    "                          suffixes=['_insee', '_inpi'])\n",
    "temp = temp.compute()"
   ]
  },
  {
   "cell_type": "markdown",
   "metadata": {},
   "source": [
    "Il est assez simple de voir que le merge a abouti a la création de doublon "
   ]
  },
  {
   "cell_type": "code",
   "execution_count": null,
   "metadata": {},
   "outputs": [],
   "source": [
    "temp.shape[0] - temp['index'].max() + 1"
   ]
  },
  {
   "cell_type": "markdown",
   "metadata": {},
   "source": [
    "Nous allons appliquer des règles de gestion sur les combinaisons matchées (les `both`)"
   ]
  },
  {
   "cell_type": "code",
   "execution_count": null,
   "metadata": {},
   "outputs": [],
   "source": [
    "temp['_merge'].value_counts()"
   ]
  },
  {
   "cell_type": "code",
   "execution_count": null,
   "metadata": {},
   "outputs": [],
   "source": [
    "to_check = (temp[temp['_merge']\n",
    "                 .isin(['both'])]\n",
    "            .drop(columns= '_merge')\n",
    "            .assign(\n",
    "            date_début_activité = lambda x: pd.to_datetime(\n",
    "            x['date_début_activité'], errors = 'coerce')\n",
    "            )\n",
    "                 )\n",
    "to_check.dtypes"
   ]
  },
  {
   "cell_type": "code",
   "execution_count": null,
   "metadata": {},
   "outputs": [],
   "source": [
    "### Nombre de duplicate\n",
    "to_check.shape[0] -to_check['index'].nunique()"
   ]
  },
  {
   "cell_type": "markdown",
   "metadata": {},
   "source": [
    "## Etape 2: Separation des doublons\n",
    "\n",
    "Comme nous venons de le voir, sur les lignes matchées, il y a à peu près 85k lignes de doublons. De fait, nous devons écarter les lignes avec des doublons de ceux qui ne le sont pas. Nous avons créer une fonction, appelée `split_duplication` qui va compter le nombre de lignes ayant le même index (la variable). \n",
    "\n",
    "La fonction retourne un dictionnaire, avec un dataframe contenant uniquement les lignes sans doublon, un dataframe avec les doublons et enfin, un rapport sur le nombre d'index avec des doublons"
   ]
  },
  {
   "cell_type": "code",
   "execution_count": null,
   "metadata": {},
   "outputs": [],
   "source": [
    "test_1 = split_duplication(df = to_check)"
   ]
  },
  {
   "cell_type": "markdown",
   "metadata": {},
   "source": [
    "Ci dessous, un tableau avec le nombre de doublons"
   ]
  },
  {
   "cell_type": "code",
   "execution_count": null,
   "metadata": {},
   "outputs": [],
   "source": [
    "test_1['report_dup']"
   ]
  },
  {
   "cell_type": "markdown",
   "metadata": {},
   "source": [
    "Le dictionnaire est composé d'un DataFrame avec les valeurs sans doublons."
   ]
  },
  {
   "cell_type": "code",
   "execution_count": null,
   "metadata": {},
   "outputs": [],
   "source": [
    "# Test 1: doublon -> non\n",
    "test_1['not_duplication'] = test_1['not_duplication'].assign(\n",
    "        origin_test = 'test_1_no_duplication'\n",
    "        )\n",
    "test_1['not_duplication'].shape"
   ]
  },
  {
   "cell_type": "markdown",
   "metadata": {},
   "source": [
    "Il y a environ 98% des lignes de siren sur d'avoir le bon siret. Toutefois, nous devons quand même effectuer des tests pour etre certains du résultat"
   ]
  },
  {
   "cell_type": "code",
   "execution_count": null,
   "metadata": {},
   "outputs": [],
   "source": [
    "test_1['not_duplication'].shape[0] / to_check['index'].nunique()"
   ]
  },
  {
   "cell_type": "markdown",
   "metadata": {},
   "source": [
    "### Conformité données\n",
    "\n",
    "1. test sur le siège:\n",
    "    - Si `type` différent de `SEC` mais `etablissementSiege` est True, alors Flag, mais pas correct. Un Siège ou principal ne peut pas être un secondaire\n",
    "2. "
   ]
  },
  {
   "cell_type": "code",
   "execution_count": null,
   "metadata": {},
   "outputs": [],
   "source": [
    "import numpy as np"
   ]
  },
  {
   "cell_type": "code",
   "execution_count": null,
   "metadata": {},
   "outputs": [],
   "source": [
    "test_1['not_duplication']['type'].value_counts()"
   ]
  },
  {
   "cell_type": "code",
   "execution_count": null,
   "metadata": {},
   "outputs": [],
   "source": [
    "test_1['not_duplication']['etatAdministratifEtablissement'].value_counts()"
   ]
  },
  {
   "cell_type": "code",
   "execution_count": null,
   "metadata": {},
   "outputs": [],
   "source": [
    "def test_conformite(df):\n",
    "    \"\"\"\n",
    "    \"\"\"\n",
    "    \n",
    "    df['test_siege_principal']  = np.where(\n",
    "        np.logical_and(\n",
    "        df['type'].isin(['SIE', 'SEP', 'PRI']),\n",
    "        df['etablissementSiege'].isin(['false'])\n",
    "        ),\n",
    "        True, False\n",
    "        )\n",
    "    \n",
    "    df['test_siege_secondaire']  = np.where(\n",
    "        np.logical_and(\n",
    "        df['type'].isin(['SEC']),\n",
    "        df['etablissementSiege'].isin(['true'])\n",
    "        ),\n",
    "        True, False\n",
    "        )\n",
    "    \n",
    "    df['test_status_ets_ferme']  = np.where(\n",
    "        np.logical_and(\n",
    "        df['last_libele_evt'].isin(['Etablissement supprimé']),\n",
    "        df['etatAdministratifEtablissement'].isin(['A'])\n",
    "        ),\n",
    "        True, False\n",
    "        )\n",
    "    \n",
    "    df['test_status_ets_ouvert']  = np.where(\n",
    "        np.logical_and(\n",
    "        df['last_libele_evt'].isin(['Etablissement ouvert']),\n",
    "        df['etatAdministratifEtablissement'].isin(['F'])\n",
    "        ),\n",
    "        True, False\n",
    "        )\n",
    "    \n",
    "    df['test_date_egal'] = np.where(\n",
    "        df['date_début_activité'] ==\n",
    "                     df['dateCreationEtablissement']\n",
    "        ,\n",
    "        True, False\n",
    "        )\n",
    "    \n",
    "    df['test_date_sup'] = np.where(\n",
    "        df['date_début_activité'] <=\n",
    "                     df['dateCreationEtablissement']\n",
    "        ,\n",
    "        True, False\n",
    "        )\n",
    "    \n",
    "    return df"
   ]
  },
  {
   "cell_type": "code",
   "execution_count": null,
   "metadata": {},
   "outputs": [],
   "source": [
    "def count_conformite_test(df):\n",
    "    \"\"\"\n",
    "    \"\"\"\n",
    "    \n",
    "    dic_ = {\n",
    "        'test_siege_principale':\n",
    "    df['test_siege_principal'].value_counts(),\n",
    "        'test_siege_secondaire':\n",
    "    df['test_siege_secondaire'].value_counts(),\n",
    "        \n",
    "        'test_etb_ferme':\n",
    "    df['test_status_ets_ferme'].value_counts(),\n",
    "        'test_etb_ouvert':\n",
    "    df['test_status_ets_ouvert'].value_counts(),\n",
    "        \n",
    "        'test_debut_activite_egal':\n",
    "    (df.loc[lambda x: \n",
    "      ~x['date_début_activité'].isin([np.datetime64('NaT')])\n",
    "     ]['test_date_egal']\n",
    " .value_counts()\n",
    "),\n",
    "        \n",
    "  'test_debut_activite_sup':      \n",
    "    (df.loc[lambda x: \n",
    "      ~x['date_début_activité'].isin([np.datetime64('NaT')])\n",
    "     ]['test_date_sup']\n",
    " .value_counts()\n",
    ")\n",
    "    }\n",
    "    return dic_"
   ]
  },
  {
   "cell_type": "code",
   "execution_count": null,
   "metadata": {},
   "outputs": [],
   "source": [
    "import sidetable"
   ]
  },
  {
   "cell_type": "code",
   "execution_count": null,
   "metadata": {},
   "outputs": [],
   "source": [
    "test_1['not_duplication'] = test_conformite(df = test_1['not_duplication'])"
   ]
  },
  {
   "cell_type": "code",
   "execution_count": null,
   "metadata": {},
   "outputs": [],
   "source": [
    "count_conformite_test(df = test_1['not_duplication'])"
   ]
  },
  {
   "cell_type": "code",
   "execution_count": null,
   "metadata": {},
   "outputs": [],
   "source": [
    "(test_1['not_duplication']\n",
    " .loc[lambda x:x['test_siege_principal'].isin([True])]\n",
    " .stb.freq(['test_siege_principal', 'type'])\n",
    ")"
   ]
  },
  {
   "cell_type": "code",
   "execution_count": null,
   "metadata": {},
   "outputs": [],
   "source": [
    "(test_1['not_duplication']\n",
    " .loc[lambda x: \n",
    "      (x['test_siege_principal'].isin([True]))\n",
    "      &\n",
    "      (x['type'].isin(['SEP']))\n",
    "     ].tail()\n",
    ")"
   ]
  },
  {
   "cell_type": "code",
   "execution_count": null,
   "metadata": {},
   "outputs": [],
   "source": [
    "(test_1['not_duplication']\n",
    " .loc[lambda x: \n",
    "      (x['test_status_ets'].isin([True]))\n",
    "     ].tail())"
   ]
  },
  {
   "cell_type": "code",
   "execution_count": null,
   "metadata": {},
   "outputs": [],
   "source": [
    "(test_1['not_duplication']\n",
    " .loc[lambda x: \n",
    "      \n",
    " (~x['date_début_activité'].isin([np.datetime64('NaT')])) \n",
    "      &\n",
    "(x['test_date_sup'].isin([False]))\n",
    "     ]\n",
    " .tail()\n",
    ")"
   ]
  },
  {
   "cell_type": "markdown",
   "metadata": {},
   "source": [
    "### Etape 3: Test sur les doublons, via la date\n",
    "\n",
    "Dans cette étape la, nous allons procéder a des tests sur la date afin d'écarter les établissements enregistrés avant la date de création de l'activité. En effet, la variable `date_début_activité` indique la date de création de l'entreprise (ou activité si personne physique), alors que la variable `dateCreationEtablissement` informe sur la date de création de l'établissement. Il n'est donc pas possible que la création de l'établissement se fasse avant la date de création de l'entreprise. \n",
    "\n",
    "Pour chaque règle, nous appliquons la fonction `split_duplication` pour être sur que nous avons bien écarté les doublons.\n",
    "\n",
    "Tout d'abord, nous ne gardons que les lignes ou la date de début d'activité est identique à la date de création de l'établissement."
   ]
  },
  {
   "cell_type": "markdown",
   "metadata": {},
   "source": [
    "On a deux dataframes. Le `df_no_duplication` contient des siren/siret correctement matchés, alors que le dataframe `df_duplication` a besoin de davatantage de traitement."
   ]
  },
  {
   "cell_type": "markdown",
   "metadata": {},
   "source": [
    "test"
   ]
  },
  {
   "cell_type": "code",
   "execution_count": null,
   "metadata": {},
   "outputs": [],
   "source": [
    "test = test_conformite(df = test_1['duplication'])"
   ]
  },
  {
   "cell_type": "code",
   "execution_count": null,
   "metadata": {},
   "outputs": [],
   "source": [
    "count_conformite_test(df = test)"
   ]
  },
  {
   "cell_type": "markdown",
   "metadata": {},
   "source": [
    "### Etape 4: Test sur les doublons, via l'adresse et autre regles specifiques\n",
    "\n",
    "Dans cette dernière étape, nous allons effectuer un dernière ensemble de tests avant de faire le trie sur les éléments que nous gardons. \n",
    "\n",
    "Tout d'abord, nous allons compter le nombre de siren qu'il y a selon les variables utilisées lors du matching. Ensuite, nous appliquons le regex sur les variables de l'adresse à l'INPI. Puis on réalise les tests sur le siège, la date."
   ]
  },
  {
   "cell_type": "code",
   "execution_count": null,
   "metadata": {},
   "outputs": [],
   "source": [
    "## Calcul nb siren/siret\n",
    "upper_word = pd.read_csv('data/input/Parameters/upper_stop.csv'\n",
    "        ).iloc[:,0].to_list()\n",
    "df_ = (test\n",
    "        .merge(\n",
    "        (test\n",
    "        .groupby(list_possibilities[0]['match']['inpi'])['siren']\n",
    "             .count()\n",
    "             .rename('count_siren_siret')\n",
    "             .reset_index()\n",
    "             ),how = 'left'\n",
    "             )\n",
    "       .sort_values(by = ['siren', 'code_greffe',\n",
    "                          'nom_greffe', 'numero_gestion',\n",
    "                          'id_etablissement'])\n",
    "       .assign(\n",
    "        numeroVoieEtablissement_ = lambda x: x['numeroVoieEtablissement'].fillna(''),   \n",
    "        adresse_insee_clean=lambda x: x['libelleVoieEtablissement'].str.normalize(\n",
    "                'NFKD')\n",
    "            .str.encode('ascii', errors='ignore')\n",
    "            .str.decode('utf-8')\n",
    "            .str.replace('[^\\w\\s]|\\d+', ' ')\n",
    "            .str.upper(),\n",
    "    adress_insee_reconstitue = lambda x: \n",
    "            x['numeroVoieEtablissement_'] + ' '+ \\\n",
    "            #x['typeVoieEtablissement'] + ' ' + \\\n",
    "            x['libelleVoieEtablissement']   \n",
    "        )\n",
    "        .assign(\n",
    "            \n",
    "        adresse_insee_clean = lambda x: x['adresse_insee_clean'].apply(\n",
    "        lambda x:' '.join([word for word in str(x).split() if word not in\n",
    "        (upper_word)])),\n",
    "            \n",
    "        adresse_inpi_clean = lambda x: x['adress_new'].apply(\n",
    "        lambda x:' '.join([word for word in str(x).split() if word not in\n",
    "        (upper_word)])),   \n",
    "            \n",
    "        adress_insee_reconstitue = lambda x: x['adress_insee_reconstitue'].apply(\n",
    "        lambda x:' '.join([word for word in str(x).split() if word not in\n",
    "        (upper_word)])),\n",
    "            \n",
    "        )   \n",
    "             )\n",
    "df_.shape"
   ]
  },
  {
   "cell_type": "code",
   "execution_count": null,
   "metadata": {},
   "outputs": [],
   "source": [
    "df_.loc[lambda x: x['siren'].isin(['829840859'])]"
   ]
  },
  {
   "cell_type": "markdown",
   "metadata": {},
   "source": [
    "Prepare adresse INSEE"
   ]
  },
  {
   "cell_type": "code",
   "execution_count": null,
   "metadata": {},
   "outputs": [],
   "source": [
    "df_['index'].nunique()"
   ]
  },
  {
   "cell_type": "code",
   "execution_count": null,
   "metadata": {},
   "outputs": [],
   "source": [
    "(df_\n",
    " .groupby(['siren', 'code_greffe', 'nom_greffe', 'numero_gestion', 'id_etablissement'])\n",
    " ['siren']\n",
    " .nunique()\n",
    ").sum()"
   ]
  },
  {
   "cell_type": "code",
   "execution_count": null,
   "metadata": {},
   "outputs": [],
   "source": [
    "import nltk"
   ]
  },
  {
   "cell_type": "code",
   "execution_count": null,
   "metadata": {},
   "outputs": [],
   "source": [
    "def jackard_distance(inpi, insee):\n",
    "    \"\"\"\n",
    "    \n",
    "    \"\"\"\n",
    "    \n",
    "    w1 = set(inpi)\n",
    "    w2 = set(insee)\n",
    "    \n",
    "    try:\n",
    "        return nltk.jaccard_distance(w1, w2)\n",
    "    except:\n",
    "        pass"
   ]
  },
  {
   "cell_type": "code",
   "execution_count": null,
   "metadata": {},
   "outputs": [],
   "source": [
    "#df_.apply(lambda x: jackard_distance(\n",
    "#    x['adress_insee_reconstitue'],\n",
    "#    x['adresse_inpi_clean']\n",
    "#)\n",
    "#)"
   ]
  },
  {
   "cell_type": "markdown",
   "metadata": {},
   "source": [
    "### Regex sur l'adresse"
   ]
  },
  {
   "cell_type": "code",
   "execution_count": null,
   "metadata": {},
   "outputs": [],
   "source": [
    "import dask.dataframe as dd\n",
    "import numpy as np"
   ]
  },
  {
   "cell_type": "code",
   "execution_count": null,
   "metadata": {},
   "outputs": [],
   "source": [
    "## Test 1: address\n",
    "df_2 = dd.from_pandas(df_, npartitions=10)\n",
    "df_2['test_address_libelle'] = df_2.map_partitions(\n",
    "            lambda df:\n",
    "                df.apply(lambda x:\n",
    "                    find_regex(\n",
    "                     x['adresse_new_clean_reg'],\n",
    "                     x['libelleVoieEtablissement']), axis=1)\n",
    "                     ).compute()\n",
    "\n",
    "df_2['test_address_complement'] = df_2.map_partitions(\n",
    "            lambda df:\n",
    "                df.apply(lambda x:\n",
    "                    find_regex(\n",
    "                     x['adresse_new_clean_reg'],\n",
    "                     x['complementAdresseEtablissement']), axis=1)\n",
    "                     ).compute()\n",
    "\n",
    "df_2['jacquard'] = df_2.map_partitions(\n",
    "            lambda df:\n",
    "                df.apply(lambda x:\n",
    "                    jackard_distance(\n",
    "                     x['adress_insee_reconstitue'],\n",
    "                     x['adresse_inpi_clean']), axis=1)\n",
    "                     ).compute()\n",
    "\n",
    "df_2 = df_2.compute()\n",
    "## test join Adress\n",
    "df_2.loc[\n",
    "        (df_2['test_address_libelle'] == True)\n",
    "        &(df_2['test_address_complement'] == True),\n",
    "        'test_join_address'] = True\n",
    "\n",
    "df_2.loc[\n",
    "        (df_2['test_join_address'] != True),\n",
    "        'test_join_address'] = False\n",
    "\n",
    "df_2 = df_2.assign(\n",
    "    min_jacquard = lambda x:\n",
    "    x.groupby(['siren', 'code_greffe', 'nom_greffe', 'numero_gestion',\n",
    "               'id_etablissement'])['jacquard'].transform('min'))"
   ]
  },
  {
   "cell_type": "code",
   "execution_count": null,
   "metadata": {},
   "outputs": [],
   "source": [
    "df_2.head(10)"
   ]
  },
  {
   "cell_type": "markdown",
   "metadata": {},
   "source": [
    "### Test sur la date\n",
    "\n",
    "En plus de la date, on filtre les lignes qui ont seulement un établissement par siren"
   ]
  },
  {
   "cell_type": "markdown",
   "metadata": {},
   "source": [
    "### Verification"
   ]
  },
  {
   "cell_type": "code",
   "execution_count": null,
   "metadata": {},
   "outputs": [],
   "source": [
    "## Final test: count unique index\n",
    "df_2 = df_2.merge(\n",
    "        (df_2\n",
    "        .groupby('index')['index']\n",
    "        .count()\n",
    "        .rename('count_duplicates_final')\n",
    "        .reset_index()\n",
    "        )\n",
    "        )"
   ]
  },
  {
   "cell_type": "code",
   "execution_count": null,
   "metadata": {},
   "outputs": [],
   "source": [
    "#df_2['count_duplicates_final'].value_counts()"
   ]
  },
  {
   "cell_type": "code",
   "execution_count": null,
   "metadata": {},
   "outputs": [],
   "source": [
    "for i in ['test_join_address',\n",
    "          'test_address_libelle',\n",
    "          'test_address_complement']:\n",
    "    print(df_2[i].value_counts())"
   ]
  },
  {
   "cell_type": "markdown",
   "metadata": {},
   "source": [
    "## Etape 5: Selection meilleurs candidats\n",
    "\n",
    "Dans cette dernière étape, on ne garde que les valeurs ont les tests ont été concluant sur le regex de l'adresse"
   ]
  },
  {
   "cell_type": "code",
   "execution_count": null,
   "metadata": {},
   "outputs": [],
   "source": [
    "df_not_duplicate = pd.DataFrame()\n",
    "copy_duplicate = df_2.copy()\n",
    "duplicates_ = df_2.copy()"
   ]
  },
  {
   "cell_type": "code",
   "execution_count": null,
   "metadata": {},
   "outputs": [],
   "source": [
    "for i in ['test_join_address','test_address_libelle',\n",
    "         'test_address_complement']:\n",
    "         ### split duplication\n",
    "            test_1 = split_duplication(\n",
    "            copy_duplicate[\n",
    "            copy_duplicate[i].isin([True])]\n",
    "    )\n",
    "\n",
    "            ### append unique\n",
    "            df_not_duplicate = (\n",
    "            df_not_duplicate\n",
    "            .append(test_1['not_duplication']\n",
    "            .assign(test = i)\n",
    "            )\n",
    "            )\n",
    "\n",
    "            copy_duplicate = (copy_duplicate\n",
    "                   .loc[~copy_duplicate['index'].isin(\n",
    "                       pd.concat([\n",
    "                           test_1['duplication'],\n",
    "                           test_1['not_duplication']\n",
    "                       ], axis = 0)['index']\n",
    "                       .drop_duplicates())])\n",
    "\n",
    "            # Special treatment\n",
    "            sp = (df_2[\n",
    "            ~df_2['index']\n",
    "            .isin(df_not_duplicate['index'])])"
   ]
  },
  {
   "cell_type": "code",
   "execution_count": null,
   "metadata": {},
   "outputs": [],
   "source": [
    "df_not_duplicate.shape"
   ]
  },
  {
   "cell_type": "code",
   "execution_count": null,
   "metadata": {},
   "outputs": [],
   "source": [
    "df_not_duplicate = split_duplication(df = df_not_duplicate)"
   ]
  },
  {
   "cell_type": "code",
   "execution_count": null,
   "metadata": {},
   "outputs": [],
   "source": [
    "df_not_duplicate['not_duplication'].shape"
   ]
  },
  {
   "cell_type": "code",
   "execution_count": null,
   "metadata": {},
   "outputs": [],
   "source": [
    "df_not_duplicate['not_duplication']['siren'].nunique()"
   ]
  },
  {
   "cell_type": "code",
   "execution_count": null,
   "metadata": {},
   "outputs": [],
   "source": [
    "count_conformite_test(df = df_not_duplicate['not_duplication'])"
   ]
  },
  {
   "cell_type": "markdown",
   "metadata": {},
   "source": [
    "# test autre regle\n",
    "\n",
    "- Le test sur la distance de Jacquard\n",
    "- Les tests sur pri/secondaire/ferme/ouvert"
   ]
  },
  {
   "cell_type": "code",
   "execution_count": null,
   "metadata": {},
   "outputs": [],
   "source": [
    "test_jacquard = split_duplication(sp.loc[lambda x: \n",
    "       x['jacquard'] == x['min_jacquard']]\n",
    "                 )['not_duplication']"
   ]
  },
  {
   "cell_type": "code",
   "execution_count": null,
   "metadata": {},
   "outputs": [],
   "source": [
    "test_full_test = split_duplication(\n",
    "(sp.loc[lambda x: \n",
    "        (~x['index'].isin(test_jacquard['index']))\n",
    "       & \n",
    "       (x['test_siege_principal'].isin([False]))\n",
    " & \n",
    "        (x['test_siege_secondaire'].isin([False]))\n",
    "&\n",
    "        (x['test_status_ets_ferme'].isin([False]))\n",
    "        &\n",
    "         (x['test_status_ets_ouvert'].isin([False]))\n",
    "       ]\n",
    " \n",
    ")\n",
    ")['not_duplication']"
   ]
  },
  {
   "cell_type": "code",
   "execution_count": null,
   "metadata": {},
   "outputs": [],
   "source": [
    "split_duplication(\n",
    "(sp.loc[lambda x: \n",
    "        (~x['index'].isin(test_jacquard['index']))\n",
    "        & \n",
    "        (~x['index'].isin(test_full_test['index']))\n",
    "        &\n",
    " (x['test_siege_secondaire'].isin([False]))\n",
    " &\n",
    " (x['test_status_ets_ferme'].isin([False]))\n",
    " ]\n",
    "        )\n",
    ")['not_duplication']"
   ]
  },
  {
   "cell_type": "markdown",
   "metadata": {},
   "source": [
    "## Filtre matché\n",
    "\n",
    "On sauvegarde pour le prochain loop"
   ]
  },
  {
   "cell_type": "code",
   "execution_count": null,
   "metadata": {},
   "outputs": [],
   "source": [
    "# Input -> Save for the next loop \n",
    "inpi.loc[\n",
    "        (~inpi['index'].isin(df_no_duplication['index'].unique()))\n",
    "        & (~inpi['index'].isin(df_not_duplicate['index'].unique()))\n",
    "        & (~inpi['index'].isin(sp['index'].unique()))\n",
    "    ].compute().shape"
   ]
  }
 ],
 "metadata": {
  "jupytext": {
   "formats": "ipynb,md"
  },
  "kernelspec": {
   "display_name": "Python 3",
   "language": "python",
   "name": "python3"
  },
  "language_info": {
   "codemirror_mode": {
    "name": "ipython",
    "version": 3
   },
   "file_extension": ".py",
   "mimetype": "text/x-python",
   "name": "python",
   "nbconvert_exporter": "python",
   "pygments_lexer": "ipython3",
   "version": "3.7.7"
  }
 },
 "nbformat": 4,
 "nbformat_minor": 4
}
