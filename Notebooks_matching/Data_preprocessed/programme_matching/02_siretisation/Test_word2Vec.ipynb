{
 "cells": [
  {
   "cell_type": "markdown",
   "metadata": {},
   "source": [
    "# Test Word2Vec"
   ]
  },
  {
   "cell_type": "code",
   "execution_count": null,
   "metadata": {},
   "outputs": [],
   "source": [
    "import pandas as pd\n",
    "import nltk, re\n",
    "from nltk.corpus import stopwords\n",
    "import matplotlib.pyplot as plt\n",
    "from sklearn.feature_extraction.text import CountVectorizer, TfidfVectorizer\n",
    "from gensim.models import Word2Vec"
   ]
  },
  {
   "cell_type": "code",
   "execution_count": null,
   "metadata": {},
   "outputs": [],
   "source": [
    "df = pd.read_csv('test_ngrams.csv').sort_values('CNT', ascending = False)"
   ]
  },
  {
   "cell_type": "code",
   "execution_count": null,
   "metadata": {},
   "outputs": [],
   "source": [
    "df.head()"
   ]
  },
  {
   "cell_type": "code",
   "execution_count": null,
   "metadata": {},
   "outputs": [],
   "source": [
    "def basic_clean(text):\n",
    "    return re.sub(r'[^\\w\\s]|[|]', '', text).split()\n",
    "df_text = df['unique_combinaition'].apply(lambda x: basic_clean(x))"
   ]
  },
  {
   "cell_type": "code",
   "execution_count": null,
   "metadata": {},
   "outputs": [],
   "source": [
    "model = Word2Vec(df_text.tolist(), min_count=1)"
   ]
  },
  {
   "cell_type": "code",
   "execution_count": null,
   "metadata": {},
   "outputs": [],
   "source": [
    "model.wv.similarity('BOULEVARD', 'BD')"
   ]
  },
  {
   "cell_type": "code",
   "execution_count": null,
   "metadata": {},
   "outputs": [],
   "source": [
    "list(\n",
    "    map(\n",
    "        lambda x:\n",
    "        model.wv.similarity('APPART', x),\n",
    "        ['HLM', 'PRE', 'ROND', 'CHEZ', 'MME', 'MARTHE', 'AUZANCE']\n",
    "    )\n",
    ")"
   ]
  },
  {
   "cell_type": "code",
   "execution_count": null,
   "metadata": {},
   "outputs": [],
   "source": [
    "list(\n",
    "    map(\n",
    "        lambda x:\n",
    "        model.wv.similarity('CDT', x),\n",
    "        ['BIS', 'RUE', 'COMMANDANT', 'LEVRARD']\n",
    "    )\n",
    ")"
   ]
  },
  {
   "cell_type": "code",
   "execution_count": null,
   "metadata": {},
   "outputs": [],
   "source": [
    "list(\n",
    "    map(\n",
    "        lambda x:\n",
    "        model.wv.similarity('MATIISE', x),\n",
    "        ['ANGLE', 'RUE', 'HENRI', 'MATISSE', 'PAUL', 'CEZANNE', 'AULNAY', 'SOUS', 'BOIS']\n",
    "    )\n",
    ")"
   ]
  },
  {
   "cell_type": "code",
   "execution_count": null,
   "metadata": {},
   "outputs": [],
   "source": [
    "\n",
    "7\n",
    "import nltk\n",
    " \n",
    "w1 = 'mapping'\n",
    "w2 = 'mappings'\n",
    " \n",
    "nltk.edit_distance(w1, w2)"
   ]
  },
  {
   "cell_type": "code",
   "execution_count": null,
   "metadata": {},
   "outputs": [],
   "source": [
    "list(\n",
    "    map(\n",
    "        lambda x:\n",
    "        nltk.edit_distance('MATIISE', x),\n",
    "        ['ANGLE', 'RUE', 'HENRI', 'MATISSE', 'PAUL', 'CEZANNE', 'AULNAY', 'SOUS', 'BOIS']\n",
    "    )\n",
    ")"
   ]
  },
  {
   "cell_type": "code",
   "execution_count": null,
   "metadata": {},
   "outputs": [],
   "source": [
    "list(\n",
    "    map(\n",
    "        lambda x:\n",
    "        model.wv.similarity('APPART', x),\n",
    "        ['HLM', 'PRE', 'ROND', 'CHEZ', 'MME', 'MARTHE', 'AUZANCE']\n",
    "    )\n",
    ")"
   ]
  },
  {
   "cell_type": "code",
   "execution_count": null,
   "metadata": {},
   "outputs": [],
   "source": [
    "list(\n",
    "    map(\n",
    "        lambda x:\n",
    "        model.wv.similarity('CDT', x),\n",
    "        ['CENTRE', 'COMMERCIAL', 'MAINE', 'MONTPARNASSE', 'RUE', 'L', 'ARRIVEE']\n",
    "    )\n",
    ")"
   ]
  }
 ],
 "metadata": {
  "jupytext": {
   "formats": "ipynb,md"
  },
  "kernelspec": {
   "display_name": "Python 3",
   "language": "python",
   "name": "python3"
  },
  "language_info": {
   "codemirror_mode": {
    "name": "ipython",
    "version": 3
   },
   "file_extension": ".py",
   "mimetype": "text/x-python",
   "name": "python",
   "nbconvert_exporter": "python",
   "pygments_lexer": "ipython3",
   "version": "3.7.6"
  }
 },
 "nbformat": 4,
 "nbformat_minor": 4
}
