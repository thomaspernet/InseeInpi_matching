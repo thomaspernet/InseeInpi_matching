{
 "cells": [
  {
   "cell_type": "markdown",
   "metadata": {},
   "source": [
    "# Exemple Prepare ETS Data : Normalisation Ville\n",
    "\n",
    "La préparation de la donnée se fait en deux étapes.\n",
    "\n",
    "1. Préparation de l'INPI\n",
    "2. Préparation de l'INSEE\n",
    "\n",
    "L'étape 1 va mettre en conformité la data de l'INPI en vue d'une siretisation. L'étape 2 va utiliser les siren présents lors de l'étape 1 pour ne préparer que ce sous ensemble dans la donnée de l'INSEE.\n",
    "\n",
    "Pour la présentation de la création de la donnée, nous allons utiliser une donnée synthétique qui est l'extraction de toutes les possibilités uniques de dénomination de ville à l'INPI (US [2264](https://tree.taiga.io/project/olivierlubet-air/us/2464)). La donnée est disponible dans le Gitlab [ville_inpi.csv](https://scm.saas.cagip.group.gca/PERNETTH/inseeinpi_matching/raw/master/Notebooks_matching/Data_preprocessed/programme_matching/data/input/RawParameters/ville_inpi.csv)\n",
    "\n",
    "# Introduction\n",
    "\n",
    "Avant de commencer, il faut rappeler pourquoi nous avons besoin de ses nouvelles variables. La finalité de la table inpi_etablissement_historique  est de pouvoir faire le rapprochement avec les établissements à l’INSEE. Ce rapprochement va permettre de récupérer le numéro SIRET de l’établissement qui figure à l’INSEE mais pas à l’INPI.\n",
    "\n",
    "L’étape de sirétisation repose sur un algorithme assez simple qui cherche a matcher des variables communes dans les deux bases puis vérifie la conformité du matching.\n",
    "\n",
    "L'algorithme de SIRETISATION fonctionne avec l'aide de trois fonctions:\n",
    "\n",
    "* [step_one](https://scm.saas.cagip.group.gca/PERNETTH/inseeinpi_matching/tree/master/Notebooks_matching/Data_preprocessed/programme_matching/02_siretisation#step-one) : permet d'écarter les doublons du merge et d'appliquer les premières règles afin de connaitre l'origine de la siretisation\n",
    "* [step_two_assess_test](https://scm.saas.cagip.group.gca/PERNETTH/inseeinpi_matching/tree/master/Notebooks_matching/Data_preprocessed/programme_matching/02_siretisation#step_two_assess_test) : détermine l'origine du matching, a savoir la date, adresse, voie, numéro de voie\n",
    "* [step_two_duplication](https://scm.saas.cagip.group.gca/PERNETTH/inseeinpi_matching/tree/master/Notebooks_matching/Data_preprocessed/programme_matching/02_siretisation#step_two_duplication) : permet de récupérer des SIRET sur les doublons émanant du merge avec l'INSEE\n",
    "\n",
    "L'algorithme va utiliser séquentiellement les variables suivantes, en plus du siren:\n",
    "\n",
    "```\n",
    " {'ville_matching', 'Code_Postal', 'Code_Commune', 'INSEE', 'digit_inpi'},\n",
    " {'ville_matching', 'Code_Postal', 'Code_Commune', 'INSEE'},\n",
    " {'ville_matching', 'Code_Postal', 'Code_Commune', 'digit_inpi'},\n",
    " {'ville_matching', 'Code_Postal', 'Code_Commune'},   \n",
    " {'ville_matching', 'Code_Postal'},\n",
    " {'ville_matching'},\n",
    " {'Code_Postal'},\n",
    " {'Code_Commune'}\n",
    " ```\n",
    " \n",
    "Chacune des variables ci dessus proviennent de l’INPI, et sont disponibles a l’INSEE sous les noms suivants:\n",
    "\n",
    "| Source | Method        | Preparation                 | URL                         | INPI_INSEE_equiv            | Detail création                 |\n",
    "|--------|---------------|-----------------------------|-----------------------------|-----------------------------|---------------------------------|\n",
    "| INSEE  | normalisation | libelleCommuneEtablissement | [libelleCommuneEtablissement](https://scm.saas.cagip.group.gca/PERNETTH/inseeinpi_matching/blob/master/Notebooks_matching/Data_preprocessed/programme_matching/inpi_insee/preparation_data.py#L708) | ville_matching                         |                                 |\n",
    "| INPI   | Creation      | ville_matching                         | [ncc](https://scm.saas.cagip.group.gca/PERNETTH/inseeinpi_matching/blob/master/Notebooks_matching/Data_preprocessed/programme_matching/inpi_insee/preparation_data.py#L131)                         | libelleCommuneEtablissement | Detail preparation siretisation |\n",
    "| INPI   | Creation      | adresse_new_clean_reg       | [adresse_new_clean_reg](https://scm.saas.cagip.group.gca/PERNETTH/inseeinpi_matching/blob/master/Notebooks_matching/Data_preprocessed/programme_matching/inpi_insee/preparation_data.py#L311)       | libelleVoieEtablissement    | Detail preparation siretisation |\n",
    "| INPI   | Creation      | digit_inpi                  | [digit_inpi](https://scm.saas.cagip.group.gca/PERNETTH/inseeinpi_matching/blob/master/Notebooks_matching/Data_preprocessed/programme_matching/inpi_insee/preparation_data.py#L315)                  | numeroVoieEtablissement     | Detail preparation siretisation |\n",
    "| INPI   | Creation      | INSEE                       | [INSEE](https://scm.saas.cagip.group.gca/PERNETTH/inseeinpi_matching/blob/master/Notebooks_matching/Data_preprocessed/programme_matching/inpi_insee/preparation_data.py#L325)                       | typeVoieEtablissement       | Detail preparation siretisation |\n",
    "| INPI   | normalisation | code_commune                |                             | codeCommuneEtablissement    |                                 |\n",
    "| INPI   | normalisation | code_postal                 |                             | codePostalEtablissement     |                                 |\n",
    "| INSEE   | normalisation | ville_matching                 |                             | ville_matching     |                                 |\n"
   ]
  },
  {
   "cell_type": "code",
   "execution_count": 1,
   "metadata": {},
   "outputs": [],
   "source": [
    "import os, shutil\n",
    "os.chdir('../')\n",
    "current_dir = os.getcwd()\n",
    "#from inpi_insee import preparation_data\n",
    "import pandas as pd\n",
    "%load_ext autoreload\n",
    "%autoreload 2"
   ]
  },
  {
   "cell_type": "code",
   "execution_count": 2,
   "metadata": {},
   "outputs": [],
   "source": [
    "inpi_ville = 'https://scm.saas.cagip.group.gca/PERNETTH/inseeinpi_matching/raw' \\\n",
    "'/master/Notebooks_matching/Data_preprocessed/programme_matching/data/input' \\\n",
    "'/RawParameters/ville_inpi.csv'\n",
    "\n",
    "path_commune = 'https://scm.saas.cagip.group.gca/PERNETTH/inseeinpi_matching/raw' \\\n",
    "'/master/Notebooks_matching/Data_preprocessed/programme_matching/data/input' \\\n",
    "'/RawParameters/communes-01012019.csv'\n",
    "\n",
    "param = {\n",
    "    #'communes_insee': commune,\n",
    "    #'upper_word':stopword,\n",
    "    # \"voie\": voie,\n",
    "    'insee_ville':  path_commune,\n",
    "   # 'inpi_etb': etb_ex,\n",
    "    'inpi_ville':inpi_ville,\n",
    "    #'date_end':\"2020-01-01\"\n",
    "}\n",
    "#prep_data = preparation_data.preparation(param)"
   ]
  },
  {
   "cell_type": "markdown",
   "metadata": {},
   "source": [
    "La technique de normalisation a été proposé par Jonathan Collet. L'idée est de nettoyer suiffisant les villes à l'INPI afin de les faire correspondre à l'INSEE. La technique utilise un trick, qui est d'enlever tous les espaces dans les deux tables afin d'avoir une \"clé\" unique. Par exemple, la ville suivante à l'INPI est `Soisy-sur-Seine`, alors qu'à l'INSEE, c'est `SOISY SUR SEINE`. En nettoyant la ville à l'INPI et en enlevant les espaces dans les deux champs, on peut créer une clé unique pour faire le matching, donnant lieu à la valeur suivante: `SOISYSURSEINE`"
   ]
  },
  {
   "cell_type": "markdown",
   "metadata": {},
   "source": [
    "# Step by step approach\n"
   ]
  },
  {
   "cell_type": "markdown",
   "metadata": {},
   "source": [
    "## Creation ville_matching\n",
    "\n",
    " \n",
    "La variable `ville_matching` correspond a la valeur normalisée du libellé de la commune. La même variable sera a créer a l'INSEE, appelé aussi `ville_matching`.\n",
    "\n",
    "La création de cette variable s’opère en 1 étape:\n",
    "\n",
    "1. Ajout `ville_matching` dans la table historique\n",
    "  1. input [Table] : `inpi_etablissement_historique_` \n",
    "    2. Code préparation: [Jupyter notebook 00_prep_ville_matching](https://scm.saas.cagip.group.gca/PERNETTH/inseeinpi_matching/blob/master/US_Datum/Data_example/Notebooks/00_prep_ville_matching.md#regex-nettoyage)\n",
    "  2. Output [Champs]\n",
    "    1. `ville_matching`"
   ]
  },
  {
   "cell_type": "code",
   "execution_count": 3,
   "metadata": {},
   "outputs": [],
   "source": [
    "pd.set_option('display.max_columns', None)"
   ]
  },
  {
   "cell_type": "code",
   "execution_count": 4,
   "metadata": {},
   "outputs": [
    {
     "data": {
      "text/plain": [
       "(76546, 1)"
      ]
     },
     "execution_count": 4,
     "metadata": {},
     "output_type": "execute_result"
    }
   ],
   "source": [
    "inpi = pd.read_csv(param['inpi_ville'])\n",
    "inpi.shape"
   ]
  },
  {
   "cell_type": "markdown",
   "metadata": {},
   "source": [
    "### Regex nettoyage\n",
    "\n",
    "Le regex opère de manière séquentiel:\n",
    "\n",
    "1. Extraction des accents\n",
    "2. Extraction des digits\n",
    "3. Mettre en lettre majuscule le string\n",
    "4. Extraction de \"LA\", \"LES\" et \"LE\" (methode imparfaite actuellement)\n",
    "5. Normalisation \"ST\", \"ST \" à \"SAINT\"\n",
    "6. Normalisation \"S\", \"S/ \" à \"SUR\"\n",
    "7. Extraction pattern regex:\n",
    "    1. charactère sepciaux\n",
    "    2. Espace debut de string\n",
    "    3. Parenthèse\n",
    "    4. ER ARRONDISSEMENT, E ARRONDISSEMENT\n",
    "    5. SUR\n",
    "    6. CEDEX\n",
    "    7. Digit\n",
    "    8. espace\n",
    "8. Remplacement 'MARSEILLEE' à \"MARSEILLE\"\n",
    "    - Ceci est du au pattern suivant:\n",
    "        - MARSEILLE (15E)\n",
    "        - Regex enlève \"(\", \")\",\" \" et \"15\"\n",
    "            - output: \"MARSEILLEE\"\n",
    "            \n",
    "le code sous forme de notebook est disponible dans le Gitlab: [Jupyter notebook 00_prep_ville_matching](https://scm.saas.cagip.group.gca/PERNETTH/inseeinpi_matching/blob/master/US_Datum/Data_example/Notebooks/00_prep_ville_matching.md#regex-nettoyage)"
   ]
  },
  {
   "cell_type": "code",
   "execution_count": 5,
   "metadata": {},
   "outputs": [
    {
     "data": {
      "text/html": [
       "<div>\n",
       "<style scoped>\n",
       "    .dataframe tbody tr th:only-of-type {\n",
       "        vertical-align: middle;\n",
       "    }\n",
       "\n",
       "    .dataframe tbody tr th {\n",
       "        vertical-align: top;\n",
       "    }\n",
       "\n",
       "    .dataframe thead th {\n",
       "        text-align: right;\n",
       "    }\n",
       "</style>\n",
       "<table border=\"1\" class=\"dataframe\">\n",
       "  <thead>\n",
       "    <tr style=\"text-align: right;\">\n",
       "      <th></th>\n",
       "      <th>ville</th>\n",
       "      <th>ville_matching</th>\n",
       "    </tr>\n",
       "  </thead>\n",
       "  <tbody>\n",
       "    <tr>\n",
       "      <th>479</th>\n",
       "      <td>MARSEILLE (15E)</td>\n",
       "      <td>MARSEILLE</td>\n",
       "    </tr>\n",
       "    <tr>\n",
       "      <th>551</th>\n",
       "      <td>MARSEILLE (10E)</td>\n",
       "      <td>MARSEILLE</td>\n",
       "    </tr>\n",
       "    <tr>\n",
       "      <th>2186</th>\n",
       "      <td>MARSEILLE (8E)</td>\n",
       "      <td>MARSEILLE</td>\n",
       "    </tr>\n",
       "    <tr>\n",
       "      <th>2401</th>\n",
       "      <td>Marseille 7e Arrondissement</td>\n",
       "      <td>MARSEILLE</td>\n",
       "    </tr>\n",
       "    <tr>\n",
       "      <th>3430</th>\n",
       "      <td>MARSEILLE 3</td>\n",
       "      <td>MARSEILLE</td>\n",
       "    </tr>\n",
       "    <tr>\n",
       "      <th>...</th>\n",
       "      <td>...</td>\n",
       "      <td>...</td>\n",
       "    </tr>\n",
       "    <tr>\n",
       "      <th>74099</th>\n",
       "      <td>Marseille CEDEX 04</td>\n",
       "      <td>MARSEILLE</td>\n",
       "    </tr>\n",
       "    <tr>\n",
       "      <th>74613</th>\n",
       "      <td>Marseille CEDEX 08</td>\n",
       "      <td>MARSEILLE</td>\n",
       "    </tr>\n",
       "    <tr>\n",
       "      <th>74660</th>\n",
       "      <td>MARSEILLE 14</td>\n",
       "      <td>MARSEILLE</td>\n",
       "    </tr>\n",
       "    <tr>\n",
       "      <th>75141</th>\n",
       "      <td>MARSEILLE 1</td>\n",
       "      <td>MARSEILLE</td>\n",
       "    </tr>\n",
       "    <tr>\n",
       "      <th>75621</th>\n",
       "      <td>13 MARSEILLE</td>\n",
       "      <td>MARSEILLE</td>\n",
       "    </tr>\n",
       "  </tbody>\n",
       "</table>\n",
       "<p>116 rows × 2 columns</p>\n",
       "</div>"
      ],
      "text/plain": [
       "                             ville ville_matching\n",
       "479                MARSEILLE (15E)      MARSEILLE\n",
       "551                MARSEILLE (10E)      MARSEILLE\n",
       "2186                MARSEILLE (8E)      MARSEILLE\n",
       "2401   Marseille 7e Arrondissement      MARSEILLE\n",
       "3430                   MARSEILLE 3      MARSEILLE\n",
       "...                            ...            ...\n",
       "74099           Marseille CEDEX 04      MARSEILLE\n",
       "74613           Marseille CEDEX 08      MARSEILLE\n",
       "74660                 MARSEILLE 14      MARSEILLE\n",
       "75141                  MARSEILLE 1      MARSEILLE\n",
       "75621                 13 MARSEILLE      MARSEILLE\n",
       "\n",
       "[116 rows x 2 columns]"
      ]
     },
     "execution_count": 5,
     "metadata": {},
     "output_type": "execute_result"
    }
   ],
   "source": [
    "regex = r\"[^\\w\\s]|\\([^()]*\\)|ER ARRONDISSEMENT|E ARRONDISSEMENT|\" \\\n",
    "\"|^SUR$|CEDEX|[0-9]+|\\s+\"\n",
    "test = (inpi\n",
    " .assign(\n",
    "ville_matching =lambda x: x['ville']\n",
    "     .str.normalize('NFKD') ### Supprimer accents\n",
    "     .str.encode('ascii', errors='ignore')\n",
    "     .str.decode('utf-8')\n",
    "     .str.replace(\"^\\d+\\s|\\s\\d+\\s|\\s\\d+$\", '') #### digit\n",
    "     .str.upper() ### Majuscule\n",
    "     .str.replace(\"^LA\\s+|^LES\\s+|^LE\\s+\", '') #### Pas de LE/LA/LES a l'INSEE\n",
    "     .str.replace('^ST$|^ST\\s+', 'SAINT')  #### Normalise SAINT\n",
    "     .str.replace('^S$|S/', 'SUR')  #### Normaliser SUR\n",
    "     .str.replace(regex, '') ### pattern regex\n",
    "     .str.replace('MARSEILLEE', 'MARSEILLE') #### Probleme dans le regex, donc modification temporaire\n",
    " )\n",
    " )\n",
    "test.loc[lambda x: x['ville_matching'].isin(['MARSEILLE'])][\n",
    "    ['ville','ville_matching']]"
   ]
  },
  {
   "cell_type": "markdown",
   "metadata": {},
   "source": [
    "### Test acceptance\n",
    "\n",
    "Pour vérifier si le nettoyage est plus ou moins correcte, nous pouvons faire les tests suivants:\n",
    "\n",
    "1. Compter le nombre de villes unique à L'INPI.Au moment du test, il y avait 76545 patterns uniques a l'INPI\n",
    "2. Compter le nombre uniques de patterns uniques à l'INPI. Au moment du test, il y avait 38802 patterns uniques a l'INPI\n",
    "3. Utiliser le fichier des communes à l'INSEE, [Code officiel géographique au 1er janvier 2019 et au 1er avril 2019 | Insee](https://www.insee.fr/fr/information/3720946), et le merger avec toutes les valeurs uniques possibles de l'INPI. Lors du test, nous avons matché 90% des valeurs à l'INPI, soit 76543 observations, laissant de coté 8796 valeurs possibles. Lors de nos tests, nous avons stocké un fichier Excel avec les villes non matchées. Il est disponible à l'adresse [suivante](https://scm.saas.cagip.group.gca/PERNETTH/inseeinpi_matching/blob/master/US_Datum/Data_example/ville_non_matchees.xlsx). Un tel fichier peut être créer afin d'améliorer les règles de gestion dans l'avenir. "
   ]
  },
  {
   "cell_type": "markdown",
   "metadata": {},
   "source": [
    "1. Compter le nombre uniques de ville à l'INPI"
   ]
  },
  {
   "cell_type": "code",
   "execution_count": 6,
   "metadata": {},
   "outputs": [
    {
     "data": {
      "text/plain": [
       "76546"
      ]
     },
     "execution_count": 6,
     "metadata": {},
     "output_type": "execute_result"
    }
   ],
   "source": [
    "test['ville'].shape[0]"
   ]
  },
  {
   "cell_type": "markdown",
   "metadata": {},
   "source": [
    "2. Compter le nombre uniques de patterns uniques à l'INPI"
   ]
  },
  {
   "cell_type": "code",
   "execution_count": 7,
   "metadata": {},
   "outputs": [
    {
     "data": {
      "text/plain": [
       "38801"
      ]
     },
     "execution_count": 7,
     "metadata": {},
     "output_type": "execute_result"
    }
   ],
   "source": [
    "test['ville_matching'].nunique()"
   ]
  },
  {
   "cell_type": "markdown",
   "metadata": {},
   "source": [
    "2. Test match INSEE et INPI \n",
    "\n",
    "Pour réaliser ce test, il est possible de récupérer les valeurs uniques possibles de `ville_matching` à l'INPI, puis d'utiliser le csv [communes-01012019.csv](https://scm.saas.cagip.group.gca/PERNETTH/inseeinpi_matching/raw/master/Notebooks_matching/Data_preprocessed/programme_matching/data/input/RawParameters/communes-01012019.csv) et d'appliquer le pattern regex et enlever les espaces. Dès que la variable est prête à l'INSEE, un simple right_join (INSEE -> INPI), en gardant les valeurs non matchées permet de vérifier l'exactitude du matching. "
   ]
  },
  {
   "cell_type": "code",
   "execution_count": 8,
   "metadata": {},
   "outputs": [],
   "source": [
    "\n",
    "insee = pd.read_csv(param['insee_ville'])"
   ]
  },
  {
   "cell_type": "code",
   "execution_count": 9,
   "metadata": {},
   "outputs": [
    {
     "data": {
      "text/html": [
       "<div>\n",
       "<style scoped>\n",
       "    .dataframe tbody tr th:only-of-type {\n",
       "        vertical-align: middle;\n",
       "    }\n",
       "\n",
       "    .dataframe tbody tr th {\n",
       "        vertical-align: top;\n",
       "    }\n",
       "\n",
       "    .dataframe thead th {\n",
       "        text-align: right;\n",
       "    }\n",
       "</style>\n",
       "<table border=\"1\" class=\"dataframe\">\n",
       "  <thead>\n",
       "    <tr style=\"text-align: right;\">\n",
       "      <th></th>\n",
       "      <th>count</th>\n",
       "      <th>pct</th>\n",
       "    </tr>\n",
       "  </thead>\n",
       "  <tbody>\n",
       "    <tr>\n",
       "      <th>both</th>\n",
       "      <td>76566</td>\n",
       "      <td>0.897198</td>\n",
       "    </tr>\n",
       "    <tr>\n",
       "      <th>right_only</th>\n",
       "      <td>8773</td>\n",
       "      <td>0.102802</td>\n",
       "    </tr>\n",
       "    <tr>\n",
       "      <th>left_only</th>\n",
       "      <td>0</td>\n",
       "      <td>0.000000</td>\n",
       "    </tr>\n",
       "  </tbody>\n",
       "</table>\n",
       "</div>"
      ],
      "text/plain": [
       "            count       pct\n",
       "both        76566  0.897198\n",
       "right_only   8773  0.102802\n",
       "left_only       0  0.000000"
      ]
     },
     "execution_count": 9,
     "metadata": {},
     "output_type": "execute_result"
    }
   ],
   "source": [
    "test_merge = (insee\n",
    " .assign(ncc = lambda x: x['ncc'].str.replace(r'\\s+', '').str.replace(regex, ''))       \n",
    " .merge(test, how = 'right', indicator = True, left_on = 'ncc', \n",
    "        right_on = 'ville_matching')\n",
    ")\n",
    "\n",
    "pd.concat([\n",
    "    test_merge['_merge'].value_counts().rename('count'),\n",
    "    test_merge['_merge'].value_counts(normalize = True).rename('pct')\n",
    "], axis = 1)\n"
   ]
  },
  {
   "cell_type": "markdown",
   "metadata": {},
   "source": [
    "Exemple avec la ville `Soisy-sur-Seine`"
   ]
  },
  {
   "cell_type": "code",
   "execution_count": 10,
   "metadata": {},
   "outputs": [
    {
     "data": {
      "text/html": [
       "<div>\n",
       "<style scoped>\n",
       "    .dataframe tbody tr th:only-of-type {\n",
       "        vertical-align: middle;\n",
       "    }\n",
       "\n",
       "    .dataframe tbody tr th {\n",
       "        vertical-align: top;\n",
       "    }\n",
       "\n",
       "    .dataframe thead th {\n",
       "        text-align: right;\n",
       "    }\n",
       "</style>\n",
       "<table border=\"1\" class=\"dataframe\">\n",
       "  <thead>\n",
       "    <tr style=\"text-align: right;\">\n",
       "      <th></th>\n",
       "      <th>typecom</th>\n",
       "      <th>com</th>\n",
       "      <th>reg</th>\n",
       "      <th>dep</th>\n",
       "      <th>arr</th>\n",
       "      <th>tncc</th>\n",
       "      <th>ncc</th>\n",
       "      <th>nccenr</th>\n",
       "      <th>libelle</th>\n",
       "      <th>can</th>\n",
       "      <th>comparent</th>\n",
       "    </tr>\n",
       "  </thead>\n",
       "  <tbody>\n",
       "    <tr>\n",
       "      <th>37465</th>\n",
       "      <td>COM</td>\n",
       "      <td>91600</td>\n",
       "      <td>11.0</td>\n",
       "      <td>91</td>\n",
       "      <td>912</td>\n",
       "      <td>0</td>\n",
       "      <td>SOISY SUR SEINE</td>\n",
       "      <td>Soisy-sur-Seine</td>\n",
       "      <td>Soisy-sur-Seine</td>\n",
       "      <td>9106</td>\n",
       "      <td>NaN</td>\n",
       "    </tr>\n",
       "  </tbody>\n",
       "</table>\n",
       "</div>"
      ],
      "text/plain": [
       "      typecom    com   reg dep  arr  tncc              ncc           nccenr  \\\n",
       "37465     COM  91600  11.0  91  912     0  SOISY SUR SEINE  Soisy-sur-Seine   \n",
       "\n",
       "               libelle   can  comparent  \n",
       "37465  Soisy-sur-Seine  9106        NaN  "
      ]
     },
     "execution_count": 10,
     "metadata": {},
     "output_type": "execute_result"
    }
   ],
   "source": [
    "insee.loc[lambda x: x['nccenr'].isin(['Soisy-sur-Seine'])]"
   ]
  },
  {
   "cell_type": "code",
   "execution_count": 11,
   "metadata": {},
   "outputs": [
    {
     "data": {
      "text/html": [
       "<div>\n",
       "<style scoped>\n",
       "    .dataframe tbody tr th:only-of-type {\n",
       "        vertical-align: middle;\n",
       "    }\n",
       "\n",
       "    .dataframe tbody tr th {\n",
       "        vertical-align: top;\n",
       "    }\n",
       "\n",
       "    .dataframe thead th {\n",
       "        text-align: right;\n",
       "    }\n",
       "</style>\n",
       "<table border=\"1\" class=\"dataframe\">\n",
       "  <thead>\n",
       "    <tr style=\"text-align: right;\">\n",
       "      <th></th>\n",
       "      <th>typecom</th>\n",
       "      <th>com</th>\n",
       "      <th>reg</th>\n",
       "      <th>dep</th>\n",
       "      <th>arr</th>\n",
       "      <th>tncc</th>\n",
       "      <th>ncc</th>\n",
       "      <th>nccenr</th>\n",
       "      <th>libelle</th>\n",
       "      <th>can</th>\n",
       "      <th>comparent</th>\n",
       "      <th>ville</th>\n",
       "      <th>ville_matching</th>\n",
       "      <th>_merge</th>\n",
       "    </tr>\n",
       "  </thead>\n",
       "  <tbody>\n",
       "    <tr>\n",
       "      <th>75636</th>\n",
       "      <td>COM</td>\n",
       "      <td>91600</td>\n",
       "      <td>11.0</td>\n",
       "      <td>91</td>\n",
       "      <td>912</td>\n",
       "      <td>0.0</td>\n",
       "      <td>SOISYSURSEINE</td>\n",
       "      <td>Soisy-sur-Seine</td>\n",
       "      <td>Soisy-sur-Seine</td>\n",
       "      <td>9106</td>\n",
       "      <td>NaN</td>\n",
       "      <td>Soisy-sur-Seine</td>\n",
       "      <td>SOISYSURSEINE</td>\n",
       "      <td>both</td>\n",
       "    </tr>\n",
       "  </tbody>\n",
       "</table>\n",
       "</div>"
      ],
      "text/plain": [
       "      typecom    com   reg dep  arr  tncc            ncc           nccenr  \\\n",
       "75636     COM  91600  11.0  91  912   0.0  SOISYSURSEINE  Soisy-sur-Seine   \n",
       "\n",
       "               libelle   can  comparent            ville ville_matching _merge  \n",
       "75636  Soisy-sur-Seine  9106        NaN  Soisy-sur-Seine  SOISYSURSEINE   both  "
      ]
     },
     "execution_count": 11,
     "metadata": {},
     "output_type": "execute_result"
    }
   ],
   "source": [
    "test_merge.loc[lambda x: x['ville'].isin(['Soisy-sur-Seine'])]"
   ]
  },
  {
   "cell_type": "markdown",
   "metadata": {},
   "source": [
    "Sauvegarde des non matchées dans un fichier Excel, appellé, \"ville_non_matchees.xlsx\"."
   ]
  },
  {
   "cell_type": "code",
   "execution_count": null,
   "metadata": {},
   "outputs": [],
   "source": [
    "(test_merge\n",
    " .loc[lambda x: x['_merge'].isin(['right_only'])]\n",
    " .drop_duplicates(subset = [\"ville_matching\"])[['ville', 'ville_matching']]\n",
    " .sort_values(by = 'ville')\n",
    " .to_excel('ville_non_matchees.xlsx')\n",
    ")"
   ]
  },
  {
   "cell_type": "markdown",
   "metadata": {},
   "source": [
    "## Test Distance based metrics\n",
    "\n",
    "Nous allons tester 3 algorithmes différents:\n",
    "\n",
    "- Edit distance: similarity\n",
    "- Jaccards: Dissimilarity\n",
    "- Tokenization: Cleaning + Jaccards"
   ]
  },
  {
   "cell_type": "code",
   "execution_count": 12,
   "metadata": {},
   "outputs": [],
   "source": [
    "import nltk"
   ]
  },
  {
   "cell_type": "code",
   "execution_count": 13,
   "metadata": {},
   "outputs": [
    {
     "data": {
      "text/html": [
       "<div>\n",
       "<style scoped>\n",
       "    .dataframe tbody tr th:only-of-type {\n",
       "        vertical-align: middle;\n",
       "    }\n",
       "\n",
       "    .dataframe tbody tr th {\n",
       "        vertical-align: top;\n",
       "    }\n",
       "\n",
       "    .dataframe thead th {\n",
       "        text-align: right;\n",
       "    }\n",
       "</style>\n",
       "<table border=\"1\" class=\"dataframe\">\n",
       "  <thead>\n",
       "    <tr style=\"text-align: right;\">\n",
       "      <th></th>\n",
       "      <th>ville</th>\n",
       "      <th>ville_matching</th>\n",
       "    </tr>\n",
       "  </thead>\n",
       "  <tbody>\n",
       "    <tr>\n",
       "      <th>0</th>\n",
       "      <td>FURSAC</td>\n",
       "      <td>FURSAC</td>\n",
       "    </tr>\n",
       "    <tr>\n",
       "      <th>1</th>\n",
       "      <td>Lens</td>\n",
       "      <td>LENS</td>\n",
       "    </tr>\n",
       "    <tr>\n",
       "      <th>2</th>\n",
       "      <td>Vélizy-Villacoublay</td>\n",
       "      <td>VELIZYVILLACOUBLAY</td>\n",
       "    </tr>\n",
       "    <tr>\n",
       "      <th>3</th>\n",
       "      <td>Oisseau</td>\n",
       "      <td>OISSEAU</td>\n",
       "    </tr>\n",
       "    <tr>\n",
       "      <th>4</th>\n",
       "      <td>Les Sables-d'Olonne</td>\n",
       "      <td>SABLESDOLONNE</td>\n",
       "    </tr>\n",
       "  </tbody>\n",
       "</table>\n",
       "</div>"
      ],
      "text/plain": [
       "                 ville      ville_matching\n",
       "0               FURSAC              FURSAC\n",
       "1                 Lens                LENS\n",
       "2  Vélizy-Villacoublay  VELIZYVILLACOUBLAY\n",
       "3              Oisseau             OISSEAU\n",
       "4  Les Sables-d'Olonne       SABLESDOLONNE"
      ]
     },
     "execution_count": 13,
     "metadata": {},
     "output_type": "execute_result"
    }
   ],
   "source": [
    "test.head()"
   ]
  },
  {
   "cell_type": "code",
   "execution_count": 14,
   "metadata": {},
   "outputs": [
    {
     "data": {
      "text/html": [
       "<div>\n",
       "<style scoped>\n",
       "    .dataframe tbody tr th:only-of-type {\n",
       "        vertical-align: middle;\n",
       "    }\n",
       "\n",
       "    .dataframe tbody tr th {\n",
       "        vertical-align: top;\n",
       "    }\n",
       "\n",
       "    .dataframe thead th {\n",
       "        text-align: right;\n",
       "    }\n",
       "</style>\n",
       "<table border=\"1\" class=\"dataframe\">\n",
       "  <thead>\n",
       "    <tr style=\"text-align: right;\">\n",
       "      <th></th>\n",
       "      <th>typecom</th>\n",
       "      <th>com</th>\n",
       "      <th>reg</th>\n",
       "      <th>dep</th>\n",
       "      <th>arr</th>\n",
       "      <th>tncc</th>\n",
       "      <th>ncc</th>\n",
       "      <th>nccenr</th>\n",
       "      <th>libelle</th>\n",
       "      <th>can</th>\n",
       "      <th>comparent</th>\n",
       "    </tr>\n",
       "  </thead>\n",
       "  <tbody>\n",
       "    <tr>\n",
       "      <th>0</th>\n",
       "      <td>COM</td>\n",
       "      <td>01001</td>\n",
       "      <td>84.0</td>\n",
       "      <td>01</td>\n",
       "      <td>012</td>\n",
       "      <td>5</td>\n",
       "      <td>ABERGEMENT CLEMENCIAT</td>\n",
       "      <td>Abergement-Clémenciat</td>\n",
       "      <td>L'Abergement-Clémenciat</td>\n",
       "      <td>0108</td>\n",
       "      <td>NaN</td>\n",
       "    </tr>\n",
       "    <tr>\n",
       "      <th>1</th>\n",
       "      <td>COM</td>\n",
       "      <td>01002</td>\n",
       "      <td>84.0</td>\n",
       "      <td>01</td>\n",
       "      <td>011</td>\n",
       "      <td>5</td>\n",
       "      <td>ABERGEMENT DE VAREY</td>\n",
       "      <td>Abergement-de-Varey</td>\n",
       "      <td>L'Abergement-de-Varey</td>\n",
       "      <td>0101</td>\n",
       "      <td>NaN</td>\n",
       "    </tr>\n",
       "    <tr>\n",
       "      <th>2</th>\n",
       "      <td>COM</td>\n",
       "      <td>01004</td>\n",
       "      <td>84.0</td>\n",
       "      <td>01</td>\n",
       "      <td>011</td>\n",
       "      <td>1</td>\n",
       "      <td>AMBERIEU EN BUGEY</td>\n",
       "      <td>Ambérieu-en-Bugey</td>\n",
       "      <td>Ambérieu-en-Bugey</td>\n",
       "      <td>0101</td>\n",
       "      <td>NaN</td>\n",
       "    </tr>\n",
       "    <tr>\n",
       "      <th>3</th>\n",
       "      <td>COM</td>\n",
       "      <td>01005</td>\n",
       "      <td>84.0</td>\n",
       "      <td>01</td>\n",
       "      <td>012</td>\n",
       "      <td>1</td>\n",
       "      <td>AMBERIEUX EN DOMBES</td>\n",
       "      <td>Ambérieux-en-Dombes</td>\n",
       "      <td>Ambérieux-en-Dombes</td>\n",
       "      <td>0122</td>\n",
       "      <td>NaN</td>\n",
       "    </tr>\n",
       "    <tr>\n",
       "      <th>4</th>\n",
       "      <td>COM</td>\n",
       "      <td>01006</td>\n",
       "      <td>84.0</td>\n",
       "      <td>01</td>\n",
       "      <td>011</td>\n",
       "      <td>1</td>\n",
       "      <td>AMBLEON</td>\n",
       "      <td>Ambléon</td>\n",
       "      <td>Ambléon</td>\n",
       "      <td>0104</td>\n",
       "      <td>NaN</td>\n",
       "    </tr>\n",
       "  </tbody>\n",
       "</table>\n",
       "</div>"
      ],
      "text/plain": [
       "  typecom    com   reg dep  arr  tncc                    ncc  \\\n",
       "0     COM  01001  84.0  01  012     5  ABERGEMENT CLEMENCIAT   \n",
       "1     COM  01002  84.0  01  011     5    ABERGEMENT DE VAREY   \n",
       "2     COM  01004  84.0  01  011     1      AMBERIEU EN BUGEY   \n",
       "3     COM  01005  84.0  01  012     1    AMBERIEUX EN DOMBES   \n",
       "4     COM  01006  84.0  01  011     1                AMBLEON   \n",
       "\n",
       "                  nccenr                  libelle   can  comparent  \n",
       "0  Abergement-Clémenciat  L'Abergement-Clémenciat  0108        NaN  \n",
       "1    Abergement-de-Varey    L'Abergement-de-Varey  0101        NaN  \n",
       "2      Ambérieu-en-Bugey        Ambérieu-en-Bugey  0101        NaN  \n",
       "3    Ambérieux-en-Dombes      Ambérieux-en-Dombes  0122        NaN  \n",
       "4                Ambléon                  Ambléon  0104        NaN  "
      ]
     },
     "execution_count": 14,
     "metadata": {},
     "output_type": "execute_result"
    }
   ],
   "source": [
    "insee.head()"
   ]
  },
  {
   "cell_type": "code",
   "execution_count": 47,
   "metadata": {},
   "outputs": [],
   "source": [
    "def edit_distance(city_inpi, cities_insee):\n",
    "    \"\"\"\n",
    "    Compute and sort the lowest distance (edit distance based metrics)\n",
    "    \n",
    "    Args:\n",
    "    city_inpi: str. A city from INPI dataframe\n",
    "    cities_insee: list of string: Cities from INSEE dataframe\n",
    "    \n",
    "    return \n",
    "    \"\"\"\n",
    "    i = 0\n",
    "    length  = len(cities_insee)\n",
    "    list_distance = []\n",
    "    while i < length:\n",
    "        d = nltk.edit_distance(\n",
    "                city_inpi,\n",
    "                cities_insee[i]\n",
    "            )\n",
    "        if d == 0:\n",
    "            #distance = (\n",
    "            #    city_inpi,\n",
    "            #    cities_insee[i]\n",
    "            #)\n",
    "            break\n",
    "            #return distance\n",
    "        elif d == 1:\n",
    "            distance = (\n",
    "                city_inpi,\n",
    "                cities_insee[i],\n",
    "                d\n",
    "            )\n",
    "            list_distance.append(distance)\n",
    "        i += 1 \n",
    "    \n",
    "    if d ==0:\n",
    "        return cities_insee[i]\n",
    "    else:\n",
    "        #return sorted(\n",
    "        return list_distance\n",
    "        #,key=lambda x: x[-1]\n",
    "    #)\n"
   ]
  },
  {
   "cell_type": "code",
   "execution_count": 25,
   "metadata": {},
   "outputs": [
    {
     "data": {
      "text/plain": [
       "'FURSAC'"
      ]
     },
     "execution_count": 25,
     "metadata": {},
     "output_type": "execute_result"
    }
   ],
   "source": [
    "edit_distance(city_inpi = test['ville_matching'].iloc[0],\n",
    "              cities_insee = insee['ncc'].to_list())"
   ]
  },
  {
   "cell_type": "code",
   "execution_count": 31,
   "metadata": {},
   "outputs": [],
   "source": [
    "cities_insee = (insee\n",
    " .assign(ncc = lambda x:\n",
    "         x['ncc'].str.replace(r'\\s+', '').str.replace(regex, '')\n",
    "        )\n",
    " ['ncc'].to_list()\n",
    ")"
   ]
  },
  {
   "cell_type": "code",
   "execution_count": null,
   "metadata": {},
   "outputs": [],
   "source": [
    "test.iloc[:10, 1].apply(lambda x: \n",
    "                       edit_distance(city_inpi = x,\n",
    "              cities_insee = cities_insee\n",
    "                                    )\n",
    "                       )"
   ]
  },
  {
   "cell_type": "code",
   "execution_count": 35,
   "metadata": {},
   "outputs": [],
   "source": [
    "non_match = (test_merge\n",
    " .loc[lambda x: x['_merge'].isin(['right_only'])]\n",
    " .drop_duplicates(subset = [\"ville_matching\"])[['ville', 'ville_matching']]\n",
    " .sort_values(by = 'ville')\n",
    ")"
   ]
  },
  {
   "cell_type": "code",
   "execution_count": 49,
   "metadata": {},
   "outputs": [
    {
     "data": {
      "text/plain": [
       "[]"
      ]
     },
     "execution_count": 49,
     "metadata": {},
     "output_type": "execute_result"
    }
   ],
   "source": [
    "edit_distance(city_inpi = non_match['ville_matching'].iloc[3],\n",
    "              cities_insee = cities_insee)"
   ]
  },
  {
   "cell_type": "code",
   "execution_count": 52,
   "metadata": {},
   "outputs": [
    {
     "data": {
      "text/html": [
       "<div>\n",
       "<style scoped>\n",
       "    .dataframe tbody tr th:only-of-type {\n",
       "        vertical-align: middle;\n",
       "    }\n",
       "\n",
       "    .dataframe tbody tr th {\n",
       "        vertical-align: top;\n",
       "    }\n",
       "\n",
       "    .dataframe thead th {\n",
       "        text-align: right;\n",
       "    }\n",
       "</style>\n",
       "<table border=\"1\" class=\"dataframe\">\n",
       "  <thead>\n",
       "    <tr style=\"text-align: right;\">\n",
       "      <th></th>\n",
       "      <th>ville</th>\n",
       "      <th>ville_matching</th>\n",
       "    </tr>\n",
       "  </thead>\n",
       "  <tbody>\n",
       "    <tr>\n",
       "      <th>80150</th>\n",
       "      <td>LA HUME</td>\n",
       "      <td>LAHUME</td>\n",
       "    </tr>\n",
       "    <tr>\n",
       "      <th>83730</th>\n",
       "      <td>\"LIEUDIT\" LA COUTURE</td>\n",
       "      <td>LIEUDITLACOUTURE</td>\n",
       "    </tr>\n",
       "    <tr>\n",
       "      <th>78900</th>\n",
       "      <td>&amp; COMMUNES LIMITROPHES</td>\n",
       "      <td>COMMUNESLIMITROPHES</td>\n",
       "    </tr>\n",
       "    <tr>\n",
       "      <th>84659</th>\n",
       "      <td>&amp; Communes limitrophes en lot &amp; Garonne</td>\n",
       "      <td>COMMUNESLIMITROPHESENLOTGARONNE</td>\n",
       "    </tr>\n",
       "    <tr>\n",
       "      <th>80458</th>\n",
       "      <td>&amp; Communes limitrophes-de-Lot &amp; Garonne</td>\n",
       "      <td>COMMUNESLIMITROPHESDELOTGARONNE</td>\n",
       "    </tr>\n",
       "    <tr>\n",
       "      <th>...</th>\n",
       "      <td>...</td>\n",
       "      <td>...</td>\n",
       "    </tr>\n",
       "    <tr>\n",
       "      <th>82391</th>\n",
       "      <td>salleles cabardeès</td>\n",
       "      <td>SALLELESCABARDEES</td>\n",
       "    </tr>\n",
       "    <tr>\n",
       "      <th>77755</th>\n",
       "      <td>salleles du bosc</td>\n",
       "      <td>SALLELESDUBOSC</td>\n",
       "    </tr>\n",
       "    <tr>\n",
       "      <th>81805</th>\n",
       "      <td>vilennes sur seine</td>\n",
       "      <td>VILENNESSURSEINE</td>\n",
       "    </tr>\n",
       "    <tr>\n",
       "      <th>83940</th>\n",
       "      <td>â70400 ECHAVANNE</td>\n",
       "      <td>AECHAVANNE</td>\n",
       "    </tr>\n",
       "    <tr>\n",
       "      <th>85207</th>\n",
       "      <td>NaN</td>\n",
       "      <td>NaN</td>\n",
       "    </tr>\n",
       "  </tbody>\n",
       "</table>\n",
       "<p>6390 rows × 2 columns</p>\n",
       "</div>"
      ],
      "text/plain": [
       "                                         ville  \\\n",
       "80150                                  LA HUME   \n",
       "83730                     \"LIEUDIT\" LA COUTURE   \n",
       "78900                   & COMMUNES LIMITROPHES   \n",
       "84659  & Communes limitrophes en lot & Garonne   \n",
       "80458  & Communes limitrophes-de-Lot & Garonne   \n",
       "...                                        ...   \n",
       "82391                       salleles cabardeès   \n",
       "77755                         salleles du bosc   \n",
       "81805                       vilennes sur seine   \n",
       "83940                         â70400 ECHAVANNE   \n",
       "85207                                      NaN   \n",
       "\n",
       "                        ville_matching  \n",
       "80150                           LAHUME  \n",
       "83730                 LIEUDITLACOUTURE  \n",
       "78900              COMMUNESLIMITROPHES  \n",
       "84659  COMMUNESLIMITROPHESENLOTGARONNE  \n",
       "80458  COMMUNESLIMITROPHESDELOTGARONNE  \n",
       "...                                ...  \n",
       "82391                SALLELESCABARDEES  \n",
       "77755                   SALLELESDUBOSC  \n",
       "81805                 VILENNESSURSEINE  \n",
       "83940                       AECHAVANNE  \n",
       "85207                              NaN  \n",
       "\n",
       "[6390 rows x 2 columns]"
      ]
     },
     "execution_count": 52,
     "metadata": {},
     "output_type": "execute_result"
    }
   ],
   "source": [
    "non_match#.iloc[:10, 1]"
   ]
  },
  {
   "cell_type": "code",
   "execution_count": null,
   "metadata": {},
   "outputs": [],
   "source": [
    "non_match = non_match.assign(\n",
    "    test_dist = lambda x: \n",
    "    x['ville_matching'].apply(\n",
    "        lambda x: \n",
    "                       edit_distance(city_inpi = x,\n",
    "              cities_insee = cities_insee\n",
    "                                    )\n",
    "                       )\n",
    ")"
   ]
  },
  {
   "cell_type": "code",
   "execution_count": 50,
   "metadata": {},
   "outputs": [
    {
     "data": {
      "text/plain": [
       "80150    []\n",
       "83730    []\n",
       "78900    []\n",
       "84659    []\n",
       "80458    []\n",
       "80237    []\n",
       "80138    []\n",
       "85075    []\n",
       "77774    []\n",
       "84459    []\n",
       "Name: ville_matching, dtype: object"
      ]
     },
     "execution_count": 50,
     "metadata": {},
     "output_type": "execute_result"
    }
   ],
   "source": [
    "non_match.iloc[:10, 1].apply(lambda x: \n",
    "                       edit_distance(city_inpi = x,\n",
    "              cities_insee = cities_insee\n",
    "                                    )\n",
    "                       )"
   ]
  }
 ],
 "metadata": {
  "jupytext": {
   "formats": "ipynb,md"
  },
  "kernelspec": {
   "display_name": "Python 3",
   "language": "python",
   "name": "python3"
  },
  "language_info": {
   "codemirror_mode": {
    "name": "ipython",
    "version": 3
   },
   "file_extension": ".py",
   "mimetype": "text/x-python",
   "name": "python",
   "nbconvert_exporter": "python",
   "pygments_lexer": "ipython3",
   "version": "3.7.6"
  }
 },
 "nbformat": 4,
 "nbformat_minor": 4
}
