{
 "cells": [
  {
   "cell_type": "markdown",
   "metadata": {
    "Collapsed": "false"
   },
   "source": [
    "# Verification fichier S3"
   ]
  },
  {
   "cell_type": "code",
   "execution_count": 1,
   "metadata": {
    "Collapsed": "false"
   },
   "outputs": [],
   "source": [
    "from aws import aws_connector \n",
    "import json\n",
    "%load_ext autoreload\n",
    "%autoreload 2"
   ]
  },
  {
   "cell_type": "code",
   "execution_count": 2,
   "metadata": {
    "Collapsed": "false"
   },
   "outputs": [],
   "source": [
    "creds = r'C:\\Users\\PERNETTH\\Documents\\Projects' \\\n",
    "r'\\InseeInpi_matching\\credential_AWS.json'\n",
    "\n",
    "con = aws_connector.aws_instantiate(creds)\n"
   ]
  },
  {
   "cell_type": "code",
   "execution_count": 3,
   "metadata": {
    "Collapsed": "false"
   },
   "outputs": [
    {
     "data": {
      "text/html": [
       "<div>\n",
       "<style scoped>\n",
       "    .dataframe tbody tr th:only-of-type {\n",
       "        vertical-align: middle;\n",
       "    }\n",
       "\n",
       "    .dataframe tbody tr th {\n",
       "        vertical-align: top;\n",
       "    }\n",
       "\n",
       "    .dataframe thead th {\n",
       "        text-align: right;\n",
       "    }\n",
       "</style>\n",
       "<table border=\"1\" class=\"dataframe\">\n",
       "  <thead>\n",
       "    <tr style=\"text-align: right;\">\n",
       "      <th></th>\n",
       "      <th>Code Greffe</th>\n",
       "      <th>Nom_Greffe</th>\n",
       "      <th>Numero_Gestion</th>\n",
       "      <th>Siren</th>\n",
       "      <th>ID_Observation</th>\n",
       "      <th>Numéro_Observation</th>\n",
       "      <th>Date_Ajout</th>\n",
       "      <th>Date_Suppression</th>\n",
       "      <th>Texte</th>\n",
       "      <th>Date_Greffe</th>\n",
       "      <th>Etat</th>\n",
       "    </tr>\n",
       "  </thead>\n",
       "  <tbody>\n",
       "    <tr>\n",
       "      <th>0</th>\n",
       "      <td>101</td>\n",
       "      <td>Bourg-en-Bresse</td>\n",
       "      <td>2002D40001</td>\n",
       "      <td>440432052</td>\n",
       "      <td>4</td>\n",
       "      <td>NaN</td>\n",
       "      <td>2009-01-01</td>\n",
       "      <td>NaN</td>\n",
       "      <td>En application du décret n° 2008-146 en date ...</td>\n",
       "      <td>2017-02-20</td>\n",
       "      <td>Ajout</td>\n",
       "    </tr>\n",
       "    <tr>\n",
       "      <th>1</th>\n",
       "      <td>101</td>\n",
       "      <td>Bourg-en-Bresse</td>\n",
       "      <td>2003B00832</td>\n",
       "      <td>450548326</td>\n",
       "      <td>6</td>\n",
       "      <td>9364.0</td>\n",
       "      <td>2011-10-28</td>\n",
       "      <td>NaN</td>\n",
       "      <td>Rôle n° 2011 016216 En date du 28/10/2011, le...</td>\n",
       "      <td>2017-03-29</td>\n",
       "      <td>Ajout</td>\n",
       "    </tr>\n",
       "    <tr>\n",
       "      <th>2</th>\n",
       "      <td>101</td>\n",
       "      <td>Bourg-en-Bresse</td>\n",
       "      <td>2003B00832</td>\n",
       "      <td>450548326</td>\n",
       "      <td>8</td>\n",
       "      <td>10671.0</td>\n",
       "      <td>2011-12-12</td>\n",
       "      <td>NaN</td>\n",
       "      <td>Rôle n° 2011 016567 Par jugement du 09/12/201...</td>\n",
       "      <td>2017-03-29</td>\n",
       "      <td>Ajout</td>\n",
       "    </tr>\n",
       "    <tr>\n",
       "      <th>3</th>\n",
       "      <td>101</td>\n",
       "      <td>Bourg-en-Bresse</td>\n",
       "      <td>2003B00832</td>\n",
       "      <td>450548326</td>\n",
       "      <td>10</td>\n",
       "      <td>1538.0</td>\n",
       "      <td>2012-01-24</td>\n",
       "      <td>NaN</td>\n",
       "      <td>En date du 19/01/2012, le Tribunal de Commerc...</td>\n",
       "      <td>2017-03-29</td>\n",
       "      <td>Ajout</td>\n",
       "    </tr>\n",
       "    <tr>\n",
       "      <th>4</th>\n",
       "      <td>101</td>\n",
       "      <td>Bourg-en-Bresse</td>\n",
       "      <td>2003B00832</td>\n",
       "      <td>450548326</td>\n",
       "      <td>12</td>\n",
       "      <td>3746.0</td>\n",
       "      <td>2012-03-26</td>\n",
       "      <td>NaN</td>\n",
       "      <td>Rôle n° 2011 018389 Par jugement du 23/03/201...</td>\n",
       "      <td>2017-03-29</td>\n",
       "      <td>Ajout</td>\n",
       "    </tr>\n",
       "  </tbody>\n",
       "</table>\n",
       "</div>"
      ],
      "text/plain": [
       "   Code Greffe       Nom_Greffe Numero_Gestion      Siren  ID_Observation  \\\n",
       "0          101  Bourg-en-Bresse     2002D40001  440432052               4   \n",
       "1          101  Bourg-en-Bresse     2003B00832  450548326               6   \n",
       "2          101  Bourg-en-Bresse     2003B00832  450548326               8   \n",
       "3          101  Bourg-en-Bresse     2003B00832  450548326              10   \n",
       "4          101  Bourg-en-Bresse     2003B00832  450548326              12   \n",
       "\n",
       "   Numéro_Observation  Date_Ajout  Date_Suppression  \\\n",
       "0                 NaN  2009-01-01               NaN   \n",
       "1              9364.0  2011-10-28               NaN   \n",
       "2             10671.0  2011-12-12               NaN   \n",
       "3              1538.0  2012-01-24               NaN   \n",
       "4              3746.0  2012-03-26               NaN   \n",
       "\n",
       "                                               Texte Date_Greffe  Etat   \n",
       "0   En application du décret n° 2008-146 en date ...  2017-02-20  Ajout  \n",
       "1   Rôle n° 2011 016216 En date du 28/10/2011, le...  2017-03-29  Ajout  \n",
       "2   Rôle n° 2011 016567 Par jugement du 09/12/201...  2017-03-29  Ajout  \n",
       "3   En date du 19/01/2012, le Tribunal de Commerc...  2017-03-29  Ajout  \n",
       "4   Rôle n° 2011 018389 Par jugement du 23/03/201...  2017-03-29  Ajout  "
      ]
     },
     "execution_count": 3,
     "metadata": {},
     "output_type": "execute_result"
    }
   ],
   "source": [
    "con.read_df_from_s3(bucket ='calfdata',\n",
    "                    key = 'INPI/TC_1/Stock/Stock_initial/OBS/0101_S1_20170504_11_obs.csv').head()"
   ]
  }
 ],
 "metadata": {
  "kernelspec": {
   "display_name": "Python 3",
   "language": "python",
   "name": "python3"
  },
  "language_info": {
   "codemirror_mode": {
    "name": "ipython",
    "version": 3
   },
   "file_extension": ".py",
   "mimetype": "text/x-python",
   "name": "python",
   "nbconvert_exporter": "python",
   "pygments_lexer": "ipython3",
   "version": "3.7.6"
  }
 },
 "nbformat": 4,
 "nbformat_minor": 4
}
