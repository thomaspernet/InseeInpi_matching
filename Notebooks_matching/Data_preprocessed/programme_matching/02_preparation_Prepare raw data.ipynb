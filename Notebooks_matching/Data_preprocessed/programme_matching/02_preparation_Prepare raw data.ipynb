{
 "cells": [
  {
   "cell_type": "code",
   "execution_count": 1,
   "metadata": {},
   "outputs": [],
   "source": [
    "import os\n",
    "import pandas as pd\n",
    "import utils as u"
   ]
  },
  {
   "cell_type": "code",
   "execution_count": 2,
   "metadata": {},
   "outputs": [],
   "source": [
    "# FOR RAW DATA\n",
    "#dl_path = 'flux'\n",
    "#prep_path='data/prep'\n",
    "\n",
    "# FOR DATA FROM S3\n",
    "#dl_path = 'flux-old-pour-script'\n",
    "#prep_path='prep-flux-old-pour-script'\n",
    "\n",
    "# FAIRE TOURNER STOCK 2017 2018 2019\n",
    "dl_path = 'stock-2017-unzipped'\n",
    "prep_path='data/prep2'\n",
    "\n",
    "#dl_path = 'stock-2018-unzipped'\n",
    "#prep_path='data/prep3'\n",
    "\n",
    "#dl_path = 'stock-2019-unzipped'\n",
    "#prep_path='data/prep4'"
   ]
  },
  {
   "cell_type": "code",
   "execution_count": 3,
   "metadata": {},
   "outputs": [
    {
     "data": {
      "text/plain": [
       "\"\\n# UNZIP All Files in directory\\nimport zipfile\\n\\n# r=root, d=directories, f = files\\nfor r, d, f in os.walk(dl_path):\\n    for filename in f:\\n        if filename.endswith('.zip'):\\n            full_path = os.path.join(dl_path, filename)\\n            with zipfile.ZipFile(full_path, 'r') as zip_ref:\\n                zip_ref.extractall(dl_path)\\n                #os.remove(full_path)\\n                print('Unzipped ' + full_path)\""
      ]
     },
     "execution_count": 3,
     "metadata": {},
     "output_type": "execute_result"
    }
   ],
   "source": [
    "'''\n",
    "# UNZIP All Files in directory\n",
    "import zipfile\n",
    "\n",
    "# r=root, d=directories, f = files\n",
    "for r, d, f in os.walk(dl_path):\n",
    "    for filename in f:\n",
    "        if filename.endswith('.zip'):\n",
    "            full_path = os.path.join(dl_path, filename)\n",
    "            with zipfile.ZipFile(full_path, 'r') as zip_ref:\n",
    "                zip_ref.extractall(dl_path)\n",
    "                #os.remove(full_path)\n",
    "                print('Unzipped ' + full_path)'''"
   ]
  },
  {
   "cell_type": "code",
   "execution_count": 4,
   "metadata": {},
   "outputs": [],
   "source": [
    "# Add information about the source inside csv file\n",
    "# r=root, d=directories, f = files\n",
    "for r, d, f in os.walk(dl_path):\n",
    "    for filename in f:\n",
    "        if filename.endswith('.csv'):\n",
    "            u.add_source_info(filename,r,prep_path)"
   ]
  },
  {
   "cell_type": "code",
   "execution_count": null,
   "metadata": {},
   "outputs": [],
   "source": [
    "# List files to send and compute each destination\n",
    "'''\n",
    "list_files=[]\n",
    "for root,dirs,files in os.walk(prep_path):\n",
    "    for file in files:\n",
    "          if file.endswith(('.csv')):\n",
    "                print(file)\n",
    "                list_files.append((file, u.calc_dest(filename=file)))\n",
    "list_files[:5]'''"
   ]
  },
  {
   "cell_type": "code",
   "execution_count": null,
   "metadata": {},
   "outputs": [],
   "source": []
  }
 ],
 "metadata": {
  "kernelspec": {
   "display_name": "Python 3",
   "language": "python",
   "name": "python3"
  },
  "language_info": {
   "codemirror_mode": {
    "name": "ipython",
    "version": 3
   },
   "file_extension": ".py",
   "mimetype": "text/x-python",
   "name": "python",
   "nbconvert_exporter": "python",
   "pygments_lexer": "ipython3",
   "version": "3.7.4"
  }
 },
 "nbformat": 4,
 "nbformat_minor": 4
}
