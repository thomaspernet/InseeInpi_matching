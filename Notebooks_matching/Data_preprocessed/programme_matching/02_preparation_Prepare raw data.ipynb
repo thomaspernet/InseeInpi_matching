{
 "cells": [
  {
   "cell_type": "code",
   "execution_count": 1,
   "metadata": {},
   "outputs": [],
   "source": [
    "import os\n",
    "import pandas as pd\n",
    "import utils as u"
   ]
  },
  {
   "cell_type": "code",
   "execution_count": 2,
   "metadata": {},
   "outputs": [],
   "source": [
    "dl_path = 'data/dl'\n",
    "prep_path='data/prep'"
   ]
  },
  {
   "cell_type": "code",
   "execution_count": 3,
   "metadata": {},
   "outputs": [
    {
     "name": "stdout",
     "output_type": "stream",
     "text": [
      "7501_122_20180101_201523_10_ets_supprime_EVT.csv\n"
     ]
    },
    {
     "data": {
      "text/plain": [
       "('ETS', 'Flux', 'EVT', '2018', datetime.datetime(2018, 1, 1, 20, 15, 23))"
      ]
     },
     "execution_count": 3,
     "metadata": {},
     "output_type": "execute_result"
    }
   ],
   "source": [
    "filename='7501_122_20180101_201523_10_ets_supprime_EVT.csv'\n",
    "print(filename)\n",
    "(nature_,origin_,suborigin_,year_,timestamp_) = (None,None,None,None,None)\n",
    "(nature_,origin_,suborigin_,year_,timestamp_) = u.get_file_infos(filename)\n",
    "(nature_,origin_,suborigin_,year_,timestamp_)"
   ]
  },
  {
   "cell_type": "code",
   "execution_count": 4,
   "metadata": {},
   "outputs": [
    {
     "data": {
      "text/plain": [
       "'/INPI/TC_1/01_donnee_source/Flux/2018/ETS/EVT'"
      ]
     },
     "execution_count": 4,
     "metadata": {},
     "output_type": "execute_result"
    }
   ],
   "source": [
    "u.calc_dest(filename=filename)"
   ]
  },
  {
   "cell_type": "code",
   "execution_count": 7,
   "metadata": {},
   "outputs": [
    {
     "name": "stdout",
     "output_type": "stream",
     "text": [
      "Unzipped data/dl\\0101_S1_20170504.zip\n"
     ]
    }
   ],
   "source": [
    "# UNZIP All Files in directory\n",
    "import zipfile\n",
    "\n",
    "# r=root, d=directories, f = files\n",
    "for r, d, f in os.walk(dl_path):\n",
    "    for filename in f:\n",
    "        if filename.endswith('.zip'):\n",
    "            full_path = os.path.join(dl_path, filename)\n",
    "            with zipfile.ZipFile(full_path, 'r') as zip_ref:\n",
    "                zip_ref.extractall(dl_path)\n",
    "                #os.remove(full_path)\n",
    "                print('Unzipped ' + full_path)"
   ]
  },
  {
   "cell_type": "code",
   "execution_count": null,
   "metadata": {},
   "outputs": [],
   "source": [
    "# r=root, d=directories, f = files\n",
    "for r, d, f in os.walk(dl_path):\n",
    "    for filename in f:\n",
    "        if filename.endswith('.csv'):\n",
    "            u.add_source_info(filename,r,prep_path)"
   ]
  }
 ],
 "metadata": {
  "kernelspec": {
   "display_name": "Python 3",
   "language": "python",
   "name": "python3"
  },
  "language_info": {
   "codemirror_mode": {
    "name": "ipython",
    "version": 3
   },
   "file_extension": ".py",
   "mimetype": "text/x-python",
   "name": "python",
   "nbconvert_exporter": "python",
   "pygments_lexer": "ipython3",
   "version": "3.7.4"
  }
 },
 "nbformat": 4,
 "nbformat_minor": 4
}
