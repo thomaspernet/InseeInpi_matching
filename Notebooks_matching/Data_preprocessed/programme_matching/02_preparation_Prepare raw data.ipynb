{
 "cells": [
  {
   "cell_type": "code",
   "execution_count": null,
   "metadata": {},
   "outputs": [],
   "source": [
    "import os\n",
    "import pandas as pd\n",
    "import utils as u"
   ]
  },
  {
   "cell_type": "code",
   "execution_count": null,
   "metadata": {},
   "outputs": [],
   "source": [
    "dl_path = 'data/dl'\n",
    "prep_path='data/prep'"
   ]
  },
  {
   "cell_type": "code",
   "execution_count": null,
   "metadata": {},
   "outputs": [],
   "source": [
    "# UNZIP All Files in directory\n",
    "import zipfile\n",
    "\n",
    "# r=root, d=directories, f = files\n",
    "for r, d, f in os.walk(dl_path):\n",
    "    for filename in f:\n",
    "        if filename.endswith('.zip'):\n",
    "            full_path = os.path.join(dl_path, filename)\n",
    "            with zipfile.ZipFile(full_path, 'r') as zip_ref:\n",
    "                zip_ref.extractall(dl_path)\n",
    "                #os.remove(full_path)\n",
    "                print('Unzipped ' + full_path)"
   ]
  },
  {
   "cell_type": "code",
   "execution_count": null,
   "metadata": {},
   "outputs": [],
   "source": [
    "# Add information about the source inside csv file\n",
    "# r=root, d=directories, f = files\n",
    "for r, d, f in os.walk(dl_path):\n",
    "    for filename in f:\n",
    "        if filename.endswith('.csv'):\n",
    "            u.add_source_info(filename,r,prep_path)"
   ]
  }
 ],
 "metadata": {
  "kernelspec": {
   "display_name": "Python 3",
   "language": "python",
   "name": "python3"
  },
  "language_info": {
   "codemirror_mode": {
    "name": "ipython",
    "version": 3
   },
   "file_extension": ".py",
   "mimetype": "text/x-python",
   "name": "python",
   "nbconvert_exporter": "python",
   "pygments_lexer": "ipython3",
   "version": "3.7.4"
  }
 },
 "nbformat": 4,
 "nbformat_minor": 4
}
