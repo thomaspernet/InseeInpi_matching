{
 "cells": [
  {
   "cell_type": "code",
   "execution_count": null,
   "metadata": {},
   "outputs": [],
   "source": [
    "def save_raw_to_s3(prep_path):\n",
    "    import utils as u\n",
    "    import os\n",
    "\n",
    "    if not 'workbookDir' in globals():\n",
    "        workbookDir = os.getcwd()\n",
    "\n",
    "    aws_separator = \"/\"\n",
    "\n",
    "    # Import S3 connectors librairies\n",
    "    #from awsPy.aws_authorization import aws_connector\n",
    "    import importlib.util\n",
    "    spec = importlib.util.spec_from_file_location(\"aws_connector.py\", \"C:/Users/Hp/Documents/GitHub/aws-python/awsPy/aws_authorization/aws_connector.py\")\n",
    "    aws_connector = importlib.util.module_from_spec(spec)\n",
    "    spec.loader.exec_module(aws_connector)\n",
    "\n",
    "    #from awsPy.aws_s3 import service_s3\n",
    "    import importlib.util\n",
    "    spec = importlib.util.spec_from_file_location(\"service_s3.py\", \"C:/Users/Hp/Documents/GitHub/aws-python/awsPy/aws_s3/service_s3.py\")\n",
    "    service_s3 = importlib.util.module_from_spec(spec)\n",
    "    spec.loader.exec_module(service_s3)\n",
    "\n",
    "    # Connect to S3\n",
    "    import os\n",
    "    from pathlib import Path\n",
    "\n",
    "    bucket = 'calfdata'\n",
    "    path = os.getcwd()\n",
    "    parent_path = str(Path(path).parent)\n",
    "    path_cred = \"{}/programme_matching/credential_AWS.json\".format(parent_path)\n",
    "\n",
    "    con = aws_connector.aws_instantiate(credential = path_cred,\n",
    "                                            region = 'eu-west-3')\n",
    "    client= con.client_boto()\n",
    "    s3 = service_s3.connect_S3(client = client,\n",
    "                          bucket = 'calfdata')\n",
    "\n",
    "    # List files to send and compute each destination\n",
    "    import os\n",
    "\n",
    "    root_path=aws_separator.join(['INPI', 'TC_1' , '00_RawData', 'public' ,'IMR_Donnees_Saisies' ,'tc'])\n",
    "\n",
    "    list_files=[]\n",
    "    for root,dirs,files in os.walk(prep_path):\n",
    "        for i, file in enumerate(files):\n",
    "              if file.endswith(('.csv')):\n",
    "                    #print(root)\n",
    "\n",
    "                    source_full_path=os.path.join(root,file)\n",
    "                    #print(source_full_path)\n",
    "\n",
    "                    dest_path = aws_separator.join([root_path,root.replace(\"\\\\\",\"/\")])\n",
    "                    #print(dest_path)\n",
    "                    list_files.append((source_full_path,dest_path))\n",
    "\n",
    "    # Send files to s3 \n",
    "\n",
    "    for (full_path,destination_in_s3) in list_files:\n",
    "        filename=full_path.split('\\\\')[-1]\n",
    "        key = aws_separator.join([destination_in_s3,filename])\n",
    "        if not s3.key_exist(key):\n",
    "            s3.upload_file(full_path, destination_in_s3)\n",
    "            \n",
    "    return True"
   ]
  },
  {
   "cell_type": "code",
   "execution_count": null,
   "metadata": {},
   "outputs": [],
   "source": [
    "prep_path= 'flux' #(raw flux 2018)\n",
    "save_raw_to_s3(prep_path)"
   ]
  },
  {
   "cell_type": "code",
   "execution_count": null,
   "metadata": {},
   "outputs": [],
   "source": [
    "# en local fichiers\n",
    "# 11h51 /2018 : 226794 objets - 1.5 Go\n",
    "# 16h06 /2018 : "
   ]
  },
  {
   "cell_type": "code",
   "execution_count": null,
   "metadata": {},
   "outputs": [],
   "source": []
  }
 ],
 "metadata": {
  "kernelspec": {
   "display_name": "Python 3",
   "language": "python",
   "name": "python3"
  },
  "language_info": {
   "codemirror_mode": {
    "name": "ipython",
    "version": 3
   },
   "file_extension": ".py",
   "mimetype": "text/x-python",
   "name": "python",
   "nbconvert_exporter": "python",
   "pygments_lexer": "ipython3",
   "version": "3.7.0"
  }
 },
 "nbformat": 4,
 "nbformat_minor": 2
}
