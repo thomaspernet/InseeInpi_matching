{
 "cells": [
  {
   "cell_type": "code",
   "execution_count": null,
   "metadata": {},
   "outputs": [],
   "source": [
    "!pip install boto3"
   ]
  },
  {
   "cell_type": "code",
   "execution_count": 1,
   "metadata": {},
   "outputs": [],
   "source": [
    "import utils as u\n",
    "import os"
   ]
  },
  {
   "cell_type": "code",
   "execution_count": 2,
   "metadata": {},
   "outputs": [],
   "source": [
    "if not 'workbookDir' in globals():\n",
    "    workbookDir = os.getcwd()"
   ]
  },
  {
   "cell_type": "code",
   "execution_count": 3,
   "metadata": {},
   "outputs": [],
   "source": [
    "aws_separator = \"/\""
   ]
  },
  {
   "cell_type": "code",
   "execution_count": 4,
   "metadata": {},
   "outputs": [],
   "source": [
    "# Import S3 connectors librairies\n",
    "#from awsPy.aws_authorization import aws_connector\n",
    "import importlib.util\n",
    "spec = importlib.util.spec_from_file_location(\"aws_connector.py\", \"C:/Users/Hp/Documents/GitHub/aws-python/awsPy/aws_authorization/aws_connector.py\")\n",
    "aws_connector = importlib.util.module_from_spec(spec)\n",
    "spec.loader.exec_module(aws_connector)\n",
    "\n",
    "#from awsPy.aws_s3 import service_s3\n",
    "import importlib.util\n",
    "spec = importlib.util.spec_from_file_location(\"service_s3.py\", \"C:/Users/Hp/Documents/GitHub/aws-python/awsPy/aws_s3/service_s3.py\")\n",
    "service_s3 = importlib.util.module_from_spec(spec)\n",
    "spec.loader.exec_module(service_s3)"
   ]
  },
  {
   "cell_type": "code",
   "execution_count": 5,
   "metadata": {},
   "outputs": [],
   "source": [
    "# Connect to S3\n",
    "import os\n",
    "from pathlib import Path\n",
    "\n",
    "bucket = 'calfdata'\n",
    "path = os.getcwd()\n",
    "parent_path = str(Path(path).parent)\n",
    "path_cred = \"{}/programme_matching/credential_AWS.json\".format(parent_path)\n",
    "\n",
    "con = aws_connector.aws_instantiate(credential = path_cred,\n",
    "                                        region = 'eu-west-3')\n",
    "client= con.client_boto()\n",
    "s3 = service_s3.connect_S3(client = client,\n",
    "                      bucket = 'calfdata')"
   ]
  },
  {
   "cell_type": "code",
   "execution_count": 7,
   "metadata": {},
   "outputs": [
    {
     "data": {
      "text/plain": [
       "[('0101_100_20171003_074607_11_obs.csv',\n",
       "  'INPI/TC_1/01_donnee_source/Flux/2017/OBS/NEW'),\n",
       " ('0101_100_20171003_074607_12_actes.csv',\n",
       "  'INPI/TC_1/01_donnee_source/Flux/2017/ACTES/NEW'),\n",
       " ('0101_100_20171003_074607_13_comptes_annuels.csv',\n",
       "  'INPI/TC_1/01_donnee_source/Flux/2017/COMPTES_ANNUELS/NEW'),\n",
       " ('0101_100_20171003_074607_1_PM.csv',\n",
       "  'INPI/TC_1/01_donnee_source/Flux/2017/PM/NEW'),\n",
       " ('0101_100_20171003_074607_2_PM_EVT.csv',\n",
       "  'INPI/TC_1/01_donnee_source/Flux/2017/PM/EVT')]"
      ]
     },
     "execution_count": 7,
     "metadata": {},
     "output_type": "execute_result"
    }
   ],
   "source": [
    "# List files to send and compute each destination\n",
    "prep_path='data/prep_flux_2017_horsETS' #flux 2017 hors ETS\n",
    "\n",
    "list_files=[]\n",
    "for root,dirs,files in os.walk(prep_path):\n",
    "    for file in files:\n",
    "          if file.endswith(('.csv')):\n",
    "                #print(file)\n",
    "                list_files.append((file, u.calc_dest(filename=file)))\n",
    "list_files[:5]"
   ]
  },
  {
   "cell_type": "code",
   "execution_count": 8,
   "metadata": {},
   "outputs": [
    {
     "data": {
      "text/plain": [
       "236810"
      ]
     },
     "execution_count": 8,
     "metadata": {},
     "output_type": "execute_result"
    }
   ],
   "source": [
    "len(list_files)"
   ]
  },
  {
   "cell_type": "code",
   "execution_count": 10,
   "metadata": {},
   "outputs": [],
   "source": [
    "# Send files to s3 (prepared 2017)\n",
    "for (file_to_upload,destination_in_s3) in list_files:\n",
    "    # if file exist in S3?\n",
    "    full_path = os.path.join(prep_path, file_to_upload)\n",
    "    #s3.upload_file(full_path, destination_in_s3)\n",
    "   \n",
    "    key = aws_separator.join([destination_in_s3,file_to_upload])\n",
    "    if not s3.key_exist(key):\n",
    "        s3.upload_file(full_path, destination_in_s3)"
   ]
  },
  {
   "cell_type": "code",
   "execution_count": null,
   "metadata": {},
   "outputs": [],
   "source": []
  }
 ],
 "metadata": {
  "kernelspec": {
   "display_name": "Python 3",
   "language": "python",
   "name": "python3"
  },
  "language_info": {
   "codemirror_mode": {
    "name": "ipython",
    "version": 3
   },
   "file_extension": ".py",
   "mimetype": "text/x-python",
   "name": "python",
   "nbconvert_exporter": "python",
   "pygments_lexer": "ipython3",
   "version": "3.7.0"
  }
 },
 "nbformat": 4,
 "nbformat_minor": 2
}
