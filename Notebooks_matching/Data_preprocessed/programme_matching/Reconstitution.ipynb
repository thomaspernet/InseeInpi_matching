{
 "cells": [
  {
   "cell_type": "markdown",
   "metadata": {
    "Collapsed": "false"
   },
   "source": [
    "# Reconstitution INPI"
   ]
  },
  {
   "cell_type": "markdown",
   "metadata": {
    "Collapsed": "false"
   },
   "source": [
    "## Recreation du fichier INPI "
   ]
  },
  {
   "cell_type": "code",
   "execution_count": null,
   "metadata": {
    "Collapsed": "false"
   },
   "outputs": [],
   "source": [
    "import os\n",
    "from tqdm import tqdm\n",
    "import pandas as pd\n",
    "import numpy as np\n",
    "from inpi_insee import preparation_data\n",
    "\n",
    "%load_ext autoreload\n",
    "%autoreload 2"
   ]
  },
  {
   "cell_type": "code",
   "execution_count": null,
   "metadata": {
    "Collapsed": "false"
   },
   "outputs": [],
   "source": [
    "path = r'C:\\Users\\PERNETTH\\Documents\\Projects\\InseeInpi_matching' \\\n",
    "r'\\Notebooks_matching\\programme_matching\\data\\output'\n",
    "\n",
    "list_issue = []\n",
    "df_matched = pd.DataFrame()\n",
    "for root, dirs, files in os.walk(path):\n",
    "    # Test-> on veut pas avant mai 2018\n",
    "    for name in tqdm(files):\n",
    "        if name.endswith((\".gz\")):\n",
    "            path_gz = '{}\\{}'.format(root, name)\n",
    "            df_ = pd.read_csv(path_gz, compression = 'gzip',low_memory = False)\n",
    "            #if df_.loc[lambda x: x['siren'].isin([752085324])].empty == False:\n",
    "                #print(name)\n",
    "            df_matched = df_matched.append(\n",
    "            df_\n",
    "            )"
   ]
  },
  {
   "cell_type": "code",
   "execution_count": null,
   "metadata": {
    "Collapsed": "false"
   },
   "outputs": [],
   "source": [
    "path_inpi = r'C:\\Users\\PERNETTH\\Documents\\Projects\\InseeInpi_matching' \\\n",
    "r'\\Notebooks_matching\\programme_matching\\data\\input\\INPI\\inpi_etb_stock_0.gz'\n",
    "df_inpi = pd.read_csv(path_inpi,compression = 'gzip',low_memory = False)"
   ]
  },
  {
   "cell_type": "code",
   "execution_count": null,
   "metadata": {
    "Collapsed": "false"
   },
   "outputs": [],
   "source": [
    "df_inpi.shape[0] - df_matched.shape[0]"
   ]
  },
  {
   "cell_type": "code",
   "execution_count": null,
   "metadata": {
    "Collapsed": "false"
   },
   "outputs": [],
   "source": [
    "#for i in list(df_matched):\n",
    "#    if i not in list(df_inpi):\n",
    "#        print(i)"
   ]
  },
  {
   "cell_type": "code",
   "execution_count": null,
   "metadata": {
    "Collapsed": "false"
   },
   "outputs": [],
   "source": [
    "df_matched_full = df_inpi.merge(df_matched[\n",
    "    ['index','siret','origin','count_initial_insee', 'count_siren_siret',\n",
    "     'test_address_libelle','test_address_complement','test_join_address',\n",
    "     'test_date','test_1','test_siege','test_voie','test_numero',\n",
    "     'count_duplicates_final','count_duplicates_','test'\n",
    "     ]\n",
    "], on='index', how='inner')"
   ]
  },
  {
   "cell_type": "code",
   "execution_count": null,
   "metadata": {
    "Collapsed": "false"
   },
   "outputs": [],
   "source": [
    "df_matched_full.shape"
   ]
  },
  {
   "cell_type": "markdown",
   "metadata": {
    "Collapsed": "false"
   },
   "source": [
    "## Génération Detail sequence\n"
   ]
  },
  {
   "cell_type": "code",
   "execution_count": null,
   "metadata": {
    "Collapsed": "false"
   },
   "outputs": [],
   "source": [
    "from inpi_insee import siretisation\n",
    "import matplotlib.pyplot as plt"
   ]
  },
  {
   "cell_type": "code",
   "execution_count": null,
   "metadata": {
    "Collapsed": "false"
   },
   "outputs": [],
   "source": [
    "siretisation.crate_graph_report_test(df_matched_full)"
   ]
  },
  {
   "cell_type": "code",
   "execution_count": null,
   "metadata": {
    "Collapsed": "false"
   },
   "outputs": [],
   "source": [
    "siretisation.create_graph_report(df= df_matched_full)"
   ]
  },
  {
   "cell_type": "markdown",
   "metadata": {
    "Collapsed": "false"
   },
   "source": [
    "## Rapport sur les logs"
   ]
  },
  {
   "cell_type": "code",
   "execution_count": null,
   "metadata": {
    "Collapsed": "false"
   },
   "outputs": [],
   "source": [
    "import glob, os, json\n",
    "import pandas as pd\n",
    "data = []\n",
    "#os.chdir(r\"data\\logs\\\")\n",
    "for file in glob.glob(r\"data\\logs\\*.json\"):\n",
    "    with open(file) as f:\n",
    "        for line in f:\n",
    "            data.append(json.loads(line))"
   ]
  },
  {
   "cell_type": "code",
   "execution_count": null,
   "metadata": {
    "Collapsed": "false"
   },
   "outputs": [],
   "source": [
    "logs = pd.json_normalize(data)\n",
    "logs"
   ]
  },
  {
   "cell_type": "markdown",
   "metadata": {
    "Collapsed": "false"
   },
   "source": [
    "Nombre de lignes sirétisées"
   ]
  },
  {
   "cell_type": "code",
   "execution_count": null,
   "metadata": {
    "Collapsed": "false"
   },
   "outputs": [],
   "source": [
    "logs[['total_match_rows_current']].sum()"
   ]
  },
  {
   "cell_type": "markdown",
   "metadata": {
    "Collapsed": "false"
   },
   "source": [
    "Pourcentage de lignes sirétisées"
   ]
  },
  {
   "cell_type": "code",
   "execution_count": null,
   "metadata": {
    "Collapsed": "false"
   },
   "outputs": [],
   "source": [
    "logs[['perc_total_match_rows_initial']].sum()"
   ]
  },
  {
   "cell_type": "markdown",
   "metadata": {
    "Collapsed": "false"
   },
   "source": [
    "Nombre de lignes ayant été trouvé à l'INSEE"
   ]
  },
  {
   "cell_type": "code",
   "execution_count": null,
   "metadata": {
    "Collapsed": "false"
   },
   "outputs": [],
   "source": [
    "logs[['perc_total_match_siren_initial']].sum()"
   ]
  },
  {
   "cell_type": "markdown",
   "metadata": {
    "Collapsed": "false"
   },
   "source": [
    "Graphique sur la séquence ayant aidée à la sirétisation"
   ]
  },
  {
   "cell_type": "code",
   "execution_count": null,
   "metadata": {
    "Collapsed": "false"
   },
   "outputs": [],
   "source": [
    "logs[['perc_total_match_rows_initial',\n",
    "      'perc_total_match_siren_initial']].plot.bar(stacked=False)"
   ]
  },
  {
   "cell_type": "markdown",
   "metadata": {
    "Collapsed": "false"
   },
   "source": [
    "Graphique sur la séquence avec le nombre de lignes sirétisées"
   ]
  },
  {
   "cell_type": "code",
   "execution_count": null,
   "metadata": {
    "Collapsed": "false"
   },
   "outputs": [],
   "source": [
    "logs[['total_match_rows_current']].plot.bar(stacked=False)"
   ]
  },
  {
   "cell_type": "markdown",
   "metadata": {
    "Collapsed": "false"
   },
   "source": [
    "Nombre de SIREN et index non sirétisés"
   ]
  },
  {
   "cell_type": "code",
   "execution_count": null,
   "metadata": {
    "Collapsed": "false"
   },
   "outputs": [],
   "source": [
    "logs[[\"df_duplication.df_sp_index.nb_index\",\n",
    "      'df_duplication.df_sp_index.unique_siren']].plot.bar(stacked=False)"
   ]
  },
  {
   "cell_type": "markdown",
   "metadata": {
    "Collapsed": "false"
   },
   "source": [
    "### Test generation SIREN aléatoire\n",
    "\n",
    "Utile pour faire des vérifications dans l'App"
   ]
  },
  {
   "cell_type": "code",
   "execution_count": null,
   "metadata": {
    "Collapsed": "false"
   },
   "outputs": [],
   "source": [
    "df_matched_full.loc[np.random.randint(low= 1, high= 7000000, size=1)[0]]"
   ]
  },
  {
   "cell_type": "markdown",
   "metadata": {
    "Collapsed": "false"
   },
   "source": [
    "# Save SQL"
   ]
  },
  {
   "cell_type": "code",
   "execution_count": null,
   "metadata": {
    "Collapsed": "false"
   },
   "outputs": [],
   "source": [
    "param = {\n",
    "    'communes_insee': r'data\\input\\communes_france.csv',\n",
    "    'upper_word':r'data\\input\\upper_stop.csv',\n",
    "     \"voie\":r'data\\input\\voie.csv',\n",
    "    'insee': r\"data\\RawData\\INSEE\\Stock\\ETS\\StockEtablissement_utf8.csv\",\n",
    "    'inpi_etb': r\"data\\RawData\\INPI\\Stock\\initial_ETS.gz\",\n",
    "    'date_end':\"2018-01-01\"\n",
    "}\n",
    "prep_data = preparation_data.preparation(param)"
   ]
  },
  {
   "cell_type": "code",
   "execution_count": null,
   "metadata": {
    "Collapsed": "false"
   },
   "outputs": [],
   "source": [
    "reindex = [\n",
    "    \"Code Greffe\", \"Nom_Greffe\",\"Numero_Gestion\",\"RCS_Registre\",\"Date_Greffe\",\n",
    "    \"Libelle_Evt\",\"ID_Etablissement\",\"siren\", \"siret\",\"Nom_Commercial\",\n",
    "    \"Enseigne\",\"Date_Début_Activité\",\"Domiciliataire_Nom\",\n",
    "    \"Domiciliataire_Siren\",\"count_initial_inpi\",\"Domiciliataire_Greffe\",\n",
    "    \"Domiciliataire_Complément\",\"Type\",\"Siège_PM\",\"Activité\",\"Origine_Fonds\",\n",
    "    \"Origine_Fonds_Info\",\"Type_Exploitation\",\"Pays\",\"Ville\",\"ncc\",\"Code_Postal\",\n",
    " \"Code_Commune\",\"Adresse_Ligne1\",\"Adresse_Ligne2\",\"Adresse_Ligne3\",\"Adress_new\",\n",
    " \"Adresse_new_clean_reg\",\"possibilite\",\"INSEE\",\"digit_inpi\",\"list_digit_inpi\",\n",
    " \"len_digit_address_inpi\",\"Siege_Domicile_Représentant\",\"Activité_Ambulante\",\n",
    " \"Activité_Saisonnière\",\"Activité_Non_Sédentaire\",\"origin\",\"count_initial_insee\",\n",
    " \"count_siren_siret\",\"test_address_libelle\",\"test_address_complement\",\n",
    " \"test_join_address\",\"test_date\",\"test_1\",\"test_siege\",\"test_voie\",\"test_numero\",\n",
    " \"count_duplicates_final\",\"count_duplicates_\",\"test\"\n",
    "]"
   ]
  },
  {
   "cell_type": "code",
   "execution_count": null,
   "metadata": {
    "Collapsed": "false"
   },
   "outputs": [],
   "source": [
    "print('Creating SQL database')\n",
    "query = \"CREATE TABLE INPI_MATCHED ( \\\n",
    "Code Greffe, Nom_Greffe,Numero_Gestion,RCS_Registre,Date_Greffe,Libelle_Evt, \\\n",
    " ID_Etablissement,siren, siret,Nom_Commercial,Enseigne,Date_Début_Activité,\\\n",
    " Domiciliataire_Nom,Domiciliataire_Siren,count_initial_inpi,\\\n",
    " Domiciliataire_Greffe,Domiciliataire_Complément,Type,Siège_PM,Activité,\\\n",
    " Origine_Fonds,Origine_Fonds_Info,Type_Exploitation,Pays,Ville,ncc,Code_Postal,\\\n",
    " Code_Commune,Adresse_Ligne1,Adresse_Ligne2,Adresse_Ligne3,Adress_new,\\\n",
    " Adresse_new_clean_reg,possibilite,INSEE,digit_inpi,list_digit_inpi,\\\n",
    " len_digit_address_inpi,Siege_Domicile_Représentant,Activité_Ambulante,\\\n",
    " Activité_Saisonnière,Activité_Non_Sédentaire,origin,count_initial_insee,\\\n",
    " count_siren_siret,test_address_libelle,test_address_complement,\\\n",
    " test_join_address,test_date,test_1,test_siege,test_voie,test_numero,\\\n",
    " count_duplicates_final,count_duplicates_,test)\"\n",
    "\n",
    "prep_data.save_sql(\n",
    "    df = df_matched_full.drop(columns = 'index').reindex(columns = reindex),\n",
    "    db = r'App\\SQL\\inpi_matched.db',\n",
    "    table = 'INPI_MATCHED',\n",
    "    query =query)"
   ]
  },
  {
   "cell_type": "code",
   "execution_count": null,
   "metadata": {
    "Collapsed": "false"
   },
   "outputs": [],
   "source": [
    "df_matched_full.to_csv('data\\\\inpi_etb_test_{}.gz'.format(\n",
    "    df_matched_full.shape[0]),\n",
    "                       compression='gzip', index = False) "
   ]
  }
 ],
 "metadata": {
  "kernelspec": {
   "display_name": "Python 3",
   "language": "python",
   "name": "python3"
  },
  "language_info": {
   "codemirror_mode": {
    "name": "ipython",
    "version": 3
   },
   "file_extension": ".py",
   "mimetype": "text/x-python",
   "name": "python",
   "nbconvert_exporter": "python",
   "pygments_lexer": "ipython3",
   "version": "3.7.6"
  },
  "toc": {
   "base_numbering": 1,
   "nav_menu": {},
   "number_sections": true,
   "sideBar": true,
   "skip_h1_title": false,
   "title_cell": "Table of Contents",
   "title_sidebar": "Contents",
   "toc_cell": false,
   "toc_position": {},
   "toc_section_display": true,
   "toc_window_display": false
  }
 },
 "nbformat": 4,
 "nbformat_minor": 4
}
