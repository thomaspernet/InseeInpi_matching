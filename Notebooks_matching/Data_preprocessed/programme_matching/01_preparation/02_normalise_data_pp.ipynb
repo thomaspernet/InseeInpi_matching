{
 "cells": [
  {
   "cell_type": "markdown",
   "metadata": {},
   "source": [
    "# Prepare ETS Data : normalize address\n",
    "\n",
    "La préparation de la donnée se fait en deux étapes.\n",
    "\n",
    "1. Préparation de l'INPI\n",
    "2. Préparation de l'INSEE\n",
    "\n",
    "L'étape 1 va mettre en conformité la data de l'INPI en vue d'une siretisation. L'étape 2 va utiliser les siren présents lors de l'étape 1 pour ne préparer que ce sous ensemble dans la donnée de l'INSEE.\n",
    "\n",
    "Pour faire la préparation en une seule fois, une machine de 64gb de RAM est nécéssaire!\n",
    "\n",
    "## Detail\n",
    "\n",
    "1. Préparation de l'INPI\n",
    "    input: `data/RawData/INPI/` -> ex: `data/RawData/INPI/Stock/initial_partiel_evt_new_ets_status_final.csv`\n",
    "    output: \n",
    "        - directory: `data/input/INPI/` + `ORIGIN`\n",
    "            - ex:`data/input/INPI/NEW`\n",
    "        - filename: `XX_ORIGIN_0.csv`\n",
    "            - ex `initial_partiel_evt_new_ets_status_final_NEW_0.csv`\n",
    "        - directory: `data/input/SIREN_INPI/` + `ORIGIN`\n",
    "            - ex:`data/input/SIREN_INPI/NEW`\n",
    "        - filename: `XX_ORIGIN_0.csv`\n",
    "            - ex `initial_partiel_evt_new_ets_status_final_NEW_0.csv`\n",
    "2. Préparation de l'INSEE\n",
    "    input: \n",
    "        - CSV INSEE`data/RawData/INSEE/Stock/ETS/` -> ex: `data/RawData/INSEE/Stock/ETS/StockEtablissement_utf8.csv`\n",
    "        - CSV INPI step 1 `data/input/SIREN_INPI/` + `ORIGIN`\n",
    "    output: \n",
    "        - directory: `data/input/INSEE/` + `ORIGIN`\n",
    "            - ex:`data/input/INSEE/NEW`\n",
    "        - filename: `XX_SIZE_ORIGIN.csv`\n",
    "            - ex `insee_1745311_NEW.csv`"
   ]
  },
  {
   "cell_type": "code",
   "execution_count": null,
   "metadata": {},
   "outputs": [],
   "source": [
    "import os, shutil\n",
    "os.chdir('../')\n",
    "current_dir = os.getcwd()\n",
    "from inpi_insee import preparation_data\n",
    "from awsPy.aws_authorization import aws_connector\n",
    "from awsPy.aws_s3 import service_s3\n",
    "from pathlib import Path\n",
    "import pandas as pd\n",
    "%load_ext autoreload\n",
    "%autoreload 2"
   ]
  },
  {
   "cell_type": "markdown",
   "metadata": {},
   "source": [
    "## Download from S3"
   ]
  },
  {
   "cell_type": "code",
   "execution_count": null,
   "metadata": {},
   "outputs": [],
   "source": [
    "bucket = 'calfdata'\n",
    "path = os.getcwd()\n",
    "parent_path = str(Path(path).parent)\n",
    "path_cred = r\"{}/programme_matching/credential_AWS.json\".format(parent_path)\n",
    "con = aws_connector.aws_instantiate(credential = path_cred,\n",
    "                                        region = 'eu-west-3')\n",
    "client= con.client_boto()\n",
    "s3 = service_s3.connect_S3(client = client,\n",
    "                      bucket = 'calfdata') \n"
   ]
  },
  {
   "cell_type": "markdown",
   "metadata": {},
   "source": [
    "Download INPI"
   ]
  },
  {
   "cell_type": "code",
   "execution_count": null,
   "metadata": {},
   "outputs": [],
   "source": [
    "s3.download_file(key= 'INPI/TC_1/02_preparation_donnee/PP/initial_partiel_evt_new_pp_status_final.csv')"
   ]
  },
  {
   "cell_type": "markdown",
   "metadata": {},
   "source": [
    "Download INSEE"
   ]
  },
  {
   "cell_type": "code",
   "execution_count": null,
   "metadata": {},
   "outputs": [],
   "source": [
    "s3.download_file(key= 'INSEE/Stock/ETS/StockEtablissement_utf8.csv')"
   ]
  },
  {
   "cell_type": "code",
   "execution_count": null,
   "metadata": {},
   "outputs": [],
   "source": [
    "os.mkdir(\"data/RawData/INPI/Stock/PP\")"
   ]
  },
  {
   "cell_type": "code",
   "execution_count": null,
   "metadata": {},
   "outputs": [],
   "source": [
    "shutil.move(\"initial_partiel_evt_new_pp_status_final.csv\",\n",
    "            \"data/RawData/INPI/Stock/PP\")"
   ]
  },
  {
   "cell_type": "code",
   "execution_count": null,
   "metadata": {},
   "outputs": [],
   "source": [
    "#os.mkdir(\"data/RawData/INSEE/Stock\")"
   ]
  },
  {
   "cell_type": "code",
   "execution_count": null,
   "metadata": {},
   "outputs": [],
   "source": [
    "os.mkdir(\"data/RawData/INSEE/Stock/PP\")"
   ]
  },
  {
   "cell_type": "code",
   "execution_count": null,
   "metadata": {},
   "outputs": [],
   "source": [
    "shutil.move(\"StockEtablissement_utf8.csv\",\n",
    "            \"data/RawData/INSEE/Stock/PP\")"
   ]
  },
  {
   "cell_type": "code",
   "execution_count": null,
   "metadata": {},
   "outputs": [],
   "source": [
    "#etb_ex = 'https://scm.saas.cagip.group.gca/PERNETTH/inseeinpi_matching/raw'\\\n",
    "#'/master/Notebooks_matching/Data_preprocessed/programme_matching/data/RawData' \\\n",
    "#'/INPI/Stock/initial_partiel_evt_new_pp_status_final_exemple.csv'\n",
    "\n",
    "etb_ex = \"data/RawData/INPI/Stock/PP/initial_partiel_evt_new_pp_status_final.csv\"\n",
    "\n",
    "commune = 'https://scm.saas.cagip.group.gca/PERNETTH/inseeinpi_matching/raw' \\\n",
    "'/master/Notebooks_matching/Data_preprocessed/programme_matching/data/input' \\\n",
    "'/Parameters/communes_france.csv'\n",
    "\n",
    "voie = 'https://scm.saas.cagip.group.gca/PERNETTH/inseeinpi_matching/raw' \\\n",
    "'/master/Notebooks_matching/Data_preprocessed/programme_matching/data/input' \\\n",
    "'/Parameters/voie.csv'\n",
    "\n",
    "stopword ='https://scm.saas.cagip.group.gca/PERNETTH/inseeinpi_matching/raw' \\\n",
    "'/master/Notebooks_matching/Data_preprocessed/programme_matching/data/input' \\\n",
    "'/Parameters/upper_stop.csv'\n",
    "\n",
    "param = {\n",
    "    'communes_insee': commune,\n",
    "    'upper_word':stopword,\n",
    "     \"voie\": voie,\n",
    "    'insee':  \"data/RawData/INSEE/Stock/ETS/StockEtablissement_utf8.csv\",\n",
    "    'inpi_etb': etb_ex,\n",
    "    'date_end':\"2020-01-01\"\n",
    "}\n",
    "prep_data = preparation_data.preparation(param)"
   ]
  },
  {
   "cell_type": "markdown",
   "metadata": {},
   "source": [
    "# Step by step approach\n",
    "\n",
    "Le code est lent car le VPN ralentie le téléchargement de la donnée. Le fichier commune fait 7MO"
   ]
  },
  {
   "cell_type": "markdown",
   "metadata": {},
   "source": [
    "## Creation NCC\n",
    "\n",
    "Le détail de la fonction pour créer la variable ncc est disponible [ici](https://scm.saas.cagip.group.gca/PERNETTH/inseeinpi_matching/blob/master/Notebooks_matching/Data_preprocessed/programme_matching/inpi_insee/preparation_data.py#L131) "
   ]
  },
  {
   "cell_type": "code",
   "execution_count": null,
   "metadata": {},
   "outputs": [],
   "source": [
    "pd.set_option('display.max_columns', None)"
   ]
  },
  {
   "cell_type": "code",
   "execution_count": null,
   "metadata": {},
   "outputs": [],
   "source": [
    "df_inpi = pd.read_csv(param['inpi_etb'])\n",
    "df_inpi.head()"
   ]
  },
  {
   "cell_type": "code",
   "execution_count": null,
   "metadata": {},
   "outputs": [],
   "source": [
    "prep_data.clean_commune(df_inpi).head()[['siren','ville', 'ncc']]"
   ]
  },
  {
   "cell_type": "markdown",
   "metadata": {},
   "source": [
    "## Creation adresse_new_clean_reg, digit_inoi & INSEE\n",
    "\n",
    "- Le détail de la fonction pour créer la variable adresse_new_clean_reg est disponible [ici](https://scm.saas.cagip.group.gca/PERNETTH/inseeinpi_matching/blob/master/Notebooks_matching/Data_preprocessed/programme_matching/inpi_insee/preparation_data.py#L270) \n",
    "- Le détail de la fonction pour créer la variable digit_inoi est disponible [ici](https://scm.saas.cagip.group.gca/PERNETTH/inseeinpi_matching/blob/master/Notebooks_matching/Data_preprocessed/programme_matching/inpi_insee/preparation_data.py#L315) \n",
    "- Le détail de la fonction pour créer la variable INSEE est disponible [ici](https://scm.saas.cagip.group.gca/PERNETTH/inseeinpi_matching/blob/master/Notebooks_matching/Data_preprocessed/programme_matching/inpi_insee/preparation_data.py#L325) "
   ]
  },
  {
   "cell_type": "code",
   "execution_count": null,
   "metadata": {},
   "outputs": [],
   "source": [
    "pd.read_csv(param['upper_word']).head()"
   ]
  },
  {
   "cell_type": "code",
   "execution_count": null,
   "metadata": {},
   "outputs": [],
   "source": [
    "pd.read_csv(param['voie']).head()"
   ]
  },
  {
   "cell_type": "code",
   "execution_count": null,
   "metadata": {},
   "outputs": [],
   "source": [
    "prep_data.prepare_adress(df_inpi).head()[['siren',\n",
    "                                          'adresse_ligne1',\n",
    "                                          'adresse_ligne2',\n",
    "                                          'adresse_ligne3',\n",
    "                                          'adress_new',\n",
    "                                          'adresse_new_clean_reg',\n",
    "                                          'digit_inpi',\n",
    "                                          'INSEE',\n",
    "                                          'possibilite']]"
   ]
  },
  {
   "cell_type": "markdown",
   "metadata": {},
   "source": [
    "## Full pipeline"
   ]
  },
  {
   "cell_type": "markdown",
   "metadata": {},
   "source": [
    "Origin:\n",
    "\n",
    "- Initial: 7,575,462\n",
    "- Partiel: 550,544\n",
    "- NEW: 3,989,209\n",
    "- EVT: 1,332,466\n",
    "\n",
    "Il faut faire un par un, puis relancer le notebook pour relacher la mémoire"
   ]
  },
  {
   "cell_type": "markdown",
   "metadata": {},
   "source": [
    "Clean dossiers"
   ]
  },
  {
   "cell_type": "code",
   "execution_count": null,
   "metadata": {},
   "outputs": [],
   "source": [
    "import glob\n",
    "\n",
    "files = glob.glob('data/input/INPI/InitialPartielEVTNEW/*')\n",
    "for f in files:\n",
    "    os.remove(f)\n",
    "os.rmdir('data/input/INPI/InitialPartielEVTNEW')"
   ]
  },
  {
   "cell_type": "code",
   "execution_count": null,
   "metadata": {},
   "outputs": [],
   "source": [
    "files = glob.glob('data/output/InitialPartielEVTNEW/*')\n",
    "for f in files:\n",
    "    os.remove(f)\n",
    "try:\n",
    "    os.rmdir('data/output/InitialPartielEVTNEW')\n",
    "except:\n",
    "    pass"
   ]
  },
  {
   "cell_type": "code",
   "execution_count": null,
   "metadata": {},
   "outputs": [],
   "source": [
    "files = glob.glob('data/input/INPI/special_treatment/InitialPartielEVTNEW/*')\n",
    "for f in files:\n",
    "    os.remove(f)\n",
    "try:\n",
    "    os.rmdir('data/input/INPI/special_treatment/InitialPartielEVTNEW')\n",
    "except:\n",
    "    pass"
   ]
  },
  {
   "cell_type": "code",
   "execution_count": null,
   "metadata": {},
   "outputs": [],
   "source": [
    "files = glob.glob('data/input/SIREN_INPI/InitialPartielEVTNEW/*')\n",
    "for f in files:\n",
    "    os.remove(f)\n",
    "try:\n",
    "    os.rmdir('data/input/SIREN_INPI/InitialPartielEVTNEW')\n",
    "except:\n",
    "    pass"
   ]
  },
  {
   "cell_type": "code",
   "execution_count": null,
   "metadata": {},
   "outputs": [],
   "source": [
    "files = glob.glob('data/input/INSEE/InitialPartielEVTNEW/*')\n",
    "for f in files:\n",
    "    os.remove(f)\n",
    "try:\n",
    "    os.rmdir('data/input/INSEE/InitialPartielEVTNEW')\n",
    "except:\n",
    "    pass"
   ]
  },
  {
   "cell_type": "markdown",
   "metadata": {},
   "source": [
    "Préparation de la normalisation. Il faut être patient. Cela durent environ 25 minutes"
   ]
  },
  {
   "cell_type": "code",
   "execution_count": null,
   "metadata": {},
   "outputs": [],
   "source": [
    "%%time\n",
    "prep_data.normalize_inpi(\n",
    "    origin =['Initial','Partiel','EVT','NEW'],\n",
    "    save_gz = True)"
   ]
  },
  {
   "cell_type": "code",
   "execution_count": null,
   "metadata": {},
   "outputs": [],
   "source": [
    "%%time\n",
    "path = 'data/input/SIREN_INPI/InitialPartielEVTNEW/' \\\n",
    "'inpi_SIREN_initial_partiel_evt_new_pp_status_final_InitialPartielEVTNEW.csv'\n",
    "\n",
    "prep_data.normalize_insee(\n",
    "   path,\n",
    "    save_gz = True)"
   ]
  }
 ],
 "metadata": {
  "jupytext": {
   "formats": "ipynb,md"
  },
  "kernelspec": {
   "display_name": "Python 3",
   "language": "python",
   "name": "python3"
  },
  "language_info": {
   "codemirror_mode": {
    "name": "ipython",
    "version": 3
   },
   "file_extension": ".py",
   "mimetype": "text/x-python",
   "name": "python",
   "nbconvert_exporter": "python",
   "pygments_lexer": "ipython3",
   "version": "3.7.6"
  }
 },
 "nbformat": 4,
 "nbformat_minor": 4
}
