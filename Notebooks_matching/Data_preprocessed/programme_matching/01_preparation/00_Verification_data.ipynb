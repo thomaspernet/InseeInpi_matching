{
 "cells": [
  {
   "cell_type": "markdown",
   "metadata": {},
   "source": [
    "# Verification Data s3\n",
    "\n",
    "Dans ce notebook, on ouvre un fichier de chaque Stock/Flux pour etre sur de la conformité de la data.\n",
    "\n",
    "## ETS\n",
    "Les fichiers suivants vont être ouverts (ETB uniquement):\n",
    "\n",
    "- Stock\n",
    "    - Initial: INPI/TC_1/01_donnee_source/Stock/Stock_Initial/2017/ETS/0101_S1_20170504_8_ets.csv\n",
    "    - Partiel\n",
    "        - 2018: INPI/TC_1/01_donnee_source/Stock/Stock_Partiel/2018/ETS/0101_S2_20180824_8_ets.csv\n",
    "        - 2019: INPI/TC_1/01_donnee_source/Stock/Stock_Partiel/2019/ETS/4002_S6_20191125_8_ets.csv\n",
    "- Flux\n",
    "    - 2017:\n",
    "        - NEW: INPI/TC_1/01_donnee_source/Flux/2017/ETS/NEW/0101_10_20170519_063335_8_ets.csv\n",
    "        - EVT: INPI/TC_1/01_donnee_source/Flux/2017/ETS/EVT/0101_10_20170519_063335_10_ets_supprime_EVT.csv\n",
    "    - 2018:\n",
    "        - NEW: INPI/TC_1/01_donnee_source/Flux/2018/ETS/NEW/0101_228_20180407_230513_8_ets.csv\n",
    "        - EVT: INPI/TC_1/01_donnee_source/Flux/2018/ETS/EVT/0101_228_20180407_230513_10_ets_supprime_EVT.csv\n",
    "    - 2019:\n",
    "        - NEW: INPI/TC_1/01_donnee_source/Flux/2019/ETS/NEW/0101_486_20190101_085840_8_ets.csv\n",
    "        - EVT: INPI/TC_1/01_donnee_source/Flux/2019/ETS/EVT/0101_486_20190101_085840_10_ets_supprime_EVT.csv\n",
    "      \n",
    "## PP\n",
    "\n",
    "## PM\n",
    "\n",
    "## REP\n",
    "\n",
    "## ACTES\n",
    "\n",
    "## OBS \n",
    "\n",
    "## COMPTES_ANNUELS"
   ]
  },
  {
   "cell_type": "code",
   "execution_count": null,
   "metadata": {},
   "outputs": [],
   "source": [
    "from awsPy.aws_authorization import aws_connector\n",
    "from awsPy.aws_s3 import service_s3\n",
    "import os\n",
    "from pathlib import Path\n",
    "import pandas as pd"
   ]
  },
  {
   "cell_type": "code",
   "execution_count": null,
   "metadata": {},
   "outputs": [],
   "source": [
    "bucket = 'calfdata'\n",
    "path = os.getcwd()\n",
    "parent_path = str(Path(path).parent)\n",
    "path_cred = \"{}/credential_AWS.json\".format(parent_path)\n",
    "con = aws_connector.aws_instantiate(credential = path_cred,\n",
    "                                        region = 'eu-west-3')\n",
    "client= con.client_boto()\n",
    "s3 = service_s3.connect_S3(client = client,\n",
    "                      bucket = 'calfdata') "
   ]
  },
  {
   "cell_type": "code",
   "execution_count": null,
   "metadata": {},
   "outputs": [],
   "source": [
    "list_check_ets = ['INPI/TC_1/01_donnee_source/Stock/Stock_Initial/2017/ETS/0101_S1_20170504_8_ets.csv',\n",
    "             'INPI/TC_1/01_donnee_source/Stock/Stock_Partiel/2018/ETS/0101_S2_20180824_8_ets.csv',\n",
    "              'INPI/TC_1/01_donnee_source/Stock/Stock_Partiel/2019/ETS/4002_S6_20191125_8_ets.csv',\n",
    "              'INPI/TC_1/01_donnee_source/Flux/2017/ETS/NEW/0101_10_20170519_063335_8_ets.csv',\n",
    "              'INPI/TC_1/01_donnee_source/Flux/2017/ETS/EVT/0101_10_20170519_063335_10_ets_supprime_EVT.csv',\n",
    "              'INPI/TC_1/01_donnee_source/Flux/2018/ETS/NEW/0101_228_20180407_230513_8_ets.csv',\n",
    "              'INPI/TC_1/01_donnee_source/Flux/2018/ETS/EVT/0101_228_20180407_230513_10_ets_supprime_EVT.csv',\n",
    "              'INPI/TC_1/01_donnee_source/Flux/2019/ETS/NEW/0101_486_20190101_085840_8_ets.csv',\n",
    "              'INPI/TC_1/01_donnee_source/Flux/2019/ETS/EVT/0101_486_20190101_085840_10_ets_supprime_EVT.csv'\n",
    "             ]\n",
    "\n",
    "list_check_pm = []"
   ]
  },
  {
   "cell_type": "markdown",
   "metadata": {},
   "source": [
    "Results\n",
    "\n",
    "- Formatage correct:\n",
    "    - Stock\n",
    "        - Initial\n",
    "        - Partiel\n",
    "    - Flux\n",
    "        - 2017\n",
    "            - NEW\n",
    "            - EVT"
   ]
  },
  {
   "cell_type": "code",
   "execution_count": null,
   "metadata": {},
   "outputs": [],
   "source": [
    "s3.read_df_from_s3(key = \n",
    "                        'INPI/TC_1/01_donnee_source/Flux/2017/PP/NEW/0101_100_20171003_074607_3_PP.csv',\n",
    "                   sep = \";\").head()"
   ]
  },
  {
   "cell_type": "code",
   "execution_count": null,
   "metadata": {},
   "outputs": [],
   "source": [
    "s3.read_df_from_s3(key = \n",
    "                        'INPI/TC_1/01_donnee_source/Stock/Stock_Initial/2017/ETS/0101_S1_20170504_8_ets.csv',\n",
    "                   sep = \";\").head()"
   ]
  },
  {
   "cell_type": "code",
   "execution_count": null,
   "metadata": {},
   "outputs": [],
   "source": [
    "s3.read_df_from_s3(key = \n",
    "                        'INPI/TC_1/01_donnee_source/Stock/Stock_Partiel/2018/ETS/0101_S2_20180824_8_ets.csv',\n",
    "                   sep = \";\").head()"
   ]
  },
  {
   "cell_type": "code",
   "execution_count": null,
   "metadata": {},
   "outputs": [],
   "source": [
    "s3.read_df_from_s3(key = \n",
    "                        'INPI/TC_1/01_donnee_source/Stock/Stock_Partiel/2019/ETS/4002_S6_20191125_8_ets.csv',\n",
    "                   sep = \";\").head()"
   ]
  },
  {
   "cell_type": "code",
   "execution_count": null,
   "metadata": {},
   "outputs": [],
   "source": [
    "s3.read_df_from_s3(key = \n",
    "                        'INPI/TC_1/01_donnee_source/Flux/2017/ETS/NEW/0101_10_20170519_063335_8_ets.csv',\n",
    "                   sep = \";\").head()"
   ]
  },
  {
   "cell_type": "code",
   "execution_count": null,
   "metadata": {},
   "outputs": [],
   "source": [
    "s3.read_df_from_s3(key = \n",
    "                        'INPI/TC_1/01_donnee_source/Flux/2017/ETS/EVT/0101_10_20170519_063335_10_ets_supprime_EVT.csv',\n",
    "                   sep = \";\").head()"
   ]
  },
  {
   "cell_type": "markdown",
   "metadata": {},
   "source": [
    "- Formatage correct:\n",
    "    - Flux\n",
    "        - 2018/2019\n",
    "            - NEW\n",
    "            - EVT"
   ]
  },
  {
   "cell_type": "code",
   "execution_count": null,
   "metadata": {},
   "outputs": [],
   "source": [
    "s3.read_df_from_s3(key = \n",
    "                        'INPI/TC_1/01_donnee_source/Flux/2018/ETS/NEW/0101_228_20180407_230513_8_ets.csv',\n",
    "                   sep = \";\").head()"
   ]
  },
  {
   "cell_type": "code",
   "execution_count": null,
   "metadata": {},
   "outputs": [],
   "source": [
    "s3.read_df_from_s3(key = \n",
    "                        'INPI/TC_1/01_donnee_source/Flux/2018/ETS/EVT/0101_228_20180407_230513_10_ets_supprime_EVT.csv',\n",
    "                   sep = \";\").head()"
   ]
  },
  {
   "cell_type": "code",
   "execution_count": null,
   "metadata": {},
   "outputs": [],
   "source": [
    "s3.read_df_from_s3(key = \n",
    "                        'INPI/TC_1/01_donnee_source/Flux/2019/ETS/NEW/0101_486_20190101_085840_8_ets.csv',\n",
    "                   sep = \";\").head()"
   ]
  },
  {
   "cell_type": "code",
   "execution_count": null,
   "metadata": {},
   "outputs": [],
   "source": [
    "s3.read_df_from_s3(key = \n",
    "                        'INPI/TC_1/01_donnee_source/Flux/2019/ETS/EVT/0101_486_20190101_085840_10_ets_supprime_EVT.csv',\n",
    "                   sep = \";\").head()"
   ]
  }
 ],
 "metadata": {
  "kernelspec": {
   "display_name": "Python 3",
   "language": "python",
   "name": "python3"
  },
  "language_info": {
   "codemirror_mode": {
    "name": "ipython",
    "version": 3
   },
   "file_extension": ".py",
   "mimetype": "text/x-python",
   "name": "python",
   "nbconvert_exporter": "python",
   "pygments_lexer": "ipython3",
   "version": "3.7.7"
  }
 },
 "nbformat": 4,
 "nbformat_minor": 4
}
