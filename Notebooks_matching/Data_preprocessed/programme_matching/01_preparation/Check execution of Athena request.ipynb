{
 "cells": [
  {
   "cell_type": "code",
   "execution_count": 1,
   "metadata": {},
   "outputs": [],
   "source": [
    "from awsPy.aws_authorization import aws_connector\n",
    "from awsPy.aws_s3 import service_s3\n",
    "from awsPy.aws_athena import service_athena\n",
    "import os, time\n",
    "from pathlib import Path"
   ]
  },
  {
   "cell_type": "code",
   "execution_count": 2,
   "metadata": {},
   "outputs": [],
   "source": [
    "bucket = 'calfdata'\n",
    "path = os.getcwd()\n",
    "parent_path = str(Path(path).parent)\n",
    "path_cred = \"{}/credential_AWS.json\".format(parent_path)\n",
    "con = aws_connector.aws_instantiate(credential = path_cred,\n",
    "                                        region = 'eu-west-3')\n",
    "client= con.client_boto()\n",
    "s3 = service_s3.connect_S3(client = client,\n",
    "                      bucket = 'calfdata') \n",
    "athena = service_athena.connect_athena(client = client,\n",
    "                      bucket = 'calfdata') "
   ]
  },
  {
   "cell_type": "code",
   "execution_count": 13,
   "metadata": {},
   "outputs": [],
   "source": [
    "exec_id='487087bf-19d0-473c-ba28-843d78b35ff4'"
   ]
  },
  {
   "cell_type": "code",
   "execution_count": 14,
   "metadata": {
    "scrolled": false
   },
   "outputs": [
    {
     "name": "stdout",
     "output_type": "stream",
     "text": [
      "exec_id : 487087bf-19d0-473c-ba28-843d78b35ff4\n",
      "\n",
      "State : SUCCEEDED\n",
      "\n",
      "DataScannedInBytes : 0\n",
      "\n",
      "Query : \n",
      "\n",
      "CREATE EXTERNAL TABLE IF NOT EXISTS inpi.initial_partiel_evt_new_rep_status (\n",
      "\n",
      "`Code Greffe` string,\n",
      "`Nom_Greffe` string,\n",
      "`Numero_Gestion` string,\n",
      "`Siren` string,\n",
      "\n",
      "`file_timestamp` string,\n",
      "`max_partiel` string,\n",
      "`status` string,\n",
      "`origin` string,\n",
      "`Libelle_Evt` string,\n",
      "`Date_Greffe` string    ,\n",
      "\n",
      "`Type` string,\n",
      "`Nom_Patronymique` string,\n",
      "`Nom_Usage` string,\n",
      "`Pseudonyme` string,\n",
      "`Prénoms` string,\n",
      "`Dénomination` string,\n",
      "`Siren_PM` string,\n",
      "`Forme_Juridique` string,\n",
      "`Adresse_Ligne1` string,\n",
      "`Adresse_Ligne2` string,\n",
      "`Adresse_Ligne3` string,\n",
      "`Code_Postal` string,\n",
      "`Ville` string,\n",
      "`Code_Commune` string,\n",
      "`Pays` string,\n",
      "`Date_Naissance` string,\n",
      "`Ville_Naissance` string,\n",
      "`Pays_Naissance` string,\n",
      "`Nationalité` string,\n",
      "`Qualité` string,\n",
      "`Rep_Perm_Nom` string,\n",
      "`Rep_Perm_Nom_Usage` string,\n",
      "`Rep_Perm_Pseudo` string,\n",
      "`Rep_Perm_Prénoms` string,\n",
      "`Rep_Perm_Date_Naissance` string,\n",
      "`Rep_Perm_Ville_Naissance` string,\n",
      "`Rep_Perm_Pays_Naissance` string,\n",
      "`Rep_Perm_Nationalité` string,\n",
      "`Rep_Perm_Adr_Ligne1` string,\n",
      "`Rep_Perm_Adr_Ligne2` string,\n",
      "`Rep_Perm_Adr_Ligne3` string,\n",
      "`Rep_Perm_Code_Postal` string,\n",
      "`Rep_Perm_Ville` string,\n",
      "`Rep_Perm_Code_Commune` string,\n",
      "`Rep_Perm_Pays` string,\n",
      "`Conjoint_Collab_Nom_Patronym` string,\n",
      "`Conjoint_Collab_Nom_Usage` string,\n",
      "`Conjoint_Collab_Pseudo` string,\n",
      "`Conjoint_Collab_Prénoms` string,\n",
      "`Conjoint_Collab_Date_Fin` string,\n",
      "`ID_Représentant` string,\n",
      "\n",
      "`csv_source` string\n",
      ")\n",
      "     ROW FORMAT SERDE 'org.apache.hadoop.hive.serde2.OpenCSVSerde'\n",
      "    WITH SERDEPROPERTIES (\n",
      "   'separatorChar' = ',',\n",
      "   'quoteChar' = '\"'\n",
      "   )\n",
      "     LOCATION 's3://calfdata/INPI/sql_output_status_rep'\n",
      "     TBLPROPERTIES ('has_encrypted_data'='false',\n",
      "              'skip.header.line.count'='1')\n"
     ]
    }
   ],
   "source": [
    "response = client['athena'].batch_get_query_execution(\n",
    "    QueryExecutionIds=[exec_id]\n",
    ")\n",
    "\n",
    "state=response.get(\"QueryExecutions\")[0].get(\"Status\").get(\"State\")\n",
    "DataScannedInBytes=response.get(\"QueryExecutions\")[0].get(\"Statistics\").get(\"DataScannedInBytes\")\n",
    "query=response.get(\"QueryExecutions\")[0].get(\"Query\")\n",
    "\n",
    "print('exec_id : ' + exec_id +'\\n')\n",
    "print('State : ' + state +'\\n')\n",
    "print('DataScannedInBytes : ' + str(DataScannedInBytes) +'\\n')\n",
    "print('Query : \\n\\n' + query)"
   ]
  },
  {
   "cell_type": "code",
   "execution_count": null,
   "metadata": {},
   "outputs": [],
   "source": [
    "# Read table in s3\n",
    "df=s3.read_df_from_s3(key = \n",
    "                        'INPI/sql_output_status_rep/initial_partiel_evt_new_rep_status.csv',\n",
    "                   sep = \";\")"
   ]
  },
  {
   "cell_type": "code",
   "execution_count": null,
   "metadata": {},
   "outputs": [],
   "source": []
  }
 ],
 "metadata": {
  "kernelspec": {
   "display_name": "Python 3",
   "language": "python",
   "name": "python3"
  },
  "language_info": {
   "codemirror_mode": {
    "name": "ipython",
    "version": 3
   },
   "file_extension": ".py",
   "mimetype": "text/x-python",
   "name": "python",
   "nbconvert_exporter": "python",
   "pygments_lexer": "ipython3",
   "version": "3.7.0"
  }
 },
 "nbformat": 4,
 "nbformat_minor": 2
}
