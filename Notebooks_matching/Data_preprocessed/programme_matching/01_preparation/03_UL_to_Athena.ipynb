{
 "cells": [
  {
   "cell_type": "markdown",
   "metadata": {},
   "source": [
    "# Insee UL to Athena"
   ]
  },
  {
   "cell_type": "code",
   "execution_count": null,
   "metadata": {},
   "outputs": [],
   "source": [
    "from awsPy.aws_authorization import aws_connector\n",
    "from awsPy.aws_s3 import service_s3\n",
    "from awsPy.aws_athena import service_athena\n",
    "import os, time\n",
    "from pathlib import Path"
   ]
  },
  {
   "cell_type": "code",
   "execution_count": null,
   "metadata": {},
   "outputs": [],
   "source": [
    "bucket = 'calfdata'\n",
    "path = os.getcwd()\n",
    "parent_path = str(Path(path).parent)\n",
    "path_cred = \"{}/credential_AWS.json\".format(parent_path)\n",
    "con = aws_connector.aws_instantiate(credential = path_cred,\n",
    "                                        region = 'eu-west-3')\n",
    "client= con.client_boto()\n",
    "s3 = service_s3.connect_S3(client = client,\n",
    "                      bucket = 'calfdata') \n",
    "athena = service_athena.connect_athena(client = client,\n",
    "                      bucket = 'calfdata') "
   ]
  },
  {
   "cell_type": "code",
   "execution_count": null,
   "metadata": {},
   "outputs": [],
   "source": [
    "varname = s3.read_df_from_s3(key = 'INSEE/variables_name/dessinstockunitelegale.csv',\n",
    "                sep = ',',encoding = None)"
   ]
  },
  {
   "cell_type": "markdown",
   "metadata": {},
   "source": [
    "## Create Table"
   ]
  },
  {
   "cell_type": "code",
   "execution_count": null,
   "metadata": {},
   "outputs": [],
   "source": [
    "output = athena.run_query(\n",
    "                        query=\"DROP TABLE `insee_ul`\",\n",
    "                        database = \"inpi\",\n",
    "    s3_output='INSEE/sql_output')"
   ]
  },
  {
   "cell_type": "code",
   "execution_count": null,
   "metadata": {},
   "outputs": [],
   "source": [
    "query_tb = \\\n",
    "    \"\"\"CREATE EXTERNAL TABLE IF NOT EXISTS inpi.insee_ul (\n",
    "    {0}\n",
    "\n",
    "    )\n",
    "     ROW FORMAT SERDE 'org.apache.hadoop.hive.serde2.OpenCSVSerde'\n",
    "    WITH SERDEPROPERTIES (\n",
    "   'separatorChar' = ',',\n",
    "   'quoteChar' = '\"'\n",
    "   )\n",
    "     LOCATION 's3://calfdata/INSEE/00_rawData/UL'\n",
    "     TBLPROPERTIES ('has_encrypted_data'='false',\n",
    "              'skip.header.line.count'='1');\"\"\""
   ]
  },
  {
   "cell_type": "code",
   "execution_count": null,
   "metadata": {},
   "outputs": [],
   "source": [
    "varname.iloc[i, 0]"
   ]
  },
  {
   "cell_type": "code",
   "execution_count": null,
   "metadata": {},
   "outputs": [],
   "source": [
    "field = \"\"\n",
    "for i, v in enumerate(varname.sort_values(by = 'Ordre')['Type']):\n",
    "    if i != varname.shape[0] -1:\n",
    "        if v == \"Numérique\":\n",
    "            field += \"`{}` integer, \\n\".format(varname.sort_values(\n",
    "                by = 'Ordre').iloc[i, 0])\n",
    "        else:\n",
    "             field += \"`{}` string, \\n\".format(varname.sort_values(\n",
    "                 by = 'Ordre').iloc[i, 0])\n",
    "    else:\n",
    "        if v == \"Numérique\":\n",
    "            field += \"`{}` integer \\n\".format(varname.sort_values(\n",
    "                by = 'Ordre').iloc[i, 0])\n",
    "        else:\n",
    "             field += \"`{}` string \\n\".format(varname.sort_values(\n",
    "                 by = 'Ordre').iloc[i, 0])"
   ]
  },
  {
   "cell_type": "code",
   "execution_count": null,
   "metadata": {},
   "outputs": [],
   "source": [
    "print(query_tb.format(field))"
   ]
  },
  {
   "cell_type": "code",
   "execution_count": null,
   "metadata": {},
   "outputs": [],
   "source": [
    "athena.run_query(query_tb.format(field),\n",
    "                 database='inpi',\n",
    "                 s3_output='INSEE/sql_output'\n",
    "                )"
   ]
  }
 ],
 "metadata": {
  "jupytext": {
   "formats": "ipynb,md"
  },
  "kernelspec": {
   "display_name": "Python 3",
   "language": "python",
   "name": "python3"
  },
  "language_info": {
   "codemirror_mode": {
    "name": "ipython",
    "version": 3
   },
   "file_extension": ".py",
   "mimetype": "text/x-python",
   "name": "python",
   "nbconvert_exporter": "python",
   "pygments_lexer": "ipython3",
   "version": "3.7.6"
  }
 },
 "nbformat": 4,
 "nbformat_minor": 4
}
