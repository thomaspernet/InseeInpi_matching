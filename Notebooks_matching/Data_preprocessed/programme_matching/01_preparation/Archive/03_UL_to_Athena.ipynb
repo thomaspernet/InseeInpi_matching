{
 "cells": [
  {
   "cell_type": "markdown",
   "metadata": {},
   "source": [
    "# Insee UL to Athena"
   ]
  },
  {
   "cell_type": "code",
   "execution_count": 1,
   "metadata": {},
   "outputs": [],
   "source": [
    "from awsPy.aws_authorization import aws_connector\n",
    "from awsPy.aws_s3 import service_s3\n",
    "from awsPy.aws_athena import service_athena\n",
    "import os, time\n",
    "from pathlib import Path"
   ]
  },
  {
   "cell_type": "code",
   "execution_count": 2,
   "metadata": {},
   "outputs": [],
   "source": [
    "bucket = 'calfdata'\n",
    "path = os.getcwd()\n",
    "parent_path = str(Path(path).parent)\n",
    "path_cred = \"{}/credential_AWS.json\".format(parent_path)\n",
    "con = aws_connector.aws_instantiate(credential = path_cred,\n",
    "                                        region = 'eu-west-3')\n",
    "client= con.client_boto()\n",
    "s3 = service_s3.connect_S3(client = client,\n",
    "                      bucket = 'calfdata') \n",
    "athena = service_athena.connect_athena(client = client,\n",
    "                      bucket = 'calfdata') "
   ]
  },
  {
   "cell_type": "code",
   "execution_count": 3,
   "metadata": {},
   "outputs": [],
   "source": [
    "varname = s3.read_df_from_s3(key = 'INSEE/variables_name/dessinstockunitelegale.csv',\n",
    "                sep = ',',encoding = None)"
   ]
  },
  {
   "cell_type": "markdown",
   "metadata": {},
   "source": [
    "## Create Table"
   ]
  },
  {
   "cell_type": "code",
   "execution_count": 4,
   "metadata": {},
   "outputs": [
    {
     "name": "stdout",
     "output_type": "stream",
     "text": [
      "Execution ID: 654d9653-df89-46bf-8a5a-05b601af35d5\n"
     ]
    }
   ],
   "source": [
    "output = athena.run_query(\n",
    "                        query=\"DROP TABLE `insee_ul`\",\n",
    "                        database = \"inpi\",\n",
    "    s3_output='INSEE/sql_output')"
   ]
  },
  {
   "cell_type": "code",
   "execution_count": 5,
   "metadata": {},
   "outputs": [],
   "source": [
    "query_tb = \\\n",
    "    \"\"\"CREATE EXTERNAL TABLE IF NOT EXISTS inpi.insee_ul (\n",
    "    {0}\n",
    "\n",
    "    )\n",
    "     ROW FORMAT SERDE 'org.apache.hadoop.hive.serde2.OpenCSVSerde'\n",
    "    WITH SERDEPROPERTIES (\n",
    "   'separatorChar' = ',',\n",
    "   'quoteChar' = '\"'\n",
    "   )\n",
    "     LOCATION 's3://calfdata/INSEE/00_rawData/UL'\n",
    "     TBLPROPERTIES ('has_encrypted_data'='false',\n",
    "              'skip.header.line.count'='1');\"\"\""
   ]
  },
  {
   "cell_type": "code",
   "execution_count": null,
   "metadata": {},
   "outputs": [],
   "source": [
    "varname.iloc[i, 0]"
   ]
  },
  {
   "cell_type": "code",
   "execution_count": 6,
   "metadata": {},
   "outputs": [],
   "source": [
    "field = \"\"\n",
    "for i, v in enumerate(varname.sort_values(by = 'Ordre')['Type']):\n",
    "    if i != varname.shape[0] -1:\n",
    "        if v == \"Numérique\":\n",
    "            field += \"`{}` integer, \\n\".format(varname.sort_values(\n",
    "                by = 'Ordre').iloc[i, 0])\n",
    "        else:\n",
    "             field += \"`{}` string, \\n\".format(varname.sort_values(\n",
    "                 by = 'Ordre').iloc[i, 0])\n",
    "    else:\n",
    "        if v == \"Numérique\":\n",
    "            field += \"`{}` integer \\n\".format(varname.sort_values(\n",
    "                by = 'Ordre').iloc[i, 0])\n",
    "        else:\n",
    "             field += \"`{}` string \\n\".format(varname.sort_values(\n",
    "                 by = 'Ordre').iloc[i, 0])"
   ]
  },
  {
   "cell_type": "code",
   "execution_count": null,
   "metadata": {},
   "outputs": [],
   "source": [
    "print(query_tb.format(field))"
   ]
  },
  {
   "cell_type": "code",
   "execution_count": 7,
   "metadata": {},
   "outputs": [
    {
     "name": "stdout",
     "output_type": "stream",
     "text": [
      "Execution ID: 235bbbb1-3540-4f7f-9c98-c0c768d11a2c\n"
     ]
    },
    {
     "data": {
      "text/plain": [
       "{'QueryExecutionId': '235bbbb1-3540-4f7f-9c98-c0c768d11a2c',\n",
       " 'ResponseMetadata': {'RequestId': 'e58e5288-a5a3-4919-afda-1aa49c29ff92',\n",
       "  'HTTPStatusCode': 200,\n",
       "  'HTTPHeaders': {'content-type': 'application/x-amz-json-1.1',\n",
       "   'date': 'Tue, 26 May 2020 07:52:21 GMT',\n",
       "   'x-amzn-requestid': 'e58e5288-a5a3-4919-afda-1aa49c29ff92',\n",
       "   'content-length': '59',\n",
       "   'connection': 'keep-alive'},\n",
       "  'RetryAttempts': 0}}"
      ]
     },
     "execution_count": 7,
     "metadata": {},
     "output_type": "execute_result"
    }
   ],
   "source": [
    "athena.run_query(query_tb.format(field),\n",
    "                 database='inpi',\n",
    "                 s3_output='INSEE/sql_output'\n",
    "                )"
   ]
  },
  {
   "cell_type": "code",
   "execution_count": 10,
   "metadata": {},
   "outputs": [
    {
     "name": "stdout",
     "output_type": "stream",
     "text": [
      "CREATE EXTERNAL TABLE IF NOT EXISTS inpi.insee_ul (\n",
      "    `siren` string, \n",
      "`statutDiffusionUniteLegale` string, \n",
      "`unitePurgeeUniteLegale` string, \n",
      "`dateCreationUniteLegale` string, \n",
      "`sigleUniteLegale` string, \n",
      "`sexeUniteLegale` string, \n",
      "`prenom1UniteLegale` string, \n",
      "`prenom2UniteLegale` string, \n",
      "`prenom3UniteLegale` string, \n",
      "`prenom4UniteLegale` string, \n",
      "`prenomUsuelUniteLegale` string, \n",
      "`pseudonymeUniteLegale` string, \n",
      "`identifiantAssociationUniteLegale` string, \n",
      "`trancheEffectifsUniteLegale` string, \n",
      "`anneeEffectifsUniteLegale` string, \n",
      "`dateDernierTraitementUniteLegale` string, \n",
      "`nombrePeriodesUniteLegale` integer, \n",
      "`categorieEntreprise` string, \n",
      "`anneeCategorieEntreprise` string, \n",
      "`dateDebut` string, \n",
      "`etatAdministratifUniteLegale` string, \n",
      "`nomUniteLegale` string, \n",
      "`nomUsageUniteLegale` string, \n",
      "`denominationUniteLegale` string, \n",
      "`denominationUsuelle1UniteLegale` string, \n",
      "`denominationUsuelle2UniteLegale` string, \n",
      "`denominationUsuelle3UniteLegale` string, \n",
      "`categorieJuridiqueUniteLegale` string, \n",
      "`activitePrincipaleUniteLegale` string, \n",
      "`nomenclatureActivitePrincipaleUniteLegale` string, \n",
      "`nicSiegeUniteLegale` string, \n",
      "`economieSocialeSolidaireUniteLegale` string, \n",
      "`caractereEmployeurUniteLegale` string \n",
      "\n",
      "\n",
      "    )\n",
      "     ROW FORMAT SERDE 'org.apache.hadoop.hive.serde2.OpenCSVSerde'\n",
      "    WITH SERDEPROPERTIES (\n",
      "   'separatorChar' = ',',\n",
      "   'quoteChar' = '\"'\n",
      "   )\n",
      "     LOCATION 's3://calfdata/INSEE/00_rawData/UL'\n",
      "     TBLPROPERTIES ('has_encrypted_data'='false',\n",
      "              'skip.header.line.count'='1');\n"
     ]
    }
   ],
   "source": [
    "print(query_tb.format(field))"
   ]
  }
 ],
 "metadata": {
  "jupytext": {
   "formats": "ipynb,md"
  },
  "kernelspec": {
   "display_name": "Python 3",
   "language": "python",
   "name": "python3"
  },
  "language_info": {
   "codemirror_mode": {
    "name": "ipython",
    "version": 3
   },
   "file_extension": ".py",
   "mimetype": "text/x-python",
   "name": "python",
   "nbconvert_exporter": "python",
   "pygments_lexer": "ipython3",
   "version": "3.7.6"
  }
 },
 "nbformat": 4,
 "nbformat_minor": 4
}
