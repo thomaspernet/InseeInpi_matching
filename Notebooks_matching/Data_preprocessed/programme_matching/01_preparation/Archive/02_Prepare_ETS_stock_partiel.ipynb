{
 "cells": [
  {
   "cell_type": "markdown",
   "metadata": {},
   "source": [
    "# Prepare ETS Data : normalize address"
   ]
  },
  {
   "cell_type": "code",
   "execution_count": null,
   "metadata": {},
   "outputs": [],
   "source": [
    "import os, shutil\n",
    "os.chdir('../')\n",
    "current_dir = os.getcwd()\n",
    "from inpi_insee import preparation_data\n",
    "from awsPy.aws_authorization import aws_connector\n",
    "from awsPy.aws_s3 import service_s3\n",
    "from pathlib import Path\n",
    "import pandas as pd\n",
    "%load_ext autoreload\n",
    "%autoreload 2"
   ]
  },
  {
   "cell_type": "markdown",
   "metadata": {},
   "source": [
    "## Download from S3"
   ]
  },
  {
   "cell_type": "code",
   "execution_count": null,
   "metadata": {},
   "outputs": [],
   "source": [
    "bucket = 'calfdata'\n",
    "path = os.getcwd()\n",
    "parent_path = str(Path(path).parent)\n",
    "path_cred = r\"{}/programme_matching/credential_AWS.json\".format(parent_path)\n",
    "con = aws_connector.aws_instantiate(credential = path_cred,\n",
    "                                        region = 'eu-west-3')\n",
    "client= con.client_boto()\n",
    "s3 = service_s3.connect_S3(client = client,\n",
    "                      bucket = 'calfdata') \n",
    "s3.download_file(key= 'INPI/TC_1/02_preparation_donnee/Stock/stock_partiel.csv')"
   ]
  },
  {
   "cell_type": "code",
   "execution_count": null,
   "metadata": {},
   "outputs": [],
   "source": [
    "shutil.move(r\"stock_partiel.csv\",\n",
    "            r\"data\\RawData\\INPI\\Stock\")"
   ]
  },
  {
   "cell_type": "code",
   "execution_count": null,
   "metadata": {},
   "outputs": [],
   "source": [
    "param = {\n",
    "    'communes_insee': r'data\\input\\Parameters\\communes_france.csv',\n",
    "    'upper_word':r'data\\input\\Parameters\\upper_stop.csv',\n",
    "     \"voie\":r'data\\input\\Parameters\\voie.csv',\n",
    "    'insee': None,\n",
    "    'inpi_etb': r\"data\\RawData\\INPI\\Stock\\stock_partiel.csv\",\n",
    "    'date_end':\"2018-01-01\"\n",
    "}\n",
    "prep_data = preparation_data.preparation(param)"
   ]
  },
  {
   "cell_type": "code",
   "execution_count": null,
   "metadata": {},
   "outputs": [],
   "source": [
    "%%time\n",
    "prep_data.normalize_inpi(save_gz = True,\n",
    "                         save_sql = False)"
   ]
  },
  {
   "cell_type": "markdown",
   "metadata": {},
   "source": [
    "# AWS service"
   ]
  },
  {
   "cell_type": "markdown",
   "metadata": {},
   "source": [
    "## Move to S3"
   ]
  },
  {
   "cell_type": "code",
   "execution_count": null,
   "metadata": {},
   "outputs": [],
   "source": [
    "s3.upload_file(\n",
    "    file_to_upload = r'data\\input\\INPI\\inpi_stock_partiel_0.gz',\n",
    "    destination_in_s3 = 'INPI/TC_1/02_preparation_donnee/Stock/ETB')"
   ]
  },
  {
   "cell_type": "markdown",
   "metadata": {},
   "source": [
    "## Move to Athena\n",
    "\n",
    "Lien vers [Athena](https://eu-west-3.console.aws.amazon.com/athena/home?force&region=eu-west-3#query)"
   ]
  },
  {
   "cell_type": "code",
   "execution_count": null,
   "metadata": {},
   "outputs": [],
   "source": [
    "from awsPy.aws_athena import service_athena\n",
    "import pandas as pd"
   ]
  },
  {
   "cell_type": "code",
   "execution_count": null,
   "metadata": {},
   "outputs": [],
   "source": [
    "athena = service_athena.connect_athena(client = client,\n",
    "                      bucket = 'calfdata') "
   ]
  },
  {
   "cell_type": "code",
   "execution_count": null,
   "metadata": {},
   "outputs": [],
   "source": [
    "df = pd.read_csv(r'data\\input\\INPI\\inpi_stock_partiel_0.gz', low_memory=False)"
   ]
  },
  {
   "cell_type": "markdown",
   "metadata": {},
   "source": [
    "A automatiser please..."
   ]
  },
  {
   "cell_type": "code",
   "execution_count": null,
   "metadata": {},
   "outputs": [],
   "source": [
    "for i in df.columns:\n",
    "    if df[i].dtype == 'int64':\n",
    "        print(\"`{}` int,\".format(i))\n",
    "    else:\n",
    "        print(\"`{}` string,\".format(i))"
   ]
  },
  {
   "cell_type": "code",
   "execution_count": null,
   "metadata": {},
   "outputs": [],
   "source": [
    "# Athena database and table definition\n",
    "database = 'inpi'\n",
    "table = 'stock_partiel_prepared'\n",
    "s3_input = 's3://calfdata/INPI/TC_1/02_preparation_donnee/Stock/ETB'\n",
    "s3_ouput = 'INPI/sql_output'\n",
    "\n",
    "create_database = \"CREATE DATABASE IF NOT EXISTS %s;\" % (database)\n",
    "create_table = \\\n",
    "    \"\"\"CREATE EXTERNAL TABLE IF NOT EXISTS %s.%s (\n",
    "`code greffe` int,\n",
    "`nom_greffe` string,\n",
    "`numero_gestion` string,\n",
    "`rcs_registre` string,\n",
    "`date_greffe` string,\n",
    "`libelle_evt` string,\n",
    "`id_etablissement` int,\n",
    "`siren` int,\n",
    "`nom_commercial` string,\n",
    "`enseigne` string,\n",
    "`date_début_activité` string,\n",
    "`domiciliataire_nom` string,\n",
    "`domiciliataire_siren` string,\n",
    "`count_initial_inpi` int,\n",
    "`domiciliataire_greffe` string,\n",
    "`domiciliataire_complément` string,\n",
    "`type` string,\n",
    "`siège_pm` string,\n",
    "`activité` string,\n",
    "`origine_fonds` string,\n",
    "`origine_fonds_info` string,\n",
    "`type_exploitation` string,\n",
    "`pays` string,\n",
    "`ville` string,\n",
    "`ncc` string,\n",
    "`code_postal` string,\n",
    "`code_commune` string,\n",
    "`adresse_ligne1` string,\n",
    "`adresse_ligne2` string,\n",
    "`adresse_ligne3` string,\n",
    "`adress_new` string,\n",
    "`adresse_new_clean_reg` string,\n",
    "`possibilite` string,\n",
    "`insee` string,\n",
    "`digit_inpi` string,\n",
    "`list_digit_inpi` string,\n",
    "`len_digit_address_inpi` int,\n",
    "`siege_domicile_représentant` string,\n",
    "`activité_ambulante` string,\n",
    "`activité_saisonnière` string,\n",
    "`activité_non_sédentaire` string,\n",
    "`index` int\n",
    "    )\n",
    "     ROW FORMAT SERDE 'org.apache.hadoop.hive.serde2.OpenCSVSerde'\n",
    "    WITH SERDEPROPERTIES (\n",
    "   'separatorChar' = ',',\n",
    "   'quoteChar' = '\"'\n",
    "   )\n",
    "     LOCATION '%s'\n",
    "     TBLPROPERTIES ('has_encrypted_data'='false',\n",
    "              'skip.header.line.count'='1');\"\"\" % (\n",
    "    database,\n",
    "    table,\n",
    "    s3_input\n",
    ")\n",
    "athena.run_query(\n",
    "    query=create_database,\n",
    "    database=database,\n",
    "    s3_output=s3_ouput\n",
    ")\n",
    "athena.run_query(\n",
    "    query=create_table,\n",
    "    database=database,\n",
    "    s3_output=s3_ouput\n",
    ")"
   ]
  }
 ],
 "metadata": {
  "jupytext": {
   "formats": "ipynb,md"
  },
  "kernelspec": {
   "display_name": "Python 3",
   "language": "python",
   "name": "python3"
  },
  "language_info": {
   "codemirror_mode": {
    "name": "ipython",
    "version": 3
   },
   "file_extension": ".py",
   "mimetype": "text/x-python",
   "name": "python",
   "nbconvert_exporter": "python",
   "pygments_lexer": "ipython3",
   "version": "3.7.6"
  }
 },
 "nbformat": 4,
 "nbformat_minor": 4
}
