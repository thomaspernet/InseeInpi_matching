{
 "cells": [
  {
   "cell_type": "markdown",
   "metadata": {},
   "source": [
    "# Preparation INSEE/INPI PM\n",
    "\n",
    "* Objective(s): \n",
    "  * Preparer les tables INSEE et INPI PM pour siretiser\n",
    "* GitHub Branch: master \n",
    "* Notebook:04_prep_insee_pm \n",
    "* Steps:\n",
    "  * Prepare l’insee selon le schéma défini INPI_PM\n",
    "    * nommer la nouvelle table: insee_ul_prep\n",
    "  * Prepare l’inpi pm selon le schéma défini INPI_PM\n",
    "    * nommer la nouvelle table: inpi_pm_prep\n",
    "  * Ajouter toutes les anomalies ici\n",
    "  \n",
    "![](https://drive.google.com/uc?export=view&id=1I3U83Y94z_z_EQA7KC1etPci_UbU9Nnm)"
   ]
  },
  {
   "cell_type": "code",
   "execution_count": null,
   "metadata": {},
   "outputs": [],
   "source": [
    "from awsPy.aws_authorization import aws_connector\n",
    "from awsPy.aws_s3 import service_s3\n",
    "from awsPy.aws_athena import service_athena\n",
    "import os, time\n",
    "from pathlib import Path"
   ]
  },
  {
   "cell_type": "code",
   "execution_count": null,
   "metadata": {},
   "outputs": [],
   "source": [
    "bucket = 'calfdata'\n",
    "path = os.getcwd()\n",
    "parent_path = str(Path(path).parent)\n",
    "path_cred = \"{}/credential_AWS.json\".format(parent_path)\n",
    "con = aws_connector.aws_instantiate(credential = path_cred,\n",
    "                                        region = 'eu-west-3')\n",
    "client= con.client_boto()\n",
    "s3 = service_s3.connect_S3(client = client,\n",
    "                      bucket = 'calfdata') \n",
    "athena = service_athena.connect_athena(client = client,\n",
    "                      bucket = 'calfdata') "
   ]
  },
  {
   "cell_type": "markdown",
   "metadata": {},
   "source": [
    "# Preparation INSEE"
   ]
  },
  {
   "cell_type": "code",
   "execution_count": null,
   "metadata": {},
   "outputs": [],
   "source": [
    "output = athena.run_query(\n",
    "                        query=\"DROP TABLE `insee_ul_prep`\",\n",
    "                        database = \"inpi\",\n",
    "    s3_output='INSEE/sql_output')"
   ]
  },
  {
   "cell_type": "code",
   "execution_count": null,
   "metadata": {},
   "outputs": [],
   "source": [
    "#Preparation table insee UL\n",
    "query_tb = \"\"\"\n",
    "CREATE TABLE inpi.insee_ul_prep\n",
    "WITH (\n",
    "  format='PARQUET',\n",
    "  external_location='s3://calfdata/INSEE/01_preparation/PM'\n",
    ") AS\n",
    "SELECT \"siren\", \n",
    "CONCAT(siren, nicSiegeUniteLegale) as siret,\n",
    "\"statutDiffusionUniteLegale\", \n",
    "\"unitePurgeeUniteLegale\", \n",
    "\"dateCreationUniteLegale\", \n",
    "\"sigleUniteLegale\", \n",
    "\"sexeUniteLegale\", \n",
    "\"prenom1UniteLegale\", \n",
    "\"prenom2UniteLegale\", \n",
    "\"prenom3UniteLegale\", \n",
    "\"prenom4UniteLegale\", \n",
    "\"prenomUsuelUniteLegale\", \n",
    "\"pseudonymeUniteLegale\", \n",
    "\"identifiantAssociationUniteLegale\", \n",
    "\"trancheEffectifsUniteLegale\", \n",
    "\"anneeEffectifsUniteLegale\", \n",
    "\"dateDernierTraitementUniteLegale\", \n",
    "\"nombrePeriodesUniteLegale\", \n",
    "\"categorieEntreprise\", \n",
    "\"anneeCategorieEntreprise\", \n",
    "\"dateDebut\", \n",
    "\"etatAdministratifUniteLegale\", \n",
    "\"nomUniteLegale\", \n",
    "\"nomUsageUniteLegale\", \n",
    "UPPER(denominationUniteLegale) as denominationUniteLegale,\n",
    "\"denominationUsuelle1UniteLegale\", \n",
    "\"denominationUsuelle2UniteLegale\", \n",
    "\"denominationUsuelle3UniteLegale\", \n",
    "\"categorieJuridiqueUniteLegale\", \n",
    "\"activitePrincipaleUniteLegale\", \n",
    "\"nomenclatureActivitePrincipaleUniteLegale\", \n",
    "\"nicSiegeUniteLegale\", \n",
    "\"economieSocialeSolidaireUniteLegale\", \n",
    "\"caractereEmployeurUniteLegale\"\n",
    "FROM \"inpi\".\"insee_ul\" \n",
    "\"\"\"\n",
    "athena.run_query(query_tb,\n",
    "                 database='inpi',\n",
    "                 s3_output='INSEE/sql_output'\n",
    "                )"
   ]
  }
 ],
 "metadata": {
  "jupytext": {
   "formats": "ipynb,md"
  },
  "kernelspec": {
   "display_name": "Python 3",
   "language": "python",
   "name": "python3"
  },
  "language_info": {
   "codemirror_mode": {
    "name": "ipython",
    "version": 3
   },
   "file_extension": ".py",
   "mimetype": "text/x-python",
   "name": "python",
   "nbconvert_exporter": "python",
   "pygments_lexer": "ipython3",
   "version": "3.7.6"
  }
 },
 "nbformat": 4,
 "nbformat_minor": 4
}
