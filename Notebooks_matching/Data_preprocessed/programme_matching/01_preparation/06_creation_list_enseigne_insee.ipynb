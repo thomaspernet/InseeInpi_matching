{
 "cells": [
  {
   "cell_type": "markdown",
   "metadata": {},
   "source": [
    "# Concatenation champs enseigne INSEE\n",
    "\n",
    "Copy paste from Coda to fill the information\n",
    "\n",
    "## Objective(s)\n",
    "\n",
    "* Dans le but de comparer l’enseigne de l’INPI avec les possibilités coté INSEE, nous devons préparer une liste qui contient l’ensemble des enseignes possibles cotés INSEE.\n",
    "  * Il faut que cette liste ne contienne que des champs unique  \n",
    "* La nouvelle table va être sauvegardé dans la database siretisation avec une nouvelle variable appelée list_enseigne  \n",
    "\n",
    "## Metadata \n",
    "\n",
    "* Metadata parameters are available here: \n",
    "* US Title: Concatenation champs enseigne INSEE\n",
    "* Epic: Epic 5\n",
    "* US: US 7\n",
    "* Date Begin: 8/31/2020\n",
    "* Duration Task: 1\n",
    "* Status:  \n",
    "* Source URL: [US 07 Preparation siretisation](https://coda.io/d/_dCtnoqIftTn/US-07-Preparation-siretisation_suFb9)\n",
    "* Task type:\n",
    "  * Jupyter Notebook\n",
    "* Users: :\n",
    "  * Thomas Pernet\n",
    "* Watchers:\n",
    "  * Thomas Pernet\n",
    "* Estimated Log points:\n",
    "  * One being a simple task, 15 a very difficult one\n",
    "  *  5\n",
    "* Task tag\n",
    "  *  #sql-query,#preparation-insee,#enseigne\n",
    "* Toggl Tag\n",
    "  * #data-preparation\n",
    "  \n",
    "## Input Cloud Storage [AWS]\n",
    "\n",
    "If link from the internet, save it to the cloud first\n",
    "\n",
    "### Tables [AWS]\n",
    "\n",
    "1. Batch 1:\n",
    "  * Select Provider: Athena\n",
    "  * Select table(s): insee_final_sql\n",
    "    * Select only tables created from the same notebook, else copy/paste selection to add new input tables\n",
    "    * If table(s) does not exist, add them: Add New Table\n",
    "    * Information:\n",
    "      * Region: \n",
    "        * NameEurope (Paris)\n",
    "        * Code: eu-west-3\n",
    "      * Database: inpi\n",
    "      * Notebook construction file: \n",
    "        *  https://github.com/thomaspernet/InseeInpi_matching/blob/master/Notebooks_matching/Data_preprocessed/programme_matching/01_preparation/04_ETS_add_variables_insee.md\n",
    "    \n",
    "## Destination Output/Delivery\n",
    "\n",
    "  1. AWS\n",
    "    1. Athena: \n",
    "      * Region: Europe (Paris)\n",
    "      * Database: siretisation\n",
    "      * Tables (Add name new table): ets_insee_sql\n",
    "      * List new tables\n",
    "      * * ets_insee_sql\n",
    "\n",
    "## Things to know (Steps, Attention points or new flow of information)\n",
    "\n",
    "### Sources of information  (meeting notes, Documentation, Query, URL)\n",
    "\n",
    "1. Jupyter Notebook (Github Link)\n",
    "  1. md : https://github.com/thomaspernet/InseeInpi_matching/blob/master/Notebooks_matching/Data_preprocessed/programme_matching/02_siretisation/07_pourcentage_siretisation_v3.md#creation-table-analyse"
   ]
  },
  {
   "cell_type": "markdown",
   "metadata": {},
   "source": [
    "## Connexion serveur"
   ]
  },
  {
   "cell_type": "code",
   "execution_count": 1,
   "metadata": {},
   "outputs": [],
   "source": [
    "from awsPy.aws_authorization import aws_connector\n",
    "from awsPy.aws_athena import service_athena\n",
    "from awsPy.aws_s3 import service_s3\n",
    "from pathlib import Path\n",
    "import pandas as pd\n",
    "import numpy as np\n",
    "import seaborn as sns\n",
    "import os, shutil\n",
    "\n",
    "path = os.getcwd()\n",
    "parent_path = str(Path(path).parent)\n",
    "path_cred = r\"{}/credential_AWS.json\".format(parent_path)\n",
    "con = aws_connector.aws_instantiate(credential = path_cred,\n",
    "                                       region = 'eu-west-3')\n",
    "\n",
    "region = 'eu-west-3'\n",
    "bucket = 'calfdata'"
   ]
  },
  {
   "cell_type": "code",
   "execution_count": 2,
   "metadata": {},
   "outputs": [],
   "source": [
    "con = aws_connector.aws_instantiate(credential = path_cred,\n",
    "                                       region = region)\n",
    "client= con.client_boto()\n",
    "s3 = service_s3.connect_S3(client = client,\n",
    "                      bucket = bucket, verbose = False) "
   ]
  },
  {
   "cell_type": "code",
   "execution_count": 3,
   "metadata": {},
   "outputs": [],
   "source": [
    "pandas_setting = True\n",
    "if pandas_setting:\n",
    "    cm = sns.light_palette(\"green\", as_cmap=True)\n",
    "    pd.set_option('display.max_columns', None)\n",
    "    pd.set_option('display.max_colwidth', None)"
   ]
  },
  {
   "cell_type": "markdown",
   "metadata": {},
   "source": [
    "# Creation tables\n",
    "\n",
    "## Steps\n",
    "\n",
    "- Concatener les variables\n",
    "    - `enseigne1etablissement`\n",
    "    - `enseigne2etablissement`\n",
    "    - `enseigne3etablissement`\n",
    "- Creation list\n",
    "- Exclusion des doublons (uniquement les mots distincts\n",
    "- Enlever les espaces de trop"
   ]
  },
  {
   "cell_type": "code",
   "execution_count": 4,
   "metadata": {},
   "outputs": [],
   "source": [
    "s3_output = 'inpi/sql_output'\n",
    "database = 'inpi'"
   ]
  },
  {
   "cell_type": "markdown",
   "metadata": {},
   "source": [
    "## Exemple input/ouptup"
   ]
  },
  {
   "cell_type": "code",
   "execution_count": 5,
   "metadata": {},
   "outputs": [
    {
     "name": "stdout",
     "output_type": "stream",
     "text": [
      "|    |          siret | enseigne1etablissement                           | enseigne2etablissement              | enseigne3etablissement       | list_enseigne                                                                                            |\n",
      "|---:|---------------:|:-------------------------------------------------|:------------------------------------|:-----------------------------|:---------------------------------------------------------------------------------------------------------|\n",
      "|  0 | 43531242600040 | CENTRE CANIN BORTOLONI                           | BAPTISTE BORTOLONI                  | nan                          | [CENTRE CANIN BORTOLONI, BAPTISTE BORTOLONI]                                                             |\n",
      "|  1 | 32490063800051 | LE JARDIN VOYAGEUR                               | KARAVANBYCAMILLE                    | nan                          | [LE JARDIN VOYAGEUR, KARAVANBYCAMILLE]                                                                   |\n",
      "|  2 | 85087614500010 | RUCHERS DE LA PETITE SUISSE DU NORD ET MIELLERIE | DE MORMAL                           | nan                          | [RUCHERS DE LA PETITE SUISSE DU NORD ET MIELLERIE, DE MORMAL]                                            |\n",
      "|  3 | 80452455100012 | JAITONAUTO, SOEMOTION                            | nan                                 | nan                          | [JAITONAUTO,  SOEMOTION]                                                                                 |\n",
      "|  4 | 85098410500013 | MENUISERIE METALLERIE MARQUION                   | METALLERIE MARQUION                 | ETABLISSEMENT MARQUION       | [MENUISERIE METALLERIE MARQUION, METALLERIE MARQUION, ETABLISSEMENT MARQUION]                            |\n",
      "|  5 | 94575159200144 | ALSACE FIOUL SERVICES - WALLACH ENE              | RGIES - WALLACH ENERGIES LUBRIFIANT | S - WALLACH ENERGIES SOLAIRE | [ALSACE FIOUL SERVICES - WALLACH ENE, RGIES - WALLACH ENERGIES LUBRIFIANT, S - WALLACH ENERGIES SOLAIRE] |\n",
      "|  6 | 43531548600033 | ECOCOMSHOP.COM                                   | HOMEBIO.FR                          | nan                          | [ECOCOMSHOP.COM, HOMEBIO.FR]                                                                             |\n",
      "|  7 | 73565015200730 | PF FOUCHER - GORRONAISE FUNERAIRE -              | CHAMBRE FUNERAIRE DU BOCAGE         | nan                          | [PF FOUCHER - GORRONAISE FUNERAIRE -, CHAMBRE FUNERAIRE DU BOCAGE]                                       |\n",
      "|  8 | 73565015200797 | POMPES FUNEBRES BAINAISES                        | ET CHAMBRES FUNERAIRES BAINAISES    | nan                          | [POMPES FUNEBRES BAINAISES, ET CHAMBRES FUNERAIRES BAINAISES]                                            |\n",
      "|  9 | 73565015200953 | POMPES FUNEBRES CASTEL                           | MARBRERIE ALOTTO                    | nan                          | [POMPES FUNEBRES CASTEL, MARBRERIE ALOTTO]                                                               |\n"
     ]
    }
   ],
   "source": [
    "query = \"\"\"\n",
    "SELECT siret, enseigne1etablissement,enseigne2etablissement,enseigne3etablissement, array_remove(\n",
    "      array_distinct(\n",
    "        SPLIT(\n",
    "          concat(\n",
    "            enseigne1etablissement, ',', enseigne2etablissement, \n",
    "            ',', enseigne3etablissement\n",
    "          ), \n",
    "          ','\n",
    "        )\n",
    "      ), \n",
    "      ''\n",
    "    ) as list_enseigne\n",
    "FROM inpi.insee_final_sql \n",
    "WHERE \n",
    "cardinality(array_remove(\n",
    "array_distinct(\n",
    "        SPLIT(\n",
    "          concat(\n",
    "            enseigne1etablissement, ',', enseigne2etablissement, \n",
    "            ',', enseigne3etablissement\n",
    "          ), \n",
    "          ','\n",
    "        )\n",
    "      ), \n",
    "      ''\n",
    "    )) > 1\n",
    "LIMIT 10\n",
    "\n",
    "\"\"\"\n",
    "\n",
    "print(s3.run_query(\n",
    "            query=query,\n",
    "            database=database,\n",
    "            s3_output=s3_output,\n",
    "  filename = 'Exemple_list_enseigne_insee', ## Add filename to print dataframe\n",
    "  destination_key = None ### Add destination key if need to copy output\n",
    "        ).to_markdown()\n",
    "     )"
   ]
  },
  {
   "cell_type": "markdown",
   "metadata": {},
   "source": [
    "## Creation table"
   ]
  },
  {
   "cell_type": "code",
   "execution_count": null,
   "metadata": {},
   "outputs": [],
   "source": [
    "query = \"\"\"\n",
    "CREATE TABLE siretisation.ets_insee_sql WITH (format = 'PARQUET') AS WITH tb AS (\n",
    "  SELECT \n",
    "    *, \n",
    "    array_remove(\n",
    "      array_distinct(\n",
    "        SPLIT(\n",
    "          concat(\n",
    "            enseigne1etablissement, ',', enseigne2etablissement, \n",
    "            ',', enseigne3etablissement\n",
    "          ), \n",
    "          ','\n",
    "        )\n",
    "      ), \n",
    "      ''\n",
    "    ) as list_enseigne \n",
    "  FROM \n",
    "    inpi.insee_final_sql\n",
    ") \n",
    "SELECT \n",
    "  count_initial_insee, \n",
    "  siren, \n",
    "  siret, \n",
    "  datecreationetablissement, \n",
    "  etablissementsiege, \n",
    "  etatadministratifetablissement, \n",
    "  codepostaletablissement, \n",
    "  codecommuneetablissement, \n",
    "  libellecommuneetablissement, \n",
    "  ville_matching, \n",
    "  libellevoieetablissement, \n",
    "  complementadresseetablissement, \n",
    "  numerovoieetablissement, \n",
    "  list_numero_voie_matching_insee, \n",
    "  indicerepetitionetablissement_full, \n",
    "  typevoieetablissement, \n",
    "  voie_clean, \n",
    "  adresse_reconstituee_insee, \n",
    "  adresse_distance_insee, \n",
    "  enseigne1etablissement, \n",
    "  enseigne2etablissement, \n",
    "  enseigne3etablissement, \n",
    "  CASE WHEN cardinality(list_enseigne) = 0 THEN NULL ELSE list_enseigne END AS list_enseigne \n",
    "FROM \n",
    "  tb\n",
    "\n",
    "\"\"\"\n",
    "s3.run_query(\n",
    "            query=query,\n",
    "            database=database,\n",
    "            s3_output=s3_output,\n",
    "  filename = None, ## Add filename to print dataframe\n",
    "  destination_key = None ### Add destination key if need to copy output\n",
    "        )"
   ]
  },
  {
   "cell_type": "markdown",
   "metadata": {},
   "source": [
    "## Test Acceptance\n",
    "\n",
    "1. Compter le nombre le lignes par possibilité\n",
    "2. Afficher le top 10 des enseignes en terme de compte\n",
    "3. Imprimer lorsque la liste est égale a 1\n",
    "4. Imprimer lorsque la liste est égale a 2\n",
    "5. Imprimer lorsque la liste est égale a 4\n",
    "6. Imprimer lorsque la liste est égale a 10"
   ]
  },
  {
   "cell_type": "markdown",
   "metadata": {},
   "source": [
    "### 1. Compter le nombre le lignes par possibilité"
   ]
  },
  {
   "cell_type": "code",
   "execution_count": 7,
   "metadata": {},
   "outputs": [
    {
     "name": "stdout",
     "output_type": "stream",
     "text": [
      "|    |   _col0 |          nb_obs |\n",
      "|---:|--------:|----------------:|\n",
      "|  0 |     nan |     2.73326e+07 |\n",
      "|  1 |       1 |     2.57795e+06 |\n",
      "|  2 |       2 | 13466           |\n",
      "|  3 |       3 |  3763           |\n",
      "|  4 |       4 |   204           |\n",
      "|  5 |       5 |    80           |\n",
      "|  6 |       6 |    48           |\n",
      "|  7 |       7 |    13           |\n",
      "|  8 |       8 |     9           |\n",
      "|  9 |       9 |     3           |\n",
      "| 10 |      12 |     3           |\n",
      "| 11 |      10 |     2           |\n",
      "| 12 |      11 |     1           |\n",
      "| 13 |      13 |     1           |\n"
     ]
    }
   ],
   "source": [
    "query = \"\"\"\n",
    "SELECT CARDINALiTY(list_enseigne), COUNT(*) AS nb_obs\n",
    "FROM siretisation.ets_insee_sql \n",
    "GROUP BY CARDINALiTY(list_enseigne)\n",
    "ORDER BY nb_obs DESC\n",
    "\"\"\"\n",
    "print(s3.run_query(\n",
    "            query=query,\n",
    "            database=database,\n",
    "            s3_output=s3_output,\n",
    "  filename = 'count_enseigne_insee', ## Add filename to print dataframe\n",
    "  destination_key = None ### Add destination key if need to copy output\n",
    "        ).to_markdown()\n",
    "     )"
   ]
  },
  {
   "cell_type": "markdown",
   "metadata": {},
   "source": [
    "### 2. Afficher le top 10 des enseignes en terme de compte"
   ]
  },
  {
   "cell_type": "code",
   "execution_count": 9,
   "metadata": {},
   "outputs": [
    {
     "name": "stdout",
     "output_type": "stream",
     "text": [
      "|    | list_enseigne                |   nb_obs |\n",
      "|---:|:-----------------------------|---------:|\n",
      "|  0 | nan                          | 27332648 |\n",
      "|  1 | [MAIRIE]                     |    37751 |\n",
      "|  2 | [CCAS]                       |    29194 |\n",
      "|  3 | [ECOLE PRIMAIRE PUBLIQUE]    |    16153 |\n",
      "|  4 | [BUREAU DE POSTE]            |    13762 |\n",
      "|  5 | [LA POSTE]                   |    12256 |\n",
      "|  6 | [CDE]                        |     7364 |\n",
      "|  7 | [SERVICE ASSAINISSEMENT]     |     5941 |\n",
      "|  8 | [ECOLE MATERNELLE PUBLIQUE]  |     5842 |\n",
      "|  9 | [ECOLE ELEMENTAIRE PUBLIQUE] |     3727 |\n"
     ]
    }
   ],
   "source": [
    "query = \"\"\"\n",
    "SELECT list_enseigne, COUNT(*) AS nb_obs\n",
    "FROM siretisation.ets_insee_sql \n",
    "GROUP BY list_enseigne\n",
    "ORDER BY nb_obs DESC\n",
    "LIMIT 10\n",
    "\"\"\"\n",
    "print(s3.run_query(\n",
    "            query=query,\n",
    "            database=database,\n",
    "            s3_output=s3_output,\n",
    "  filename = 'count_top_enseigne_insee', ## Add filename to print dataframe\n",
    "  destination_key = None ### Add destination key if need to copy output\n",
    "         ).to_markdown()\n",
    "     )"
   ]
  },
  {
   "cell_type": "markdown",
   "metadata": {},
   "source": [
    "### 3. Imprimer lorsque la liste est égale a 1"
   ]
  },
  {
   "cell_type": "code",
   "execution_count": 10,
   "metadata": {},
   "outputs": [
    {
     "name": "stdout",
     "output_type": "stream",
     "text": [
      "|    | enseigne1etablissement   |   enseigne2etablissement |   enseigne3etablissement | list_enseigne       |\n",
      "|---:|:-------------------------|-------------------------:|-------------------------:|:--------------------|\n",
      "|  0 | LE CAP HORN              |                      nan |                      nan | [LE CAP HORN]       |\n",
      "|  1 | LES CAVES DU PELE        |                      nan |                      nan | [LES CAVES DU PELE] |\n",
      "|  2 | PLUME LINGERIE           |                      nan |                      nan | [PLUME LINGERIE]    |\n",
      "|  3 | ERL ELEC                 |                      nan |                      nan | [ERL ELEC]          |\n",
      "|  4 | TK SPORT                 |                      nan |                      nan | [TK SPORT]          |\n",
      "|  5 | MOBILE HUT               |                      nan |                      nan | [MOBILE HUT]        |\n",
      "|  6 | LABEL BEST INVEST        |                      nan |                      nan | [LABEL BEST INVEST] |\n",
      "|  7 | BERNARD COLIS            |                      nan |                      nan | [BERNARD COLIS]     |\n",
      "|  8 | P.B. MULTISERVICE        |                      nan |                      nan | [P.B. MULTISERVICE] |\n",
      "|  9 | L'AGRICULTURE            |                      nan |                      nan | [L'AGRICULTURE]     |\n"
     ]
    }
   ],
   "source": [
    "query = \"\"\"\n",
    "SELECT enseigne1etablissement, \n",
    "  enseigne2etablissement, \n",
    "  enseigne3etablissement,list_enseigne\n",
    "FROM siretisation.ets_insee_sql \n",
    "WHERE CARDINALITY(list_enseigne) = 1\n",
    "LIMIT 10\n",
    "\"\"\"\n",
    "print(s3.run_query(\n",
    "            query=query,\n",
    "            database=database,\n",
    "            s3_output=s3_output,\n",
    "  filename = 'count_cardinalirty_1_enseigne_insee', ## Add filename to print dataframe\n",
    "  destination_key = None ### Add destination key if need to copy output\n",
    "        ).to_markdown()\n",
    "     )"
   ]
  },
  {
   "cell_type": "markdown",
   "metadata": {},
   "source": [
    "### 4. Imprimer lorsque la liste est égale a 2"
   ]
  },
  {
   "cell_type": "code",
   "execution_count": 11,
   "metadata": {},
   "outputs": [
    {
     "name": "stdout",
     "output_type": "stream",
     "text": [
      "|    | enseigne1etablissement                       | enseigne2etablissement        |   enseigne3etablissement | list_enseigne                                                        |\n",
      "|---:|:---------------------------------------------|:------------------------------|-------------------------:|:---------------------------------------------------------------------|\n",
      "|  0 | AJ COIFFURE MASSAGE BIEN ETRE (A BU          | NON THERAPEUTIQUE) A DOMICILE |                      nan | [AJ COIFFURE MASSAGE BIEN ETRE (A BU, NON THERAPEUTIQUE) A DOMICILE] |\n",
      "|  1 | AJ COIFFURE MASSAGE BIEN ETRE (A BU          | NON THERAPEUTIQUE) A DOMICILE |                      nan | [AJ COIFFURE MASSAGE BIEN ETRE (A BU, NON THERAPEUTIQUE) A DOMICILE] |\n",
      "|  2 | BOCH FRERES                                  | DECOCERAM                     |                      nan | [BOCH FRERES, DECOCERAM]                                             |\n",
      "|  3 | COMAR , DECOCERAM                            | nan                           |                      nan | [COMAR ,  DECOCERAM]                                                 |\n",
      "|  4 | COMAR , DECOCERAM                            | nan                           |                      nan | [COMAR ,  DECOCERAM]                                                 |\n",
      "|  5 | BOCH FRERES                                  | DECOCERAM                     |                      nan | [BOCH FRERES, DECOCERAM]                                             |\n",
      "|  6 | MAISON PURE, AUX DEMENAGEURS PARISI          | nan                           |                      nan | [MAISON PURE,  AUX DEMENAGEURS PARISI]                               |\n",
      "|  7 | L'ETNA 2                                     | SICILIA GOURMET               |                      nan | [L'ETNA 2, SICILIA GOURMET]                                          |\n",
      "|  8 | FRANCESCA CLAYTON PHOTOGRAPHY JUST           | JUST BE YOU                   |                      nan | [FRANCESCA CLAYTON PHOTOGRAPHY JUST, JUST BE YOU]                    |\n",
      "|  9 | AMBULANCES BARTHES - JUSSIEU SECOURS TOURS - | JUSSIEU SERVICE               |                      nan | [AMBULANCES BARTHES - JUSSIEU SECOURS TOURS -, JUSSIEU SERVICE]      |\n"
     ]
    }
   ],
   "source": [
    "query = \"\"\"\n",
    "SELECT enseigne1etablissement, \n",
    "  enseigne2etablissement, \n",
    "  enseigne3etablissement,list_enseigne\n",
    "FROM siretisation.ets_insee_sql \n",
    "WHERE CARDINALITY(list_enseigne) = 2\n",
    "LIMIT 10\n",
    "\"\"\"\n",
    "print(s3.run_query(\n",
    "            query=query,\n",
    "            database=database,\n",
    "            s3_output=s3_output,\n",
    "  filename = 'count_cardinalirty_2_enseigne_insee', ## Add filename to print dataframe\n",
    "  destination_key = None ### Add destination key if need to copy output\n",
    "        ).to_markdown()\n",
    "     )"
   ]
  },
  {
   "cell_type": "markdown",
   "metadata": {},
   "source": [
    "### 5. Imprimer lorsque la liste est égale a 4"
   ]
  },
  {
   "cell_type": "code",
   "execution_count": 12,
   "metadata": {},
   "outputs": [
    {
     "name": "stdout",
     "output_type": "stream",
     "text": [
      "|    | enseigne1etablissement                         | enseigne2etablissement                       | enseigne3etablissement   | list_enseigne                                                                                                   |\n",
      "|---:|:-----------------------------------------------|:---------------------------------------------|:-------------------------|:----------------------------------------------------------------------------------------------------------------|\n",
      "|  0 | AMBULANCES MONTMARTIN-SUR-MER                  | TAXI DES HAVRES                              | TAXI DU PAYS COUTANCAIS  | [AMBULANCES MONTMARTIN-SUR-MER, TAXI DES HAVRES, TAXI DU PAYS COUTANCAIS]                                       |\n",
      "|  1 | AMBULANCES MONTMARTIN-SUR-MER                  | TAXI DES HAVRES                              | TAXI DU PAYS COUTANCAIS  | [AMBULANCES MONTMARTIN-SUR-MER, TAXI DES HAVRES, TAXI DU PAYS COUTANCAIS]                                       |\n",
      "|  2 | AMBOISE AMBULANCES - JUSSIEU SECOURS AMBOISE - | AMBULANCES BARTHES - JUSSIEU SECOURS TOURS - | JUSSIEU SERVICE          | [AMBOISE AMBULANCES - JUSSIEU SECOURS AMBOISE -, AMBULANCES BARTHES - JUSSIEU SECOURS TOURS -, JUSSIEU SERVICE] |\n",
      "|  3 | COUVERTURE                                     | MACONNERIE                                   | RENOVATION               | [COUVERTURE, MACONNERIE, RENOVATION]                                                                            |\n",
      "|  4 | AGBAT                                          | AGFERMETURES                                 | GTNKT                    | [AGBAT, AGFERMETURES, GTNKT]                                                                                    |\n",
      "|  5 | MELO ET LES CRAPULOUS                          | L'ATELIER MELO ET CRAPULOUS                  | MELO                     | [MELO ET LES CRAPULOUS, L'ATELIER MELO ET CRAPULOUS, MELO]                                                      |\n",
      "|  6 | MULTISERVICES PLUS                             | MULTISERVICES                                | MULTISERVICES BTP 33     | [MULTISERVICES PLUS, MULTISERVICES, MULTISERVICES BTP 33]                                                       |\n",
      "|  7 | MARE NOSTRUM SAINT TROPEZ                      | ALEXANDRE HERENGER                           | MARE NOSTRUM WATERSPORT  | [MARE NOSTRUM SAINT TROPEZ, ALEXANDRE HERENGER, MARE NOSTRUM WATERSPORT]                                        |\n",
      "|  8 | TOTO                                           | TITI                                         | TATA                     | [TOTO, TITI, TATA]                                                                                              |\n",
      "|  9 | LE NOUVEL AIR                                  | L'ENCHANTEUR                                 | L'AUTHENTIQUE            | [LE NOUVEL AIR, L'ENCHANTEUR, L'AUTHENTIQUE]                                                                    |\n"
     ]
    }
   ],
   "source": [
    "query = \"\"\"\n",
    "SELECT enseigne1etablissement, \n",
    "  enseigne2etablissement, \n",
    "  enseigne3etablissement,list_enseigne\n",
    "FROM siretisation.ets_insee_sql \n",
    "WHERE CARDINALITY(list_enseigne) = 3\n",
    "LIMIT 10\n",
    "\"\"\"\n",
    "print(s3.run_query(\n",
    "            query=query,\n",
    "            database=database,\n",
    "            s3_output=s3_output,\n",
    "  filename = 'count_cardinalirty_3_enseigne_insee', ## Add filename to print dataframe\n",
    "  destination_key = None ### Add destination key if need to copy output\n",
    "        ).to_markdown()\n",
    "     )"
   ]
  },
  {
   "cell_type": "markdown",
   "metadata": {},
   "source": [
    "### 6. Imprimer lorsque la liste est égale a 10"
   ]
  },
  {
   "cell_type": "code",
   "execution_count": 13,
   "metadata": {},
   "outputs": [
    {
     "name": "stdout",
     "output_type": "stream",
     "text": [
      "|    | enseigne1etablissement                             | enseigne2etablissement                             | enseigne3etablissement                  | list_enseigne                                                                                                                                     |\n",
      "|---:|:---------------------------------------------------|:---------------------------------------------------|:----------------------------------------|:--------------------------------------------------------------------------------------------------------------------------------------------------|\n",
      "|  0 | VDSO, RVSO, REUTENAUER, LES CELLIERS DU QUERCY,    | F.J RIGAL, F&J RIGAL, LES CELLIERS DU SUD OUEST,   | CELLIERS DU QUERCY, RIGAL, MAISON RIGAL | [VDSO,  RVSO,  REUTENAUER,  LES CELLIERS DU QUERCY, F.J RIGAL,  F&J RIGAL,  LES CELLIERS DU SUD OUEST, CELLIERS DU QUERCY,  RIGAL,  MAISON RIGAL] |\n",
      "|  1 | LPTENT, AIRTENT, PIKSSART, NORTHMA ,LA PARISIENNE, | FLASH TENTE, RAPID ABRI, TENTE PLIANTE, BARNUM PLI | ANT ETC                                 | [LPTENT,  AIRTENT,  PIKSSART,  NORTHMA , LA PARISIENNE, FLASH TENTE,  RAPID ABRI,  TENTE PLIANTE,  BARNUM PLI, ANT ETC]                           |\n"
     ]
    }
   ],
   "source": [
    "query = \"\"\"\n",
    "SELECT enseigne1etablissement, \n",
    "  enseigne2etablissement, \n",
    "  enseigne3etablissement,list_enseigne\n",
    "FROM siretisation.ets_insee_sql \n",
    "WHERE CARDINALITY(list_enseigne) = 10\n",
    "LIMIT 10\n",
    "\"\"\"\n",
    "print(s3.run_query(\n",
    "            query=query,\n",
    "            database=database,\n",
    "            s3_output=s3_output,\n",
    "  filename = 'count_cardinalirty_10_enseigne_insee', ## Add filename to print dataframe\n",
    "  destination_key = None ### Add destination key if need to copy output\n",
    "        ).to_markdown()\n",
    "     )"
   ]
  },
  {
   "cell_type": "markdown",
   "metadata": {},
   "source": [
    "# Generation report"
   ]
  },
  {
   "cell_type": "code",
   "execution_count": null,
   "metadata": {},
   "outputs": [],
   "source": [
    "import os, time, shutil, urllib, ipykernel, json\n",
    "from pathlib import Path\n",
    "from notebook import notebookapp"
   ]
  },
  {
   "cell_type": "code",
   "execution_count": null,
   "metadata": {},
   "outputs": [],
   "source": [
    "def create_report(extension = \"html\", keep_code = False):\n",
    "    \"\"\"\n",
    "    Create a report from the current notebook and save it in the \n",
    "    Report folder (Parent-> child directory)\n",
    "    \n",
    "    1. Exctract the current notbook name\n",
    "    2. Convert the Notebook \n",
    "    3. Move the newly created report\n",
    "    \n",
    "    Args:\n",
    "    extension: string. Can be \"html\", \"pdf\", \"md\"\n",
    "    \n",
    "    \n",
    "    \"\"\"\n",
    "    \n",
    "    ### Get notebook name\n",
    "    connection_file = os.path.basename(ipykernel.get_connection_file())\n",
    "    kernel_id = connection_file.split('-', 1)[0].split('.')[0]\n",
    "\n",
    "    for srv in notebookapp.list_running_servers():\n",
    "        try:\n",
    "            if srv['token']=='' and not srv['password']:  \n",
    "                req = urllib.request.urlopen(srv['url']+'api/sessions')\n",
    "            else:\n",
    "                req = urllib.request.urlopen(srv['url']+ \\\n",
    "                                             'api/sessions?token=' + \\\n",
    "                                             srv['token'])\n",
    "            sessions = json.load(req)\n",
    "            notebookname = sessions[0]['name']\n",
    "        except:\n",
    "            pass  \n",
    "    \n",
    "    sep = '.'\n",
    "    path = os.getcwd()\n",
    "    #parent_path = str(Path(path).parent)\n",
    "    \n",
    "    ### Path report\n",
    "    #path_report = \"{}/Reports\".format(parent_path)\n",
    "    #path_report = \"{}/Reports\".format(path)\n",
    "    \n",
    "    ### Path destination\n",
    "    name_no_extension = notebookname.split(sep, 1)[0]\n",
    "    source_to_move = name_no_extension +'.{}'.format(extension)\n",
    "    dest = os.path.join(path,'Reports', source_to_move)\n",
    "    \n",
    "    ### Generate notebook\n",
    "    if keep_code:\n",
    "        os.system('jupyter nbconvert --to {} {}'.format(\n",
    "    extension,notebookname))\n",
    "    else:\n",
    "        os.system('jupyter nbconvert --no-input --to {} {}'.format(\n",
    "    extension,notebookname))\n",
    "    \n",
    "    ### Move notebook to report folder\n",
    "    #time.sleep(5)\n",
    "    shutil.move(source_to_move, dest)\n",
    "    print(\"Report Available at this adress:\\n {}\".format(dest))"
   ]
  },
  {
   "cell_type": "code",
   "execution_count": null,
   "metadata": {},
   "outputs": [],
   "source": [
    "create_report(extension = \"html\")"
   ]
  }
 ],
 "metadata": {
  "jupytext": {
   "formats": "ipynb,md"
  },
  "kernelspec": {
   "display_name": "Python 3",
   "language": "python",
   "name": "python3"
  },
  "language_info": {
   "codemirror_mode": {
    "name": "ipython",
    "version": 3
   },
   "file_extension": ".py",
   "mimetype": "text/x-python",
   "name": "python",
   "nbconvert_exporter": "python",
   "pygments_lexer": "ipython3",
   "version": "3.7.6"
  },
  "nteract": {
   "version": "0.24.1"
  }
 },
 "nbformat": 4,
 "nbformat_minor": 4
}
