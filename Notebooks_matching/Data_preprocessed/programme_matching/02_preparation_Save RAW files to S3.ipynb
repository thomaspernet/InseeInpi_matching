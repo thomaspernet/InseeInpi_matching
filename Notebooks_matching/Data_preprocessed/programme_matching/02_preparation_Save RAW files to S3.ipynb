{
 "cells": [
  {
   "cell_type": "code",
   "execution_count": null,
   "metadata": {},
   "outputs": [],
   "source": [
    "!pip install boto3"
   ]
  },
  {
   "cell_type": "code",
   "execution_count": 1,
   "metadata": {},
   "outputs": [],
   "source": [
    "import utils as u\n",
    "import os"
   ]
  },
  {
   "cell_type": "code",
   "execution_count": 2,
   "metadata": {},
   "outputs": [],
   "source": [
    "if not 'workbookDir' in globals():\n",
    "    workbookDir = os.getcwd()"
   ]
  },
  {
   "cell_type": "code",
   "execution_count": 3,
   "metadata": {},
   "outputs": [],
   "source": [
    "aws_separator = \"/\""
   ]
  },
  {
   "cell_type": "code",
   "execution_count": 4,
   "metadata": {},
   "outputs": [],
   "source": [
    "# Import S3 connectors librairies\n",
    "#from awsPy.aws_authorization import aws_connector\n",
    "import importlib.util\n",
    "spec = importlib.util.spec_from_file_location(\"aws_connector.py\", \"C:/Users/Hp/Documents/GitHub/aws-python/awsPy/aws_authorization/aws_connector.py\")\n",
    "aws_connector = importlib.util.module_from_spec(spec)\n",
    "spec.loader.exec_module(aws_connector)\n",
    "\n",
    "#from awsPy.aws_s3 import service_s3\n",
    "import importlib.util\n",
    "spec = importlib.util.spec_from_file_location(\"service_s3.py\", \"C:/Users/Hp/Documents/GitHub/aws-python/awsPy/aws_s3/service_s3.py\")\n",
    "service_s3 = importlib.util.module_from_spec(spec)\n",
    "spec.loader.exec_module(service_s3)"
   ]
  },
  {
   "cell_type": "code",
   "execution_count": 5,
   "metadata": {},
   "outputs": [],
   "source": [
    "# Connect to S3\n",
    "import os\n",
    "from pathlib import Path\n",
    "\n",
    "bucket = 'calfdata'\n",
    "path = os.getcwd()\n",
    "parent_path = str(Path(path).parent)\n",
    "path_cred = \"{}/programme_matching/credential_AWS.json\".format(parent_path)\n",
    "\n",
    "con = aws_connector.aws_instantiate(credential = path_cred,\n",
    "                                        region = 'eu-west-3')\n",
    "client= con.client_boto()\n",
    "s3 = service_s3.connect_S3(client = client,\n",
    "                      bucket = 'calfdata')"
   ]
  },
  {
   "cell_type": "code",
   "execution_count": 6,
   "metadata": {},
   "outputs": [],
   "source": [
    "# Send Raw files to S3"
   ]
  },
  {
   "cell_type": "code",
   "execution_count": 7,
   "metadata": {},
   "outputs": [],
   "source": [
    "# List files to send and compute each destination\n",
    "import os\n",
    "prep_path= 'flux' #os.path.join(workbookDir,'flux')\n",
    "root_path=aws_separator.join(['INPI', 'TC_1' , '00_RawData', 'public' ,'IMR_Donnees_Saisies' ,'tc'])"
   ]
  },
  {
   "cell_type": "code",
   "execution_count": 8,
   "metadata": {},
   "outputs": [
    {
     "data": {
      "text/plain": [
       "[('flux\\\\2018\\\\04\\\\02\\\\7501\\\\187\\\\7501_187_20180402_202109_10_ets_supprime_EVT.csv',\n",
       "  'INPI/TC_1/00_RawData/public/IMR_Donnees_Saisies/tc/flux/2018/04/02/7501/187'),\n",
       " ('flux\\\\2018\\\\04\\\\02\\\\7501\\\\187\\\\7501_187_20180402_202109_11_obs.csv',\n",
       "  'INPI/TC_1/00_RawData/public/IMR_Donnees_Saisies/tc/flux/2018/04/02/7501/187'),\n",
       " ('flux\\\\2018\\\\04\\\\02\\\\7501\\\\187\\\\7501_187_20180402_202109_12_actes.csv',\n",
       "  'INPI/TC_1/00_RawData/public/IMR_Donnees_Saisies/tc/flux/2018/04/02/7501/187'),\n",
       " ('flux\\\\2018\\\\04\\\\02\\\\7501\\\\187\\\\7501_187_20180402_202109_13_comptes_annuels.csv',\n",
       "  'INPI/TC_1/00_RawData/public/IMR_Donnees_Saisies/tc/flux/2018/04/02/7501/187'),\n",
       " ('flux\\\\2018\\\\04\\\\02\\\\7501\\\\187\\\\7501_187_20180402_202109_1_PM.csv',\n",
       "  'INPI/TC_1/00_RawData/public/IMR_Donnees_Saisies/tc/flux/2018/04/02/7501/187')]"
      ]
     },
     "execution_count": 8,
     "metadata": {},
     "output_type": "execute_result"
    }
   ],
   "source": [
    "list_files=[]\n",
    "for root,dirs,files in os.walk(prep_path):\n",
    "    for i, file in enumerate(files):\n",
    "          if file.endswith(('.csv')):\n",
    "                #print(root)\n",
    "                \n",
    "                source_full_path=os.path.join(root,file)\n",
    "                #print(source_full_path)\n",
    "                \n",
    "                dest_path = aws_separator.join([root_path,root.replace(\"\\\\\",\"/\")])\n",
    "                #print(dest_path)\n",
    "                list_files.append((source_full_path,dest_path))\n",
    "list_files[:5]"
   ]
  },
  {
   "cell_type": "code",
   "execution_count": 9,
   "metadata": {},
   "outputs": [
    {
     "name": "stderr",
     "output_type": "stream",
     "text": [
      "ERROR:root:Internal Python error in the inspect module.\n",
      "Below is the traceback from this internal error.\n",
      "\n"
     ]
    },
    {
     "name": "stdout",
     "output_type": "stream",
     "text": [
      "Traceback (most recent call last):\n",
      "  File \"C:\\Users\\Hp\\Anaconda3\\lib\\site-packages\\IPython\\core\\interactiveshell.py\", line 3326, in run_code\n",
      "    exec(code_obj, self.user_global_ns, self.user_ns)\n",
      "  File \"<ipython-input-9-b4d58a699345>\", line 7, in <module>\n",
      "    s3.upload_file(full_path, destination_in_s3)\n",
      "  File \"C:/Users/Hp/Documents/GitHub/aws-python/awsPy/aws_s3/service_s3.py\", line 53, in upload_file\n",
      "    client_boto.Bucket(self.bucket).upload_file(file_to_upload, key)\n",
      "  File \"C:\\Users\\Hp\\Anaconda3\\lib\\site-packages\\boto3\\s3\\inject.py\", line 209, in bucket_upload_file\n",
      "    ExtraArgs=ExtraArgs, Callback=Callback, Config=Config)\n",
      "  File \"C:\\Users\\Hp\\Anaconda3\\lib\\site-packages\\boto3\\s3\\inject.py\", line 131, in upload_file\n",
      "    extra_args=ExtraArgs, callback=Callback)\n",
      "  File \"C:\\Users\\Hp\\Anaconda3\\lib\\site-packages\\boto3\\s3\\transfer.py\", line 279, in upload_file\n",
      "    future.result()\n",
      "  File \"C:\\Users\\Hp\\Anaconda3\\lib\\site-packages\\s3transfer\\futures.py\", line 109, in result\n",
      "    raise e\n",
      "  File \"C:\\Users\\Hp\\Anaconda3\\lib\\site-packages\\s3transfer\\futures.py\", line 106, in result\n",
      "    return self._coordinator.result()\n",
      "  File \"C:\\Users\\Hp\\Anaconda3\\lib\\site-packages\\s3transfer\\futures.py\", line 260, in result\n",
      "    self._done_event.wait(MAXINT)\n",
      "  File \"C:\\Users\\Hp\\Anaconda3\\lib\\threading.py\", line 552, in wait\n",
      "    signaled = self._cond.wait(timeout)\n",
      "  File \"C:\\Users\\Hp\\Anaconda3\\lib\\threading.py\", line 296, in wait\n",
      "    waiter.acquire()\n",
      "KeyboardInterrupt\n",
      "\n",
      "During handling of the above exception, another exception occurred:\n",
      "\n",
      "Traceback (most recent call last):\n",
      "  File \"C:\\Users\\Hp\\Anaconda3\\lib\\site-packages\\IPython\\core\\interactiveshell.py\", line 2040, in showtraceback\n",
      "    stb = value._render_traceback_()\n",
      "AttributeError: 'KeyboardInterrupt' object has no attribute '_render_traceback_'\n",
      "\n",
      "During handling of the above exception, another exception occurred:\n",
      "\n",
      "Traceback (most recent call last):\n",
      "  File \"C:\\Users\\Hp\\Anaconda3\\lib\\site-packages\\IPython\\core\\ultratb.py\", line 1101, in get_records\n",
      "    return _fixed_getinnerframes(etb, number_of_lines_of_context, tb_offset)\n",
      "  File \"C:\\Users\\Hp\\Anaconda3\\lib\\site-packages\\IPython\\core\\ultratb.py\", line 319, in wrapped\n",
      "    return f(*args, **kwargs)\n",
      "  File \"C:\\Users\\Hp\\Anaconda3\\lib\\site-packages\\IPython\\core\\ultratb.py\", line 353, in _fixed_getinnerframes\n",
      "    records = fix_frame_records_filenames(inspect.getinnerframes(etb, context))\n",
      "  File \"C:\\Users\\Hp\\Anaconda3\\lib\\inspect.py\", line 1502, in getinnerframes\n",
      "    frameinfo = (tb.tb_frame,) + getframeinfo(tb, context)\n",
      "  File \"C:\\Users\\Hp\\Anaconda3\\lib\\inspect.py\", line 1460, in getframeinfo\n",
      "    filename = getsourcefile(frame) or getfile(frame)\n",
      "  File \"C:\\Users\\Hp\\Anaconda3\\lib\\inspect.py\", line 696, in getsourcefile\n",
      "    if getattr(getmodule(object, filename), '__loader__', None) is not None:\n",
      "  File \"C:\\Users\\Hp\\Anaconda3\\lib\\inspect.py\", line 739, in getmodule\n",
      "    f = getabsfile(module)\n",
      "  File \"C:\\Users\\Hp\\Anaconda3\\lib\\inspect.py\", line 708, in getabsfile\n",
      "    _filename = getsourcefile(object) or getfile(object)\n",
      "  File \"C:\\Users\\Hp\\Anaconda3\\lib\\inspect.py\", line 693, in getsourcefile\n",
      "    if os.path.exists(filename):\n",
      "  File \"C:\\Users\\Hp\\Anaconda3\\lib\\genericpath.py\", line 19, in exists\n",
      "    os.stat(path)\n",
      "KeyboardInterrupt\n"
     ]
    },
    {
     "ename": "KeyboardInterrupt",
     "evalue": "",
     "output_type": "error",
     "traceback": [
      "\u001b[1;31m---------------------------------------------------------------------------\u001b[0m"
     ]
    }
   ],
   "source": [
    "# Send files to s3 (raw flux 2018 2019 TO DO)\n",
    "#list_files[:100]\n",
    "for (full_path,destination_in_s3) in list_files:\n",
    "    filename=full_path.split('\\\\')[-1]\n",
    "    key = aws_separator.join([destination_in_s3,filename])\n",
    "    if not s3.key_exist(key):\n",
    "        s3.upload_file(full_path, destination_in_s3)"
   ]
  },
  {
   "cell_type": "code",
   "execution_count": null,
   "metadata": {},
   "outputs": [],
   "source": []
  },
  {
   "cell_type": "code",
   "execution_count": null,
   "metadata": {},
   "outputs": [],
   "source": []
  }
 ],
 "metadata": {
  "kernelspec": {
   "display_name": "Python 3",
   "language": "python",
   "name": "python3"
  },
  "language_info": {
   "codemirror_mode": {
    "name": "ipython",
    "version": 3
   },
   "file_extension": ".py",
   "mimetype": "text/x-python",
   "name": "python",
   "nbconvert_exporter": "python",
   "pygments_lexer": "ipython3",
   "version": "3.7.4"
  }
 },
 "nbformat": 4,
 "nbformat_minor": 2
}
