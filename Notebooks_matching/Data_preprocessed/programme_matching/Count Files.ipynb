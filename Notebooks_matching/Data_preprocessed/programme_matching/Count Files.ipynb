{
 "cells": [
  {
   "cell_type": "code",
   "execution_count": 1,
   "metadata": {},
   "outputs": [],
   "source": [
    "    # Import S3 connectors librairies\n",
    "    #from awsPy.aws_authorization import aws_connector\n",
    "    import importlib.util\n",
    "    spec = importlib.util.spec_from_file_location(\"aws_connector.py\", \"../../../../aws-python/awsPy/aws_authorization/aws_connector.py\")\n",
    "    aws_connector = importlib.util.module_from_spec(spec)\n",
    "    spec.loader.exec_module(aws_connector)\n",
    "\n",
    "    #from awsPy.aws_s3 import service_s3\n",
    "    import importlib.util\n",
    "    spec = importlib.util.spec_from_file_location(\"service_s3.py\", \"../../../../aws-python/awsPy/aws_s3/service_s3.py\")\n",
    "    service_s3 = importlib.util.module_from_spec(spec)\n",
    "    spec.loader.exec_module(service_s3)\n",
    "\n",
    "    # Connect to S3\n",
    "    import os\n",
    "    from pathlib import Path\n",
    "\n",
    "    bucket = 'calfdata'\n",
    "    path = os.getcwd()\n",
    "    parent_path = str(Path(path).parent)\n",
    "    path_cred = \"{}/programme_matching/credential_AWS.json\".format(parent_path)\n",
    "\n",
    "    con = aws_connector.aws_instantiate(credential = path_cred,\n",
    "                                            region = 'eu-west-3')\n",
    "    client= con.client_boto()\n",
    "    s3 = service_s3.connect_S3(client = client,\n",
    "                          bucket = 'calfdata')\n",
    "\n",
    "    bucket_name='calfdata'\n",
    "    bucket = client['resource'].Bucket(bucket_name)    "
   ]
  },
  {
   "cell_type": "code",
   "execution_count": 2,
   "metadata": {},
   "outputs": [],
   "source": [
    "def count_objects_s3(Prefix_):\n",
    "    list_obj = bucket.objects.filter(Prefix=folder)\n",
    "    c=0\n",
    "    for obj in list_obj:\n",
    "        c+=1\n",
    "    return (c,list_obj)"
   ]
  },
  {
   "cell_type": "code",
   "execution_count": 3,
   "metadata": {
    "scrolled": true
   },
   "outputs": [
    {
     "data": {
      "text/plain": [
       "0"
      ]
     },
     "execution_count": 3,
     "metadata": {},
     "output_type": "execute_result"
    }
   ],
   "source": [
    "folder='INPI/TC_1/00_RawData/public/IMR_Donnees_Saisies/tc/flux/2019'\n",
    "(c,list_obj)=count_objects_s3(folder)\n",
    "c"
   ]
  },
  {
   "cell_type": "code",
   "execution_count": 4,
   "metadata": {},
   "outputs": [
    {
     "name": "stderr",
     "output_type": "stream",
     "text": [
      "0it [00:00, ?it/s]\n"
     ]
    }
   ],
   "source": [
    "# Save file list to a file\n",
    "import csv, time\n",
    "from tqdm import tqdm\n",
    "\n",
    "timestr = time.strftime(\"%Y%m%d-%H%M%S\")\n",
    "logtd_name=\"{}/{}/{}_{}_{}{}\".format('data','count',timestr,'listobj','RawFlux2019','.csv')\n",
    "logtd = open(logtd_name, 'w')\n",
    "with logtd as myfile:\n",
    "    wr = csv.writer(myfile,delimiter=';',quoting=csv.QUOTE_ALL)\n",
    "    wr.writerow(['key'])\n",
    "    for obj in tqdm(list_obj):\n",
    "        wr.writerow([obj.key])\n",
    "logtd.close()"
   ]
  },
  {
   "cell_type": "code",
   "execution_count": null,
   "metadata": {},
   "outputs": [],
   "source": []
  },
  {
   "cell_type": "code",
   "execution_count": null,
   "metadata": {},
   "outputs": [],
   "source": [
    "folder='INPI/TC_1/00_RawData/public/IMR_Donnees_Saisies/tc/flux/2017' # => 308074\n",
    "folder='INPI/TC_1/00_RawData/public/IMR_Donnees_Saisies/tc/flux/2018' # => 548034\n",
    "folder='INPI/TC_1/00_RawData/public/IMR_Donnees_Saisies/tc/flux/2019' # => ENCORE VIDE\n",
    "folder='INPI/TC_1/Flux/2017' # => 323283 \n",
    "folder='INPI/TC_1/Flux/2018' # => 508901\n",
    "folder='INPI/TC_1/Flux/2019' # => 539098\n",
    "folder='INPI/TC_1/01_donnee_source/Flux/2017' # => 307962\n",
    "folder='INPI/TC_1/01_donnee_source/Flux/2018' # => 414337\n",
    "folder='INPI/TC_1/01_donnee_source/Flux/2019' # => 539094\n",
    "\n",
    "\n",
    "folder='INPI/TC_1/00_RawData/public/IMR_Donnees_Saisies/tc/stock/2017' # => 26490 !!! Il y a un mix de csv et de zip\n",
    "folder='INPI/TC_1/00_RawData/public/IMR_Donnees_Saisies/tc/stock/2018' # => 69 zip\n",
    "folder='INPI/TC_1/00_RawData/public/IMR_Donnees_Saisies/tc/stock/2019' # => 668 zip\n",
    "folder='INPI/TC_1/Stock/2017' # => N'existe pas\n",
    "folder='INPI/TC_1/Stock/2018' # => N'existe pas\n",
    "folder='INPI/TC_1/Stock/2019' # => N'existe pas\n",
    "folder='INPI/TC_1/01_donnee_source/Stock/Stock_Initial/2017' # => 938 csv\n",
    "folder='INPI/TC_1/01_donnee_source/Stock/Stock_Partiel/2018' # => 483 csv\n",
    "folder='INPI/TC_1/01_donnee_source/Stock/Stock_Partiel/2019' # => 4676 csv"
   ]
  }
 ],
 "metadata": {
  "kernelspec": {
   "display_name": "Python 3",
   "language": "python",
   "name": "python3"
  },
  "language_info": {
   "codemirror_mode": {
    "name": "ipython",
    "version": 3
   },
   "file_extension": ".py",
   "mimetype": "text/x-python",
   "name": "python",
   "nbconvert_exporter": "python",
   "pygments_lexer": "ipython3",
   "version": "3.7.0"
  }
 },
 "nbformat": 4,
 "nbformat_minor": 2
}
