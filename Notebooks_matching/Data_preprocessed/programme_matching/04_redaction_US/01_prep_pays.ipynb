{
 "cells": [
  {
   "cell_type": "markdown",
   "metadata": {},
   "source": [
    "# Normaliser la variable Pays\n",
    "\n",
    "```\n",
    "Entant que {X} je souhaite {normaliser la variable pays} afin de {pouvoir la faire correspondre à l'INSEE}\n",
    "```\n",
    "\n",
    "# Contexte\n",
    "\n",
    "Nous pouvons considérer une nouvelle variable de matching afin de faire correspondre les deux tables sources, INSEE et INPI. Dans les US précédents, nous avons normalisé la ville et le code postal. Dans cette US, nous allons nous interessé au pays. Cette variable ne fait pas exception, aucune normalisation n'est appliquée alors que l'INSEE affiche toujours la même rigueur. A vrai dire, il y a 107 valeurs possibles à l'INPI à l'heure ou nous écrivons l'US. L'INSEE recence précisément 286.\n",
    "\n",
    "L'algorithme va utiliser séquentiellement les variables suivantes, en plus du siren:\n",
    "\n",
    "```\n",
    "{'ville_matching', 'Code_Postal', 'Code_Commune', 'INSEE', 'digit_inpi'},\n",
    " {'ville_matching', 'Code_Postal', 'Code_Commune', 'INSEE'},\n",
    " {'ville_matching', 'Code_Postal', 'Code_Commune', 'digit_inpi'},\n",
    " {'ville_matching', 'Code_Postal', 'Code_Commune'},   \n",
    " {'ville_matching', 'Code_Postal'},\n",
    " {'ville_matching'},\n",
    " {'Code_Postal'},\n",
    " {'Code_Commune'}\n",
    "```\n",
    "\n",
    "avec potentiellement la variable pays que l'on va normaliser dans cette US.\n",
    "\n",
    "Workflow US (via stock)\n",
    "\n",
    "![workflow](https://www.lucidchart.com/publicSegments/view/d9e4494d-bfaf-4d0e-9e0f-53011cda7eb9/image.png)\n",
    "\n",
    "# US / ISSUES liées\n",
    "\n",
    "[PO & DEV : s'il existe des références, les inscrire]\n",
    "\n",
    "# Besoin\n",
    "\n",
    "Dans cette US, le besoin est le suivant:\n",
    "\n",
    "- Mettre en conformité la variable pays de l'INPI\n",
    "\n"
   ]
  },
  {
   "cell_type": "markdown",
   "metadata": {},
   "source": [
    "# Spécifications\n",
    "\n",
    "Pour récupérer les codes pays de l'INSEE, il faut se rendre sur cet [URL](https://www.insee.fr/fr/information/2028273). Pour récupérer les codes, nous pouvons télécharger la data directement sur le site de l'[INSEE](https://www.insee.fr/fr/information/3720946#titre-bloc-21):\n",
    "\n",
    "Source GitLab:\n",
    "\n",
    "- PDF: [Codification des pays et territoires étrangers _ Insee](https://scm.saas.cagip.group.gca/PERNETTH/inseeinpi_matching/blob/master/Notebooks_matching/Data_preprocessed/programme_matching/data/input/RawParameters/Codification%20des%20pays%20et%C2%A0territoires%20%C3%A9trangers%20_%20Insee.pdf)\n",
    "\n",
    "## Input\n",
    "\n",
    "[PO : dans le cas de transformation de données, préciser ,les sources :\n",
    "\n",
    "*   Applications\n",
    "*   Schémas\n",
    "*   Tables: `inpi_etablissement_historique`\n",
    "* CSV: https://www.insee.fr/fr/information/3720946#titre-bloc-21\n",
    "*   Champs: `pays`\n",
    "\n"
   ]
  },
  {
   "cell_type": "markdown",
   "metadata": {},
   "source": [
    "### Exemple codification pays INSEE\n",
    "\n",
    "Ci dessous, un apperçu des codes pays à l'INSEE"
   ]
  },
  {
   "cell_type": "code",
   "execution_count": 1,
   "metadata": {},
   "outputs": [],
   "source": [
    "country_code = 'https://www.insee.fr/fr/statistiques/fichier/' \\\n",
    "'3720946/pays2019-csv.zip'"
   ]
  },
  {
   "cell_type": "code",
   "execution_count": 56,
   "metadata": {},
   "outputs": [],
   "source": [
    "import pandas as pd\n",
    "import numpy as np"
   ]
  },
  {
   "cell_type": "code",
   "execution_count": 28,
   "metadata": {},
   "outputs": [],
   "source": [
    "country_insee = pd.read_csv(country_code, sep = \",\")\n"
   ]
  },
  {
   "cell_type": "code",
   "execution_count": 7,
   "metadata": {},
   "outputs": [
    {
     "name": "stdout",
     "output_type": "stream",
     "text": [
      "|    |   cog |   actual |   capay |   crpay |   ani | libcog       | libenr               |   ancnom | codeiso2   | codeiso3   |   codenum3 |\n",
      "|---:|------:|---------:|--------:|--------:|------:|:-------------|:---------------------|---------:|:-----------|:-----------|-----------:|\n",
      "|  0 | 99101 |        1 |     nan |     nan |   nan | DANEMARK     | ROYAUME DU DANEMARK  |      nan | DK         | DNK        |        208 |\n",
      "|  1 | 99101 |        3 |   99102 |     nan |   nan | FEROE (ILES) | FÉROÉ (ÎLES)         |      nan | FO         | FRO        |        234 |\n",
      "|  2 | 99102 |        1 |     nan |     nan |  1944 | ISLANDE      | RÉPUBLIQUE D'ISLANDE |      nan | IS         | ISL        |        352 |\n",
      "|  3 | 99103 |        1 |     nan |     nan |   nan | NORVEGE      | ROYAUME DE NORVÈGE   |      nan | NO         | NOR        |        578 |\n",
      "|  4 | 99103 |        3 |     nan |     nan |   nan | BOUVET (ILE) | BOUVET (ÎLE)         |      nan | BV         | BVT        |         74 |\n"
     ]
    }
   ],
   "source": [
    "print(country_insee.head().to_markdown())"
   ]
  },
  {
   "cell_type": "markdown",
   "metadata": {},
   "source": [
    "### Exemple de possibilité INPI\n",
    "\n",
    "Ci dessous, un apperçu des codes pays à l'INPI"
   ]
  },
  {
   "cell_type": "code",
   "execution_count": 8,
   "metadata": {},
   "outputs": [],
   "source": [
    "country_inpi = 'https://scm.saas.cagip.group.gca/PERNETTH/' \\\n",
    "'inseeinpi_matching/raw/master/Notebooks_matching/Data_preprocessed/' \\\n",
    "'programme_matching/data/input/RawParameters/test_inpi_country.csv'\n",
    "country_inpi = pd.read_csv(country_inpi)"
   ]
  },
  {
   "cell_type": "code",
   "execution_count": 10,
   "metadata": {},
   "outputs": [
    {
     "name": "stdout",
     "output_type": "stream",
     "text": [
      "|    | pays      |\n",
      "|---:|:----------|\n",
      "|  0 | nan       |\n",
      "|  1 | ALGERIE   |\n",
      "|  2 | ALLEMAGNE |\n",
      "|  3 | AUSTRALIE |\n",
      "|  4 | Algerie   |\n"
     ]
    }
   ],
   "source": [
    "print(country_inpi.head().to_markdown())"
   ]
  },
  {
   "cell_type": "markdown",
   "metadata": {},
   "source": [
    "## Output\n",
    "\n",
    "[PO : dans le cas de transformation de données, préciser les sorties :\n",
    "\n",
    "*   BDD cibles\n",
    "*   Tables: `inpi_etablissement_historique`\n",
    "*   Champs: `pays_matching`\n",
    "\n",
    "]\n",
    "\n",
    "La table ci-dessous donne un apperçu de l'output résultant du merge entre la codification des pays à l'INSEE et l'INPI. Notre variable d'intérêt est `pays_matching`, qui est le code de référence à l'INSEE.\n",
    "\n",
    "Nous le verrons dans la partie d'après mais un nettoyage avant le merge est nécéssaire."
   ]
  },
  {
   "cell_type": "code",
   "execution_count": 22,
   "metadata": {},
   "outputs": [],
   "source": [
    "pd.set_option('display.max_rows', None)"
   ]
  },
  {
   "cell_type": "code",
   "execution_count": null,
   "metadata": {},
   "outputs": [],
   "source": [
    "regex = r\"[^\\w\\s]|\\([^()]*\\)+\"\n",
    "\n",
    "country_insee = (country_insee\n",
    "                 .assign(pays_regex = lambda x:\n",
    "    x['libcog']\n",
    " .str.upper()\n",
    " .drop_duplicates()\n",
    " .str.replace(\" \",\"\")\n",
    " .str.normalize('NFKD') ### Supprimer accents\n",
    " .str.encode('ascii', errors='ignore')\n",
    " .str.decode('utf-8')\n",
    " .str.replace(regex, '')\n",
    " .sort_values()\n",
    ")\n",
    ")"
   ]
  },
  {
   "cell_type": "code",
   "execution_count": 67,
   "metadata": {},
   "outputs": [
    {
     "name": "stdout",
     "output_type": "stream",
     "text": [
      "|    | pays        | pays_regex   |   pays_matching | _merge   |\n",
      "|---:|:------------|:-------------|----------------:|:---------|\n",
      "|  1 | ALGERIE     | ALGERIE      |           99352 | both     |\n",
      "|  2 | ALLEMAGNE   | ALLEMAGNE    |           99109 | both     |\n",
      "|  3 | AUSTRALIE   | AUSTRALIE    |           99501 | both     |\n",
      "|  4 | AUTRICHE    | AUTRICHE     |           99110 | both     |\n",
      "|  5 | AZERBAIDJAN | AZERBAIDJAN  |           99253 | both     |\n"
     ]
    }
   ],
   "source": [
    "regex = r\"[^\\w\\s]|\\([^()]*\\)+\"\n",
    "\n",
    "match = (country_inpi\n",
    " .apply(lambda x:\n",
    "         x\n",
    " .str.upper()\n",
    " .drop_duplicates()\n",
    " .str.replace(\" \",\"\")\n",
    " .str.normalize('NFKD') ### Supprimer accents\n",
    " .str.encode('ascii', errors='ignore')\n",
    " .str.decode('utf-8')\n",
    " .str.replace(regex, '')\n",
    " .str.replace('ETATSUNISDAMERIQUE', 'ETATSUNIS')\n",
    " .str.replace('BURKINAFASO', 'BURKINA')\n",
    "        .str.replace('CONGOKINSHASAREPDEMODUCONGO', 'CONGOREPUBLIQUEDEMOCRATIQUE')\n",
    "        .str.replace('COREEDUSUD', 'COREEREPUBLIQUEDE')\n",
    "        .str.replace('ILEMAURICE', 'MAURICE')\n",
    "        .str.replace('IRLANDE', 'IRLANDEOUEIRE')\n",
    "        .str.replace('REPUBLIQUETCHEQUE', 'TCHEQUEREPUBLIQUE')\n",
    "        .str.replace('SWAZILAND', 'ESWATINI')\n",
    " .drop_duplicates()\n",
    "        )\n",
    ".merge(country_insee[['pays_regex', 'cog']], \n",
    "        how = 'left', \n",
    "        left_on = 'pays', \n",
    "        right_on = 'pays_regex', \n",
    "        indicator = True)\n",
    " .loc[lambda x: x['_merge'].isin(['both']) & ~x['pays'].isin([np.nan])]\n",
    " .rename(columns = {\"cog\":'pays_matching'})\n",
    ")\n",
    "print(match.head().to_markdown())"
   ]
  },
  {
   "cell_type": "markdown",
   "metadata": {},
   "source": [
    "```\n",
    " (country_inpi\n",
    " .assign(pays_regex = lambda x:\n",
    "         x['pays']\n",
    " .str.upper()\n",
    " #.drop_duplicates()\n",
    " .str.replace(\" \",\"\")\n",
    " .str.normalize('NFKD') ### Supprimer accents\n",
    " .str.encode('ascii', errors='ignore')\n",
    " .str.decode('utf-8')\n",
    " .str.replace(regex, '')\n",
    " .str.replace('ETATSUNISDAMERIQUE', 'ETATSUNIS')\n",
    " .str.replace('BURKINAFASO', 'BURKINA')\n",
    "        .str.replace('CONGOKINSHASAREPDEMODUCONGO', 'CONGOREPUBLIQUEDEMOCRATIQUE')\n",
    "        .str.replace('COREEDUSUD', 'COREEREPUBLIQUEDE')\n",
    "        .str.replace('ILEMAURICE', 'MAURICE')\n",
    "        .str.replace('IRLANDE', 'IRLANDEOUEIRE')\n",
    "        .str.replace('REPUBLIQUETCHEQUE', 'TCHEQUEREPUBLIQUE')\n",
    "        .str.replace('SWAZILAND', 'ESWATINI')\n",
    " #.drop_duplicates()\n",
    "        )\n",
    ".merge(country_insee[['pays_regex', 'cog']], \n",
    "        how = 'left', \n",
    "        #left_on = 'pays', \n",
    "        #right_on = 'pays_regex', \n",
    "        indicator = True)\n",
    " .loc[lambda x: x['_merge'].isin(['both']) & ~x['pays'].isin([np.nan])]\n",
    " .rename(columns = {\"cog\":'pays_matching'})\n",
    ".to_csv('pays_insee_inpi.csv', index = False)\n",
    ")\n",
    "\n",
    "CREATE EXTERNAL TABLE IF NOT EXISTS inpi.pays_insee_inpi (\n",
    "  `pays` string,\n",
    "  `pays_regex` string,\n",
    "  `pays_matching` string,\n",
    "  `merge` string \n",
    ")\n",
    "ROW FORMAT SERDE 'org.apache.hadoop.hive.serde2.lazy.LazySimpleSerDe'\n",
    "WITH SERDEPROPERTIES (\n",
    "  'serialization.format' = ',',\n",
    "  'field.delim' = ','\n",
    ") LOCATION 's3://calfdata/INPI/TC_1/02_preparation_donnee/intermediate_file/pays/'\n",
    "TBLPROPERTIES ('has_encrypted_data'='false');"
   ]
  },
  {
   "cell_type": "markdown",
   "metadata": {},
   "source": [
    "## Règles de gestion applicables\n",
    "\n",
    "[PO : Formules applicables]\n",
    "\n",
    "# Charges de l'équipe\n",
    "\n",
    "[\n",
    "\n",
    "PO : Si des étapes particulières / des points d'attention sont attendus, être aussi explicite que possible\n",
    "\n",
    "Spécifiquement pour l'intégration de nouvelles données dans DATUM :\n",
    "\n",
    "*   Nombre de lignes chargées pour chaque nouvelle table\n",
    "*   Poids de chaque nouvelle table\n",
    "*   Durée du traitement ajouté (+ durée avant et après)\n",
    "\n",
    "]\n",
    "\n",
    "La variable pays_matching correspond au code pays normalisée du pays à l'INSEE.\n",
    "\n",
    "### Regex nettoyage\n",
    "\n",
    "**INPI**\n",
    "\n",
    "[Snippet Regex INPI](https://scm.saas.cagip.group.gca/PERNETTH/inseeinpi_matching/snippets/59)\n",
    "\n",
    "1. Mettre en lettre majuscule le string\n",
    "2. Suppression des doublons\n",
    "3. Enlever les espaces\n",
    "4. Extraction des accents\n",
    "5. Extraction pattern regex:\n",
    "    - caractères spéciaux\n",
    "    - Espace debut de string\n",
    "    - Parenthèse\n",
    "6. Mise en forme des pays INPI - INSEE dont on sait la différence:\n",
    "    - ETATSUNISDAMERIQUE vers ETATSUNIS\n",
    "    - BURKINAFASO vers BURKINA\n",
    "    - CONGOKINSHASAREPDEMODUCONGO vers CONGOREPUBLIQUEDEMOCRATIQUE\n",
    "    - COREEDUSUD vers COREEREPUBLIQUEDE\n",
    "    - ILEMAURICE vers MAURICE\n",
    "    - IRLANDE vers IRLANDEOUEIRE\n",
    "    - REPUBLIQUETCHEQUE vers TCHEQUEREPUBLIQUE\n",
    "    - SWAZILAND vers ESWATINI\n",
    "\n",
    "**INSEE**\n",
    "\n",
    "[Snippet Regex INSEE](https://scm.saas.cagip.group.gca/PERNETTH/inseeinpi_matching/snippets/58)\n",
    "\n",
    "1. Mettre en lettre majuscule le string\n",
    "2. Suppression des doublons\n",
    "3. Enlever les espaces\n",
    "4. Extraction des accents\n",
    "5. Extraction pattern regex:\n",
    "    - caractères spéciaux\n",
    "    - Espace debut de string\n",
    "    - Parenthèse"
   ]
  },
  {
   "cell_type": "markdown",
   "metadata": {},
   "source": [
    "# Tests d'acceptance\n",
    "\n",
    "[PO : comment contrôler que la réalisation est conforme]\n",
    "\n",
    "- Compter le nombre de pays: normalement environ 79\n",
    "- Verifiez que la variable `pays_matching` à une seule \n",
    "- Récuperer le pourcentage de ligne par pays à l'inpi. Utiliser la variable `pays_matching`. Doit correspondre plus ou moins au tableau ci-dessous.\n",
    "\n",
    "```\n",
    "SELECT pays_matching,pays_regex, count(*) as count\n",
    "FROM \n",
    "(SELECT pays_matching, pays_regex\n",
    " FROM initial_partiel_evt_new_ets_status_final \n",
    "LEFT JOIN pays_insee_inpi \n",
    "ON initial_partiel_evt_new_ets_status_final.pays = pays_insee_inpi.pays\n",
    ")\n",
    "GROUP BY pays_matching, pays_regex\n",
    "ORDER BY count\n",
    "```"
   ]
  },
  {
   "cell_type": "code",
   "execution_count": 75,
   "metadata": {},
   "outputs": [
    {
     "name": "stdout",
     "output_type": "stream",
     "text": [
      "|    | pays_matching   | pays_regex                  |    count |\n",
      "|---:|:----------------|:----------------------------|---------:|\n",
      "| 79 | XXXXX           | FRANCE                      | 13444259 |\n",
      "| 78 | nan             | nan                         |     2123 |\n",
      "| 77 | 99132           | ROYAUMEUNI                  |      244 |\n",
      "| 76 | 99109           | ALLEMAGNE                   |      139 |\n",
      "| 75 | 99404           | ETATSUNIS                   |       81 |\n",
      "| 74 | 99127           | ITALIE                      |       75 |\n",
      "| 73 | 99137           | LUXEMBOURG                  |       62 |\n",
      "| 72 | 99131           | BELGIQUE                    |       61 |\n",
      "| 71 | 99217           | JAPON                       |       54 |\n",
      "| 70 | 99135           | PAYSBAS                     |       50 |\n",
      "| 69 | 99136           | IRLANDEOUEIRE               |       46 |\n",
      "| 68 | 99351           | TUNISIE                     |       44 |\n",
      "| 67 | 99134           | ESPAGNE                     |       43 |\n",
      "| 66 | 99140           | SUISSE                      |       38 |\n",
      "| 65 | 99239           | COREEREPUBLIQUEDE           |       20 |\n",
      "| 62 | 99401           | CANADA                      |       17 |\n",
      "| 64 | 99216           | CHINE                       |       17 |\n",
      "| 63 | 99326           | COTEDIVOIRE                 |       17 |\n",
      "| 61 | 99350           | MAROC                       |       16 |\n",
      "| 60 | 99352           | ALGERIE                     |       15 |\n",
      "| 59 | 99139           | PORTUGAL                    |       14 |\n",
      "| 58 | 99104           | SUEDE                       |       14 |\n",
      "| 57 | 99409           | GUATEMALA                   |       13 |\n",
      "| 56 | 99223           | INDE                        |       12 |\n",
      "| 55 | 99114           | ROUMANIE                    |       12 |\n",
      "| 53 | 99230           | HONGKONG                    |        9 |\n",
      "| 54 | 99226           | SINGAPOUR                   |        9 |\n",
      "| 52 | 99390           | MAURICE                     |        8 |\n",
      "| 51 | 99105           | FINLANDE                    |        8 |\n",
      "| 50 | 99123           | RUSSIE                      |        7 |\n",
      "| 49 | 99122           | POLOGNE                     |        7 |\n",
      "| 48 | 99101           | DANEMARK                    |        7 |\n",
      "| 47 | 99247           | EMIRATSARABESUNIS           |        7 |\n",
      "| 46 | 99208           | TURQUIE                     |        7 |\n",
      "| 45 | 99107           | LETTONIE                    |        7 |\n",
      "| 43 | 99111           | BULGARIE                    |        6 |\n",
      "| 41 | 99341           | SENEGAL                     |        6 |\n",
      "| 44 | 99110           | AUTRICHE                    |        6 |\n",
      "| 42 | 99126           | GRECE                       |        6 |\n",
      "| 40 | 99501           | AUSTRALIE                   |        5 |\n",
      "| 39 | 99335           | MALI                        |        5 |\n",
      "| 38 | 99236           | TAIWAN                      |        5 |\n",
      "| 37 | 99227           | MALAISIE                    |        4 |\n",
      "| 36 | 99204           | IRAN                        |        4 |\n",
      "| 35 | 99103           | NORVEGE                     |        4 |\n",
      "| 34 | 99301           | EGYPTE                      |        4 |\n",
      "| 33 | 99112           | HONGRIE                     |        4 |\n",
      "| 28 | 99117           | SLOVAQUIE                   |        3 |\n",
      "| 25 | 99106           | ESTONIE                     |        3 |\n",
      "| 26 | 99155           | UKRAINE                     |        3 |\n",
      "| 27 | 99116           | TCHEQUEREPUBLIQUE           |        3 |\n",
      "| 24 | 99330           | GUINEE                      |        3 |\n",
      "| 29 | 99331           | BURKINA                     |        3 |\n",
      "| 31 | 99254           | CHYPRE                      |        3 |\n",
      "| 32 | 99121           | SERBIE                      |        3 |\n",
      "| 30 | 99413           | PANAMA                      |        3 |\n",
      "| 19 | 99108           | LITUANIE                    |        2 |\n",
      "| 15 | 99324           | CONGO                       |        2 |\n",
      "| 16 | 99207           | ISRAEL                      |        2 |\n",
      "| 17 | 99419           | COLOMBIE                    |        2 |\n",
      "| 18 | 99144           | MALTE                       |        2 |\n",
      "| 20 | 99113           | LIECHTENSTEIN               |        2 |\n",
      "| 21 | 99248           | QATAR                       |        2 |\n",
      "| 22 | 99138           | MONACO                      |        2 |\n",
      "| 23 | 99119           | CROATIE                     |        2 |\n",
      "|  8 | 99333           | MADAGASCAR                  |        1 |\n",
      "|  2 | 99312           | CONGOREPUBLIQUEDEMOCRATIQUE |        1 |\n",
      "|  3 | 99344           | TCHAD                       |        1 |\n",
      "|  4 | 99205           | LIBAN                       |        1 |\n",
      "|  5 | 99407           | CUBA                        |        1 |\n",
      "|  6 | 99391           | ESWATINI                    |        1 |\n",
      "|  7 | 99345           | TOGO                        |        1 |\n",
      "|  1 | 99253           | AZERBAIDJAN                 |        1 |\n",
      "|  9 | 99145           | SLOVENIE                    |        1 |\n",
      "| 10 | 99322           | CAMEROUN                    |        1 |\n",
      "| 11 | 99243           | VIETNAM                     |        1 |\n",
      "| 12 | 99323           | CENTRAFRICAINEREPUBLIQUE    |        1 |\n",
      "| 13 | 99327           | BENIN                       |        1 |\n",
      "| 14 | 99219           | THAILANDE                   |        1 |\n",
      "|  0 | 99424           | VENEZUELA                   |        1 |\n"
     ]
    }
   ],
   "source": [
    "count_pays= \"https://scm.saas.cagip.group.gca/PERNETTH/inseeinpi_matching/raw/\" \\\n",
    "\"master/US_Datum/00_Preparation_data/Acceptance_test/pays_inpi_count.csv\"\n",
    "print(pd.read_csv(count_pays).sort_values(by = 'count', \n",
    "                                          ascending = False).to_markdown())"
   ]
  }
 ],
 "metadata": {
  "jupytext": {
   "formats": "ipynb,md"
  },
  "kernelspec": {
   "display_name": "Python 3",
   "language": "python",
   "name": "python3"
  },
  "language_info": {
   "codemirror_mode": {
    "name": "ipython",
    "version": 3
   },
   "file_extension": ".py",
   "mimetype": "text/x-python",
   "name": "python",
   "nbconvert_exporter": "python",
   "pygments_lexer": "ipython3",
   "version": "3.7.6"
  }
 },
 "nbformat": 4,
 "nbformat_minor": 4
}
