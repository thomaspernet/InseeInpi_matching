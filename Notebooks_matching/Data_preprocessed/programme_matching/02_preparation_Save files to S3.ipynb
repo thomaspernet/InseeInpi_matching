{
 "cells": [
  {
   "cell_type": "code",
   "execution_count": null,
   "metadata": {},
   "outputs": [],
   "source": [
    "!pip install boto3"
   ]
  },
  {
   "cell_type": "code",
   "execution_count": 2,
   "metadata": {},
   "outputs": [],
   "source": [
    "import utils as u\n",
    "import os"
   ]
  },
  {
   "cell_type": "code",
   "execution_count": 3,
   "metadata": {},
   "outputs": [],
   "source": [
    "if not 'workbookDir' in globals():\n",
    "    workbookDir = os.getcwd()"
   ]
  },
  {
   "cell_type": "code",
   "execution_count": 4,
   "metadata": {},
   "outputs": [],
   "source": [
    "aws_separator = \"/\""
   ]
  },
  {
   "cell_type": "code",
   "execution_count": 15,
   "metadata": {},
   "outputs": [],
   "source": [
    "# Import S3 connectors librairies\n",
    "#from awsPy.aws_authorization import aws_connector\n",
    "import importlib.util\n",
    "spec = importlib.util.spec_from_file_location(\"aws_connector.py\", \"C:/Users/Hp/Documents/GitHub/aws-python/awsPy/aws_authorization/aws_connector.py\")\n",
    "aws_connector = importlib.util.module_from_spec(spec)\n",
    "spec.loader.exec_module(aws_connector)\n",
    "\n",
    "#from awsPy.aws_s3 import service_s3\n",
    "import importlib.util\n",
    "spec = importlib.util.spec_from_file_location(\"service_s3.py\", \"C:/Users/Hp/Documents/GitHub/aws-python/awsPy/aws_s3/service_s3.py\")\n",
    "service_s3 = importlib.util.module_from_spec(spec)\n",
    "spec.loader.exec_module(service_s3)"
   ]
  },
  {
   "cell_type": "code",
   "execution_count": 16,
   "metadata": {},
   "outputs": [],
   "source": [
    "# Connect to S3\n",
    "import os\n",
    "from pathlib import Path\n",
    "\n",
    "bucket = 'calfdata'\n",
    "path = os.getcwd()\n",
    "parent_path = str(Path(path).parent)\n",
    "path_cred = \"{}/programme_matching/credential_AWS.json\".format(parent_path)\n",
    "\n",
    "con = aws_connector.aws_instantiate(credential = path_cred,\n",
    "                                        region = 'eu-west-3')\n",
    "client= con.client_boto()\n",
    "s3 = service_s3.connect_S3(client = client,\n",
    "                      bucket = 'calfdata')"
   ]
  },
  {
   "cell_type": "code",
   "execution_count": null,
   "metadata": {},
   "outputs": [],
   "source": [
    "# List files to send and compute each destination\n",
    "prep_path='data/prep'\n",
    "\n",
    "list_files=[]\n",
    "for root,dirs,files in os.walk(prep_path):\n",
    "    for file in files:\n",
    "          if file.endswith(('.csv')):\n",
    "                print(file)\n",
    "                list_files.append((file, u.calc_dest(filename=file)))\n",
    "list_files[:5]"
   ]
  },
  {
   "cell_type": "code",
   "execution_count": null,
   "metadata": {},
   "outputs": [],
   "source": [
    "# Send files to s3\n",
    "for (file_to_upload,destination_in_s3) in list_files:\n",
    "    # if file exist in S3?\n",
    "    full_path = os.path.join(prep_path, file_to_upload)\n",
    "    s3.upload_file(full_path, destination_in_s3)"
   ]
  },
  {
   "cell_type": "code",
   "execution_count": null,
   "metadata": {},
   "outputs": [],
   "source": [
    "def file_exists_s3(full_path):\n",
    "    try:\n",
    "        client[\"resource\"].Object(bucket, 'dootdoot.jpg').load()\n",
    "    except Exception as e:\n",
    "        if e.response['Error']['Code'] == \"404\":\n",
    "            # The object does not exist.\n",
    "            return False\n",
    "        else:\n",
    "            # Something else has gone wrong.\n",
    "            raise\n",
    "    else:\n",
    "        # The object does exist.\n",
    "        return True"
   ]
  },
  {
   "cell_type": "code",
   "execution_count": null,
   "metadata": {},
   "outputs": [],
   "source": [
    "# A FAIRE\n",
    "# if file exist in S3?\n",
    "(file_to_upload,destination_in_s3)=list_files[0]\n",
    "full_path=\"{}/{}\".format(destination_in_s3,file_to_upload)\n",
    "full_path"
   ]
  },
  {
   "cell_type": "code",
   "execution_count": null,
   "metadata": {},
   "outputs": [],
   "source": [
    "# check file existence in S3\n",
    "file_exists_s3(full_path)"
   ]
  },
  {
   "cell_type": "code",
   "execution_count": null,
   "metadata": {},
   "outputs": [],
   "source": []
  },
  {
   "cell_type": "code",
   "execution_count": null,
   "metadata": {},
   "outputs": [],
   "source": []
  },
  {
   "cell_type": "code",
   "execution_count": null,
   "metadata": {},
   "outputs": [],
   "source": [
    "# Send Raw files to S3"
   ]
  },
  {
   "cell_type": "code",
   "execution_count": 5,
   "metadata": {},
   "outputs": [],
   "source": [
    "# List files to send and compute each destination\n",
    "import os\n",
    "prep_path= 'flux' #os.path.join(workbookDir,'flux')\n",
    "root_path=aws_separator.join(['INPI', 'TC_1' , '00_RawData', 'public' ,'IMR_Donnees_Saisies' ,'tc'])"
   ]
  },
  {
   "cell_type": "code",
   "execution_count": 6,
   "metadata": {},
   "outputs": [
    {
     "data": {
      "text/plain": [
       "'INPI/TC_1/00_RawData/public/IMR_Donnees_Saisies/tc'"
      ]
     },
     "execution_count": 6,
     "metadata": {},
     "output_type": "execute_result"
    }
   ],
   "source": [
    "# TEST\n",
    "root_path"
   ]
  },
  {
   "cell_type": "code",
   "execution_count": 23,
   "metadata": {},
   "outputs": [
    {
     "data": {
      "text/plain": [
       "[('flux\\\\2017\\\\05\\\\18\\\\0101\\\\1\\\\0101_1_20170512_112544_10_ets_supprime_EVT.csv',\n",
       "  'INPI/TC_1/00_RawData/public/IMR_Donnees_Saisies/tc/flux/2017/05/18/0101/1'),\n",
       " ('flux\\\\2017\\\\05\\\\18\\\\0101\\\\1\\\\0101_1_20170512_112544_11_obs.csv',\n",
       "  'INPI/TC_1/00_RawData/public/IMR_Donnees_Saisies/tc/flux/2017/05/18/0101/1'),\n",
       " ('flux\\\\2017\\\\05\\\\18\\\\0101\\\\1\\\\0101_1_20170512_112544_12_actes.csv',\n",
       "  'INPI/TC_1/00_RawData/public/IMR_Donnees_Saisies/tc/flux/2017/05/18/0101/1'),\n",
       " ('flux\\\\2017\\\\05\\\\18\\\\0101\\\\1\\\\0101_1_20170512_112544_13_comptes_annuels.csv',\n",
       "  'INPI/TC_1/00_RawData/public/IMR_Donnees_Saisies/tc/flux/2017/05/18/0101/1'),\n",
       " ('flux\\\\2017\\\\05\\\\18\\\\0101\\\\1\\\\0101_1_20170512_112544_1_PM.csv',\n",
       "  'INPI/TC_1/00_RawData/public/IMR_Donnees_Saisies/tc/flux/2017/05/18/0101/1')]"
      ]
     },
     "execution_count": 23,
     "metadata": {},
     "output_type": "execute_result"
    }
   ],
   "source": [
    "list_files=[]\n",
    "for root,dirs,files in os.walk(prep_path):\n",
    "    for i, file in enumerate(files):\n",
    "          if file.endswith(('.csv')):\n",
    "                #print(root)\n",
    "                \n",
    "                source_full_path=os.path.join(root,file)\n",
    "                #print(source_full_path)\n",
    "                \n",
    "                dest_path = aws_separator.join([root_path,root.replace(\"\\\\\",\"/\")])\n",
    "                #print(dest_path)\n",
    "                list_files.append((source_full_path,dest_path))\n",
    "list_files[:5]"
   ]
  },
  {
   "cell_type": "code",
   "execution_count": null,
   "metadata": {},
   "outputs": [],
   "source": []
  },
  {
   "cell_type": "code",
   "execution_count": null,
   "metadata": {},
   "outputs": [],
   "source": [
    "#TEST\n",
    "#Celui qui fonctionne\n",
    "(full_path, destination_in_s3)=(r'C:/Users/Hp/Documents/GitHub/InseeInpi_matching/Notebooks_matching/Data_preprocessed/programme_matching/flux/2017/05/18/0101/1/0101_1_20170512_112544_10_ets_supprime_EVT.csv',\n",
    " r'INPI/TC_1/00_RawData/public/IMR_Donnees_Saisies/tc/flux/2017/05/18/0101/1')\n",
    "s3.upload_file(full_path, destination_in_s3)"
   ]
  },
  {
   "cell_type": "code",
   "execution_count": 19,
   "metadata": {},
   "outputs": [
    {
     "data": {
      "text/plain": [
       "[('flux\\\\2017\\\\05\\\\18\\\\0101\\\\1\\\\0101_1_20170512_112544_10_ets_supprime_EVT.csv',\n",
       "  'INPI/TC_1/00_RawData/public/IMR_Donnees_Saisies/tc/flux/2017/05/18/0101/1'),\n",
       " ('flux\\\\2017\\\\05\\\\18\\\\0101\\\\1\\\\0101_1_20170512_112544_11_obs.csv',\n",
       "  'INPI/TC_1/00_RawData/public/IMR_Donnees_Saisies/tc/flux/2017/05/18/0101/1')]"
      ]
     },
     "execution_count": 19,
     "metadata": {},
     "output_type": "execute_result"
    }
   ],
   "source": [
    "#TEST\n",
    "list_files[:2]"
   ]
  },
  {
   "cell_type": "code",
   "execution_count": 24,
   "metadata": {},
   "outputs": [],
   "source": [
    "# Send files to s3 (Raw flux/2017)\n",
    "#list_files[:100]\n",
    "for (full_path,destination_in_s3) in list_files:\n",
    "    # if file exist in S3?\n",
    "    s3.upload_file(full_path, destination_in_s3)"
   ]
  },
  {
   "cell_type": "code",
   "execution_count": null,
   "metadata": {},
   "outputs": [],
   "source": []
  }
 ],
 "metadata": {
  "kernelspec": {
   "display_name": "Python 3",
   "language": "python",
   "name": "python3"
  },
  "language_info": {
   "codemirror_mode": {
    "name": "ipython",
    "version": 3
   },
   "file_extension": ".py",
   "mimetype": "text/x-python",
   "name": "python",
   "nbconvert_exporter": "python",
   "pygments_lexer": "ipython3",
   "version": "3.7.4"
  }
 },
 "nbformat": 4,
 "nbformat_minor": 2
}
