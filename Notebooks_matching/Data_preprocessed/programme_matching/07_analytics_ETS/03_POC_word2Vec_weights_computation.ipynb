{
 "cells": [
  {
   "cell_type": "markdown",
   "metadata": {},
   "source": [
    "# Creation méthodologie calcul poids similarité adresse via word2vec\n",
    "\n",
    "Objective(s)\n",
    "\n",
    "- Lors du POC de l’US [US 06 Union et Intersection](https://coda.io/d/CreditAgricole_dCtnoqIftTn/US-06-Union-et-Intersection_sucns), nous avons besoin d’une table contenant les poids indiquant la similarité entre deux mots. Dès lors, il est indispensable de créer un notebook avec de la documentation sur la création de ces poids et de la technique utilisée. \n",
    "\n",
    "  - Une table sera créé dans Athena avec deux colonnes pour chacun des mots et un poids. Les trois nouvelles variables seront appelées:\n",
    "\n",
    "  - Mot_A\n",
    "  - Mot_B\n",
    "  - Index_relation\n",
    "\n",
    "- Pour calculer les poids, il faut utiliser la table suivante XX avec les variables:\n",
    "\n",
    "  -  `adresse_distance_inpi` \n",
    "  -  `adresse_distance_inpi` \n",
    "\n",
    "## Metadata\n",
    "\n",
    "- Metadata parameters are available here: [Ressources_suDYJ#_luZqd](http://Ressources_suDYJ#_luZqd)\n",
    "\n",
    "  - Task type:\n",
    "\n",
    "- Jupyter Notebook\n",
    "\n",
    "- Users: :\n",
    "\n",
    "    - [Thomas Pernet](mailto:t.pernetcoudrier@gmail.com)\n",
    "\n",
    "- Watchers:\n",
    "\n",
    "  - [Thomas Pernet](mailto:t.pernetcoudrier@gmail.com)\n",
    "\n",
    "- Estimated Log points:\n",
    "\n",
    "  - One being a simple task, 15 a very difficult one\n",
    "    -  7\n",
    "\n",
    "- Task tag\n",
    "\n",
    "  - \\#machine-learning,#word2vec,#documentation,#similarite\n",
    "\n",
    "- Toggl Tag\n",
    "\n",
    "  - \\#variable-computation\n",
    " \n",
    "  \n",
    "## Input Cloud Storage [AWS/GCP]\n",
    "\n",
    "If link from the internet, save it to the cloud first\n",
    "\n",
    "### Tables [AWS/BigQuery]\n",
    "\n",
    "1. Batch 1:\n",
    "  * Select Provider: Athena\n",
    "  * Select table(s): ets_insee_inpi\n",
    "    * Select only tables created from the same notebook, else copy/paste selection to add new input tables\n",
    "    * If table(s) does not exist, add them: Add New Table\n",
    "    * Information:\n",
    "      * Region: \n",
    "        * NameEurope (Paris)\n",
    "        * Code: eu-west-3\n",
    "      * Database: inpi\n",
    "      * Notebook construction file: https://github.com/thomaspernet/InseeInpi_matching/blob/master/Notebooks_matching/Data_preprocessed/programme_matching/01_preparation/03_ETS_add_variables.md\n",
    "    \n",
    "## Destination Output/Delivery\n",
    "\n",
    "1. Athena: \n",
    "      * Region: Europe (Paris)\n",
    "      * Database: machine_learning\n",
    "      * Tables (Add name new table):\n",
    "          - list_mots_insee_inpi\n",
    "          - list_mots_insee_inpi_word2vec_weights\n",
    "\n",
    "2. S3(Add new filename to Database: Ressources)\n",
    "      * Origin: Jupyter notebook\n",
    "      * Bucket: calfdata\n",
    "      * Key: MACHINE_LEARNING/NLP/WORD2VEC_WEIGHTS\n",
    "      * Filename(s): word2vec_weights_100\n",
    "\n",
    "  \n",
    "## Things to know (Steps, Attention points or new flow of information)\n",
    "\n",
    "### Sources of information  (meeting notes, Documentation, Query, URL)\n",
    "\n",
    "- Query [Athena/BigQuery]\n",
    "\n",
    "  1. Link 1: [Liste ngrams](https://eu-west-3.console.aws.amazon.com/athena/home?region=eu-west-3#query/history/79a481c2-df9c-4785-993b-4c6813947770)\n",
    "\n",
    "    - Description: Query utilisée précédemment pour créer la liste des combinaisons INSEE-INPI\n",
    "    \n",
    "1. GitHub\n",
    "  * Repo: https://github.com/thomaspernet/InseeInpi_matching\n",
    "  * Folder name: Notebooks_matching/Data_preprocessed/programme_matching/02_siretisation\n",
    "  * Source code:  Test_word2Vec.md\n",
    "2. Python Module [Module name](link)\n",
    "  * Library 1: gensim"
   ]
  },
  {
   "cell_type": "markdown",
   "metadata": {},
   "source": [
    "## Connexion serveur"
   ]
  },
  {
   "cell_type": "code",
   "execution_count": 11,
   "metadata": {},
   "outputs": [],
   "source": [
    "from awsPy.aws_authorization import aws_connector\n",
    "from awsPy.aws_athena import service_athena\n",
    "from awsPy.aws_s3 import service_s3\n",
    "from pathlib import Path\n",
    "import pandas as pd\n",
    "import numpy as np\n",
    "import os, shutil\n",
    "bucket = 'calfdata'\n",
    "path = os.getcwd()\n",
    "parent_path = str(Path(path).parent)\n",
    "path_cred = r\"{}/credential_AWS.json\".format(parent_path)\n",
    "con = aws_connector.aws_instantiate(credential = path_cred,\n",
    "                                       region = 'eu-west-3')\n",
    "client= con.client_boto()\n",
    "s3 = service_s3.connect_S3(client = client,\n",
    "                      bucket = 'calfdata', verbose = False) \n",
    "athena = service_athena.connect_athena(client = client,\n",
    "                      bucket = 'calfdata') "
   ]
  },
  {
   "cell_type": "markdown",
   "metadata": {},
   "source": [
    "# Creation database"
   ]
  },
  {
   "cell_type": "code",
   "execution_count": null,
   "metadata": {},
   "outputs": [],
   "source": [
    "query = \"\"\"CREATE DATABASE IF NOT EXISTS machine_learning\n",
    "  COMMENT 'DB for machine learning tests'\n",
    "  LOCATION 's3://calfdata/MACHINE_LEARNING/NLP/'\n",
    "  \"\"\""
   ]
  },
  {
   "cell_type": "markdown",
   "metadata": {},
   "source": [
    "# Creation Tables\n",
    "\n",
    "Pour cacluler la similarité entre l'adresse de l'INSEE et de l'INPI, nous devons créer une liste de combinaison unique entre les deux adresses. Pour cela, nous utilisons les variables `adresse_distance_inpi`  et `adresse_distance_insee` qui ont été, au préalable, néttoyée, puis nous les concatènons en prenant le soin d'enlever les mots redondants. Dit autrement, si deux mots sont présents dans les deux adresses, alors, nous n'en gardons qu'un seul. \n",
    "\n",
    "La table contient environ 2,836,384 combinaisons possibles. "
   ]
  },
  {
   "cell_type": "code",
   "execution_count": null,
   "metadata": {},
   "outputs": [],
   "source": [
    "create table = False\n",
    "query_combination = \"\"\"\n",
    "/*Combinaison mots insee inpi*/\n",
    "CREATE TABLE machine_learning.list_mots_insee_inpi\n",
    "WITH (\n",
    "  format='PARQUET'\n",
    ") AS\n",
    "SELECT unique_combinaition,\n",
    "COUNT(*) AS CNT\n",
    "FROM (SELECT\n",
    "array_distinct(\n",
    "    concat(\n",
    "    array_distinct(\n",
    "      split(adresse_distance_inpi, ' ')\n",
    "      ),\n",
    "    array_distinct(\n",
    "      split(adresse_distance_insee, ' ')\n",
    "    )    )\n",
    "  ) unique_combinaition\n",
    "FROM inpi.ets_insee_inpi \n",
    "      )\n",
    "      GROUP BY unique_combinaition\n",
    "\"\"\""
   ]
  },
  {
   "cell_type": "code",
   "execution_count": null,
   "metadata": {},
   "outputs": [],
   "source": [
    "if create_table:\n",
    "    output = athena.run_query(\n",
    "            query=query_combination,\n",
    "            database='inpi',\n",
    "            s3_output='INPI/sql_output'\n",
    "        )"
   ]
  },
  {
   "cell_type": "markdown",
   "metadata": {},
   "source": [
    "# Calcul model\n",
    "\n",
    "Dès lors que la table d'entrainement est prète, nous allons calculer un vecteur de poid pour chaque mot. Par défaut, nous calculons 100 poids pour chacune des occurences. Les poids sont calculés grace a la technique de Word2Vec\n",
    "\n",
    "## [What Are Word Embeddings for Text?](https://machinelearningmastery.com/what-are-word-embeddings/) \n",
    "\n",
    "- by [[Jason Brownlee]]\n",
    "\n",
    "## What Are Word Embeddings?\n",
    "\n",
    "- A word embedding is a learned representation for text where words that have the same meaning have a similar representation\n",
    "- It is this approach to representing words and documents that may be considered one of the key breakthroughs of deep learning on challenging natural language processing problems.\n",
    "\n",
    "    -> One of the benefits of using dense and low-dimensional vectors is computational\n",
    "    \n",
    "- The main benefit of the dense representations is generalization power\n",
    "- if we believe some features may provide similar clues, it is worthwhile to provide a representation that is able to capture these similarities\n",
    "- Word embeddings are in fact a class of techniques where individual words are represented as real-valued vectors in a predefined vector space\n",
    "- Each word is mapped to one vector and the vector values are learned in a way that resembles a neural network, and hence the technique is often lumped into the field of deep learning\n",
    "- Key to the approach is the idea of using a dense distributed representation for each word\n",
    "- Each word is represented by a real-valued vector, often tens or hundreds of dimensions. This is contrasted to the thousands or millions of dimensions required for sparse word representations, such as a one-hot encoding\n",
    "- The distributed representation is learned based on the usage of words\n",
    "- This allows words that are used in similar ways to result in having similar representations, naturally capturing their meaning\n",
    "- This can be contrasted with the crisp but fragile representation in a bag of words model where, unless explicitly managed, different words have different representations, regardless of how they are used\n",
    "\n",
    "## Word Embedding Algorithms\n",
    "    \n",
    "- Word embedding methods learn a real-valued vector representation for a predefined fixed sized vocabulary from a corpus of text\n",
    "- The learning process is either joint with the neural network model on some task, such as document classification, or is an unsupervised process, using document statistics.\n",
    "\n",
    "\n",
    "### Word2Vec\n",
    "\n",
    "- Word2Vec is a statistical method for efficiently learning a standalone word embedding from a text corpus\n",
    "- It was developed by Tomas Mikolov, et al. at Google in 2013 as a response to make the neural-network-based training of the embedding more efficient and since then has become the de facto standard for developing pre-trained word embedding\n",
    "- Two different learning models were introduced that can be used as part of the word2vec approach to learn the word embedding; they are:\n",
    "    - Continuous Bag-of-Words, or CBOW model \n",
    "    - Continuous Skip-Gram Model. \n",
    "    - The CBOW model learns the embedding by predicting the current word based on its context\n",
    "    - The continuous skip-gram model learns by predicting the surrounding words given a current word\n",
    "    - Both models are focused on learning about words given their local usage context, where the context is defined by a window of neighboring words\n",
    "    - The key benefit of the approach is that high-quality word embeddings can be learned efficiently (low space and time complexity), allowing larger embeddings to be learned (more dimensions) from much larger corpora of text (billions of words).\n"
   ]
  },
  {
   "cell_type": "code",
   "execution_count": null,
   "metadata": {},
   "outputs": [],
   "source": [
    "query = \"\"\"\n",
    "SELECT *\n",
    "FROM machine_learning.list_mots_insee_inpi\n",
    "\"\"\"\n",
    "\n",
    "### run query\n",
    "output = athena.run_query(\n",
    "        query=query,\n",
    "        database='machine_learning',\n",
    "        s3_output='INPI/sql_output'\n",
    "    )\n",
    "\n",
    "results = False\n",
    "filename = 'combinaison_adresses_insee_inpi.csv'\n",
    "    \n",
    "while results != True:\n",
    "    source_key = \"{}/{}.csv\".format(\n",
    "                            'INPI/sql_output',\n",
    "                            output['QueryExecutionId']\n",
    "                                   )\n",
    "    destination_key = \"{}/{}\".format(\n",
    "                                'MACHINE_LEARNING/NLP/LISTE_INSEE_INPI',\n",
    "                                filename\n",
    "                            )\n",
    "        \n",
    "    results = s3.copy_object_s3(\n",
    "                                source_key = source_key,\n",
    "                                destination_key = destination_key,\n",
    "                                remove = True\n",
    "                            )"
   ]
  },
  {
   "cell_type": "markdown",
   "metadata": {},
   "source": [
    "Load dataframe"
   ]
  },
  {
   "cell_type": "code",
   "execution_count": null,
   "metadata": {},
   "outputs": [],
   "source": [
    "list_insee_inpi = (s3.read_df_from_s3(\n",
    "            key = 'MACHINE_LEARNING/NLP/LISTE_INSEE_INPI/{}'.format(filename), sep = ',')\n",
    "             )"
   ]
  },
  {
   "cell_type": "markdown",
   "metadata": {},
   "source": [
    "## Train model\n",
    "\n",
    "There are many parameters on this constructor; a few noteworthy arguments you may wish to configure are:\n",
    "\n",
    "- size: (default 100) The number of dimensions of the embedding, e.g. the length of the dense vector to represent each token (word).\n",
    "- window: (default 5) The maximum distance between a target word and words around the target word.\n",
    "- min_count: (default 5) The minimum count of words to consider when training the model; words with an occurrence less than this count will be ignored.\n",
    "- workers: (default 3) The number of threads to use while training.\n",
    "- sg: (default 0 or CBOW) The training algorithm, either CBOW (0) or skip gram (1)."
   ]
  },
  {
   "cell_type": "code",
   "execution_count": null,
   "metadata": {},
   "outputs": [],
   "source": [
    "from gensim.models import Word2Vec\n",
    "import re"
   ]
  },
  {
   "cell_type": "code",
   "execution_count": null,
   "metadata": {},
   "outputs": [],
   "source": [
    "def basic_clean(text):\n",
    "    return re.sub(r'[^\\w\\s]|[|]', '', text).split()"
   ]
  },
  {
   "cell_type": "code",
   "execution_count": null,
   "metadata": {},
   "outputs": [],
   "source": [
    "df_text = list_insee_inpi['unique_combinaition'].apply(lambda x: basic_clean(x))"
   ]
  },
  {
   "cell_type": "code",
   "execution_count": null,
   "metadata": {},
   "outputs": [],
   "source": [
    "df_text.head()"
   ]
  },
  {
   "cell_type": "markdown",
   "metadata": {},
   "source": [
    "Pour le POC, nous utilisons les paramètres par défault"
   ]
  },
  {
   "cell_type": "code",
   "execution_count": null,
   "metadata": {},
   "outputs": [],
   "source": [
    "%%time \n",
    "model = Word2Vec(df_text.tolist(),\n",
    "                 size = 100,\n",
    "                 window = 5,\n",
    "                 min_count=5,\n",
    "                 sg = 0)"
   ]
  },
  {
   "cell_type": "markdown",
   "metadata": {},
   "source": [
    "Nous devons calculer la similarité entre les mots communs dans l'adresse INPI/INSEE, donc nous pouvons utiliser les poids du modèles et ensuite calculer la similarité avec la méthode du cosine. \n",
    "\n",
    "La librarie `gensim` permet d'exporter les poids en `.txt`. Toutefois, il n'est pas concevable de calculer l'ensembles des similarités entre toutes les occurences (environ 90.000), donc lors des traitements dans Athena, nous calculerons le cosines à la demande. \n",
    "\n",
    "Version 1 [DEPRECATED]\n",
    "\n",
    "Pour cela, nous allons créer un csv avec deux colonnes, `words` et `list_weights`. Attention, cette dernière n'est pas une liste dans le csv, mais le sera dans Athena. Athena permet d'importer un ensemble de valeur dans un array. Si on crée une liste dans le csv, Athena va créer une liste de liste. Ainsi, il est plus simple dans le csv de créer uniquement deux colonnes, les mots et les poids. Le séparateur `|` sera utilisé. Le csv ressemble a ca:\n",
    "\n",
    "```\n",
    "Words | list_of_weights\n",
    "RUE | .1, .4 ......\n",
    "AVENUE | .2, .9 ......\n",
    "```\n",
    "\n",
    "Version 2:\n",
    "\n",
    "Sauvegarde l'ensemble des poids dans des colonnes"
   ]
  },
  {
   "cell_type": "code",
   "execution_count": 1,
   "metadata": {},
   "outputs": [],
   "source": [
    "import pandas as pd"
   ]
  },
  {
   "cell_type": "code",
   "execution_count": null,
   "metadata": {},
   "outputs": [],
   "source": [
    "model.wv.save_word2vec_format('word2vec_weights_100.txt', binary=False)"
   ]
  },
  {
   "cell_type": "code",
   "execution_count": 3,
   "metadata": {},
   "outputs": [],
   "source": [
    "list_header = ['Words'].extend(list(range(1, 101)))"
   ]
  },
  {
   "cell_type": "code",
   "execution_count": 4,
   "metadata": {},
   "outputs": [],
   "source": [
    "model_wieghts = pd.read_csv('word2vec_weights_100.txt',\n",
    "                            sep = ' ', skiprows= 1,\n",
    "                           header= list_header)"
   ]
  },
  {
   "cell_type": "code",
   "execution_count": 5,
   "metadata": {},
   "outputs": [
    {
     "data": {
      "text/html": [
       "<div>\n",
       "<style scoped>\n",
       "    .dataframe tbody tr th:only-of-type {\n",
       "        vertical-align: middle;\n",
       "    }\n",
       "\n",
       "    .dataframe tbody tr th {\n",
       "        vertical-align: top;\n",
       "    }\n",
       "\n",
       "    .dataframe thead th {\n",
       "        text-align: right;\n",
       "    }\n",
       "</style>\n",
       "<table border=\"1\" class=\"dataframe\">\n",
       "  <thead>\n",
       "    <tr style=\"text-align: right;\">\n",
       "      <th></th>\n",
       "      <th>0</th>\n",
       "      <th>1</th>\n",
       "      <th>2</th>\n",
       "      <th>3</th>\n",
       "      <th>4</th>\n",
       "      <th>5</th>\n",
       "      <th>6</th>\n",
       "      <th>7</th>\n",
       "      <th>8</th>\n",
       "      <th>9</th>\n",
       "      <th>...</th>\n",
       "      <th>91</th>\n",
       "      <th>92</th>\n",
       "      <th>93</th>\n",
       "      <th>94</th>\n",
       "      <th>95</th>\n",
       "      <th>96</th>\n",
       "      <th>97</th>\n",
       "      <th>98</th>\n",
       "      <th>99</th>\n",
       "      <th>100</th>\n",
       "    </tr>\n",
       "  </thead>\n",
       "  <tbody>\n",
       "    <tr>\n",
       "      <th>0</th>\n",
       "      <td>RUE</td>\n",
       "      <td>-0.637436</td>\n",
       "      <td>-0.860552</td>\n",
       "      <td>-1.090971</td>\n",
       "      <td>0.349628</td>\n",
       "      <td>-1.104881</td>\n",
       "      <td>-0.183897</td>\n",
       "      <td>0.758681</td>\n",
       "      <td>-0.348887</td>\n",
       "      <td>0.739862</td>\n",
       "      <td>...</td>\n",
       "      <td>0.596379</td>\n",
       "      <td>0.346608</td>\n",
       "      <td>0.210783</td>\n",
       "      <td>0.943285</td>\n",
       "      <td>-0.937898</td>\n",
       "      <td>0.786427</td>\n",
       "      <td>2.142715</td>\n",
       "      <td>-0.118549</td>\n",
       "      <td>-0.211833</td>\n",
       "      <td>1.362251</td>\n",
       "    </tr>\n",
       "    <tr>\n",
       "      <th>1</th>\n",
       "      <td>AVENUE</td>\n",
       "      <td>-0.737605</td>\n",
       "      <td>-0.276738</td>\n",
       "      <td>0.049705</td>\n",
       "      <td>-0.087973</td>\n",
       "      <td>-1.504733</td>\n",
       "      <td>0.482779</td>\n",
       "      <td>2.072946</td>\n",
       "      <td>1.858653</td>\n",
       "      <td>-0.150254</td>\n",
       "      <td>...</td>\n",
       "      <td>0.928697</td>\n",
       "      <td>-0.357324</td>\n",
       "      <td>0.556154</td>\n",
       "      <td>0.747054</td>\n",
       "      <td>-0.820126</td>\n",
       "      <td>1.575219</td>\n",
       "      <td>3.133704</td>\n",
       "      <td>0.924360</td>\n",
       "      <td>-1.321395</td>\n",
       "      <td>2.658577</td>\n",
       "    </tr>\n",
       "    <tr>\n",
       "      <th>2</th>\n",
       "      <td>ROUTE</td>\n",
       "      <td>-0.099740</td>\n",
       "      <td>1.810359</td>\n",
       "      <td>-1.529623</td>\n",
       "      <td>1.874255</td>\n",
       "      <td>-1.145338</td>\n",
       "      <td>-0.093540</td>\n",
       "      <td>0.157584</td>\n",
       "      <td>0.773121</td>\n",
       "      <td>-0.499695</td>\n",
       "      <td>...</td>\n",
       "      <td>1.783117</td>\n",
       "      <td>-0.816026</td>\n",
       "      <td>-0.036190</td>\n",
       "      <td>0.665525</td>\n",
       "      <td>-2.628345</td>\n",
       "      <td>-2.074172</td>\n",
       "      <td>0.740013</td>\n",
       "      <td>1.058702</td>\n",
       "      <td>1.097924</td>\n",
       "      <td>-2.042516</td>\n",
       "    </tr>\n",
       "    <tr>\n",
       "      <th>3</th>\n",
       "      <td>CHEMIN</td>\n",
       "      <td>0.436964</td>\n",
       "      <td>0.965870</td>\n",
       "      <td>-2.191946</td>\n",
       "      <td>0.546848</td>\n",
       "      <td>-1.283836</td>\n",
       "      <td>1.744163</td>\n",
       "      <td>0.339656</td>\n",
       "      <td>-0.150173</td>\n",
       "      <td>-1.982336</td>\n",
       "      <td>...</td>\n",
       "      <td>0.376425</td>\n",
       "      <td>-0.693189</td>\n",
       "      <td>-0.456226</td>\n",
       "      <td>-0.556797</td>\n",
       "      <td>-2.124781</td>\n",
       "      <td>0.063995</td>\n",
       "      <td>1.581101</td>\n",
       "      <td>0.347200</td>\n",
       "      <td>-0.611052</td>\n",
       "      <td>-1.175260</td>\n",
       "    </tr>\n",
       "    <tr>\n",
       "      <th>4</th>\n",
       "      <td>D</td>\n",
       "      <td>0.579891</td>\n",
       "      <td>-1.214994</td>\n",
       "      <td>0.598045</td>\n",
       "      <td>-0.126123</td>\n",
       "      <td>0.056561</td>\n",
       "      <td>-1.535403</td>\n",
       "      <td>1.749857</td>\n",
       "      <td>-2.412028</td>\n",
       "      <td>0.862033</td>\n",
       "      <td>...</td>\n",
       "      <td>1.043439</td>\n",
       "      <td>-1.224786</td>\n",
       "      <td>-0.218579</td>\n",
       "      <td>2.960337</td>\n",
       "      <td>-0.562912</td>\n",
       "      <td>3.300653</td>\n",
       "      <td>3.017200</td>\n",
       "      <td>-0.641307</td>\n",
       "      <td>2.912423</td>\n",
       "      <td>0.462413</td>\n",
       "    </tr>\n",
       "    <tr>\n",
       "      <th>...</th>\n",
       "      <td>...</td>\n",
       "      <td>...</td>\n",
       "      <td>...</td>\n",
       "      <td>...</td>\n",
       "      <td>...</td>\n",
       "      <td>...</td>\n",
       "      <td>...</td>\n",
       "      <td>...</td>\n",
       "      <td>...</td>\n",
       "      <td>...</td>\n",
       "      <td>...</td>\n",
       "      <td>...</td>\n",
       "      <td>...</td>\n",
       "      <td>...</td>\n",
       "      <td>...</td>\n",
       "      <td>...</td>\n",
       "      <td>...</td>\n",
       "      <td>...</td>\n",
       "      <td>...</td>\n",
       "      <td>...</td>\n",
       "      <td>...</td>\n",
       "    </tr>\n",
       "    <tr>\n",
       "      <th>97702</th>\n",
       "      <td>PVC</td>\n",
       "      <td>0.020943</td>\n",
       "      <td>0.048794</td>\n",
       "      <td>0.004120</td>\n",
       "      <td>0.022559</td>\n",
       "      <td>-0.087283</td>\n",
       "      <td>-0.075291</td>\n",
       "      <td>0.066714</td>\n",
       "      <td>0.048444</td>\n",
       "      <td>0.000131</td>\n",
       "      <td>...</td>\n",
       "      <td>-0.038375</td>\n",
       "      <td>0.014817</td>\n",
       "      <td>-0.015409</td>\n",
       "      <td>0.056657</td>\n",
       "      <td>-0.027957</td>\n",
       "      <td>-0.009567</td>\n",
       "      <td>-0.053609</td>\n",
       "      <td>0.028431</td>\n",
       "      <td>0.101723</td>\n",
       "      <td>-0.011203</td>\n",
       "    </tr>\n",
       "    <tr>\n",
       "      <th>97703</th>\n",
       "      <td>REMAUDIERE</td>\n",
       "      <td>0.011948</td>\n",
       "      <td>-0.001168</td>\n",
       "      <td>-0.000731</td>\n",
       "      <td>-0.022410</td>\n",
       "      <td>-0.008706</td>\n",
       "      <td>-0.018876</td>\n",
       "      <td>-0.037489</td>\n",
       "      <td>0.027611</td>\n",
       "      <td>0.008421</td>\n",
       "      <td>...</td>\n",
       "      <td>0.111240</td>\n",
       "      <td>-0.018480</td>\n",
       "      <td>0.038136</td>\n",
       "      <td>0.035323</td>\n",
       "      <td>-0.075554</td>\n",
       "      <td>0.023810</td>\n",
       "      <td>0.028565</td>\n",
       "      <td>0.018971</td>\n",
       "      <td>-0.005017</td>\n",
       "      <td>-0.089626</td>\n",
       "    </tr>\n",
       "    <tr>\n",
       "      <th>97704</th>\n",
       "      <td>QUERANT</td>\n",
       "      <td>0.017093</td>\n",
       "      <td>-0.014134</td>\n",
       "      <td>-0.030588</td>\n",
       "      <td>-0.013255</td>\n",
       "      <td>-0.026493</td>\n",
       "      <td>-0.024442</td>\n",
       "      <td>0.046053</td>\n",
       "      <td>0.014300</td>\n",
       "      <td>0.064410</td>\n",
       "      <td>...</td>\n",
       "      <td>0.090521</td>\n",
       "      <td>0.027626</td>\n",
       "      <td>0.029488</td>\n",
       "      <td>0.024999</td>\n",
       "      <td>-0.024425</td>\n",
       "      <td>-0.000887</td>\n",
       "      <td>0.010660</td>\n",
       "      <td>0.041978</td>\n",
       "      <td>0.074392</td>\n",
       "      <td>-0.081879</td>\n",
       "    </tr>\n",
       "    <tr>\n",
       "      <th>97705</th>\n",
       "      <td>GRAFOUILLERE</td>\n",
       "      <td>0.040421</td>\n",
       "      <td>-0.073920</td>\n",
       "      <td>-0.038152</td>\n",
       "      <td>-0.050909</td>\n",
       "      <td>-0.015952</td>\n",
       "      <td>-0.026144</td>\n",
       "      <td>-0.065605</td>\n",
       "      <td>-0.035652</td>\n",
       "      <td>-0.006728</td>\n",
       "      <td>...</td>\n",
       "      <td>0.069758</td>\n",
       "      <td>-0.019827</td>\n",
       "      <td>0.045236</td>\n",
       "      <td>-0.007118</td>\n",
       "      <td>-0.008090</td>\n",
       "      <td>0.003411</td>\n",
       "      <td>0.018797</td>\n",
       "      <td>0.041937</td>\n",
       "      <td>0.011629</td>\n",
       "      <td>-0.040715</td>\n",
       "    </tr>\n",
       "    <tr>\n",
       "      <th>97706</th>\n",
       "      <td>CLOSIS</td>\n",
       "      <td>0.054405</td>\n",
       "      <td>0.067265</td>\n",
       "      <td>0.004069</td>\n",
       "      <td>-0.009522</td>\n",
       "      <td>-0.020356</td>\n",
       "      <td>-0.003410</td>\n",
       "      <td>-0.007774</td>\n",
       "      <td>0.072613</td>\n",
       "      <td>-0.041884</td>\n",
       "      <td>...</td>\n",
       "      <td>0.059078</td>\n",
       "      <td>0.032305</td>\n",
       "      <td>0.026927</td>\n",
       "      <td>0.071619</td>\n",
       "      <td>-0.025294</td>\n",
       "      <td>0.007646</td>\n",
       "      <td>0.009958</td>\n",
       "      <td>-0.006880</td>\n",
       "      <td>-0.036945</td>\n",
       "      <td>-0.083980</td>\n",
       "    </tr>\n",
       "  </tbody>\n",
       "</table>\n",
       "<p>97707 rows × 101 columns</p>\n",
       "</div>"
      ],
      "text/plain": [
       "                0         1         2         3         4         5    \\\n",
       "0               RUE -0.637436 -0.860552 -1.090971  0.349628 -1.104881   \n",
       "1            AVENUE -0.737605 -0.276738  0.049705 -0.087973 -1.504733   \n",
       "2             ROUTE -0.099740  1.810359 -1.529623  1.874255 -1.145338   \n",
       "3            CHEMIN  0.436964  0.965870 -2.191946  0.546848 -1.283836   \n",
       "4                 D  0.579891 -1.214994  0.598045 -0.126123  0.056561   \n",
       "...             ...       ...       ...       ...       ...       ...   \n",
       "97702           PVC  0.020943  0.048794  0.004120  0.022559 -0.087283   \n",
       "97703    REMAUDIERE  0.011948 -0.001168 -0.000731 -0.022410 -0.008706   \n",
       "97704       QUERANT  0.017093 -0.014134 -0.030588 -0.013255 -0.026493   \n",
       "97705  GRAFOUILLERE  0.040421 -0.073920 -0.038152 -0.050909 -0.015952   \n",
       "97706        CLOSIS  0.054405  0.067265  0.004069 -0.009522 -0.020356   \n",
       "\n",
       "            6         7         8         9    ...       91        92   \\\n",
       "0     -0.183897  0.758681 -0.348887  0.739862  ...  0.596379  0.346608   \n",
       "1      0.482779  2.072946  1.858653 -0.150254  ...  0.928697 -0.357324   \n",
       "2     -0.093540  0.157584  0.773121 -0.499695  ...  1.783117 -0.816026   \n",
       "3      1.744163  0.339656 -0.150173 -1.982336  ...  0.376425 -0.693189   \n",
       "4     -1.535403  1.749857 -2.412028  0.862033  ...  1.043439 -1.224786   \n",
       "...         ...       ...       ...       ...  ...       ...       ...   \n",
       "97702 -0.075291  0.066714  0.048444  0.000131  ... -0.038375  0.014817   \n",
       "97703 -0.018876 -0.037489  0.027611  0.008421  ...  0.111240 -0.018480   \n",
       "97704 -0.024442  0.046053  0.014300  0.064410  ...  0.090521  0.027626   \n",
       "97705 -0.026144 -0.065605 -0.035652 -0.006728  ...  0.069758 -0.019827   \n",
       "97706 -0.003410 -0.007774  0.072613 -0.041884  ...  0.059078  0.032305   \n",
       "\n",
       "            93        94        95        96        97        98        99   \\\n",
       "0      0.210783  0.943285 -0.937898  0.786427  2.142715 -0.118549 -0.211833   \n",
       "1      0.556154  0.747054 -0.820126  1.575219  3.133704  0.924360 -1.321395   \n",
       "2     -0.036190  0.665525 -2.628345 -2.074172  0.740013  1.058702  1.097924   \n",
       "3     -0.456226 -0.556797 -2.124781  0.063995  1.581101  0.347200 -0.611052   \n",
       "4     -0.218579  2.960337 -0.562912  3.300653  3.017200 -0.641307  2.912423   \n",
       "...         ...       ...       ...       ...       ...       ...       ...   \n",
       "97702 -0.015409  0.056657 -0.027957 -0.009567 -0.053609  0.028431  0.101723   \n",
       "97703  0.038136  0.035323 -0.075554  0.023810  0.028565  0.018971 -0.005017   \n",
       "97704  0.029488  0.024999 -0.024425 -0.000887  0.010660  0.041978  0.074392   \n",
       "97705  0.045236 -0.007118 -0.008090  0.003411  0.018797  0.041937  0.011629   \n",
       "97706  0.026927  0.071619 -0.025294  0.007646  0.009958 -0.006880 -0.036945   \n",
       "\n",
       "            100  \n",
       "0      1.362251  \n",
       "1      2.658577  \n",
       "2     -2.042516  \n",
       "3     -1.175260  \n",
       "4      0.462413  \n",
       "...         ...  \n",
       "97702 -0.011203  \n",
       "97703 -0.089626  \n",
       "97704 -0.081879  \n",
       "97705 -0.040715  \n",
       "97706 -0.083980  \n",
       "\n",
       "[97707 rows x 101 columns]"
      ]
     },
     "execution_count": 5,
     "metadata": {},
     "output_type": "execute_result"
    }
   ],
   "source": [
    "model_wieghts"
   ]
  },
  {
   "cell_type": "code",
   "execution_count": 6,
   "metadata": {},
   "outputs": [],
   "source": [
    "#zipped_weight = list(\n",
    "#    zip(\n",
    "#    model_wieghts.set_index(0).index.values.tolist(),\n",
    "#    model_wieghts.set_index(0).values.tolist()\n",
    "#)\n",
    "#    )"
   ]
  },
  {
   "cell_type": "code",
   "execution_count": 7,
   "metadata": {},
   "outputs": [],
   "source": [
    "#(pd.DataFrame(zipped_weight)\n",
    "#  .rename(columns= {0:'words', 1: 'list_weights'})\n",
    "#  .assign(list_weights = lambda x:x['list_weights'].apply(lambda x: ','.join(map(str, x))))\n",
    "#  .to_csv('word2vec_weights_100.csv', index = False, sep = \"|\")       \n",
    "# )"
   ]
  },
  {
   "cell_type": "code",
   "execution_count": 9,
   "metadata": {},
   "outputs": [],
   "source": [
    "model_wieghts.to_csv('word2vec_weights_100.csv', index = False)  "
   ]
  },
  {
   "cell_type": "markdown",
   "metadata": {},
   "source": [
    "Le modèle se trouve à l'adresse suivante [MACHINE_LEARNING/NLP/WORD2VEC_WEIGHTS](https://s3.console.aws.amazon.com/s3/buckets/calfdata/MACHINE_LEARNING/NLP/WORD2VEC_WEIGHTS/?region=eu-west-3&tab=overview)"
   ]
  },
  {
   "cell_type": "code",
   "execution_count": 12,
   "metadata": {},
   "outputs": [],
   "source": [
    "s3.upload_file('word2vec_weights_100.csv',\n",
    "               'MACHINE_LEARNING/NLP/WORD2VEC_WEIGHTS')"
   ]
  },
  {
   "cell_type": "markdown",
   "metadata": {},
   "source": [
    "## Create tables weights\n",
    "\n",
    "Athena ne peut pas créer des array float a partir de fichier csv, du coup on utilise la fonction concat. C'est une solution pour le poc. \n",
    "\n",
    "On créer une table temporaire qui contient l'ensemble des poids en colonnes `list_mots_insee_inpi_word2vec_weights_temp` puis on canct les colonnes dans la table `list_mots_insee_inpi_word2vec_weights`"
   ]
  },
  {
   "cell_type": "code",
   "execution_count": 29,
   "metadata": {},
   "outputs": [
    {
     "name": "stdout",
     "output_type": "stream",
     "text": [
      "Execution ID: f606a67a-fe70-4c70-9b1b-8fd59a448631\n"
     ]
    }
   ],
   "source": [
    "top = \"\"\"\n",
    "CREATE EXTERNAL TABLE IF NOT EXISTS machine_learning.list_mots_insee_inpi_word2vec_weights_temp (\n",
    "\n",
    "`Words` string,\n",
    "\"\"\"\n",
    "middle = \"\"\n",
    "\n",
    "for i in range(0,100):\n",
    "    if i == 99:\n",
    "        middle += \"vec_{} float )\".format(i)\n",
    "    else:\n",
    "        middle += \"vec_{} float,\".format(i)\n",
    "bottom = \"\"\"\n",
    "ROW FORMAT SERDE 'org.apache.hadoop.hive.serde2.OpenCSVSerde'\n",
    "    WITH SERDEPROPERTIES (\n",
    "   'separatorChar' = ',',\n",
    "   'quoteChar' = '\"'\n",
    "   ) \n",
    "     LOCATION 's3://calfdata/MACHINE_LEARNING/NLP/WORD2VEC_WEIGHTS'\n",
    "     TBLPROPERTIES ('has_encrypted_data'='false',\n",
    "              'skip.header.line.count'='1');\n",
    "\"\"\" \n",
    "query = top + middle +bottom\n",
    "output = athena.run_query(\n",
    "        query=query,\n",
    "        database='machine_learning',\n",
    "        s3_output='INPI/sql_output'\n",
    "    )"
   ]
  },
  {
   "cell_type": "code",
   "execution_count": 30,
   "metadata": {},
   "outputs": [
    {
     "name": "stdout",
     "output_type": "stream",
     "text": [
      "Execution ID: fff81fc0-6f95-4d37-8f88-77f531fa6bb1\n"
     ]
    }
   ],
   "source": [
    "query = \"\"\"\n",
    "\n",
    "CREATE TABLE machine_learning.list_mots_insee_inpi_word2vec_weights\n",
    "WITH (\n",
    "  format='PARQUET'\n",
    ") AS\n",
    "SELECT words,\n",
    "CONCAT(\n",
    "\n",
    "\"\"\"\n",
    "middle = \"\"\n",
    "for i in range(0, 100):\n",
    "    if i ==99:\n",
    "        middle  = \"ARRAY[vec_{}]) as list_weights\".format(i)\n",
    "    else:\n",
    "        middle  = \"ARRAY[vec_{}],\".format(i)\n",
    "    query += middle\n",
    "bottom = \"\"\"\n",
    "FROM \"machine_learning\".\"list_mots_insee_inpi_word2vec_weights_temp\"\n",
    "\"\"\"\n",
    "query += bottom\n",
    "output = athena.run_query(\n",
    "        query=query,\n",
    "        database='machine_learning',\n",
    "        s3_output='INPI/sql_output'\n",
    "    )"
   ]
  },
  {
   "cell_type": "code",
   "execution_count": 31,
   "metadata": {},
   "outputs": [
    {
     "name": "stdout",
     "output_type": "stream",
     "text": [
      "Execution ID: 88b07a18-0872-4bda-9ab5-e1d4c1b7e50a\n"
     ]
    }
   ],
   "source": [
    "output = athena.run_query(\n",
    "        query=\"DROP TABLE `list_mots_insee_inpi_word2vec_weights_temp`;\",\n",
    "        database='machine_learning',\n",
    "        s3_output='INPI/sql_output'\n",
    "    )"
   ]
  },
  {
   "cell_type": "code",
   "execution_count": null,
   "metadata": {},
   "outputs": [],
   "source": []
  },
  {
   "cell_type": "code",
   "execution_count": null,
   "metadata": {},
   "outputs": [],
   "source": [
    "#query = \"\"\"\n",
    "#CREATE EXTERNAL TABLE IF NOT EXISTS machine_learning.list_mots_insee_inpi_word2vec_weights (\n",
    "\n",
    "#`Words` string,\n",
    "#`list_weights` array<string>\n",
    "#  )\n",
    "\n",
    "#ROW FORMAT SERDE 'org.apache.hadoop.hive.serde2.lazy.LazySimpleSerDe'\n",
    "#     WITH SERDEPROPERTIES (\n",
    "#      'serialization.format' = ',',\n",
    "#      'field.delim' = '|') \n",
    "#     LOCATION 's3://calfdata/MACHINE_LEARNING/NLP/WORD2VEC_WEIGHTS'\n",
    "#     TBLPROPERTIES ('has_encrypted_data'='false', \n",
    "#     'skip.header.line.count'='1')\n",
    "#     \n",
    "#\"\"\"\n",
    "#output = athena.run_query(\n",
    "#        query=query,\n",
    "#        database='machine_learning',\n",
    "#        s3_output='INPI/sql_output'\n",
    "#    )"
   ]
  },
  {
   "cell_type": "markdown",
   "metadata": {},
   "source": [
    "# Analyse du modèle\n",
    "\n",
    "La librairie `gensim` a une fonction integrée pour calculer la similarité. Toutefois, nous devons cacluler le cosine manuelement dans Athena car il n'y a pas de fonction SQL prévue a cet effet. "
   ]
  },
  {
   "cell_type": "markdown",
   "metadata": {},
   "source": [
    "## Similarité - cosine\n",
    "\n",
    "La fonction coseine se calcule de la facon suivante:\n",
    "\n",
    "$$\\frac{u \\cdot v}{\\|u\\|_{2}\\|v\\|_{2}}$$\n",
    "\n",
    "- Source 1: Calcul cosine:\n",
    "  - [Cosine similarity](https://en.wikipedia.org/wiki/Cosine_similarity)\n",
    "  - [Magnitude (mathematics)](https://en.wikipedia.org/wiki/Magnitude_(mathematics)#Euclidean_vector_space)\n",
    "  - [Scipy Cosine](https://docs.scipy.org/doc/scipy/reference/generated/scipy.spatial.distance.cosine.html)"
   ]
  },
  {
   "cell_type": "code",
   "execution_count": null,
   "metadata": {},
   "outputs": [],
   "source": [
    "from scipy.spatial import distance\n",
    "from sklearn.manifold import TSNE\n",
    "import numpy as np\n",
    "import matplotlib.pyplot as plt"
   ]
  },
  {
   "cell_type": "code",
   "execution_count": null,
   "metadata": {},
   "outputs": [],
   "source": [
    "import warnings\n",
    "warnings.filterwarnings('ignore')"
   ]
  },
  {
   "cell_type": "markdown",
   "metadata": {},
   "source": [
    "Ci dessous, un exemple des 10 premiers poids des mots `BOULEVARD`  et `BD`"
   ]
  },
  {
   "cell_type": "code",
   "execution_count": null,
   "metadata": {},
   "outputs": [],
   "source": [
    "model['BOULEVARD'][:10]"
   ]
  },
  {
   "cell_type": "code",
   "execution_count": null,
   "metadata": {},
   "outputs": [],
   "source": [
    "model['BD'][:10]"
   ]
  },
  {
   "cell_type": "code",
   "execution_count": null,
   "metadata": {},
   "outputs": [],
   "source": [
    "1 - distance.cosine(model['BOULEVARD'], model['BD'])"
   ]
  },
  {
   "cell_type": "code",
   "execution_count": null,
   "metadata": {},
   "outputs": [],
   "source": [
    "model.wv.similarity('BOULEVARD', 'BD')"
   ]
  },
  {
   "cell_type": "markdown",
   "metadata": {},
   "source": [
    "Calcul à la main"
   ]
  },
  {
   "cell_type": "code",
   "execution_count": null,
   "metadata": {},
   "outputs": [],
   "source": [
    "np.dot(model['BD'], model['BOULEVARD'])/ \\\n",
    "(np.sqrt(np.sum(np.square(model['BD']))) * np.sqrt(np.sum(np.square(model['BOULEVARD']))))"
   ]
  },
  {
   "cell_type": "markdown",
   "metadata": {},
   "source": [
    "T-SNE plot pour les similarités entre les mots"
   ]
  },
  {
   "cell_type": "code",
   "execution_count": null,
   "metadata": {},
   "outputs": [],
   "source": [
    "def display_closestwords_tsnescatterplot(model, word, size):\n",
    "    \n",
    "    fig= plt.figure(figsize=(10,10))\n",
    "    \n",
    "    arr = np.empty((0,size), dtype='f')\n",
    "    word_labels = [word]\n",
    "    close_words = model.similar_by_word(word)\n",
    "    arr = np.append(arr, np.array([model[word]]), axis=0)\n",
    "    for wrd_score in close_words:\n",
    "        wrd_vector = model[wrd_score[0]]\n",
    "        word_labels.append(wrd_score[0])\n",
    "        arr = np.append(arr, np.array([wrd_vector]), axis=0)\n",
    "\n",
    "    tsne = TSNE(n_components=2, random_state=0)\n",
    "    np.set_printoptions(suppress=True)\n",
    "    Y = tsne.fit_transform(arr)\n",
    "    x_coords = Y[:, 0]\n",
    "    y_coords = Y[:, 1]\n",
    "    plt.scatter(x_coords, y_coords)\n",
    "    for label, x, y in zip(word_labels, x_coords, y_coords):\n",
    "            plt.annotate(label, xy=(x, y), xytext=(0, 0), textcoords='offset points')\n",
    "    plt.xlim(x_coords.min()+0.00005, x_coords.max()+0.00005)\n",
    "    plt.ylim(y_coords.min()+0.00005, y_coords.max()+0.00005)\n",
    "    plt.show()"
   ]
  },
  {
   "cell_type": "code",
   "execution_count": null,
   "metadata": {},
   "outputs": [],
   "source": [
    "display_closestwords_tsnescatterplot(model = model,\n",
    "                                     word = 'BOULEVARD',\n",
    "                                     size = 100)"
   ]
  },
  {
   "cell_type": "code",
   "execution_count": null,
   "metadata": {},
   "outputs": [],
   "source": [
    "display_closestwords_tsnescatterplot(model = model,\n",
    "                                     word = 'AVENUE',\n",
    "                                     size = 100)"
   ]
  },
  {
   "cell_type": "code",
   "execution_count": null,
   "metadata": {},
   "outputs": [],
   "source": [
    "display_closestwords_tsnescatterplot(model = model,\n",
    "                                     word = 'ZI',\n",
    "                                     size = 100)"
   ]
  },
  {
   "cell_type": "code",
   "execution_count": null,
   "metadata": {},
   "outputs": [],
   "source": [
    "display_closestwords_tsnescatterplot(model = model,\n",
    "                                     word = 'APPART',\n",
    "                                     size = 100)"
   ]
  },
  {
   "cell_type": "code",
   "execution_count": null,
   "metadata": {},
   "outputs": [],
   "source": [
    "display_closestwords_tsnescatterplot(model = model,\n",
    "                                     word = 'CDT',\n",
    "                                     size = 100)"
   ]
  },
  {
   "cell_type": "markdown",
   "metadata": {},
   "source": [
    "# Generation report"
   ]
  },
  {
   "cell_type": "code",
   "execution_count": null,
   "metadata": {},
   "outputs": [],
   "source": [
    "import os, time, shutil, urllib, ipykernel, json\n",
    "from pathlib import Path\n",
    "from notebook import notebookapp"
   ]
  },
  {
   "cell_type": "code",
   "execution_count": null,
   "metadata": {},
   "outputs": [],
   "source": [
    "def create_report(extension = \"html\"):\n",
    "    \"\"\"\n",
    "    Create a report from the current notebook and save it in the \n",
    "    Report folder (Parent-> child directory)\n",
    "    \n",
    "    1. Exctract the current notbook name\n",
    "    2. Convert the Notebook \n",
    "    3. Move the newly created report\n",
    "    \n",
    "    Args:\n",
    "    extension: string. Can be \"html\", \"pdf\", \"md\"\n",
    "    \n",
    "    \n",
    "    \"\"\"\n",
    "    \n",
    "    ### Get notebook name\n",
    "    connection_file = os.path.basename(ipykernel.get_connection_file())\n",
    "    kernel_id = connection_file.split('-', 1)[0].split('.')[0]\n",
    "\n",
    "    for srv in notebookapp.list_running_servers():\n",
    "        try:\n",
    "            if srv['token']=='' and not srv['password']:  \n",
    "                req = urllib.request.urlopen(srv['url']+'api/sessions')\n",
    "            else:\n",
    "                req = urllib.request.urlopen(srv['url']+ \\\n",
    "                                             'api/sessions?token=' + \\\n",
    "                                             srv['token'])\n",
    "            sessions = json.load(req)\n",
    "            notebookname = sessions[0]['name']\n",
    "        except:\n",
    "            pass  \n",
    "    \n",
    "    sep = '.'\n",
    "    path = os.getcwd()\n",
    "    #parent_path = str(Path(path).parent)\n",
    "    \n",
    "    ### Path report\n",
    "    #path_report = \"{}/Reports\".format(parent_path)\n",
    "    #path_report = \"{}/Reports\".format(path)\n",
    "    \n",
    "    ### Path destination\n",
    "    name_no_extension = notebookname.split(sep, 1)[0]\n",
    "    source_to_move = name_no_extension +'.{}'.format(extension)\n",
    "    dest = os.path.join(path,'Reports', source_to_move)\n",
    "    \n",
    "    ### Generate notebook\n",
    "    os.system('jupyter nbconvert --no-input --to {} {}'.format(\n",
    "    extension,notebookname))\n",
    "    \n",
    "    ### Move notebook to report folder\n",
    "    #time.sleep(5)\n",
    "    shutil.move(source_to_move, dest)\n",
    "    print(\"Report Available at this adress:\\n {}\".format(dest))"
   ]
  },
  {
   "cell_type": "code",
   "execution_count": null,
   "metadata": {},
   "outputs": [],
   "source": [
    "create_report(extension = \"html\")"
   ]
  }
 ],
 "metadata": {
  "jupytext": {
   "formats": "ipynb,md"
  },
  "kernelspec": {
   "display_name": "Python 3",
   "language": "python",
   "name": "python3"
  },
  "language_info": {
   "codemirror_mode": {
    "name": "ipython",
    "version": 3
   },
   "file_extension": ".py",
   "mimetype": "text/x-python",
   "name": "python",
   "nbconvert_exporter": "python",
   "pygments_lexer": "ipython3",
   "version": "3.7.6"
  }
 },
 "nbformat": 4,
 "nbformat_minor": 4
}
