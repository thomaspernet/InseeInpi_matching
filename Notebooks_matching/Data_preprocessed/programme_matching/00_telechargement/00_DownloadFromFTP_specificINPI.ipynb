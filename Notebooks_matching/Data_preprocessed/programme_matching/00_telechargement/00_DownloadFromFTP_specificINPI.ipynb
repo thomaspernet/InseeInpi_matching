{
 "cells": [
  {
   "cell_type": "markdown",
   "metadata": {},
   "source": [
    "# Téléchargement depuis le FTP INPI \n",
    "\n",
    "L\\'objectif de ce notebook est de récupérer la donnée de l\\'INPI provenant du FTP\n",
    "\n",
    "Le téléchargement depuis le FTP INPI a plusieurs contraintes :\n",
    "\n",
    "- la connexion FTP est bloquée par le proxy sur un poste standard CALF.\n",
    "- il y a un quota de téléchargement de 3Go par jour.\n",
    "- la connexion est coupée automatiquement par l'hôte au bout d'une centaine de fichiers récupérés via un script.\n",
    "- l'arborescence dans le FTP est profonde et pas incrémentale car liée à la codification des greffes. Ex :\n",
    "/public\n",
    "    /IMR_Donnees_Saisies\n",
    "        /tc\n",
    "            /flux\n",
    "                /2017\n",
    "                    /08\n",
    "                        /04\n",
    "                            /0101\n",
    "                                /57\n",
    "                            /0202\n",
    "                                /60\n",
    "                            /0203\n",
    "                                /58\n",
    "                            /0301\n",
    "                                /58\n",
    "                            ..etc\n",
    "                            \n",
    "Ce notebook est basé sur la librairie ftputil et un parcours sur mesure de l'arborescence FTP INPI. Il ne fonctionne donc pas sur un autre FTP ou avec des sous-dossiers de ce FTP.\n",
    "\n",
    "Fonctions :\n",
    "- Se connecter au FTP\n",
    "- Télécharger un fichier depuis le FTP\n",
    "- Télécharger tous les fichiers d'un dossier spécifique depuis le FTP"
   ]
  },
  {
   "cell_type": "markdown",
   "metadata": {},
   "source": [
    "# Connect to FTP"
   ]
  },
  {
   "cell_type": "code",
   "execution_count": null,
   "metadata": {},
   "outputs": [],
   "source": [
    "# INPI FTP Connexion parameters\n",
    "host = 'opendata-rncs.inpi.fr'\n",
    "port = 21\n",
    "usr = 'calf'\n",
    "pwd = 'Calfinpi2019'"
   ]
  },
  {
   "cell_type": "code",
   "execution_count": null,
   "metadata": {},
   "outputs": [],
   "source": [
    "# Connect to FTP\n",
    "def connect_inpi(host,port,usr,pwd):\n",
    "    ftps = ftplib.FTP_TLS()\n",
    "    ftps.connect(host, port)\n",
    "    ftps.login(usr, pwd)\n",
    "    ftps.prot_p()\n",
    "    return ftps"
   ]
  },
  {
   "cell_type": "code",
   "execution_count": null,
   "metadata": {},
   "outputs": [],
   "source": [
    "ftps = connect_inpi(host,port,usr,pwd)"
   ]
  },
  {
   "cell_type": "markdown",
   "metadata": {},
   "source": [
    "# Download single file"
   ]
  },
  {
   "cell_type": "code",
   "execution_count": null,
   "metadata": {},
   "outputs": [],
   "source": [
    "# Download file\n",
    "def download_file(ftps,path,name):\n",
    "    try:\n",
    "        fullname = \"{0}/{1}\".format(path,name)\n",
    "        with open(name, 'wb' ) as file :\n",
    "            print(fullname)\n",
    "            ftps.retrbinary('RETR %s' % fullname, file.write)\n",
    "            return True\n",
    "    except Exception as e:\n",
    "        print('Error: ' + str(e))\n",
    "        return False"
   ]
  },
  {
   "cell_type": "code",
   "execution_count": null,
   "metadata": {},
   "outputs": [],
   "source": [
    "path =  '/public/IMR_Donnees_Saisies/tc/flux/2017/05/18/0101/1'\n",
    "name = '0101_1_20170512_112544_10_ets_supprime_EVT.csv'\n",
    "download_file(ftps,path,name)"
   ]
  },
  {
   "cell_type": "markdown",
   "metadata": {},
   "source": [
    "# Download all files from path"
   ]
  },
  {
   "cell_type": "code",
   "execution_count": null,
   "metadata": {},
   "outputs": [],
   "source": [
    "path_FTP='/public/IMR_Donnees_Saisies/tc/stock/2017'"
   ]
  },
  {
   "cell_type": "code",
   "execution_count": null,
   "metadata": {},
   "outputs": [],
   "source": [
    "def download_path(ftps,path_FTP):\n",
    "    \n",
    "    ftps.cwd(path_FTP) \n",
    "    list_dir_ftp = ftps.nlst()\n",
    "    regex = r\"([^\\/]+$)\"\n",
    "\n",
    "    #list all dir in the FTP directory\n",
    "    list_dir_ftp = ftps.nlst()\n",
    "        \n",
    "    # Loop into sub-folders\n",
    "    for f in list_dir_ftp:\n",
    "        date = ftps.nlst(f)\n",
    "        for sf in date:\n",
    "            file = ftps.nlst(sf)\n",
    "            for greffe in file:\n",
    "                next = ftps.nlst(greffe)\n",
    "                for sff in next:\n",
    "                    fcsv = ftps.nlst(sff)\n",
    "                    for rel_filename in fcsv:\n",
    "                        if rel_filename.endswith(('.csv','.zip')):\n",
    "                            full_name = \"{0}/{1}\".format(path_FTP,rel_filename)\n",
    "                            filename = rel_filename.split(\"/\")[-1]\n",
    "                            filepath=full_name[:len(full_name)-len(filename)]\n",
    "                            download_file(ftps,filepath,filename)\n",
    "    ftps.quit()"
   ]
  },
  {
   "cell_type": "code",
   "execution_count": null,
   "metadata": {},
   "outputs": [],
   "source": [
    "download_path(ftps,path_FTP)"
   ]
  }
 ],
 "metadata": {
  "kernelspec": {
   "display_name": "Python 3",
   "language": "python",
   "name": "python3"
  },
  "language_info": {
   "codemirror_mode": {
    "name": "ipython",
    "version": 3
   },
   "file_extension": ".py",
   "mimetype": "text/x-python",
   "name": "python",
   "nbconvert_exporter": "python",
   "pygments_lexer": "ipython3",
   "version": "3.7.0"
  }
 },
 "nbformat": 4,
 "nbformat_minor": 4
}
