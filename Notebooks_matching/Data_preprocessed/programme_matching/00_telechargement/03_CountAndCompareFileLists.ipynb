{
 "cells": [
  {
   "cell_type": "markdown",
   "metadata": {},
   "source": [
    "# Vérification de la complétude\n",
    "\n",
    "Ce notebook permet de s\\'assurer que l\\'on a bien le même nombre de fichiers:\n",
    "- dans le FTP INPI\n",
    "- dans le S3 Raw\n",
    "- dans le S3 Données source\n",
    "\n",
    "Fonctions utiles pour vérifier la complétude:\n",
    "\n",
    "- lister les objets présents sur le FTP à partir d'un extract xml via ce notebook\n",
    "- count_objects_s3 : lister tous les fichiers présents dans un dossier du S3\n",
    "- lire les listes d'objets et vérifier les différences et doublons potentiels via ce notebook\n",
    "\n",
    "La liste horodatée des fichiers présents en RAW et SOURCE est disponible dans le [dossier de logs](https://s3.console.aws.amazon.com/s3/buckets/calfdata/INPI/TC_1/logs/count%2520files/?region=eu-west-3&tab=overview)"
   ]
  },
  {
   "cell_type": "markdown",
   "metadata": {},
   "source": [
    "# Connect to S3"
   ]
  },
  {
   "cell_type": "code",
   "execution_count": null,
   "metadata": {},
   "outputs": [],
   "source": [
    "# Import S3 connectors librairies"
   ]
  },
  {
   "cell_type": "code",
   "execution_count": null,
   "metadata": {},
   "outputs": [],
   "source": [
    "!pip install git+git://github.com/thomaspernet/aws-python"
   ]
  },
  {
   "cell_type": "code",
   "execution_count": null,
   "metadata": {},
   "outputs": [],
   "source": [
    "!pip install --upgrade git+git://github.com/thomaspernet/aws-python"
   ]
  },
  {
   "cell_type": "code",
   "execution_count": null,
   "metadata": {},
   "outputs": [],
   "source": [
    "from awsPy.aws_authorization import aws_connector\n",
    "from awsPy.aws_s3 import service_s3\n",
    "from awsPy.aws_athena import service_athena"
   ]
  },
  {
   "cell_type": "code",
   "execution_count": null,
   "metadata": {},
   "outputs": [],
   "source": [
    "# Connect to S3\n",
    "import os\n",
    "from pathlib import Path\n",
    "\n",
    "bucket = 'calfdata'\n",
    "path = os.getcwd()\n",
    "parent_path = str(Path(path).parent)\n",
    "path_cred = \"{}/programme_matching/credential_AWS.json\".format(parent_path)\n",
    "\n",
    "con = aws_connector.aws_instantiate(credential = path_cred,\n",
    "                                            region = 'eu-west-3')\n",
    "client= con.client_boto()\n",
    "s3 = service_s3.connect_S3(client = client,\n",
    "                          bucket = 'calfdata')\n",
    "\n",
    "bucket_name='calfdata'\n",
    "bucket = client['resource'].Bucket(bucket_name)    "
   ]
  },
  {
   "cell_type": "markdown",
   "metadata": {},
   "source": [
    "# List files in S3"
   ]
  },
  {
   "cell_type": "code",
   "execution_count": null,
   "metadata": {},
   "outputs": [],
   "source": [
    "def count_objects_s3(Prefix_):\n",
    "    list_obj = bucket.objects.filter(Prefix=folder)\n",
    "    c=0\n",
    "    for obj in list_obj:\n",
    "        c+=1\n",
    "    return (c,list_obj)"
   ]
  },
  {
   "cell_type": "code",
   "execution_count": null,
   "metadata": {},
   "outputs": [],
   "source": [
    "folder='INPI/TC_1/01_donnee_source/Flux/2019/'\n",
    "(c,list_obj)=count_objects_s3(folder)\n",
    "c"
   ]
  },
  {
   "cell_type": "code",
   "execution_count": null,
   "metadata": {},
   "outputs": [],
   "source": [
    "# Save file list to a file\n",
    "import csv, time\n",
    "from tqdm import tqdm\n",
    "\n",
    "timestr = time.strftime(\"%Y%m%d-%H%M%S\")\n",
    "logtd_name=\"{}/{}/{}_{}_{}{}\".format('data','count',timestr,'listobj','SourceFlux2019','.csv')\n",
    "logtd = open(logtd_name, 'w')\n",
    "with logtd as myfile:\n",
    "    wr = csv.writer(myfile,delimiter=';',quoting=csv.QUOTE_ALL)\n",
    "    wr.writerow(['key'])\n",
    "    for obj in tqdm(list_obj):\n",
    "        wr.writerow([obj.key])\n",
    "logtd.close()"
   ]
  },
  {
   "cell_type": "markdown",
   "metadata": {},
   "source": [
    "# Compare and check duplicates"
   ]
  },
  {
   "cell_type": "code",
   "execution_count": 2,
   "metadata": {},
   "outputs": [
    {
     "data": {
      "text/html": [
       "<div>\n",
       "<style scoped>\n",
       "    .dataframe tbody tr th:only-of-type {\n",
       "        vertical-align: middle;\n",
       "    }\n",
       "\n",
       "    .dataframe tbody tr th {\n",
       "        vertical-align: top;\n",
       "    }\n",
       "\n",
       "    .dataframe thead th {\n",
       "        text-align: right;\n",
       "    }\n",
       "</style>\n",
       "<table border=\"1\" class=\"dataframe\">\n",
       "  <thead>\n",
       "    <tr style=\"text-align: right;\">\n",
       "      <th></th>\n",
       "      <th>key</th>\n",
       "      <th>full_path</th>\n",
       "      <th>filename</th>\n",
       "    </tr>\n",
       "  </thead>\n",
       "  <tbody>\n",
       "    <tr>\n",
       "      <th>0</th>\n",
       "      <td>\\2018\\01\\01\\7501\\122\\7501_122_20180101_201523_...</td>\n",
       "      <td>/flux/2018/01/01/7501/122/7501_122_20180101_20...</td>\n",
       "      <td>7501_122_20180101_201523_9_ets_nouveau_modifie...</td>\n",
       "    </tr>\n",
       "    <tr>\n",
       "      <th>1</th>\n",
       "      <td>\\2018\\01\\01\\7501\\122\\7501_122_20180101_201523_...</td>\n",
       "      <td>/flux/2018/01/01/7501/122/7501_122_20180101_20...</td>\n",
       "      <td>7501_122_20180101_201523_8_ets.csv</td>\n",
       "    </tr>\n",
       "    <tr>\n",
       "      <th>2</th>\n",
       "      <td>\\2018\\01\\01\\7501\\122\\7501_122_20180101_201523_...</td>\n",
       "      <td>/flux/2018/01/01/7501/122/7501_122_20180101_20...</td>\n",
       "      <td>7501_122_20180101_201523_7_rep_partant_EVT.csv</td>\n",
       "    </tr>\n",
       "    <tr>\n",
       "      <th>3</th>\n",
       "      <td>\\2018\\01\\01\\7501\\122\\7501_122_20180101_201523_...</td>\n",
       "      <td>/flux/2018/01/01/7501/122/7501_122_20180101_20...</td>\n",
       "      <td>7501_122_20180101_201523_6_rep_nouveau_modifie...</td>\n",
       "    </tr>\n",
       "    <tr>\n",
       "      <th>4</th>\n",
       "      <td>\\2018\\01\\01\\7501\\122\\7501_122_20180101_201523_...</td>\n",
       "      <td>/flux/2018/01/01/7501/122/7501_122_20180101_20...</td>\n",
       "      <td>7501_122_20180101_201523_5_rep.csv</td>\n",
       "    </tr>\n",
       "  </tbody>\n",
       "</table>\n",
       "</div>"
      ],
      "text/plain": [
       "                                                 key  \\\n",
       "0  \\2018\\01\\01\\7501\\122\\7501_122_20180101_201523_...   \n",
       "1  \\2018\\01\\01\\7501\\122\\7501_122_20180101_201523_...   \n",
       "2  \\2018\\01\\01\\7501\\122\\7501_122_20180101_201523_...   \n",
       "3  \\2018\\01\\01\\7501\\122\\7501_122_20180101_201523_...   \n",
       "4  \\2018\\01\\01\\7501\\122\\7501_122_20180101_201523_...   \n",
       "\n",
       "                                           full_path  \\\n",
       "0  /flux/2018/01/01/7501/122/7501_122_20180101_20...   \n",
       "1  /flux/2018/01/01/7501/122/7501_122_20180101_20...   \n",
       "2  /flux/2018/01/01/7501/122/7501_122_20180101_20...   \n",
       "3  /flux/2018/01/01/7501/122/7501_122_20180101_20...   \n",
       "4  /flux/2018/01/01/7501/122/7501_122_20180101_20...   \n",
       "\n",
       "                                            filename  \n",
       "0  7501_122_20180101_201523_9_ets_nouveau_modifie...  \n",
       "1                 7501_122_20180101_201523_8_ets.csv  \n",
       "2     7501_122_20180101_201523_7_rep_partant_EVT.csv  \n",
       "3  7501_122_20180101_201523_6_rep_nouveau_modifie...  \n",
       "4                 7501_122_20180101_201523_5_rep.csv  "
      ]
     },
     "execution_count": 2,
     "metadata": {},
     "output_type": "execute_result"
    }
   ],
   "source": [
    "# Read FTP file list\n",
    "import pandas as pd\n",
    "filenameFTPcsv='/home/usr/FTPFlux2018.csv'\n",
    "\n",
    "ftp_=pd.read_csv(filenameFTPcsv)\n",
    "ftp_['full_path']=ftp_['key'].apply(lambda x: ('\\\\flux' + x).replace('\\\\','/'))\n",
    "ftp_['filename']=ftp_['key'].apply(lambda x: x.split('\\\\')[-1])\n",
    "ftp_.head()"
   ]
  },
  {
   "cell_type": "code",
   "execution_count": 3,
   "metadata": {},
   "outputs": [
    {
     "data": {
      "text/plain": [
       "552088"
      ]
     },
     "execution_count": 3,
     "metadata": {},
     "output_type": "execute_result"
    }
   ],
   "source": [
    "print(str(len(ftp_)) + ' files in FTP.')"
   ]
  },
  {
   "cell_type": "code",
   "execution_count": null,
   "metadata": {},
   "outputs": [],
   "source": [
    "# Check if there are duplicate rows/files based on filename\n",
    "duplicateRowsDF = ftp_[ftp_.duplicated(['filename'])]\n",
    "duplicateRowsDF.head()"
   ]
  },
  {
   "cell_type": "code",
   "execution_count": 9,
   "metadata": {},
   "outputs": [
    {
     "data": {
      "text/html": [
       "<div>\n",
       "<style scoped>\n",
       "    .dataframe tbody tr th:only-of-type {\n",
       "        vertical-align: middle;\n",
       "    }\n",
       "\n",
       "    .dataframe tbody tr th {\n",
       "        vertical-align: top;\n",
       "    }\n",
       "\n",
       "    .dataframe thead th {\n",
       "        text-align: right;\n",
       "    }\n",
       "</style>\n",
       "<table border=\"1\" class=\"dataframe\">\n",
       "  <thead>\n",
       "    <tr style=\"text-align: right;\">\n",
       "      <th></th>\n",
       "      <th>key</th>\n",
       "      <th>full_path</th>\n",
       "      <th>filename</th>\n",
       "    </tr>\n",
       "  </thead>\n",
       "  <tbody>\n",
       "    <tr>\n",
       "      <th>0</th>\n",
       "      <td>INPI/TC_1/00_RawData/public/IMR_Donnees_Saisie...</td>\n",
       "      <td>/flux/2018/01/01/7501/122/7501_122_20180101_20...</td>\n",
       "      <td>7501_122_20180101_201523_10_ets_supprime_EVT.csv</td>\n",
       "    </tr>\n",
       "    <tr>\n",
       "      <th>1</th>\n",
       "      <td>INPI/TC_1/00_RawData/public/IMR_Donnees_Saisie...</td>\n",
       "      <td>/flux/2018/01/01/7501/122/7501_122_20180101_20...</td>\n",
       "      <td>7501_122_20180101_201523_11_obs.csv</td>\n",
       "    </tr>\n",
       "    <tr>\n",
       "      <th>2</th>\n",
       "      <td>INPI/TC_1/00_RawData/public/IMR_Donnees_Saisie...</td>\n",
       "      <td>/flux/2018/01/01/7501/122/7501_122_20180101_20...</td>\n",
       "      <td>7501_122_20180101_201523_12_actes.csv</td>\n",
       "    </tr>\n",
       "    <tr>\n",
       "      <th>3</th>\n",
       "      <td>INPI/TC_1/00_RawData/public/IMR_Donnees_Saisie...</td>\n",
       "      <td>/flux/2018/01/01/7501/122/7501_122_20180101_20...</td>\n",
       "      <td>7501_122_20180101_201523_13_comptes_annuels.csv</td>\n",
       "    </tr>\n",
       "    <tr>\n",
       "      <th>4</th>\n",
       "      <td>INPI/TC_1/00_RawData/public/IMR_Donnees_Saisie...</td>\n",
       "      <td>/flux/2018/01/01/7501/122/7501_122_20180101_20...</td>\n",
       "      <td>7501_122_20180101_201523_1_PM.csv</td>\n",
       "    </tr>\n",
       "  </tbody>\n",
       "</table>\n",
       "</div>"
      ],
      "text/plain": [
       "                                                 key  \\\n",
       "0  INPI/TC_1/00_RawData/public/IMR_Donnees_Saisie...   \n",
       "1  INPI/TC_1/00_RawData/public/IMR_Donnees_Saisie...   \n",
       "2  INPI/TC_1/00_RawData/public/IMR_Donnees_Saisie...   \n",
       "3  INPI/TC_1/00_RawData/public/IMR_Donnees_Saisie...   \n",
       "4  INPI/TC_1/00_RawData/public/IMR_Donnees_Saisie...   \n",
       "\n",
       "                                           full_path  \\\n",
       "0  /flux/2018/01/01/7501/122/7501_122_20180101_20...   \n",
       "1  /flux/2018/01/01/7501/122/7501_122_20180101_20...   \n",
       "2  /flux/2018/01/01/7501/122/7501_122_20180101_20...   \n",
       "3  /flux/2018/01/01/7501/122/7501_122_20180101_20...   \n",
       "4  /flux/2018/01/01/7501/122/7501_122_20180101_20...   \n",
       "\n",
       "                                           filename  \n",
       "0  7501_122_20180101_201523_10_ets_supprime_EVT.csv  \n",
       "1               7501_122_20180101_201523_11_obs.csv  \n",
       "2             7501_122_20180101_201523_12_actes.csv  \n",
       "3   7501_122_20180101_201523_13_comptes_annuels.csv  \n",
       "4                 7501_122_20180101_201523_1_PM.csv  "
      ]
     },
     "execution_count": 9,
     "metadata": {},
     "output_type": "execute_result"
    }
   ],
   "source": [
    "# Read Raw S3 file list\n",
    "filenameRawcsv='data/count/20200412-221748_listobj_RawFlux2018.csv'\n",
    "\n",
    "raw_=pd.read_csv(filenameRawcsv)\n",
    "raw_['full_path']=raw_['key'].apply(lambda x: x[50:])\n",
    "raw_['filename']=raw_['key'].apply(lambda x: x.split('/')[-1])\n",
    "raw_.head()"
   ]
  },
  {
   "cell_type": "code",
   "execution_count": 10,
   "metadata": {},
   "outputs": [
    {
     "data": {
      "text/plain": [
       "552089"
      ]
     },
     "execution_count": 10,
     "metadata": {},
     "output_type": "execute_result"
    }
   ],
   "source": [
    "print(str(len(raw_)) + ' files in Raw S3.')"
   ]
  },
  {
   "cell_type": "code",
   "execution_count": 11,
   "metadata": {},
   "outputs": [
    {
     "data": {
      "text/html": [
       "<div>\n",
       "<style scoped>\n",
       "    .dataframe tbody tr th:only-of-type {\n",
       "        vertical-align: middle;\n",
       "    }\n",
       "\n",
       "    .dataframe tbody tr th {\n",
       "        vertical-align: top;\n",
       "    }\n",
       "\n",
       "    .dataframe thead th {\n",
       "        text-align: right;\n",
       "    }\n",
       "</style>\n",
       "<table border=\"1\" class=\"dataframe\">\n",
       "  <thead>\n",
       "    <tr style=\"text-align: right;\">\n",
       "      <th></th>\n",
       "      <th>key</th>\n",
       "      <th>full_path</th>\n",
       "      <th>filename</th>\n",
       "    </tr>\n",
       "  </thead>\n",
       "  <tbody>\n",
       "  </tbody>\n",
       "</table>\n",
       "</div>"
      ],
      "text/plain": [
       "Empty DataFrame\n",
       "Columns: [key, full_path, filename]\n",
       "Index: []"
      ]
     },
     "execution_count": 11,
     "metadata": {},
     "output_type": "execute_result"
    }
   ],
   "source": [
    "# Select all duplicate rows based on filename\n",
    "duplicateRowsDF = raw_[raw_.duplicated(['filename'])]\n",
    "duplicateRowsDF.head()"
   ]
  },
  {
   "cell_type": "code",
   "execution_count": null,
   "metadata": {},
   "outputs": [],
   "source": [
    "# Find difference between two data frames\n",
    "diff_=ftp_.merge(raw_,on='filename',indicator = True, how='left').loc[lambda x : x['_merge']!='both']"
   ]
  },
  {
   "cell_type": "code",
   "execution_count": null,
   "metadata": {},
   "outputs": [],
   "source": [
    "diff_.head()"
   ]
  },
  {
   "cell_type": "code",
   "execution_count": null,
   "metadata": {
    "scrolled": true
   },
   "outputs": [],
   "source": [
    "diff_[['filename','full_path_x','_merge']]"
   ]
  },
  {
   "cell_type": "code",
   "execution_count": null,
   "metadata": {},
   "outputs": [],
   "source": [
    "# Number of missing\n",
    "len(diff_)"
   ]
  },
  {
   "cell_type": "code",
   "execution_count": null,
   "metadata": {
    "scrolled": true
   },
   "outputs": [],
   "source": [
    "# Save missing list\n",
    "diff_['key_x'].to_csv(r'missing.csv', sep=';', index=False)"
   ]
  }
 ],
 "metadata": {
  "kernelspec": {
   "display_name": "Python 3",
   "language": "python",
   "name": "python3"
  },
  "language_info": {
   "codemirror_mode": {
    "name": "ipython",
    "version": 3
   },
   "file_extension": ".py",
   "mimetype": "text/x-python",
   "name": "python",
   "nbconvert_exporter": "python",
   "pygments_lexer": "ipython3",
   "version": "3.7.0"
  }
 },
 "nbformat": 4,
 "nbformat_minor": 2
}
