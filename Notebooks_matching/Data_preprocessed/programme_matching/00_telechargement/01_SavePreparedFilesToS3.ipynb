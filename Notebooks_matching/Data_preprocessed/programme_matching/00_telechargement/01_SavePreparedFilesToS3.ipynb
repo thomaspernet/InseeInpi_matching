{
 "cells": [
  {
   "cell_type": "markdown",
   "metadata": {},
   "source": [
    "# Upload des fichiers préparés vers le S3\n",
    "\n",
    "La donnée est stockée dans le dossier [01_donnee_source](https://s3.console.aws.amazon.com/s3/buckets/calfdata/INPI/TC_1/01_donnee_source/?region=eu-west-3&tab=overview) et l'arborescence simplifiée.\n",
    "\n",
    "Le chemin où stocker chaque fichier est calculé grâce à la fonction ``calc_dest`` du script ``utils``"
   ]
  },
  {
   "cell_type": "code",
   "execution_count": 1,
   "metadata": {},
   "outputs": [],
   "source": [
    "def save_donnees_source_to_s3(prep_path):\n",
    "    \"\"\"\n",
    "    Saves prepared data to S3\n",
    "\n",
    "    args:\n",
    "        - prep_path : local path of files to send to S3\n",
    "\n",
    "    returns\n",
    "        - True in case of success\n",
    "\n",
    "    \"\"\"\n",
    "    \n",
    "    import utils as u\n",
    "    import os\n",
    "\n",
    "    if not 'workbookDir' in globals():\n",
    "        workbookDir = os.getcwd()\n",
    "    aws_separator = \"/\"\n",
    "\n",
    "    from awsPy.aws_authorization import aws_connector\n",
    "    from awsPy.aws_s3 import service_s3\n",
    "    from awsPy.aws_athena import service_athena\n",
    "\n",
    "\n",
    "    # Connect to S3\n",
    "    import os\n",
    "    from pathlib import Path\n",
    "\n",
    "    bucket = 'calfdata'\n",
    "    path = os.getcwd()\n",
    "    parent_path = str(Path(path).parent)\n",
    "    path_cred = \"{}/programme_matching/credential_AWS.json\".format(parent_path)\n",
    "\n",
    "    con = aws_connector.aws_instantiate(credential = path_cred,\n",
    "                                            region = 'eu-west-3')\n",
    "    client= con.client_boto()\n",
    "    s3 = service_s3.connect_S3(client = client,\n",
    "                          bucket = 'calfdata')\n",
    "\n",
    "    # List files to send and compute each destination\n",
    "    list_files=[]\n",
    "    for root,dirs,files in os.walk(prep_path):\n",
    "        for file in files:\n",
    "              if file.endswith(('.csv')):\n",
    "\n",
    "                    list_files.append((file, u.calc_dest(filename=file)))\n",
    "\n",
    "    # Send files to s3\n",
    "    for (file_to_upload,destination_in_s3) in list_files:\n",
    "        # if file exist in S3?\n",
    "        full_path = os.path.join(prep_path, file_to_upload)\n",
    "        key = aws_separator.join([destination_in_s3,file_to_upload])\n",
    "        \n",
    "        # Download only if the file does not already exist\n",
    "        if not s3.key_exist(key):\n",
    "            s3.upload_file(full_path, destination_in_s3)\n",
    "    \n",
    "    return True\n",
    "   "
   ]
  },
  {
   "cell_type": "code",
   "execution_count": 2,
   "metadata": {},
   "outputs": [
    {
     "data": {
      "text/plain": [
       "True"
      ]
     },
     "execution_count": 2,
     "metadata": {},
     "output_type": "execute_result"
    }
   ],
   "source": [
    "# Function call example\n",
    "prep_path='data/prep4'\n",
    "save_donnees_source_to_s3(prep_path)"
   ]
  }
 ],
 "metadata": {
  "kernelspec": {
   "display_name": "Python 3",
   "language": "python",
   "name": "python3"
  },
  "language_info": {
   "codemirror_mode": {
    "name": "ipython",
    "version": 3
   },
   "file_extension": ".py",
   "mimetype": "text/x-python",
   "name": "python",
   "nbconvert_exporter": "python",
   "pygments_lexer": "ipython3",
   "version": "3.7.0"
  }
 },
 "nbformat": 4,
 "nbformat_minor": 2
}
