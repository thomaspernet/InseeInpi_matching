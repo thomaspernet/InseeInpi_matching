{
 "cells": [
  {
   "cell_type": "markdown",
   "metadata": {},
   "source": [
    "# Lecture et conversion de liste de fichiers FileZilla\n",
    "\n",
    "Ce notebook permet de lire une liste d\\'objets présents sur le FTP (extract xml issu de FileZilla) \n",
    "et de la sauvegarder en format csv."
   ]
  },
  {
   "cell_type": "markdown",
   "metadata": {},
   "source": [
    "# Read XML file list"
   ]
  },
  {
   "cell_type": "code",
   "execution_count": null,
   "metadata": {},
   "outputs": [],
   "source": [
    "filenameFTP='/media/jawad/Lexar/FTPFlux2017.xml'"
   ]
  },
  {
   "cell_type": "code",
   "execution_count": null,
   "metadata": {},
   "outputs": [],
   "source": [
    "filenameFTPcsv=filenameFTP.split('/')[-1].split('.')[0]\n",
    "filenameFTPcsv='/media/jawad/Lexar/' + filenameFTPcsv + '.csv'\n",
    "filenameFTPcsv"
   ]
  },
  {
   "cell_type": "code",
   "execution_count": null,
   "metadata": {},
   "outputs": [],
   "source": [
    "from xml.dom import minidom\n",
    "\n",
    "# parse an xml file by name\n",
    "mydoc = minidom.parse(filenameFTP)"
   ]
  },
  {
   "cell_type": "code",
   "execution_count": null,
   "metadata": {},
   "outputs": [],
   "source": [
    "files = mydoc.getElementsByTagName('File')"
   ]
  },
  {
   "cell_type": "code",
   "execution_count": null,
   "metadata": {},
   "outputs": [],
   "source": [
    "len(files)"
   ]
  },
  {
   "cell_type": "markdown",
   "metadata": {},
   "source": [
    "# Convert XML to CSV"
   ]
  },
  {
   "cell_type": "code",
   "execution_count": null,
   "metadata": {},
   "outputs": [],
   "source": [
    "# Save file list to a file\n",
    "import csv, time\n",
    "from tqdm import tqdm\n",
    "\n",
    "timestr = time.strftime(\"%Y%m%d-%H%M%S\")\n",
    "logtd_name=filenameFTPcsv\n",
    "logtd = open(logtd_name, 'w')\n",
    "with logtd as myfile:\n",
    "    wr = csv.writer(myfile,delimiter=';',quoting=csv.QUOTE_ALL)\n",
    "    wr.writerow(['key'])\n",
    "    for i in range(0,len(files)-1):\n",
    "        filename=files[i].getElementsByTagName('RemoteFile')[0].firstChild.nodeValue\n",
    "        full_path=files[i].getElementsByTagName('LocalFile')[0].firstChild.nodeValue[113:]\n",
    "        if filename.endswith(('.csv','.zip')):\n",
    "            wr.writerow([full_path])\n",
    "logtd.close()"
   ]
  }
 ],
 "metadata": {
  "kernelspec": {
   "display_name": "Python 3",
   "language": "python",
   "name": "python3"
  },
  "language_info": {
   "codemirror_mode": {
    "name": "ipython",
    "version": 3
   },
   "file_extension": ".py",
   "mimetype": "text/x-python",
   "name": "python",
   "nbconvert_exporter": "python",
   "pygments_lexer": "ipython3",
   "version": "3.7.0"
  }
 },
 "nbformat": 4,
 "nbformat_minor": 2
}
