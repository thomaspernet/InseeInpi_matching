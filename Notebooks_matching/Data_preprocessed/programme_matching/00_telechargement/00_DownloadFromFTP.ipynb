{
 "cells": [
  {
   "cell_type": "markdown",
   "metadata": {},
   "source": [
    "# Téléchargement depuis le FTP INPI\n",
    "L'objectif de ce notebook est de récupérer la donnée de l'INPI provenant du FTP.\n",
    "\n",
    "Le téléchargement depuis le FTP INPI a plusieurs contraintes :\n",
    "\n",
    "la connexion FTP est bloquée par le proxy sur un poste standard CALF.\n",
    "il y a un quota de téléchargement de 3Go par jour.\n",
    "la connexion est coupée automatiquement par l'hôte au bout d'une centaine de fichiers récupérés via un script.\n",
    "l'arborescence dans le FTP est profonde et pas incrémentale car liée à la codification des greffes. Ex : /public /IMR_Donnees_Saisies\n",
    "  /tc\n",
    "      /flux\n",
    "          /2017\n",
    "              /08\n",
    "                  /04\n",
    "                      /0101\n",
    "                          /57\n",
    "                      /0202\n",
    "                          /60\n",
    "                      /0203\n",
    "                          /58\n",
    "                      /0301\n",
    "                          /58\n",
    "                      ..etc\n",
    "\n",
    "\n",
    "Ce notebook est basé sur la librairie ftputil et un parcours de l'arborescence du FTP avec un walk. Attention, étant donné la coupure au bout d'une centaine de fichiers, on ne peut pas facilement télécharger l'intégralité des fichiers avec ce notebook.\n",
    "\n",
    "Fonctions :\n",
    "- Se connecter au FTP\n",
    "- Télécharger un fichier depuis le FTP\n",
    "- Télécharger tous les fichiers d'un dossier spécifique depuis le FTP\n",
    "- Lister tous les fichiers du FTP / d'un dossier spécifique"
   ]
  },
  {
   "cell_type": "markdown",
   "metadata": {},
   "source": [
    "# Connect to FTP"
   ]
  },
  {
   "cell_type": "code",
   "execution_count": null,
   "metadata": {},
   "outputs": [],
   "source": [
    "# INPI FTP Connexion parameters\n",
    "host = 'opendata-rncs.inpi.fr'\n",
    "port = 21\n",
    "usr = 'calf'\n",
    "pwd = 'Calfinpi2019'\n",
    "path_local = \"/home/ec2-user/SageMaker/Extract_inpi_FTS/temp\""
   ]
  },
  {
   "cell_type": "code",
   "execution_count": null,
   "metadata": {},
   "outputs": [],
   "source": [
    "!pip install ftputil"
   ]
  },
  {
   "cell_type": "code",
   "execution_count": null,
   "metadata": {},
   "outputs": [],
   "source": [
    "import os\n",
    "import ftplib\n",
    "import ftputil\n",
    "import ftputil.session\n",
    "#https://ftputil.sschwarzer.net/trac/wiki/Documentation\n",
    "\n",
    "# Enable secure session\n",
    "my_session_factory = ftputil.session.session_factory(\n",
    "                       base_class=ftplib.FTP_TLS,\n",
    "                       port=port,\n",
    "                       encrypt_data_channel=True)\n",
    "\n",
    "# create FTP Host\n",
    "ftp_host = ftputil.FTPHost(host, usr, pwd,session_factory=my_session_factory)"
   ]
  },
  {
   "cell_type": "code",
   "execution_count": null,
   "metadata": {},
   "outputs": [],
   "source": [
    "path='/public/IMR_Donnees_Saisies/tc/stock/2017'"
   ]
  },
  {
   "cell_type": "markdown",
   "metadata": {},
   "source": [
    "# List files in FTP Directory"
   ]
  },
  {
   "cell_type": "code",
   "execution_count": null,
   "metadata": {},
   "outputs": [],
   "source": [
    "# List files in FTP Directory\n",
    "\n",
    "list_files=[]\n",
    "for root,dirs,files in ftp_host.walk(path):\n",
    "    for file in files:\n",
    "          if file.endswith(('.csv','.zip')):\n",
    "                list_files.append((root, file))\n",
    "list_files[:5]"
   ]
  },
  {
   "cell_type": "code",
   "execution_count": null,
   "metadata": {},
   "outputs": [],
   "source": [
    "print (str(len(list_files)) + ' files in ' + path)"
   ]
  },
  {
   "cell_type": "markdown",
   "metadata": {},
   "source": [
    "# Download single file"
   ]
  },
  {
   "cell_type": "code",
   "execution_count": null,
   "metadata": {},
   "outputs": [],
   "source": [
    "# Download file\n",
    "import os\n",
    "dest_path = 'dl'\n",
    "(root, file)= list_files[0] \n",
    "source = os.path.join(root, file)\n",
    "target = os.path.join(dest_path, file)\n",
    "print(source)\n",
    "print(target)\n",
    "\n",
    "ftp_host.download(source, target)"
   ]
  },
  {
   "cell_type": "markdown",
   "metadata": {},
   "source": [
    "# Download all files in a given path"
   ]
  },
  {
   "cell_type": "code",
   "execution_count": null,
   "metadata": {},
   "outputs": [],
   "source": [
    "# Download all files in a given path\n",
    "import os\n",
    "dest_path = 'dl'\n",
    "for root, file in list_files:\n",
    "    source = os.path.join(root, file)\n",
    "    target = os.path.join(dest_path, file)\n",
    "    ftp_host.download(source, target)"
   ]
  }
 ],
 "metadata": {
  "kernelspec": {
   "display_name": "Python 3",
   "language": "python",
   "name": "python3"
  },
  "language_info": {
   "codemirror_mode": {
    "name": "ipython",
    "version": 3
   },
   "file_extension": ".py",
   "mimetype": "text/x-python",
   "name": "python",
   "nbconvert_exporter": "python",
   "pygments_lexer": "ipython3",
   "version": "3.7.0"
  }
 },
 "nbformat": 4,
 "nbformat_minor": 4
}
