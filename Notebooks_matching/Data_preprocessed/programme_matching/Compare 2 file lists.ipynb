{
 "cells": [
  {
   "cell_type": "code",
   "execution_count": 2,
   "metadata": {},
   "outputs": [],
   "source": [
    "import os\n",
    "import utils as u"
   ]
  },
  {
   "cell_type": "code",
   "execution_count": 100,
   "metadata": {},
   "outputs": [],
   "source": [
    "list1_path='flux/2017' # Raw local #flux 2017 hors ETS\n",
    "list2_path='data/prep_flux_2017_horsETS' # Prep local #flux 2017 hors ETS\n",
    "list3_path='INPI/TC_1/Flux/2018' #raw like S3\n",
    "list4_path='INPI/TC_1/01_donnee_source/Flux/2018' #prepared S3\n",
    "list5_path='INPI/TC_1/00_RawData/public/IMR_Donnees_Saisies/tc/flux/2018' #raw S3"
   ]
  },
  {
   "cell_type": "markdown",
   "metadata": {},
   "source": [
    "# List 1 : raw local"
   ]
  },
  {
   "cell_type": "code",
   "execution_count": 45,
   "metadata": {},
   "outputs": [
    {
     "data": {
      "text/plain": [
       "['0101_1_20170512_112544_11_obs.csv',\n",
       " '0101_1_20170512_112544_12_actes.csv',\n",
       " '0101_1_20170512_112544_13_comptes_annuels.csv',\n",
       " '0101_1_20170512_112544_1_PM.csv',\n",
       " '0101_1_20170512_112544_2_PM_EVT.csv']"
      ]
     },
     "execution_count": 45,
     "metadata": {},
     "output_type": "execute_result"
    }
   ],
   "source": [
    "\n",
    "list_files_raw_local=[]\n",
    "for root,dirs,files in os.walk(list1_path):\n",
    "    for file in files:\n",
    "          if file.endswith(('.csv')):\n",
    "                type=file.split('_')[4] \n",
    "                if (type not in ['8','9','10']):# EXCLUDE ETS NEW ET EVT\n",
    "                    list_files_raw_local.append(str(file))\n",
    "list_files_raw_local[:5]"
   ]
  },
  {
   "cell_type": "markdown",
   "metadata": {},
   "source": [
    "# List 2 : prepared local"
   ]
  },
  {
   "cell_type": "code",
   "execution_count": 40,
   "metadata": {},
   "outputs": [
    {
     "data": {
      "text/plain": [
       "['0101_100_20171003_074607_11_obs.csv',\n",
       " '0101_100_20171003_074607_12_actes.csv',\n",
       " '0101_100_20171003_074607_13_comptes_annuels.csv',\n",
       " '0101_100_20171003_074607_1_PM.csv',\n",
       " '0101_100_20171003_074607_2_PM_EVT.csv']"
      ]
     },
     "execution_count": 40,
     "metadata": {},
     "output_type": "execute_result"
    }
   ],
   "source": [
    "list_files_prep_local=[]\n",
    "for root,dirs,files in os.walk(list2_path):\n",
    "    for file in files:\n",
    "          if file.endswith(('.csv')):\n",
    "                #print(file)\n",
    "                list_files_prep_local.append(str(file))\n",
    "list_files_prep_local[:5]"
   ]
  },
  {
   "cell_type": "code",
   "execution_count": 62,
   "metadata": {},
   "outputs": [
    {
     "data": {
      "text/plain": [
       "['7501_10_20170727_194838_1_PM.csv',\n",
       " '7803_211_20171007_070623_1_PM.csv',\n",
       " '7802_66_20170624_103358_1_PM.csv',\n",
       " '4701_40_20170705_063002_2_PM_EVT.csv',\n",
       " '6901_47_20170711_083623_6_rep_nouveau_modifie_EVT.csv',\n",
       " '7501_61_20171006_193714_6_rep_nouveau_modifie_EVT.csv',\n",
       " '7501_72_20171023_210545_6_rep_nouveau_modifie_EVT.csv',\n",
       " '1304_30_20170620_085641_5_rep.csv',\n",
       " '8401_23_20170609_084505_1_PM.csv',\n",
       " '5910_139_20171101_065808_6_rep_nouveau_modifie_EVT.csv']"
      ]
     },
     "execution_count": 62,
     "metadata": {},
     "output_type": "execute_result"
    }
   ],
   "source": [
    "diff_list=list(set(list_files_raw_local) - set(list_files_prep_local))\n",
    "diff_list=sorted(diff_list)\n",
    "diff_list[:100]"
   ]
  },
  {
   "cell_type": "code",
   "execution_count": null,
   "metadata": {},
   "outputs": [],
   "source": []
  },
  {
   "cell_type": "markdown",
   "metadata": {},
   "source": [
    "# List Files S3"
   ]
  },
  {
   "cell_type": "code",
   "execution_count": 67,
   "metadata": {},
   "outputs": [],
   "source": [
    "    # Import S3 connectors librairies\n",
    "    #from awsPy.aws_authorization import aws_connector\n",
    "    import importlib.util\n",
    "    spec = importlib.util.spec_from_file_location(\"aws_connector.py\", \"C:/Users/Hp/Documents/GitHub/aws-python/awsPy/aws_authorization/aws_connector.py\")\n",
    "    aws_connector = importlib.util.module_from_spec(spec)\n",
    "    spec.loader.exec_module(aws_connector)\n",
    "\n",
    "    #from awsPy.aws_s3 import service_s3\n",
    "    import importlib.util\n",
    "    spec = importlib.util.spec_from_file_location(\"service_s3.py\", \"C:/Users/Hp/Documents/GitHub/aws-python/awsPy/aws_s3/service_s3.py\")\n",
    "    service_s3 = importlib.util.module_from_spec(spec)\n",
    "    spec.loader.exec_module(service_s3)\n",
    "\n",
    "    # Connect to S3\n",
    "    import os\n",
    "    from pathlib import Path\n",
    "\n",
    "    bucket = 'calfdata'\n",
    "    path = os.getcwd()\n",
    "    parent_path = str(Path(path).parent)\n",
    "    path_cred = \"{}/programme_matching/credential_AWS.json\".format(parent_path)\n",
    "\n",
    "    con = aws_connector.aws_instantiate(credential = path_cred,\n",
    "                                            region = 'eu-west-3')\n",
    "    client= con.client_boto()\n",
    "    s3 = service_s3.connect_S3(client = client,\n",
    "                          bucket = 'calfdata')\n",
    "    bucket_name='calfdata'\n",
    "    bucket = client['resource'].Bucket(bucket_name)"
   ]
  },
  {
   "cell_type": "code",
   "execution_count": 102,
   "metadata": {},
   "outputs": [
    {
     "data": {
      "text/plain": [
       "['0101_163_20180103_084810_12_actes.csv',\n",
       " '0101_164_20180104_054316_12_actes.csv',\n",
       " '0101_165_20180105_132845_12_actes.csv',\n",
       " '0101_166_20180106_141809_12_actes.csv',\n",
       " '0101_167_20180109_061601_12_actes.csv']"
      ]
     },
     "execution_count": 102,
     "metadata": {},
     "output_type": "execute_result"
    }
   ],
   "source": [
    "list_files_rawlike_s3=s3.list_files_s3(list3_path)\n",
    "tmp=[]\n",
    "for i in list_files_rawlike_s3:\n",
    "    if i.endswith('.csv'):\n",
    "        filename=i.split('/')[-1]\n",
    "        tmp.append(filename)\n",
    "list_files_rawlike_s3=tmp\n",
    "list_files_rawlike_s3[:5]"
   ]
  },
  {
   "cell_type": "code",
   "execution_count": 103,
   "metadata": {},
   "outputs": [
    {
     "data": {
      "text/plain": [
       "['0101_163_20180103_084810_12_actes.csv',\n",
       " '0101_164_20180104_054316_12_actes.csv',\n",
       " '0101_165_20180105_132845_12_actes.csv',\n",
       " '0101_166_20180106_141809_12_actes.csv',\n",
       " '0101_167_20180109_061601_12_actes.csv']"
      ]
     },
     "execution_count": 103,
     "metadata": {},
     "output_type": "execute_result"
    }
   ],
   "source": [
    "list_files_prep_s3=s3.list_files_s3(list4_path)\n",
    "tmp=[]\n",
    "for i in list_files_prep_s3:\n",
    "    if i.endswith('.csv'):\n",
    "        filename=i.split('/')[-1]\n",
    "        tmp.append(filename)\n",
    "list_files_prep_s3=tmp\n",
    "list_files_prep_s3[:5]"
   ]
  },
  {
   "cell_type": "code",
   "execution_count": 104,
   "metadata": {},
   "outputs": [
    {
     "data": {
      "text/plain": [
       "['7501_122_20180101_201523_10_ets_supprime_EVT.csv',\n",
       " '7501_122_20180101_201523_11_obs.csv',\n",
       " '7501_122_20180101_201523_12_actes.csv',\n",
       " '7501_122_20180101_201523_13_comptes_annuels.csv',\n",
       " '7501_122_20180101_201523_1_PM.csv']"
      ]
     },
     "execution_count": 104,
     "metadata": {},
     "output_type": "execute_result"
    }
   ],
   "source": [
    "list_files_raw_s3=s3.list_files_s3(list5_path)\n",
    "tmp=[]\n",
    "for i in list_files_raw_s3:\n",
    "    if i.endswith('.csv'):\n",
    "        filename=i.split('/')[-1]\n",
    "        tmp.append(filename)\n",
    "list_files_raw_s3=tmp\n",
    "list_files_raw_s3[:5]"
   ]
  },
  {
   "cell_type": "code",
   "execution_count": 105,
   "metadata": {},
   "outputs": [
    {
     "data": {
      "text/plain": [
       "['0101_163_20180103_084810_10_ets_supprime_EVT.csv',\n",
       " '0101_163_20180103_084810_11_obs.csv',\n",
       " '0101_163_20180103_084810_13_comptes_annuels.csv',\n",
       " '0101_163_20180103_084810_1_PM.csv',\n",
       " '0101_163_20180103_084810_2_PM_EVT.csv',\n",
       " '0101_163_20180103_084810_3_PP.csv',\n",
       " '0101_163_20180103_084810_4_PP_EVT.csv',\n",
       " '0101_163_20180103_084810_5_rep.csv',\n",
       " '0101_163_20180103_084810_6_rep_nouveau_modifie_EVT.csv',\n",
       " '0101_163_20180103_084810_7_rep_partant_EVT.csv']"
      ]
     },
     "execution_count": 105,
     "metadata": {},
     "output_type": "execute_result"
    }
   ],
   "source": [
    "diff_list_s3=list(set(list_files_raw_s3) - set(list_files_prep_s3))\n",
    "diff_list_s3=sorted(diff_list_s3)\n",
    "diff_list_s3[:10]"
   ]
  },
  {
   "cell_type": "code",
   "execution_count": 106,
   "metadata": {},
   "outputs": [
    {
     "data": {
      "text/plain": [
       "548034"
      ]
     },
     "execution_count": 106,
     "metadata": {},
     "output_type": "execute_result"
    }
   ],
   "source": [
    "len(list_files_raw_s3)"
   ]
  },
  {
   "cell_type": "code",
   "execution_count": 107,
   "metadata": {},
   "outputs": [
    {
     "data": {
      "text/plain": [
       "508900"
      ]
     },
     "execution_count": 107,
     "metadata": {},
     "output_type": "execute_result"
    }
   ],
   "source": [
    "len(list_files_rawlike_s3)"
   ]
  },
  {
   "cell_type": "code",
   "execution_count": 108,
   "metadata": {},
   "outputs": [
    {
     "data": {
      "text/plain": [
       "392061"
      ]
     },
     "execution_count": 108,
     "metadata": {},
     "output_type": "execute_result"
    }
   ],
   "source": [
    "len(list_files_prep_s3)"
   ]
  },
  {
   "cell_type": "code",
   "execution_count": 109,
   "metadata": {},
   "outputs": [
    {
     "data": {
      "text/plain": [
       "159736"
      ]
     },
     "execution_count": 109,
     "metadata": {},
     "output_type": "execute_result"
    }
   ],
   "source": [
    "len(diff_list_s3)"
   ]
  },
  {
   "cell_type": "code",
   "execution_count": 110,
   "metadata": {},
   "outputs": [
    {
     "data": {
      "text/plain": [
       "155973"
      ]
     },
     "execution_count": 110,
     "metadata": {},
     "output_type": "execute_result"
    }
   ],
   "source": [
    "len(list_files_raw_s3)-len(list_files_prep_s3)"
   ]
  },
  {
   "cell_type": "code",
   "execution_count": 111,
   "metadata": {},
   "outputs": [
    {
     "data": {
      "text/plain": [
       "39134"
      ]
     },
     "execution_count": 111,
     "metadata": {},
     "output_type": "execute_result"
    }
   ],
   "source": [
    "len(list_files_raw_s3)-len(list_files_rawlike_s3)"
   ]
  },
  {
   "cell_type": "code",
   "execution_count": null,
   "metadata": {},
   "outputs": [],
   "source": []
  }
 ],
 "metadata": {
  "kernelspec": {
   "display_name": "Python 3",
   "language": "python",
   "name": "python3"
  },
  "language_info": {
   "codemirror_mode": {
    "name": "ipython",
    "version": 3
   },
   "file_extension": ".py",
   "mimetype": "text/x-python",
   "name": "python",
   "nbconvert_exporter": "python",
   "pygments_lexer": "ipython3",
   "version": "3.7.4"
  }
 },
 "nbformat": 4,
 "nbformat_minor": 2
}
