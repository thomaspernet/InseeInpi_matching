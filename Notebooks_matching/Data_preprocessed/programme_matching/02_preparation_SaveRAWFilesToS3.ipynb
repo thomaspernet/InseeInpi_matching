{
 "cells": [
  {
   "cell_type": "code",
   "execution_count": 1,
   "metadata": {},
   "outputs": [],
   "source": [
    "import utils as u\n",
    "import os"
   ]
  },
  {
   "cell_type": "code",
   "execution_count": 2,
   "metadata": {},
   "outputs": [],
   "source": [
    "if not 'workbookDir' in globals():\n",
    "    workbookDir = os.getcwd()"
   ]
  },
  {
   "cell_type": "code",
   "execution_count": 3,
   "metadata": {},
   "outputs": [],
   "source": [
    "aws_separator = \"/\""
   ]
  },
  {
   "cell_type": "code",
   "execution_count": 4,
   "metadata": {},
   "outputs": [],
   "source": [
    "# Import S3 connectors librairies\n",
    "#from awsPy.aws_authorization import aws_connector\n",
    "import importlib.util\n",
    "spec = importlib.util.spec_from_file_location(\"aws_connector.py\", \"../../../../aws-python/awsPy/aws_authorization/aws_connector.py\")\n",
    "aws_connector = importlib.util.module_from_spec(spec)\n",
    "spec.loader.exec_module(aws_connector)\n",
    "\n",
    "#from awsPy.aws_s3 import service_s3\n",
    "import importlib.util\n",
    "spec = importlib.util.spec_from_file_location(\"service_s3.py\", \"../../../../aws-python/awsPy/aws_s3/service_s3.py\")\n",
    "service_s3 = importlib.util.module_from_spec(spec)\n",
    "spec.loader.exec_module(service_s3)"
   ]
  },
  {
   "cell_type": "code",
   "execution_count": 5,
   "metadata": {},
   "outputs": [],
   "source": [
    "# Connect to S3\n",
    "import os\n",
    "from pathlib import Path\n",
    "\n",
    "bucket = 'calfdata'\n",
    "path = os.getcwd()\n",
    "parent_path = str(Path(path).parent)\n",
    "path_cred = \"{}/programme_matching/credential_AWS.json\".format(parent_path)\n",
    "\n",
    "con = aws_connector.aws_instantiate(credential = path_cred,\n",
    "                                        region = 'eu-west-3')\n",
    "client= con.client_boto()\n",
    "s3 = service_s3.connect_S3(client = client,\n",
    "                      bucket = 'calfdata')"
   ]
  },
  {
   "cell_type": "code",
   "execution_count": 8,
   "metadata": {},
   "outputs": [
    {
     "data": {
      "text/plain": [
       "[('flux-2018-to-send\\\\2018\\\\12\\\\26\\\\0101\\\\482\\\\0101_482_20181226_085507_10_ets_supprime_EVT.csv',\n",
       "  'INPI/TC_1/00_RawData/public/IMR_Donnees_Saisies/tc/flux-2018-to-send/2018/12/26/0101/482'),\n",
       " ('flux-2018-to-send\\\\2018\\\\12\\\\26\\\\0101\\\\482\\\\0101_482_20181226_085507_11_obs.csv',\n",
       "  'INPI/TC_1/00_RawData/public/IMR_Donnees_Saisies/tc/flux-2018-to-send/2018/12/26/0101/482'),\n",
       " ('flux-2018-to-send\\\\2018\\\\12\\\\26\\\\0101\\\\482\\\\0101_482_20181226_085507_12_actes.csv',\n",
       "  'INPI/TC_1/00_RawData/public/IMR_Donnees_Saisies/tc/flux-2018-to-send/2018/12/26/0101/482'),\n",
       " ('flux-2018-to-send\\\\2018\\\\12\\\\26\\\\0101\\\\482\\\\0101_482_20181226_085507_13_comptes_annuels.csv',\n",
       "  'INPI/TC_1/00_RawData/public/IMR_Donnees_Saisies/tc/flux-2018-to-send/2018/12/26/0101/482'),\n",
       " ('flux-2018-to-send\\\\2018\\\\12\\\\26\\\\0101\\\\482\\\\0101_482_20181226_085507_1_PM.csv',\n",
       "  'INPI/TC_1/00_RawData/public/IMR_Donnees_Saisies/tc/flux-2018-to-send/2018/12/26/0101/482')]"
      ]
     },
     "execution_count": 8,
     "metadata": {},
     "output_type": "execute_result"
    }
   ],
   "source": [
    "# List files to send and compute each destination\n",
    "import os\n",
    "source_path= 'flux-2018-to-send'\n",
    "root_dest_path=aws_separator.join(['INPI', 'TC_1' , '00_RawData', 'public' ,'IMR_Donnees_Saisies' ,'tc'])\n",
    "\n",
    "list_files=[]\n",
    "for r,d,files in os.walk(source_path):\n",
    "    for i, file in enumerate(files):\n",
    "          if file.endswith(('.csv')):\n",
    "                \n",
    "                source_full_path=os.path.join(r,file)\n",
    "                \n",
    "                dest_path = aws_separator.join([root_dest_path,r.replace(\"\\\\\",\"/\")])\n",
    "\n",
    "                list_files.append((source_full_path,dest_path))"
   ]
  },
  {
   "cell_type": "code",
   "execution_count": 9,
   "metadata": {},
   "outputs": [],
   "source": [
    "# Send files to s3\n",
    "\n",
    "for (full_path,destination_in_s3) in list_files:\n",
    "    filename=full_path.split('\\\\')[-1]\n",
    "    key = aws_separator.join([destination_in_s3,filename])\n",
    "    if not s3.key_exist(key):\n",
    "        s3.upload_file(full_path, destination_in_s3)"
   ]
  }
 ],
 "metadata": {
  "kernelspec": {
   "display_name": "Python 3",
   "language": "python",
   "name": "python3"
  },
  "language_info": {
   "codemirror_mode": {
    "name": "ipython",
    "version": 3
   },
   "file_extension": ".py",
   "mimetype": "text/x-python",
   "name": "python",
   "nbconvert_exporter": "python",
   "pygments_lexer": "ipython3",
   "version": "3.7.0"
  }
 },
 "nbformat": 4,
 "nbformat_minor": 2
}
