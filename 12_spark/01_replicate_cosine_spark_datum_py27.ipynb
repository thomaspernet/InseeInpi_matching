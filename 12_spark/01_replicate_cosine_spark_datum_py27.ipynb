{
 "cells": [
  {
   "cell_type": "markdown",
   "metadata": {},
   "source": [
    "# Repliquer calcul cosine en Spark\n",
    "\n",
    "# Objective(s)\n",
    "\n",
    "Repliquer le code du calcul de la distance entre 2 listes de mots en Spark."
   ]
  },
  {
   "cell_type": "code",
   "execution_count": 1,
   "metadata": {},
   "outputs": [
    {
     "name": "stdout",
     "output_type": "stream",
     "text": [
      "Successfully imported Spark Modules\n",
      "/opt/mapr/spark/spark-2.2.1/python/pyspark/shell.py\n",
      "Welcome to\n",
      "      ____              __\n",
      "     / __/__  ___ _____/ /__\n",
      "    _\\ \\/ _ \\/ _ `/ __/  '_/\n",
      "   /__ / .__/\\_,_/_/ /_/\\_\\   version 2.2.1-mapr-1901\n",
      "      /_/\n",
      "\n",
      "Using Python version 2.7.15 (default, Mar  5 2020 14:56:06)\n",
      "SparkSession available as 'spark'.\n"
     ]
    }
   ],
   "source": [
    "from datum import spark"
   ]
  },
  {
   "cell_type": "code",
   "execution_count": 2,
   "metadata": {},
   "outputs": [],
   "source": [
    "#import pandas as pd\n",
    "#import numpy as np\n",
    "import json\n",
    "from pyspark.sql import SparkSession\n",
    "\n",
    "from pyspark.sql.types import StructType, ArrayType, StringType, FloatType, MapType\n",
    "import pyspark.sql.functions as F\n",
    "from pyspark.sql.types import IntegerType\n",
    "#from pyspark.mllib.linalg import DenseVector, Vectors, VectorUDT\n",
    "\n",
    "#spark = (SparkSession \n",
    "#    .builder \n",
    "#    .appName(\"Python Spark SQL basic example\") \n",
    "#    .config('spark.executor.memory', '4G') \n",
    "#    .getOrCreate()\n",
    "#        )"
   ]
  },
  {
   "cell_type": "code",
   "execution_count": 3,
   "metadata": {},
   "outputs": [],
   "source": [
    "spark.conf.set(\"spark.sql.execution.arrow.pyspark.enabled\", \"true\")\n",
    "spark.conf.set(\"spark.sql.debug.maxToStringFields\", 1000)"
   ]
  },
  {
   "cell_type": "code",
   "execution_count": 4,
   "metadata": {},
   "outputs": [
    {
     "data": {
      "text/plain": [
       "[{u'inpi_except': [u'RUE', u'CHARLES', u'GILLE'],\n",
       "  u'insee_except': [u'BOULEVARD', u'PREUILLY'],\n",
       "  u'row_id': 5},\n",
       " {u'inpi_except': [u'JB'],\n",
       "  u'insee_except': [u'JEAN', u'BAPTISTE'],\n",
       "  u'row_id': 7},\n",
       " {u'inpi_except': [u'JB'],\n",
       "  u'insee_except': [u'JEAN', u'BAPTISTE'],\n",
       "  u'row_id': 8},\n",
       " {u'inpi_except': [u'MARCELIN', u'BERTHELOT', u'CENTRE', u'D', u'ENTREPRISES'],\n",
       "  u'insee_except': [u'PROSPER', u'LEGOUTE'],\n",
       "  u'row_id': 10},\n",
       " {u'inpi_except': [u'CHEMIN', u'BEL', u'AIR'],\n",
       "  u'insee_except': [u'RUE', u'VICTOR', u'HUGO'],\n",
       "  u'row_id': 12},\n",
       " {u'inpi_except': [u'A', u'E'],\n",
       "  u'insee_except': [u'AIME', u'EUGENIE', u'ZI', u'NORD'],\n",
       "  u'row_id': 19},\n",
       " {u'inpi_except': [u'ST'], u'insee_except': [u'SAINT'], u'row_id': 21},\n",
       " {u'inpi_except': [u'LOTISSEMENT', u'N'],\n",
       "  u'insee_except': [u'BOULEVARD',\n",
       "   u'RAYMOND',\n",
       "   u'POINCARE',\n",
       "   u'PALAIS',\n",
       "   u'ORIENTAL'],\n",
       "  u'row_id': 23},\n",
       " {u'inpi_except': [u'LOTISSEMENT', u'N'],\n",
       "  u'insee_except': [u'PLACE', u'AMIRAL', u'ORTOLI'],\n",
       "  u'row_id': 24},\n",
       " {u'inpi_except': [u'RUE', u'FURSANNES'],\n",
       "  u'insee_except': [u'COLLINE'],\n",
       "  u'row_id': 25}]"
      ]
     },
     "execution_count": 4,
     "metadata": {},
     "output_type": "execute_result"
    }
   ],
   "source": [
    "with open('test_cosine_inpi_insee_clean.json') as f:\n",
    "    data = json.load(f)\n",
    "data"
   ]
  },
  {
   "cell_type": "markdown",
   "metadata": {},
   "source": [
    "Recupération premier ID"
   ]
  },
  {
   "cell_type": "code",
   "execution_count": 5,
   "metadata": {},
   "outputs": [],
   "source": [
    "test_id = data[0]['row_id']"
   ]
  },
  {
   "cell_type": "code",
   "execution_count": 6,
   "metadata": {},
   "outputs": [
    {
     "name": "stderr",
     "output_type": "stream",
     "text": [
      "/opt/mapr/spark/spark-2.2.1/python/pyspark/sql/session.py:342: UserWarning: inferring schema from dict is deprecated,please use pyspark.sql.Row instead\n",
      "  warnings.warn(\"inferring schema from dict is deprecated,\"\n"
     ]
    },
    {
     "name": "stdout",
     "output_type": "stream",
     "text": [
      "root\n",
      " |-- inpi_except: array (nullable = true)\n",
      " |    |-- element: string (containsNull = true)\n",
      " |-- insee_except: array (nullable = true)\n",
      " |    |-- element: string (containsNull = true)\n",
      " |-- row_id: long (nullable = true)\n",
      "\n"
     ]
    }
   ],
   "source": [
    "df = spark.createDataFrame(data)\n",
    "df.printSchema()"
   ]
  },
  {
   "cell_type": "code",
   "execution_count": 7,
   "metadata": {},
   "outputs": [
    {
     "data": {
      "text/plain": [
       "Row(inpi_except=[u'RUE', u'CHARLES', u'GILLE'], insee_except=[u'BOULEVARD', u'PREUILLY'], row_id=5)"
      ]
     },
     "execution_count": 7,
     "metadata": {},
     "output_type": "execute_result"
    }
   ],
   "source": [
    "df.first()"
   ]
  },
  {
   "cell_type": "markdown",
   "metadata": {},
   "source": [
    "## Load weights"
   ]
  },
  {
   "cell_type": "code",
   "execution_count": 8,
   "metadata": {},
   "outputs": [
    {
     "data": {
      "text/plain": [
       "'/opt/notebooks'"
      ]
     },
     "execution_count": 8,
     "metadata": {},
     "output_type": "execute_result"
    }
   ],
   "source": [
    "import os\n",
    "os.getcwd()"
   ]
  },
  {
   "cell_type": "code",
   "execution_count": 16,
   "metadata": {},
   "outputs": [],
   "source": [
    "with open('word2vec_weights_100_v2.json') as f:\n",
    "    weights_json = json.load(f)"
   ]
  },
  {
   "cell_type": "code",
   "execution_count": 17,
   "metadata": {},
   "outputs": [
    {
     "name": "stdout",
     "output_type": "stream",
     "text": [
      "root\n",
      " |-- words: string (nullable = true)\n",
      " |-- list_weights: array (nullable = false)\n",
      " |    |-- element: float (containsNull = true)\n",
      "\n"
     ]
    }
   ],
   "source": [
    "cols = [str(i) for i in range(1, 101)]\n",
    "weights = (\n",
    "    spark.createDataFrame(weights_json)\n",
    "    .select('0',(F.array(cols)).cast(ArrayType(FloatType(), True)).alias('list_weights'))\n",
    "    .withColumnRenamed(\"0\",\"words\")\n",
    ")\n",
    "weights.printSchema()"
   ]
  },
  {
   "cell_type": "code",
   "execution_count": 18,
   "metadata": {},
   "outputs": [
    {
     "name": "stdout",
     "output_type": "stream",
     "text": [
      "+-----------+--------------------+\n",
      "|      words|        list_weights|\n",
      "+-----------+--------------------+\n",
      "|        RUE|[-0.86694837, -0....|\n",
      "|     CHEMIN|[-0.33908606, 0.7...|\n",
      "|          D|[1.1837989, -1.35...|\n",
      "|  BOULEVARD|[-1.4547851, 0.14...|\n",
      "|      PLACE|[-0.21757227, 0.1...|\n",
      "|      SAINT|[0.7002688, -2.22...|\n",
      "|          A|[-1.2238628, -0.0...|\n",
      "|       JEAN|[-2.4126835, 1.26...|\n",
      "|     CENTRE|[-3.6606867, -4.1...|\n",
      "|         ZI|[0.13045992, 1.63...|\n",
      "|         ST|[-2.0008852, -1.1...|\n",
      "|          N|[-1.7969333, -2.7...|\n",
      "|LOTISSEMENT|[-1.0849817, -3.4...|\n",
      "|    CHARLES|[-1.1762805, -0.5...|\n",
      "|          E|[-2.364159, 0.654...|\n",
      "|     VICTOR|[2.3670592, 1.435...|\n",
      "|       NORD|[-1.9177388, 0.50...|\n",
      "|       HUGO|[-0.50103456, -2....|\n",
      "|        BEL|[-2.2877157, -1.2...|\n",
      "|    RAYMOND|[-0.6991833, -0.0...|\n",
      "+-----------+--------------------+\n",
      "only showing top 20 rows\n",
      "\n"
     ]
    }
   ],
   "source": [
    "weights.show()"
   ]
  },
  {
   "cell_type": "markdown",
   "metadata": {},
   "source": [
    "# Calcul Cosine depuis deux listes en Spark, version < 2.2"
   ]
  },
  {
   "cell_type": "code",
   "execution_count": null,
   "metadata": {},
   "outputs": [],
   "source": [
    "list_a = [\"RUE\", \"CHARLES\", \"GILLE\"]\n",
    "list_b = [\"BOULEVARD\", \"PREUILLY\"]\n",
    "\n",
    "test_list =[dict(zip([i], [list_b])) for i in list_a]\n",
    "test_list"
   ]
  },
  {
   "cell_type": "markdown",
   "metadata": {},
   "source": [
    "udf pour remplacer `explode(map_from_entries(arrays_zip`"
   ]
  },
  {
   "cell_type": "code",
   "execution_count": 20,
   "metadata": {},
   "outputs": [],
   "source": [
    "zip_except = F.udf(lambda x, y: [dict(zip([i], [y])) for i in x],\n",
    "                   ArrayType(MapType(StringType(), ArrayType(StringType()))))"
   ]
  },
  {
   "cell_type": "code",
   "execution_count": null,
   "metadata": {},
   "outputs": [],
   "source": [
    "#cosine = F.udf(lambda x, y: \n",
    "#               (np.dot(x, y)/ (np.linalg.norm(x) * np.linalg.norm(y))).item(),\n",
    "#               FloatType())"
   ]
  },
  {
   "cell_type": "code",
   "execution_count": 70,
   "metadata": {},
   "outputs": [],
   "source": [
    "import math"
   ]
  },
  {
   "cell_type": "code",
   "execution_count": 72,
   "metadata": {},
   "outputs": [
    {
     "data": {
      "text/plain": [
       "0.9746318461970762"
      ]
     },
     "execution_count": 72,
     "metadata": {},
     "output_type": "execute_result"
    }
   ],
   "source": [
    "list_a = [1,2,3]\n",
    "list_b = [4,5,6]\n",
    "def cosine(x, y):\n",
    "    up = 0\n",
    "    x_down = 0\n",
    "    y_down = 0\n",
    "    for i, j in zip(x, y):\n",
    "        up += i*j\n",
    "        x_down += i**2\n",
    "        y_down += j**2\n",
    "    cosine = up/ math.sqrt(x_down * y_down)    \n",
    "    return cosine\n",
    "dot_product(list_a, list_b)"
   ]
  },
  {
   "cell_type": "code",
   "execution_count": 74,
   "metadata": {},
   "outputs": [],
   "source": [
    "@F.udf\n",
    "def cosine(x, y):\n",
    "    up = 0\n",
    "    x_down = 0\n",
    "    y_down = 0\n",
    "    for i, j in zip(x, y):\n",
    "        up += i*j\n",
    "        x_down += i**2\n",
    "        y_down += j**2\n",
    "    cosine = up/ math.sqrt(x_down * y_down)    \n",
    "    return cosine\n",
    "    #return sum(i[0] * i[1] for i in zip((x, y)))"
   ]
  },
  {
   "cell_type": "code",
   "execution_count": 78,
   "metadata": {},
   "outputs": [],
   "source": [
    "test = (\n",
    "    df\n",
    "    .filter(\"row_id = {}\".format(test_id))\n",
    "    .select(\n",
    "        'row_id',\n",
    "        'inpi_except',\n",
    "        'insee_except',\n",
    "        F.explode(zip_except(\"inpi_except\",\"insee_except\")).alias(\"zip_except\")\n",
    "    )\n",
    "    .select(\n",
    "    'row_id',\n",
    "        'inpi_except',\n",
    "        'insee_except',\n",
    "        F.explode(\"zip_except\").alias(\"inpi\", \"value\")\n",
    "    )\n",
    "    .select(\n",
    "    'row_id',\n",
    "        'inpi_except',\n",
    "        'insee_except',\n",
    "        'inpi',\n",
    "         F.explode(\"value\")\n",
    "        .alias(\"insee\")\n",
    "    )\n",
    "    .join((weights.withColumnRenamed(\"words\",\"inpi\")),\n",
    "        on = ['inpi'], how = 'left')\n",
    "    .withColumnRenamed(\"list_weights\",\"list_weights_inpi\")\n",
    "    .join((weights.withColumnRenamed(\"words\",\"insee\")),\n",
    "       on = ['insee'], how = 'left')\n",
    "    .withColumnRenamed(\"list_weights\",\"list_weights_insee\")\n",
    "    .select('row_id',\n",
    "            'inpi',\n",
    "            'insee',\n",
    "            \"list_weights_inpi\",\n",
    "            \"list_weights_insee\",\n",
    "            cosine(\"list_weights_inpi\", \"list_weights_insee\").alias('cosine')\n",
    "    #        cosine(\"list_weights_inpi\", \"list_weights_insee\").alias(\"cosine\"),\n",
    "           )\n",
    ")\n"
   ]
  },
  {
   "cell_type": "code",
   "execution_count": 76,
   "metadata": {},
   "outputs": [
    {
     "data": {
      "text/plain": [
       "[('row_id', 'bigint'),\n",
       " ('inpi', 'string'),\n",
       " ('insee', 'string'),\n",
       " ('list_weights_inpi', 'array<float>'),\n",
       " ('list_weights_insee', 'array<float>'),\n",
       " ('dot_product(list_weights_inpi, list_weights_insee)', 'string')]"
      ]
     },
     "execution_count": 76,
     "metadata": {},
     "output_type": "execute_result"
    }
   ],
   "source": [
    "test.dtypes"
   ]
  },
  {
   "cell_type": "code",
   "execution_count": 79,
   "metadata": {},
   "outputs": [
    {
     "name": "stdout",
     "output_type": "stream",
     "text": [
      "+------+-------+---------+--------------------+--------------------+-------------------+\n",
      "|row_id|   inpi|    insee|   list_weights_inpi|  list_weights_insee|             cosine|\n",
      "+------+-------+---------+--------------------+--------------------+-------------------+\n",
      "|     5|  GILLE| PREUILLY|[0.34494784, -0.2...|[0.026656773, -0....|0.22824263771406134|\n",
      "|     5|CHARLES| PREUILLY|[-1.1762805, -0.5...|[0.026656773, -0....|0.10189664729146147|\n",
      "|     5|    RUE| PREUILLY|[-0.86694837, -0....|[0.026656773, -0....|0.09652857130042741|\n",
      "|     5|  GILLE|BOULEVARD|[0.34494784, -0.2...|[-1.4547851, 0.14...|0.03590281117414814|\n",
      "|     5|CHARLES|BOULEVARD|[-1.1762805, -0.5...|[-1.4547851, 0.14...|0.09133628399871992|\n",
      "|     5|    RUE|BOULEVARD|[-0.86694837, -0....|[-1.4547851, 0.14...|0.40306154624654084|\n",
      "+------+-------+---------+--------------------+--------------------+-------------------+\n",
      "\n"
     ]
    }
   ],
   "source": [
    "test.show(truncate =True)"
   ]
  }
 ],
 "metadata": {
  "kernelspec": {
   "display_name": "datum",
   "language": "python",
   "name": "datum"
  },
  "language_info": {
   "codemirror_mode": {
    "name": "ipython",
    "version": 2
   },
   "file_extension": ".py",
   "mimetype": "text/x-python",
   "name": "python",
   "nbconvert_exporter": "python",
   "pygments_lexer": "ipython2",
   "version": "2.7.15"
  }
 },
 "nbformat": 4,
 "nbformat_minor": 4
}
