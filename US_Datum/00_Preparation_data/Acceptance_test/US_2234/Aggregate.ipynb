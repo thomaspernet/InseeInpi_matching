{
 "cells": [
  {
   "cell_type": "markdown",
   "metadata": {},
   "source": [
    "# Aggregate log\n",
    "\n",
    "## Query\n",
    "\n",
    "```\n",
    "SELECT \n",
    "COUNT(*) as total,\n",
    "COUNT(DISTINCT(siren)) as siren,\n",
    "COUNT(DISTINCT(id_etablissement)) as id_ets,\n",
    "COUNT(DISTINCT(nom_greffe)) as greffe,\n",
    "COUNT(DISTINCT(ville)) as ville,\n",
    "COUNT(DISTINCT(enseigne)) as enseigne,\n",
    "MIN(date_1) as date_min,\n",
    "MAX(date_1) as date_max\n",
    "FROM (SELECT *, Coalesce(\n",
    "         try(date_parse(file_timestamp, '%Y-%m-%d')),\n",
    "         try(date_parse(file_timestamp, '%Y-%m-%d %hh:%mm:%ss.SSS')),\n",
    "         try(date_parse(file_timestamp, '%Y-%m-%d %hh:%mm:%ss')),\n",
    "         try(cast(file_timestamp as timestamp))\n",
    "       )  as date_1\n",
    "      FROM ets_partiel_2019  \n",
    ") \n",
    "```"
   ]
  },
  {
   "cell_type": "code",
   "execution_count": 1,
   "metadata": {},
   "outputs": [],
   "source": [
    "import os, glob\n",
    "import pandas as pd"
   ]
  },
  {
   "cell_type": "code",
   "execution_count": 3,
   "metadata": {},
   "outputs": [
    {
     "name": "stdout",
     "output_type": "stream",
     "text": [
      "| origin   |   total |   siren |   id_ets |   greffe |   ville |   enseigne | date_min                | date_max                |\n",
      "|:---------|--------:|--------:|---------:|---------:|--------:|-----------:|:------------------------|:------------------------|\n",
      "| EVT 2019 |  651702 |  313426 |      633 |      135 |   26231 |      37406 | 2019-01-01 08:45:19.000 | 2019-12-31 20:21:17.000 |\n",
      "| EVT 2018 |  642834 |  281115 |      556 |      135 |   25072 |      29646 | 2018-01-01 20:15:23.000 | 2018-12-31 20:29:30.000 |\n",
      "| EVT 2017 |  336378 |  163846 |      451 |      134 |   19486 |      21277 | 2017-05-12 09:38:42.000 | 2017-12-30 10:09:01.000 |\n"
     ]
    }
   ],
   "source": [
    "path = os.getcwd()\n",
    "#index = pd.Series(['Initial', 'New 2019',\n",
    "#'New 2017', 'New 2018', 'Partiel 2018', 'Partiel 2019'], name = 'origin')\n",
    "index = pd.Series(['EVT 2019', 'EVT 2018',\n",
    "'EVT 2017'], name = 'origin')\n",
    "df = (pd.concat([\n",
    "pd.concat(\n",
    "map(pd.read_csv, glob.glob(os.path.join('', \"*.csv\")))\n",
    ").reset_index(drop = True),\n",
    "index], axis = 1)\n",
    ".set_index('origin')\n",
    ".sort_values(by ='total', ascending  = False)\n",
    ")\n",
    "print(df.to_markdown())"
   ]
  }
 ],
 "metadata": {
  "jupytext": {
   "formats": "ipynb,md"
  },
  "kernelspec": {
   "display_name": "Python 3",
   "language": "python",
   "name": "python3"
  },
  "language_info": {
   "codemirror_mode": {
    "name": "ipython",
    "version": 3
   },
   "file_extension": ".py",
   "mimetype": "text/x-python",
   "name": "python",
   "nbconvert_exporter": "python",
   "pygments_lexer": "ipython3",
   "version": "3.7.6"
  }
 },
 "nbformat": 4,
 "nbformat_minor": 4
}
