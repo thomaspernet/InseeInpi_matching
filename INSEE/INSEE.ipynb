{
 "cells": [
  {
   "cell_type": "markdown",
   "metadata": {},
   "source": [
    "# Donnée INSEE"
   ]
  },
  {
   "cell_type": "code",
   "execution_count": null,
   "metadata": {},
   "outputs": [],
   "source": [
    "import pandas as pd\n",
    "import os\n",
    "import zipfile \n",
    "import shutil\n",
    "import re"
   ]
  },
  {
   "cell_type": "markdown",
   "metadata": {},
   "source": [
    "## Stock"
   ]
  },
  {
   "cell_type": "code",
   "execution_count": null,
   "metadata": {},
   "outputs": [],
   "source": [
    "ul = r\"C:\\Users\\PERNETTH\\Documents\\Projects\\GitLab\\CreationDataBase\\INSEE\\Stock\\UL\\StockUniteLegale_utf8.zip\"\n",
    "ets = "
   ]
  },
  {
   "cell_type": "code",
   "execution_count": null,
   "metadata": {},
   "outputs": [],
   "source": [
    "def extractMoveInsee(path_zip):\n",
    "    \"\"\"\n",
    "    \"\"\"\n",
    "    #regex = r\"([^\\\\]+$)\"\n",
    "    #regex_path = r\"^(.*[\\\\\\/])\"\n",
    "    #matches = re.search(regex, ul)\n",
    "    matches = path_zip.rsplit('\\\\',1)\n",
    "    if matches:\n",
    "    \n",
    "        zipfilePath = (ul)\n",
    "        zip = zipfile.ZipFile(zipfilePath)\n",
    "        zip.extractall(\".\")\n",
    "        zip.close()\n",
    "        shutil.move(\"{}.csv\".format(matches[1].rsplit('.',1)[0]),\n",
    "                    matches[0])"
   ]
  },
  {
   "cell_type": "code",
   "execution_count": null,
   "metadata": {},
   "outputs": [],
   "source": [
    "extractMoveInsee(ul)"
   ]
  },
  {
   "cell_type": "code",
   "execution_count": null,
   "metadata": {},
   "outputs": [],
   "source": [
    "shutil.move(\"StockUniteLegale_utf8.csv\",\n",
    "                r\"C:\\Users\\PERNETTH\\Documents\\Projects\\GitLab\\CreationDataBase\\INSEE\\Stock\\UL\")"
   ]
  },
  {
   "cell_type": "code",
   "execution_count": null,
   "metadata": {},
   "outputs": [],
   "source": [
    "pd.read_csv(r'Stock\\UL\\StockUniteLegale_utf8.csv')"
   ]
  }
 ],
 "metadata": {
  "kernelspec": {
   "display_name": "Python 3",
   "language": "python",
   "name": "python3"
  },
  "language_info": {
   "codemirror_mode": {
    "name": "ipython",
    "version": 3
   },
   "file_extension": ".py",
   "mimetype": "text/x-python",
   "name": "python",
   "nbconvert_exporter": "python",
   "pygments_lexer": "ipython3",
   "version": "3.7.6"
  },
  "toc": {
   "base_numbering": 1,
   "nav_menu": {},
   "number_sections": true,
   "sideBar": true,
   "skip_h1_title": false,
   "title_cell": "Table of Contents",
   "title_sidebar": "Contents",
   "toc_cell": false,
   "toc_position": {},
   "toc_section_display": true,
   "toc_window_display": false
  }
 },
 "nbformat": 4,
 "nbformat_minor": 2
}
